{
 "cells": [
  {
   "cell_type": "code",
   "execution_count": 1,
   "metadata": {},
   "outputs": [],
   "source": [
    "import pandas as pd\n",
    "import numpy as np\n",
    "import seaborn as sns\n",
    "import matplotlib.pyplot as plt"
   ]
  },
  {
   "cell_type": "code",
   "execution_count": 2,
   "metadata": {},
   "outputs": [
    {
     "data": {
      "text/html": [
       "<div>\n",
       "<style scoped>\n",
       "    .dataframe tbody tr th:only-of-type {\n",
       "        vertical-align: middle;\n",
       "    }\n",
       "\n",
       "    .dataframe tbody tr th {\n",
       "        vertical-align: top;\n",
       "    }\n",
       "\n",
       "    .dataframe thead th {\n",
       "        text-align: right;\n",
       "    }\n",
       "</style>\n",
       "<table border=\"1\" class=\"dataframe\">\n",
       "  <thead>\n",
       "    <tr style=\"text-align: right;\">\n",
       "      <th></th>\n",
       "      <th>id</th>\n",
       "      <th>Sex</th>\n",
       "      <th>Length</th>\n",
       "      <th>Diameter</th>\n",
       "      <th>Height</th>\n",
       "      <th>Weight</th>\n",
       "      <th>Shucked Weight</th>\n",
       "      <th>Viscera Weight</th>\n",
       "      <th>Shell Weight</th>\n",
       "      <th>Age</th>\n",
       "    </tr>\n",
       "  </thead>\n",
       "  <tbody>\n",
       "    <tr>\n",
       "      <th>0</th>\n",
       "      <td>0</td>\n",
       "      <td>I</td>\n",
       "      <td>1.5250</td>\n",
       "      <td>1.1750</td>\n",
       "      <td>0.3750</td>\n",
       "      <td>28.973189</td>\n",
       "      <td>12.728926</td>\n",
       "      <td>6.647958</td>\n",
       "      <td>8.348928</td>\n",
       "      <td>9</td>\n",
       "    </tr>\n",
       "    <tr>\n",
       "      <th>1</th>\n",
       "      <td>1</td>\n",
       "      <td>I</td>\n",
       "      <td>1.1000</td>\n",
       "      <td>0.8250</td>\n",
       "      <td>0.2750</td>\n",
       "      <td>10.418441</td>\n",
       "      <td>4.521745</td>\n",
       "      <td>2.324659</td>\n",
       "      <td>3.401940</td>\n",
       "      <td>8</td>\n",
       "    </tr>\n",
       "    <tr>\n",
       "      <th>2</th>\n",
       "      <td>2</td>\n",
       "      <td>M</td>\n",
       "      <td>1.3875</td>\n",
       "      <td>1.1125</td>\n",
       "      <td>0.3750</td>\n",
       "      <td>24.777463</td>\n",
       "      <td>11.339800</td>\n",
       "      <td>5.556502</td>\n",
       "      <td>6.662133</td>\n",
       "      <td>9</td>\n",
       "    </tr>\n",
       "    <tr>\n",
       "      <th>3</th>\n",
       "      <td>3</td>\n",
       "      <td>F</td>\n",
       "      <td>1.7000</td>\n",
       "      <td>1.4125</td>\n",
       "      <td>0.5000</td>\n",
       "      <td>50.660556</td>\n",
       "      <td>20.354941</td>\n",
       "      <td>10.991839</td>\n",
       "      <td>14.996885</td>\n",
       "      <td>11</td>\n",
       "    </tr>\n",
       "    <tr>\n",
       "      <th>4</th>\n",
       "      <td>4</td>\n",
       "      <td>I</td>\n",
       "      <td>1.2500</td>\n",
       "      <td>1.0125</td>\n",
       "      <td>0.3375</td>\n",
       "      <td>23.289114</td>\n",
       "      <td>11.977664</td>\n",
       "      <td>4.507570</td>\n",
       "      <td>5.953395</td>\n",
       "      <td>8</td>\n",
       "    </tr>\n",
       "    <tr>\n",
       "      <th>5</th>\n",
       "      <td>5</td>\n",
       "      <td>M</td>\n",
       "      <td>1.5000</td>\n",
       "      <td>1.1750</td>\n",
       "      <td>0.4125</td>\n",
       "      <td>28.845616</td>\n",
       "      <td>13.409313</td>\n",
       "      <td>6.789705</td>\n",
       "      <td>7.937860</td>\n",
       "      <td>10</td>\n",
       "    </tr>\n",
       "    <tr>\n",
       "      <th>6</th>\n",
       "      <td>6</td>\n",
       "      <td>M</td>\n",
       "      <td>1.5750</td>\n",
       "      <td>1.1375</td>\n",
       "      <td>0.3500</td>\n",
       "      <td>30.022120</td>\n",
       "      <td>11.935140</td>\n",
       "      <td>7.342521</td>\n",
       "      <td>8.646598</td>\n",
       "      <td>11</td>\n",
       "    </tr>\n",
       "    <tr>\n",
       "      <th>7</th>\n",
       "      <td>7</td>\n",
       "      <td>I</td>\n",
       "      <td>1.3125</td>\n",
       "      <td>1.0250</td>\n",
       "      <td>0.3500</td>\n",
       "      <td>18.299602</td>\n",
       "      <td>8.249704</td>\n",
       "      <td>3.898056</td>\n",
       "      <td>5.669900</td>\n",
       "      <td>11</td>\n",
       "    </tr>\n",
       "    <tr>\n",
       "      <th>8</th>\n",
       "      <td>8</td>\n",
       "      <td>F</td>\n",
       "      <td>1.6000</td>\n",
       "      <td>1.2875</td>\n",
       "      <td>0.4375</td>\n",
       "      <td>38.824640</td>\n",
       "      <td>16.967176</td>\n",
       "      <td>7.413394</td>\n",
       "      <td>10.772810</td>\n",
       "      <td>12</td>\n",
       "    </tr>\n",
       "    <tr>\n",
       "      <th>9</th>\n",
       "      <td>9</td>\n",
       "      <td>M</td>\n",
       "      <td>1.0250</td>\n",
       "      <td>0.7625</td>\n",
       "      <td>0.2625</td>\n",
       "      <td>10.305043</td>\n",
       "      <td>4.493396</td>\n",
       "      <td>2.126212</td>\n",
       "      <td>2.976698</td>\n",
       "      <td>11</td>\n",
       "    </tr>\n",
       "  </tbody>\n",
       "</table>\n",
       "</div>"
      ],
      "text/plain": [
       "   id Sex  Length  Diameter  Height     Weight  Shucked Weight  \\\n",
       "0   0   I  1.5250    1.1750  0.3750  28.973189       12.728926   \n",
       "1   1   I  1.1000    0.8250  0.2750  10.418441        4.521745   \n",
       "2   2   M  1.3875    1.1125  0.3750  24.777463       11.339800   \n",
       "3   3   F  1.7000    1.4125  0.5000  50.660556       20.354941   \n",
       "4   4   I  1.2500    1.0125  0.3375  23.289114       11.977664   \n",
       "5   5   M  1.5000    1.1750  0.4125  28.845616       13.409313   \n",
       "6   6   M  1.5750    1.1375  0.3500  30.022120       11.935140   \n",
       "7   7   I  1.3125    1.0250  0.3500  18.299602        8.249704   \n",
       "8   8   F  1.6000    1.2875  0.4375  38.824640       16.967176   \n",
       "9   9   M  1.0250    0.7625  0.2625  10.305043        4.493396   \n",
       "\n",
       "   Viscera Weight  Shell Weight  Age  \n",
       "0        6.647958      8.348928    9  \n",
       "1        2.324659      3.401940    8  \n",
       "2        5.556502      6.662133    9  \n",
       "3       10.991839     14.996885   11  \n",
       "4        4.507570      5.953395    8  \n",
       "5        6.789705      7.937860   10  \n",
       "6        7.342521      8.646598   11  \n",
       "7        3.898056      5.669900   11  \n",
       "8        7.413394     10.772810   12  \n",
       "9        2.126212      2.976698   11  "
      ]
     },
     "execution_count": 2,
     "metadata": {},
     "output_type": "execute_result"
    }
   ],
   "source": [
    "# Load the train and test datasets\n",
    "df_train = pd.read_csv(\"train.csv\")\n",
    "df_test = pd.read_csv(\"test.csv\")\n",
    "\n",
    "df_train.head(10)"
   ]
  },
  {
   "cell_type": "code",
   "execution_count": 3,
   "metadata": {},
   "outputs": [],
   "source": [
    "# Drop the id column since we will not need it\n",
    "\n",
    "df_train = df_train.drop(\"id\", axis=1)\n",
    "df_test = df_test.drop(\"id\", axis=1)"
   ]
  },
  {
   "cell_type": "code",
   "execution_count": 4,
   "metadata": {},
   "outputs": [
    {
     "name": "stdout",
     "output_type": "stream",
     "text": [
      "<class 'pandas.core.frame.DataFrame'>\n",
      "RangeIndex: 74051 entries, 0 to 74050\n",
      "Data columns (total 9 columns):\n",
      " #   Column          Non-Null Count  Dtype  \n",
      "---  ------          --------------  -----  \n",
      " 0   Sex             74051 non-null  object \n",
      " 1   Length          74051 non-null  float64\n",
      " 2   Diameter        74051 non-null  float64\n",
      " 3   Height          74051 non-null  float64\n",
      " 4   Weight          74051 non-null  float64\n",
      " 5   Shucked Weight  74051 non-null  float64\n",
      " 6   Viscera Weight  74051 non-null  float64\n",
      " 7   Shell Weight    74051 non-null  float64\n",
      " 8   Age             74051 non-null  int64  \n",
      "dtypes: float64(7), int64(1), object(1)\n",
      "memory usage: 5.1+ MB\n"
     ]
    }
   ],
   "source": [
    "# Get info of the data\n",
    "\n",
    "df_train.info()"
   ]
  },
  {
   "cell_type": "code",
   "execution_count": 5,
   "metadata": {},
   "outputs": [
    {
     "name": "stdout",
     "output_type": "stream",
     "text": [
      "<class 'pandas.core.frame.DataFrame'>\n",
      "RangeIndex: 49369 entries, 0 to 49368\n",
      "Data columns (total 8 columns):\n",
      " #   Column          Non-Null Count  Dtype  \n",
      "---  ------          --------------  -----  \n",
      " 0   Sex             49369 non-null  object \n",
      " 1   Length          49369 non-null  float64\n",
      " 2   Diameter        49369 non-null  float64\n",
      " 3   Height          49369 non-null  float64\n",
      " 4   Weight          49369 non-null  float64\n",
      " 5   Shucked Weight  49369 non-null  float64\n",
      " 6   Viscera Weight  49369 non-null  float64\n",
      " 7   Shell Weight    49369 non-null  float64\n",
      "dtypes: float64(7), object(1)\n",
      "memory usage: 3.0+ MB\n"
     ]
    }
   ],
   "source": [
    "df_test.info()"
   ]
  },
  {
   "cell_type": "code",
   "execution_count": 6,
   "metadata": {},
   "outputs": [
    {
     "data": {
      "text/plain": [
       "Sex               0\n",
       "Length            0\n",
       "Diameter          0\n",
       "Height            0\n",
       "Weight            0\n",
       "Shucked Weight    0\n",
       "Viscera Weight    0\n",
       "Shell Weight      0\n",
       "Age               0\n",
       "dtype: int64"
      ]
     },
     "execution_count": 6,
     "metadata": {},
     "output_type": "execute_result"
    }
   ],
   "source": [
    "# Check for null columns in the data\n",
    "df_train.isna().sum()"
   ]
  },
  {
   "cell_type": "code",
   "execution_count": 7,
   "metadata": {},
   "outputs": [
    {
     "data": {
      "text/plain": [
       "Sex               0\n",
       "Length            0\n",
       "Diameter          0\n",
       "Height            0\n",
       "Weight            0\n",
       "Shucked Weight    0\n",
       "Viscera Weight    0\n",
       "Shell Weight      0\n",
       "dtype: int64"
      ]
     },
     "execution_count": 7,
     "metadata": {},
     "output_type": "execute_result"
    }
   ],
   "source": [
    "df_test.isna().sum()"
   ]
  },
  {
   "attachments": {},
   "cell_type": "markdown",
   "metadata": {},
   "source": [
    "1. Sex is an object and might need to be preprocessed to be used in the prediction\n",
    "2. There are no missing data in the both train and test datasets"
   ]
  },
  {
   "cell_type": "code",
   "execution_count": 8,
   "metadata": {},
   "outputs": [
    {
     "data": {
      "text/plain": [
       "array(['I', 'M', 'F'], dtype=object)"
      ]
     },
     "execution_count": 8,
     "metadata": {},
     "output_type": "execute_result"
    }
   ],
   "source": [
    "df_train[\"Sex\"].unique()"
   ]
  },
  {
   "cell_type": "code",
   "execution_count": 9,
   "metadata": {},
   "outputs": [
    {
     "data": {
      "text/plain": [
       "array(['I', 'F', 'M'], dtype=object)"
      ]
     },
     "execution_count": 9,
     "metadata": {},
     "output_type": "execute_result"
    }
   ],
   "source": [
    "df_test[\"Sex\"].unique()"
   ]
  },
  {
   "attachments": {},
   "cell_type": "markdown",
   "metadata": {},
   "source": [
    "The unique values for sex in both train and test are the same 3 which bodes well"
   ]
  },
  {
   "cell_type": "code",
   "execution_count": 10,
   "metadata": {},
   "outputs": [
    {
     "data": {
      "text/html": [
       "<div>\n",
       "<style scoped>\n",
       "    .dataframe tbody tr th:only-of-type {\n",
       "        vertical-align: middle;\n",
       "    }\n",
       "\n",
       "    .dataframe tbody tr th {\n",
       "        vertical-align: top;\n",
       "    }\n",
       "\n",
       "    .dataframe thead th {\n",
       "        text-align: right;\n",
       "    }\n",
       "</style>\n",
       "<table border=\"1\" class=\"dataframe\">\n",
       "  <thead>\n",
       "    <tr style=\"text-align: right;\">\n",
       "      <th></th>\n",
       "      <th>Length</th>\n",
       "      <th>Diameter</th>\n",
       "      <th>Height</th>\n",
       "      <th>Weight</th>\n",
       "      <th>Shucked Weight</th>\n",
       "      <th>Viscera Weight</th>\n",
       "      <th>Shell Weight</th>\n",
       "      <th>Age</th>\n",
       "    </tr>\n",
       "  </thead>\n",
       "  <tbody>\n",
       "    <tr>\n",
       "      <th>count</th>\n",
       "      <td>74051.000000</td>\n",
       "      <td>74051.000000</td>\n",
       "      <td>74051.000000</td>\n",
       "      <td>74051.000000</td>\n",
       "      <td>74051.000000</td>\n",
       "      <td>74051.000000</td>\n",
       "      <td>74051.000000</td>\n",
       "      <td>74051.000000</td>\n",
       "    </tr>\n",
       "    <tr>\n",
       "      <th>mean</th>\n",
       "      <td>1.317460</td>\n",
       "      <td>1.024496</td>\n",
       "      <td>0.348089</td>\n",
       "      <td>23.385217</td>\n",
       "      <td>10.104270</td>\n",
       "      <td>5.058386</td>\n",
       "      <td>6.723870</td>\n",
       "      <td>9.967806</td>\n",
       "    </tr>\n",
       "    <tr>\n",
       "      <th>std</th>\n",
       "      <td>0.287757</td>\n",
       "      <td>0.237396</td>\n",
       "      <td>0.092034</td>\n",
       "      <td>12.648153</td>\n",
       "      <td>5.618025</td>\n",
       "      <td>2.792729</td>\n",
       "      <td>3.584372</td>\n",
       "      <td>3.175189</td>\n",
       "    </tr>\n",
       "    <tr>\n",
       "      <th>min</th>\n",
       "      <td>0.187500</td>\n",
       "      <td>0.137500</td>\n",
       "      <td>0.000000</td>\n",
       "      <td>0.056699</td>\n",
       "      <td>0.028349</td>\n",
       "      <td>0.042524</td>\n",
       "      <td>0.042524</td>\n",
       "      <td>1.000000</td>\n",
       "    </tr>\n",
       "    <tr>\n",
       "      <th>1%</th>\n",
       "      <td>0.500000</td>\n",
       "      <td>0.362500</td>\n",
       "      <td>0.112500</td>\n",
       "      <td>1.020582</td>\n",
       "      <td>0.354369</td>\n",
       "      <td>0.226796</td>\n",
       "      <td>0.297670</td>\n",
       "      <td>4.000000</td>\n",
       "    </tr>\n",
       "    <tr>\n",
       "      <th>50%</th>\n",
       "      <td>1.375000</td>\n",
       "      <td>1.075000</td>\n",
       "      <td>0.362500</td>\n",
       "      <td>23.799405</td>\n",
       "      <td>9.908150</td>\n",
       "      <td>4.989512</td>\n",
       "      <td>6.931453</td>\n",
       "      <td>10.000000</td>\n",
       "    </tr>\n",
       "    <tr>\n",
       "      <th>99%</th>\n",
       "      <td>1.787500</td>\n",
       "      <td>1.412500</td>\n",
       "      <td>0.525000</td>\n",
       "      <td>53.438808</td>\n",
       "      <td>24.309696</td>\n",
       "      <td>11.793392</td>\n",
       "      <td>15.677274</td>\n",
       "      <td>20.000000</td>\n",
       "    </tr>\n",
       "    <tr>\n",
       "      <th>max</th>\n",
       "      <td>2.012815</td>\n",
       "      <td>1.612500</td>\n",
       "      <td>2.825000</td>\n",
       "      <td>80.101512</td>\n",
       "      <td>42.184056</td>\n",
       "      <td>21.545620</td>\n",
       "      <td>28.491248</td>\n",
       "      <td>29.000000</td>\n",
       "    </tr>\n",
       "  </tbody>\n",
       "</table>\n",
       "</div>"
      ],
      "text/plain": [
       "             Length      Diameter        Height        Weight  Shucked Weight  \\\n",
       "count  74051.000000  74051.000000  74051.000000  74051.000000    74051.000000   \n",
       "mean       1.317460      1.024496      0.348089     23.385217       10.104270   \n",
       "std        0.287757      0.237396      0.092034     12.648153        5.618025   \n",
       "min        0.187500      0.137500      0.000000      0.056699        0.028349   \n",
       "1%         0.500000      0.362500      0.112500      1.020582        0.354369   \n",
       "50%        1.375000      1.075000      0.362500     23.799405        9.908150   \n",
       "99%        1.787500      1.412500      0.525000     53.438808       24.309696   \n",
       "max        2.012815      1.612500      2.825000     80.101512       42.184056   \n",
       "\n",
       "       Viscera Weight  Shell Weight           Age  \n",
       "count    74051.000000  74051.000000  74051.000000  \n",
       "mean         5.058386      6.723870      9.967806  \n",
       "std          2.792729      3.584372      3.175189  \n",
       "min          0.042524      0.042524      1.000000  \n",
       "1%           0.226796      0.297670      4.000000  \n",
       "50%          4.989512      6.931453     10.000000  \n",
       "99%         11.793392     15.677274     20.000000  \n",
       "max         21.545620     28.491248     29.000000  "
      ]
     },
     "execution_count": 10,
     "metadata": {},
     "output_type": "execute_result"
    }
   ],
   "source": [
    "# Get data description to get a sense of if test and train are similar\n",
    "\n",
    "df_train.describe(percentiles=[0.01, 0.99])"
   ]
  },
  {
   "cell_type": "code",
   "execution_count": 11,
   "metadata": {},
   "outputs": [
    {
     "data": {
      "text/html": [
       "<div>\n",
       "<style scoped>\n",
       "    .dataframe tbody tr th:only-of-type {\n",
       "        vertical-align: middle;\n",
       "    }\n",
       "\n",
       "    .dataframe tbody tr th {\n",
       "        vertical-align: top;\n",
       "    }\n",
       "\n",
       "    .dataframe thead th {\n",
       "        text-align: right;\n",
       "    }\n",
       "</style>\n",
       "<table border=\"1\" class=\"dataframe\">\n",
       "  <thead>\n",
       "    <tr style=\"text-align: right;\">\n",
       "      <th></th>\n",
       "      <th>Length</th>\n",
       "      <th>Diameter</th>\n",
       "      <th>Height</th>\n",
       "      <th>Weight</th>\n",
       "      <th>Shucked Weight</th>\n",
       "      <th>Viscera Weight</th>\n",
       "      <th>Shell Weight</th>\n",
       "    </tr>\n",
       "  </thead>\n",
       "  <tbody>\n",
       "    <tr>\n",
       "      <th>count</th>\n",
       "      <td>49369.000000</td>\n",
       "      <td>49369.000000</td>\n",
       "      <td>49369.000000</td>\n",
       "      <td>49369.000000</td>\n",
       "      <td>49369.000000</td>\n",
       "      <td>49369.000000</td>\n",
       "      <td>49369.000000</td>\n",
       "    </tr>\n",
       "    <tr>\n",
       "      <th>mean</th>\n",
       "      <td>1.319799</td>\n",
       "      <td>1.026360</td>\n",
       "      <td>0.348693</td>\n",
       "      <td>23.464739</td>\n",
       "      <td>10.130272</td>\n",
       "      <td>5.072647</td>\n",
       "      <td>6.745908</td>\n",
       "    </tr>\n",
       "    <tr>\n",
       "      <th>std</th>\n",
       "      <td>0.286948</td>\n",
       "      <td>0.236591</td>\n",
       "      <td>0.092259</td>\n",
       "      <td>12.641600</td>\n",
       "      <td>5.611734</td>\n",
       "      <td>2.791544</td>\n",
       "      <td>3.575621</td>\n",
       "    </tr>\n",
       "    <tr>\n",
       "      <th>min</th>\n",
       "      <td>0.187500</td>\n",
       "      <td>0.137500</td>\n",
       "      <td>0.000000</td>\n",
       "      <td>0.056699</td>\n",
       "      <td>0.028349</td>\n",
       "      <td>0.014175</td>\n",
       "      <td>0.042524</td>\n",
       "    </tr>\n",
       "    <tr>\n",
       "      <th>1%</th>\n",
       "      <td>0.500000</td>\n",
       "      <td>0.362500</td>\n",
       "      <td>0.112500</td>\n",
       "      <td>1.048931</td>\n",
       "      <td>0.368544</td>\n",
       "      <td>0.226796</td>\n",
       "      <td>0.297670</td>\n",
       "    </tr>\n",
       "    <tr>\n",
       "      <th>50%</th>\n",
       "      <td>1.387500</td>\n",
       "      <td>1.075000</td>\n",
       "      <td>0.362500</td>\n",
       "      <td>23.813580</td>\n",
       "      <td>9.979024</td>\n",
       "      <td>4.989512</td>\n",
       "      <td>6.945627</td>\n",
       "    </tr>\n",
       "    <tr>\n",
       "      <th>99%</th>\n",
       "      <td>1.787500</td>\n",
       "      <td>1.412500</td>\n",
       "      <td>0.525000</td>\n",
       "      <td>53.438808</td>\n",
       "      <td>24.385106</td>\n",
       "      <td>11.850091</td>\n",
       "      <td>15.733973</td>\n",
       "    </tr>\n",
       "    <tr>\n",
       "      <th>max</th>\n",
       "      <td>2.037500</td>\n",
       "      <td>1.625000</td>\n",
       "      <td>2.825000</td>\n",
       "      <td>80.101512</td>\n",
       "      <td>42.184056</td>\n",
       "      <td>21.545620</td>\n",
       "      <td>28.491248</td>\n",
       "    </tr>\n",
       "  </tbody>\n",
       "</table>\n",
       "</div>"
      ],
      "text/plain": [
       "             Length      Diameter        Height        Weight  Shucked Weight  \\\n",
       "count  49369.000000  49369.000000  49369.000000  49369.000000    49369.000000   \n",
       "mean       1.319799      1.026360      0.348693     23.464739       10.130272   \n",
       "std        0.286948      0.236591      0.092259     12.641600        5.611734   \n",
       "min        0.187500      0.137500      0.000000      0.056699        0.028349   \n",
       "1%         0.500000      0.362500      0.112500      1.048931        0.368544   \n",
       "50%        1.387500      1.075000      0.362500     23.813580        9.979024   \n",
       "99%        1.787500      1.412500      0.525000     53.438808       24.385106   \n",
       "max        2.037500      1.625000      2.825000     80.101512       42.184056   \n",
       "\n",
       "       Viscera Weight  Shell Weight  \n",
       "count    49369.000000  49369.000000  \n",
       "mean         5.072647      6.745908  \n",
       "std          2.791544      3.575621  \n",
       "min          0.014175      0.042524  \n",
       "1%           0.226796      0.297670  \n",
       "50%          4.989512      6.945627  \n",
       "99%         11.850091     15.733973  \n",
       "max         21.545620     28.491248  "
      ]
     },
     "execution_count": 11,
     "metadata": {},
     "output_type": "execute_result"
    }
   ],
   "source": [
    "df_test.describe(percentiles=[0.01, 0.99])"
   ]
  },
  {
   "attachments": {},
   "cell_type": "markdown",
   "metadata": {},
   "source": [
    "It is possible height, weight, shucked weight, viscera weight and shell weight have outliers because the 99% percentile value is 50-75% lower than the max value.\n",
    "\n",
    "Data visualization of these columns will help understand the data better\n",
    "\n",
    "Positives\n",
    "1. The mean and standard deviations of both train and test are similar\n",
    "2. The min and max values are similar, identical in most features which bodes well for the modelling\n",
    "3. The 1% percentile values are similar so if there are truly outliers it is at the upper bound of the data"
   ]
  },
  {
   "cell_type": "code",
   "execution_count": 12,
   "metadata": {},
   "outputs": [
    {
     "data": {
      "text/plain": [
       "Sex                  3\n",
       "Length             144\n",
       "Diameter           122\n",
       "Height              65\n",
       "Weight            3096\n",
       "Shucked Weight    1766\n",
       "Viscera Weight     967\n",
       "Shell Weight      1048\n",
       "Age                 28\n",
       "dtype: int64"
      ]
     },
     "execution_count": 12,
     "metadata": {},
     "output_type": "execute_result"
    }
   ],
   "source": [
    "# Check how many unique values each feature and the target have\n",
    "\n",
    "df_train.nunique()"
   ]
  },
  {
   "cell_type": "code",
   "execution_count": 13,
   "metadata": {},
   "outputs": [
    {
     "data": {
      "text/plain": [
       "Sex                  3\n",
       "Length             140\n",
       "Diameter           122\n",
       "Height              57\n",
       "Weight            2948\n",
       "Shucked Weight    1692\n",
       "Viscera Weight     938\n",
       "Shell Weight       987\n",
       "dtype: int64"
      ]
     },
     "execution_count": 13,
     "metadata": {},
     "output_type": "execute_result"
    }
   ],
   "source": [
    "df_test.nunique()"
   ]
  },
  {
   "cell_type": "code",
   "execution_count": 14,
   "metadata": {},
   "outputs": [
    {
     "data": {
      "text/plain": [
       "Sex               0.004051\n",
       "Length            0.194461\n",
       "Diameter          0.164751\n",
       "Height            0.087777\n",
       "Weight            4.180902\n",
       "Shucked Weight    2.384843\n",
       "Viscera Weight    1.305857\n",
       "Shell Weight      1.415241\n",
       "Age               0.037812\n",
       "dtype: float64"
      ]
     },
     "execution_count": 14,
     "metadata": {},
     "output_type": "execute_result"
    }
   ],
   "source": [
    "# Find the percentage of unique out the total data. The lower the more categorical the column might be\n",
    "\n",
    "unique_percent_train = (df_train.nunique() / len(df_train)) * 100\n",
    "unique_percent_train"
   ]
  },
  {
   "cell_type": "code",
   "execution_count": 15,
   "metadata": {},
   "outputs": [
    {
     "data": {
      "text/html": [
       "<div>\n",
       "<style scoped>\n",
       "    .dataframe tbody tr th:only-of-type {\n",
       "        vertical-align: middle;\n",
       "    }\n",
       "\n",
       "    .dataframe tbody tr th {\n",
       "        vertical-align: top;\n",
       "    }\n",
       "\n",
       "    .dataframe thead th {\n",
       "        text-align: right;\n",
       "    }\n",
       "</style>\n",
       "<table border=\"1\" class=\"dataframe\">\n",
       "  <thead>\n",
       "    <tr style=\"text-align: right;\">\n",
       "      <th></th>\n",
       "      <th>Sex</th>\n",
       "      <th>Length</th>\n",
       "      <th>Diameter</th>\n",
       "      <th>Height</th>\n",
       "      <th>Weight</th>\n",
       "      <th>Shucked Weight</th>\n",
       "      <th>Viscera Weight</th>\n",
       "      <th>Shell Weight</th>\n",
       "      <th>Age</th>\n",
       "    </tr>\n",
       "  </thead>\n",
       "  <tbody>\n",
       "  </tbody>\n",
       "</table>\n",
       "</div>"
      ],
      "text/plain": [
       "Empty DataFrame\n",
       "Columns: [Sex, Length, Diameter, Height, Weight, Shucked Weight, Viscera Weight, Shell Weight, Age]\n",
       "Index: []"
      ]
     },
     "execution_count": 15,
     "metadata": {},
     "output_type": "execute_result"
    }
   ],
   "source": [
    "# Are there identical rows\n",
    "df_train.loc[df_train.duplicated()]"
   ]
  },
  {
   "cell_type": "code",
   "execution_count": 16,
   "metadata": {},
   "outputs": [
    {
     "data": {
      "text/html": [
       "<div>\n",
       "<style scoped>\n",
       "    .dataframe tbody tr th:only-of-type {\n",
       "        vertical-align: middle;\n",
       "    }\n",
       "\n",
       "    .dataframe tbody tr th {\n",
       "        vertical-align: top;\n",
       "    }\n",
       "\n",
       "    .dataframe thead th {\n",
       "        text-align: right;\n",
       "    }\n",
       "</style>\n",
       "<table border=\"1\" class=\"dataframe\">\n",
       "  <thead>\n",
       "    <tr style=\"text-align: right;\">\n",
       "      <th></th>\n",
       "      <th>Sex</th>\n",
       "      <th>Length</th>\n",
       "      <th>Diameter</th>\n",
       "      <th>Height</th>\n",
       "      <th>Weight</th>\n",
       "      <th>Shucked Weight</th>\n",
       "      <th>Viscera Weight</th>\n",
       "      <th>Shell Weight</th>\n",
       "    </tr>\n",
       "  </thead>\n",
       "  <tbody>\n",
       "  </tbody>\n",
       "</table>\n",
       "</div>"
      ],
      "text/plain": [
       "Empty DataFrame\n",
       "Columns: [Sex, Length, Diameter, Height, Weight, Shucked Weight, Viscera Weight, Shell Weight]\n",
       "Index: []"
      ]
     },
     "execution_count": 16,
     "metadata": {},
     "output_type": "execute_result"
    }
   ],
   "source": [
    "df_test.loc[df_test.duplicated()]"
   ]
  },
  {
   "cell_type": "code",
   "execution_count": 17,
   "metadata": {},
   "outputs": [
    {
     "data": {
      "text/html": [
       "<div>\n",
       "<style scoped>\n",
       "    .dataframe tbody tr th:only-of-type {\n",
       "        vertical-align: middle;\n",
       "    }\n",
       "\n",
       "    .dataframe tbody tr th {\n",
       "        vertical-align: top;\n",
       "    }\n",
       "\n",
       "    .dataframe thead th {\n",
       "        text-align: right;\n",
       "    }\n",
       "</style>\n",
       "<table border=\"1\" class=\"dataframe\">\n",
       "  <thead>\n",
       "    <tr style=\"text-align: right;\">\n",
       "      <th></th>\n",
       "      <th>Sex</th>\n",
       "      <th>Length</th>\n",
       "      <th>Diameter</th>\n",
       "      <th>Height</th>\n",
       "      <th>Weight</th>\n",
       "      <th>Shucked Weight</th>\n",
       "      <th>Viscera Weight</th>\n",
       "      <th>Shell Weight</th>\n",
       "    </tr>\n",
       "  </thead>\n",
       "  <tbody>\n",
       "    <tr>\n",
       "      <th>49368</th>\n",
       "      <td>I</td>\n",
       "      <td>1.525</td>\n",
       "      <td>1.175</td>\n",
       "      <td>0.375</td>\n",
       "      <td>28.973189</td>\n",
       "      <td>12.728926</td>\n",
       "      <td>6.647958</td>\n",
       "      <td>8.348928</td>\n",
       "    </tr>\n",
       "  </tbody>\n",
       "</table>\n",
       "</div>"
      ],
      "text/plain": [
       "      Sex  Length  Diameter  Height     Weight  Shucked Weight  \\\n",
       "49368   I   1.525     1.175   0.375  28.973189       12.728926   \n",
       "\n",
       "       Viscera Weight  Shell Weight  \n",
       "49368        6.647958      8.348928  "
      ]
     },
     "execution_count": 17,
     "metadata": {},
     "output_type": "execute_result"
    }
   ],
   "source": [
    "# Combine train and test, drop the target column and get if there is any duplicated row\n",
    "df = pd.concat([df_train, df_test])\n",
    "df = df.drop(\"Age\", axis=1)\n",
    "df.loc[df.duplicated()]"
   ]
  },
  {
   "attachments": {},
   "cell_type": "markdown",
   "metadata": {},
   "source": []
  },
  {
   "cell_type": "code",
   "execution_count": null,
   "metadata": {},
   "outputs": [],
   "source": []
  }
 ],
 "metadata": {
  "kernelspec": {
   "display_name": "Python 3",
   "language": "python",
   "name": "python3"
  },
  "language_info": {
   "codemirror_mode": {
    "name": "ipython",
    "version": 3
   },
   "file_extension": ".py",
   "mimetype": "text/x-python",
   "name": "python",
   "nbconvert_exporter": "python",
   "pygments_lexer": "ipython3",
   "version": "3.10.2"
  },
  "orig_nbformat": 4
 },
 "nbformat": 4,
 "nbformat_minor": 2
}
