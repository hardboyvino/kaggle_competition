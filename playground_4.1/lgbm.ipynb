{
 "cells": [
  {
   "cell_type": "code",
   "execution_count": 1,
   "metadata": {},
   "outputs": [],
   "source": [
    "import warnings\n",
    "warnings.filterwarnings('ignore')\n",
    "\n",
    "import matplotlib.pyplot as plt; plt.style.use('ggplot')\n",
    "import seaborn as sns\n",
    "import plotly.express as px\n",
    "import pandas as pd\n",
    "import numpy as np\n",
    "import time\n",
    "import random\n",
    "from itertools import combinations\n",
    "from tqdm.notebook import tqdm\n",
    "import optuna\n",
    "import math\n",
    "\n",
    "from sklearn.preprocessing import OneHotEncoder, StandardScaler\n",
    "from sklearn.compose import make_column_transformer\n",
    "from sklearn.metrics import make_scorer, roc_auc_score\n",
    "from sklearn.model_selection import StratifiedKFold, cross_validate, RandomizedSearchCV\n",
    "from sklearn.inspection import permutation_importance, PartialDependenceDisplay\n",
    "from sklearn.feature_selection import RFECV, mutual_info_classif\n",
    "\n",
    "from mlxtend.feature_selection import SequentialFeatureSelector as SFS\n",
    "from concurrent.futures import ThreadPoolExecutor\n",
    "from category_encoders import TargetEncoder\n",
    "\n",
    "from lightgbm import LGBMClassifier\n",
    "\n",
    "from pprint import pprint\n",
    "import os\n",
    "\n",
    "pd.set_option('display.max_columns', None)\n",
    "\n",
    "experiment_name = 'lgbm'"
   ]
  },
  {
   "cell_type": "code",
   "execution_count": 2,
   "metadata": {},
   "outputs": [
    {
     "data": {
      "text/html": [
       "<div>\n",
       "<style scoped>\n",
       "    .dataframe tbody tr th:only-of-type {\n",
       "        vertical-align: middle;\n",
       "    }\n",
       "\n",
       "    .dataframe tbody tr th {\n",
       "        vertical-align: top;\n",
       "    }\n",
       "\n",
       "    .dataframe thead th {\n",
       "        text-align: right;\n",
       "    }\n",
       "</style>\n",
       "<table border=\"1\" class=\"dataframe\">\n",
       "  <thead>\n",
       "    <tr style=\"text-align: right;\">\n",
       "      <th></th>\n",
       "      <th>id</th>\n",
       "      <th>CustomerId</th>\n",
       "      <th>Surname</th>\n",
       "      <th>CreditScore</th>\n",
       "      <th>Geography</th>\n",
       "      <th>Gender</th>\n",
       "      <th>Age</th>\n",
       "      <th>Tenure</th>\n",
       "      <th>Balance</th>\n",
       "      <th>NumOfProducts</th>\n",
       "      <th>HasCrCard</th>\n",
       "      <th>IsActiveMember</th>\n",
       "      <th>EstimatedSalary</th>\n",
       "      <th>Exited</th>\n",
       "    </tr>\n",
       "  </thead>\n",
       "  <tbody>\n",
       "    <tr>\n",
       "      <th>0</th>\n",
       "      <td>0</td>\n",
       "      <td>15674932</td>\n",
       "      <td>Okwudilichukwu</td>\n",
       "      <td>668</td>\n",
       "      <td>France</td>\n",
       "      <td>Male</td>\n",
       "      <td>33.0</td>\n",
       "      <td>3</td>\n",
       "      <td>0.0</td>\n",
       "      <td>2</td>\n",
       "      <td>1.0</td>\n",
       "      <td>0.0</td>\n",
       "      <td>181449.97</td>\n",
       "      <td>0</td>\n",
       "    </tr>\n",
       "    <tr>\n",
       "      <th>1</th>\n",
       "      <td>1</td>\n",
       "      <td>15749177</td>\n",
       "      <td>Okwudiliolisa</td>\n",
       "      <td>627</td>\n",
       "      <td>France</td>\n",
       "      <td>Male</td>\n",
       "      <td>33.0</td>\n",
       "      <td>1</td>\n",
       "      <td>0.0</td>\n",
       "      <td>2</td>\n",
       "      <td>1.0</td>\n",
       "      <td>1.0</td>\n",
       "      <td>49503.50</td>\n",
       "      <td>0</td>\n",
       "    </tr>\n",
       "  </tbody>\n",
       "</table>\n",
       "</div>"
      ],
      "text/plain": [
       "   id  CustomerId         Surname  CreditScore Geography Gender   Age  Tenure  \\\n",
       "0   0    15674932  Okwudilichukwu          668    France   Male  33.0       3   \n",
       "1   1    15749177   Okwudiliolisa          627    France   Male  33.0       1   \n",
       "\n",
       "   Balance  NumOfProducts  HasCrCard  IsActiveMember  EstimatedSalary  Exited  \n",
       "0      0.0              2        1.0             0.0        181449.97       0  \n",
       "1      0.0              2        1.0             1.0         49503.50       0  "
      ]
     },
     "execution_count": 2,
     "metadata": {},
     "output_type": "execute_result"
    }
   ],
   "source": [
    "train = pd.read_csv(r'.\\train.csv')\n",
    "test = pd.read_csv(r'.\\test.csv')\n",
    "\n",
    "train.head(2)"
   ]
  },
  {
   "cell_type": "code",
   "execution_count": 3,
   "metadata": {},
   "outputs": [
    {
     "data": {
      "text/html": [
       "<div>\n",
       "<style scoped>\n",
       "    .dataframe tbody tr th:only-of-type {\n",
       "        vertical-align: middle;\n",
       "    }\n",
       "\n",
       "    .dataframe tbody tr th {\n",
       "        vertical-align: top;\n",
       "    }\n",
       "\n",
       "    .dataframe thead th {\n",
       "        text-align: right;\n",
       "    }\n",
       "</style>\n",
       "<table border=\"1\" class=\"dataframe\">\n",
       "  <thead>\n",
       "    <tr style=\"text-align: right;\">\n",
       "      <th></th>\n",
       "      <th>id</th>\n",
       "      <th>CustomerId</th>\n",
       "      <th>Surname</th>\n",
       "      <th>CreditScore</th>\n",
       "      <th>Geography</th>\n",
       "      <th>Gender</th>\n",
       "      <th>Age</th>\n",
       "      <th>Tenure</th>\n",
       "      <th>Balance</th>\n",
       "      <th>NumOfProducts</th>\n",
       "      <th>HasCrCard</th>\n",
       "      <th>IsActiveMember</th>\n",
       "      <th>EstimatedSalary</th>\n",
       "      <th>Exited</th>\n",
       "    </tr>\n",
       "  </thead>\n",
       "  <tbody>\n",
       "    <tr>\n",
       "      <th>165032</th>\n",
       "      <td>165032</td>\n",
       "      <td>15689614</td>\n",
       "      <td>Hsiung</td>\n",
       "      <td>554</td>\n",
       "      <td>Spain</td>\n",
       "      <td>Female</td>\n",
       "      <td>30.0</td>\n",
       "      <td>7</td>\n",
       "      <td>161533.0</td>\n",
       "      <td>1</td>\n",
       "      <td>0.0</td>\n",
       "      <td>1.0</td>\n",
       "      <td>71173.03</td>\n",
       "      <td>0</td>\n",
       "    </tr>\n",
       "    <tr>\n",
       "      <th>165033</th>\n",
       "      <td>165033</td>\n",
       "      <td>15732798</td>\n",
       "      <td>Ulyanov</td>\n",
       "      <td>850</td>\n",
       "      <td>France</td>\n",
       "      <td>Male</td>\n",
       "      <td>31.0</td>\n",
       "      <td>1</td>\n",
       "      <td>0.0</td>\n",
       "      <td>1</td>\n",
       "      <td>1.0</td>\n",
       "      <td>0.0</td>\n",
       "      <td>61581.79</td>\n",
       "      <td>1</td>\n",
       "    </tr>\n",
       "  </tbody>\n",
       "</table>\n",
       "</div>"
      ],
      "text/plain": [
       "            id  CustomerId  Surname  CreditScore Geography  Gender   Age  \\\n",
       "165032  165032    15689614   Hsiung          554     Spain  Female  30.0   \n",
       "165033  165033    15732798  Ulyanov          850    France    Male  31.0   \n",
       "\n",
       "        Tenure   Balance  NumOfProducts  HasCrCard  IsActiveMember  \\\n",
       "165032       7  161533.0              1        0.0             1.0   \n",
       "165033       1       0.0              1        1.0             0.0   \n",
       "\n",
       "        EstimatedSalary  Exited  \n",
       "165032         71173.03       0  \n",
       "165033         61581.79       1  "
      ]
     },
     "execution_count": 3,
     "metadata": {},
     "output_type": "execute_result"
    }
   ],
   "source": [
    "train.tail(2)"
   ]
  },
  {
   "cell_type": "code",
   "execution_count": 4,
   "metadata": {},
   "outputs": [
    {
     "data": {
      "text/plain": [
       "Index([], dtype='object')"
      ]
     },
     "execution_count": 4,
     "metadata": {},
     "output_type": "execute_result"
    }
   ],
   "source": [
    "# Columns with missing values\n",
    "train.columns[train.isna().any()]"
   ]
  },
  {
   "cell_type": "code",
   "execution_count": 5,
   "metadata": {},
   "outputs": [],
   "source": [
    "TARGET = 'Exited'\n",
    "binary_cols = ['Gender', 'HasCrCard', 'IsActiveMember']\n",
    "categorical_cols = ['Geography', 'NumOfProducts']\n",
    "text_cols = ['Surname']\n",
    "drop_cols = ['id']"
   ]
  },
  {
   "cell_type": "code",
   "execution_count": 6,
   "metadata": {},
   "outputs": [
    {
     "data": {
      "text/plain": [
       "Index(['CustomerId', 'CreditScore', 'Age', 'Tenure', 'Balance',\n",
       "       'EstimatedSalary'],\n",
       "      dtype='object')"
      ]
     },
     "execution_count": 6,
     "metadata": {},
     "output_type": "execute_result"
    }
   ],
   "source": [
    "numerical_cols = train.drop(categorical_cols + binary_cols + drop_cols + [TARGET], axis=1).select_dtypes(include=np.number).columns\n",
    "numerical_cols"
   ]
  },
  {
   "cell_type": "markdown",
   "metadata": {},
   "source": [
    "# Preprocess Data"
   ]
  },
  {
   "cell_type": "code",
   "execution_count": 7,
   "metadata": {},
   "outputs": [
    {
     "data": {
      "text/html": [
       "<div>\n",
       "<style scoped>\n",
       "    .dataframe tbody tr th:only-of-type {\n",
       "        vertical-align: middle;\n",
       "    }\n",
       "\n",
       "    .dataframe tbody tr th {\n",
       "        vertical-align: top;\n",
       "    }\n",
       "\n",
       "    .dataframe thead th {\n",
       "        text-align: right;\n",
       "    }\n",
       "</style>\n",
       "<table border=\"1\" class=\"dataframe\">\n",
       "  <thead>\n",
       "    <tr style=\"text-align: right;\">\n",
       "      <th></th>\n",
       "      <th>Gender_Male</th>\n",
       "      <th>HasCrCard_1.0</th>\n",
       "      <th>IsActiveMember_1.0</th>\n",
       "      <th>Geography_France</th>\n",
       "      <th>Geography_Germany</th>\n",
       "      <th>Geography_Spain</th>\n",
       "      <th>NumOfProducts_1</th>\n",
       "      <th>NumOfProducts_2</th>\n",
       "      <th>NumOfProducts_3</th>\n",
       "      <th>NumOfProducts_4</th>\n",
       "      <th>Surname</th>\n",
       "      <th>CustomerId</th>\n",
       "      <th>CreditScore</th>\n",
       "      <th>Age</th>\n",
       "      <th>Tenure</th>\n",
       "      <th>Balance</th>\n",
       "      <th>EstimatedSalary</th>\n",
       "    </tr>\n",
       "  </thead>\n",
       "  <tbody>\n",
       "    <tr>\n",
       "      <th>130744</th>\n",
       "      <td>0.0</td>\n",
       "      <td>1.0</td>\n",
       "      <td>0.0</td>\n",
       "      <td>0.0</td>\n",
       "      <td>1.0</td>\n",
       "      <td>0.0</td>\n",
       "      <td>1.0</td>\n",
       "      <td>0.0</td>\n",
       "      <td>0.0</td>\n",
       "      <td>0.0</td>\n",
       "      <td>0.5</td>\n",
       "      <td>1.471478</td>\n",
       "      <td>0.718395</td>\n",
       "      <td>-1.480278</td>\n",
       "      <td>-0.363613</td>\n",
       "      <td>0.56657</td>\n",
       "      <td>0.405717</td>\n",
       "    </tr>\n",
       "  </tbody>\n",
       "</table>\n",
       "</div>"
      ],
      "text/plain": [
       "        Gender_Male  HasCrCard_1.0  IsActiveMember_1.0  Geography_France  \\\n",
       "130744          0.0            1.0                 0.0               0.0   \n",
       "\n",
       "        Geography_Germany  Geography_Spain  NumOfProducts_1  NumOfProducts_2  \\\n",
       "130744                1.0              0.0              1.0              0.0   \n",
       "\n",
       "        NumOfProducts_3  NumOfProducts_4  Surname  CustomerId  CreditScore  \\\n",
       "130744              0.0              0.0      0.5    1.471478     0.718395   \n",
       "\n",
       "             Age    Tenure  Balance  EstimatedSalary  \n",
       "130744 -1.480278 -0.363613  0.56657         0.405717  "
      ]
     },
     "execution_count": 7,
     "metadata": {},
     "output_type": "execute_result"
    }
   ],
   "source": [
    "transformer = make_column_transformer(\n",
    "    (OneHotEncoder(sparse=False, handle_unknown='infrequent_if_exist', drop='if_binary'), binary_cols),\n",
    "    (OneHotEncoder(sparse=False, handle_unknown='infrequent_if_exist'), categorical_cols),\n",
    "    (TargetEncoder(), text_cols),\n",
    "    (StandardScaler(), numerical_cols),\n",
    "    remainder='passthrough')\n",
    "\n",
    "df_to_ohe = train.drop(drop_cols, axis=1)\n",
    "test_ohe = test.drop('id', axis=1)\n",
    "\n",
    "# transformed = transformer.fit_transform(df_to_ohe)\n",
    "\n",
    "# Split the features and the target variable\n",
    "X = df_to_ohe.drop(TARGET, axis=1)\n",
    "y = df_to_ohe[TARGET]\n",
    "\n",
    "# Fit the transformer\n",
    "transformer.fit(X, y)\n",
    "\n",
    "transformed = transformer.transform(X)\n",
    "\n",
    "# Get the transformed feature names\n",
    "transformed_feat_names = [name.split('__')[-1] for name in transformer.get_feature_names_out()]\n",
    "\n",
    "# Create DataFrame of the transformed features\n",
    "df_to_ohe_transformed = pd.DataFrame(transformed, columns=transformed_feat_names)\n",
    "df_to_ohe_transformed.sample()"
   ]
  },
  {
   "cell_type": "code",
   "execution_count": 8,
   "metadata": {},
   "outputs": [
    {
     "data": {
      "text/html": [
       "<div>\n",
       "<style scoped>\n",
       "    .dataframe tbody tr th:only-of-type {\n",
       "        vertical-align: middle;\n",
       "    }\n",
       "\n",
       "    .dataframe tbody tr th {\n",
       "        vertical-align: top;\n",
       "    }\n",
       "\n",
       "    .dataframe thead th {\n",
       "        text-align: right;\n",
       "    }\n",
       "</style>\n",
       "<table border=\"1\" class=\"dataframe\">\n",
       "  <thead>\n",
       "    <tr style=\"text-align: right;\">\n",
       "      <th></th>\n",
       "      <th>Gender_Male</th>\n",
       "      <th>HasCrCard_1.0</th>\n",
       "      <th>IsActiveMember_1.0</th>\n",
       "      <th>Geography_France</th>\n",
       "      <th>Geography_Germany</th>\n",
       "      <th>Geography_Spain</th>\n",
       "      <th>NumOfProducts_1</th>\n",
       "      <th>NumOfProducts_2</th>\n",
       "      <th>NumOfProducts_3</th>\n",
       "      <th>NumOfProducts_4</th>\n",
       "      <th>Surname</th>\n",
       "      <th>CustomerId</th>\n",
       "      <th>CreditScore</th>\n",
       "      <th>Age</th>\n",
       "      <th>Tenure</th>\n",
       "      <th>Balance</th>\n",
       "      <th>EstimatedSalary</th>\n",
       "    </tr>\n",
       "  </thead>\n",
       "  <tbody>\n",
       "    <tr>\n",
       "      <th>77280</th>\n",
       "      <td>1.0</td>\n",
       "      <td>0.0</td>\n",
       "      <td>1.0</td>\n",
       "      <td>0.0</td>\n",
       "      <td>1.0</td>\n",
       "      <td>0.0</td>\n",
       "      <td>1.0</td>\n",
       "      <td>0.0</td>\n",
       "      <td>0.0</td>\n",
       "      <td>0.0</td>\n",
       "      <td>0.153894</td>\n",
       "      <td>0.968436</td>\n",
       "      <td>-0.367706</td>\n",
       "      <td>-0.014197</td>\n",
       "      <td>1.061827</td>\n",
       "      <td>1.424393</td>\n",
       "      <td>-1.287318</td>\n",
       "    </tr>\n",
       "  </tbody>\n",
       "</table>\n",
       "</div>"
      ],
      "text/plain": [
       "       Gender_Male  HasCrCard_1.0  IsActiveMember_1.0  Geography_France  \\\n",
       "77280          1.0            0.0                 1.0               0.0   \n",
       "\n",
       "       Geography_Germany  Geography_Spain  NumOfProducts_1  NumOfProducts_2  \\\n",
       "77280                1.0              0.0              1.0              0.0   \n",
       "\n",
       "       NumOfProducts_3  NumOfProducts_4   Surname  CustomerId  CreditScore  \\\n",
       "77280              0.0              0.0  0.153894    0.968436    -0.367706   \n",
       "\n",
       "            Age    Tenure   Balance  EstimatedSalary  \n",
       "77280 -0.014197  1.061827  1.424393        -1.287318  "
      ]
     },
     "execution_count": 8,
     "metadata": {},
     "output_type": "execute_result"
    }
   ],
   "source": [
    "transformed_new_data = transformer.transform(test_ohe)\n",
    "\n",
    "# Create DataFrame of the transformed features\n",
    "test_transformed = pd.DataFrame(transformed_new_data, columns=transformed_feat_names)\n",
    "test_transformed.sample()"
   ]
  },
  {
   "cell_type": "code",
   "execution_count": 9,
   "metadata": {},
   "outputs": [
    {
     "name": "stdout",
     "output_type": "stream",
     "text": [
      "Gender_Male has 2 unique values\n",
      "HasCrCard_1.0 has 2 unique values\n",
      "IsActiveMember_1.0 has 2 unique values\n",
      "Geography_France has 2 unique values\n",
      "Geography_Germany has 2 unique values\n",
      "Geography_Spain has 2 unique values\n",
      "NumOfProducts_1 has 2 unique values\n",
      "NumOfProducts_2 has 2 unique values\n",
      "NumOfProducts_3 has 2 unique values\n",
      "NumOfProducts_4 has 2 unique values\n",
      "Surname has 858 unique values\n",
      "CustomerId has 23221 unique values\n",
      "CreditScore has 457 unique values\n",
      "Age has 71 unique values\n",
      "Tenure has 11 unique values\n",
      "Balance has 30075 unique values\n",
      "EstimatedSalary has 55298 unique values\n"
     ]
    },
    {
     "data": {
      "text/plain": [
       "(7, 10, 0)"
      ]
     },
     "execution_count": 9,
     "metadata": {},
     "output_type": "execute_result"
    }
   ],
   "source": [
    "encoded_binary_cols = []\n",
    "encoded_categorical_cols = []\n",
    "\n",
    "# Loop through every column columns to separate binary and categorical\n",
    "for col in df_to_ohe_transformed.columns:\n",
    "    unique_values = df_to_ohe_transformed[col].nunique(dropna=False)\n",
    "    print(f'{col} has {unique_values} unique values')\n",
    "    if unique_values == 2:\n",
    "        encoded_binary_cols.append(col)\n",
    "    elif unique_values > 2 and unique_values < 10:\n",
    "        encoded_categorical_cols.append(col)\n",
    "\n",
    "encoded_numerical_cols = list(df_to_ohe_transformed.drop(encoded_binary_cols, axis=1).select_dtypes(include=np.number).columns)\n",
    "len(encoded_numerical_cols), len(encoded_binary_cols), len(encoded_categorical_cols)"
   ]
  },
  {
   "cell_type": "code",
   "execution_count": 10,
   "metadata": {},
   "outputs": [
    {
     "data": {
      "text/html": [
       "<div>\n",
       "<style scoped>\n",
       "    .dataframe tbody tr th:only-of-type {\n",
       "        vertical-align: middle;\n",
       "    }\n",
       "\n",
       "    .dataframe tbody tr th {\n",
       "        vertical-align: top;\n",
       "    }\n",
       "\n",
       "    .dataframe thead th {\n",
       "        text-align: right;\n",
       "    }\n",
       "</style>\n",
       "<table border=\"1\" class=\"dataframe\">\n",
       "  <thead>\n",
       "    <tr style=\"text-align: right;\">\n",
       "      <th></th>\n",
       "      <th>Gender_Male</th>\n",
       "      <th>HasCrCard_1.0</th>\n",
       "      <th>IsActiveMember_1.0</th>\n",
       "      <th>Geography_France</th>\n",
       "      <th>Geography_Germany</th>\n",
       "      <th>Geography_Spain</th>\n",
       "      <th>NumOfProducts_1</th>\n",
       "      <th>NumOfProducts_2</th>\n",
       "      <th>NumOfProducts_3</th>\n",
       "      <th>NumOfProducts_4</th>\n",
       "      <th>Surname</th>\n",
       "      <th>CustomerId</th>\n",
       "      <th>CreditScore</th>\n",
       "      <th>Age</th>\n",
       "      <th>Tenure</th>\n",
       "      <th>Balance</th>\n",
       "      <th>EstimatedSalary</th>\n",
       "      <th>Exited</th>\n",
       "    </tr>\n",
       "  </thead>\n",
       "  <tbody>\n",
       "    <tr>\n",
       "      <th>0</th>\n",
       "      <td>1.0</td>\n",
       "      <td>1.0</td>\n",
       "      <td>0.0</td>\n",
       "      <td>1.0</td>\n",
       "      <td>0.0</td>\n",
       "      <td>0.0</td>\n",
       "      <td>0.0</td>\n",
       "      <td>1.0</td>\n",
       "      <td>0.0</td>\n",
       "      <td>0.0</td>\n",
       "      <td>0.318008</td>\n",
       "      <td>-0.239126</td>\n",
       "      <td>0.144135</td>\n",
       "      <td>-0.578074</td>\n",
       "      <td>-0.719973</td>\n",
       "      <td>-0.883163</td>\n",
       "      <td>1.369486</td>\n",
       "      <td>0</td>\n",
       "    </tr>\n",
       "    <tr>\n",
       "      <th>1</th>\n",
       "      <td>1.0</td>\n",
       "      <td>1.0</td>\n",
       "      <td>1.0</td>\n",
       "      <td>1.0</td>\n",
       "      <td>0.0</td>\n",
       "      <td>0.0</td>\n",
       "      <td>0.0</td>\n",
       "      <td>1.0</td>\n",
       "      <td>0.0</td>\n",
       "      <td>0.0</td>\n",
       "      <td>0.326667</td>\n",
       "      <td>0.800755</td>\n",
       "      <td>-0.367706</td>\n",
       "      <td>-0.578074</td>\n",
       "      <td>-1.432694</td>\n",
       "      <td>-0.883163</td>\n",
       "      <td>-1.254085</td>\n",
       "      <td>0</td>\n",
       "    </tr>\n",
       "    <tr>\n",
       "      <th>2</th>\n",
       "      <td>1.0</td>\n",
       "      <td>1.0</td>\n",
       "      <td>0.0</td>\n",
       "      <td>1.0</td>\n",
       "      <td>0.0</td>\n",
       "      <td>0.0</td>\n",
       "      <td>0.0</td>\n",
       "      <td>1.0</td>\n",
       "      <td>0.0</td>\n",
       "      <td>0.0</td>\n",
       "      <td>0.222052</td>\n",
       "      <td>0.035085</td>\n",
       "      <td>0.268974</td>\n",
       "      <td>0.211354</td>\n",
       "      <td>1.774548</td>\n",
       "      <td>-0.883163</td>\n",
       "      <td>1.437422</td>\n",
       "      <td>0</td>\n",
       "    </tr>\n",
       "    <tr>\n",
       "      <th>3</th>\n",
       "      <td>1.0</td>\n",
       "      <td>1.0</td>\n",
       "      <td>1.0</td>\n",
       "      <td>1.0</td>\n",
       "      <td>0.0</td>\n",
       "      <td>0.0</td>\n",
       "      <td>1.0</td>\n",
       "      <td>0.0</td>\n",
       "      <td>0.0</td>\n",
       "      <td>0.0</td>\n",
       "      <td>0.181991</td>\n",
       "      <td>0.692068</td>\n",
       "      <td>-0.941966</td>\n",
       "      <td>-0.465299</td>\n",
       "      <td>-1.076334</td>\n",
       "      <td>1.486918</td>\n",
       "      <td>-0.557018</td>\n",
       "      <td>0</td>\n",
       "    </tr>\n",
       "    <tr>\n",
       "      <th>4</th>\n",
       "      <td>1.0</td>\n",
       "      <td>1.0</td>\n",
       "      <td>1.0</td>\n",
       "      <td>0.0</td>\n",
       "      <td>0.0</td>\n",
       "      <td>1.0</td>\n",
       "      <td>0.0</td>\n",
       "      <td>1.0</td>\n",
       "      <td>0.0</td>\n",
       "      <td>0.0</td>\n",
       "      <td>0.146341</td>\n",
       "      <td>1.038788</td>\n",
       "      <td>0.743362</td>\n",
       "      <td>-0.578074</td>\n",
       "      <td>-0.007253</td>\n",
       "      <td>-0.883163</td>\n",
       "      <td>-1.938770</td>\n",
       "      <td>0</td>\n",
       "    </tr>\n",
       "  </tbody>\n",
       "</table>\n",
       "</div>"
      ],
      "text/plain": [
       "   Gender_Male  HasCrCard_1.0  IsActiveMember_1.0  Geography_France  \\\n",
       "0          1.0            1.0                 0.0               1.0   \n",
       "1          1.0            1.0                 1.0               1.0   \n",
       "2          1.0            1.0                 0.0               1.0   \n",
       "3          1.0            1.0                 1.0               1.0   \n",
       "4          1.0            1.0                 1.0               0.0   \n",
       "\n",
       "   Geography_Germany  Geography_Spain  NumOfProducts_1  NumOfProducts_2  \\\n",
       "0                0.0              0.0              0.0              1.0   \n",
       "1                0.0              0.0              0.0              1.0   \n",
       "2                0.0              0.0              0.0              1.0   \n",
       "3                0.0              0.0              1.0              0.0   \n",
       "4                0.0              1.0              0.0              1.0   \n",
       "\n",
       "   NumOfProducts_3  NumOfProducts_4   Surname  CustomerId  CreditScore  \\\n",
       "0              0.0              0.0  0.318008   -0.239126     0.144135   \n",
       "1              0.0              0.0  0.326667    0.800755    -0.367706   \n",
       "2              0.0              0.0  0.222052    0.035085     0.268974   \n",
       "3              0.0              0.0  0.181991    0.692068    -0.941966   \n",
       "4              0.0              0.0  0.146341    1.038788     0.743362   \n",
       "\n",
       "        Age    Tenure   Balance  EstimatedSalary  Exited  \n",
       "0 -0.578074 -0.719973 -0.883163         1.369486       0  \n",
       "1 -0.578074 -1.432694 -0.883163        -1.254085       0  \n",
       "2  0.211354  1.774548 -0.883163         1.437422       0  \n",
       "3 -0.465299 -1.076334  1.486918        -0.557018       0  \n",
       "4 -0.578074 -0.007253 -0.883163        -1.938770       0  "
      ]
     },
     "execution_count": 10,
     "metadata": {},
     "output_type": "execute_result"
    }
   ],
   "source": [
    "# Reset indexes before assignment to reassign indices to both DataFrames, ensuring they are aligned\n",
    "df_to_ohe_transformed.reset_index(drop=True, inplace=True)\n",
    "train.reset_index(drop=True, inplace=True)\n",
    "df_to_ohe_transformed[TARGET] = train[TARGET]\n",
    "\n",
    "df_to_ohe_transformed.head()"
   ]
  },
  {
   "cell_type": "code",
   "execution_count": 11,
   "metadata": {},
   "outputs": [
    {
     "name": "stdout",
     "output_type": "stream",
     "text": [
      "True\n"
     ]
    }
   ],
   "source": [
    "# Check for rows with misaligned indices\n",
    "print(df_to_ohe_transformed.index.equals(train.index))"
   ]
  },
  {
   "cell_type": "code",
   "execution_count": 12,
   "metadata": {},
   "outputs": [
    {
     "data": {
      "text/html": [
       "<div>\n",
       "<style scoped>\n",
       "    .dataframe tbody tr th:only-of-type {\n",
       "        vertical-align: middle;\n",
       "    }\n",
       "\n",
       "    .dataframe tbody tr th {\n",
       "        vertical-align: top;\n",
       "    }\n",
       "\n",
       "    .dataframe thead th {\n",
       "        text-align: right;\n",
       "    }\n",
       "</style>\n",
       "<table border=\"1\" class=\"dataframe\">\n",
       "  <thead>\n",
       "    <tr style=\"text-align: right;\">\n",
       "      <th></th>\n",
       "      <th>Gender_Male</th>\n",
       "      <th>HasCrCard_1.0</th>\n",
       "      <th>IsActiveMember_1.0</th>\n",
       "      <th>Geography_France</th>\n",
       "      <th>Geography_Germany</th>\n",
       "      <th>Geography_Spain</th>\n",
       "      <th>NumOfProducts_1</th>\n",
       "      <th>NumOfProducts_2</th>\n",
       "      <th>NumOfProducts_3</th>\n",
       "      <th>NumOfProducts_4</th>\n",
       "      <th>Surname</th>\n",
       "      <th>CustomerId</th>\n",
       "      <th>CreditScore</th>\n",
       "      <th>Age</th>\n",
       "      <th>Tenure</th>\n",
       "      <th>Balance</th>\n",
       "      <th>EstimatedSalary</th>\n",
       "      <th>Exited</th>\n",
       "    </tr>\n",
       "  </thead>\n",
       "  <tbody>\n",
       "  </tbody>\n",
       "</table>\n",
       "</div>"
      ],
      "text/plain": [
       "Empty DataFrame\n",
       "Columns: [Gender_Male, HasCrCard_1.0, IsActiveMember_1.0, Geography_France, Geography_Germany, Geography_Spain, NumOfProducts_1, NumOfProducts_2, NumOfProducts_3, NumOfProducts_4, Surname, CustomerId, CreditScore, Age, Tenure, Balance, EstimatedSalary, Exited]\n",
       "Index: []"
      ]
     },
     "execution_count": 12,
     "metadata": {},
     "output_type": "execute_result"
    }
   ],
   "source": [
    "# Print out the rows with misaligned indices\n",
    "condition_1 = df_to_ohe_transformed[TARGET] != 1\n",
    "condition_2 = df_to_ohe_transformed[TARGET] != 0\n",
    "df_to_ohe_transformed[(condition_1) & (condition_2)]"
   ]
  },
  {
   "cell_type": "markdown",
   "metadata": {},
   "source": [
    "# Feature Selection"
   ]
  },
  {
   "cell_type": "markdown",
   "metadata": {},
   "source": [
    "- Mutual Information"
   ]
  },
  {
   "cell_type": "code",
   "execution_count": null,
   "metadata": {},
   "outputs": [],
   "source": [
    "# # Generate a random feature\n",
    "# np.random.seed(5)\n",
    "# df_to_ohe_transformed['random_control_feature'] = np.round(np.random.uniform(-2, 2, df_to_ohe_transformed.shape[0]), 6)\n",
    "# df_to_ohe_transformed.shape"
   ]
  },
  {
   "cell_type": "code",
   "execution_count": null,
   "metadata": {},
   "outputs": [],
   "source": [
    "# # Calculate mutual information - this can be memory and CPU intensive\n",
    "# # The plan is to remove any features that have mutual information less than random_feature because surely you cannot be important\n",
    "# mi_scores = mutual_info_classif(df_to_ohe_transformed, df_to_ohe_transformed[TARGET], discrete_features='auto', n_neighbors=20, copy=True, random_state=5)\n",
    "\n",
    "# # Make results easier to interpret by placing them in a DataFrame\n",
    "# mi_scores = pd.Series(mi_scores, name=\"MI Scores\", index=df_to_ohe_transformed.columns)\n",
    "# mi_scores = mi_scores.sort_values(ascending=False)\n",
    "\n",
    "# # Now you have the MI scores sorted from the most to the least informative\n",
    "# mi_scores.to_csv(f'{experiment_name}_20_mi_scores.csv')"
   ]
  },
  {
   "cell_type": "code",
   "execution_count": 13,
   "metadata": {},
   "outputs": [
    {
     "data": {
      "text/plain": [
       "['Age',\n",
       " 'NumOfProducts_2',\n",
       " 'NumOfProducts_1',\n",
       " 'IsActiveMember_1.0',\n",
       " 'Surname',\n",
       " 'Geography_Germany',\n",
       " 'NumOfProducts_3',\n",
       " 'Balance',\n",
       " 'Gender_Male',\n",
       " 'Geography_France',\n",
       " 'HasCrCard_1.0',\n",
       " 'EstimatedSalary',\n",
       " 'CreditScore',\n",
       " 'NumOfProducts_4',\n",
       " 'Tenure',\n",
       " 'Geography_Spain']"
      ]
     },
     "execution_count": 13,
     "metadata": {},
     "output_type": "execute_result"
    }
   ],
   "source": [
    "# Read the CSV\n",
    "mi_df = pd.read_csv('lgbm_mi_scores.csv')\n",
    "\n",
    "# Get the mi score for control feature\n",
    "mi_threshold = mi_df.loc[mi_df['Feature'] == 'random_control_feature', 'Average'].iloc[0]\n",
    "\n",
    "# Get the features above random_control_feature to move forward\n",
    "mi_feats = mi_df[mi_df['Average'] > mi_threshold]['Feature'].tolist()\n",
    "mi_feats"
   ]
  },
  {
   "cell_type": "markdown",
   "metadata": {},
   "source": [
    "# Training Machine Learning Methods"
   ]
  },
  {
   "cell_type": "code",
   "execution_count": 14,
   "metadata": {},
   "outputs": [],
   "source": [
    "X = df_to_ohe_transformed[mi_feats]\n",
    "y = df_to_ohe_transformed[TARGET]\n",
    "\n",
    "sk = StratifiedKFold(n_splits=10, shuffle=True, random_state=5)"
   ]
  },
  {
   "cell_type": "code",
   "execution_count": 15,
   "metadata": {},
   "outputs": [],
   "source": [
    "models = [\n",
    "\tLGBMClassifier(n_jobs=-1, random_state=5, objective='binary'),\n",
    "    ]"
   ]
  },
  {
   "cell_type": "markdown",
   "metadata": {},
   "source": [
    "### Cross-validation Function"
   ]
  },
  {
   "cell_type": "code",
   "execution_count": 16,
   "metadata": {},
   "outputs": [],
   "source": [
    "def evaluate_models(models, X, y, important_features, cv_split, experiment_name):\n",
    "    # Create a DataFrame to store comparison results\n",
    "    MLA_compare = pd.DataFrame(columns=['MLA Name', \n",
    "                                        'MLA Parameters', \n",
    "                                        'MLA Train ROC AUC', \n",
    "                                        'MLA Test ROC AUC', \n",
    "                                        'MLA Time'])\n",
    "    \n",
    "    def evaluate_model(alg, idx):\n",
    "        MLA_name = alg.__class__.__name__\n",
    "        features = important_features.get(MLA_name, [])\n",
    "\n",
    "        # Check if the list of important features is empty\n",
    "        if len(features) == 0:\n",
    "            # If empty, return results with zero values\n",
    "            print(f'Skipping {MLA_name} due to no important features.')\n",
    "            return {\n",
    "                'MLA Name': MLA_name,\n",
    "                'MLA Parameters': str(alg.get_params()),\n",
    "                'MLA Train ROC AUC': 0,\n",
    "                'MLA Test ROC AUC': 0,\n",
    "                'MLA Time': \"0 min 0.00 sec\",\n",
    "            }\n",
    "\n",
    "        # Perform cross-validation\n",
    "        roc_scorer = make_scorer(roc_auc_score, greater_is_better=True, needs_proba=True)\n",
    "        \n",
    "        cv_results = cross_validate(alg, X[features], y, \n",
    "                                    cv=cv_split, \n",
    "                                    scoring={'ROC AUC': roc_scorer}, \n",
    "                                    return_train_score=True, \n",
    "                                    n_jobs=-1)\n",
    "\n",
    "        # Format time\n",
    "        mean_fit_time = cv_results['fit_time'].mean()\n",
    "        minutes, seconds = divmod(mean_fit_time, 60)\n",
    "\n",
    "        print(f'Done with {MLA_name}.')\n",
    "        \n",
    "        # Populate results\n",
    "        return {\n",
    "            'MLA Name': MLA_name,\n",
    "            'MLA Parameters': str(alg.get_params()),\n",
    "            'MLA Train ROC AUC': cv_results['train_ROC AUC'].mean() if 'train_ROC AUC' in cv_results else 0,\n",
    "            'MLA Test ROC AUC': cv_results['test_ROC AUC'].mean() if 'test_ROC AUC' in cv_results else 0,\n",
    "            'MLA Time': f\"{int(minutes)} min {seconds:.2f} sec\",\n",
    "        }\n",
    "\n",
    "    results_list = []\n",
    "\n",
    "    # Use ThreadPoolExecutor for parallel execution\n",
    "    with ThreadPoolExecutor(max_workers=10) as executor:\n",
    "        futures = [executor.submit(evaluate_model, alg, idx) for idx, alg in enumerate(models)]\n",
    "        for future in futures:\n",
    "            result = future.result()\n",
    "            if result:\n",
    "                results_list.append(result)\n",
    "\n",
    "    # Create a DataFrame from the list of dictionaries\n",
    "    MLA_compare = pd.DataFrame(results_list)\n",
    "\n",
    "    # Sort and save results\n",
    "    MLA_compare.sort_values(by=['MLA Test ROC AUC'], ascending=True, inplace=True)\n",
    "    MLA_compare.to_csv(f'{experiment_name}_results.csv', index=False)\n",
    "\n",
    "    return MLA_compare"
   ]
  },
  {
   "cell_type": "markdown",
   "metadata": {},
   "source": [
    "### Baseline Model"
   ]
  },
  {
   "cell_type": "code",
   "execution_count": 17,
   "metadata": {},
   "outputs": [],
   "source": [
    "baseline_features = {}\n",
    "\n",
    "for model in models:\n",
    "    model_name = model.__class__.__name__\n",
    "\n",
    "    baseline_features[model_name] = list(X.columns)"
   ]
  },
  {
   "cell_type": "code",
   "execution_count": null,
   "metadata": {},
   "outputs": [],
   "source": [
    "baseline_models = evaluate_models(models, X, y, baseline_features, sk, f'{experiment_name}')\n",
    "baseline_models"
   ]
  },
  {
   "cell_type": "markdown",
   "metadata": {},
   "source": [
    "- SFS"
   ]
  },
  {
   "cell_type": "code",
   "execution_count": null,
   "metadata": {},
   "outputs": [],
   "source": [
    "# Initialize empty dictionary for SFS features\n",
    "sfs_features = {}\n",
    "\n",
    "for alg in models:\n",
    "    # set name\n",
    "    MLA_name = alg.__class__.__name__\n",
    "\n",
    "    try:\n",
    "        features = mi_feats\n",
    "\n",
    "        # incase there is no feature that had importance, go to the next model\n",
    "        if len(features) == 0:\n",
    "            continue\n",
    "        \n",
    "        X_sfs = X[features]\n",
    "\n",
    "        print(f'Running backward feature selection with {MLA_name}')\n",
    "\n",
    "        sfs = SFS(alg,\n",
    "            k_features='best',\n",
    "            forward=False,\n",
    "            floating=False,\n",
    "            scoring='roc_auc',\n",
    "            verbose=2,\n",
    "            n_jobs=-1,\n",
    "            cv=sk)\n",
    "        \n",
    "        sfs = sfs.fit(X_sfs, y)\n",
    "\n",
    "        # Get the selected features index\n",
    "        selected_sfs_idx = list(sfs.k_feature_idx_)\n",
    "\n",
    "        # Get the feature names\n",
    "        selected_sfs_feats = X_sfs.columns[selected_sfs_idx]\n",
    "\n",
    "        sfs_features[MLA_name] = list(selected_sfs_feats)\n",
    "\n",
    "        print(f'Done with {MLA_name}', end='\\n\\n')\n",
    "\n",
    "    except KeyError:\n",
    "        print(f'{MLA_name} not in the dictionary.')"
   ]
  },
  {
   "cell_type": "code",
   "execution_count": null,
   "metadata": {},
   "outputs": [],
   "source": [
    "with open('sfs_features_lgbm.txt', mode='w') as f:\n",
    "    pprint(sfs_features, stream=f)"
   ]
  },
  {
   "cell_type": "code",
   "execution_count": null,
   "metadata": {},
   "outputs": [],
   "source": [
    "sfs_models = evaluate_models(models, X, y, sfs_features, sk, f'{experiment_name}_sfs')\n",
    "sfs_models"
   ]
  },
  {
   "cell_type": "markdown",
   "metadata": {},
   "source": [
    "### Partial Dependency"
   ]
  },
  {
   "cell_type": "code",
   "execution_count": 18,
   "metadata": {},
   "outputs": [],
   "source": [
    "lg = LGBMClassifier(n_jobs=-1, random_state=5, objective='binary')\n",
    "# features = sfs_features['LGBMClassifier']\n",
    "features = ['Age',\n",
    "'NumOfProducts_2',\n",
    "'NumOfProducts_1',\n",
    "'IsActiveMember_1.0',\n",
    "'Surname',\n",
    "'Geography_Germany',\n",
    "'Balance',\n",
    "'Gender_Male',\n",
    "'HasCrCard_1.0',\n",
    "'EstimatedSalary',\n",
    "'CreditScore',\n",
    "'NumOfProducts_4',\n",
    "'Tenure']"
   ]
  },
  {
   "cell_type": "code",
   "execution_count": null,
   "metadata": {},
   "outputs": [],
   "source": [
    "model = lg.fit(X[features], y)\n",
    "\n",
    "# Number of rows for the subplot grid\n",
    "num_features = len(features)\n",
    "num_cols = 3\n",
    "num_rows = math.ceil(num_features / num_cols)\n",
    "\n",
    "# Create a larger figure to accommodate the subplots\n",
    "fig, axs = plt.subplots(num_rows, num_cols, figsize=(20, 5 * num_rows))\n",
    "fig.suptitle('Partial Dependence Plots of Status = C for LGBM', fontsize=16)\n",
    "\n",
    "# Adjust the layout\n",
    "plt.tight_layout(rect=[0, 0.03, 1, 0.95], pad=4.0, h_pad=4.0, w_pad=2.0)\n",
    "\n",
    "# Iterate over features and create each plot\n",
    "for i, feature in enumerate(features):\n",
    "    ax = axs[i // num_cols, i % num_cols]\n",
    "    PartialDependenceDisplay.from_estimator(model, \n",
    "                                            X[features], \n",
    "                                            [feature],\n",
    "                                            pd_line_kw={'color': 'red'},\n",
    "                                            ice_lines_kw={'color': 'steelblue'},\n",
    "                                            kind='both',\n",
    "                                            target=0,\n",
    "                                            response_method='predict_proba',\n",
    "                                            subsample=500,\n",
    "                                            random_state=5,\n",
    "                                            ax=ax)\n",
    "    ax.set_title(f'LGBM Partial Plot - {feature}')\n",
    "\n",
    "# Hide any unused subplots\n",
    "for i in range(num_features, num_rows * num_cols):\n",
    "    axs[i // num_cols, i % num_cols].set_visible(False)\n",
    "\n",
    "plt.show()"
   ]
  },
  {
   "cell_type": "code",
   "execution_count": null,
   "metadata": {},
   "outputs": [],
   "source": [
    "model = lg.fit(X[features], y)\n",
    "\n",
    "# Number of rows for the subplot grid\n",
    "num_features = len(features)\n",
    "num_cols = 3\n",
    "num_rows = math.ceil(num_features / num_cols)\n",
    "\n",
    "# Create a larger figure to accommodate the subplots\n",
    "fig, axs = plt.subplots(num_rows, num_cols, figsize=(20, 5 * num_rows))\n",
    "fig.suptitle('Partial Dependence Plots of Status = C for LGBM', fontsize=16)\n",
    "\n",
    "# Adjust the layout\n",
    "plt.tight_layout(rect=[0, 0.03, 1, 0.95], pad=4.0, h_pad=4.0, w_pad=2.0)\n",
    "\n",
    "# Iterate over features and create each plot\n",
    "for i, feature in enumerate(features):\n",
    "    ax = axs[i // num_cols, i % num_cols]\n",
    "    PartialDependenceDisplay.from_estimator(model, \n",
    "                                            X[features], \n",
    "                                            [feature],\n",
    "                                            pd_line_kw={'color': 'red'},\n",
    "                                            ice_lines_kw={'color': 'steelblue'},\n",
    "                                            kind='both',\n",
    "                                            target=1,\n",
    "                                            response_method='predict_proba',\n",
    "                                            subsample=500,\n",
    "                                            random_state=5,\n",
    "                                            ax=ax)\n",
    "    ax.set_title(f'LGBM Partial Plot - {feature}')\n",
    "\n",
    "# Hide any unused subplots\n",
    "for i in range(num_features, num_rows * num_cols):\n",
    "    axs[i // num_cols, i % num_cols].set_visible(False)\n",
    "\n",
    "plt.show()"
   ]
  },
  {
   "cell_type": "code",
   "execution_count": null,
   "metadata": {},
   "outputs": [],
   "source": [
    "pdp_to_drop = ['HasCrCard_1.0', 'NumOfProducts_4']\n",
    "\n",
    "pdp_features = {'LGBMClassifier': ['Age',\n",
    "                    'NumOfProducts_2',\n",
    "                    'NumOfProducts_1',\n",
    "                    'IsActiveMember_1.0',\n",
    "                    'Surname',\n",
    "                    'Geography_Germany',\n",
    "                    'Balance',\n",
    "                    'Gender_Male',\n",
    "                    'HasCrCard_1.0',\n",
    "                    'EstimatedSalary',\n",
    "                    'CreditScore',\n",
    "                    'NumOfProducts_4',\n",
    "                    'Tenure']}"
   ]
  },
  {
   "cell_type": "code",
   "execution_count": null,
   "metadata": {},
   "outputs": [],
   "source": [
    "pdp_models = evaluate_models(models, X, y, pdp_features, sk, f'{experiment_name}_pdp')\n",
    "pdp_models"
   ]
  },
  {
   "cell_type": "markdown",
   "metadata": {},
   "source": [
    "### Hyperparameter Tuning using Optuna"
   ]
  },
  {
   "cell_type": "code",
   "execution_count": 19,
   "metadata": {},
   "outputs": [],
   "source": [
    "# lgbm_features = sfs_features['LGBMClassifier']\n",
    "lgbm_features = ['Age',\n",
    "'NumOfProducts_2',\n",
    "'NumOfProducts_1',\n",
    "'IsActiveMember_1.0',\n",
    "'Surname',\n",
    "'Geography_Germany',\n",
    "'Balance',\n",
    "'Gender_Male',\n",
    "'HasCrCard_1.0',\n",
    "'EstimatedSalary',\n",
    "'CreditScore',\n",
    "'NumOfProducts_4',\n",
    "'Tenure']"
   ]
  },
  {
   "cell_type": "code",
   "execution_count": 21,
   "metadata": {},
   "outputs": [
    {
     "data": {
      "application/vnd.jupyter.widget-view+json": {
       "model_id": "5519d96742d24836b5e997f36ab12b11",
       "version_major": 2,
       "version_minor": 0
      },
      "text/plain": [
       "Optimizing:   0%|          | 0/20 [00:00<?, ?it/s]"
      ]
     },
     "metadata": {},
     "output_type": "display_data"
    },
    {
     "name": "stderr",
     "output_type": "stream",
     "text": [
      "[I 2024-01-10 06:01:41,089] A new study created in memory with name: lgbm_optimization\n",
      "[I 2024-01-10 06:03:04,500] Trial 0 finished with value: 0.896486300498772 and parameters: {'lgbm_n_estimators': 261, 'lgbm_max_depth': 47, 'lgbm_num_leaves': 232, 'lgbm_learning_rate': 0.01493490401614091, 'lgbm_reg_alpha': 1.7220377366909212, 'lgbm_reg_lambda': 7.77759154699412, 'lgbm_subsample': 0.8110731561878076, 'lgbm_colsample_bytree': 0.6798682603831786}. Best is trial 0 with value: 0.896486300498772.\n",
      "[I 2024-01-10 06:09:54,455] Trial 1 finished with value: 0.878098238753604 and parameters: {'lgbm_n_estimators': 2605, 'lgbm_max_depth': 25, 'lgbm_num_leaves': 172, 'lgbm_learning_rate': 0.11303952701199936, 'lgbm_reg_alpha': 1.9642049595489985, 'lgbm_reg_lambda': 6.53909319939304, 'lgbm_subsample': 0.11811292159577355, 'lgbm_colsample_bytree': 0.7332451044541862}. Best is trial 0 with value: 0.896486300498772.\n",
      "[I 2024-01-10 06:13:03,378] Trial 2 finished with value: 0.8967298035184669 and parameters: {'lgbm_n_estimators': 3702, 'lgbm_max_depth': 22, 'lgbm_num_leaves': 19, 'lgbm_learning_rate': 0.038472536233065145, 'lgbm_reg_alpha': 6.220830764894903, 'lgbm_reg_lambda': 0.9610115793115992, 'lgbm_subsample': 0.6055928452379816, 'lgbm_colsample_bytree': 0.6125005956718932}. Best is trial 2 with value: 0.8967298035184669.\n",
      "[I 2024-01-10 06:14:46,731] Trial 3 finished with value: 0.8969804564734718 and parameters: {'lgbm_n_estimators': 931, 'lgbm_max_depth': 19, 'lgbm_num_leaves': 77, 'lgbm_learning_rate': 0.006624652087501542, 'lgbm_reg_alpha': 1.6481898218587254, 'lgbm_reg_lambda': 9.1597804359219, 'lgbm_subsample': 0.7237822816940624, 'lgbm_colsample_bytree': 0.5141250615765387}. Best is trial 3 with value: 0.8969804564734718.\n",
      "[I 2024-01-10 06:16:59,307] Trial 4 pruned. \n",
      "[I 2024-01-10 06:17:19,372] Trial 5 pruned. \n",
      "[I 2024-01-10 06:17:53,923] Trial 6 pruned. \n",
      "[I 2024-01-10 06:18:17,933] Trial 7 pruned. \n",
      "[I 2024-01-10 06:19:38,524] Trial 8 pruned. \n",
      "[I 2024-01-10 06:20:26,129] Trial 9 pruned. \n",
      "[I 2024-01-10 06:21:48,619] Trial 10 pruned. \n",
      "[I 2024-01-10 06:22:36,964] Trial 11 pruned. \n",
      "[I 2024-01-10 06:24:35,165] Trial 12 pruned. \n",
      "[I 2024-01-10 06:32:34,067] Trial 13 finished with value: 0.8976440194486923 and parameters: {'lgbm_n_estimators': 3176, 'lgbm_max_depth': 34, 'lgbm_num_leaves': 90, 'lgbm_learning_rate': 0.005949551763070077, 'lgbm_reg_alpha': 3.6786026135436667, 'lgbm_reg_lambda': 8.227699153022375, 'lgbm_subsample': 0.7263344215255793, 'lgbm_colsample_bytree': 0.5618342337710214}. Best is trial 13 with value: 0.8976440194486923.\n",
      "[I 2024-01-10 06:39:37,922] Trial 14 finished with value: 0.8977177816563057 and parameters: {'lgbm_n_estimators': 3124, 'lgbm_max_depth': 34, 'lgbm_num_leaves': 102, 'lgbm_learning_rate': 0.005412223162683512, 'lgbm_reg_alpha': 3.507801184150934, 'lgbm_reg_lambda': 8.456634587433385, 'lgbm_subsample': 0.7681541520182114, 'lgbm_colsample_bytree': 0.3465406359524291}. Best is trial 14 with value: 0.8977177816563057.\n",
      "[I 2024-01-10 06:43:28,759] Trial 15 pruned. \n",
      "[I 2024-01-10 06:46:39,557] Trial 16 pruned. \n",
      "[I 2024-01-10 06:47:21,068] Trial 17 pruned. \n",
      "[I 2024-01-10 06:50:13,191] Trial 18 pruned. \n",
      "[I 2024-01-10 06:55:23,383] Trial 19 finished with value: 0.8970072482165696 and parameters: {'lgbm_n_estimators': 2186, 'lgbm_max_depth': 50, 'lgbm_num_leaves': 97, 'lgbm_learning_rate': 0.0028034968871204703, 'lgbm_reg_alpha': 2.2643871408720853, 'lgbm_reg_lambda': 8.722915447080773, 'lgbm_subsample': 0.7143417372563591, 'lgbm_colsample_bytree': 0.5222700113509289}. Best is trial 14 with value: 0.8977177816563057.\n"
     ]
    },
    {
     "name": "stdout",
     "output_type": "stream",
     "text": [
      "{'lgbm_n_estimators': 3124, 'lgbm_max_depth': 34, 'lgbm_num_leaves': 102, 'lgbm_learning_rate': 0.005412223162683512, 'lgbm_reg_alpha': 3.507801184150934, 'lgbm_reg_lambda': 8.456634587433385, 'lgbm_subsample': 0.7681541520182114, 'lgbm_colsample_bytree': 0.3465406359524291}\n"
     ]
    }
   ],
   "source": [
    "def objective(trial):\n",
    "    lgbm_scores = []\n",
    "    \n",
    "    for i, (train_idx, test_idx) in enumerate(sk.split(X, y)):\n",
    "        X_train, X_test = X.iloc[train_idx], X.iloc[test_idx]\n",
    "        y_train, y_test = y.iloc[train_idx], y.iloc[test_idx]\n",
    "        \n",
    "        # Suggesting hyperparameters for LGBMClassifier\n",
    "        n_estimators = trial.suggest_int('lgbm_n_estimators', 50, 4000)\n",
    "        max_depth = trial.suggest_int('lgbm_max_depth', 1, 50)\n",
    "        num_leaves = trial.suggest_int('lgbm_num_leaves', 2, 256)\n",
    "        # random_state = trial.suggest_int('lgbm_random_state', 2, 500)\n",
    "        learning_rate = trial.suggest_loguniform('lgbm_learning_rate', 0.001, 0.2)\n",
    "        reg_alpha = trial.suggest_float('lgbm_reg_alpha', 0.0, 10.0)\n",
    "        reg_lambda = trial.suggest_float('lgbm_reg_lambda', 0.0, 10.0)\n",
    "        subsample = trial.suggest_float('lgbm_subsample', 0.1, 1.0)\n",
    "        colsample_bytree = trial.suggest_float('lgbm_colsample_bytree', 0.1, 1.0)\n",
    "        \n",
    "        # Train and evaluate LGBMClassifier with the suggested hyperparameters\n",
    "        lgbm = LGBMClassifier(\n",
    "            objective='binary',\n",
    "            n_estimators=n_estimators,\n",
    "            max_depth=max_depth,\n",
    "            learning_rate=learning_rate,\n",
    "            num_leaves=num_leaves,\n",
    "            reg_alpha=reg_alpha,\n",
    "            reg_lambda=reg_lambda,\n",
    "            subsample=subsample,\n",
    "            colsample_bytree=colsample_bytree,\n",
    "            # random_state=random_state,\n",
    "            n_jobs=-1\n",
    "        ).fit(X_train[lgbm_features], y_train)\n",
    "        \n",
    "        lgbm_pred = lgbm.predict_proba(X_test[lgbm_features])\n",
    "        lgbm_pred_proba = lgbm_pred[:, 1]\n",
    "        lgbm_score = roc_auc_score(y_test, lgbm_pred_proba)\n",
    "        lgbm_scores.append(lgbm_score)\n",
    "        \n",
    "        # Report intermediate objective value\n",
    "        trial.report(lgbm_score, i)\n",
    "        \n",
    "        # Handle pruning based on the intermediate value\n",
    "        if trial.should_prune():\n",
    "            raise optuna.exceptions.TrialPruned()\n",
    "    \n",
    "    return np.mean(lgbm_scores)\n",
    "\n",
    "n_trials = 20\n",
    "\n",
    "# Initialize tqdm progress bar\n",
    "progress_bar = tqdm(total=n_trials, desc='Optimizing', position=0)\n",
    "\n",
    "# Callback function to update progress bar\n",
    "def callback(study, trial):\n",
    "    progress_bar.update(1)\n",
    "\n",
    "# Create Optuna study object and optimize with callback\n",
    "pruner = optuna.pruners.MedianPruner(n_startup_trials=3, n_warmup_steps=3)\n",
    "study = optuna.create_study(study_name=\"lgbm_optimization\", direction='maximize', pruner=pruner)\n",
    "study.optimize(objective, n_trials=n_trials, callbacks=[callback])\n",
    "\n",
    "# Best hyperparameters\n",
    "print(study.best_params)\n",
    "\n",
    "# Close the progress bar\n",
    "progress_bar.close()"
   ]
  },
  {
   "cell_type": "markdown",
   "metadata": {},
   "source": [
    "[I 2024-01-10 02:18:58,967] Trial 61 finished with value: 0.8977757296716001 and parameters: {'lgbm_n_estimators': 3414, 'lgbm_max_depth': 40, 'lgbm_num_leaves': 25, 'lgbm_learning_rate': 0.0062645811308150124, 'lgbm_reg_alpha': 8.873443530076086, 'lgbm_reg_lambda': 5.885447781455638, 'lgbm_subsample': 0.7884773833791413, 'lgbm_colsample_bytree': 0.5089526054590882}. Best is trial 61 with value: 0.8977757296716001."
   ]
  },
  {
   "cell_type": "markdown",
   "metadata": {},
   "source": [
    "[I 2024-01-10 06:39:37,922] Trial 14 finished with value: 0.8977177816563057 and parameters: {'lgbm_n_estimators': 3124, 'lgbm_max_depth': 34, 'lgbm_num_leaves': 102, 'lgbm_learning_rate': 0.005412223162683512, 'lgbm_reg_alpha': 3.507801184150934, 'lgbm_reg_lambda': 8.456634587433385, 'lgbm_subsample': 0.7681541520182114, 'lgbm_colsample_bytree': 0.3465406359524291}. Best is trial 14 with value: 0.8977177816563057."
   ]
  },
  {
   "cell_type": "markdown",
   "metadata": {},
   "source": [
    "Best parameters: {'subsample': 0.487015585813217, 'reg_alpha': 0.534558240211952, 'num_leaves': 70, 'learning_rate': 0.11404268301840845, 'colsample_bytree': 0.5130103309743103}\n",
    "Best ROC AUC score: 0.8973431825644113"
   ]
  },
  {
   "cell_type": "markdown",
   "metadata": {},
   "source": [
    "Best parameters: {'subsample': 0.4583793258901043, 'reg_alpha': 6.898808410934859, 'num_leaves': 27, 'learning_rate': 0.16883582860379132, 'colsample_bytree': 0.48557488149384453}\n",
    "Best ROC AUC score: 0.8974238313058602"
   ]
  },
  {
   "cell_type": "code",
   "execution_count": 22,
   "metadata": {},
   "outputs": [
    {
     "ename": "ValueError",
     "evalue": "Mime type rendering requires nbformat>=4.2.0 but it is not installed",
     "output_type": "error",
     "traceback": [
      "\u001b[1;31m---------------------------------------------------------------------------\u001b[0m",
      "\u001b[1;31mValueError\u001b[0m                                Traceback (most recent call last)",
      "File \u001b[1;32mc:\\Users\\Adeniyi Babalola\\AppData\\Local\\Programs\\Python\\Python310\\lib\\site-packages\\IPython\\core\\formatters.py:921\u001b[0m, in \u001b[0;36mIPythonDisplayFormatter.__call__\u001b[1;34m(self, obj)\u001b[0m\n\u001b[0;32m    919\u001b[0m method \u001b[38;5;241m=\u001b[39m get_real_method(obj, \u001b[38;5;28mself\u001b[39m\u001b[38;5;241m.\u001b[39mprint_method)\n\u001b[0;32m    920\u001b[0m \u001b[38;5;28;01mif\u001b[39;00m method \u001b[38;5;129;01mis\u001b[39;00m \u001b[38;5;129;01mnot\u001b[39;00m \u001b[38;5;28;01mNone\u001b[39;00m:\n\u001b[1;32m--> 921\u001b[0m     \u001b[43mmethod\u001b[49m\u001b[43m(\u001b[49m\u001b[43m)\u001b[49m\n\u001b[0;32m    922\u001b[0m     \u001b[38;5;28;01mreturn\u001b[39;00m \u001b[38;5;28;01mTrue\u001b[39;00m\n",
      "File \u001b[1;32mc:\\Users\\Adeniyi Babalola\\AppData\\Local\\Programs\\Python\\Python310\\lib\\site-packages\\plotly\\basedatatypes.py:834\u001b[0m, in \u001b[0;36mBaseFigure._ipython_display_\u001b[1;34m(self)\u001b[0m\n\u001b[0;32m    831\u001b[0m \u001b[38;5;28;01mimport\u001b[39;00m \u001b[38;5;21;01mplotly\u001b[39;00m\u001b[38;5;21;01m.\u001b[39;00m\u001b[38;5;21;01mio\u001b[39;00m \u001b[38;5;28;01mas\u001b[39;00m \u001b[38;5;21;01mpio\u001b[39;00m\n\u001b[0;32m    833\u001b[0m \u001b[38;5;28;01mif\u001b[39;00m pio\u001b[38;5;241m.\u001b[39mrenderers\u001b[38;5;241m.\u001b[39mrender_on_display \u001b[38;5;129;01mand\u001b[39;00m pio\u001b[38;5;241m.\u001b[39mrenderers\u001b[38;5;241m.\u001b[39mdefault:\n\u001b[1;32m--> 834\u001b[0m     \u001b[43mpio\u001b[49m\u001b[38;5;241;43m.\u001b[39;49m\u001b[43mshow\u001b[49m\u001b[43m(\u001b[49m\u001b[38;5;28;43mself\u001b[39;49m\u001b[43m)\u001b[49m\n\u001b[0;32m    835\u001b[0m \u001b[38;5;28;01melse\u001b[39;00m:\n\u001b[0;32m    836\u001b[0m     \u001b[38;5;28mprint\u001b[39m(\u001b[38;5;28mrepr\u001b[39m(\u001b[38;5;28mself\u001b[39m))\n",
      "File \u001b[1;32mc:\\Users\\Adeniyi Babalola\\AppData\\Local\\Programs\\Python\\Python310\\lib\\site-packages\\plotly\\io\\_renderers.py:396\u001b[0m, in \u001b[0;36mshow\u001b[1;34m(fig, renderer, validate, **kwargs)\u001b[0m\n\u001b[0;32m    391\u001b[0m         \u001b[38;5;28;01mraise\u001b[39;00m \u001b[38;5;167;01mValueError\u001b[39;00m(\n\u001b[0;32m    392\u001b[0m             \u001b[38;5;124m\"\u001b[39m\u001b[38;5;124mMime type rendering requires ipython but it is not installed\u001b[39m\u001b[38;5;124m\"\u001b[39m\n\u001b[0;32m    393\u001b[0m         )\n\u001b[0;32m    395\u001b[0m     \u001b[38;5;28;01mif\u001b[39;00m \u001b[38;5;129;01mnot\u001b[39;00m nbformat \u001b[38;5;129;01mor\u001b[39;00m Version(nbformat\u001b[38;5;241m.\u001b[39m__version__) \u001b[38;5;241m<\u001b[39m Version(\u001b[38;5;124m\"\u001b[39m\u001b[38;5;124m4.2.0\u001b[39m\u001b[38;5;124m\"\u001b[39m):\n\u001b[1;32m--> 396\u001b[0m         \u001b[38;5;28;01mraise\u001b[39;00m \u001b[38;5;167;01mValueError\u001b[39;00m(\n\u001b[0;32m    397\u001b[0m             \u001b[38;5;124m\"\u001b[39m\u001b[38;5;124mMime type rendering requires nbformat>=4.2.0 but it is not installed\u001b[39m\u001b[38;5;124m\"\u001b[39m\n\u001b[0;32m    398\u001b[0m         )\n\u001b[0;32m    400\u001b[0m     ipython_display\u001b[38;5;241m.\u001b[39mdisplay(bundle, raw\u001b[38;5;241m=\u001b[39m\u001b[38;5;28;01mTrue\u001b[39;00m)\n\u001b[0;32m    402\u001b[0m \u001b[38;5;66;03m# external renderers\u001b[39;00m\n",
      "\u001b[1;31mValueError\u001b[0m: Mime type rendering requires nbformat>=4.2.0 but it is not installed"
     ]
    },
    {
     "data": {
      "application/vnd.plotly.v1+json": {
       "config": {
        "plotlyServerURL": "https://plot.ly"
       },
       "data": [
        {
         "cliponaxis": false,
         "hovertemplate": [
          "lgbm_max_depth (IntDistribution): 0.005647911126499148<extra></extra>",
          "lgbm_n_estimators (IntDistribution): 0.034223259278544305<extra></extra>",
          "lgbm_reg_lambda (FloatDistribution): 0.05492903447899814<extra></extra>",
          "lgbm_reg_alpha (FloatDistribution): 0.09988821671914822<extra></extra>",
          "lgbm_num_leaves (IntDistribution): 0.11369928503849956<extra></extra>",
          "lgbm_subsample (FloatDistribution): 0.2243735973923153<extra></extra>",
          "lgbm_learning_rate (FloatDistribution): 0.22727029168333743<extra></extra>",
          "lgbm_colsample_bytree (FloatDistribution): 0.23996840428265803<extra></extra>"
         ],
         "marker": {
          "color": "rgb(66,146,198)"
         },
         "orientation": "h",
         "text": [
          "<0.01",
          "0.03",
          "0.05",
          "0.10",
          "0.11",
          "0.22",
          "0.23",
          "0.24"
         ],
         "textposition": "outside",
         "type": "bar",
         "x": [
          0.005647911126499148,
          0.034223259278544305,
          0.05492903447899814,
          0.09988821671914822,
          0.11369928503849956,
          0.2243735973923153,
          0.22727029168333743,
          0.23996840428265803
         ],
         "y": [
          "lgbm_max_depth",
          "lgbm_n_estimators",
          "lgbm_reg_lambda",
          "lgbm_reg_alpha",
          "lgbm_num_leaves",
          "lgbm_subsample",
          "lgbm_learning_rate",
          "lgbm_colsample_bytree"
         ]
        }
       ],
       "layout": {
        "showlegend": false,
        "template": {
         "data": {
          "bar": [
           {
            "error_x": {
             "color": "#2a3f5f"
            },
            "error_y": {
             "color": "#2a3f5f"
            },
            "marker": {
             "line": {
              "color": "#E5ECF6",
              "width": 0.5
             },
             "pattern": {
              "fillmode": "overlay",
              "size": 10,
              "solidity": 0.2
             }
            },
            "type": "bar"
           }
          ],
          "barpolar": [
           {
            "marker": {
             "line": {
              "color": "#E5ECF6",
              "width": 0.5
             },
             "pattern": {
              "fillmode": "overlay",
              "size": 10,
              "solidity": 0.2
             }
            },
            "type": "barpolar"
           }
          ],
          "carpet": [
           {
            "aaxis": {
             "endlinecolor": "#2a3f5f",
             "gridcolor": "white",
             "linecolor": "white",
             "minorgridcolor": "white",
             "startlinecolor": "#2a3f5f"
            },
            "baxis": {
             "endlinecolor": "#2a3f5f",
             "gridcolor": "white",
             "linecolor": "white",
             "minorgridcolor": "white",
             "startlinecolor": "#2a3f5f"
            },
            "type": "carpet"
           }
          ],
          "choropleth": [
           {
            "colorbar": {
             "outlinewidth": 0,
             "ticks": ""
            },
            "type": "choropleth"
           }
          ],
          "contour": [
           {
            "colorbar": {
             "outlinewidth": 0,
             "ticks": ""
            },
            "colorscale": [
             [
              0,
              "#0d0887"
             ],
             [
              0.1111111111111111,
              "#46039f"
             ],
             [
              0.2222222222222222,
              "#7201a8"
             ],
             [
              0.3333333333333333,
              "#9c179e"
             ],
             [
              0.4444444444444444,
              "#bd3786"
             ],
             [
              0.5555555555555556,
              "#d8576b"
             ],
             [
              0.6666666666666666,
              "#ed7953"
             ],
             [
              0.7777777777777778,
              "#fb9f3a"
             ],
             [
              0.8888888888888888,
              "#fdca26"
             ],
             [
              1,
              "#f0f921"
             ]
            ],
            "type": "contour"
           }
          ],
          "contourcarpet": [
           {
            "colorbar": {
             "outlinewidth": 0,
             "ticks": ""
            },
            "type": "contourcarpet"
           }
          ],
          "heatmap": [
           {
            "colorbar": {
             "outlinewidth": 0,
             "ticks": ""
            },
            "colorscale": [
             [
              0,
              "#0d0887"
             ],
             [
              0.1111111111111111,
              "#46039f"
             ],
             [
              0.2222222222222222,
              "#7201a8"
             ],
             [
              0.3333333333333333,
              "#9c179e"
             ],
             [
              0.4444444444444444,
              "#bd3786"
             ],
             [
              0.5555555555555556,
              "#d8576b"
             ],
             [
              0.6666666666666666,
              "#ed7953"
             ],
             [
              0.7777777777777778,
              "#fb9f3a"
             ],
             [
              0.8888888888888888,
              "#fdca26"
             ],
             [
              1,
              "#f0f921"
             ]
            ],
            "type": "heatmap"
           }
          ],
          "heatmapgl": [
           {
            "colorbar": {
             "outlinewidth": 0,
             "ticks": ""
            },
            "colorscale": [
             [
              0,
              "#0d0887"
             ],
             [
              0.1111111111111111,
              "#46039f"
             ],
             [
              0.2222222222222222,
              "#7201a8"
             ],
             [
              0.3333333333333333,
              "#9c179e"
             ],
             [
              0.4444444444444444,
              "#bd3786"
             ],
             [
              0.5555555555555556,
              "#d8576b"
             ],
             [
              0.6666666666666666,
              "#ed7953"
             ],
             [
              0.7777777777777778,
              "#fb9f3a"
             ],
             [
              0.8888888888888888,
              "#fdca26"
             ],
             [
              1,
              "#f0f921"
             ]
            ],
            "type": "heatmapgl"
           }
          ],
          "histogram": [
           {
            "marker": {
             "pattern": {
              "fillmode": "overlay",
              "size": 10,
              "solidity": 0.2
             }
            },
            "type": "histogram"
           }
          ],
          "histogram2d": [
           {
            "colorbar": {
             "outlinewidth": 0,
             "ticks": ""
            },
            "colorscale": [
             [
              0,
              "#0d0887"
             ],
             [
              0.1111111111111111,
              "#46039f"
             ],
             [
              0.2222222222222222,
              "#7201a8"
             ],
             [
              0.3333333333333333,
              "#9c179e"
             ],
             [
              0.4444444444444444,
              "#bd3786"
             ],
             [
              0.5555555555555556,
              "#d8576b"
             ],
             [
              0.6666666666666666,
              "#ed7953"
             ],
             [
              0.7777777777777778,
              "#fb9f3a"
             ],
             [
              0.8888888888888888,
              "#fdca26"
             ],
             [
              1,
              "#f0f921"
             ]
            ],
            "type": "histogram2d"
           }
          ],
          "histogram2dcontour": [
           {
            "colorbar": {
             "outlinewidth": 0,
             "ticks": ""
            },
            "colorscale": [
             [
              0,
              "#0d0887"
             ],
             [
              0.1111111111111111,
              "#46039f"
             ],
             [
              0.2222222222222222,
              "#7201a8"
             ],
             [
              0.3333333333333333,
              "#9c179e"
             ],
             [
              0.4444444444444444,
              "#bd3786"
             ],
             [
              0.5555555555555556,
              "#d8576b"
             ],
             [
              0.6666666666666666,
              "#ed7953"
             ],
             [
              0.7777777777777778,
              "#fb9f3a"
             ],
             [
              0.8888888888888888,
              "#fdca26"
             ],
             [
              1,
              "#f0f921"
             ]
            ],
            "type": "histogram2dcontour"
           }
          ],
          "mesh3d": [
           {
            "colorbar": {
             "outlinewidth": 0,
             "ticks": ""
            },
            "type": "mesh3d"
           }
          ],
          "parcoords": [
           {
            "line": {
             "colorbar": {
              "outlinewidth": 0,
              "ticks": ""
             }
            },
            "type": "parcoords"
           }
          ],
          "pie": [
           {
            "automargin": true,
            "type": "pie"
           }
          ],
          "scatter": [
           {
            "fillpattern": {
             "fillmode": "overlay",
             "size": 10,
             "solidity": 0.2
            },
            "type": "scatter"
           }
          ],
          "scatter3d": [
           {
            "line": {
             "colorbar": {
              "outlinewidth": 0,
              "ticks": ""
             }
            },
            "marker": {
             "colorbar": {
              "outlinewidth": 0,
              "ticks": ""
             }
            },
            "type": "scatter3d"
           }
          ],
          "scattercarpet": [
           {
            "marker": {
             "colorbar": {
              "outlinewidth": 0,
              "ticks": ""
             }
            },
            "type": "scattercarpet"
           }
          ],
          "scattergeo": [
           {
            "marker": {
             "colorbar": {
              "outlinewidth": 0,
              "ticks": ""
             }
            },
            "type": "scattergeo"
           }
          ],
          "scattergl": [
           {
            "marker": {
             "colorbar": {
              "outlinewidth": 0,
              "ticks": ""
             }
            },
            "type": "scattergl"
           }
          ],
          "scattermapbox": [
           {
            "marker": {
             "colorbar": {
              "outlinewidth": 0,
              "ticks": ""
             }
            },
            "type": "scattermapbox"
           }
          ],
          "scatterpolar": [
           {
            "marker": {
             "colorbar": {
              "outlinewidth": 0,
              "ticks": ""
             }
            },
            "type": "scatterpolar"
           }
          ],
          "scatterpolargl": [
           {
            "marker": {
             "colorbar": {
              "outlinewidth": 0,
              "ticks": ""
             }
            },
            "type": "scatterpolargl"
           }
          ],
          "scatterternary": [
           {
            "marker": {
             "colorbar": {
              "outlinewidth": 0,
              "ticks": ""
             }
            },
            "type": "scatterternary"
           }
          ],
          "surface": [
           {
            "colorbar": {
             "outlinewidth": 0,
             "ticks": ""
            },
            "colorscale": [
             [
              0,
              "#0d0887"
             ],
             [
              0.1111111111111111,
              "#46039f"
             ],
             [
              0.2222222222222222,
              "#7201a8"
             ],
             [
              0.3333333333333333,
              "#9c179e"
             ],
             [
              0.4444444444444444,
              "#bd3786"
             ],
             [
              0.5555555555555556,
              "#d8576b"
             ],
             [
              0.6666666666666666,
              "#ed7953"
             ],
             [
              0.7777777777777778,
              "#fb9f3a"
             ],
             [
              0.8888888888888888,
              "#fdca26"
             ],
             [
              1,
              "#f0f921"
             ]
            ],
            "type": "surface"
           }
          ],
          "table": [
           {
            "cells": {
             "fill": {
              "color": "#EBF0F8"
             },
             "line": {
              "color": "white"
             }
            },
            "header": {
             "fill": {
              "color": "#C8D4E3"
             },
             "line": {
              "color": "white"
             }
            },
            "type": "table"
           }
          ]
         },
         "layout": {
          "annotationdefaults": {
           "arrowcolor": "#2a3f5f",
           "arrowhead": 0,
           "arrowwidth": 1
          },
          "autotypenumbers": "strict",
          "coloraxis": {
           "colorbar": {
            "outlinewidth": 0,
            "ticks": ""
           }
          },
          "colorscale": {
           "diverging": [
            [
             0,
             "#8e0152"
            ],
            [
             0.1,
             "#c51b7d"
            ],
            [
             0.2,
             "#de77ae"
            ],
            [
             0.3,
             "#f1b6da"
            ],
            [
             0.4,
             "#fde0ef"
            ],
            [
             0.5,
             "#f7f7f7"
            ],
            [
             0.6,
             "#e6f5d0"
            ],
            [
             0.7,
             "#b8e186"
            ],
            [
             0.8,
             "#7fbc41"
            ],
            [
             0.9,
             "#4d9221"
            ],
            [
             1,
             "#276419"
            ]
           ],
           "sequential": [
            [
             0,
             "#0d0887"
            ],
            [
             0.1111111111111111,
             "#46039f"
            ],
            [
             0.2222222222222222,
             "#7201a8"
            ],
            [
             0.3333333333333333,
             "#9c179e"
            ],
            [
             0.4444444444444444,
             "#bd3786"
            ],
            [
             0.5555555555555556,
             "#d8576b"
            ],
            [
             0.6666666666666666,
             "#ed7953"
            ],
            [
             0.7777777777777778,
             "#fb9f3a"
            ],
            [
             0.8888888888888888,
             "#fdca26"
            ],
            [
             1,
             "#f0f921"
            ]
           ],
           "sequentialminus": [
            [
             0,
             "#0d0887"
            ],
            [
             0.1111111111111111,
             "#46039f"
            ],
            [
             0.2222222222222222,
             "#7201a8"
            ],
            [
             0.3333333333333333,
             "#9c179e"
            ],
            [
             0.4444444444444444,
             "#bd3786"
            ],
            [
             0.5555555555555556,
             "#d8576b"
            ],
            [
             0.6666666666666666,
             "#ed7953"
            ],
            [
             0.7777777777777778,
             "#fb9f3a"
            ],
            [
             0.8888888888888888,
             "#fdca26"
            ],
            [
             1,
             "#f0f921"
            ]
           ]
          },
          "colorway": [
           "#636efa",
           "#EF553B",
           "#00cc96",
           "#ab63fa",
           "#FFA15A",
           "#19d3f3",
           "#FF6692",
           "#B6E880",
           "#FF97FF",
           "#FECB52"
          ],
          "font": {
           "color": "#2a3f5f"
          },
          "geo": {
           "bgcolor": "white",
           "lakecolor": "white",
           "landcolor": "#E5ECF6",
           "showlakes": true,
           "showland": true,
           "subunitcolor": "white"
          },
          "hoverlabel": {
           "align": "left"
          },
          "hovermode": "closest",
          "mapbox": {
           "style": "light"
          },
          "paper_bgcolor": "white",
          "plot_bgcolor": "#E5ECF6",
          "polar": {
           "angularaxis": {
            "gridcolor": "white",
            "linecolor": "white",
            "ticks": ""
           },
           "bgcolor": "#E5ECF6",
           "radialaxis": {
            "gridcolor": "white",
            "linecolor": "white",
            "ticks": ""
           }
          },
          "scene": {
           "xaxis": {
            "backgroundcolor": "#E5ECF6",
            "gridcolor": "white",
            "gridwidth": 2,
            "linecolor": "white",
            "showbackground": true,
            "ticks": "",
            "zerolinecolor": "white"
           },
           "yaxis": {
            "backgroundcolor": "#E5ECF6",
            "gridcolor": "white",
            "gridwidth": 2,
            "linecolor": "white",
            "showbackground": true,
            "ticks": "",
            "zerolinecolor": "white"
           },
           "zaxis": {
            "backgroundcolor": "#E5ECF6",
            "gridcolor": "white",
            "gridwidth": 2,
            "linecolor": "white",
            "showbackground": true,
            "ticks": "",
            "zerolinecolor": "white"
           }
          },
          "shapedefaults": {
           "line": {
            "color": "#2a3f5f"
           }
          },
          "ternary": {
           "aaxis": {
            "gridcolor": "white",
            "linecolor": "white",
            "ticks": ""
           },
           "baxis": {
            "gridcolor": "white",
            "linecolor": "white",
            "ticks": ""
           },
           "bgcolor": "#E5ECF6",
           "caxis": {
            "gridcolor": "white",
            "linecolor": "white",
            "ticks": ""
           }
          },
          "title": {
           "x": 0.05
          },
          "xaxis": {
           "automargin": true,
           "gridcolor": "white",
           "linecolor": "white",
           "ticks": "",
           "title": {
            "standoff": 15
           },
           "zerolinecolor": "white",
           "zerolinewidth": 2
          },
          "yaxis": {
           "automargin": true,
           "gridcolor": "white",
           "linecolor": "white",
           "ticks": "",
           "title": {
            "standoff": 15
           },
           "zerolinecolor": "white",
           "zerolinewidth": 2
          }
         }
        },
        "title": {
         "text": "Hyperparameter Importances"
        },
        "xaxis": {
         "title": {
          "text": "Importance for Objective Value"
         }
        },
        "yaxis": {
         "title": {
          "text": "Hyperparameter"
         }
        }
       }
      },
      "text/html": [
       "<div>                        <script type=\"text/javascript\">window.PlotlyConfig = {MathJaxConfig: 'local'};</script>\n",
       "        <script charset=\"utf-8\" src=\"https://cdn.plot.ly/plotly-2.20.0.min.js\"></script>                <div id=\"2c3c7d6e-39e2-4ec7-b47f-7ff62d977c19\" class=\"plotly-graph-div\" style=\"height:100%; width:100%;\"></div>            <script type=\"text/javascript\">                                    window.PLOTLYENV=window.PLOTLYENV || {};                                    if (document.getElementById(\"2c3c7d6e-39e2-4ec7-b47f-7ff62d977c19\")) {                    Plotly.newPlot(                        \"2c3c7d6e-39e2-4ec7-b47f-7ff62d977c19\",                        [{\"cliponaxis\":false,\"hovertemplate\":[\"lgbm_max_depth (IntDistribution): 0.005647911126499148<extra></extra>\",\"lgbm_n_estimators (IntDistribution): 0.034223259278544305<extra></extra>\",\"lgbm_reg_lambda (FloatDistribution): 0.05492903447899814<extra></extra>\",\"lgbm_reg_alpha (FloatDistribution): 0.09988821671914822<extra></extra>\",\"lgbm_num_leaves (IntDistribution): 0.11369928503849956<extra></extra>\",\"lgbm_subsample (FloatDistribution): 0.2243735973923153<extra></extra>\",\"lgbm_learning_rate (FloatDistribution): 0.22727029168333743<extra></extra>\",\"lgbm_colsample_bytree (FloatDistribution): 0.23996840428265803<extra></extra>\"],\"marker\":{\"color\":\"rgb(66,146,198)\"},\"orientation\":\"h\",\"text\":[\"<0.01\",\"0.03\",\"0.05\",\"0.10\",\"0.11\",\"0.22\",\"0.23\",\"0.24\"],\"textposition\":\"outside\",\"x\":[0.005647911126499148,0.034223259278544305,0.05492903447899814,0.09988821671914822,0.11369928503849956,0.2243735973923153,0.22727029168333743,0.23996840428265803],\"y\":[\"lgbm_max_depth\",\"lgbm_n_estimators\",\"lgbm_reg_lambda\",\"lgbm_reg_alpha\",\"lgbm_num_leaves\",\"lgbm_subsample\",\"lgbm_learning_rate\",\"lgbm_colsample_bytree\"],\"type\":\"bar\"}],                        {\"showlegend\":false,\"title\":{\"text\":\"Hyperparameter Importances\"},\"xaxis\":{\"title\":{\"text\":\"Importance for Objective Value\"}},\"yaxis\":{\"title\":{\"text\":\"Hyperparameter\"}},\"template\":{\"data\":{\"histogram2dcontour\":[{\"type\":\"histogram2dcontour\",\"colorbar\":{\"outlinewidth\":0,\"ticks\":\"\"},\"colorscale\":[[0.0,\"#0d0887\"],[0.1111111111111111,\"#46039f\"],[0.2222222222222222,\"#7201a8\"],[0.3333333333333333,\"#9c179e\"],[0.4444444444444444,\"#bd3786\"],[0.5555555555555556,\"#d8576b\"],[0.6666666666666666,\"#ed7953\"],[0.7777777777777778,\"#fb9f3a\"],[0.8888888888888888,\"#fdca26\"],[1.0,\"#f0f921\"]]}],\"choropleth\":[{\"type\":\"choropleth\",\"colorbar\":{\"outlinewidth\":0,\"ticks\":\"\"}}],\"histogram2d\":[{\"type\":\"histogram2d\",\"colorbar\":{\"outlinewidth\":0,\"ticks\":\"\"},\"colorscale\":[[0.0,\"#0d0887\"],[0.1111111111111111,\"#46039f\"],[0.2222222222222222,\"#7201a8\"],[0.3333333333333333,\"#9c179e\"],[0.4444444444444444,\"#bd3786\"],[0.5555555555555556,\"#d8576b\"],[0.6666666666666666,\"#ed7953\"],[0.7777777777777778,\"#fb9f3a\"],[0.8888888888888888,\"#fdca26\"],[1.0,\"#f0f921\"]]}],\"heatmap\":[{\"type\":\"heatmap\",\"colorbar\":{\"outlinewidth\":0,\"ticks\":\"\"},\"colorscale\":[[0.0,\"#0d0887\"],[0.1111111111111111,\"#46039f\"],[0.2222222222222222,\"#7201a8\"],[0.3333333333333333,\"#9c179e\"],[0.4444444444444444,\"#bd3786\"],[0.5555555555555556,\"#d8576b\"],[0.6666666666666666,\"#ed7953\"],[0.7777777777777778,\"#fb9f3a\"],[0.8888888888888888,\"#fdca26\"],[1.0,\"#f0f921\"]]}],\"heatmapgl\":[{\"type\":\"heatmapgl\",\"colorbar\":{\"outlinewidth\":0,\"ticks\":\"\"},\"colorscale\":[[0.0,\"#0d0887\"],[0.1111111111111111,\"#46039f\"],[0.2222222222222222,\"#7201a8\"],[0.3333333333333333,\"#9c179e\"],[0.4444444444444444,\"#bd3786\"],[0.5555555555555556,\"#d8576b\"],[0.6666666666666666,\"#ed7953\"],[0.7777777777777778,\"#fb9f3a\"],[0.8888888888888888,\"#fdca26\"],[1.0,\"#f0f921\"]]}],\"contourcarpet\":[{\"type\":\"contourcarpet\",\"colorbar\":{\"outlinewidth\":0,\"ticks\":\"\"}}],\"contour\":[{\"type\":\"contour\",\"colorbar\":{\"outlinewidth\":0,\"ticks\":\"\"},\"colorscale\":[[0.0,\"#0d0887\"],[0.1111111111111111,\"#46039f\"],[0.2222222222222222,\"#7201a8\"],[0.3333333333333333,\"#9c179e\"],[0.4444444444444444,\"#bd3786\"],[0.5555555555555556,\"#d8576b\"],[0.6666666666666666,\"#ed7953\"],[0.7777777777777778,\"#fb9f3a\"],[0.8888888888888888,\"#fdca26\"],[1.0,\"#f0f921\"]]}],\"surface\":[{\"type\":\"surface\",\"colorbar\":{\"outlinewidth\":0,\"ticks\":\"\"},\"colorscale\":[[0.0,\"#0d0887\"],[0.1111111111111111,\"#46039f\"],[0.2222222222222222,\"#7201a8\"],[0.3333333333333333,\"#9c179e\"],[0.4444444444444444,\"#bd3786\"],[0.5555555555555556,\"#d8576b\"],[0.6666666666666666,\"#ed7953\"],[0.7777777777777778,\"#fb9f3a\"],[0.8888888888888888,\"#fdca26\"],[1.0,\"#f0f921\"]]}],\"mesh3d\":[{\"type\":\"mesh3d\",\"colorbar\":{\"outlinewidth\":0,\"ticks\":\"\"}}],\"scatter\":[{\"fillpattern\":{\"fillmode\":\"overlay\",\"size\":10,\"solidity\":0.2},\"type\":\"scatter\"}],\"parcoords\":[{\"type\":\"parcoords\",\"line\":{\"colorbar\":{\"outlinewidth\":0,\"ticks\":\"\"}}}],\"scatterpolargl\":[{\"type\":\"scatterpolargl\",\"marker\":{\"colorbar\":{\"outlinewidth\":0,\"ticks\":\"\"}}}],\"bar\":[{\"error_x\":{\"color\":\"#2a3f5f\"},\"error_y\":{\"color\":\"#2a3f5f\"},\"marker\":{\"line\":{\"color\":\"#E5ECF6\",\"width\":0.5},\"pattern\":{\"fillmode\":\"overlay\",\"size\":10,\"solidity\":0.2}},\"type\":\"bar\"}],\"scattergeo\":[{\"type\":\"scattergeo\",\"marker\":{\"colorbar\":{\"outlinewidth\":0,\"ticks\":\"\"}}}],\"scatterpolar\":[{\"type\":\"scatterpolar\",\"marker\":{\"colorbar\":{\"outlinewidth\":0,\"ticks\":\"\"}}}],\"histogram\":[{\"marker\":{\"pattern\":{\"fillmode\":\"overlay\",\"size\":10,\"solidity\":0.2}},\"type\":\"histogram\"}],\"scattergl\":[{\"type\":\"scattergl\",\"marker\":{\"colorbar\":{\"outlinewidth\":0,\"ticks\":\"\"}}}],\"scatter3d\":[{\"type\":\"scatter3d\",\"line\":{\"colorbar\":{\"outlinewidth\":0,\"ticks\":\"\"}},\"marker\":{\"colorbar\":{\"outlinewidth\":0,\"ticks\":\"\"}}}],\"scattermapbox\":[{\"type\":\"scattermapbox\",\"marker\":{\"colorbar\":{\"outlinewidth\":0,\"ticks\":\"\"}}}],\"scatterternary\":[{\"type\":\"scatterternary\",\"marker\":{\"colorbar\":{\"outlinewidth\":0,\"ticks\":\"\"}}}],\"scattercarpet\":[{\"type\":\"scattercarpet\",\"marker\":{\"colorbar\":{\"outlinewidth\":0,\"ticks\":\"\"}}}],\"carpet\":[{\"aaxis\":{\"endlinecolor\":\"#2a3f5f\",\"gridcolor\":\"white\",\"linecolor\":\"white\",\"minorgridcolor\":\"white\",\"startlinecolor\":\"#2a3f5f\"},\"baxis\":{\"endlinecolor\":\"#2a3f5f\",\"gridcolor\":\"white\",\"linecolor\":\"white\",\"minorgridcolor\":\"white\",\"startlinecolor\":\"#2a3f5f\"},\"type\":\"carpet\"}],\"table\":[{\"cells\":{\"fill\":{\"color\":\"#EBF0F8\"},\"line\":{\"color\":\"white\"}},\"header\":{\"fill\":{\"color\":\"#C8D4E3\"},\"line\":{\"color\":\"white\"}},\"type\":\"table\"}],\"barpolar\":[{\"marker\":{\"line\":{\"color\":\"#E5ECF6\",\"width\":0.5},\"pattern\":{\"fillmode\":\"overlay\",\"size\":10,\"solidity\":0.2}},\"type\":\"barpolar\"}],\"pie\":[{\"automargin\":true,\"type\":\"pie\"}]},\"layout\":{\"autotypenumbers\":\"strict\",\"colorway\":[\"#636efa\",\"#EF553B\",\"#00cc96\",\"#ab63fa\",\"#FFA15A\",\"#19d3f3\",\"#FF6692\",\"#B6E880\",\"#FF97FF\",\"#FECB52\"],\"font\":{\"color\":\"#2a3f5f\"},\"hovermode\":\"closest\",\"hoverlabel\":{\"align\":\"left\"},\"paper_bgcolor\":\"white\",\"plot_bgcolor\":\"#E5ECF6\",\"polar\":{\"bgcolor\":\"#E5ECF6\",\"angularaxis\":{\"gridcolor\":\"white\",\"linecolor\":\"white\",\"ticks\":\"\"},\"radialaxis\":{\"gridcolor\":\"white\",\"linecolor\":\"white\",\"ticks\":\"\"}},\"ternary\":{\"bgcolor\":\"#E5ECF6\",\"aaxis\":{\"gridcolor\":\"white\",\"linecolor\":\"white\",\"ticks\":\"\"},\"baxis\":{\"gridcolor\":\"white\",\"linecolor\":\"white\",\"ticks\":\"\"},\"caxis\":{\"gridcolor\":\"white\",\"linecolor\":\"white\",\"ticks\":\"\"}},\"coloraxis\":{\"colorbar\":{\"outlinewidth\":0,\"ticks\":\"\"}},\"colorscale\":{\"sequential\":[[0.0,\"#0d0887\"],[0.1111111111111111,\"#46039f\"],[0.2222222222222222,\"#7201a8\"],[0.3333333333333333,\"#9c179e\"],[0.4444444444444444,\"#bd3786\"],[0.5555555555555556,\"#d8576b\"],[0.6666666666666666,\"#ed7953\"],[0.7777777777777778,\"#fb9f3a\"],[0.8888888888888888,\"#fdca26\"],[1.0,\"#f0f921\"]],\"sequentialminus\":[[0.0,\"#0d0887\"],[0.1111111111111111,\"#46039f\"],[0.2222222222222222,\"#7201a8\"],[0.3333333333333333,\"#9c179e\"],[0.4444444444444444,\"#bd3786\"],[0.5555555555555556,\"#d8576b\"],[0.6666666666666666,\"#ed7953\"],[0.7777777777777778,\"#fb9f3a\"],[0.8888888888888888,\"#fdca26\"],[1.0,\"#f0f921\"]],\"diverging\":[[0,\"#8e0152\"],[0.1,\"#c51b7d\"],[0.2,\"#de77ae\"],[0.3,\"#f1b6da\"],[0.4,\"#fde0ef\"],[0.5,\"#f7f7f7\"],[0.6,\"#e6f5d0\"],[0.7,\"#b8e186\"],[0.8,\"#7fbc41\"],[0.9,\"#4d9221\"],[1,\"#276419\"]]},\"xaxis\":{\"gridcolor\":\"white\",\"linecolor\":\"white\",\"ticks\":\"\",\"title\":{\"standoff\":15},\"zerolinecolor\":\"white\",\"automargin\":true,\"zerolinewidth\":2},\"yaxis\":{\"gridcolor\":\"white\",\"linecolor\":\"white\",\"ticks\":\"\",\"title\":{\"standoff\":15},\"zerolinecolor\":\"white\",\"automargin\":true,\"zerolinewidth\":2},\"scene\":{\"xaxis\":{\"backgroundcolor\":\"#E5ECF6\",\"gridcolor\":\"white\",\"linecolor\":\"white\",\"showbackground\":true,\"ticks\":\"\",\"zerolinecolor\":\"white\",\"gridwidth\":2},\"yaxis\":{\"backgroundcolor\":\"#E5ECF6\",\"gridcolor\":\"white\",\"linecolor\":\"white\",\"showbackground\":true,\"ticks\":\"\",\"zerolinecolor\":\"white\",\"gridwidth\":2},\"zaxis\":{\"backgroundcolor\":\"#E5ECF6\",\"gridcolor\":\"white\",\"linecolor\":\"white\",\"showbackground\":true,\"ticks\":\"\",\"zerolinecolor\":\"white\",\"gridwidth\":2}},\"shapedefaults\":{\"line\":{\"color\":\"#2a3f5f\"}},\"annotationdefaults\":{\"arrowcolor\":\"#2a3f5f\",\"arrowhead\":0,\"arrowwidth\":1},\"geo\":{\"bgcolor\":\"white\",\"landcolor\":\"#E5ECF6\",\"subunitcolor\":\"white\",\"showland\":true,\"showlakes\":true,\"lakecolor\":\"white\"},\"title\":{\"x\":0.05},\"mapbox\":{\"style\":\"light\"}}}},                        {\"responsive\": true}                    )                };                            </script>        </div>"
      ],
      "text/plain": [
       "Figure({\n",
       "    'data': [{'cliponaxis': False,\n",
       "              'hovertemplate': [lgbm_max_depth (IntDistribution):\n",
       "                                0.005647911126499148<extra></extra>,\n",
       "                                lgbm_n_estimators (IntDistribution):\n",
       "                                0.034223259278544305<extra></extra>,\n",
       "                                lgbm_reg_lambda (FloatDistribution):\n",
       "                                0.05492903447899814<extra></extra>, lgbm_reg_alpha\n",
       "                                (FloatDistribution):\n",
       "                                0.09988821671914822<extra></extra>, lgbm_num_leaves\n",
       "                                (IntDistribution):\n",
       "                                0.11369928503849956<extra></extra>, lgbm_subsample\n",
       "                                (FloatDistribution):\n",
       "                                0.2243735973923153<extra></extra>,\n",
       "                                lgbm_learning_rate (FloatDistribution):\n",
       "                                0.22727029168333743<extra></extra>,\n",
       "                                lgbm_colsample_bytree (FloatDistribution):\n",
       "                                0.23996840428265803<extra></extra>],\n",
       "              'marker': {'color': 'rgb(66,146,198)'},\n",
       "              'orientation': 'h',\n",
       "              'text': [<0.01, 0.03, 0.05, 0.10, 0.11, 0.22, 0.23, 0.24],\n",
       "              'textposition': 'outside',\n",
       "              'type': 'bar',\n",
       "              'x': [0.005647911126499148, 0.034223259278544305,\n",
       "                    0.05492903447899814, 0.09988821671914822, 0.11369928503849956,\n",
       "                    0.2243735973923153, 0.22727029168333743, 0.23996840428265803],\n",
       "              'y': [lgbm_max_depth, lgbm_n_estimators, lgbm_reg_lambda,\n",
       "                    lgbm_reg_alpha, lgbm_num_leaves, lgbm_subsample,\n",
       "                    lgbm_learning_rate, lgbm_colsample_bytree]}],\n",
       "    'layout': {'showlegend': False,\n",
       "               'template': '...',\n",
       "               'title': {'text': 'Hyperparameter Importances'},\n",
       "               'xaxis': {'title': {'text': 'Importance for Objective Value'}},\n",
       "               'yaxis': {'title': {'text': 'Hyperparameter'}}}\n",
       "})"
      ]
     },
     "execution_count": 22,
     "metadata": {},
     "output_type": "execute_result"
    }
   ],
   "source": [
    "# Evaluates the importance of hyperparameters. \n",
    "# It shows which hyperparameters had the most influence on the objective values so we can use it for RandomizedSearch\n",
    "optuna.visualization.plot_param_importances(study)"
   ]
  },
  {
   "cell_type": "markdown",
   "metadata": {},
   "source": [
    "### Hyperparameter Tuning with Randomized Grid Search"
   ]
  },
  {
   "cell_type": "code",
   "execution_count": 31,
   "metadata": {},
   "outputs": [],
   "source": [
    "# Define the parameter distribution\n",
    "param_dist = {\n",
    "    # 'n_estimators': np.random.randint(50, 4001, 50),\n",
    "    # 'max_depth': np.random.randint(1, 51, 50),\n",
    "    'num_leaves': np.random.randint(2, 257, 50),\n",
    "    'learning_rate': np.random.uniform(0.001, 0.2, 50),\n",
    "    'reg_alpha': np.random.uniform(0.0, 10.0, 50),\n",
    "    # 'reg_lambda': np.random.uniform(0.0, 10.0, 50),\n",
    "    'subsample': np.random.uniform(0.1, 1.0, 50),\n",
    "    'colsample_bytree': np.random.uniform(0.1, 1.0, 50)\n",
    "}"
   ]
  },
  {
   "cell_type": "code",
   "execution_count": 32,
   "metadata": {},
   "outputs": [
    {
     "name": "stdout",
     "output_type": "stream",
     "text": [
      "Fitting 10 folds for each of 200 candidates, totalling 2000 fits\n",
      "Best parameters: {'subsample': 0.4583793258901043, 'reg_alpha': 6.898808410934859, 'num_leaves': 27, 'learning_rate': 0.16883582860379132, 'colsample_bytree': 0.48557488149384453}\n",
      "Best ROC AUC score: 0.8974238313058602\n"
     ]
    }
   ],
   "source": [
    "# Configure and run RandomizedSearchCV\n",
    "random_search = RandomizedSearchCV(lg, param_distributions=param_dist, n_iter=200, \n",
    "                                   scoring='roc_auc', cv=sk, verbose=2, random_state=5, n_jobs=-1)\n",
    "\n",
    "random_search.fit(X[lgbm_features], y)\n",
    "\n",
    "# Best parameters and score\n",
    "print(\"Best parameters:\", random_search.best_params_)\n",
    "print(\"Best ROC AUC score:\", random_search.best_score_)"
   ]
  },
  {
   "cell_type": "markdown",
   "metadata": {},
   "source": [
    "### Ensemble"
   ]
  },
  {
   "cell_type": "markdown",
   "metadata": {},
   "source": [
    "- Weighted Models"
   ]
  },
  {
   "cell_type": "code",
   "execution_count": 37,
   "metadata": {},
   "outputs": [],
   "source": [
    "params_1 = {'n_estimators': 3414, 'max_depth': 40, 'num_leaves': 25, 'learning_rate': 0.0062645811308150124, 'reg_alpha': 8.873443530076086, 'reg_lambda': 5.885447781455638, 'subsample': 0.7884773833791413, 'colsample_bytree': 0.5089526054590882, 'random_state':5}\n",
    "params_2 = {'n_estimators': 3124, 'max_depth': 34, 'num_leaves': 102, 'learning_rate': 0.005412223162683512, 'reg_alpha': 3.507801184150934, 'reg_lambda': 8.456634587433385, 'subsample': 0.7681541520182114, 'colsample_bytree': 0.3465406359524291, 'random_state':5}\n",
    "params_3 = {'subsample': 0.487015585813217, 'reg_alpha': 0.534558240211952, 'num_leaves': 70, 'learning_rate': 0.11404268301840845, 'colsample_bytree': 0.5130103309743103, 'random_state':5}\n",
    "params_4 = {'subsample': 0.4583793258901043, 'reg_alpha': 6.898808410934859, 'num_leaves': 27, 'learning_rate': 0.16883582860379132, 'colsample_bytree': 0.48557488149384453, 'random_state':5}\n",
    "\n",
    "model1 = LGBMClassifier(n_jobs=-1, **params_1)\n",
    "model2 = LGBMClassifier(n_jobs=-1, **params_2)\n",
    "model3 = LGBMClassifier(n_jobs=-1, **params_3)\n",
    "model4 = LGBMClassifier(n_jobs=-1, **params_4)"
   ]
  },
  {
   "cell_type": "code",
   "execution_count": 45,
   "metadata": {},
   "outputs": [],
   "source": [
    "# the input features to be used for final ensembling\n",
    "X_ensemble = df_to_ohe_transformed[lgbm_features]"
   ]
  },
  {
   "cell_type": "code",
   "execution_count": 40,
   "metadata": {},
   "outputs": [
    {
     "name": "stdout",
     "output_type": "stream",
     "text": [
      "Done with fold 1.\n",
      "Done with fold 2.\n",
      "Done with fold 3.\n",
      "Done with fold 4.\n",
      "Done with fold 5.\n",
      "Done with fold 6.\n",
      "Done with fold 7.\n",
      "Done with fold 8.\n",
      "Done with fold 9.\n",
      "Done with fold 10.\n"
     ]
    }
   ],
   "source": [
    "model1_results, model2_results, model3_results, model4_results, y_test_list = [], [], [], [], []\n",
    "\n",
    "for i, (train_index, test_index) in enumerate(sk.split(X_ensemble, y)):\n",
    "    X_train, X_test = X_ensemble.iloc[train_index], X_ensemble.iloc[test_index]\n",
    "    y_train, y_test = y.iloc[train_index], y.iloc[test_index]\n",
    "\n",
    "    model1.fit(X_train, y_train)\n",
    "    model_1_pred = model1.predict_proba(X_test)\n",
    "    model_1_pred_proba = model_1_pred[:, 1]\n",
    "    model1_results.append(model_1_pred_proba)\n",
    "\n",
    "    model2.fit(X_train, y_train)\n",
    "    model_2_pred = model2.predict_proba(X_test)\n",
    "    model_2_pred_proba = model_2_pred[:, 1]\n",
    "    model2_results.append(model_2_pred_proba)\n",
    "\n",
    "    model3.fit(X_train, y_train)\n",
    "    model_3_pred = model3.predict_proba(X_test)\n",
    "    model_3_pred_proba = model_3_pred[:, 1]\n",
    "    model3_results.append(model_3_pred_proba)\n",
    "\n",
    "    model4.fit(X_train, y_train)\n",
    "    model_4_pred = model4.predict_proba(X_test)\n",
    "    model_4_pred_proba = model_4_pred[:, 1]\n",
    "    model4_results.append(model_4_pred_proba)\n",
    "\n",
    "    y_test_list.append(y_test)\n",
    "\n",
    "    print(f'Done with fold {i+1}.')"
   ]
  },
  {
   "cell_type": "code",
   "execution_count": 42,
   "metadata": {},
   "outputs": [
    {
     "data": {
      "application/vnd.jupyter.widget-view+json": {
       "model_id": "1de57705e07f4c43bab7f615a0e10599",
       "version_major": 2,
       "version_minor": 0
      },
      "text/plain": [
       "  0%|          | 0/1000 [00:00<?, ?it/s]"
      ]
     },
     "metadata": {},
     "output_type": "display_data"
    }
   ],
   "source": [
    "model1_weights, model2_weights, model3_weights, model4_weights, scores = [], [], [], [], []\n",
    "\n",
    "for i in tqdm(range(1000)):\n",
    "    weight_1 = np.random.random_sample(size=1)[0]\n",
    "    weight_2 = np.random.random_sample(size=1)[0]\n",
    "    weight_3 = np.random.random_sample(size=1)[0]\n",
    "    weight_4 = np.random.random_sample(size=1)[0]\n",
    "\n",
    "    model1_weights.append(weight_1)\n",
    "    model2_weights.append(weight_2)\n",
    "    model3_weights.append(weight_3)\n",
    "    model4_weights.append(weight_4)\n",
    "\n",
    "    scores_in = []\n",
    "\n",
    "    for j in range(10):\n",
    "        weighted_pred = weight_1 * model1_results[j] + weight_2 * model2_results[j] + weight_3 * model3_results[j] + weight_4 * model4_results[j]\n",
    "        scores_in.append(roc_auc_score(y_test_list[j], weighted_pred))\n",
    "\n",
    "    scores.append(np.mean(scores_in))"
   ]
  },
  {
   "cell_type": "code",
   "execution_count": 43,
   "metadata": {},
   "outputs": [
    {
     "data": {
      "text/html": [
       "<div>\n",
       "<style scoped>\n",
       "    .dataframe tbody tr th:only-of-type {\n",
       "        vertical-align: middle;\n",
       "    }\n",
       "\n",
       "    .dataframe tbody tr th {\n",
       "        vertical-align: top;\n",
       "    }\n",
       "\n",
       "    .dataframe thead th {\n",
       "        text-align: right;\n",
       "    }\n",
       "</style>\n",
       "<table border=\"1\" class=\"dataframe\">\n",
       "  <thead>\n",
       "    <tr style=\"text-align: right;\">\n",
       "      <th></th>\n",
       "      <th>model_1</th>\n",
       "      <th>model_2</th>\n",
       "      <th>model_3</th>\n",
       "      <th>model_4</th>\n",
       "      <th>score</th>\n",
       "    </tr>\n",
       "  </thead>\n",
       "  <tbody>\n",
       "    <tr>\n",
       "      <th>0</th>\n",
       "      <td>0.934615</td>\n",
       "      <td>0.854905</td>\n",
       "      <td>0.495941</td>\n",
       "      <td>0.001262</td>\n",
       "      <td>0.898007</td>\n",
       "    </tr>\n",
       "    <tr>\n",
       "      <th>1</th>\n",
       "      <td>0.711355</td>\n",
       "      <td>0.712237</td>\n",
       "      <td>0.495050</td>\n",
       "      <td>0.007917</td>\n",
       "      <td>0.898003</td>\n",
       "    </tr>\n",
       "    <tr>\n",
       "      <th>2</th>\n",
       "      <td>0.620431</td>\n",
       "      <td>0.687360</td>\n",
       "      <td>0.344372</td>\n",
       "      <td>0.044460</td>\n",
       "      <td>0.898003</td>\n",
       "    </tr>\n",
       "    <tr>\n",
       "      <th>3</th>\n",
       "      <td>0.882003</td>\n",
       "      <td>0.866898</td>\n",
       "      <td>0.340250</td>\n",
       "      <td>0.016270</td>\n",
       "      <td>0.898001</td>\n",
       "    </tr>\n",
       "    <tr>\n",
       "      <th>4</th>\n",
       "      <td>0.480510</td>\n",
       "      <td>0.545759</td>\n",
       "      <td>0.264298</td>\n",
       "      <td>0.039771</td>\n",
       "      <td>0.898001</td>\n",
       "    </tr>\n",
       "    <tr>\n",
       "      <th>5</th>\n",
       "      <td>0.734937</td>\n",
       "      <td>0.817039</td>\n",
       "      <td>0.421376</td>\n",
       "      <td>0.087147</td>\n",
       "      <td>0.898001</td>\n",
       "    </tr>\n",
       "    <tr>\n",
       "      <th>6</th>\n",
       "      <td>0.678601</td>\n",
       "      <td>0.456672</td>\n",
       "      <td>0.263686</td>\n",
       "      <td>0.032362</td>\n",
       "      <td>0.898001</td>\n",
       "    </tr>\n",
       "    <tr>\n",
       "      <th>7</th>\n",
       "      <td>0.665620</td>\n",
       "      <td>0.710254</td>\n",
       "      <td>0.401547</td>\n",
       "      <td>0.117435</td>\n",
       "      <td>0.898000</td>\n",
       "    </tr>\n",
       "    <tr>\n",
       "      <th>8</th>\n",
       "      <td>0.781506</td>\n",
       "      <td>0.886821</td>\n",
       "      <td>0.378908</td>\n",
       "      <td>0.015999</td>\n",
       "      <td>0.898000</td>\n",
       "    </tr>\n",
       "    <tr>\n",
       "      <th>9</th>\n",
       "      <td>0.493296</td>\n",
       "      <td>0.599164</td>\n",
       "      <td>0.367289</td>\n",
       "      <td>0.024574</td>\n",
       "      <td>0.898000</td>\n",
       "    </tr>\n",
       "  </tbody>\n",
       "</table>\n",
       "</div>"
      ],
      "text/plain": [
       "    model_1   model_2   model_3   model_4     score\n",
       "0  0.934615  0.854905  0.495941  0.001262  0.898007\n",
       "1  0.711355  0.712237  0.495050  0.007917  0.898003\n",
       "2  0.620431  0.687360  0.344372  0.044460  0.898003\n",
       "3  0.882003  0.866898  0.340250  0.016270  0.898001\n",
       "4  0.480510  0.545759  0.264298  0.039771  0.898001\n",
       "5  0.734937  0.817039  0.421376  0.087147  0.898001\n",
       "6  0.678601  0.456672  0.263686  0.032362  0.898001\n",
       "7  0.665620  0.710254  0.401547  0.117435  0.898000\n",
       "8  0.781506  0.886821  0.378908  0.015999  0.898000\n",
       "9  0.493296  0.599164  0.367289  0.024574  0.898000"
      ]
     },
     "execution_count": 43,
     "metadata": {},
     "output_type": "execute_result"
    }
   ],
   "source": [
    "results_df = pd.DataFrame()\n",
    "results_df['model_1'] = model1_weights\n",
    "results_df['model_2'] = model2_weights\n",
    "results_df['model_3'] = model3_weights\n",
    "results_df['model_4'] = model4_weights\n",
    "results_df['score'] = scores\n",
    "results_df = results_df.sort_values(by='score', ascending=False).reset_index(drop=True)\n",
    "results_df.head(10)"
   ]
  },
  {
   "cell_type": "markdown",
   "metadata": {},
   "source": [
    "### Final Predictions"
   ]
  },
  {
   "cell_type": "code",
   "execution_count": 46,
   "metadata": {},
   "outputs": [],
   "source": [
    "model1_final = model1.fit(X_ensemble, y)\n",
    "model2_final = model2.fit(X_ensemble, y)\n",
    "model3_final = model3.fit(X_ensemble, y)\n",
    "model4_final = model4.fit(X_ensemble, y)"
   ]
  },
  {
   "cell_type": "code",
   "execution_count": 48,
   "metadata": {},
   "outputs": [
    {
     "data": {
      "text/html": [
       "<div>\n",
       "<style scoped>\n",
       "    .dataframe tbody tr th:only-of-type {\n",
       "        vertical-align: middle;\n",
       "    }\n",
       "\n",
       "    .dataframe tbody tr th {\n",
       "        vertical-align: top;\n",
       "    }\n",
       "\n",
       "    .dataframe thead th {\n",
       "        text-align: right;\n",
       "    }\n",
       "</style>\n",
       "<table border=\"1\" class=\"dataframe\">\n",
       "  <thead>\n",
       "    <tr style=\"text-align: right;\">\n",
       "      <th></th>\n",
       "      <th>Gender_Male</th>\n",
       "      <th>HasCrCard_1.0</th>\n",
       "      <th>IsActiveMember_1.0</th>\n",
       "      <th>Geography_France</th>\n",
       "      <th>Geography_Germany</th>\n",
       "      <th>Geography_Spain</th>\n",
       "      <th>NumOfProducts_1</th>\n",
       "      <th>NumOfProducts_2</th>\n",
       "      <th>NumOfProducts_3</th>\n",
       "      <th>NumOfProducts_4</th>\n",
       "      <th>Surname</th>\n",
       "      <th>CustomerId</th>\n",
       "      <th>CreditScore</th>\n",
       "      <th>Age</th>\n",
       "      <th>Tenure</th>\n",
       "      <th>Balance</th>\n",
       "      <th>EstimatedSalary</th>\n",
       "    </tr>\n",
       "  </thead>\n",
       "  <tbody>\n",
       "    <tr>\n",
       "      <th>1055</th>\n",
       "      <td>1.0</td>\n",
       "      <td>0.0</td>\n",
       "      <td>1.0</td>\n",
       "      <td>0.0</td>\n",
       "      <td>1.0</td>\n",
       "      <td>0.0</td>\n",
       "      <td>0.0</td>\n",
       "      <td>1.0</td>\n",
       "      <td>0.0</td>\n",
       "      <td>0.0</td>\n",
       "      <td>0.290123</td>\n",
       "      <td>-0.829328</td>\n",
       "      <td>0.718395</td>\n",
       "      <td>-0.803625</td>\n",
       "      <td>0.705467</td>\n",
       "      <td>1.224714</td>\n",
       "      <td>0.720729</td>\n",
       "    </tr>\n",
       "  </tbody>\n",
       "</table>\n",
       "</div>"
      ],
      "text/plain": [
       "      Gender_Male  HasCrCard_1.0  IsActiveMember_1.0  Geography_France  \\\n",
       "1055          1.0            0.0                 1.0               0.0   \n",
       "\n",
       "      Geography_Germany  Geography_Spain  NumOfProducts_1  NumOfProducts_2  \\\n",
       "1055                1.0              0.0              0.0              1.0   \n",
       "\n",
       "      NumOfProducts_3  NumOfProducts_4   Surname  CustomerId  CreditScore  \\\n",
       "1055              0.0              0.0  0.290123   -0.829328     0.718395   \n",
       "\n",
       "           Age    Tenure   Balance  EstimatedSalary  \n",
       "1055 -0.803625  0.705467  1.224714         0.720729  "
      ]
     },
     "execution_count": 48,
     "metadata": {},
     "output_type": "execute_result"
    }
   ],
   "source": [
    "test_features = test_transformed.copy()\n",
    "test_features.sample()"
   ]
  },
  {
   "cell_type": "code",
   "execution_count": 53,
   "metadata": {},
   "outputs": [
    {
     "data": {
      "text/html": [
       "<div>\n",
       "<style scoped>\n",
       "    .dataframe tbody tr th:only-of-type {\n",
       "        vertical-align: middle;\n",
       "    }\n",
       "\n",
       "    .dataframe tbody tr th {\n",
       "        vertical-align: top;\n",
       "    }\n",
       "\n",
       "    .dataframe thead th {\n",
       "        text-align: right;\n",
       "    }\n",
       "</style>\n",
       "<table border=\"1\" class=\"dataframe\">\n",
       "  <thead>\n",
       "    <tr style=\"text-align: right;\">\n",
       "      <th></th>\n",
       "      <th>0</th>\n",
       "      <th>1</th>\n",
       "    </tr>\n",
       "  </thead>\n",
       "  <tbody>\n",
       "    <tr>\n",
       "      <th>0</th>\n",
       "      <td>0.980836</td>\n",
       "      <td>0.019164</td>\n",
       "    </tr>\n",
       "    <tr>\n",
       "      <th>1</th>\n",
       "      <td>0.164041</td>\n",
       "      <td>0.835959</td>\n",
       "    </tr>\n",
       "    <tr>\n",
       "      <th>2</th>\n",
       "      <td>0.977779</td>\n",
       "      <td>0.022221</td>\n",
       "    </tr>\n",
       "    <tr>\n",
       "      <th>3</th>\n",
       "      <td>0.783393</td>\n",
       "      <td>0.216607</td>\n",
       "    </tr>\n",
       "    <tr>\n",
       "      <th>4</th>\n",
       "      <td>0.627546</td>\n",
       "      <td>0.372454</td>\n",
       "    </tr>\n",
       "  </tbody>\n",
       "</table>\n",
       "</div>"
      ],
      "text/plain": [
       "          0         1\n",
       "0  0.980836  0.019164\n",
       "1  0.164041  0.835959\n",
       "2  0.977779  0.022221\n",
       "3  0.783393  0.216607\n",
       "4  0.627546  0.372454"
      ]
     },
     "execution_count": 53,
     "metadata": {},
     "output_type": "execute_result"
    }
   ],
   "source": [
    "ensemble_pred = (\n",
    "    results_df['model_1'][0] * model1_final.predict_proba(test_features[lgbm_features]) +\n",
    "    results_df['model_2'][0] * model2_final.predict_proba(test_features[lgbm_features]) +\n",
    "    results_df['model_3'][0] * model3_final.predict_proba(test_features[lgbm_features]) +\n",
    "    results_df['model_4'][0] * model4_final.predict_proba(test_features[lgbm_features])\n",
    ")\n",
    "\n",
    "ensemble_df = pd.DataFrame(ensemble_pred)\n",
    "ensemble_df = ensemble_df.div(ensemble_df.sum(axis=1), axis=0)\n",
    "ensemble_df.head()"
   ]
  },
  {
   "cell_type": "code",
   "execution_count": 54,
   "metadata": {},
   "outputs": [
    {
     "data": {
      "text/plain": [
       "0    0.019164\n",
       "1    0.835959\n",
       "2    0.022221\n",
       "3    0.216607\n",
       "4    0.372454\n",
       "Name: 1, dtype: float64"
      ]
     },
     "execution_count": 54,
     "metadata": {},
     "output_type": "execute_result"
    }
   ],
   "source": [
    "ensemble_df = ensemble_df.iloc[:, 1]\n",
    "ensemble_df.head()"
   ]
  },
  {
   "cell_type": "code",
   "execution_count": 55,
   "metadata": {},
   "outputs": [
    {
     "data": {
      "text/html": [
       "<div>\n",
       "<style scoped>\n",
       "    .dataframe tbody tr th:only-of-type {\n",
       "        vertical-align: middle;\n",
       "    }\n",
       "\n",
       "    .dataframe tbody tr th {\n",
       "        vertical-align: top;\n",
       "    }\n",
       "\n",
       "    .dataframe thead th {\n",
       "        text-align: right;\n",
       "    }\n",
       "</style>\n",
       "<table border=\"1\" class=\"dataframe\">\n",
       "  <thead>\n",
       "    <tr style=\"text-align: right;\">\n",
       "      <th></th>\n",
       "      <th>id</th>\n",
       "      <th>Exited</th>\n",
       "    </tr>\n",
       "  </thead>\n",
       "  <tbody>\n",
       "    <tr>\n",
       "      <th>0</th>\n",
       "      <td>165034</td>\n",
       "      <td>0.019164</td>\n",
       "    </tr>\n",
       "    <tr>\n",
       "      <th>1</th>\n",
       "      <td>165035</td>\n",
       "      <td>0.835959</td>\n",
       "    </tr>\n",
       "    <tr>\n",
       "      <th>2</th>\n",
       "      <td>165036</td>\n",
       "      <td>0.022221</td>\n",
       "    </tr>\n",
       "    <tr>\n",
       "      <th>3</th>\n",
       "      <td>165037</td>\n",
       "      <td>0.216607</td>\n",
       "    </tr>\n",
       "    <tr>\n",
       "      <th>4</th>\n",
       "      <td>165038</td>\n",
       "      <td>0.372454</td>\n",
       "    </tr>\n",
       "  </tbody>\n",
       "</table>\n",
       "</div>"
      ],
      "text/plain": [
       "       id    Exited\n",
       "0  165034  0.019164\n",
       "1  165035  0.835959\n",
       "2  165036  0.022221\n",
       "3  165037  0.216607\n",
       "4  165038  0.372454"
      ]
     },
     "execution_count": 55,
     "metadata": {},
     "output_type": "execute_result"
    }
   ],
   "source": [
    "submission = pd.read_csv('sample_submission.csv')\n",
    "submission.loc[:, 'Exited'] = ensemble_df.values\n",
    "submission.head()"
   ]
  },
  {
   "cell_type": "code",
   "execution_count": null,
   "metadata": {},
   "outputs": [],
   "source": [
    "submission.to_csv('submission_ensemble_0.898007cv.csv', index=False)"
   ]
  }
 ],
 "metadata": {
  "kernelspec": {
   "display_name": "Python 3",
   "language": "python",
   "name": "python3"
  },
  "language_info": {
   "codemirror_mode": {
    "name": "ipython",
    "version": 3
   },
   "file_extension": ".py",
   "mimetype": "text/x-python",
   "name": "python",
   "nbconvert_exporter": "python",
   "pygments_lexer": "ipython3",
   "version": "3.10.2"
  }
 },
 "nbformat": 4,
 "nbformat_minor": 2
}
