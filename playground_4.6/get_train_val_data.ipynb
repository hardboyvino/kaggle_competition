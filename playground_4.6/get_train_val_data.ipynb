{
 "cells": [
  {
   "cell_type": "code",
   "execution_count": 1,
   "metadata": {},
   "outputs": [],
   "source": [
    "import pandas as pd\n",
    "from sklearn.model_selection import StratifiedShuffleSplit"
   ]
  },
  {
   "cell_type": "code",
   "execution_count": 2,
   "metadata": {},
   "outputs": [
    {
     "data": {
      "text/plain": [
       "(76518, 38)"
      ]
     },
     "execution_count": 2,
     "metadata": {},
     "output_type": "execute_result"
    }
   ],
   "source": [
    "all_data = pd.read_csv('train.csv')\n",
    "all_data.shape"
   ]
  },
  {
   "cell_type": "code",
   "execution_count": 3,
   "metadata": {},
   "outputs": [
    {
     "data": {
      "text/html": [
       "<div>\n",
       "<style scoped>\n",
       "    .dataframe tbody tr th:only-of-type {\n",
       "        vertical-align: middle;\n",
       "    }\n",
       "\n",
       "    .dataframe tbody tr th {\n",
       "        vertical-align: top;\n",
       "    }\n",
       "\n",
       "    .dataframe thead th {\n",
       "        text-align: right;\n",
       "    }\n",
       "</style>\n",
       "<table border=\"1\" class=\"dataframe\">\n",
       "  <thead>\n",
       "    <tr style=\"text-align: right;\">\n",
       "      <th></th>\n",
       "      <th>id</th>\n",
       "      <th>Marital status</th>\n",
       "      <th>Application mode</th>\n",
       "      <th>Application order</th>\n",
       "      <th>Course</th>\n",
       "      <th>Daytime/evening attendance</th>\n",
       "      <th>Previous qualification</th>\n",
       "      <th>Previous qualification (grade)</th>\n",
       "      <th>Nacionality</th>\n",
       "      <th>Mother's qualification</th>\n",
       "      <th>...</th>\n",
       "      <th>Curricular units 2nd sem (credited)</th>\n",
       "      <th>Curricular units 2nd sem (enrolled)</th>\n",
       "      <th>Curricular units 2nd sem (evaluations)</th>\n",
       "      <th>Curricular units 2nd sem (approved)</th>\n",
       "      <th>Curricular units 2nd sem (grade)</th>\n",
       "      <th>Curricular units 2nd sem (without evaluations)</th>\n",
       "      <th>Unemployment rate</th>\n",
       "      <th>Inflation rate</th>\n",
       "      <th>GDP</th>\n",
       "      <th>Target</th>\n",
       "    </tr>\n",
       "  </thead>\n",
       "  <tbody>\n",
       "    <tr>\n",
       "      <th>58779</th>\n",
       "      <td>58779</td>\n",
       "      <td>1</td>\n",
       "      <td>17</td>\n",
       "      <td>2</td>\n",
       "      <td>9853</td>\n",
       "      <td>1</td>\n",
       "      <td>1</td>\n",
       "      <td>135.0</td>\n",
       "      <td>1</td>\n",
       "      <td>38</td>\n",
       "      <td>...</td>\n",
       "      <td>0</td>\n",
       "      <td>6</td>\n",
       "      <td>7</td>\n",
       "      <td>6</td>\n",
       "      <td>12.666667</td>\n",
       "      <td>0</td>\n",
       "      <td>10.8</td>\n",
       "      <td>1.4</td>\n",
       "      <td>1.74</td>\n",
       "      <td>Enrolled</td>\n",
       "    </tr>\n",
       "    <tr>\n",
       "      <th>31989</th>\n",
       "      <td>31989</td>\n",
       "      <td>1</td>\n",
       "      <td>1</td>\n",
       "      <td>1</td>\n",
       "      <td>171</td>\n",
       "      <td>1</td>\n",
       "      <td>1</td>\n",
       "      <td>145.0</td>\n",
       "      <td>1</td>\n",
       "      <td>1</td>\n",
       "      <td>...</td>\n",
       "      <td>4</td>\n",
       "      <td>11</td>\n",
       "      <td>16</td>\n",
       "      <td>10</td>\n",
       "      <td>13.300000</td>\n",
       "      <td>0</td>\n",
       "      <td>16.2</td>\n",
       "      <td>0.3</td>\n",
       "      <td>-0.92</td>\n",
       "      <td>Dropout</td>\n",
       "    </tr>\n",
       "    <tr>\n",
       "      <th>37990</th>\n",
       "      <td>37990</td>\n",
       "      <td>1</td>\n",
       "      <td>1</td>\n",
       "      <td>4</td>\n",
       "      <td>9500</td>\n",
       "      <td>1</td>\n",
       "      <td>1</td>\n",
       "      <td>140.0</td>\n",
       "      <td>1</td>\n",
       "      <td>37</td>\n",
       "      <td>...</td>\n",
       "      <td>0</td>\n",
       "      <td>8</td>\n",
       "      <td>8</td>\n",
       "      <td>7</td>\n",
       "      <td>13.763750</td>\n",
       "      <td>0</td>\n",
       "      <td>13.9</td>\n",
       "      <td>-0.3</td>\n",
       "      <td>0.79</td>\n",
       "      <td>Graduate</td>\n",
       "    </tr>\n",
       "  </tbody>\n",
       "</table>\n",
       "<p>3 rows × 38 columns</p>\n",
       "</div>"
      ],
      "text/plain": [
       "          id  Marital status  Application mode  Application order  Course  \\\n",
       "58779  58779               1                17                  2    9853   \n",
       "31989  31989               1                 1                  1     171   \n",
       "37990  37990               1                 1                  4    9500   \n",
       "\n",
       "       Daytime/evening attendance  Previous qualification  \\\n",
       "58779                           1                       1   \n",
       "31989                           1                       1   \n",
       "37990                           1                       1   \n",
       "\n",
       "       Previous qualification (grade)  Nacionality  Mother's qualification  \\\n",
       "58779                           135.0            1                      38   \n",
       "31989                           145.0            1                       1   \n",
       "37990                           140.0            1                      37   \n",
       "\n",
       "       ...  Curricular units 2nd sem (credited)  \\\n",
       "58779  ...                                    0   \n",
       "31989  ...                                    4   \n",
       "37990  ...                                    0   \n",
       "\n",
       "       Curricular units 2nd sem (enrolled)  \\\n",
       "58779                                    6   \n",
       "31989                                   11   \n",
       "37990                                    8   \n",
       "\n",
       "       Curricular units 2nd sem (evaluations)  \\\n",
       "58779                                       7   \n",
       "31989                                      16   \n",
       "37990                                       8   \n",
       "\n",
       "       Curricular units 2nd sem (approved)  Curricular units 2nd sem (grade)  \\\n",
       "58779                                    6                         12.666667   \n",
       "31989                                   10                         13.300000   \n",
       "37990                                    7                         13.763750   \n",
       "\n",
       "       Curricular units 2nd sem (without evaluations)  Unemployment rate  \\\n",
       "58779                                               0               10.8   \n",
       "31989                                               0               16.2   \n",
       "37990                                               0               13.9   \n",
       "\n",
       "       Inflation rate   GDP    Target  \n",
       "58779             1.4  1.74  Enrolled  \n",
       "31989             0.3 -0.92   Dropout  \n",
       "37990            -0.3  0.79  Graduate  \n",
       "\n",
       "[3 rows x 38 columns]"
      ]
     },
     "execution_count": 3,
     "metadata": {},
     "output_type": "execute_result"
    }
   ],
   "source": [
    "all_data.sample(3)"
   ]
  },
  {
   "cell_type": "code",
   "execution_count": 4,
   "metadata": {},
   "outputs": [
    {
     "name": "stdout",
     "output_type": "stream",
     "text": [
      "<class 'pandas.core.frame.DataFrame'>\n",
      "RangeIndex: 76518 entries, 0 to 76517\n",
      "Data columns (total 38 columns):\n",
      " #   Column                                          Non-Null Count  Dtype  \n",
      "---  ------                                          --------------  -----  \n",
      " 0   id                                              76518 non-null  int64  \n",
      " 1   Marital status                                  76518 non-null  int64  \n",
      " 2   Application mode                                76518 non-null  int64  \n",
      " 3   Application order                               76518 non-null  int64  \n",
      " 4   Course                                          76518 non-null  int64  \n",
      " 5   Daytime/evening attendance                      76518 non-null  int64  \n",
      " 6   Previous qualification                          76518 non-null  int64  \n",
      " 7   Previous qualification (grade)                  76518 non-null  float64\n",
      " 8   Nacionality                                     76518 non-null  int64  \n",
      " 9   Mother's qualification                          76518 non-null  int64  \n",
      " 10  Father's qualification                          76518 non-null  int64  \n",
      " 11  Mother's occupation                             76518 non-null  int64  \n",
      " 12  Father's occupation                             76518 non-null  int64  \n",
      " 13  Admission grade                                 76518 non-null  float64\n",
      " 14  Displaced                                       76518 non-null  int64  \n",
      " 15  Educational special needs                       76518 non-null  int64  \n",
      " 16  Debtor                                          76518 non-null  int64  \n",
      " 17  Tuition fees up to date                         76518 non-null  int64  \n",
      " 18  Gender                                          76518 non-null  int64  \n",
      " 19  Scholarship holder                              76518 non-null  int64  \n",
      " 20  Age at enrollment                               76518 non-null  int64  \n",
      " 21  International                                   76518 non-null  int64  \n",
      " 22  Curricular units 1st sem (credited)             76518 non-null  int64  \n",
      " 23  Curricular units 1st sem (enrolled)             76518 non-null  int64  \n",
      " 24  Curricular units 1st sem (evaluations)          76518 non-null  int64  \n",
      " 25  Curricular units 1st sem (approved)             76518 non-null  int64  \n",
      " 26  Curricular units 1st sem (grade)                76518 non-null  float64\n",
      " 27  Curricular units 1st sem (without evaluations)  76518 non-null  int64  \n",
      " 28  Curricular units 2nd sem (credited)             76518 non-null  int64  \n",
      " 29  Curricular units 2nd sem (enrolled)             76518 non-null  int64  \n",
      " 30  Curricular units 2nd sem (evaluations)          76518 non-null  int64  \n",
      " 31  Curricular units 2nd sem (approved)             76518 non-null  int64  \n",
      " 32  Curricular units 2nd sem (grade)                76518 non-null  float64\n",
      " 33  Curricular units 2nd sem (without evaluations)  76518 non-null  int64  \n",
      " 34  Unemployment rate                               76518 non-null  float64\n",
      " 35  Inflation rate                                  76518 non-null  float64\n",
      " 36  GDP                                             76518 non-null  float64\n",
      " 37  Target                                          76518 non-null  object \n",
      "dtypes: float64(7), int64(30), object(1)\n",
      "memory usage: 22.2+ MB\n"
     ]
    }
   ],
   "source": [
    "# Get a summary of the DataFrame\n",
    "\n",
    "all_data.info()\n",
    "\n",
    "# All the data are objects. I need to change a few to numerical because of the Stratification needed later"
   ]
  },
  {
   "cell_type": "code",
   "execution_count": 5,
   "metadata": {},
   "outputs": [
    {
     "data": {
      "text/html": [
       "<div>\n",
       "<style scoped>\n",
       "    .dataframe tbody tr th:only-of-type {\n",
       "        vertical-align: middle;\n",
       "    }\n",
       "\n",
       "    .dataframe tbody tr th {\n",
       "        vertical-align: top;\n",
       "    }\n",
       "\n",
       "    .dataframe thead th {\n",
       "        text-align: right;\n",
       "    }\n",
       "</style>\n",
       "<table border=\"1\" class=\"dataframe\">\n",
       "  <thead>\n",
       "    <tr style=\"text-align: right;\">\n",
       "      <th></th>\n",
       "      <th>id</th>\n",
       "      <th>Marital status</th>\n",
       "      <th>Application mode</th>\n",
       "      <th>Application order</th>\n",
       "      <th>Course</th>\n",
       "      <th>Daytime/evening attendance</th>\n",
       "      <th>Previous qualification</th>\n",
       "      <th>Previous qualification (grade)</th>\n",
       "      <th>Nacionality</th>\n",
       "      <th>Mother's qualification</th>\n",
       "      <th>...</th>\n",
       "      <th>Curricular units 2nd sem (credited)</th>\n",
       "      <th>Curricular units 2nd sem (enrolled)</th>\n",
       "      <th>Curricular units 2nd sem (evaluations)</th>\n",
       "      <th>Curricular units 2nd sem (approved)</th>\n",
       "      <th>Curricular units 2nd sem (grade)</th>\n",
       "      <th>Curricular units 2nd sem (without evaluations)</th>\n",
       "      <th>Unemployment rate</th>\n",
       "      <th>Inflation rate</th>\n",
       "      <th>GDP</th>\n",
       "      <th>Target</th>\n",
       "    </tr>\n",
       "  </thead>\n",
       "  <tbody>\n",
       "  </tbody>\n",
       "</table>\n",
       "<p>0 rows × 38 columns</p>\n",
       "</div>"
      ],
      "text/plain": [
       "Empty DataFrame\n",
       "Columns: [id, Marital status, Application mode, Application order, Course, Daytime/evening attendance, Previous qualification, Previous qualification (grade), Nacionality, Mother's qualification, Father's qualification, Mother's occupation, Father's occupation, Admission grade, Displaced, Educational special needs, Debtor, Tuition fees up to date, Gender, Scholarship holder, Age at enrollment, International, Curricular units 1st sem (credited), Curricular units 1st sem (enrolled), Curricular units 1st sem (evaluations), Curricular units 1st sem (approved), Curricular units 1st sem (grade), Curricular units 1st sem (without evaluations), Curricular units 2nd sem (credited), Curricular units 2nd sem (enrolled), Curricular units 2nd sem (evaluations), Curricular units 2nd sem (approved), Curricular units 2nd sem (grade), Curricular units 2nd sem (without evaluations), Unemployment rate, Inflation rate, GDP, Target]\n",
       "Index: []\n",
       "\n",
       "[0 rows x 38 columns]"
      ]
     },
     "execution_count": 5,
     "metadata": {},
     "output_type": "execute_result"
    }
   ],
   "source": [
    "# Check if there are any empty cells in the data and get the rows with empty cells\n",
    "\n",
    "all_data[all_data.isna().any(axis=1)]"
   ]
  },
  {
   "cell_type": "code",
   "execution_count": 6,
   "metadata": {},
   "outputs": [
    {
     "data": {
      "text/plain": [
       "((68866, 38), (7652, 38))"
      ]
     },
     "execution_count": 6,
     "metadata": {},
     "output_type": "execute_result"
    }
   ],
   "source": [
    "# Initialize ShuffleSplit\n",
    "sss = StratifiedShuffleSplit(test_size=0.1, random_state=5)\n",
    "\n",
    "# Get indices for the unseen test set data\n",
    "# Stratification is done on 'channel_title' even though it is not the target in this case\n",
    "for train_indx, test_indx in sss.split(all_data, all_data['Target']):\n",
    "    test_data = all_data.iloc[test_indx]\n",
    "    train_data = all_data.iloc[train_indx]\n",
    "\n",
    "train_data.shape, test_data.shape"
   ]
  },
  {
   "cell_type": "code",
   "execution_count": 7,
   "metadata": {},
   "outputs": [],
   "source": [
    "train_data.to_csv('smaller_train.csv', index=False)\n",
    "test_data.to_csv('validation.csv', index=False)"
   ]
  }
 ],
 "metadata": {
  "kernelspec": {
   "display_name": "Python 3",
   "language": "python",
   "name": "python3"
  },
  "language_info": {
   "codemirror_mode": {
    "name": "ipython",
    "version": 3
   },
   "file_extension": ".py",
   "mimetype": "text/x-python",
   "name": "python",
   "nbconvert_exporter": "python",
   "pygments_lexer": "ipython3",
   "version": "3.10.2"
  }
 },
 "nbformat": 4,
 "nbformat_minor": 2
}
