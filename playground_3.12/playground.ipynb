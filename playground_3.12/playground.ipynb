{
 "cells": [
  {
   "cell_type": "code",
   "execution_count": 1,
   "metadata": {},
   "outputs": [],
   "source": [
    "# Import necessary libraries\n",
    "\n",
    "import pandas as pd\n",
    "import numpy as np\n",
    "from sklearn.model_selection import KFold\n",
    "from sklearn.metrics import roc_auc_score\n",
    "from sklearn.ensemble import RandomForestClassifier\n",
    "from sklearn.neighbors import KNeighborsClassifier\n",
    "import lightgbm as lgb\n",
    "import xgboost as xgb\n",
    "from catboost import CatBoostClassifier"
   ]
  },
  {
   "cell_type": "code",
   "execution_count": 2,
   "metadata": {},
   "outputs": [
    {
     "data": {
      "text/html": [
       "<div>\n",
       "<style scoped>\n",
       "    .dataframe tbody tr th:only-of-type {\n",
       "        vertical-align: middle;\n",
       "    }\n",
       "\n",
       "    .dataframe tbody tr th {\n",
       "        vertical-align: top;\n",
       "    }\n",
       "\n",
       "    .dataframe thead th {\n",
       "        text-align: right;\n",
       "    }\n",
       "</style>\n",
       "<table border=\"1\" class=\"dataframe\">\n",
       "  <thead>\n",
       "    <tr style=\"text-align: right;\">\n",
       "      <th></th>\n",
       "      <th>id</th>\n",
       "      <th>gravity</th>\n",
       "      <th>ph</th>\n",
       "      <th>osmo</th>\n",
       "      <th>cond</th>\n",
       "      <th>urea</th>\n",
       "      <th>calc</th>\n",
       "      <th>target</th>\n",
       "    </tr>\n",
       "  </thead>\n",
       "  <tbody>\n",
       "    <tr>\n",
       "      <th>0</th>\n",
       "      <td>0</td>\n",
       "      <td>1.013</td>\n",
       "      <td>6.19</td>\n",
       "      <td>443</td>\n",
       "      <td>14.8</td>\n",
       "      <td>124</td>\n",
       "      <td>1.45</td>\n",
       "      <td>0</td>\n",
       "    </tr>\n",
       "    <tr>\n",
       "      <th>1</th>\n",
       "      <td>1</td>\n",
       "      <td>1.025</td>\n",
       "      <td>5.40</td>\n",
       "      <td>703</td>\n",
       "      <td>23.6</td>\n",
       "      <td>394</td>\n",
       "      <td>4.18</td>\n",
       "      <td>0</td>\n",
       "    </tr>\n",
       "    <tr>\n",
       "      <th>2</th>\n",
       "      <td>2</td>\n",
       "      <td>1.009</td>\n",
       "      <td>6.13</td>\n",
       "      <td>371</td>\n",
       "      <td>24.5</td>\n",
       "      <td>159</td>\n",
       "      <td>9.04</td>\n",
       "      <td>0</td>\n",
       "    </tr>\n",
       "    <tr>\n",
       "      <th>3</th>\n",
       "      <td>3</td>\n",
       "      <td>1.021</td>\n",
       "      <td>4.91</td>\n",
       "      <td>442</td>\n",
       "      <td>20.8</td>\n",
       "      <td>398</td>\n",
       "      <td>6.63</td>\n",
       "      <td>1</td>\n",
       "    </tr>\n",
       "    <tr>\n",
       "      <th>4</th>\n",
       "      <td>4</td>\n",
       "      <td>1.021</td>\n",
       "      <td>5.53</td>\n",
       "      <td>874</td>\n",
       "      <td>17.8</td>\n",
       "      <td>385</td>\n",
       "      <td>2.21</td>\n",
       "      <td>1</td>\n",
       "    </tr>\n",
       "  </tbody>\n",
       "</table>\n",
       "</div>"
      ],
      "text/plain": [
       "   id  gravity    ph  osmo  cond  urea  calc  target\n",
       "0   0    1.013  6.19   443  14.8   124  1.45       0\n",
       "1   1    1.025  5.40   703  23.6   394  4.18       0\n",
       "2   2    1.009  6.13   371  24.5   159  9.04       0\n",
       "3   3    1.021  4.91   442  20.8   398  6.63       1\n",
       "4   4    1.021  5.53   874  17.8   385  2.21       1"
      ]
     },
     "execution_count": 2,
     "metadata": {},
     "output_type": "execute_result"
    }
   ],
   "source": [
    "# Load the dataset\n",
    "\n",
    "df_train = pd.read_csv(\"train.csv\")\n",
    "df_test = pd.read_csv(\"test.csv\")\n",
    "\n",
    "df_train.head()"
   ]
  },
  {
   "cell_type": "code",
   "execution_count": 3,
   "metadata": {},
   "outputs": [
    {
     "data": {
      "text/plain": [
       "array([5., 6., 7., 8.])"
      ]
     },
     "execution_count": 3,
     "metadata": {},
     "output_type": "execute_result"
    }
   ],
   "source": [
    "# Round the pH column to nearest integar\n",
    "\n",
    "df_train[\"ph\"] = df_train[\"ph\"].round(0)\n",
    "df_test[\"ph\"] = df_test[\"ph\"].round(0)\n",
    "df_test[\"ph\"].unique()"
   ]
  },
  {
   "cell_type": "code",
   "execution_count": 4,
   "metadata": {},
   "outputs": [],
   "source": [
    "# Separate features and target for train and validation data\n",
    "\n",
    "X_train = df_train.drop([\"id\", \"target\"], axis=1)\n",
    "y_train = df_train[\"target\"]\n",
    "\n",
    "X_test = df_test.drop([\"id\"], axis=1)"
   ]
  },
  {
   "cell_type": "code",
   "execution_count": 5,
   "metadata": {},
   "outputs": [],
   "source": [
    "# Perform cross-validation and calculate the AUC ROC\n",
    "\n",
    "def evaluate_model(model, X, y, n_splits=5):\n",
    "    auc_roc_scores = []\n",
    "    kf = KFold(n_splits=n_splits, shuffle=True, random_state=5)\n",
    "\n",
    "    for train_index, test_index in kf.split(X):\n",
    "        X_train_cv, X_test_cv = X.iloc[train_index], X.iloc[test_index]\n",
    "        y_train_cv, y_test_cv = y.iloc[train_index], y.iloc[test_index]\n",
    "\n",
    "        model.fit(X_train_cv, y_train_cv)\n",
    "\n",
    "        # Predict probabilities for the test (keep only the probability of the positive class)\n",
    "        y_pred_proba_cv = model.predict_proba(X_test_cv)[:, 1]\n",
    "\n",
    "        auc_roc = roc_auc_score(y_test_cv, y_pred_proba_cv)\n",
    "        auc_roc_scores.append(auc_roc)\n",
    "    \n",
    "    return [round(value, 5) for value in auc_roc_scores]"
   ]
  },
  {
   "cell_type": "code",
   "execution_count": 6,
   "metadata": {},
   "outputs": [],
   "source": [
    "# Initialize the models\n",
    "\n",
    "models = {\n",
    "    \"LightGBM\": lgb.LGBMClassifier(random_state=5),\n",
    "    \"xGBoost\": xgb.XGBClassifier(random_state=5),\n",
    "    \"CatBoost\": CatBoostClassifier(silent=True, random_state=5),\n",
    "    \"RandomForest\": RandomForestClassifier(random_state=5),\n",
    "    \"KNN\": KNeighborsClassifier(),\n",
    "}"
   ]
  },
  {
   "cell_type": "code",
   "execution_count": 7,
   "metadata": {},
   "outputs": [
    {
     "name": "stdout",
     "output_type": "stream",
     "text": [
      "Model: LightGBM\n",
      "AUC ROC Scores: [0.74498, 0.75597, 0.76005, 0.77321, 0.68352]\n",
      "Average AUC ROC: 0.74355\n",
      "Std Deviation: 0.03134\n",
      "\n",
      "Model: xGBoost\n",
      "AUC ROC Scores: [0.763, 0.74403, 0.75887, 0.75147, 0.66391]\n",
      "Average AUC ROC: 0.73626\n",
      "Std Deviation: 0.03675\n",
      "\n",
      "Model: CatBoost\n",
      "AUC ROC Scores: [0.75946, 0.77296, 0.73641, 0.81727, 0.76256]\n",
      "Average AUC ROC: 0.76973\n",
      "Std Deviation: 0.02660\n",
      "\n",
      "Model: RandomForest\n",
      "AUC ROC Scores: [0.76773, 0.79182, 0.74911, 0.82638, 0.75613]\n",
      "Average AUC ROC: 0.77823\n",
      "Std Deviation: 0.02811\n",
      "\n",
      "Model: KNN\n",
      "AUC ROC Scores: [0.60697, 0.65503, 0.61584, 0.68155, 0.55576]\n",
      "Average AUC ROC: 0.62303\n",
      "Std Deviation: 0.04309\n",
      "\n"
     ]
    }
   ],
   "source": [
    "for name, model in models.items():\n",
    "    auc_roc_scores = evaluate_model(model, X_train, y_train)\n",
    "    mean_roc_auc = np.mean(auc_roc_scores)\n",
    "    std = np.std(auc_roc_scores)\n",
    "\n",
    "    print(f\"Model: {name}\")\n",
    "    print(f\"AUC ROC Scores: {auc_roc_scores}\")\n",
    "    print(f\"Average AUC ROC: {mean_roc_auc:.5f}\")\n",
    "    print(f\"Std Deviation: {std:.5F}\")\n",
    "    print()"
   ]
  },
  {
   "attachments": {},
   "cell_type": "markdown",
   "metadata": {},
   "source": [
    "### OBSERVATION FOR 5 SPLITS\n",
    "1. Baseline LightGBM is 0.74355 with Std Dev of 0.03134\n",
    "2. Baseline xGBoost is 0.73626 with Std Dev of 0.03675\n",
    "3. Baseline CatBoost is 0.76973 with Std Dev of 0.02660\n",
    "4. Baseline RandomForest is 0.77823 with Std Dev of 0.02811\n",
    "5. Baseline KNN is 0.62303 with Std Dev of 0.04309\n",
    "\n",
    "Run time ~ 8 seconds"
   ]
  },
  {
   "cell_type": "code",
   "execution_count": 8,
   "metadata": {},
   "outputs": [
    {
     "name": "stdout",
     "output_type": "stream",
     "text": [
      "Model: LightGBM\n",
      "AUC ROC Scores: [0.63657, 0.79861, 0.74444, 0.80941, 0.68095, 0.7375, 0.77941, 0.83095, 0.67647, 0.71078]\n",
      "Average AUC ROC: 0.74051\n",
      "Std Deviation: 0.06097\n",
      "\n",
      "Model: xGBoost\n",
      "AUC ROC Scores: [0.68287, 0.77778, 0.72222, 0.83294, 0.67143, 0.7175, 0.76225, 0.8119, 0.65441, 0.68873]\n",
      "Average AUC ROC: 0.73220\n",
      "Std Deviation: 0.05819\n",
      "\n",
      "Model: CatBoost\n",
      "AUC ROC Scores: [0.67824, 0.83565, 0.73889, 0.86353, 0.69048, 0.7225, 0.79167, 0.86667, 0.76471, 0.76716]\n",
      "Average AUC ROC: 0.77195\n",
      "Std Deviation: 0.06390\n",
      "\n",
      "Model: RandomForest\n",
      "AUC ROC Scores: [0.63079, 0.8588, 0.76667, 0.84824, 0.73214, 0.7125, 0.82966, 0.83929, 0.72304, 0.7451]\n",
      "Average AUC ROC: 0.76862\n",
      "Std Deviation: 0.07022\n",
      "\n",
      "Model: KNN\n",
      "AUC ROC Scores: [0.45949, 0.75926, 0.60694, 0.75176, 0.66905, 0.54375, 0.67525, 0.75833, 0.47059, 0.69853]\n",
      "Average AUC ROC: 0.63929\n",
      "Std Deviation: 0.10856\n",
      "\n"
     ]
    }
   ],
   "source": [
    "for name, model in models.items():\n",
    "    auc_roc_scores = evaluate_model(model, X_train, y_train, n_splits=10)\n",
    "    mean_roc_auc = np.mean(auc_roc_scores)\n",
    "    std = np.std(auc_roc_scores)\n",
    "\n",
    "    print(f\"Model: {name}\")\n",
    "    print(f\"AUC ROC Scores: {auc_roc_scores}\")\n",
    "    print(f\"Average AUC ROC: {mean_roc_auc:.5f}\")\n",
    "    print(f\"Std Deviation: {std:.5F}\")\n",
    "    print()"
   ]
  },
  {
   "attachments": {},
   "cell_type": "markdown",
   "metadata": {},
   "source": [
    "### OBSERVATION FOR 10 SPLITS\n",
    "1. Baseline LightGBM is 0.74051 with Std Dev of 0.06097\n",
    "2. Baseline xGBoost is 0.73220 with Std Dev of 0.05819\n",
    "3. Baseline CatBoost is 0.77195 with Std Dev of 0.06390\n",
    "4. Baseline RandomForest is 0.76862 with Std Dev of 0.07022\n",
    "5. Baseline KNN is 0.63929 with Std Dev of 0.10856\n",
    "\n",
    "Run time ~ 22 seconds"
   ]
  },
  {
   "cell_type": "code",
   "execution_count": 9,
   "metadata": {},
   "outputs": [
    {
     "data": {
      "text/html": [
       "<style>#sk-container-id-1 {color: black;background-color: white;}#sk-container-id-1 pre{padding: 0;}#sk-container-id-1 div.sk-toggleable {background-color: white;}#sk-container-id-1 label.sk-toggleable__label {cursor: pointer;display: block;width: 100%;margin-bottom: 0;padding: 0.3em;box-sizing: border-box;text-align: center;}#sk-container-id-1 label.sk-toggleable__label-arrow:before {content: \"▸\";float: left;margin-right: 0.25em;color: #696969;}#sk-container-id-1 label.sk-toggleable__label-arrow:hover:before {color: black;}#sk-container-id-1 div.sk-estimator:hover label.sk-toggleable__label-arrow:before {color: black;}#sk-container-id-1 div.sk-toggleable__content {max-height: 0;max-width: 0;overflow: hidden;text-align: left;background-color: #f0f8ff;}#sk-container-id-1 div.sk-toggleable__content pre {margin: 0.2em;color: black;border-radius: 0.25em;background-color: #f0f8ff;}#sk-container-id-1 input.sk-toggleable__control:checked~div.sk-toggleable__content {max-height: 200px;max-width: 100%;overflow: auto;}#sk-container-id-1 input.sk-toggleable__control:checked~label.sk-toggleable__label-arrow:before {content: \"▾\";}#sk-container-id-1 div.sk-estimator input.sk-toggleable__control:checked~label.sk-toggleable__label {background-color: #d4ebff;}#sk-container-id-1 div.sk-label input.sk-toggleable__control:checked~label.sk-toggleable__label {background-color: #d4ebff;}#sk-container-id-1 input.sk-hidden--visually {border: 0;clip: rect(1px 1px 1px 1px);clip: rect(1px, 1px, 1px, 1px);height: 1px;margin: -1px;overflow: hidden;padding: 0;position: absolute;width: 1px;}#sk-container-id-1 div.sk-estimator {font-family: monospace;background-color: #f0f8ff;border: 1px dotted black;border-radius: 0.25em;box-sizing: border-box;margin-bottom: 0.5em;}#sk-container-id-1 div.sk-estimator:hover {background-color: #d4ebff;}#sk-container-id-1 div.sk-parallel-item::after {content: \"\";width: 100%;border-bottom: 1px solid gray;flex-grow: 1;}#sk-container-id-1 div.sk-label:hover label.sk-toggleable__label {background-color: #d4ebff;}#sk-container-id-1 div.sk-serial::before {content: \"\";position: absolute;border-left: 1px solid gray;box-sizing: border-box;top: 0;bottom: 0;left: 50%;z-index: 0;}#sk-container-id-1 div.sk-serial {display: flex;flex-direction: column;align-items: center;background-color: white;padding-right: 0.2em;padding-left: 0.2em;position: relative;}#sk-container-id-1 div.sk-item {position: relative;z-index: 1;}#sk-container-id-1 div.sk-parallel {display: flex;align-items: stretch;justify-content: center;background-color: white;position: relative;}#sk-container-id-1 div.sk-item::before, #sk-container-id-1 div.sk-parallel-item::before {content: \"\";position: absolute;border-left: 1px solid gray;box-sizing: border-box;top: 0;bottom: 0;left: 50%;z-index: -1;}#sk-container-id-1 div.sk-parallel-item {display: flex;flex-direction: column;z-index: 1;position: relative;background-color: white;}#sk-container-id-1 div.sk-parallel-item:first-child::after {align-self: flex-end;width: 50%;}#sk-container-id-1 div.sk-parallel-item:last-child::after {align-self: flex-start;width: 50%;}#sk-container-id-1 div.sk-parallel-item:only-child::after {width: 0;}#sk-container-id-1 div.sk-dashed-wrapped {border: 1px dashed gray;margin: 0 0.4em 0.5em 0.4em;box-sizing: border-box;padding-bottom: 0.4em;background-color: white;}#sk-container-id-1 div.sk-label label {font-family: monospace;font-weight: bold;display: inline-block;line-height: 1.2em;}#sk-container-id-1 div.sk-label-container {text-align: center;}#sk-container-id-1 div.sk-container {/* jupyter's `normalize.less` sets `[hidden] { display: none; }` but bootstrap.min.css set `[hidden] { display: none !important; }` so we also need the `!important` here to be able to override the default hidden behavior on the sphinx rendered scikit-learn.org. See: https://github.com/scikit-learn/scikit-learn/issues/21755 */display: inline-block !important;position: relative;}#sk-container-id-1 div.sk-text-repr-fallback {display: none;}</style><div id=\"sk-container-id-1\" class=\"sk-top-container\"><div class=\"sk-text-repr-fallback\"><pre>RandomForestClassifier(random_state=5)</pre><b>In a Jupyter environment, please rerun this cell to show the HTML representation or trust the notebook. <br />On GitHub, the HTML representation is unable to render, please try loading this page with nbviewer.org.</b></div><div class=\"sk-container\" hidden><div class=\"sk-item\"><div class=\"sk-estimator sk-toggleable\"><input class=\"sk-toggleable__control sk-hidden--visually\" id=\"sk-estimator-id-1\" type=\"checkbox\" checked><label for=\"sk-estimator-id-1\" class=\"sk-toggleable__label sk-toggleable__label-arrow\">RandomForestClassifier</label><div class=\"sk-toggleable__content\"><pre>RandomForestClassifier(random_state=5)</pre></div></div></div></div></div>"
      ],
      "text/plain": [
       "RandomForestClassifier(random_state=5)"
      ]
     },
     "execution_count": 9,
     "metadata": {},
     "output_type": "execute_result"
    }
   ],
   "source": [
    "rf = RandomForestClassifier(random_state=5)\n",
    "rf.fit(X_train, y_train)"
   ]
  },
  {
   "cell_type": "code",
   "execution_count": 10,
   "metadata": {},
   "outputs": [],
   "source": [
    "# Predit the final submission with Random Forest\n",
    "\n",
    "y_final = rf.predict_proba(X_test)[:, 1]\n",
    "df_test[\"target\"] = y_final.round(1)\n",
    "\n",
    "df_test[[\"id\", \"target\"]].to_csv(\"submissionrf.csv\", index=False)"
   ]
  },
  {
   "cell_type": "code",
   "execution_count": 11,
   "metadata": {},
   "outputs": [
    {
     "data": {
      "text/plain": [
       "<catboost.core.CatBoostClassifier at 0x226f68348b0>"
      ]
     },
     "execution_count": 11,
     "metadata": {},
     "output_type": "execute_result"
    }
   ],
   "source": [
    "cat = CatBoostClassifier(silent=True, random_state=5)\n",
    "cat.fit(X_train, y_train)"
   ]
  },
  {
   "cell_type": "code",
   "execution_count": 12,
   "metadata": {},
   "outputs": [],
   "source": [
    "# Predict the final submission with CatBoost\n",
    "\n",
    "y_final = cat.predict_proba(X_test)[:, 1]\n",
    "df_test[\"target\"] = y_final.round(1)\n",
    "\n",
    "df_test[[\"id\", \"target\"]].to_csv(\"submissioncat.csv\", index=False)"
   ]
  }
 ],
 "metadata": {
  "kernelspec": {
   "display_name": "Python 3",
   "language": "python",
   "name": "python3"
  },
  "language_info": {
   "codemirror_mode": {
    "name": "ipython",
    "version": 3
   },
   "file_extension": ".py",
   "mimetype": "text/x-python",
   "name": "python",
   "nbconvert_exporter": "python",
   "pygments_lexer": "ipython3",
   "version": "3.10.2"
  },
  "orig_nbformat": 4
 },
 "nbformat": 4,
 "nbformat_minor": 2
}
