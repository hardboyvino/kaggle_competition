{
 "cells": [
  {
   "cell_type": "code",
   "execution_count": 1,
   "metadata": {},
   "outputs": [],
   "source": [
    "# Import necessary libraries\n",
    "\n",
    "import pandas as pd\n",
    "import numpy as np\n",
    "from sklearn.model_selection import KFold\n",
    "from sklearn.metrics import roc_auc_score\n",
    "from sklearn.ensemble import RandomForestClassifier\n",
    "from sklearn.neighbors import KNeighborsClassifier\n",
    "import lightgbm as lgb\n",
    "import xgboost as xgb\n",
    "from catboost import CatBoostClassifier"
   ]
  },
  {
   "cell_type": "code",
   "execution_count": 2,
   "metadata": {},
   "outputs": [
    {
     "data": {
      "text/html": [
       "<div>\n",
       "<style scoped>\n",
       "    .dataframe tbody tr th:only-of-type {\n",
       "        vertical-align: middle;\n",
       "    }\n",
       "\n",
       "    .dataframe tbody tr th {\n",
       "        vertical-align: top;\n",
       "    }\n",
       "\n",
       "    .dataframe thead th {\n",
       "        text-align: right;\n",
       "    }\n",
       "</style>\n",
       "<table border=\"1\" class=\"dataframe\">\n",
       "  <thead>\n",
       "    <tr style=\"text-align: right;\">\n",
       "      <th></th>\n",
       "      <th>id</th>\n",
       "      <th>gravity</th>\n",
       "      <th>ph</th>\n",
       "      <th>osmo</th>\n",
       "      <th>cond</th>\n",
       "      <th>urea</th>\n",
       "      <th>calc</th>\n",
       "      <th>target</th>\n",
       "    </tr>\n",
       "  </thead>\n",
       "  <tbody>\n",
       "    <tr>\n",
       "      <th>0</th>\n",
       "      <td>0</td>\n",
       "      <td>1.013</td>\n",
       "      <td>6.19</td>\n",
       "      <td>443</td>\n",
       "      <td>14.8</td>\n",
       "      <td>124</td>\n",
       "      <td>1.45</td>\n",
       "      <td>0</td>\n",
       "    </tr>\n",
       "    <tr>\n",
       "      <th>1</th>\n",
       "      <td>1</td>\n",
       "      <td>1.025</td>\n",
       "      <td>5.40</td>\n",
       "      <td>703</td>\n",
       "      <td>23.6</td>\n",
       "      <td>394</td>\n",
       "      <td>4.18</td>\n",
       "      <td>0</td>\n",
       "    </tr>\n",
       "    <tr>\n",
       "      <th>2</th>\n",
       "      <td>2</td>\n",
       "      <td>1.009</td>\n",
       "      <td>6.13</td>\n",
       "      <td>371</td>\n",
       "      <td>24.5</td>\n",
       "      <td>159</td>\n",
       "      <td>9.04</td>\n",
       "      <td>0</td>\n",
       "    </tr>\n",
       "    <tr>\n",
       "      <th>3</th>\n",
       "      <td>3</td>\n",
       "      <td>1.021</td>\n",
       "      <td>4.91</td>\n",
       "      <td>442</td>\n",
       "      <td>20.8</td>\n",
       "      <td>398</td>\n",
       "      <td>6.63</td>\n",
       "      <td>1</td>\n",
       "    </tr>\n",
       "    <tr>\n",
       "      <th>4</th>\n",
       "      <td>4</td>\n",
       "      <td>1.021</td>\n",
       "      <td>5.53</td>\n",
       "      <td>874</td>\n",
       "      <td>17.8</td>\n",
       "      <td>385</td>\n",
       "      <td>2.21</td>\n",
       "      <td>1</td>\n",
       "    </tr>\n",
       "  </tbody>\n",
       "</table>\n",
       "</div>"
      ],
      "text/plain": [
       "   id  gravity    ph  osmo  cond  urea  calc  target\n",
       "0   0    1.013  6.19   443  14.8   124  1.45       0\n",
       "1   1    1.025  5.40   703  23.6   394  4.18       0\n",
       "2   2    1.009  6.13   371  24.5   159  9.04       0\n",
       "3   3    1.021  4.91   442  20.8   398  6.63       1\n",
       "4   4    1.021  5.53   874  17.8   385  2.21       1"
      ]
     },
     "execution_count": 2,
     "metadata": {},
     "output_type": "execute_result"
    }
   ],
   "source": [
    "# Load the dataset\n",
    "\n",
    "df_train = pd.read_csv(\"train.csv\")\n",
    "df_test = pd.read_csv(\"test.csv\")\n",
    "\n",
    "df_train.head()"
   ]
  },
  {
   "cell_type": "code",
   "execution_count": 3,
   "metadata": {},
   "outputs": [],
   "source": [
    "# Separate features and target for train and validation data\n",
    "\n",
    "X_train = df_train.drop([\"id\", \"target\"], axis=1)\n",
    "y_train = df_train[\"target\"]\n",
    "\n",
    "X_test = df_test.drop([\"id\"], axis=1)"
   ]
  },
  {
   "cell_type": "code",
   "execution_count": 4,
   "metadata": {},
   "outputs": [],
   "source": [
    "# Perform cross-validation and calculate the AUC ROC\n",
    "\n",
    "def evaluate_model(model, X, y, n_splits=5):\n",
    "    auc_roc_scores = []\n",
    "    kf = KFold(n_splits=n_splits, shuffle=True, random_state=5)\n",
    "\n",
    "    for train_index, test_index in kf.split(X):\n",
    "        X_train_cv, X_test_cv = X.iloc[train_index], X.iloc[test_index]\n",
    "        y_train_cv, y_test_cv = y.iloc[train_index], y.iloc[test_index]\n",
    "\n",
    "        model.fit(X_train_cv, y_train_cv)\n",
    "\n",
    "        # Predict probabilities for the test (keep only the probability of the positive class)\n",
    "        y_pred_proba_cv = model.predict_proba(X_test_cv)[:, 1]\n",
    "\n",
    "        auc_roc = roc_auc_score(y_test_cv, y_pred_proba_cv)\n",
    "        auc_roc_scores.append(auc_roc)\n",
    "    \n",
    "    return auc_roc_scores"
   ]
  },
  {
   "cell_type": "code",
   "execution_count": 5,
   "metadata": {},
   "outputs": [],
   "source": [
    "# Initialize the models\n",
    "\n",
    "models = {\n",
    "    \"LightGBM\": lgb.LGBMClassifier(random_state=5),\n",
    "    \"xGBoost\": xgb.XGBClassifier(random_state=5),\n",
    "    \"CatBoost\": CatBoostClassifier(silent=True, random_state=5),\n",
    "    \"RandomForest\": RandomForestClassifier(random_state=5),\n",
    "    \"KNN\": KNeighborsClassifier(),\n",
    "}"
   ]
  },
  {
   "cell_type": "code",
   "execution_count": 6,
   "metadata": {},
   "outputs": [
    {
     "name": "stdout",
     "output_type": "stream",
     "text": [
      "Model: LightGBM\n",
      "AUC ROC Scores: [0.7565011820330969, 0.7672955974842768, 0.7641843971631206, 0.782608695652174, 0.6868872549019608]\n",
      "Average AUC ROC: 0.75150\n",
      "Std Deviation: 0.03340\n",
      "\n",
      "Model: xGBoost\n",
      "AUC ROC Scores: [0.7452718676122931, 0.7628930817610062, 0.7446808510638298, 0.8025851938895417, 0.6948529411764706]\n",
      "Average AUC ROC: 0.75006\n",
      "Std Deviation: 0.03471\n",
      "\n",
      "Model: CatBoost\n",
      "AUC ROC Scores: [0.7777777777777778, 0.7742138364779874, 0.743498817966903, 0.826674500587544, 0.7555147058823529]\n",
      "Average AUC ROC: 0.77554\n",
      "Std Deviation: 0.02846\n",
      "\n",
      "Model: RandomForest\n",
      "AUC ROC Scores: [0.7724586288416075, 0.8254716981132075, 0.7632978723404256, 0.8116921269095182, 0.7677696078431372]\n",
      "Average AUC ROC: 0.78814\n",
      "Std Deviation: 0.02540\n",
      "\n",
      "Model: KNN\n",
      "AUC ROC Scores: [0.610224586288416, 0.6550314465408805, 0.6202718676122931, 0.6815511163337251, 0.5557598039215687]\n",
      "Average AUC ROC: 0.62457\n",
      "Std Deviation: 0.04274\n",
      "\n"
     ]
    }
   ],
   "source": [
    "for name, model in models.items():\n",
    "    auc_roc_scores = evaluate_model(model, X_train, y_train)\n",
    "    mean_roc_auc = np.mean(auc_roc_scores)\n",
    "    std = np.std(auc_roc_scores)\n",
    "\n",
    "    print(f\"Model: {name}\")\n",
    "    print(f\"AUC ROC Scores: {auc_roc_scores}\")\n",
    "    print(f\"Average AUC ROC: {mean_roc_auc:.5f}\")\n",
    "    print(f\"Std Deviation: {std:.5F}\")\n",
    "    print()"
   ]
  },
  {
   "attachments": {},
   "cell_type": "markdown",
   "metadata": {},
   "source": [
    "### OBSERVATION FOR 5 SPLITS\n",
    "1. Baseline LightGBM is 0.75150 with Std Dev of 0.03340\n",
    "2. Baseline xGBoost is 0.75006 with Std Dev of 0.03471\n",
    "3. Baseline CatBoost is 0.77554 with Std Dev of 0.2846\n",
    "4. Baseline RandomForest is 0.78814 with Std Dev of 0.2540\n",
    "5. Baseline KNN is 0.62457 with Std Dev of 0.4274\n",
    "\n",
    "Run time ~ 8 seconds"
   ]
  },
  {
   "cell_type": "code",
   "execution_count": 7,
   "metadata": {},
   "outputs": [
    {
     "name": "stdout",
     "output_type": "stream",
     "text": [
      "Model: LightGBM\n",
      "AUC ROC Scores: [0.673611111111111, 0.787037037037037, 0.7749999999999999, 0.8141176470588236, 0.730952380952381, 0.71, 0.7794117647058824, 0.8595238095238096, 0.625, 0.7132352941176471]\n",
      "Average AUC ROC: 0.74679\n",
      "Std Deviation: 0.06606\n",
      "\n",
      "Model: xGBoost\n",
      "AUC ROC Scores: [0.6805555555555556, 0.7847222222222222, 0.7611111111111111, 0.8188235294117647, 0.7357142857142857, 0.705, 0.7843137254901961, 0.8380952380952381, 0.6642156862745098, 0.6740196078431373]\n",
      "Average AUC ROC: 0.74466\n",
      "Std Deviation: 0.05908\n",
      "\n",
      "Model: CatBoost\n",
      "AUC ROC Scores: [0.6875, 0.837962962962963, 0.7416666666666667, 0.8352941176470589, 0.7119047619047619, 0.7275, 0.8088235294117647, 0.8714285714285714, 0.7450980392156863, 0.7769607843137255]\n",
      "Average AUC ROC: 0.77441\n",
      "Std Deviation: 0.05826\n",
      "\n",
      "Model: RandomForest\n",
      "AUC ROC Scores: [0.6712962962962963, 0.8645833333333333, 0.7888888888888889, 0.8423529411764705, 0.7547619047619047, 0.70875, 0.823529411764706, 0.8607142857142857, 0.7181372549019608, 0.7916666666666667]\n",
      "Average AUC ROC: 0.78247\n",
      "Std Deviation: 0.06400\n",
      "\n",
      "Model: KNN\n",
      "AUC ROC Scores: [0.4652777777777778, 0.7592592592592593, 0.6069444444444445, 0.7517647058823529, 0.6690476190476191, 0.54375, 0.6752450980392156, 0.7583333333333333, 0.47058823529411764, 0.6985294117647058]\n",
      "Average AUC ROC: 0.63987\n",
      "Std Deviation: 0.10762\n",
      "\n"
     ]
    }
   ],
   "source": [
    "for name, model in models.items():\n",
    "    auc_roc_scores = evaluate_model(model, X_train, y_train, n_splits=10)\n",
    "    mean_roc_auc = np.mean(auc_roc_scores)\n",
    "    std = np.std(auc_roc_scores)\n",
    "\n",
    "    print(f\"Model: {name}\")\n",
    "    print(f\"AUC ROC Scores: {auc_roc_scores}\")\n",
    "    print(f\"Average AUC ROC: {mean_roc_auc:.5f}\")\n",
    "    print(f\"Std Deviation: {std:.5F}\")\n",
    "    print()"
   ]
  },
  {
   "attachments": {},
   "cell_type": "markdown",
   "metadata": {},
   "source": [
    "### OBSERVATION FOR 10 SPLITS\n",
    "1. Baseline LightGBM is 0.74679 with Std Dev of 0.06606\n",
    "2. Baseline xGBoost is 0.74466 with Std Dev of 0.05908\n",
    "3. Baseline CatBoost is 0.77441 with Std Dev of 0.05826\n",
    "4. Baseline RandomForest is 0.78247 with Std Dev of 0.06400\n",
    "5. Baseline KNN is 0.63987 with Std Dev of 0.10762\n",
    "\n",
    "Run time ~ 22 seconds"
   ]
  }
 ],
 "metadata": {
  "kernelspec": {
   "display_name": "Python 3",
   "language": "python",
   "name": "python3"
  },
  "language_info": {
   "codemirror_mode": {
    "name": "ipython",
    "version": 3
   },
   "file_extension": ".py",
   "mimetype": "text/x-python",
   "name": "python",
   "nbconvert_exporter": "python",
   "pygments_lexer": "ipython3",
   "version": "3.10.2"
  },
  "orig_nbformat": 4
 },
 "nbformat": 4,
 "nbformat_minor": 2
}
