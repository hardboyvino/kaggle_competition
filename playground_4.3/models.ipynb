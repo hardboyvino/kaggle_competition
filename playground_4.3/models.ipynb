{
 "cells": [
  {
   "cell_type": "code",
   "execution_count": 1,
   "metadata": {},
   "outputs": [],
   "source": [
    "import warnings\n",
    "warnings.filterwarnings('ignore')\n",
    "\n",
    "import pandas as pd\n",
    "import numpy as np\n",
    "import optuna\n",
    "import random\n",
    "from tqdm.notebook import tqdm\n",
    "\n",
    "from sklearn.metrics import make_scorer, roc_auc_score\n",
    "from sklearn.model_selection import StratifiedKFold, cross_validate\n",
    "from sklearn.feature_selection import RFECV, SelectKBest, f_classif\n",
    "from sklearn.ensemble import ExtraTreesClassifier, RandomForestClassifier, HistGradientBoostingClassifier\n",
    "from sklearn.preprocessing import LabelEncoder, label_binarize, StandardScaler\n",
    "from sklearn.pipeline import make_pipeline\n",
    "from sklearn.inspection import permutation_importance\n",
    "\n",
    "from mlxtend.feature_selection import SequentialFeatureSelector as SFS\n",
    "from concurrent.futures import ThreadPoolExecutor\n",
    "\n",
    "from lightgbm import LGBMClassifier\n",
    "from xgboost import XGBClassifier\n",
    "from catboost import CatBoostClassifier\n",
    "\n",
    "from pprint import pprint\n",
    "import os\n",
    "\n",
    "pd.set_option('display.max_columns', None)\n",
    "# pd.set_option('display.max_rows', None)\n",
    "\n",
    "experiment_name = 'multi-models_with_original_dataset'"
   ]
  },
  {
   "cell_type": "code",
   "execution_count": 2,
   "metadata": {},
   "outputs": [],
   "source": [
    "train = pd.read_csv('train.csv')\n",
    "original = pd.read_csv('Fault.csv', delimiter='\\t')\n",
    "test = pd.read_csv('test.csv')"
   ]
  },
  {
   "cell_type": "code",
   "execution_count": 3,
   "metadata": {},
   "outputs": [
    {
     "data": {
      "text/plain": [
       "((19219, 35), (1940, 34), (12814, 28))"
      ]
     },
     "execution_count": 3,
     "metadata": {},
     "output_type": "execute_result"
    }
   ],
   "source": [
    "train.shape, original.shape, test.shape"
   ]
  },
  {
   "cell_type": "code",
   "execution_count": 4,
   "metadata": {},
   "outputs": [
    {
     "data": {
      "text/html": [
       "<div>\n",
       "<style scoped>\n",
       "    .dataframe tbody tr th:only-of-type {\n",
       "        vertical-align: middle;\n",
       "    }\n",
       "\n",
       "    .dataframe tbody tr th {\n",
       "        vertical-align: top;\n",
       "    }\n",
       "\n",
       "    .dataframe thead th {\n",
       "        text-align: right;\n",
       "    }\n",
       "</style>\n",
       "<table border=\"1\" class=\"dataframe\">\n",
       "  <thead>\n",
       "    <tr style=\"text-align: right;\">\n",
       "      <th></th>\n",
       "      <th>X_Minimum</th>\n",
       "      <th>X_Maximum</th>\n",
       "      <th>Y_Minimum</th>\n",
       "      <th>Y_Maximum</th>\n",
       "      <th>Pixels_Areas</th>\n",
       "      <th>X_Perimeter</th>\n",
       "      <th>Y_Perimeter</th>\n",
       "      <th>Sum_of_Luminosity</th>\n",
       "      <th>Minimum_of_Luminosity</th>\n",
       "      <th>Maximum_of_Luminosity</th>\n",
       "      <th>Length_of_Conveyer</th>\n",
       "      <th>TypeOfSteel_A300</th>\n",
       "      <th>TypeOfSteel_A400</th>\n",
       "      <th>Steel_Plate_Thickness</th>\n",
       "      <th>Edges_Index</th>\n",
       "      <th>Empty_Index</th>\n",
       "      <th>Square_Index</th>\n",
       "      <th>Outside_X_Index</th>\n",
       "      <th>Edges_X_Index</th>\n",
       "      <th>Edges_Y_Index</th>\n",
       "      <th>Outside_Global_Index</th>\n",
       "      <th>LogOfAreas</th>\n",
       "      <th>Log_X_Index</th>\n",
       "      <th>Log_Y_Index</th>\n",
       "      <th>Orientation_Index</th>\n",
       "      <th>Luminosity_Index</th>\n",
       "      <th>SigmoidOfAreas</th>\n",
       "      <th>Pastry</th>\n",
       "      <th>Z_Scratch</th>\n",
       "      <th>K_Scatch</th>\n",
       "      <th>Stains</th>\n",
       "      <th>Dirtiness</th>\n",
       "      <th>Bumps</th>\n",
       "      <th>Other_Faults</th>\n",
       "    </tr>\n",
       "  </thead>\n",
       "  <tbody>\n",
       "    <tr>\n",
       "      <th>0</th>\n",
       "      <td>584</td>\n",
       "      <td>590</td>\n",
       "      <td>909972</td>\n",
       "      <td>909977</td>\n",
       "      <td>16</td>\n",
       "      <td>8</td>\n",
       "      <td>5</td>\n",
       "      <td>2274</td>\n",
       "      <td>113</td>\n",
       "      <td>140</td>\n",
       "      <td>1358</td>\n",
       "      <td>0</td>\n",
       "      <td>1</td>\n",
       "      <td>50</td>\n",
       "      <td>0.7393</td>\n",
       "      <td>0.4000</td>\n",
       "      <td>0.5000</td>\n",
       "      <td>0.0059</td>\n",
       "      <td>1.0000</td>\n",
       "      <td>1.0000</td>\n",
       "      <td>0.0</td>\n",
       "      <td>1.2041</td>\n",
       "      <td>0.9031</td>\n",
       "      <td>0.6990</td>\n",
       "      <td>-0.5000</td>\n",
       "      <td>-0.0104</td>\n",
       "      <td>0.1417</td>\n",
       "      <td>0</td>\n",
       "      <td>0</td>\n",
       "      <td>0</td>\n",
       "      <td>1</td>\n",
       "      <td>0</td>\n",
       "      <td>0</td>\n",
       "      <td>0</td>\n",
       "    </tr>\n",
       "    <tr>\n",
       "      <th>1</th>\n",
       "      <td>808</td>\n",
       "      <td>816</td>\n",
       "      <td>728350</td>\n",
       "      <td>728372</td>\n",
       "      <td>433</td>\n",
       "      <td>20</td>\n",
       "      <td>54</td>\n",
       "      <td>44478</td>\n",
       "      <td>70</td>\n",
       "      <td>111</td>\n",
       "      <td>1687</td>\n",
       "      <td>1</td>\n",
       "      <td>0</td>\n",
       "      <td>80</td>\n",
       "      <td>0.7772</td>\n",
       "      <td>0.2878</td>\n",
       "      <td>0.2581</td>\n",
       "      <td>0.0044</td>\n",
       "      <td>0.2500</td>\n",
       "      <td>1.0000</td>\n",
       "      <td>1.0</td>\n",
       "      <td>2.6365</td>\n",
       "      <td>0.7782</td>\n",
       "      <td>1.7324</td>\n",
       "      <td>0.7419</td>\n",
       "      <td>-0.2997</td>\n",
       "      <td>0.9491</td>\n",
       "      <td>0</td>\n",
       "      <td>0</td>\n",
       "      <td>0</td>\n",
       "      <td>0</td>\n",
       "      <td>0</td>\n",
       "      <td>0</td>\n",
       "      <td>1</td>\n",
       "    </tr>\n",
       "    <tr>\n",
       "      <th>2</th>\n",
       "      <td>39</td>\n",
       "      <td>192</td>\n",
       "      <td>2212076</td>\n",
       "      <td>2212144</td>\n",
       "      <td>11388</td>\n",
       "      <td>705</td>\n",
       "      <td>420</td>\n",
       "      <td>1311391</td>\n",
       "      <td>29</td>\n",
       "      <td>141</td>\n",
       "      <td>1400</td>\n",
       "      <td>0</td>\n",
       "      <td>1</td>\n",
       "      <td>40</td>\n",
       "      <td>0.0557</td>\n",
       "      <td>0.5282</td>\n",
       "      <td>0.9895</td>\n",
       "      <td>0.1077</td>\n",
       "      <td>0.2363</td>\n",
       "      <td>0.3857</td>\n",
       "      <td>0.0</td>\n",
       "      <td>4.0564</td>\n",
       "      <td>2.1790</td>\n",
       "      <td>2.2095</td>\n",
       "      <td>-0.0105</td>\n",
       "      <td>-0.0944</td>\n",
       "      <td>1.0000</td>\n",
       "      <td>0</td>\n",
       "      <td>0</td>\n",
       "      <td>1</td>\n",
       "      <td>0</td>\n",
       "      <td>0</td>\n",
       "      <td>0</td>\n",
       "      <td>0</td>\n",
       "    </tr>\n",
       "    <tr>\n",
       "      <th>3</th>\n",
       "      <td>781</td>\n",
       "      <td>789</td>\n",
       "      <td>3353146</td>\n",
       "      <td>3353173</td>\n",
       "      <td>210</td>\n",
       "      <td>16</td>\n",
       "      <td>29</td>\n",
       "      <td>3202</td>\n",
       "      <td>114</td>\n",
       "      <td>134</td>\n",
       "      <td>1387</td>\n",
       "      <td>0</td>\n",
       "      <td>1</td>\n",
       "      <td>40</td>\n",
       "      <td>0.7202</td>\n",
       "      <td>0.3333</td>\n",
       "      <td>0.3333</td>\n",
       "      <td>0.0044</td>\n",
       "      <td>0.3750</td>\n",
       "      <td>0.9310</td>\n",
       "      <td>1.0</td>\n",
       "      <td>2.3222</td>\n",
       "      <td>0.7782</td>\n",
       "      <td>1.4314</td>\n",
       "      <td>0.6667</td>\n",
       "      <td>-0.0402</td>\n",
       "      <td>0.4025</td>\n",
       "      <td>0</td>\n",
       "      <td>0</td>\n",
       "      <td>1</td>\n",
       "      <td>0</td>\n",
       "      <td>0</td>\n",
       "      <td>0</td>\n",
       "      <td>0</td>\n",
       "    </tr>\n",
       "    <tr>\n",
       "      <th>4</th>\n",
       "      <td>1540</td>\n",
       "      <td>1560</td>\n",
       "      <td>618457</td>\n",
       "      <td>618502</td>\n",
       "      <td>521</td>\n",
       "      <td>72</td>\n",
       "      <td>67</td>\n",
       "      <td>48231</td>\n",
       "      <td>82</td>\n",
       "      <td>111</td>\n",
       "      <td>1692</td>\n",
       "      <td>0</td>\n",
       "      <td>1</td>\n",
       "      <td>300</td>\n",
       "      <td>0.1211</td>\n",
       "      <td>0.5347</td>\n",
       "      <td>0.0842</td>\n",
       "      <td>0.0192</td>\n",
       "      <td>0.2105</td>\n",
       "      <td>0.9861</td>\n",
       "      <td>1.0</td>\n",
       "      <td>2.7694</td>\n",
       "      <td>1.4150</td>\n",
       "      <td>1.8808</td>\n",
       "      <td>0.9158</td>\n",
       "      <td>-0.2455</td>\n",
       "      <td>0.9998</td>\n",
       "      <td>0</td>\n",
       "      <td>0</td>\n",
       "      <td>0</td>\n",
       "      <td>0</td>\n",
       "      <td>0</td>\n",
       "      <td>0</td>\n",
       "      <td>1</td>\n",
       "    </tr>\n",
       "  </tbody>\n",
       "</table>\n",
       "</div>"
      ],
      "text/plain": [
       "   X_Minimum  X_Maximum  Y_Minimum  Y_Maximum  Pixels_Areas  X_Perimeter  \\\n",
       "0        584        590     909972     909977            16            8   \n",
       "1        808        816     728350     728372           433           20   \n",
       "2         39        192    2212076    2212144         11388          705   \n",
       "3        781        789    3353146    3353173           210           16   \n",
       "4       1540       1560     618457     618502           521           72   \n",
       "\n",
       "   Y_Perimeter  Sum_of_Luminosity  Minimum_of_Luminosity  \\\n",
       "0            5               2274                    113   \n",
       "1           54              44478                     70   \n",
       "2          420            1311391                     29   \n",
       "3           29               3202                    114   \n",
       "4           67              48231                     82   \n",
       "\n",
       "   Maximum_of_Luminosity  Length_of_Conveyer  TypeOfSteel_A300  \\\n",
       "0                    140                1358                 0   \n",
       "1                    111                1687                 1   \n",
       "2                    141                1400                 0   \n",
       "3                    134                1387                 0   \n",
       "4                    111                1692                 0   \n",
       "\n",
       "   TypeOfSteel_A400  Steel_Plate_Thickness  Edges_Index  Empty_Index  \\\n",
       "0                 1                     50       0.7393       0.4000   \n",
       "1                 0                     80       0.7772       0.2878   \n",
       "2                 1                     40       0.0557       0.5282   \n",
       "3                 1                     40       0.7202       0.3333   \n",
       "4                 1                    300       0.1211       0.5347   \n",
       "\n",
       "   Square_Index  Outside_X_Index  Edges_X_Index  Edges_Y_Index  \\\n",
       "0        0.5000           0.0059         1.0000         1.0000   \n",
       "1        0.2581           0.0044         0.2500         1.0000   \n",
       "2        0.9895           0.1077         0.2363         0.3857   \n",
       "3        0.3333           0.0044         0.3750         0.9310   \n",
       "4        0.0842           0.0192         0.2105         0.9861   \n",
       "\n",
       "   Outside_Global_Index  LogOfAreas  Log_X_Index  Log_Y_Index  \\\n",
       "0                   0.0      1.2041       0.9031       0.6990   \n",
       "1                   1.0      2.6365       0.7782       1.7324   \n",
       "2                   0.0      4.0564       2.1790       2.2095   \n",
       "3                   1.0      2.3222       0.7782       1.4314   \n",
       "4                   1.0      2.7694       1.4150       1.8808   \n",
       "\n",
       "   Orientation_Index  Luminosity_Index  SigmoidOfAreas  Pastry  Z_Scratch  \\\n",
       "0            -0.5000           -0.0104          0.1417       0          0   \n",
       "1             0.7419           -0.2997          0.9491       0          0   \n",
       "2            -0.0105           -0.0944          1.0000       0          0   \n",
       "3             0.6667           -0.0402          0.4025       0          0   \n",
       "4             0.9158           -0.2455          0.9998       0          0   \n",
       "\n",
       "   K_Scatch  Stains  Dirtiness  Bumps  Other_Faults  \n",
       "0         0       1          0      0             0  \n",
       "1         0       0          0      0             1  \n",
       "2         1       0          0      0             0  \n",
       "3         1       0          0      0             0  \n",
       "4         0       0          0      0             1  "
      ]
     },
     "execution_count": 4,
     "metadata": {},
     "output_type": "execute_result"
    }
   ],
   "source": [
    "# Remove id column and check the dataset\n",
    "train.drop('id', axis=1, inplace=True)\n",
    "train.head()"
   ]
  },
  {
   "cell_type": "code",
   "execution_count": 5,
   "metadata": {},
   "outputs": [
    {
     "data": {
      "text/html": [
       "<div>\n",
       "<style scoped>\n",
       "    .dataframe tbody tr th:only-of-type {\n",
       "        vertical-align: middle;\n",
       "    }\n",
       "\n",
       "    .dataframe tbody tr th {\n",
       "        vertical-align: top;\n",
       "    }\n",
       "\n",
       "    .dataframe thead th {\n",
       "        text-align: right;\n",
       "    }\n",
       "</style>\n",
       "<table border=\"1\" class=\"dataframe\">\n",
       "  <thead>\n",
       "    <tr style=\"text-align: right;\">\n",
       "      <th></th>\n",
       "      <th>id</th>\n",
       "      <th>X_Minimum</th>\n",
       "      <th>X_Maximum</th>\n",
       "      <th>Y_Minimum</th>\n",
       "      <th>Y_Maximum</th>\n",
       "      <th>Pixels_Areas</th>\n",
       "      <th>X_Perimeter</th>\n",
       "      <th>Y_Perimeter</th>\n",
       "      <th>Sum_of_Luminosity</th>\n",
       "      <th>Minimum_of_Luminosity</th>\n",
       "      <th>Maximum_of_Luminosity</th>\n",
       "      <th>Length_of_Conveyer</th>\n",
       "      <th>TypeOfSteel_A300</th>\n",
       "      <th>TypeOfSteel_A400</th>\n",
       "      <th>Steel_Plate_Thickness</th>\n",
       "      <th>Edges_Index</th>\n",
       "      <th>Empty_Index</th>\n",
       "      <th>Square_Index</th>\n",
       "      <th>Outside_X_Index</th>\n",
       "      <th>Edges_X_Index</th>\n",
       "      <th>Edges_Y_Index</th>\n",
       "      <th>Outside_Global_Index</th>\n",
       "      <th>LogOfAreas</th>\n",
       "      <th>Log_X_Index</th>\n",
       "      <th>Log_Y_Index</th>\n",
       "      <th>Orientation_Index</th>\n",
       "      <th>Luminosity_Index</th>\n",
       "      <th>SigmoidOfAreas</th>\n",
       "    </tr>\n",
       "  </thead>\n",
       "  <tbody>\n",
       "    <tr>\n",
       "      <th>0</th>\n",
       "      <td>19219</td>\n",
       "      <td>1015</td>\n",
       "      <td>1033</td>\n",
       "      <td>3826564</td>\n",
       "      <td>3826588</td>\n",
       "      <td>659</td>\n",
       "      <td>23</td>\n",
       "      <td>46</td>\n",
       "      <td>62357</td>\n",
       "      <td>67</td>\n",
       "      <td>127</td>\n",
       "      <td>1656</td>\n",
       "      <td>0</td>\n",
       "      <td>1</td>\n",
       "      <td>150</td>\n",
       "      <td>0.3877</td>\n",
       "      <td>0.4896</td>\n",
       "      <td>0.3273</td>\n",
       "      <td>0.0095</td>\n",
       "      <td>0.5652</td>\n",
       "      <td>1.0000</td>\n",
       "      <td>1.0</td>\n",
       "      <td>2.8410</td>\n",
       "      <td>1.1139</td>\n",
       "      <td>1.6628</td>\n",
       "      <td>0.6727</td>\n",
       "      <td>-0.2261</td>\n",
       "      <td>0.9172</td>\n",
       "    </tr>\n",
       "    <tr>\n",
       "      <th>1</th>\n",
       "      <td>19220</td>\n",
       "      <td>1257</td>\n",
       "      <td>1271</td>\n",
       "      <td>419960</td>\n",
       "      <td>419973</td>\n",
       "      <td>370</td>\n",
       "      <td>26</td>\n",
       "      <td>28</td>\n",
       "      <td>39293</td>\n",
       "      <td>92</td>\n",
       "      <td>132</td>\n",
       "      <td>1354</td>\n",
       "      <td>0</td>\n",
       "      <td>1</td>\n",
       "      <td>40</td>\n",
       "      <td>0.1629</td>\n",
       "      <td>0.4136</td>\n",
       "      <td>0.0938</td>\n",
       "      <td>0.0047</td>\n",
       "      <td>0.2414</td>\n",
       "      <td>1.0000</td>\n",
       "      <td>1.0</td>\n",
       "      <td>2.5682</td>\n",
       "      <td>0.9031</td>\n",
       "      <td>1.4472</td>\n",
       "      <td>0.9063</td>\n",
       "      <td>-0.1453</td>\n",
       "      <td>0.9104</td>\n",
       "    </tr>\n",
       "    <tr>\n",
       "      <th>2</th>\n",
       "      <td>19221</td>\n",
       "      <td>1358</td>\n",
       "      <td>1372</td>\n",
       "      <td>117715</td>\n",
       "      <td>117724</td>\n",
       "      <td>289</td>\n",
       "      <td>36</td>\n",
       "      <td>32</td>\n",
       "      <td>29386</td>\n",
       "      <td>101</td>\n",
       "      <td>134</td>\n",
       "      <td>1360</td>\n",
       "      <td>0</td>\n",
       "      <td>1</td>\n",
       "      <td>40</td>\n",
       "      <td>0.0609</td>\n",
       "      <td>0.6234</td>\n",
       "      <td>0.4762</td>\n",
       "      <td>0.0155</td>\n",
       "      <td>0.6000</td>\n",
       "      <td>0.7500</td>\n",
       "      <td>0.0</td>\n",
       "      <td>2.4609</td>\n",
       "      <td>1.3222</td>\n",
       "      <td>1.3222</td>\n",
       "      <td>-0.5238</td>\n",
       "      <td>-0.0435</td>\n",
       "      <td>0.6514</td>\n",
       "    </tr>\n",
       "    <tr>\n",
       "      <th>3</th>\n",
       "      <td>19222</td>\n",
       "      <td>158</td>\n",
       "      <td>168</td>\n",
       "      <td>232415</td>\n",
       "      <td>232440</td>\n",
       "      <td>80</td>\n",
       "      <td>10</td>\n",
       "      <td>11</td>\n",
       "      <td>8586</td>\n",
       "      <td>107</td>\n",
       "      <td>140</td>\n",
       "      <td>1690</td>\n",
       "      <td>1</td>\n",
       "      <td>0</td>\n",
       "      <td>100</td>\n",
       "      <td>0.4439</td>\n",
       "      <td>0.3333</td>\n",
       "      <td>0.8182</td>\n",
       "      <td>0.0037</td>\n",
       "      <td>0.8000</td>\n",
       "      <td>1.0000</td>\n",
       "      <td>1.0</td>\n",
       "      <td>1.9031</td>\n",
       "      <td>0.6990</td>\n",
       "      <td>1.0414</td>\n",
       "      <td>0.1818</td>\n",
       "      <td>-0.0738</td>\n",
       "      <td>0.2051</td>\n",
       "    </tr>\n",
       "    <tr>\n",
       "      <th>4</th>\n",
       "      <td>19223</td>\n",
       "      <td>559</td>\n",
       "      <td>592</td>\n",
       "      <td>544375</td>\n",
       "      <td>544389</td>\n",
       "      <td>140</td>\n",
       "      <td>19</td>\n",
       "      <td>15</td>\n",
       "      <td>15524</td>\n",
       "      <td>103</td>\n",
       "      <td>134</td>\n",
       "      <td>1688</td>\n",
       "      <td>1</td>\n",
       "      <td>0</td>\n",
       "      <td>60</td>\n",
       "      <td>0.8191</td>\n",
       "      <td>0.2619</td>\n",
       "      <td>0.4286</td>\n",
       "      <td>0.0158</td>\n",
       "      <td>0.8421</td>\n",
       "      <td>0.5333</td>\n",
       "      <td>0.0</td>\n",
       "      <td>2.1461</td>\n",
       "      <td>1.3222</td>\n",
       "      <td>1.1461</td>\n",
       "      <td>-0.5714</td>\n",
       "      <td>-0.0894</td>\n",
       "      <td>0.4170</td>\n",
       "    </tr>\n",
       "  </tbody>\n",
       "</table>\n",
       "</div>"
      ],
      "text/plain": [
       "      id  X_Minimum  X_Maximum  Y_Minimum  Y_Maximum  Pixels_Areas  \\\n",
       "0  19219       1015       1033    3826564    3826588           659   \n",
       "1  19220       1257       1271     419960     419973           370   \n",
       "2  19221       1358       1372     117715     117724           289   \n",
       "3  19222        158        168     232415     232440            80   \n",
       "4  19223        559        592     544375     544389           140   \n",
       "\n",
       "   X_Perimeter  Y_Perimeter  Sum_of_Luminosity  Minimum_of_Luminosity  \\\n",
       "0           23           46              62357                     67   \n",
       "1           26           28              39293                     92   \n",
       "2           36           32              29386                    101   \n",
       "3           10           11               8586                    107   \n",
       "4           19           15              15524                    103   \n",
       "\n",
       "   Maximum_of_Luminosity  Length_of_Conveyer  TypeOfSteel_A300  \\\n",
       "0                    127                1656                 0   \n",
       "1                    132                1354                 0   \n",
       "2                    134                1360                 0   \n",
       "3                    140                1690                 1   \n",
       "4                    134                1688                 1   \n",
       "\n",
       "   TypeOfSteel_A400  Steel_Plate_Thickness  Edges_Index  Empty_Index  \\\n",
       "0                 1                    150       0.3877       0.4896   \n",
       "1                 1                     40       0.1629       0.4136   \n",
       "2                 1                     40       0.0609       0.6234   \n",
       "3                 0                    100       0.4439       0.3333   \n",
       "4                 0                     60       0.8191       0.2619   \n",
       "\n",
       "   Square_Index  Outside_X_Index  Edges_X_Index  Edges_Y_Index  \\\n",
       "0        0.3273           0.0095         0.5652         1.0000   \n",
       "1        0.0938           0.0047         0.2414         1.0000   \n",
       "2        0.4762           0.0155         0.6000         0.7500   \n",
       "3        0.8182           0.0037         0.8000         1.0000   \n",
       "4        0.4286           0.0158         0.8421         0.5333   \n",
       "\n",
       "   Outside_Global_Index  LogOfAreas  Log_X_Index  Log_Y_Index  \\\n",
       "0                   1.0      2.8410       1.1139       1.6628   \n",
       "1                   1.0      2.5682       0.9031       1.4472   \n",
       "2                   0.0      2.4609       1.3222       1.3222   \n",
       "3                   1.0      1.9031       0.6990       1.0414   \n",
       "4                   0.0      2.1461       1.3222       1.1461   \n",
       "\n",
       "   Orientation_Index  Luminosity_Index  SigmoidOfAreas  \n",
       "0             0.6727           -0.2261          0.9172  \n",
       "1             0.9063           -0.1453          0.9104  \n",
       "2            -0.5238           -0.0435          0.6514  \n",
       "3             0.1818           -0.0738          0.2051  \n",
       "4            -0.5714           -0.0894          0.4170  "
      ]
     },
     "execution_count": 5,
     "metadata": {},
     "output_type": "execute_result"
    }
   ],
   "source": [
    "test.head()"
   ]
  },
  {
   "cell_type": "code",
   "execution_count": 6,
   "metadata": {},
   "outputs": [],
   "source": [
    "original_dataset_cols = list(train.columns)"
   ]
  },
  {
   "cell_type": "code",
   "execution_count": 7,
   "metadata": {},
   "outputs": [],
   "source": [
    "features_list = ['X_Minimum', 'X_Maximum', 'Y_Minimum', 'Y_Maximum', 'Pixels_Areas',\n",
    "                 'X_Perimeter', 'Y_Perimeter', 'Sum_of_Luminosity',\n",
    "                 'Minimum_of_Luminosity', 'Maximum_of_Luminosity', 'Length_of_Conveyer',\n",
    "                 'TypeOfSteel_A300', 'TypeOfSteel_A400', 'Steel_Plate_Thickness',\n",
    "                 'Edges_Index', 'Empty_Index', 'Square_Index', 'Outside_X_Index',\n",
    "                 'Edges_X_Index', 'Edges_Y_Index', 'Outside_Global_Index', 'LogOfAreas',\n",
    "                 'Log_X_Index', 'Log_Y_Index', 'Orientation_Index', 'Luminosity_Index',\n",
    "                 'SigmoidOfAreas']"
   ]
  },
  {
   "cell_type": "code",
   "execution_count": 8,
   "metadata": {},
   "outputs": [
    {
     "data": {
      "text/html": [
       "<div>\n",
       "<style scoped>\n",
       "    .dataframe tbody tr th:only-of-type {\n",
       "        vertical-align: middle;\n",
       "    }\n",
       "\n",
       "    .dataframe tbody tr th {\n",
       "        vertical-align: top;\n",
       "    }\n",
       "\n",
       "    .dataframe thead th {\n",
       "        text-align: right;\n",
       "    }\n",
       "</style>\n",
       "<table border=\"1\" class=\"dataframe\">\n",
       "  <thead>\n",
       "    <tr style=\"text-align: right;\">\n",
       "      <th></th>\n",
       "      <th>X_Minimum</th>\n",
       "      <th>X_Maximum</th>\n",
       "      <th>Y_Minimum</th>\n",
       "      <th>Y_Maximum</th>\n",
       "      <th>Pixels_Areas</th>\n",
       "      <th>X_Perimeter</th>\n",
       "      <th>Y_Perimeter</th>\n",
       "      <th>Sum_of_Luminosity</th>\n",
       "      <th>Minimum_of_Luminosity</th>\n",
       "      <th>Maximum_of_Luminosity</th>\n",
       "      <th>Length_of_Conveyer</th>\n",
       "      <th>TypeOfSteel_A300</th>\n",
       "      <th>TypeOfSteel_A400</th>\n",
       "      <th>Steel_Plate_Thickness</th>\n",
       "      <th>Edges_Index</th>\n",
       "      <th>Empty_Index</th>\n",
       "      <th>Square_Index</th>\n",
       "      <th>Outside_X_Index</th>\n",
       "      <th>Edges_X_Index</th>\n",
       "      <th>Edges_Y_Index</th>\n",
       "      <th>Outside_Global_Index</th>\n",
       "      <th>LogOfAreas</th>\n",
       "      <th>Log_X_Index</th>\n",
       "      <th>Log_Y_Index</th>\n",
       "      <th>Orientation_Index</th>\n",
       "      <th>Luminosity_Index</th>\n",
       "      <th>SigmoidOfAreas</th>\n",
       "      <th>Pastry</th>\n",
       "      <th>Z_Scratch</th>\n",
       "      <th>K_Scatch</th>\n",
       "      <th>Stains</th>\n",
       "      <th>Dirtiness</th>\n",
       "      <th>Bumps</th>\n",
       "      <th>Other_Faults</th>\n",
       "    </tr>\n",
       "  </thead>\n",
       "  <tbody>\n",
       "    <tr>\n",
       "      <th>0</th>\n",
       "      <td>645</td>\n",
       "      <td>651</td>\n",
       "      <td>2538079</td>\n",
       "      <td>2538108</td>\n",
       "      <td>108</td>\n",
       "      <td>10</td>\n",
       "      <td>30</td>\n",
       "      <td>11397</td>\n",
       "      <td>84</td>\n",
       "      <td>123</td>\n",
       "      <td>1687</td>\n",
       "      <td>1</td>\n",
       "      <td>0</td>\n",
       "      <td>80</td>\n",
       "      <td>0.7647</td>\n",
       "      <td>0.3793</td>\n",
       "      <td>0.2069</td>\n",
       "      <td>0.0036</td>\n",
       "      <td>0.6000</td>\n",
       "      <td>0.9667</td>\n",
       "      <td>1.0</td>\n",
       "      <td>2.0334</td>\n",
       "      <td>0.7782</td>\n",
       "      <td>1.4624</td>\n",
       "      <td>0.7931</td>\n",
       "      <td>-0.1756</td>\n",
       "      <td>0.2984</td>\n",
       "      <td>1</td>\n",
       "      <td>0</td>\n",
       "      <td>0</td>\n",
       "      <td>0</td>\n",
       "      <td>0</td>\n",
       "      <td>0</td>\n",
       "      <td>0</td>\n",
       "    </tr>\n",
       "    <tr>\n",
       "      <th>1</th>\n",
       "      <td>829</td>\n",
       "      <td>835</td>\n",
       "      <td>1553913</td>\n",
       "      <td>1553931</td>\n",
       "      <td>71</td>\n",
       "      <td>8</td>\n",
       "      <td>19</td>\n",
       "      <td>7972</td>\n",
       "      <td>99</td>\n",
       "      <td>125</td>\n",
       "      <td>1623</td>\n",
       "      <td>1</td>\n",
       "      <td>0</td>\n",
       "      <td>100</td>\n",
       "      <td>0.9710</td>\n",
       "      <td>0.3426</td>\n",
       "      <td>0.3333</td>\n",
       "      <td>0.0037</td>\n",
       "      <td>0.7500</td>\n",
       "      <td>0.9474</td>\n",
       "      <td>1.0</td>\n",
       "      <td>1.8513</td>\n",
       "      <td>0.7782</td>\n",
       "      <td>1.2553</td>\n",
       "      <td>0.6667</td>\n",
       "      <td>-0.1228</td>\n",
       "      <td>0.2150</td>\n",
       "      <td>1</td>\n",
       "      <td>0</td>\n",
       "      <td>0</td>\n",
       "      <td>0</td>\n",
       "      <td>0</td>\n",
       "      <td>0</td>\n",
       "      <td>0</td>\n",
       "    </tr>\n",
       "    <tr>\n",
       "      <th>2</th>\n",
       "      <td>853</td>\n",
       "      <td>860</td>\n",
       "      <td>369370</td>\n",
       "      <td>369415</td>\n",
       "      <td>176</td>\n",
       "      <td>13</td>\n",
       "      <td>45</td>\n",
       "      <td>18996</td>\n",
       "      <td>99</td>\n",
       "      <td>126</td>\n",
       "      <td>1353</td>\n",
       "      <td>0</td>\n",
       "      <td>1</td>\n",
       "      <td>290</td>\n",
       "      <td>0.7287</td>\n",
       "      <td>0.4413</td>\n",
       "      <td>0.1556</td>\n",
       "      <td>0.0052</td>\n",
       "      <td>0.5385</td>\n",
       "      <td>1.0000</td>\n",
       "      <td>1.0</td>\n",
       "      <td>2.2455</td>\n",
       "      <td>0.8451</td>\n",
       "      <td>1.6532</td>\n",
       "      <td>0.8444</td>\n",
       "      <td>-0.1568</td>\n",
       "      <td>0.5212</td>\n",
       "      <td>1</td>\n",
       "      <td>0</td>\n",
       "      <td>0</td>\n",
       "      <td>0</td>\n",
       "      <td>0</td>\n",
       "      <td>0</td>\n",
       "      <td>0</td>\n",
       "    </tr>\n",
       "    <tr>\n",
       "      <th>3</th>\n",
       "      <td>1289</td>\n",
       "      <td>1306</td>\n",
       "      <td>498078</td>\n",
       "      <td>498335</td>\n",
       "      <td>2409</td>\n",
       "      <td>60</td>\n",
       "      <td>260</td>\n",
       "      <td>246930</td>\n",
       "      <td>37</td>\n",
       "      <td>126</td>\n",
       "      <td>1353</td>\n",
       "      <td>0</td>\n",
       "      <td>1</td>\n",
       "      <td>185</td>\n",
       "      <td>0.0695</td>\n",
       "      <td>0.4486</td>\n",
       "      <td>0.0662</td>\n",
       "      <td>0.0126</td>\n",
       "      <td>0.2833</td>\n",
       "      <td>0.9885</td>\n",
       "      <td>1.0</td>\n",
       "      <td>3.3818</td>\n",
       "      <td>1.2305</td>\n",
       "      <td>2.4099</td>\n",
       "      <td>0.9338</td>\n",
       "      <td>-0.1992</td>\n",
       "      <td>1.0000</td>\n",
       "      <td>1</td>\n",
       "      <td>0</td>\n",
       "      <td>0</td>\n",
       "      <td>0</td>\n",
       "      <td>0</td>\n",
       "      <td>0</td>\n",
       "      <td>0</td>\n",
       "    </tr>\n",
       "    <tr>\n",
       "      <th>4</th>\n",
       "      <td>430</td>\n",
       "      <td>441</td>\n",
       "      <td>100250</td>\n",
       "      <td>100337</td>\n",
       "      <td>630</td>\n",
       "      <td>20</td>\n",
       "      <td>87</td>\n",
       "      <td>62357</td>\n",
       "      <td>64</td>\n",
       "      <td>127</td>\n",
       "      <td>1387</td>\n",
       "      <td>0</td>\n",
       "      <td>1</td>\n",
       "      <td>40</td>\n",
       "      <td>0.6200</td>\n",
       "      <td>0.3417</td>\n",
       "      <td>0.1264</td>\n",
       "      <td>0.0079</td>\n",
       "      <td>0.5500</td>\n",
       "      <td>1.0000</td>\n",
       "      <td>1.0</td>\n",
       "      <td>2.7993</td>\n",
       "      <td>1.0414</td>\n",
       "      <td>1.9395</td>\n",
       "      <td>0.8736</td>\n",
       "      <td>-0.2267</td>\n",
       "      <td>0.9874</td>\n",
       "      <td>1</td>\n",
       "      <td>0</td>\n",
       "      <td>0</td>\n",
       "      <td>0</td>\n",
       "      <td>0</td>\n",
       "      <td>0</td>\n",
       "      <td>0</td>\n",
       "    </tr>\n",
       "  </tbody>\n",
       "</table>\n",
       "</div>"
      ],
      "text/plain": [
       "   X_Minimum  X_Maximum  Y_Minimum  Y_Maximum  Pixels_Areas  X_Perimeter  \\\n",
       "0        645        651    2538079    2538108           108           10   \n",
       "1        829        835    1553913    1553931            71            8   \n",
       "2        853        860     369370     369415           176           13   \n",
       "3       1289       1306     498078     498335          2409           60   \n",
       "4        430        441     100250     100337           630           20   \n",
       "\n",
       "   Y_Perimeter  Sum_of_Luminosity  Minimum_of_Luminosity  \\\n",
       "0           30              11397                     84   \n",
       "1           19               7972                     99   \n",
       "2           45              18996                     99   \n",
       "3          260             246930                     37   \n",
       "4           87              62357                     64   \n",
       "\n",
       "   Maximum_of_Luminosity  Length_of_Conveyer  TypeOfSteel_A300  \\\n",
       "0                    123                1687                 1   \n",
       "1                    125                1623                 1   \n",
       "2                    126                1353                 0   \n",
       "3                    126                1353                 0   \n",
       "4                    127                1387                 0   \n",
       "\n",
       "   TypeOfSteel_A400  Steel_Plate_Thickness  Edges_Index  Empty_Index  \\\n",
       "0                 0                     80       0.7647       0.3793   \n",
       "1                 0                    100       0.9710       0.3426   \n",
       "2                 1                    290       0.7287       0.4413   \n",
       "3                 1                    185       0.0695       0.4486   \n",
       "4                 1                     40       0.6200       0.3417   \n",
       "\n",
       "   Square_Index  Outside_X_Index  Edges_X_Index  Edges_Y_Index  \\\n",
       "0        0.2069           0.0036         0.6000         0.9667   \n",
       "1        0.3333           0.0037         0.7500         0.9474   \n",
       "2        0.1556           0.0052         0.5385         1.0000   \n",
       "3        0.0662           0.0126         0.2833         0.9885   \n",
       "4        0.1264           0.0079         0.5500         1.0000   \n",
       "\n",
       "   Outside_Global_Index  LogOfAreas  Log_X_Index  Log_Y_Index  \\\n",
       "0                   1.0      2.0334       0.7782       1.4624   \n",
       "1                   1.0      1.8513       0.7782       1.2553   \n",
       "2                   1.0      2.2455       0.8451       1.6532   \n",
       "3                   1.0      3.3818       1.2305       2.4099   \n",
       "4                   1.0      2.7993       1.0414       1.9395   \n",
       "\n",
       "   Orientation_Index  Luminosity_Index  SigmoidOfAreas  Pastry  Z_Scratch  \\\n",
       "0             0.7931           -0.1756          0.2984       1          0   \n",
       "1             0.6667           -0.1228          0.2150       1          0   \n",
       "2             0.8444           -0.1568          0.5212       1          0   \n",
       "3             0.9338           -0.1992          1.0000       1          0   \n",
       "4             0.8736           -0.2267          0.9874       1          0   \n",
       "\n",
       "   K_Scatch  Stains  Dirtiness  Bumps  Other_Faults  \n",
       "0         0       0          0      0             0  \n",
       "1         0       0          0      0             0  \n",
       "2         0       0          0      0             0  \n",
       "3         0       0          0      0             0  \n",
       "4         0       0          0      0             0  "
      ]
     },
     "execution_count": 8,
     "metadata": {},
     "output_type": "execute_result"
    }
   ],
   "source": [
    "original.columns = original_dataset_cols\n",
    "original.head()"
   ]
  },
  {
   "cell_type": "code",
   "execution_count": 9,
   "metadata": {},
   "outputs": [],
   "source": [
    "# Concat the train and original dataset\n",
    "combined_df = pd.concat([train, original], axis=0).reset_index(drop=True)"
   ]
  },
  {
   "cell_type": "code",
   "execution_count": 10,
   "metadata": {},
   "outputs": [],
   "source": [
    "# Got function from https://www.kaggle.com/code/thomasmeiner/ps4e3-eda-feature-engineering-model\n",
    "\n",
    "def reformat_data(df: pd.DataFrame) -> pd.DataFrame:\n",
    "    target_cols = [\n",
    "        \"Pastry\", #4\n",
    "        \"Z_Scratch\", #6\n",
    "        \"K_Scatch\", #2\n",
    "        \"Stains\", #5\n",
    "        \"Dirtiness\", #1\n",
    "        \"Bumps\", #0\n",
    "        \"Other_Faults\", #3\n",
    "    ]\n",
    "    non_target_cols = df.drop(target_cols, axis=1).columns.to_list()\n",
    "    \n",
    "    binary_dfs = []\n",
    "    \n",
    "    for col in target_cols:\n",
    "        temp_df = df.loc[:, non_target_cols + [col]]\n",
    "        temp_df = temp_df.loc[temp_df[col] == 1].copy() # keep positives only\n",
    "        temp_df[col] = col # target value is class name now\n",
    "        temp_df = temp_df.rename(columns={col: \"target\"}) # make target col name uniform for final concat\n",
    "        binary_dfs.append(temp_df)\n",
    "        \n",
    "    reformatted_df = pd.concat(binary_dfs)\n",
    "    return reformatted_df"
   ]
  },
  {
   "cell_type": "code",
   "execution_count": 11,
   "metadata": {},
   "outputs": [],
   "source": [
    "# def reformat_data(df: pd.DataFrame) -> pd.DataFrame:\n",
    "#     target_cols = [\n",
    "#         \"Pastry\",\n",
    "#         \"Z_Scratch\",\n",
    "#         \"K_Scatch\",\n",
    "#         \"Stains\",\n",
    "#         \"Dirtiness\",\n",
    "#         \"Bumps\",\n",
    "#         \"Other_Faults\",\n",
    "#     ]\n",
    "#     non_target_cols = df.drop(target_cols, axis=1).columns.to_list()\n",
    "\n",
    "#     binary_dfs = []\n",
    "\n",
    "#     for col in target_cols:\n",
    "#         temp_df = df.loc[:, non_target_cols + [col]]\n",
    "#         temp_df = temp_df.loc[temp_df[col] == 1].copy() # sub sample to lowest class\n",
    "#         temp_df[col] = col # target value is class name now\n",
    "#         temp_df = temp_df.rename(columns={col: \"target\"}) # make target col name uniform for final concat\n",
    "#         binary_dfs.append(temp_df)\n",
    "\n",
    "#     # collect non_defect rows\n",
    "#     temp_df = df.loc[\n",
    "#         (df[\"Pastry\"] == 0) &\n",
    "#         (df[\"Z_Scratch\"] == 0) &\n",
    "#         (df[\"K_Scatch\"] == 0) &\n",
    "#         (df[\"Stains\"] == 0) &\n",
    "#         (df[\"Dirtiness\"] == 0) &\n",
    "#         (df[\"Bumps\"] == 0) &\n",
    "#         (df[\"Other_Faults\"] == 0)\n",
    "#     ]\n",
    "#     temp_df = temp_df.loc[: , non_target_cols]\n",
    "#     temp_df[\"target\"] = \"No defect\"\n",
    "#     binary_dfs.append(temp_df)\n",
    "\n",
    "#     reformatted_df = pd.concat(binary_dfs)\n",
    "#     return reformatted_df"
   ]
  },
  {
   "cell_type": "code",
   "execution_count": 12,
   "metadata": {},
   "outputs": [
    {
     "data": {
      "text/html": [
       "<div>\n",
       "<style scoped>\n",
       "    .dataframe tbody tr th:only-of-type {\n",
       "        vertical-align: middle;\n",
       "    }\n",
       "\n",
       "    .dataframe tbody tr th {\n",
       "        vertical-align: top;\n",
       "    }\n",
       "\n",
       "    .dataframe thead th {\n",
       "        text-align: right;\n",
       "    }\n",
       "</style>\n",
       "<table border=\"1\" class=\"dataframe\">\n",
       "  <thead>\n",
       "    <tr style=\"text-align: right;\">\n",
       "      <th></th>\n",
       "      <th>X_Minimum</th>\n",
       "      <th>X_Maximum</th>\n",
       "      <th>Y_Minimum</th>\n",
       "      <th>Y_Maximum</th>\n",
       "      <th>Pixels_Areas</th>\n",
       "      <th>X_Perimeter</th>\n",
       "      <th>Y_Perimeter</th>\n",
       "      <th>Sum_of_Luminosity</th>\n",
       "      <th>Minimum_of_Luminosity</th>\n",
       "      <th>Maximum_of_Luminosity</th>\n",
       "      <th>Length_of_Conveyer</th>\n",
       "      <th>TypeOfSteel_A300</th>\n",
       "      <th>TypeOfSteel_A400</th>\n",
       "      <th>Steel_Plate_Thickness</th>\n",
       "      <th>Edges_Index</th>\n",
       "      <th>Empty_Index</th>\n",
       "      <th>Square_Index</th>\n",
       "      <th>Outside_X_Index</th>\n",
       "      <th>Edges_X_Index</th>\n",
       "      <th>Edges_Y_Index</th>\n",
       "      <th>Outside_Global_Index</th>\n",
       "      <th>LogOfAreas</th>\n",
       "      <th>Log_X_Index</th>\n",
       "      <th>Log_Y_Index</th>\n",
       "      <th>Orientation_Index</th>\n",
       "      <th>Luminosity_Index</th>\n",
       "      <th>SigmoidOfAreas</th>\n",
       "      <th>target</th>\n",
       "    </tr>\n",
       "  </thead>\n",
       "  <tbody>\n",
       "    <tr>\n",
       "      <th>7</th>\n",
       "      <td>1673</td>\n",
       "      <td>1687</td>\n",
       "      <td>294065</td>\n",
       "      <td>294091</td>\n",
       "      <td>571</td>\n",
       "      <td>38</td>\n",
       "      <td>57</td>\n",
       "      <td>53142</td>\n",
       "      <td>77</td>\n",
       "      <td>110</td>\n",
       "      <td>1692</td>\n",
       "      <td>0</td>\n",
       "      <td>1</td>\n",
       "      <td>300</td>\n",
       "      <td>0.1491</td>\n",
       "      <td>0.4326</td>\n",
       "      <td>0.9643</td>\n",
       "      <td>0.0142</td>\n",
       "      <td>0.5686</td>\n",
       "      <td>0.7179</td>\n",
       "      <td>1.0</td>\n",
       "      <td>2.7528</td>\n",
       "      <td>1.3802</td>\n",
       "      <td>1.7559</td>\n",
       "      <td>0.0357</td>\n",
       "      <td>-0.2661</td>\n",
       "      <td>0.9408</td>\n",
       "      <td>Pastry</td>\n",
       "    </tr>\n",
       "    <tr>\n",
       "      <th>24</th>\n",
       "      <td>1538</td>\n",
       "      <td>1549</td>\n",
       "      <td>849219</td>\n",
       "      <td>849235</td>\n",
       "      <td>275</td>\n",
       "      <td>19</td>\n",
       "      <td>32</td>\n",
       "      <td>28986</td>\n",
       "      <td>71</td>\n",
       "      <td>117</td>\n",
       "      <td>1626</td>\n",
       "      <td>1</td>\n",
       "      <td>0</td>\n",
       "      <td>70</td>\n",
       "      <td>0.1494</td>\n",
       "      <td>0.3990</td>\n",
       "      <td>0.3750</td>\n",
       "      <td>0.0088</td>\n",
       "      <td>0.6316</td>\n",
       "      <td>1.0000</td>\n",
       "      <td>1.0</td>\n",
       "      <td>2.4393</td>\n",
       "      <td>1.0792</td>\n",
       "      <td>1.5051</td>\n",
       "      <td>0.6250</td>\n",
       "      <td>-0.2988</td>\n",
       "      <td>0.6330</td>\n",
       "      <td>Pastry</td>\n",
       "    </tr>\n",
       "    <tr>\n",
       "      <th>35</th>\n",
       "      <td>1310</td>\n",
       "      <td>1316</td>\n",
       "      <td>435871</td>\n",
       "      <td>435916</td>\n",
       "      <td>153</td>\n",
       "      <td>16</td>\n",
       "      <td>32</td>\n",
       "      <td>17101</td>\n",
       "      <td>104</td>\n",
       "      <td>132</td>\n",
       "      <td>1352</td>\n",
       "      <td>0</td>\n",
       "      <td>1</td>\n",
       "      <td>40</td>\n",
       "      <td>0.0532</td>\n",
       "      <td>0.3854</td>\n",
       "      <td>0.3333</td>\n",
       "      <td>0.0044</td>\n",
       "      <td>0.3750</td>\n",
       "      <td>0.9688</td>\n",
       "      <td>1.0</td>\n",
       "      <td>2.1847</td>\n",
       "      <td>0.7782</td>\n",
       "      <td>1.5051</td>\n",
       "      <td>0.6667</td>\n",
       "      <td>-0.0916</td>\n",
       "      <td>0.4025</td>\n",
       "      <td>Pastry</td>\n",
       "    </tr>\n",
       "    <tr>\n",
       "      <th>60</th>\n",
       "      <td>765</td>\n",
       "      <td>774</td>\n",
       "      <td>6571361</td>\n",
       "      <td>6571375</td>\n",
       "      <td>59</td>\n",
       "      <td>9</td>\n",
       "      <td>12</td>\n",
       "      <td>6682</td>\n",
       "      <td>77</td>\n",
       "      <td>133</td>\n",
       "      <td>1360</td>\n",
       "      <td>0</td>\n",
       "      <td>1</td>\n",
       "      <td>100</td>\n",
       "      <td>0.3613</td>\n",
       "      <td>0.3571</td>\n",
       "      <td>0.2800</td>\n",
       "      <td>0.0052</td>\n",
       "      <td>0.7778</td>\n",
       "      <td>1.0000</td>\n",
       "      <td>1.0</td>\n",
       "      <td>1.7708</td>\n",
       "      <td>0.8451</td>\n",
       "      <td>1.0792</td>\n",
       "      <td>0.7200</td>\n",
       "      <td>-0.1522</td>\n",
       "      <td>0.1892</td>\n",
       "      <td>Pastry</td>\n",
       "    </tr>\n",
       "    <tr>\n",
       "      <th>67</th>\n",
       "      <td>1677</td>\n",
       "      <td>1686</td>\n",
       "      <td>1319063</td>\n",
       "      <td>1319076</td>\n",
       "      <td>91</td>\n",
       "      <td>10</td>\n",
       "      <td>15</td>\n",
       "      <td>5608</td>\n",
       "      <td>57</td>\n",
       "      <td>95</td>\n",
       "      <td>1692</td>\n",
       "      <td>1</td>\n",
       "      <td>0</td>\n",
       "      <td>70</td>\n",
       "      <td>0.0024</td>\n",
       "      <td>0.3583</td>\n",
       "      <td>0.6667</td>\n",
       "      <td>0.0047</td>\n",
       "      <td>0.8000</td>\n",
       "      <td>1.0000</td>\n",
       "      <td>1.0</td>\n",
       "      <td>1.9590</td>\n",
       "      <td>0.9031</td>\n",
       "      <td>1.1761</td>\n",
       "      <td>0.3333</td>\n",
       "      <td>-0.3868</td>\n",
       "      <td>0.2660</td>\n",
       "      <td>Pastry</td>\n",
       "    </tr>\n",
       "  </tbody>\n",
       "</table>\n",
       "</div>"
      ],
      "text/plain": [
       "    X_Minimum  X_Maximum  Y_Minimum  Y_Maximum  Pixels_Areas  X_Perimeter  \\\n",
       "7        1673       1687     294065     294091           571           38   \n",
       "24       1538       1549     849219     849235           275           19   \n",
       "35       1310       1316     435871     435916           153           16   \n",
       "60        765        774    6571361    6571375            59            9   \n",
       "67       1677       1686    1319063    1319076            91           10   \n",
       "\n",
       "    Y_Perimeter  Sum_of_Luminosity  Minimum_of_Luminosity  \\\n",
       "7            57              53142                     77   \n",
       "24           32              28986                     71   \n",
       "35           32              17101                    104   \n",
       "60           12               6682                     77   \n",
       "67           15               5608                     57   \n",
       "\n",
       "    Maximum_of_Luminosity  Length_of_Conveyer  TypeOfSteel_A300  \\\n",
       "7                     110                1692                 0   \n",
       "24                    117                1626                 1   \n",
       "35                    132                1352                 0   \n",
       "60                    133                1360                 0   \n",
       "67                     95                1692                 1   \n",
       "\n",
       "    TypeOfSteel_A400  Steel_Plate_Thickness  Edges_Index  Empty_Index  \\\n",
       "7                  1                    300       0.1491       0.4326   \n",
       "24                 0                     70       0.1494       0.3990   \n",
       "35                 1                     40       0.0532       0.3854   \n",
       "60                 1                    100       0.3613       0.3571   \n",
       "67                 0                     70       0.0024       0.3583   \n",
       "\n",
       "    Square_Index  Outside_X_Index  Edges_X_Index  Edges_Y_Index  \\\n",
       "7         0.9643           0.0142         0.5686         0.7179   \n",
       "24        0.3750           0.0088         0.6316         1.0000   \n",
       "35        0.3333           0.0044         0.3750         0.9688   \n",
       "60        0.2800           0.0052         0.7778         1.0000   \n",
       "67        0.6667           0.0047         0.8000         1.0000   \n",
       "\n",
       "    Outside_Global_Index  LogOfAreas  Log_X_Index  Log_Y_Index  \\\n",
       "7                    1.0      2.7528       1.3802       1.7559   \n",
       "24                   1.0      2.4393       1.0792       1.5051   \n",
       "35                   1.0      2.1847       0.7782       1.5051   \n",
       "60                   1.0      1.7708       0.8451       1.0792   \n",
       "67                   1.0      1.9590       0.9031       1.1761   \n",
       "\n",
       "    Orientation_Index  Luminosity_Index  SigmoidOfAreas  target  \n",
       "7              0.0357           -0.2661          0.9408  Pastry  \n",
       "24             0.6250           -0.2988          0.6330  Pastry  \n",
       "35             0.6667           -0.0916          0.4025  Pastry  \n",
       "60             0.7200           -0.1522          0.1892  Pastry  \n",
       "67             0.3333           -0.3868          0.2660  Pastry  "
      ]
     },
     "execution_count": 12,
     "metadata": {},
     "output_type": "execute_result"
    }
   ],
   "source": [
    "combined_df = reformat_data(combined_df)\n",
    "combined_df.head()"
   ]
  },
  {
   "cell_type": "code",
   "execution_count": 13,
   "metadata": {},
   "outputs": [],
   "source": [
    "TARGET = 'target'"
   ]
  },
  {
   "cell_type": "code",
   "execution_count": 14,
   "metadata": {},
   "outputs": [
    {
     "data": {
      "text/html": [
       "<div>\n",
       "<style scoped>\n",
       "    .dataframe tbody tr th:only-of-type {\n",
       "        vertical-align: middle;\n",
       "    }\n",
       "\n",
       "    .dataframe tbody tr th {\n",
       "        vertical-align: top;\n",
       "    }\n",
       "\n",
       "    .dataframe thead th {\n",
       "        text-align: right;\n",
       "    }\n",
       "</style>\n",
       "<table border=\"1\" class=\"dataframe\">\n",
       "  <thead>\n",
       "    <tr style=\"text-align: right;\">\n",
       "      <th></th>\n",
       "      <th>X_Minimum</th>\n",
       "      <th>X_Maximum</th>\n",
       "      <th>Y_Minimum</th>\n",
       "      <th>Y_Maximum</th>\n",
       "      <th>Pixels_Areas</th>\n",
       "      <th>X_Perimeter</th>\n",
       "      <th>Y_Perimeter</th>\n",
       "      <th>Sum_of_Luminosity</th>\n",
       "      <th>Minimum_of_Luminosity</th>\n",
       "      <th>Maximum_of_Luminosity</th>\n",
       "      <th>Length_of_Conveyer</th>\n",
       "      <th>TypeOfSteel_A300</th>\n",
       "      <th>TypeOfSteel_A400</th>\n",
       "      <th>Steel_Plate_Thickness</th>\n",
       "      <th>Edges_Index</th>\n",
       "      <th>Empty_Index</th>\n",
       "      <th>Square_Index</th>\n",
       "      <th>Outside_X_Index</th>\n",
       "      <th>Edges_X_Index</th>\n",
       "      <th>Edges_Y_Index</th>\n",
       "      <th>Outside_Global_Index</th>\n",
       "      <th>LogOfAreas</th>\n",
       "      <th>Log_X_Index</th>\n",
       "      <th>Log_Y_Index</th>\n",
       "      <th>Orientation_Index</th>\n",
       "      <th>Luminosity_Index</th>\n",
       "      <th>SigmoidOfAreas</th>\n",
       "      <th>target</th>\n",
       "    </tr>\n",
       "  </thead>\n",
       "  <tbody>\n",
       "    <tr>\n",
       "      <th>7</th>\n",
       "      <td>1673</td>\n",
       "      <td>1687</td>\n",
       "      <td>294065</td>\n",
       "      <td>294091</td>\n",
       "      <td>571</td>\n",
       "      <td>38</td>\n",
       "      <td>57</td>\n",
       "      <td>53142</td>\n",
       "      <td>77</td>\n",
       "      <td>110</td>\n",
       "      <td>1692</td>\n",
       "      <td>0</td>\n",
       "      <td>1</td>\n",
       "      <td>300</td>\n",
       "      <td>0.1491</td>\n",
       "      <td>0.4326</td>\n",
       "      <td>0.9643</td>\n",
       "      <td>0.0142</td>\n",
       "      <td>0.5686</td>\n",
       "      <td>0.7179</td>\n",
       "      <td>1.0</td>\n",
       "      <td>2.7528</td>\n",
       "      <td>1.3802</td>\n",
       "      <td>1.7559</td>\n",
       "      <td>0.0357</td>\n",
       "      <td>-0.2661</td>\n",
       "      <td>0.9408</td>\n",
       "      <td>4</td>\n",
       "    </tr>\n",
       "    <tr>\n",
       "      <th>24</th>\n",
       "      <td>1538</td>\n",
       "      <td>1549</td>\n",
       "      <td>849219</td>\n",
       "      <td>849235</td>\n",
       "      <td>275</td>\n",
       "      <td>19</td>\n",
       "      <td>32</td>\n",
       "      <td>28986</td>\n",
       "      <td>71</td>\n",
       "      <td>117</td>\n",
       "      <td>1626</td>\n",
       "      <td>1</td>\n",
       "      <td>0</td>\n",
       "      <td>70</td>\n",
       "      <td>0.1494</td>\n",
       "      <td>0.3990</td>\n",
       "      <td>0.3750</td>\n",
       "      <td>0.0088</td>\n",
       "      <td>0.6316</td>\n",
       "      <td>1.0000</td>\n",
       "      <td>1.0</td>\n",
       "      <td>2.4393</td>\n",
       "      <td>1.0792</td>\n",
       "      <td>1.5051</td>\n",
       "      <td>0.6250</td>\n",
       "      <td>-0.2988</td>\n",
       "      <td>0.6330</td>\n",
       "      <td>4</td>\n",
       "    </tr>\n",
       "    <tr>\n",
       "      <th>35</th>\n",
       "      <td>1310</td>\n",
       "      <td>1316</td>\n",
       "      <td>435871</td>\n",
       "      <td>435916</td>\n",
       "      <td>153</td>\n",
       "      <td>16</td>\n",
       "      <td>32</td>\n",
       "      <td>17101</td>\n",
       "      <td>104</td>\n",
       "      <td>132</td>\n",
       "      <td>1352</td>\n",
       "      <td>0</td>\n",
       "      <td>1</td>\n",
       "      <td>40</td>\n",
       "      <td>0.0532</td>\n",
       "      <td>0.3854</td>\n",
       "      <td>0.3333</td>\n",
       "      <td>0.0044</td>\n",
       "      <td>0.3750</td>\n",
       "      <td>0.9688</td>\n",
       "      <td>1.0</td>\n",
       "      <td>2.1847</td>\n",
       "      <td>0.7782</td>\n",
       "      <td>1.5051</td>\n",
       "      <td>0.6667</td>\n",
       "      <td>-0.0916</td>\n",
       "      <td>0.4025</td>\n",
       "      <td>4</td>\n",
       "    </tr>\n",
       "    <tr>\n",
       "      <th>60</th>\n",
       "      <td>765</td>\n",
       "      <td>774</td>\n",
       "      <td>6571361</td>\n",
       "      <td>6571375</td>\n",
       "      <td>59</td>\n",
       "      <td>9</td>\n",
       "      <td>12</td>\n",
       "      <td>6682</td>\n",
       "      <td>77</td>\n",
       "      <td>133</td>\n",
       "      <td>1360</td>\n",
       "      <td>0</td>\n",
       "      <td>1</td>\n",
       "      <td>100</td>\n",
       "      <td>0.3613</td>\n",
       "      <td>0.3571</td>\n",
       "      <td>0.2800</td>\n",
       "      <td>0.0052</td>\n",
       "      <td>0.7778</td>\n",
       "      <td>1.0000</td>\n",
       "      <td>1.0</td>\n",
       "      <td>1.7708</td>\n",
       "      <td>0.8451</td>\n",
       "      <td>1.0792</td>\n",
       "      <td>0.7200</td>\n",
       "      <td>-0.1522</td>\n",
       "      <td>0.1892</td>\n",
       "      <td>4</td>\n",
       "    </tr>\n",
       "    <tr>\n",
       "      <th>67</th>\n",
       "      <td>1677</td>\n",
       "      <td>1686</td>\n",
       "      <td>1319063</td>\n",
       "      <td>1319076</td>\n",
       "      <td>91</td>\n",
       "      <td>10</td>\n",
       "      <td>15</td>\n",
       "      <td>5608</td>\n",
       "      <td>57</td>\n",
       "      <td>95</td>\n",
       "      <td>1692</td>\n",
       "      <td>1</td>\n",
       "      <td>0</td>\n",
       "      <td>70</td>\n",
       "      <td>0.0024</td>\n",
       "      <td>0.3583</td>\n",
       "      <td>0.6667</td>\n",
       "      <td>0.0047</td>\n",
       "      <td>0.8000</td>\n",
       "      <td>1.0000</td>\n",
       "      <td>1.0</td>\n",
       "      <td>1.9590</td>\n",
       "      <td>0.9031</td>\n",
       "      <td>1.1761</td>\n",
       "      <td>0.3333</td>\n",
       "      <td>-0.3868</td>\n",
       "      <td>0.2660</td>\n",
       "      <td>4</td>\n",
       "    </tr>\n",
       "  </tbody>\n",
       "</table>\n",
       "</div>"
      ],
      "text/plain": [
       "    X_Minimum  X_Maximum  Y_Minimum  Y_Maximum  Pixels_Areas  X_Perimeter  \\\n",
       "7        1673       1687     294065     294091           571           38   \n",
       "24       1538       1549     849219     849235           275           19   \n",
       "35       1310       1316     435871     435916           153           16   \n",
       "60        765        774    6571361    6571375            59            9   \n",
       "67       1677       1686    1319063    1319076            91           10   \n",
       "\n",
       "    Y_Perimeter  Sum_of_Luminosity  Minimum_of_Luminosity  \\\n",
       "7            57              53142                     77   \n",
       "24           32              28986                     71   \n",
       "35           32              17101                    104   \n",
       "60           12               6682                     77   \n",
       "67           15               5608                     57   \n",
       "\n",
       "    Maximum_of_Luminosity  Length_of_Conveyer  TypeOfSteel_A300  \\\n",
       "7                     110                1692                 0   \n",
       "24                    117                1626                 1   \n",
       "35                    132                1352                 0   \n",
       "60                    133                1360                 0   \n",
       "67                     95                1692                 1   \n",
       "\n",
       "    TypeOfSteel_A400  Steel_Plate_Thickness  Edges_Index  Empty_Index  \\\n",
       "7                  1                    300       0.1491       0.4326   \n",
       "24                 0                     70       0.1494       0.3990   \n",
       "35                 1                     40       0.0532       0.3854   \n",
       "60                 1                    100       0.3613       0.3571   \n",
       "67                 0                     70       0.0024       0.3583   \n",
       "\n",
       "    Square_Index  Outside_X_Index  Edges_X_Index  Edges_Y_Index  \\\n",
       "7         0.9643           0.0142         0.5686         0.7179   \n",
       "24        0.3750           0.0088         0.6316         1.0000   \n",
       "35        0.3333           0.0044         0.3750         0.9688   \n",
       "60        0.2800           0.0052         0.7778         1.0000   \n",
       "67        0.6667           0.0047         0.8000         1.0000   \n",
       "\n",
       "    Outside_Global_Index  LogOfAreas  Log_X_Index  Log_Y_Index  \\\n",
       "7                    1.0      2.7528       1.3802       1.7559   \n",
       "24                   1.0      2.4393       1.0792       1.5051   \n",
       "35                   1.0      2.1847       0.7782       1.5051   \n",
       "60                   1.0      1.7708       0.8451       1.0792   \n",
       "67                   1.0      1.9590       0.9031       1.1761   \n",
       "\n",
       "    Orientation_Index  Luminosity_Index  SigmoidOfAreas  target  \n",
       "7              0.0357           -0.2661          0.9408       4  \n",
       "24             0.6250           -0.2988          0.6330       4  \n",
       "35             0.6667           -0.0916          0.4025       4  \n",
       "60             0.7200           -0.1522          0.1892       4  \n",
       "67             0.3333           -0.3868          0.2660       4  "
      ]
     },
     "execution_count": 14,
     "metadata": {},
     "output_type": "execute_result"
    }
   ],
   "source": [
    "label_encoder = LabelEncoder()\n",
    "\n",
    "label_encoder.fit(combined_df[TARGET])\n",
    "\n",
    "combined_df[TARGET] = label_encoder.transform(combined_df[TARGET])\n",
    "\n",
    "combined_df.head()"
   ]
  },
  {
   "cell_type": "code",
   "execution_count": 15,
   "metadata": {},
   "outputs": [
    {
     "data": {
      "text/plain": [
       "((20362, 28), (12814, 28))"
      ]
     },
     "execution_count": 15,
     "metadata": {},
     "output_type": "execute_result"
    }
   ],
   "source": [
    "combined_df.shape, test.shape"
   ]
  },
  {
   "cell_type": "code",
   "execution_count": 16,
   "metadata": {},
   "outputs": [],
   "source": [
    "X = combined_df.drop([TARGET], axis=1)\n",
    "y = combined_df[TARGET]\n",
    "\n",
    "n_splits = 3\n",
    "sk10 = StratifiedKFold(n_splits=n_splits, shuffle=True, random_state=5)"
   ]
  },
  {
   "cell_type": "code",
   "execution_count": 48,
   "metadata": {},
   "outputs": [],
   "source": [
    "lgbm_params_1 = {'objective': 'multiclass', 'num_class': 7, 'n_jobs': -1, 'random_state': 5, 'class_weight': None, 'boosting': 'gbdt', 'colsample_bytree': 0.3732513300418112, 'learning_rate': 0.11407449915410499, 'max_depth': 41, 'min_child_samples': 46, 'min_child_weight': 5.402556610174332, 'min_split_gain': 0.7031617243606461, 'n_estimators': 168, 'num_leaves': 4, 'reg_alpha': 0.6688125857557925, 'reg_lambda': 0.3006431833867248, 'subsample': 0.7700917000679017}\n",
    "lgbm_params_2 = {'objective': 'multiclass', 'num_class': 7, 'n_jobs': -1, 'random_state': 5, 'class_weight': None, 'boosting': 'dart', 'colsample_bytree': 0.5772149549047157, 'learning_rate': 0.33002721528421214, 'max_depth': 28, 'min_child_samples': 23, 'min_child_weight': 7.99839845350044, 'min_split_gain': 0.9239893181066746, 'n_estimators': 699, 'num_leaves': 21, 'reg_alpha': 0.4760265812563772, 'reg_lambda': 0.15634739914542023, 'subsample': 0.4590800039755062}\n",
    "lgbm_params_3 = {'objective': 'multiclass', 'num_class': 7, 'n_jobs': -1, 'random_state': 5, 'class_weight': None, 'boosting': 'dart', 'colsample_bytree': 0.31193732162008925, 'learning_rate': 0.03107980185406725, 'max_depth': 58, 'min_child_samples': 26, 'min_child_weight': 0.9044244579504741, 'min_split_gain': 0.6988647291560484, 'n_estimators': 814, 'num_leaves': 10, 'reg_alpha': 0.8952949360981323, 'reg_lambda': 0.12911118443546726, 'subsample': 0.9423432553265046}\n",
    "lgbm_params_4 = {'objective': 'multiclass', 'num_class': 7, 'n_jobs': -1, 'random_state': 5, 'class_weight': None, 'boosting': 'dart', 'colsample_bytree': 0.35885033102300595, 'learning_rate': 0.21902422874173558, 'max_depth': 3, 'min_child_samples': 34, 'min_child_weight': 4.768878441321062, 'min_split_gain': 0.8804385788228134, 'n_estimators': 334, 'num_leaves': 19, 'reg_alpha': 0.9922927799932719, 'reg_lambda': 0.010366800790489683, 'subsample': 0.5713199333429264}\n",
    "hist_params_1 = {'random_state': 5, 'learning_rate': 0.052466626497163174, 'max_iter': 72, 'max_leaf_nodes': 23, 'min_samples_leaf': 66, 'l2_regularization': 0.8935374409410728, 'max_bins': 151, 'max_depth': 45}\n",
    "hist_params_2 = {'random_state': 5, 'learning_rate': 0.08690147432171641, 'max_iter': 363, 'max_leaf_nodes': 49, 'min_samples_leaf': 77, 'l2_regularization': 0.5540219768909869, 'max_bins': 175, 'max_depth': 4}\n",
    "hist_params_3 = {'random_state': 5, 'learning_rate': 0.09432387429473288, 'max_iter': 269, 'max_leaf_nodes': 22, 'min_samples_leaf': 87, 'l2_regularization': 0.9939707101523615, 'max_bins': 246, 'max_depth': 39}\n",
    "hist_params_4 = {'random_state': 5, 'learning_rate': 0.010334329050417028, 'max_iter': 450, 'max_leaf_nodes': 20, 'min_samples_leaf': 87, 'l2_regularization': 0.6496937198849339, 'max_bins': 118, 'max_depth': 63}"
   ]
  },
  {
   "cell_type": "code",
   "execution_count": 49,
   "metadata": {},
   "outputs": [],
   "source": [
    "models = [\n",
    "    LGBMClassifier(n_jobs=-1, random_state=5),\n",
    "    LGBMClassifier(**lgbm_params_1),\n",
    "    LGBMClassifier(**lgbm_params_2),\n",
    "    LGBMClassifier(**lgbm_params_3),\n",
    "    LGBMClassifier(**lgbm_params_4),\n",
    "    # XGBClassifier(random_state=5),\n",
    "    # RandomForestClassifier(random_state=5),\n",
    "    # ExtraTreesClassifier(random_state=5),\n",
    "    HistGradientBoostingClassifier(random_state=5),\n",
    "    HistGradientBoostingClassifier(**hist_params_1),\n",
    "    HistGradientBoostingClassifier(**hist_params_2),\n",
    "    HistGradientBoostingClassifier(**hist_params_3),\n",
    "    HistGradientBoostingClassifier(**hist_params_4),\n",
    "    # CatBoostClassifier(random_state=5, verbose=False, early_stopping_rounds=100),\n",
    "    ]"
   ]
  },
  {
   "cell_type": "code",
   "execution_count": 50,
   "metadata": {},
   "outputs": [],
   "source": [
    "def evaluate_models_roc(models, X, y, important_features, cv_split, experiment_name):\n",
    "    MLA_compare = pd.DataFrame(columns=['MLA Name', \n",
    "                                        'MLA Parameters', \n",
    "                                        'MLA Train ROC AUC', \n",
    "                                        'MLA Test ROC AUC', \n",
    "                                        'MLA Test ROC AUC Std', \n",
    "                                        'MLA Time'])\n",
    "    \n",
    "    def evaluate_model(alg, idx):\n",
    "        MLA_name = alg.__class__.__name__\n",
    "        features = important_features.get(MLA_name, [])\n",
    "\n",
    "        # Check if the list of important features is empty\n",
    "        if len(features) == 0:\n",
    "            # If empty, return results with zero values\n",
    "            print(f'Skipping {MLA_name} due to no important features.')\n",
    "            return {\n",
    "                'MLA Name': MLA_name,\n",
    "                'MLA Parameters': str(alg.get_params()),\n",
    "                'MLA Train ROC': 0,\n",
    "                'MLA Test ROC': 0,\n",
    "                'MLA Test ROC Std': 0,\n",
    "                'MLA Time': \"0 min 0.00 sec\",\n",
    "            }\n",
    "        \n",
    "        cv_results = cross_validate(alg, \n",
    "                                    X[features], \n",
    "                                    y, cv=cv_split, \n",
    "                                    scoring='roc_auc_ovr', \n",
    "                                    return_train_score=True, \n",
    "                                    n_jobs=-1)\n",
    "\n",
    "        # Time formatting\n",
    "        mean_fit_time = cv_results['fit_time'].mean()\n",
    "        minutes, seconds = divmod(mean_fit_time, 60)\n",
    "\n",
    "        # Results population\n",
    "        result = {\n",
    "            'MLA Name': MLA_name,\n",
    "            'MLA Parameters': str(alg.get_params()),\n",
    "            'MLA Train ROC AUC': cv_results['train_score'].mean(),\n",
    "            'MLA Test ROC AUC': cv_results['test_score'].mean(),\n",
    "            'MLA Test ROC AUC Std': cv_results['test_score'].std(),\n",
    "            'MLA Time': f\"{int(minutes)} min {seconds:.2f} sec\",\n",
    "        }\n",
    "\n",
    "        print(f'Done with {MLA_name}.')\n",
    "        return result\n",
    "\n",
    "    results_list = []\n",
    "\n",
    "    with ThreadPoolExecutor(max_workers=10) as executor:\n",
    "        futures = [executor.submit(evaluate_model, alg, idx) for idx, alg in enumerate(models)]\n",
    "        for future in futures:\n",
    "            result = future.result()\n",
    "            results_list.append(result)\n",
    "\n",
    "    MLA_compare = pd.DataFrame(results_list)\n",
    "\n",
    "    MLA_compare.sort_values(by=['MLA Test ROC AUC'], ascending=False, inplace=True)\n",
    "    MLA_compare.to_csv(f'{experiment_name}_results.csv', index=False)\n",
    "\n",
    "    return MLA_compare"
   ]
  },
  {
   "cell_type": "code",
   "execution_count": null,
   "metadata": {},
   "outputs": [],
   "source": [
    "baseline_features = {}\n",
    "\n",
    "for model in models:\n",
    "    model_name = model.__class__.__name__\n",
    "\n",
    "    baseline_features[model_name] = list(X_lgbm.columns)"
   ]
  },
  {
   "cell_type": "code",
   "execution_count": null,
   "metadata": {},
   "outputs": [],
   "source": [
    "%%time\n",
    "\n",
    "baseline_models = evaluate_models_roc(models, X, y, baseline_features, sk10, f'{experiment_name}_lgbm')\n",
    "baseline_models"
   ]
  },
  {
   "cell_type": "code",
   "execution_count": null,
   "metadata": {},
   "outputs": [],
   "source": [
    "%%time\n",
    "\n",
    "baseline_models = evaluate_models_roc(models, X, y, baseline_features, sk10, f'{experiment_name}')\n",
    "baseline_models"
   ]
  },
  {
   "cell_type": "markdown",
   "metadata": {},
   "source": [
    "- Remove Correlated Features"
   ]
  },
  {
   "cell_type": "code",
   "execution_count": null,
   "metadata": {},
   "outputs": [],
   "source": [
    "# Remove correlated features (leaving just 1 of each pair)\n",
    "# Leave features highly correlated with the target\n",
    "df_no_corr = X.copy()\n",
    "correlation_matrix_spear = df_no_corr.corr(method='spearman').abs()\n",
    "\n",
    "# Select upper triangle of correlation matrix\n",
    "upper_spear = correlation_matrix_spear.where(np.triu(np.ones(correlation_matrix_spear.shape), k=1).astype(bool))\n",
    "\n",
    "# Find index of feature columns with correlation greater than a threshold (e.g., 0.9 in this case)\n",
    "to_drop_spear = [column for column in upper_spear.columns if any(upper_spear[column] >= 0.9)]\n",
    "\n",
    "# Drop features\n",
    "df_reduced_spear = df_no_corr.drop(to_drop_spear, axis=1)\n",
    "\n",
    "# Get list of low correlation features excluding TARGET\n",
    "low_corr_feats_spear = list(df_reduced_spear.columns)\n",
    "\n",
    "with open('low_corr_spear.txt', 'w') as f:\n",
    "    f.write(str(low_corr_feats_spear))\n",
    "    f.write('\\n')\n",
    "\n",
    "# Print the high correlation features effect\n",
    "# Both pre and post drop dfs contain the TARGET\n",
    "print(f\"Dropped {len(to_drop_spear)} highly correlated features.\\nOld Shape of the dataset was {df_no_corr.shape}\\nNew shape of the dataset is {df_reduced_spear.shape}\")"
   ]
  },
  {
   "cell_type": "code",
   "execution_count": null,
   "metadata": {},
   "outputs": [],
   "source": [
    "%%time\n",
    "\n",
    "no_corr_features = {}\n",
    "\n",
    "for model in models:\n",
    "    model_name = model.__class__.__name__\n",
    "\n",
    "    no_corr_features[model_name] = list(df_reduced_spear.columns)"
   ]
  },
  {
   "cell_type": "code",
   "execution_count": null,
   "metadata": {},
   "outputs": [],
   "source": [
    "%%time\n",
    "\n",
    "no_corr_models = evaluate_models_roc(models, df_reduced_spear, y, no_corr_features, sk10, f'{experiment_name}_corr')\n",
    "no_corr_models"
   ]
  },
  {
   "cell_type": "markdown",
   "metadata": {},
   "source": [
    "- Feature Importances"
   ]
  },
  {
   "cell_type": "code",
   "execution_count": null,
   "metadata": {},
   "outputs": [],
   "source": [
    "# feat_importance_features = {}\n",
    "\n",
    "# for model in models:\n",
    "#     model_name = model.__class__.__name__\n",
    "\n",
    "#     try:\n",
    "#         # Initialize array to store feature importances\n",
    "#         feature_importances = np.zeros(X.shape[1])\n",
    "\n",
    "#         # Loop through each fold and calculate the feature importances\n",
    "#         for train_index, test_index in sk10.split(X, y):\n",
    "#             X_train, X_test = X.iloc[train_index], X.iloc[test_index]\n",
    "#             y_train, y_test = y.iloc[train_index], y.iloc[test_index]\n",
    "\n",
    "#             model.fit(X_train, y_train)\n",
    "\n",
    "#             # Get the feature importances and them to the total\n",
    "#             feature_importances += model.feature_importances_\n",
    "\n",
    "#         feature_importances /= n_splits\n",
    "\n",
    "#         feature_importances_dict = dict(zip(X.columns, feature_importances))\n",
    "\n",
    "#         df = pd.DataFrame.from_dict(feature_importances_dict, orient='index')\n",
    "\n",
    "#         # Resetting index with a name for the column\n",
    "#         df = df.reset_index().rename(columns={'index': 'Feature', 0: 'Avg_Feat_Importance'})\n",
    "#         df.sort_values(by='Avg_Feat_Importance', ascending=False, inplace=True)\n",
    "\n",
    "#         # Save to CSV\n",
    "#         df.to_csv(f'{model_name}_feature_importances.csv')\n",
    "\n",
    "#         fi_threshold = 0\n",
    "\n",
    "#         fi_feats = df[df['Avg_Feat_Importance'] > fi_threshold]['Feature'].tolist()\n",
    "\n",
    "#         feat_importance_features[model_name] = fi_feats\n",
    "#         print(f'Done with {model_name}')\n",
    "\n",
    "#     except AttributeError:\n",
    "#         feat_importance_features[model_name] = list(X.columns)\n",
    "#         print(f'{model_name} does not have feature_importances_')"
   ]
  },
  {
   "cell_type": "code",
   "execution_count": null,
   "metadata": {},
   "outputs": [],
   "source": [
    "# with open('featimp_features.txt', mode='w') as f:\n",
    "#     pprint(feat_importance_features, stream=f)"
   ]
  },
  {
   "cell_type": "markdown",
   "metadata": {},
   "source": [
    "- Permutation Importance"
   ]
  },
  {
   "cell_type": "code",
   "execution_count": null,
   "metadata": {},
   "outputs": [],
   "source": [
    "# Generate a random feature for X\n",
    "np.random.seed(5)\n",
    "df_reduced_spear['random_control_feature'] = np.round(np.random.uniform(-2, 2, df_reduced_spear.shape[0]), 6)\n",
    "df_reduced_spear.shape"
   ]
  },
  {
   "cell_type": "code",
   "execution_count": null,
   "metadata": {},
   "outputs": [],
   "source": [
    "%%time\n",
    "\n",
    "perm_cv = StratifiedKFold(n_splits=5, shuffle=True, random_state=5)\n",
    "\n",
    "perm_importances = {model.__class__.__name__: [] for model in models}\n",
    "\n",
    "for i, (train_idx, test_idx) in enumerate(perm_cv.split(df_reduced_spear, y)):\n",
    "    X_train, X_test = df_reduced_spear.iloc[train_idx], df_reduced_spear.iloc[test_idx]\n",
    "    y_train, y_test = y.iloc[train_idx], y.iloc[test_idx]\n",
    "\n",
    "    for model in models:\n",
    "        model_name = model.__class__.__name__\n",
    "        model.fit(X_train, y_train)\n",
    "        # Calculate permutation importance\n",
    "        result = permutation_importance(model, X_test, y_test, n_repeats=5, random_state=5, n_jobs=-1, scoring='roc_auc_ovr')\n",
    "        perm_importances[model_name].append(result.importances_mean)\n",
    "        print(f'Done with {model_name}.')\n",
    "    \n",
    "    print(f'Done with Fold {i+1}', end='\\n\\n')"
   ]
  },
  {
   "cell_type": "code",
   "execution_count": null,
   "metadata": {},
   "outputs": [],
   "source": [
    "%%time\n",
    "\n",
    "# Average importances across folds and export to CSV\n",
    "for model_name, importances in perm_importances.items():\n",
    "    avg_importance = np.mean(importances, axis=0)\n",
    "    importance_df = pd.DataFrame({'Feature': df_reduced_spear.columns, 'Importance': avg_importance})\n",
    "    importance_df.sort_values(by='Importance', ascending=False, inplace=True)\n",
    "    # Export to CSV\n",
    "    importance_df.to_csv(f'.\\permutation_importances\\{model_name}_permutation_importance.csv', index=False)\n",
    "\n",
    "print('Done with Permuation Importances', end='\\n\\n')"
   ]
  },
  {
   "cell_type": "code",
   "execution_count": null,
   "metadata": {},
   "outputs": [],
   "source": [
    "directory = 'permutation_importances'\n",
    "\n",
    "# Initialize a dictionary for the features\n",
    "perm_important_features = {}\n",
    "\n",
    "for model in models:\n",
    "    model_name = model.__class__.__name__\n",
    "    csv_path = os.path.join(directory, f'{model_name}_permutation_importance.csv')\n",
    "    if os.path.exists(csv_path):\n",
    "        df = pd.read_csv(csv_path)\n",
    "\n",
    "        # Check for 'random_control_feature' and its importance\n",
    "        if 'random_control_feature' in df['Feature'].values:\n",
    "            random_feature_importance = df.loc[df['Feature'] == 'random_control_feature', 'Importance'].iloc[0]\n",
    "        else:\n",
    "            random_feature_importance = 0\n",
    "\n",
    "        # Determine the threshold\n",
    "        threshold = max(0, random_feature_importance)\n",
    "\n",
    "        # Filter features where importance is greater than 0\n",
    "        important_feats_filtered = df[df['Importance'] > threshold]['Feature'].tolist()\n",
    "\n",
    "        # Reorder important_feats based on the predefined features_list\n",
    "        important_feats_ordered = [feat for feat in features_list if feat in important_feats_filtered]\n",
    "\n",
    "        # Add to importance dictionary\n",
    "        perm_important_features[model_name] = important_feats_ordered\n",
    "\n",
    "    else:\n",
    "        print(f'CSV file for {model_name} not found.')\n",
    "\n",
    "print('Done getting important features dictionary')"
   ]
  },
  {
   "cell_type": "code",
   "execution_count": null,
   "metadata": {},
   "outputs": [],
   "source": [
    "with open('perm_important_features_lgbm.txt', mode='w') as f:\n",
    "    pprint(perm_important_features, stream=f)"
   ]
  },
  {
   "cell_type": "code",
   "execution_count": null,
   "metadata": {},
   "outputs": [],
   "source": [
    "%%time\n",
    "\n",
    "# Set seeds for reproducibility\n",
    "np.random.seed(42)\n",
    "random.seed(42)\n",
    "\n",
    "perm_importance_models = evaluate_models_roc(models, X, y, perm_important_features, sk10, f'{experiment_name}_permimp')\n",
    "perm_importance_models"
   ]
  },
  {
   "cell_type": "markdown",
   "metadata": {},
   "source": [
    "- SelectKBest with f_classif"
   ]
  },
  {
   "cell_type": "code",
   "execution_count": null,
   "metadata": {},
   "outputs": [],
   "source": [
    "best_features_list = []\n",
    "kbest_features = {}\n",
    "\n",
    "for model in models:\n",
    "    model_name = model.__class__.__name__\n",
    "\n",
    "    # Select whichever one had a better CV score generally\n",
    "    # Also, consider computational expense and accuracy balance\n",
    "    \n",
    "    features = perm_important_features[model_name]\n",
    "    # features = list(df_reduced_spear.columns)\n",
    "\n",
    "    # incase there is no feature that had importance, go to the next model\n",
    "    if len(features) == 0:\n",
    "        continue\n",
    "\t\n",
    "    X_kbest = X[features]\n",
    "    best_score = 0\n",
    "    best_k = 0\n",
    "    best_features = []\n",
    "\n",
    "    # Iterate over k from 1 to number of features\n",
    "    for k in range(1, len(features) + 1):\n",
    "        print(f'currently running {k} features on {model_name}')\n",
    "        # Apply SelectKBest\n",
    "        selector = SelectKBest(f_classif, k=k)\n",
    "        X_new = selector.fit_transform(X_kbest, y)\n",
    "\n",
    "        # Get the selected feature names\n",
    "        selected_features = X_kbest.columns[selector.get_support()]\n",
    "\n",
    "        # Evaluate the model\n",
    "        # model = LGBMClassifier(n_jobs=-1, random_state=5)\n",
    "        roc_auc_scores = cross_validate(model, X_new, y, cv=sk10, scoring='roc_auc_ovr', n_jobs=-1)\n",
    "        mean_roc_auc_scores = roc_auc_scores['test_score'].mean()\n",
    "\n",
    "        if mean_roc_auc_scores > best_score:\n",
    "            best_k = k\n",
    "            best_score = mean_roc_auc_scores\n",
    "            best_features = list(selected_features)\n",
    "\n",
    "    best_features_list.append({'k': best_k,\n",
    "                    'Selected Features': best_features,\n",
    "                    'ROC AUC Score': best_score,\n",
    "                    'Model Name': model_name})\n",
    "    \n",
    "    kbest_features[model_name] = best_features\n",
    "\n",
    "best_features_df = pd.DataFrame(best_features_list)\n",
    "\n",
    "best_features_df.sort_values(by='ROC AUC Score', ascending=False, inplace=True)"
   ]
  },
  {
   "cell_type": "code",
   "execution_count": null,
   "metadata": {},
   "outputs": [],
   "source": [
    "with open('kbest_features.txt', mode='w') as f:\n",
    "    pprint(kbest_features, stream=f)"
   ]
  },
  {
   "cell_type": "code",
   "execution_count": null,
   "metadata": {},
   "outputs": [],
   "source": [
    "best_features_df"
   ]
  },
  {
   "cell_type": "markdown",
   "metadata": {},
   "source": [
    "- RFECV"
   ]
  },
  {
   "cell_type": "code",
   "execution_count": null,
   "metadata": {},
   "outputs": [],
   "source": [
    "%%time\n",
    "\n",
    "# Initialize empty dictionary for RFECV features\n",
    "rfecv_features = {}\n",
    "\n",
    "for alg in models:\n",
    "    # set name\n",
    "    MLA_name = alg.__class__.__name__\n",
    "\t\t\n",
    "    features = perm_important_features[MLA_name]\n",
    "\n",
    "    # incase there is no feature that had importance, go to the next model\n",
    "    if len(features) == 0:\n",
    "        continue\n",
    "\t\n",
    "    X_rfecv = X[features]\n",
    "\n",
    "    try:\n",
    "        print(f'Starting with {MLA_name}')\n",
    "        # Create the RFECV object and rank each feature\n",
    "        selector = RFECV(alg, cv=sk10, step=1, scoring='roc_auc_ovr', verbose=2)\n",
    "        selector = selector.fit(X_rfecv, y)\n",
    "\n",
    "        selected_features = list(X_rfecv.columns[selector.support_])\n",
    "\n",
    "        # Reorder selected_features based on the predefined features_list\n",
    "        selected_features_ordered = [feat for feat in features_list if feat in selected_features]\n",
    "\n",
    "        rfecv_features[MLA_name] = selected_features_ordered\n",
    "\n",
    "        print(f'Done with {MLA_name}', end='\\n\\n')\n",
    "    \n",
    "    except ValueError:\n",
    "        # In case of an error, keep the original order but filtered by features_list\n",
    "        features_filtered = [feat for feat in features_list if feat in features]\n",
    "        rfecv_features[MLA_name] = features_filtered\n",
    "        print(f'{MLA_name} does not have coef_ or feature_importances_', end='\\n\\n')"
   ]
  },
  {
   "cell_type": "code",
   "execution_count": null,
   "metadata": {},
   "outputs": [],
   "source": [
    "with open('rfecv_features.txt', mode='w') as f:\n",
    "    pprint(rfecv_features, stream=f)"
   ]
  },
  {
   "cell_type": "code",
   "execution_count": null,
   "metadata": {},
   "outputs": [],
   "source": [
    "%%time\n",
    "\n",
    "# Set seeds for reproducibility\n",
    "np.random.seed(42)\n",
    "random.seed(42)\n",
    "\n",
    "rfecv_models = evaluate_models_roc(models, X, y, rfecv_features, sk10, f'{experiment_name}_rfecv')\n",
    "rfecv_models"
   ]
  },
  {
   "cell_type": "markdown",
   "metadata": {},
   "source": [
    "- SFS"
   ]
  },
  {
   "cell_type": "code",
   "execution_count": null,
   "metadata": {},
   "outputs": [],
   "source": [
    "%%time\n",
    "\n",
    "# Initialize empty dictionary for SFS features\n",
    "sfs_features = {}\n",
    "\n",
    "for alg in models:\n",
    "    # set name\n",
    "    MLA_name = alg.__class__.__name__\n",
    "\n",
    "    try:\n",
    "            \n",
    "        # features = kbest_features[MLA_name]\n",
    "        # features = feat_importance_features[MLA_name]\n",
    "        features = rfecv_features[MLA_name]\n",
    "\n",
    "        # incase there is no feature that had importance, go to the next model\n",
    "        if len(features) == 0:\n",
    "            continue\n",
    "        \n",
    "        X_sfs = X[features]\n",
    "\n",
    "        print(f'Running backward feature selection with {MLA_name}')\n",
    "\n",
    "        sfs = SFS(alg,\n",
    "            k_features='best',\n",
    "            forward=False,\n",
    "            floating=False,\n",
    "            scoring='roc_auc_ovr',\n",
    "            verbose=2,\n",
    "            n_jobs=-1,\n",
    "            cv=sk10)\n",
    "        \n",
    "        sfs = sfs.fit(X_sfs, y)\n",
    "\n",
    "        # Get the selected features index\n",
    "        selected_sfs_idx = list(sfs.k_feature_idx_)\n",
    "\n",
    "        # Get the feature names\n",
    "        selected_sfs_feats = X_sfs.columns[selected_sfs_idx]\n",
    "\n",
    "        selected_features = list(selected_sfs_feats)\n",
    "\n",
    "        # Reorder selected_features based on the predefined features_list\n",
    "        selected_features_ordered = [feat for feat in features_list if feat in selected_features]\n",
    "\n",
    "        sfs_features[MLA_name] = selected_features_ordered\n",
    "\n",
    "        print(f'Done with {MLA_name}', end='\\n\\n')\n",
    "\n",
    "    except KeyError:\n",
    "        print(f'{MLA_name} not in the dictionary.')"
   ]
  },
  {
   "cell_type": "code",
   "execution_count": null,
   "metadata": {},
   "outputs": [],
   "source": [
    "with open('sfs_features.txt', mode='w') as f:\n",
    "    pprint(sfs_features, stream=f)"
   ]
  },
  {
   "cell_type": "code",
   "execution_count": null,
   "metadata": {},
   "outputs": [],
   "source": [
    "%%time\n",
    "\n",
    "# Set seeds for reproducibility\n",
    "np.random.seed(42)\n",
    "random.seed(42)\n",
    "\n",
    "sfs_models = evaluate_models_roc(models, X, y, sfs_features, sk10, f'{experiment_name}_sfs')\n",
    "sfs_models"
   ]
  },
  {
   "cell_type": "code",
   "execution_count": null,
   "metadata": {},
   "outputs": [],
   "source": [
    "%%time\n",
    "\n",
    "# Set seeds for reproducibility\n",
    "np.random.seed(42)\n",
    "random.seed(42)\n",
    "\n",
    "feat_importance_models = evaluate_models_roc(models, X, y, feat_importance_features, sk10, f'{experiment_name}_featimp')\n",
    "feat_importance_models"
   ]
  },
  {
   "cell_type": "code",
   "execution_count": null,
   "metadata": {},
   "outputs": [],
   "source": [
    "%%time\n",
    "\n",
    "# Set seeds for reproducibility\n",
    "np.random.seed(42)\n",
    "random.seed(42)\n",
    "\n",
    "kbest_models = evaluate_models_roc(models, X, y, kbest_features, sk10, f'{experiment_name}_kbest')\n",
    "kbest_models"
   ]
  },
  {
   "cell_type": "markdown",
   "metadata": {},
   "source": [
    "### Post Model Features"
   ]
  },
  {
   "cell_type": "code",
   "execution_count": null,
   "metadata": {},
   "outputs": [],
   "source": [
    "model1 = LGBMClassifier(n_jobs=-1, random_state=5)\n",
    "model2 = XGBClassifier(random_state=5)\n",
    "model3 = RandomForestClassifier(random_state=5)\n",
    "model4 = ExtraTreesClassifier(random_state=5)\n",
    "model5 = HistGradientBoostingClassifier(random_state=5)\n",
    "model6 = CatBoostClassifier(random_state=5, verbose=False, early_stopping_rounds=100)"
   ]
  },
  {
   "cell_type": "markdown",
   "metadata": {},
   "source": [
    "- Features for Competition + Original dataset down to SFS for all models (Experiment Set 2)"
   ]
  },
  {
   "cell_type": "code",
   "execution_count": 17,
   "metadata": {},
   "outputs": [],
   "source": [
    "model1_feats = ['X_Minimum', 'Y_Minimum', 'Pixels_Areas', 'X_Perimeter', 'Minimum_of_Luminosity', 'Length_of_Conveyer', 'TypeOfSteel_A300', 'Steel_Plate_Thickness', 'Edges_Index', 'Empty_Index', 'Square_Index', 'Outside_X_Index', 'Edges_X_Index', 'Edges_Y_Index', 'Orientation_Index', 'Luminosity_Index']\n",
    "model2_feats = ['X_Minimum', 'Pixels_Areas', 'X_Perimeter', 'Minimum_of_Luminosity', 'Maximum_of_Luminosity', 'Length_of_Conveyer', 'TypeOfSteel_A300', 'Steel_Plate_Thickness', 'Edges_Index', 'Empty_Index', 'Outside_X_Index', 'Edges_Y_Index', 'Outside_Global_Index', 'Orientation_Index', 'Luminosity_Index']\n",
    "model3_feats = ['X_Minimum', 'Y_Minimum', 'Pixels_Areas', 'X_Perimeter', 'Minimum_of_Luminosity', 'Maximum_of_Luminosity', 'Length_of_Conveyer', 'TypeOfSteel_A300', 'Steel_Plate_Thickness', 'Edges_Index', 'Empty_Index', 'Outside_X_Index', 'Edges_Y_Index', 'Orientation_Index', 'Luminosity_Index']\n",
    "model4_feats = ['X_Minimum', 'Y_Minimum', 'Pixels_Areas', 'Minimum_of_Luminosity', 'Maximum_of_Luminosity', 'Length_of_Conveyer', 'TypeOfSteel_A300', 'Steel_Plate_Thickness', 'Edges_Index', 'Empty_Index', 'Outside_X_Index', 'Edges_Y_Index', 'Orientation_Index']\n",
    "model5_feats = ['X_Minimum', 'Y_Minimum', 'Pixels_Areas', 'Minimum_of_Luminosity', 'Length_of_Conveyer', 'TypeOfSteel_A300', 'Steel_Plate_Thickness', 'Edges_Index', 'Empty_Index', 'Square_Index', 'Outside_X_Index', 'Edges_Y_Index', 'Orientation_Index', 'Luminosity_Index']\n",
    "model6_feats = ['X_Minimum', 'Pixels_Areas', 'X_Perimeter', 'Minimum_of_Luminosity', 'Maximum_of_Luminosity', 'Length_of_Conveyer', 'TypeOfSteel_A300', 'Steel_Plate_Thickness', 'Edges_Index', 'Empty_Index', 'Outside_X_Index', 'Edges_Y_Index', 'Outside_Global_Index', 'Orientation_Index', 'Luminosity_Index']\n",
    "\n",
    "X_lgbm = X[model1_feats]\n",
    "X_xgb = X[model2_feats]\n",
    "X_rf = X[model3_feats]\n",
    "X_extrat = X[model4_feats]\n",
    "X_hist = X[model5_feats]\n",
    "X_cat = X[model6_feats]"
   ]
  },
  {
   "cell_type": "markdown",
   "metadata": {},
   "source": [
    "# Hyperparameter Tuning"
   ]
  },
  {
   "cell_type": "markdown",
   "metadata": {},
   "source": [
    "- LGBM"
   ]
  },
  {
   "cell_type": "code",
   "execution_count": null,
   "metadata": {},
   "outputs": [],
   "source": [
    "def objective(trial):\n",
    "    # class_weight_option = trial.suggest_categorical('class_weight', ['none', 'balanced', 'custom'])\n",
    "    # if class_weight_option == 'none':\n",
    "    #     class_weight = None\n",
    "    # elif class_weight_option == 'balanced':\n",
    "    #     class_weight = 'balanced'\n",
    "    # else:\n",
    "    #     # For multi-class, you could define a range or specific values to test\n",
    "    #     weight_for_class_0 = trial.suggest_float('weight_for_class_0', 0.1, 10.0)\n",
    "    #     weight_for_class_1 = trial.suggest_float('weight_for_class_1', 0.1, 10.0)\n",
    "    #     weight_for_class_2 = trial.suggest_float('weight_for_class_2', 0.1, 10.0)\n",
    "    #     weight_for_class_3 = trial.suggest_float('weight_for_class_3', 0.1, 10.0)\n",
    "    #     weight_for_class_4 = trial.suggest_float('weight_for_class_4', 0.1, 10.0)\n",
    "    #     weight_for_class_5 = trial.suggest_float('weight_for_class_5', 0.1, 10.0)\n",
    "    #     weight_for_class_6 = trial.suggest_float('weight_for_class_6', 0.1, 10.0)\n",
    "    #     class_weight = {0: weight_for_class_0, 1: weight_for_class_1, 2: weight_for_class_2, 3: weight_for_class_3, 4: weight_for_class_4, 5: weight_for_class_5, 6: weight_for_class_6}\n",
    "\n",
    "    param = {\n",
    "        'objective': 'multiclass',\n",
    "        'num_class': 7,\n",
    "        # 'boosting_type': trial.suggest_categorical('boosting', ['gbdt', 'dart', 'goss']),\n",
    "        'boosting_type': trial.suggest_categorical('boosting', ['gbdt', 'dart']), # Selected from observing the other tuning trials\n",
    "        # 'class_weight': class_weight,\n",
    "        'class_weight': None, # Selected from observing the other tuning trials\n",
    "        'colsample_bytree': trial.suggest_float('colsample_bytree', 0.2, 0.8),\n",
    "        'learning_rate': trial.suggest_float('learning_rate', 0.000001, 0.5),\n",
    "        'max_depth': trial.suggest_int('max_depth', -1, 64),\n",
    "        'min_child_samples': trial.suggest_int('min_child_samples', 5, 100),\n",
    "        'min_child_weight': trial.suggest_float('min_child_weight', 0.001, 10.0),\n",
    "        'min_split_gain': trial.suggest_float('min_split_gain', 0.5, 1.0),\n",
    "        'n_estimators': trial.suggest_int('n_estimators', 100, 1000),\n",
    "        'n_jobs': -1,\n",
    "        'num_leaves': trial.suggest_int('num_leaves', 2, 150),\n",
    "        'random_state': 5,\n",
    "        'reg_alpha': trial.suggest_float('reg_alpha', 0.4, 1.0),\n",
    "        'reg_lambda': trial.suggest_float('reg_lambda', 0.0, 0.5),\n",
    "        'subsample': trial.suggest_float('subsample', 0.4, 1.0),\n",
    "        }\n",
    "\n",
    "    roc_auc_scores = []\n",
    "    \n",
    "    for train_index, test_index in sk10.split(X_lgbm, y):\n",
    "        X_train, X_test = X_lgbm.iloc[train_index], X_lgbm.iloc[test_index]\n",
    "        y_train, y_test = y.iloc[train_index], y.iloc[test_index]\n",
    "\n",
    "        model = LGBMClassifier(**param)\n",
    "        model.fit(X_train, y_train, eval_set=[(X_test, y_test)], early_stopping_rounds=100, verbose=False)\n",
    "        preds = model.predict_proba(X_test)\n",
    "        roc_auc = roc_auc_score(y_test, preds, multi_class='ovr', average='macro')\n",
    "        roc_auc_scores.append(roc_auc)\n",
    "    \n",
    "    return np.mean(roc_auc_scores)\n",
    "\n",
    "# Using median pruner\n",
    "pruner = optuna.pruners.MedianPruner(n_startup_trials=5, n_warmup_steps=3, interval_steps=1)\n",
    "\n",
    "study = optuna.create_study(direction='maximize', pruner=pruner)\n",
    "study.optimize(objective, n_trials=50)\n",
    "\n",
    "print('Number of finished trials:', len(study.trials))\n",
    "print('Best trial:', study.best_trial.params)\n",
    "\n",
    "# 0.893695902"
   ]
  },
  {
   "cell_type": "markdown",
   "metadata": {},
   "source": [
    "- HistGradient"
   ]
  },
  {
   "cell_type": "code",
   "execution_count": 43,
   "metadata": {},
   "outputs": [
    {
     "name": "stderr",
     "output_type": "stream",
     "text": [
      "[I 2024-03-31 06:52:19,907] A new study created in memory with name: no-name-77d9dd6a-d48d-42b9-92ca-80ed25dfac9b\n"
     ]
    },
    {
     "name": "stderr",
     "output_type": "stream",
     "text": [
      "[I 2024-03-31 06:52:24,923] Trial 0 finished with value: 0.8956214804690127 and parameters: {'learning_rate': 0.12521503862244876, 'max_iter': 397, 'max_leaf_nodes': 49, 'min_samples_leaf': 62, 'l2_regularization': 0.865161119575739, 'max_bins': 113, 'max_depth': 6}. Best is trial 0 with value: 0.8956214804690127.\n",
      "[I 2024-03-31 06:52:46,756] Trial 1 finished with value: 0.8921250689569081 and parameters: {'learning_rate': 0.09771538956558976, 'max_iter': 107, 'max_leaf_nodes': 92, 'min_samples_leaf': 26, 'l2_regularization': 0.875982614235826, 'max_bins': 149, 'max_depth': 28}. Best is trial 0 with value: 0.8956214804690127.\n",
      "[I 2024-03-31 06:53:39,536] Trial 2 finished with value: 0.8960264670521884 and parameters: {'learning_rate': 0.02379402641844969, 'max_iter': 247, 'max_leaf_nodes': 41, 'min_samples_leaf': 26, 'l2_regularization': 0.7161018436816753, 'max_bins': 254, 'max_depth': 32}. Best is trial 2 with value: 0.8960264670521884.\n",
      "[I 2024-03-31 06:54:02,233] Trial 3 pruned. ROC score lower than threshold.\n",
      "[I 2024-03-31 06:54:11,157] Trial 4 pruned. ROC score lower than threshold.\n",
      "[I 2024-03-31 06:54:56,784] Trial 5 pruned. ROC score lower than threshold.\n",
      "[I 2024-03-31 06:55:32,737] Trial 6 finished with value: 0.8945734852878259 and parameters: {'learning_rate': 0.043146329153552716, 'max_iter': 380, 'max_leaf_nodes': 88, 'min_samples_leaf': 64, 'l2_regularization': 0.7855851819610684, 'max_bins': 119, 'max_depth': 12}. Best is trial 2 with value: 0.8960264670521884.\n",
      "[I 2024-03-31 06:55:39,934] Trial 7 pruned. ROC score lower than threshold.\n",
      "[I 2024-03-31 06:56:06,353] Trial 8 finished with value: 0.8942049843294889 and parameters: {'learning_rate': 0.06618566005219409, 'max_iter': 253, 'max_leaf_nodes': 67, 'min_samples_leaf': 74, 'l2_regularization': 0.9973460531420034, 'max_bins': 238, 'max_depth': 35}. Best is trial 2 with value: 0.8960264670521884.\n",
      "[I 2024-03-31 06:57:15,125] Trial 9 pruned. ROC score lower than threshold.\n",
      "[I 2024-03-31 06:57:41,083] Trial 10 finished with value: 0.897026811618925 and parameters: {'learning_rate': 0.0331528965013702, 'max_iter': 322, 'max_leaf_nodes': 22, 'min_samples_leaf': 41, 'l2_regularization': 0.5640635247024228, 'max_bins': 210, 'max_depth': 59}. Best is trial 10 with value: 0.897026811618925.\n",
      "[I 2024-03-31 06:58:01,911] Trial 11 finished with value: 0.8970699067571251 and parameters: {'learning_rate': 0.03359932047442103, 'max_iter': 293, 'max_leaf_nodes': 20, 'min_samples_leaf': 44, 'l2_regularization': 0.5572936740053499, 'max_bins': 210, 'max_depth': 64}. Best is trial 11 with value: 0.8970699067571251.\n",
      "[I 2024-03-31 06:58:13,249] Trial 12 finished with value: 0.895881536985244 and parameters: {'learning_rate': 0.06499075170707783, 'max_iter': 470, 'max_leaf_nodes': 23, 'min_samples_leaf': 44, 'l2_regularization': 0.5435079244373889, 'max_bins': 211, 'max_depth': 59}. Best is trial 11 with value: 0.8970699067571251.\n",
      "[I 2024-03-31 06:58:32,325] Trial 13 finished with value: 0.8967617072884999 and parameters: {'learning_rate': 0.036790906993689386, 'max_iter': 307, 'max_leaf_nodes': 22, 'min_samples_leaf': 47, 'l2_regularization': 0.5524906600643097, 'max_bins': 201, 'max_depth': 63}. Best is trial 11 with value: 0.8970699067571251.\n",
      "[I 2024-03-31 06:58:44,078] Trial 14 finished with value: 0.8956080526436709 and parameters: {'learning_rate': 0.0779279433022951, 'max_iter': 332, 'max_leaf_nodes': 29, 'min_samples_leaf': 42, 'l2_regularization': 0.43517055278721317, 'max_bins': 196, 'max_depth': 54}. Best is trial 11 with value: 0.8970699067571251.\n",
      "[I 2024-03-31 06:59:36,141] Trial 15 finished with value: 0.8954523564613792 and parameters: {'learning_rate': 0.021509551862836984, 'max_iter': 498, 'max_leaf_nodes': 52, 'min_samples_leaf': 36, 'l2_regularization': 0.5475932195410312, 'max_bins': 187, 'max_depth': 53}. Best is trial 11 with value: 0.8970699067571251.\n",
      "[I 2024-03-31 06:59:50,602] Trial 16 finished with value: 0.8963500029059794 and parameters: {'learning_rate': 0.05187022273220379, 'max_iter': 200, 'max_leaf_nodes': 20, 'min_samples_leaf': 10, 'l2_regularization': 0.6263182434829128, 'max_bins': 218, 'max_depth': 64}. Best is trial 11 with value: 0.8970699067571251.\n",
      "[I 2024-03-31 07:00:28,905] Trial 17 finished with value: 0.8963630931730145 and parameters: {'learning_rate': 0.021441259604622752, 'max_iter': 325, 'max_leaf_nodes': 32, 'min_samples_leaf': 56, 'l2_regularization': 0.6443346094709033, 'max_bins': 175, 'max_depth': 48}. Best is trial 11 with value: 0.8970699067571251.\n",
      "[I 2024-03-31 07:00:35,748] Trial 18 pruned. ROC score lower than threshold.\n",
      "[I 2024-03-31 07:00:49,847] Trial 19 pruned. ROC score lower than threshold.\n",
      "[I 2024-03-31 07:01:07,156] Trial 20 finished with value: 0.8961081689511722 and parameters: {'learning_rate': 0.05803693414566645, 'max_iter': 216, 'max_leaf_nodes': 32, 'min_samples_leaf': 85, 'l2_regularization': 0.6375854167113038, 'max_bins': 216, 'max_depth': 51}. Best is trial 11 with value: 0.8970699067571251.\n",
      "[I 2024-03-31 07:01:34,397] Trial 21 finished with value: 0.8968878301632092 and parameters: {'learning_rate': 0.03493513926692644, 'max_iter': 312, 'max_leaf_nodes': 24, 'min_samples_leaf': 50, 'l2_regularization': 0.5633863110845194, 'max_bins': 202, 'max_depth': 64}. Best is trial 11 with value: 0.8970699067571251.\n",
      "[I 2024-03-31 07:02:04,094] Trial 22 finished with value: 0.8966561494169075 and parameters: {'learning_rate': 0.03527639971995565, 'max_iter': 350, 'max_leaf_nodes': 28, 'min_samples_leaf': 54, 'l2_regularization': 0.5956995455163308, 'max_bins': 202, 'max_depth': 59}. Best is trial 11 with value: 0.8970699067571251.\n",
      "[I 2024-03-31 07:02:22,022] Trial 23 finished with value: 0.8965308286439798 and parameters: {'learning_rate': 0.04967796390902403, 'max_iter': 274, 'max_leaf_nodes': 20, 'min_samples_leaf': 36, 'l2_regularization': 0.49304271655883725, 'max_bins': 188, 'max_depth': 64}. Best is trial 11 with value: 0.8970699067571251.\n",
      "[I 2024-03-31 07:03:05,426] Trial 24 finished with value: 0.8958234184813719 and parameters: {'learning_rate': 0.02918439177018666, 'max_iter': 438, 'max_leaf_nodes': 45, 'min_samples_leaf': 42, 'l2_regularization': 0.6694903453862167, 'max_bins': 227, 'max_depth': 58}. Best is trial 11 with value: 0.8970699067571251.\n",
      "[I 2024-03-31 07:04:40,274] Trial 25 finished with value: 0.8957653413819981 and parameters: {'learning_rate': 0.0143738472843572, 'max_iter': 354, 'max_leaf_nodes': 60, 'min_samples_leaf': 32, 'l2_regularization': 0.5938126721553499, 'max_bins': 165, 'max_depth': 43}. Best is trial 11 with value: 0.8970699067571251.\n",
      "[I 2024-03-31 07:05:09,562] Trial 26 finished with value: 0.8967700890148187 and parameters: {'learning_rate': 0.03193080333196478, 'max_iter': 273, 'max_leaf_nodes': 27, 'min_samples_leaf': 57, 'l2_regularization': 0.4655412697967445, 'max_bins': 208, 'max_depth': 61}. Best is trial 11 with value: 0.8970699067571251.\n",
      "[I 2024-03-31 07:05:30,665] Trial 27 finished with value: 0.8960755887931864 and parameters: {'learning_rate': 0.04389009599849103, 'max_iter': 231, 'max_leaf_nodes': 35, 'min_samples_leaf': 49, 'l2_regularization': 0.5177116886918468, 'max_bins': 189, 'max_depth': 51}. Best is trial 11 with value: 0.8970699067571251.\n",
      "[I 2024-03-31 07:05:54,800] Trial 28 finished with value: 0.8953135916953391 and parameters: {'learning_rate': 0.010899728842050909, 'max_iter': 150, 'max_leaf_nodes': 25, 'min_samples_leaf': 74, 'l2_regularization': 0.5799692202391563, 'max_bins': 138, 'max_depth': 57}. Best is trial 11 with value: 0.8970699067571251.\n",
      "[I 2024-03-31 07:06:41,433] Trial 29 finished with value: 0.8959780379534065 and parameters: {'learning_rate': 0.019719539584630217, 'max_iter': 311, 'max_leaf_nodes': 47, 'min_samples_leaf': 60, 'l2_regularization': 0.5158008832069093, 'max_bins': 243, 'max_depth': 37}. Best is trial 11 with value: 0.8970699067571251.\n",
      "[I 2024-03-31 07:07:55,399] Trial 30 pruned. ROC score lower than threshold.\n",
      "[I 2024-03-31 07:08:20,436] Trial 31 finished with value: 0.8969307524361191 and parameters: {'learning_rate': 0.031120177863760572, 'max_iter': 271, 'max_leaf_nodes': 26, 'min_samples_leaf': 59, 'l2_regularization': 0.4623982028547648, 'max_bins': 210, 'max_depth': 61}. Best is trial 11 with value: 0.8970699067571251.\n",
      "[I 2024-03-31 07:08:38,807] Trial 32 finished with value: 0.8957051183126122 and parameters: {'learning_rate': 0.029428233738195163, 'max_iter': 298, 'max_leaf_nodes': 32, 'min_samples_leaf': 40, 'l2_regularization': 0.44011398200485846, 'max_bins': 223, 'max_depth': 2}. Best is trial 11 with value: 0.8970699067571251.\n",
      "[I 2024-03-31 07:09:54,268] Trial 33 finished with value: 0.8959432915061075 and parameters: {'learning_rate': 0.013683508830996005, 'max_iter': 258, 'max_leaf_nodes': 41, 'min_samples_leaf': 48, 'l2_regularization': 0.4688027733377465, 'max_bins': 208, 'max_depth': 61}. Best is trial 11 with value: 0.8970699067571251.\n",
      "[I 2024-03-31 07:10:20,979] Trial 34 finished with value: 0.8961912568373464 and parameters: {'learning_rate': 0.037020810175396275, 'max_iter': 406, 'max_leaf_nodes': 26, 'min_samples_leaf': 31, 'l2_regularization': 0.5792617826754519, 'max_bins': 196, 'max_depth': 55}. Best is trial 11 with value: 0.8970699067571251.\n",
      "[I 2024-03-31 07:11:12,478] Trial 35 finished with value: 0.8957590417966745 and parameters: {'learning_rate': 0.024142809239805756, 'max_iter': 170, 'max_leaf_nodes': 40, 'min_samples_leaf': 53, 'l2_regularization': 0.5304318173381163, 'max_bins': 227, 'max_depth': 48}. Best is trial 11 with value: 0.8970699067571251.\n",
      "[I 2024-03-31 07:11:27,511] Trial 36 finished with value: 0.8963523657575552 and parameters: {'learning_rate': 0.05125965646224879, 'max_iter': 330, 'max_leaf_nodes': 20, 'min_samples_leaf': 61, 'l2_regularization': 0.48872148783348207, 'max_bins': 184, 'max_depth': 61}. Best is trial 11 with value: 0.8970699067571251.\n",
      "[I 2024-03-31 07:11:45,936] Trial 37 pruned. ROC score lower than threshold.\n",
      "[I 2024-03-31 07:12:15,099] Trial 38 finished with value: 0.8960820714353899 and parameters: {'learning_rate': 0.028886349591778934, 'max_iter': 283, 'max_leaf_nodes': 29, 'min_samples_leaf': 68, 'l2_regularization': 0.6930041175918311, 'max_bins': 199, 'max_depth': 26}. Best is trial 11 with value: 0.8970699067571251.\n",
      "[I 2024-03-31 07:13:30,116] Trial 39 finished with value: 0.8959603636641825 and parameters: {'learning_rate': 0.013187641008178153, 'max_iter': 370, 'max_leaf_nodes': 37, 'min_samples_leaf': 74, 'l2_regularization': 0.5634151444027862, 'max_bins': 169, 'max_depth': 51}. Best is trial 11 with value: 0.8970699067571251.\n",
      "[I 2024-03-31 07:13:48,189] Trial 40 pruned. ROC score lower than threshold.\n",
      "[I 2024-03-31 07:14:16,820] Trial 41 finished with value: 0.8964290062625976 and parameters: {'learning_rate': 0.03258297574150421, 'max_iter': 268, 'max_leaf_nodes': 25, 'min_samples_leaf': 60, 'l2_regularization': 0.47160039819425437, 'max_bins': 207, 'max_depth': 61}. Best is trial 11 with value: 0.8970699067571251.\n",
      "[I 2024-03-31 07:14:43,583] Trial 42 finished with value: 0.8966228700704031 and parameters: {'learning_rate': 0.03468886885208676, 'max_iter': 246, 'max_leaf_nodes': 28, 'min_samples_leaf': 56, 'l2_regularization': 0.5219590951892872, 'max_bins': 219, 'max_depth': 60}. Best is trial 11 with value: 0.8970699067571251.\n",
      "[I 2024-03-31 07:15:17,627] Trial 43 finished with value: 0.8968350230979207 and parameters: {'learning_rate': 0.02505024724318833, 'max_iter': 312, 'max_leaf_nodes': 24, 'min_samples_leaf': 57, 'l2_regularization': 0.45644844193195433, 'max_bins': 205, 'max_depth': 57}. Best is trial 11 with value: 0.8970699067571251.\n",
      "[I 2024-03-31 07:15:52,761] Trial 44 finished with value: 0.8966544796427002 and parameters: {'learning_rate': 0.024925910763382096, 'max_iter': 340, 'max_leaf_nodes': 22, 'min_samples_leaf': 65, 'l2_regularization': 0.40274035785174345, 'max_bins': 229, 'max_depth': 56}. Best is trial 11 with value: 0.8970699067571251.\n",
      "[I 2024-03-31 07:17:01,431] Trial 45 finished with value: 0.8959008341645087 and parameters: {'learning_rate': 0.006416087799582748, 'max_iter': 313, 'max_leaf_nodes': 23, 'min_samples_leaf': 38, 'l2_regularization': 0.56604806370109, 'max_bins': 180, 'max_depth': 53}. Best is trial 11 with value: 0.8970699067571251.\n",
      "[I 2024-03-31 07:17:57,071] Trial 46 finished with value: 0.8961476608520952 and parameters: {'learning_rate': 0.01792933115684019, 'max_iter': 391, 'max_leaf_nodes': 39, 'min_samples_leaf': 70, 'l2_regularization': 0.4347298032020788, 'max_bins': 196, 'max_depth': 17}. Best is trial 11 with value: 0.8970699067571251.\n",
      "[I 2024-03-31 07:19:07,573] Trial 47 finished with value: 0.8968009416066226 and parameters: {'learning_rate': 0.00873605164285908, 'max_iter': 298, 'max_leaf_nodes': 31, 'min_samples_leaf': 81, 'l2_regularization': 0.5442077780135511, 'max_bins': 194, 'max_depth': 58}. Best is trial 11 with value: 0.8970699067571251.\n",
      "[I 2024-03-31 07:19:33,820] Trial 48 finished with value: 0.8968628000447478 and parameters: {'learning_rate': 0.04076930937059847, 'max_iter': 240, 'max_leaf_nodes': 24, 'min_samples_leaf': 50, 'l2_regularization': 0.5123170511169008, 'max_bins': 202, 'max_depth': 54}. Best is trial 11 with value: 0.8970699067571251.\n",
      "[I 2024-03-31 07:20:08,983] Trial 49 finished with value: 0.8956064155154845 and parameters: {'learning_rate': 0.04135259698911101, 'max_iter': 191, 'max_leaf_nodes': 45, 'min_samples_leaf': 44, 'l2_regularization': 0.504991747958205, 'max_bins': 219, 'max_depth': 62}. Best is trial 11 with value: 0.8970699067571251.\n",
      "[I 2024-03-31 07:20:32,561] Trial 50 finished with value: 0.8956855788590882 and parameters: {'learning_rate': 0.058641475781357255, 'max_iter': 237, 'max_leaf_nodes': 35, 'min_samples_leaf': 52, 'l2_regularization': 0.5390027053373841, 'max_bins': 234, 'max_depth': 54}. Best is trial 11 with value: 0.8970699067571251.\n",
      "[I 2024-03-31 07:21:12,420] Trial 51 finished with value: 0.8966752590340444 and parameters: {'learning_rate': 0.0250359042334806, 'max_iter': 255, 'max_leaf_nodes': 25, 'min_samples_leaf': 48, 'l2_regularization': 0.48468640823508213, 'max_bins': 206, 'max_depth': 64}. Best is trial 11 with value: 0.8970699067571251.\n",
      "[I 2024-03-31 07:21:37,579] Trial 52 finished with value: 0.8966220818982812 and parameters: {'learning_rate': 0.03866787136189545, 'max_iter': 216, 'max_leaf_nodes': 23, 'min_samples_leaf': 58, 'l2_regularization': 0.5118373802038255, 'max_bins': 214, 'max_depth': 57}. Best is trial 11 with value: 0.8970699067571251.\n",
      "[I 2024-03-31 07:21:55,200] Trial 53 finished with value: 0.8965977197556935 and parameters: {'learning_rate': 0.04732475984305362, 'max_iter': 325, 'max_leaf_nodes': 20, 'min_samples_leaf': 51, 'l2_regularization': 0.4579791944829458, 'max_bins': 203, 'max_depth': 32}. Best is trial 11 with value: 0.8970699067571251.\n",
      "[I 2024-03-31 07:22:58,368] Trial 54 pruned. ROC score lower than threshold.\n",
      "[I 2024-03-31 07:23:28,834] Trial 55 finished with value: 0.8961311999422962 and parameters: {'learning_rate': 0.03829671697284871, 'max_iter': 311, 'max_leaf_nodes': 31, 'min_samples_leaf': 43, 'l2_regularization': 0.5030315954235647, 'max_bins': 189, 'max_depth': 59}. Best is trial 11 with value: 0.8970699067571251.\n",
      "[I 2024-03-31 07:24:09,128] Trial 56 finished with value: 0.8964113509785383 and parameters: {'learning_rate': 0.026584418305940195, 'max_iter': 340, 'max_leaf_nodes': 29, 'min_samples_leaf': 29, 'l2_regularization': 0.6014064224422447, 'max_bins': 223, 'max_depth': 62}. Best is trial 11 with value: 0.8970699067571251.\n",
      "[I 2024-03-31 07:24:39,924] Trial 57 finished with value: 0.8965272434800508 and parameters: {'learning_rate': 0.033411539274183215, 'max_iter': 271, 'max_leaf_nodes': 23, 'min_samples_leaf': 20, 'l2_regularization': 0.5678520203269704, 'max_bins': 192, 'max_depth': 54}. Best is trial 11 with value: 0.8970699067571251.\n",
      "[I 2024-03-31 07:25:29,921] Trial 58 pruned. ROC score lower than threshold.\n",
      "[I 2024-03-31 07:25:48,671] Trial 59 finished with value: 0.8963507271877522 and parameters: {'learning_rate': 0.05478890382517166, 'max_iter': 211, 'max_leaf_nodes': 26, 'min_samples_leaf': 45, 'l2_regularization': 0.48210602877750286, 'max_bins': 201, 'max_depth': 24}. Best is trial 11 with value: 0.8970699067571251.\n",
      "[I 2024-03-31 07:26:18,705] Trial 60 finished with value: 0.8956681789023432 and parameters: {'learning_rate': 0.04575651996990049, 'max_iter': 322, 'max_leaf_nodes': 37, 'min_samples_leaf': 54, 'l2_regularization': 0.6245966610812776, 'max_bins': 247, 'max_depth': 47}. Best is trial 11 with value: 0.8970699067571251.\n",
      "[I 2024-03-31 07:27:33,274] Trial 61 finished with value: 0.8962576316353736 and parameters: {'learning_rate': 0.007238644633192508, 'max_iter': 302, 'max_leaf_nodes': 30, 'min_samples_leaf': 100, 'l2_regularization': 0.5464943598015924, 'max_bins': 195, 'max_depth': 58}. Best is trial 11 with value: 0.8970699067571251.\n",
      "[I 2024-03-31 07:28:30,130] Trial 62 finished with value: 0.8964207078111052 and parameters: {'learning_rate': 0.007727856207485978, 'max_iter': 300, 'max_leaf_nodes': 20, 'min_samples_leaf': 90, 'l2_regularization': 0.5822474337378261, 'max_bins': 183, 'max_depth': 56}. Best is trial 11 with value: 0.8970699067571251.\n",
      "[I 2024-03-31 07:29:08,116] Trial 63 pruned. ROC score lower than threshold.\n",
      "[I 2024-03-31 07:29:36,612] Trial 64 finished with value: 0.8968793048892266 and parameters: {'learning_rate': 0.02939281553485525, 'max_iter': 347, 'max_leaf_nodes': 24, 'min_samples_leaf': 94, 'l2_regularization': 0.4984115414698609, 'max_bins': 204, 'max_depth': 52}. Best is trial 11 with value: 0.8970699067571251.\n",
      "[I 2024-03-31 07:30:07,757] Trial 65 finished with value: 0.8963304045576391 and parameters: {'learning_rate': 0.029609873969326475, 'max_iter': 352, 'max_leaf_nodes': 26, 'min_samples_leaf': 96, 'l2_regularization': 0.4494081818927003, 'max_bins': 204, 'max_depth': 53}. Best is trial 11 with value: 0.8970699067571251.\n",
      "[I 2024-03-31 07:30:31,105] Trial 66 finished with value: 0.8966595023431819 and parameters: {'learning_rate': 0.038920072222457774, 'max_iter': 409, 'max_leaf_nodes': 22, 'min_samples_leaf': 35, 'l2_regularization': 0.42415074744209674, 'max_bins': 222, 'max_depth': 49}. Best is trial 11 with value: 0.8970699067571251.\n",
      "[I 2024-03-31 07:31:03,129] Trial 67 finished with value: 0.8965260240186897 and parameters: {'learning_rate': 0.033555840307386224, 'max_iter': 365, 'max_leaf_nodes': 24, 'min_samples_leaf': 40, 'l2_regularization': 0.4756919249739509, 'max_bins': 212, 'max_depth': 62}. Best is trial 11 with value: 0.8970699067571251.\n",
      "[I 2024-03-31 07:31:56,603] Trial 68 finished with value: 0.8959059859671324 and parameters: {'learning_rate': 0.02284179440989774, 'max_iter': 260, 'max_leaf_nodes': 28, 'min_samples_leaf': 10, 'l2_regularization': 0.4949044727944665, 'max_bins': 233, 'max_depth': 38}. Best is trial 11 with value: 0.8970699067571251.\n",
      "[I 2024-03-31 07:32:35,686] Trial 69 finished with value: 0.8967871851274426 and parameters: {'learning_rate': 0.028227461521850742, 'max_iter': 246, 'max_leaf_nodes': 22, 'min_samples_leaf': 33, 'l2_regularization': 0.5068205295368733, 'max_bins': 208, 'max_depth': 43}. Best is trial 11 with value: 0.8970699067571251.\n",
      "[I 2024-03-31 07:32:56,951] Trial 70 pruned. ROC score lower than threshold.\n",
      "[I 2024-03-31 07:33:56,810] Trial 71 finished with value: 0.8968447804461245 and parameters: {'learning_rate': 0.016537053862658434, 'max_iter': 295, 'max_leaf_nodes': 31, 'min_samples_leaf': 90, 'l2_regularization': 0.5549683822447192, 'max_bins': 192, 'max_depth': 58}. Best is trial 11 with value: 0.8970699067571251.\n",
      "[I 2024-03-31 07:34:57,668] Trial 72 finished with value: 0.896918821856004 and parameters: {'learning_rate': 0.014833420541462836, 'max_iter': 336, 'max_leaf_nodes': 28, 'min_samples_leaf': 89, 'l2_regularization': 0.5188611605374566, 'max_bins': 199, 'max_depth': 60}. Best is trial 11 with value: 0.8970699067571251.\n",
      "[I 2024-03-31 07:35:55,576] Trial 73 finished with value: 0.8967971347912402 and parameters: {'learning_rate': 0.013289101002367888, 'max_iter': 337, 'max_leaf_nodes': 27, 'min_samples_leaf': 92, 'l2_regularization': 0.5601178884188925, 'max_bins': 198, 'max_depth': 59}. Best is trial 11 with value: 0.8970699067571251.\n",
      "[I 2024-03-31 07:36:39,270] Trial 74 finished with value: 0.897160949258164 and parameters: {'learning_rate': 0.01708079104882631, 'max_iter': 282, 'max_leaf_nodes': 30, 'min_samples_leaf': 87, 'l2_regularization': 0.5249617552956057, 'max_bins': 190, 'max_depth': 60}. Best is trial 74 with value: 0.897160949258164.\n",
      "[I 2024-03-31 07:37:18,036] Trial 75 finished with value: 0.8966920230938703 and parameters: {'learning_rate': 0.02019418893097169, 'max_iter': 323, 'max_leaf_nodes': 35, 'min_samples_leaf': 86, 'l2_regularization': 0.5234597277054962, 'max_bins': 185, 'max_depth': 60}. Best is trial 74 with value: 0.897160949258164.\n",
      "[I 2024-03-31 07:37:39,963] Trial 76 finished with value: 0.8974336371969538 and parameters: {'learning_rate': 0.03230886784318135, 'max_iter': 347, 'max_leaf_nodes': 20, 'min_samples_leaf': 95, 'l2_regularization': 0.5829542010921881, 'max_bins': 189, 'max_depth': 63}. Best is trial 76 with value: 0.8974336371969538.\n",
      "[I 2024-03-31 07:38:09,999] Trial 77 finished with value: 0.8972646396268775 and parameters: {'learning_rate': 0.030788157358408497, 'max_iter': 349, 'max_leaf_nodes': 20, 'min_samples_leaf': 95, 'l2_regularization': 0.5819070418226433, 'max_bins': 188, 'max_depth': 63}. Best is trial 76 with value: 0.8974336371969538.\n",
      "[I 2024-03-31 07:38:36,166] Trial 78 finished with value: 0.8974083908373492 and parameters: {'learning_rate': 0.0360093586720861, 'max_iter': 362, 'max_leaf_nodes': 20, 'min_samples_leaf': 87, 'l2_regularization': 0.5986839277266129, 'max_bins': 175, 'max_depth': 63}. Best is trial 76 with value: 0.8974336371969538.\n",
      "[I 2024-03-31 07:39:47,490] Trial 79 finished with value: 0.8973528609704577 and parameters: {'learning_rate': 0.011070380264567588, 'max_iter': 377, 'max_leaf_nodes': 21, 'min_samples_leaf': 86, 'l2_regularization': 0.592870361863843, 'max_bins': 158, 'max_depth': 62}. Best is trial 76 with value: 0.8974336371969538.\n",
      "[I 2024-03-31 07:40:24,447] Trial 80 pruned. ROC score lower than threshold.\n",
      "[I 2024-03-31 07:41:16,760] Trial 81 finished with value: 0.8975069538983144 and parameters: {'learning_rate': 0.01225852923259915, 'max_iter': 395, 'max_leaf_nodes': 20, 'min_samples_leaf': 87, 'l2_regularization': 0.6027484279833132, 'max_bins': 138, 'max_depth': 61}. Best is trial 81 with value: 0.8975069538983144.\n",
      "[I 2024-03-31 07:42:14,029] Trial 82 finished with value: 0.8976576240610411 and parameters: {'learning_rate': 0.01157733390664717, 'max_iter': 390, 'max_leaf_nodes': 21, 'min_samples_leaf': 84, 'l2_regularization': 0.5873773729968689, 'max_bins': 133, 'max_depth': 62}. Best is trial 82 with value: 0.8976576240610411.\n",
      "[I 2024-03-31 07:43:06,809] Trial 83 finished with value: 0.8973462941742976 and parameters: {'learning_rate': 0.011296866870427734, 'max_iter': 395, 'max_leaf_nodes': 21, 'min_samples_leaf': 87, 'l2_regularization': 0.5857607315326634, 'max_bins': 123, 'max_depth': 63}. Best is trial 82 with value: 0.8976576240610411.\n",
      "[I 2024-03-31 07:43:45,849] Trial 84 pruned. ROC score lower than threshold.\n",
      "[I 2024-03-31 07:44:48,814] Trial 85 finished with value: 0.8973870750458307 and parameters: {'learning_rate': 0.010722109806039298, 'max_iter': 428, 'max_leaf_nodes': 20, 'min_samples_leaf': 77, 'l2_regularization': 0.6400810146360082, 'max_bins': 121, 'max_depth': 63}. Best is trial 82 with value: 0.8976576240610411.\n",
      "[I 2024-03-31 07:45:43,025] Trial 86 finished with value: 0.8977244895995863 and parameters: {'learning_rate': 0.010334329050417028, 'max_iter': 450, 'max_leaf_nodes': 20, 'min_samples_leaf': 87, 'l2_regularization': 0.6496937198849339, 'max_bins': 118, 'max_depth': 63}. Best is trial 86 with value: 0.8977244895995863.\n",
      "[I 2024-03-31 07:46:44,567] Trial 87 finished with value: 0.8973972882069091 and parameters: {'learning_rate': 0.010515355452917974, 'max_iter': 465, 'max_leaf_nodes': 22, 'min_samples_leaf': 78, 'l2_regularization': 0.646718071128513, 'max_bins': 118, 'max_depth': 63}. Best is trial 86 with value: 0.8977244895995863.\n",
      "[I 2024-03-31 07:47:47,528] Trial 88 finished with value: 0.897395644773647 and parameters: {'learning_rate': 0.009561920904449434, 'max_iter': 470, 'max_leaf_nodes': 22, 'min_samples_leaf': 79, 'l2_regularization': 0.6483647235647, 'max_bins': 117, 'max_depth': 64}. Best is trial 86 with value: 0.8977244895995863.\n",
      "[I 2024-03-31 07:48:51,384] Trial 89 finished with value: 0.8971011794317065 and parameters: {'learning_rate': 0.011156971238759195, 'max_iter': 465, 'max_leaf_nodes': 26, 'min_samples_leaf': 77, 'l2_regularization': 0.6492523546668868, 'max_bins': 112, 'max_depth': 62}. Best is trial 86 with value: 0.8977244895995863.\n",
      "[I 2024-03-31 07:50:00,420] Trial 90 finished with value: 0.8963527919558486 and parameters: {'learning_rate': 0.0050102842191517664, 'max_iter': 461, 'max_leaf_nodes': 22, 'min_samples_leaf': 80, 'l2_regularization': 0.6590779096870938, 'max_bins': 135, 'max_depth': 64}. Best is trial 86 with value: 0.8977244895995863.\n",
      "[I 2024-03-31 07:50:57,999] Trial 91 finished with value: 0.8971990862987465 and parameters: {'learning_rate': 0.010062682245175121, 'max_iter': 487, 'max_leaf_nodes': 22, 'min_samples_leaf': 83, 'l2_regularization': 0.6393955926605916, 'max_bins': 113, 'max_depth': 63}. Best is trial 86 with value: 0.8977244895995863.\n",
      "[I 2024-03-31 07:51:41,231] Trial 92 pruned. ROC score lower than threshold.\n",
      "[I 2024-03-31 07:52:43,767] Trial 93 finished with value: 0.8970331940035345 and parameters: {'learning_rate': 0.01209926440144764, 'max_iter': 417, 'max_leaf_nodes': 25, 'min_samples_leaf': 88, 'l2_regularization': 0.6055015437858473, 'max_bins': 122, 'max_depth': 64}. Best is trial 86 with value: 0.8977244895995863.\n",
      "[I 2024-03-31 07:53:46,080] Trial 94 finished with value: 0.8971217115754101 and parameters: {'learning_rate': 0.009662847288046107, 'max_iter': 439, 'max_leaf_nodes': 22, 'min_samples_leaf': 71, 'l2_regularization': 0.6195977312019063, 'max_bins': 144, 'max_depth': 56}. Best is trial 86 with value: 0.8977244895995863.\n",
      "[I 2024-03-31 07:55:20,255] Trial 95 pruned. ROC score lower than threshold.\n",
      "[I 2024-03-31 07:56:02,170] Trial 96 finished with value: 0.8968438687150889 and parameters: {'learning_rate': 0.015195810522629801, 'max_iter': 430, 'max_leaf_nodes': 24, 'min_samples_leaf': 83, 'l2_regularization': 0.6595392956126553, 'max_bins': 102, 'max_depth': 60}. Best is trial 86 with value: 0.8977244895995863.\n",
      "[I 2024-03-31 07:56:35,450] Trial 97 finished with value: 0.8973618991128932 and parameters: {'learning_rate': 0.01981942701199306, 'max_iter': 390, 'max_leaf_nodes': 27, 'min_samples_leaf': 76, 'l2_regularization': 0.6339463429836228, 'max_bins': 130, 'max_depth': 58}. Best is trial 86 with value: 0.8977244895995863.\n",
      "[I 2024-03-31 07:57:10,317] Trial 98 finished with value: 0.8969210212251459 and parameters: {'learning_rate': 0.01992915632009542, 'max_iter': 451, 'max_leaf_nodes': 27, 'min_samples_leaf': 78, 'l2_regularization': 0.6829549789659567, 'max_bins': 128, 'max_depth': 57}. Best is trial 86 with value: 0.8977244895995863.\n",
      "[I 2024-03-31 07:57:39,739] Trial 99 finished with value: 0.8969391570023729 and parameters: {'learning_rate': 0.022609082856324257, 'max_iter': 385, 'max_leaf_nodes': 23, 'min_samples_leaf': 72, 'l2_regularization': 0.6381654903238537, 'max_bins': 143, 'max_depth': 58}. Best is trial 86 with value: 0.8977244895995863.\n"
     ]
    },
    {
     "name": "stdout",
     "output_type": "stream",
     "text": [
      "Number of finished trials: 100\n",
      "Best trial: {'learning_rate': 0.010334329050417028, 'max_iter': 450, 'max_leaf_nodes': 20, 'min_samples_leaf': 87, 'l2_regularization': 0.6496937198849339, 'max_bins': 118, 'max_depth': 63}\n"
     ]
    }
   ],
   "source": [
    "def objective(trial):\n",
    "    param = {\n",
    "        'learning_rate': trial.suggest_float('learning_rate', 0.000001, 0.15),\n",
    "        'max_iter': trial.suggest_int('max_iter', 50, 500),\n",
    "        'max_leaf_nodes': trial.suggest_int('max_leaf_nodes', 20, 100),\n",
    "        'min_samples_leaf': trial.suggest_int('min_samples_leaf', 10, 100),\n",
    "        'l2_regularization': trial.suggest_float('l2_regularization', 0.4, 1.0),\n",
    "        'max_bins': trial.suggest_int('max_bins', 100, 255),\n",
    "        'max_depth': trial.suggest_int('max_depth', 2, 64),\n",
    "        'random_state': 5,\n",
    "    }\n",
    "\n",
    "    roc_auc_scores = []\n",
    "\n",
    "    for i, (train_index, test_index) in enumerate(sk10.split(X_hist, y)):\n",
    "        X_train, X_test = X_hist.iloc[train_index], X_hist.iloc[test_index]\n",
    "        y_train, y_test = y.iloc[train_index], y.iloc[test_index]\n",
    "\n",
    "        model = HistGradientBoostingClassifier(**param)\n",
    "        model.fit(X_train, y_train)\n",
    "        preds = model.predict_proba(X_test)\n",
    "        roc_auc = roc_auc_score(y_test, preds, multi_class='ovr', average='macro')\n",
    "        roc_auc_scores.append(roc_auc)\n",
    "\n",
    "        # Report intermediate objective value\n",
    "        trial.report(roc_auc, i)\n",
    "\n",
    "        # Handle pruning based on the intermediate value\n",
    "        if trial.should_prune():\n",
    "            raise optuna.exceptions.TrialPruned('ROC score lower than threshold.')\n",
    "\n",
    "        # # Check if performance is below threshold\n",
    "        # if roc_auc < performance_threshold:\n",
    "        #     raise optuna.exceptions.TrialPruned('ROC score lower than threshold.')\n",
    "\n",
    "    return np.mean(roc_auc_scores)\n",
    "\n",
    "pruner = optuna.pruners.MedianPruner(n_startup_trials=3, n_warmup_steps=1, interval_steps=1)\n",
    "\n",
    "study = optuna.create_study(direction='maximize', pruner=pruner)\n",
    "# study = optuna.create_study(direction='maximize')\n",
    "study.optimize(objective, n_trials=100)\n",
    "\n",
    "print('Number of finished trials:', len(study.trials))\n",
    "print('Best trial:', study.best_trial.params)"
   ]
  },
  {
   "cell_type": "code",
   "execution_count": 44,
   "metadata": {},
   "outputs": [
    {
     "ename": "ValueError",
     "evalue": "Mime type rendering requires nbformat>=4.2.0 but it is not installed",
     "output_type": "error",
     "traceback": [
      "\u001b[1;31m---------------------------------------------------------------------------\u001b[0m",
      "\u001b[1;31mValueError\u001b[0m                                Traceback (most recent call last)",
      "File \u001b[1;32mc:\\Users\\Adeniyi Babalola\\AppData\\Local\\Programs\\Python\\Python310\\lib\\site-packages\\IPython\\core\\formatters.py:921\u001b[0m, in \u001b[0;36mIPythonDisplayFormatter.__call__\u001b[1;34m(self, obj)\u001b[0m\n\u001b[0;32m    919\u001b[0m method \u001b[38;5;241m=\u001b[39m get_real_method(obj, \u001b[38;5;28mself\u001b[39m\u001b[38;5;241m.\u001b[39mprint_method)\n\u001b[0;32m    920\u001b[0m \u001b[38;5;28;01mif\u001b[39;00m method \u001b[38;5;129;01mis\u001b[39;00m \u001b[38;5;129;01mnot\u001b[39;00m \u001b[38;5;28;01mNone\u001b[39;00m:\n\u001b[1;32m--> 921\u001b[0m     \u001b[43mmethod\u001b[49m\u001b[43m(\u001b[49m\u001b[43m)\u001b[49m\n\u001b[0;32m    922\u001b[0m     \u001b[38;5;28;01mreturn\u001b[39;00m \u001b[38;5;28;01mTrue\u001b[39;00m\n",
      "File \u001b[1;32mc:\\Users\\Adeniyi Babalola\\AppData\\Local\\Programs\\Python\\Python310\\lib\\site-packages\\plotly\\basedatatypes.py:834\u001b[0m, in \u001b[0;36mBaseFigure._ipython_display_\u001b[1;34m(self)\u001b[0m\n\u001b[0;32m    831\u001b[0m \u001b[38;5;28;01mimport\u001b[39;00m \u001b[38;5;21;01mplotly\u001b[39;00m\u001b[38;5;21;01m.\u001b[39;00m\u001b[38;5;21;01mio\u001b[39;00m \u001b[38;5;28;01mas\u001b[39;00m \u001b[38;5;21;01mpio\u001b[39;00m\n\u001b[0;32m    833\u001b[0m \u001b[38;5;28;01mif\u001b[39;00m pio\u001b[38;5;241m.\u001b[39mrenderers\u001b[38;5;241m.\u001b[39mrender_on_display \u001b[38;5;129;01mand\u001b[39;00m pio\u001b[38;5;241m.\u001b[39mrenderers\u001b[38;5;241m.\u001b[39mdefault:\n\u001b[1;32m--> 834\u001b[0m     \u001b[43mpio\u001b[49m\u001b[38;5;241;43m.\u001b[39;49m\u001b[43mshow\u001b[49m\u001b[43m(\u001b[49m\u001b[38;5;28;43mself\u001b[39;49m\u001b[43m)\u001b[49m\n\u001b[0;32m    835\u001b[0m \u001b[38;5;28;01melse\u001b[39;00m:\n\u001b[0;32m    836\u001b[0m     \u001b[38;5;28mprint\u001b[39m(\u001b[38;5;28mrepr\u001b[39m(\u001b[38;5;28mself\u001b[39m))\n",
      "File \u001b[1;32mc:\\Users\\Adeniyi Babalola\\AppData\\Local\\Programs\\Python\\Python310\\lib\\site-packages\\plotly\\io\\_renderers.py:396\u001b[0m, in \u001b[0;36mshow\u001b[1;34m(fig, renderer, validate, **kwargs)\u001b[0m\n\u001b[0;32m    391\u001b[0m         \u001b[38;5;28;01mraise\u001b[39;00m \u001b[38;5;167;01mValueError\u001b[39;00m(\n\u001b[0;32m    392\u001b[0m             \u001b[38;5;124m\"\u001b[39m\u001b[38;5;124mMime type rendering requires ipython but it is not installed\u001b[39m\u001b[38;5;124m\"\u001b[39m\n\u001b[0;32m    393\u001b[0m         )\n\u001b[0;32m    395\u001b[0m     \u001b[38;5;28;01mif\u001b[39;00m \u001b[38;5;129;01mnot\u001b[39;00m nbformat \u001b[38;5;129;01mor\u001b[39;00m Version(nbformat\u001b[38;5;241m.\u001b[39m__version__) \u001b[38;5;241m<\u001b[39m Version(\u001b[38;5;124m\"\u001b[39m\u001b[38;5;124m4.2.0\u001b[39m\u001b[38;5;124m\"\u001b[39m):\n\u001b[1;32m--> 396\u001b[0m         \u001b[38;5;28;01mraise\u001b[39;00m \u001b[38;5;167;01mValueError\u001b[39;00m(\n\u001b[0;32m    397\u001b[0m             \u001b[38;5;124m\"\u001b[39m\u001b[38;5;124mMime type rendering requires nbformat>=4.2.0 but it is not installed\u001b[39m\u001b[38;5;124m\"\u001b[39m\n\u001b[0;32m    398\u001b[0m         )\n\u001b[0;32m    400\u001b[0m     ipython_display\u001b[38;5;241m.\u001b[39mdisplay(bundle, raw\u001b[38;5;241m=\u001b[39m\u001b[38;5;28;01mTrue\u001b[39;00m)\n\u001b[0;32m    402\u001b[0m \u001b[38;5;66;03m# external renderers\u001b[39;00m\n",
      "\u001b[1;31mValueError\u001b[0m: Mime type rendering requires nbformat>=4.2.0 but it is not installed"
     ]
    },
    {
     "data": {
      "application/vnd.plotly.v1+json": {
       "config": {
        "plotlyServerURL": "https://plot.ly"
       },
       "data": [
        {
         "mode": "markers",
         "name": "Objective Value",
         "type": "scatter",
         "x": [
          0,
          1,
          2,
          6,
          8,
          10,
          11,
          12,
          13,
          14,
          15,
          16,
          17,
          20,
          21,
          22,
          23,
          24,
          25,
          26,
          27,
          28,
          29,
          31,
          32,
          33,
          34,
          35,
          36,
          38,
          39,
          41,
          42,
          43,
          44,
          45,
          46,
          47,
          48,
          49,
          50,
          51,
          52,
          53,
          55,
          56,
          57,
          59,
          60,
          61,
          62,
          64,
          65,
          66,
          67,
          68,
          69,
          71,
          72,
          73,
          74,
          75,
          76,
          77,
          78,
          79,
          81,
          82,
          83,
          85,
          86,
          87,
          88,
          89,
          90,
          91,
          93,
          94,
          96,
          97,
          98,
          99
         ],
         "y": [
          0.8956214804690127,
          0.8921250689569081,
          0.8960264670521884,
          0.8945734852878259,
          0.8942049843294889,
          0.897026811618925,
          0.8970699067571251,
          0.895881536985244,
          0.8967617072884999,
          0.8956080526436709,
          0.8954523564613792,
          0.8963500029059794,
          0.8963630931730145,
          0.8961081689511722,
          0.8968878301632092,
          0.8966561494169075,
          0.8965308286439798,
          0.8958234184813719,
          0.8957653413819981,
          0.8967700890148187,
          0.8960755887931864,
          0.8953135916953391,
          0.8959780379534065,
          0.8969307524361191,
          0.8957051183126122,
          0.8959432915061075,
          0.8961912568373464,
          0.8957590417966745,
          0.8963523657575552,
          0.8960820714353899,
          0.8959603636641825,
          0.8964290062625976,
          0.8966228700704031,
          0.8968350230979207,
          0.8966544796427002,
          0.8959008341645087,
          0.8961476608520952,
          0.8968009416066226,
          0.8968628000447478,
          0.8956064155154845,
          0.8956855788590882,
          0.8966752590340444,
          0.8966220818982812,
          0.8965977197556935,
          0.8961311999422962,
          0.8964113509785383,
          0.8965272434800508,
          0.8963507271877522,
          0.8956681789023432,
          0.8962576316353736,
          0.8964207078111052,
          0.8968793048892266,
          0.8963304045576391,
          0.8966595023431819,
          0.8965260240186897,
          0.8959059859671324,
          0.8967871851274426,
          0.8968447804461245,
          0.896918821856004,
          0.8967971347912402,
          0.897160949258164,
          0.8966920230938703,
          0.8974336371969538,
          0.8972646396268775,
          0.8974083908373492,
          0.8973528609704577,
          0.8975069538983144,
          0.8976576240610411,
          0.8973462941742976,
          0.8973870750458307,
          0.8977244895995863,
          0.8973972882069091,
          0.897395644773647,
          0.8971011794317065,
          0.8963527919558486,
          0.8971990862987465,
          0.8970331940035345,
          0.8971217115754101,
          0.8968438687150889,
          0.8973618991128932,
          0.8969210212251459,
          0.8969391570023729
         ]
        },
        {
         "mode": "lines",
         "name": "Best Value",
         "type": "scatter",
         "x": [
          0,
          1,
          2,
          3,
          4,
          5,
          6,
          7,
          8,
          9,
          10,
          11,
          12,
          13,
          14,
          15,
          16,
          17,
          18,
          19,
          20,
          21,
          22,
          23,
          24,
          25,
          26,
          27,
          28,
          29,
          30,
          31,
          32,
          33,
          34,
          35,
          36,
          37,
          38,
          39,
          40,
          41,
          42,
          43,
          44,
          45,
          46,
          47,
          48,
          49,
          50,
          51,
          52,
          53,
          54,
          55,
          56,
          57,
          58,
          59,
          60,
          61,
          62,
          63,
          64,
          65,
          66,
          67,
          68,
          69,
          70,
          71,
          72,
          73,
          74,
          75,
          76,
          77,
          78,
          79,
          80,
          81,
          82,
          83,
          84,
          85,
          86,
          87,
          88,
          89,
          90,
          91,
          92,
          93,
          94,
          95,
          96,
          97,
          98,
          99
         ],
         "y": [
          0.8956214804690127,
          0.8956214804690127,
          0.8960264670521884,
          0.8960264670521884,
          0.8960264670521884,
          0.8960264670521884,
          0.8960264670521884,
          0.8960264670521884,
          0.8960264670521884,
          0.8960264670521884,
          0.897026811618925,
          0.8970699067571251,
          0.8970699067571251,
          0.8970699067571251,
          0.8970699067571251,
          0.8970699067571251,
          0.8970699067571251,
          0.8970699067571251,
          0.8970699067571251,
          0.8970699067571251,
          0.8970699067571251,
          0.8970699067571251,
          0.8970699067571251,
          0.8970699067571251,
          0.8970699067571251,
          0.8970699067571251,
          0.8970699067571251,
          0.8970699067571251,
          0.8970699067571251,
          0.8970699067571251,
          0.8970699067571251,
          0.8970699067571251,
          0.8970699067571251,
          0.8970699067571251,
          0.8970699067571251,
          0.8970699067571251,
          0.8970699067571251,
          0.8970699067571251,
          0.8970699067571251,
          0.8970699067571251,
          0.8970699067571251,
          0.8970699067571251,
          0.8970699067571251,
          0.8970699067571251,
          0.8970699067571251,
          0.8970699067571251,
          0.8970699067571251,
          0.8970699067571251,
          0.8970699067571251,
          0.8970699067571251,
          0.8970699067571251,
          0.8970699067571251,
          0.8970699067571251,
          0.8970699067571251,
          0.8970699067571251,
          0.8970699067571251,
          0.8970699067571251,
          0.8970699067571251,
          0.8970699067571251,
          0.8970699067571251,
          0.8970699067571251,
          0.8970699067571251,
          0.8970699067571251,
          0.8970699067571251,
          0.8970699067571251,
          0.8970699067571251,
          0.8970699067571251,
          0.8970699067571251,
          0.8970699067571251,
          0.8970699067571251,
          0.8970699067571251,
          0.8970699067571251,
          0.8970699067571251,
          0.8970699067571251,
          0.897160949258164,
          0.897160949258164,
          0.8974336371969538,
          0.8974336371969538,
          0.8974336371969538,
          0.8974336371969538,
          0.8974336371969538,
          0.8975069538983144,
          0.8976576240610411,
          0.8976576240610411,
          0.8976576240610411,
          0.8976576240610411,
          0.8977244895995863,
          0.8977244895995863,
          0.8977244895995863,
          0.8977244895995863,
          0.8977244895995863,
          0.8977244895995863,
          0.8977244895995863,
          0.8977244895995863,
          0.8977244895995863,
          0.8977244895995863,
          0.8977244895995863,
          0.8977244895995863,
          0.8977244895995863,
          0.8977244895995863
         ]
        },
        {
         "marker": {
          "color": "#cccccc"
         },
         "mode": "markers",
         "name": "Infeasible Trial",
         "showlegend": false,
         "type": "scatter",
         "x": [],
         "y": []
        }
       ],
       "layout": {
        "template": {
         "data": {
          "bar": [
           {
            "error_x": {
             "color": "#2a3f5f"
            },
            "error_y": {
             "color": "#2a3f5f"
            },
            "marker": {
             "line": {
              "color": "#E5ECF6",
              "width": 0.5
             },
             "pattern": {
              "fillmode": "overlay",
              "size": 10,
              "solidity": 0.2
             }
            },
            "type": "bar"
           }
          ],
          "barpolar": [
           {
            "marker": {
             "line": {
              "color": "#E5ECF6",
              "width": 0.5
             },
             "pattern": {
              "fillmode": "overlay",
              "size": 10,
              "solidity": 0.2
             }
            },
            "type": "barpolar"
           }
          ],
          "carpet": [
           {
            "aaxis": {
             "endlinecolor": "#2a3f5f",
             "gridcolor": "white",
             "linecolor": "white",
             "minorgridcolor": "white",
             "startlinecolor": "#2a3f5f"
            },
            "baxis": {
             "endlinecolor": "#2a3f5f",
             "gridcolor": "white",
             "linecolor": "white",
             "minorgridcolor": "white",
             "startlinecolor": "#2a3f5f"
            },
            "type": "carpet"
           }
          ],
          "choropleth": [
           {
            "colorbar": {
             "outlinewidth": 0,
             "ticks": ""
            },
            "type": "choropleth"
           }
          ],
          "contour": [
           {
            "colorbar": {
             "outlinewidth": 0,
             "ticks": ""
            },
            "colorscale": [
             [
              0,
              "#0d0887"
             ],
             [
              0.1111111111111111,
              "#46039f"
             ],
             [
              0.2222222222222222,
              "#7201a8"
             ],
             [
              0.3333333333333333,
              "#9c179e"
             ],
             [
              0.4444444444444444,
              "#bd3786"
             ],
             [
              0.5555555555555556,
              "#d8576b"
             ],
             [
              0.6666666666666666,
              "#ed7953"
             ],
             [
              0.7777777777777778,
              "#fb9f3a"
             ],
             [
              0.8888888888888888,
              "#fdca26"
             ],
             [
              1,
              "#f0f921"
             ]
            ],
            "type": "contour"
           }
          ],
          "contourcarpet": [
           {
            "colorbar": {
             "outlinewidth": 0,
             "ticks": ""
            },
            "type": "contourcarpet"
           }
          ],
          "heatmap": [
           {
            "colorbar": {
             "outlinewidth": 0,
             "ticks": ""
            },
            "colorscale": [
             [
              0,
              "#0d0887"
             ],
             [
              0.1111111111111111,
              "#46039f"
             ],
             [
              0.2222222222222222,
              "#7201a8"
             ],
             [
              0.3333333333333333,
              "#9c179e"
             ],
             [
              0.4444444444444444,
              "#bd3786"
             ],
             [
              0.5555555555555556,
              "#d8576b"
             ],
             [
              0.6666666666666666,
              "#ed7953"
             ],
             [
              0.7777777777777778,
              "#fb9f3a"
             ],
             [
              0.8888888888888888,
              "#fdca26"
             ],
             [
              1,
              "#f0f921"
             ]
            ],
            "type": "heatmap"
           }
          ],
          "heatmapgl": [
           {
            "colorbar": {
             "outlinewidth": 0,
             "ticks": ""
            },
            "colorscale": [
             [
              0,
              "#0d0887"
             ],
             [
              0.1111111111111111,
              "#46039f"
             ],
             [
              0.2222222222222222,
              "#7201a8"
             ],
             [
              0.3333333333333333,
              "#9c179e"
             ],
             [
              0.4444444444444444,
              "#bd3786"
             ],
             [
              0.5555555555555556,
              "#d8576b"
             ],
             [
              0.6666666666666666,
              "#ed7953"
             ],
             [
              0.7777777777777778,
              "#fb9f3a"
             ],
             [
              0.8888888888888888,
              "#fdca26"
             ],
             [
              1,
              "#f0f921"
             ]
            ],
            "type": "heatmapgl"
           }
          ],
          "histogram": [
           {
            "marker": {
             "pattern": {
              "fillmode": "overlay",
              "size": 10,
              "solidity": 0.2
             }
            },
            "type": "histogram"
           }
          ],
          "histogram2d": [
           {
            "colorbar": {
             "outlinewidth": 0,
             "ticks": ""
            },
            "colorscale": [
             [
              0,
              "#0d0887"
             ],
             [
              0.1111111111111111,
              "#46039f"
             ],
             [
              0.2222222222222222,
              "#7201a8"
             ],
             [
              0.3333333333333333,
              "#9c179e"
             ],
             [
              0.4444444444444444,
              "#bd3786"
             ],
             [
              0.5555555555555556,
              "#d8576b"
             ],
             [
              0.6666666666666666,
              "#ed7953"
             ],
             [
              0.7777777777777778,
              "#fb9f3a"
             ],
             [
              0.8888888888888888,
              "#fdca26"
             ],
             [
              1,
              "#f0f921"
             ]
            ],
            "type": "histogram2d"
           }
          ],
          "histogram2dcontour": [
           {
            "colorbar": {
             "outlinewidth": 0,
             "ticks": ""
            },
            "colorscale": [
             [
              0,
              "#0d0887"
             ],
             [
              0.1111111111111111,
              "#46039f"
             ],
             [
              0.2222222222222222,
              "#7201a8"
             ],
             [
              0.3333333333333333,
              "#9c179e"
             ],
             [
              0.4444444444444444,
              "#bd3786"
             ],
             [
              0.5555555555555556,
              "#d8576b"
             ],
             [
              0.6666666666666666,
              "#ed7953"
             ],
             [
              0.7777777777777778,
              "#fb9f3a"
             ],
             [
              0.8888888888888888,
              "#fdca26"
             ],
             [
              1,
              "#f0f921"
             ]
            ],
            "type": "histogram2dcontour"
           }
          ],
          "mesh3d": [
           {
            "colorbar": {
             "outlinewidth": 0,
             "ticks": ""
            },
            "type": "mesh3d"
           }
          ],
          "parcoords": [
           {
            "line": {
             "colorbar": {
              "outlinewidth": 0,
              "ticks": ""
             }
            },
            "type": "parcoords"
           }
          ],
          "pie": [
           {
            "automargin": true,
            "type": "pie"
           }
          ],
          "scatter": [
           {
            "fillpattern": {
             "fillmode": "overlay",
             "size": 10,
             "solidity": 0.2
            },
            "type": "scatter"
           }
          ],
          "scatter3d": [
           {
            "line": {
             "colorbar": {
              "outlinewidth": 0,
              "ticks": ""
             }
            },
            "marker": {
             "colorbar": {
              "outlinewidth": 0,
              "ticks": ""
             }
            },
            "type": "scatter3d"
           }
          ],
          "scattercarpet": [
           {
            "marker": {
             "colorbar": {
              "outlinewidth": 0,
              "ticks": ""
             }
            },
            "type": "scattercarpet"
           }
          ],
          "scattergeo": [
           {
            "marker": {
             "colorbar": {
              "outlinewidth": 0,
              "ticks": ""
             }
            },
            "type": "scattergeo"
           }
          ],
          "scattergl": [
           {
            "marker": {
             "colorbar": {
              "outlinewidth": 0,
              "ticks": ""
             }
            },
            "type": "scattergl"
           }
          ],
          "scattermapbox": [
           {
            "marker": {
             "colorbar": {
              "outlinewidth": 0,
              "ticks": ""
             }
            },
            "type": "scattermapbox"
           }
          ],
          "scatterpolar": [
           {
            "marker": {
             "colorbar": {
              "outlinewidth": 0,
              "ticks": ""
             }
            },
            "type": "scatterpolar"
           }
          ],
          "scatterpolargl": [
           {
            "marker": {
             "colorbar": {
              "outlinewidth": 0,
              "ticks": ""
             }
            },
            "type": "scatterpolargl"
           }
          ],
          "scatterternary": [
           {
            "marker": {
             "colorbar": {
              "outlinewidth": 0,
              "ticks": ""
             }
            },
            "type": "scatterternary"
           }
          ],
          "surface": [
           {
            "colorbar": {
             "outlinewidth": 0,
             "ticks": ""
            },
            "colorscale": [
             [
              0,
              "#0d0887"
             ],
             [
              0.1111111111111111,
              "#46039f"
             ],
             [
              0.2222222222222222,
              "#7201a8"
             ],
             [
              0.3333333333333333,
              "#9c179e"
             ],
             [
              0.4444444444444444,
              "#bd3786"
             ],
             [
              0.5555555555555556,
              "#d8576b"
             ],
             [
              0.6666666666666666,
              "#ed7953"
             ],
             [
              0.7777777777777778,
              "#fb9f3a"
             ],
             [
              0.8888888888888888,
              "#fdca26"
             ],
             [
              1,
              "#f0f921"
             ]
            ],
            "type": "surface"
           }
          ],
          "table": [
           {
            "cells": {
             "fill": {
              "color": "#EBF0F8"
             },
             "line": {
              "color": "white"
             }
            },
            "header": {
             "fill": {
              "color": "#C8D4E3"
             },
             "line": {
              "color": "white"
             }
            },
            "type": "table"
           }
          ]
         },
         "layout": {
          "annotationdefaults": {
           "arrowcolor": "#2a3f5f",
           "arrowhead": 0,
           "arrowwidth": 1
          },
          "autotypenumbers": "strict",
          "coloraxis": {
           "colorbar": {
            "outlinewidth": 0,
            "ticks": ""
           }
          },
          "colorscale": {
           "diverging": [
            [
             0,
             "#8e0152"
            ],
            [
             0.1,
             "#c51b7d"
            ],
            [
             0.2,
             "#de77ae"
            ],
            [
             0.3,
             "#f1b6da"
            ],
            [
             0.4,
             "#fde0ef"
            ],
            [
             0.5,
             "#f7f7f7"
            ],
            [
             0.6,
             "#e6f5d0"
            ],
            [
             0.7,
             "#b8e186"
            ],
            [
             0.8,
             "#7fbc41"
            ],
            [
             0.9,
             "#4d9221"
            ],
            [
             1,
             "#276419"
            ]
           ],
           "sequential": [
            [
             0,
             "#0d0887"
            ],
            [
             0.1111111111111111,
             "#46039f"
            ],
            [
             0.2222222222222222,
             "#7201a8"
            ],
            [
             0.3333333333333333,
             "#9c179e"
            ],
            [
             0.4444444444444444,
             "#bd3786"
            ],
            [
             0.5555555555555556,
             "#d8576b"
            ],
            [
             0.6666666666666666,
             "#ed7953"
            ],
            [
             0.7777777777777778,
             "#fb9f3a"
            ],
            [
             0.8888888888888888,
             "#fdca26"
            ],
            [
             1,
             "#f0f921"
            ]
           ],
           "sequentialminus": [
            [
             0,
             "#0d0887"
            ],
            [
             0.1111111111111111,
             "#46039f"
            ],
            [
             0.2222222222222222,
             "#7201a8"
            ],
            [
             0.3333333333333333,
             "#9c179e"
            ],
            [
             0.4444444444444444,
             "#bd3786"
            ],
            [
             0.5555555555555556,
             "#d8576b"
            ],
            [
             0.6666666666666666,
             "#ed7953"
            ],
            [
             0.7777777777777778,
             "#fb9f3a"
            ],
            [
             0.8888888888888888,
             "#fdca26"
            ],
            [
             1,
             "#f0f921"
            ]
           ]
          },
          "colorway": [
           "#636efa",
           "#EF553B",
           "#00cc96",
           "#ab63fa",
           "#FFA15A",
           "#19d3f3",
           "#FF6692",
           "#B6E880",
           "#FF97FF",
           "#FECB52"
          ],
          "font": {
           "color": "#2a3f5f"
          },
          "geo": {
           "bgcolor": "white",
           "lakecolor": "white",
           "landcolor": "#E5ECF6",
           "showlakes": true,
           "showland": true,
           "subunitcolor": "white"
          },
          "hoverlabel": {
           "align": "left"
          },
          "hovermode": "closest",
          "mapbox": {
           "style": "light"
          },
          "paper_bgcolor": "white",
          "plot_bgcolor": "#E5ECF6",
          "polar": {
           "angularaxis": {
            "gridcolor": "white",
            "linecolor": "white",
            "ticks": ""
           },
           "bgcolor": "#E5ECF6",
           "radialaxis": {
            "gridcolor": "white",
            "linecolor": "white",
            "ticks": ""
           }
          },
          "scene": {
           "xaxis": {
            "backgroundcolor": "#E5ECF6",
            "gridcolor": "white",
            "gridwidth": 2,
            "linecolor": "white",
            "showbackground": true,
            "ticks": "",
            "zerolinecolor": "white"
           },
           "yaxis": {
            "backgroundcolor": "#E5ECF6",
            "gridcolor": "white",
            "gridwidth": 2,
            "linecolor": "white",
            "showbackground": true,
            "ticks": "",
            "zerolinecolor": "white"
           },
           "zaxis": {
            "backgroundcolor": "#E5ECF6",
            "gridcolor": "white",
            "gridwidth": 2,
            "linecolor": "white",
            "showbackground": true,
            "ticks": "",
            "zerolinecolor": "white"
           }
          },
          "shapedefaults": {
           "line": {
            "color": "#2a3f5f"
           }
          },
          "ternary": {
           "aaxis": {
            "gridcolor": "white",
            "linecolor": "white",
            "ticks": ""
           },
           "baxis": {
            "gridcolor": "white",
            "linecolor": "white",
            "ticks": ""
           },
           "bgcolor": "#E5ECF6",
           "caxis": {
            "gridcolor": "white",
            "linecolor": "white",
            "ticks": ""
           }
          },
          "title": {
           "x": 0.05
          },
          "xaxis": {
           "automargin": true,
           "gridcolor": "white",
           "linecolor": "white",
           "ticks": "",
           "title": {
            "standoff": 15
           },
           "zerolinecolor": "white",
           "zerolinewidth": 2
          },
          "yaxis": {
           "automargin": true,
           "gridcolor": "white",
           "linecolor": "white",
           "ticks": "",
           "title": {
            "standoff": 15
           },
           "zerolinecolor": "white",
           "zerolinewidth": 2
          }
         }
        },
        "title": {
         "text": "Optimization History Plot"
        },
        "xaxis": {
         "title": {
          "text": "Trial"
         }
        },
        "yaxis": {
         "title": {
          "text": "Objective Value"
         }
        }
       }
      },
      "text/html": [
       "<div>                        <script type=\"text/javascript\">window.PlotlyConfig = {MathJaxConfig: 'local'};</script>\n",
       "        <script charset=\"utf-8\" src=\"https://cdn.plot.ly/plotly-2.20.0.min.js\"></script>                <div id=\"ce394c80-85b3-4649-99df-42ba96a934be\" class=\"plotly-graph-div\" style=\"height:100%; width:100%;\"></div>            <script type=\"text/javascript\">                                    window.PLOTLYENV=window.PLOTLYENV || {};                                    if (document.getElementById(\"ce394c80-85b3-4649-99df-42ba96a934be\")) {                    Plotly.newPlot(                        \"ce394c80-85b3-4649-99df-42ba96a934be\",                        [{\"mode\":\"markers\",\"name\":\"Objective Value\",\"x\":[0,1,2,6,8,10,11,12,13,14,15,16,17,20,21,22,23,24,25,26,27,28,29,31,32,33,34,35,36,38,39,41,42,43,44,45,46,47,48,49,50,51,52,53,55,56,57,59,60,61,62,64,65,66,67,68,69,71,72,73,74,75,76,77,78,79,81,82,83,85,86,87,88,89,90,91,93,94,96,97,98,99],\"y\":[0.8956214804690127,0.8921250689569081,0.8960264670521884,0.8945734852878259,0.8942049843294889,0.897026811618925,0.8970699067571251,0.895881536985244,0.8967617072884999,0.8956080526436709,0.8954523564613792,0.8963500029059794,0.8963630931730145,0.8961081689511722,0.8968878301632092,0.8966561494169075,0.8965308286439798,0.8958234184813719,0.8957653413819981,0.8967700890148187,0.8960755887931864,0.8953135916953391,0.8959780379534065,0.8969307524361191,0.8957051183126122,0.8959432915061075,0.8961912568373464,0.8957590417966745,0.8963523657575552,0.8960820714353899,0.8959603636641825,0.8964290062625976,0.8966228700704031,0.8968350230979207,0.8966544796427002,0.8959008341645087,0.8961476608520952,0.8968009416066226,0.8968628000447478,0.8956064155154845,0.8956855788590882,0.8966752590340444,0.8966220818982812,0.8965977197556935,0.8961311999422962,0.8964113509785383,0.8965272434800508,0.8963507271877522,0.8956681789023432,0.8962576316353736,0.8964207078111052,0.8968793048892266,0.8963304045576391,0.8966595023431819,0.8965260240186897,0.8959059859671324,0.8967871851274426,0.8968447804461245,0.896918821856004,0.8967971347912402,0.897160949258164,0.8966920230938703,0.8974336371969538,0.8972646396268775,0.8974083908373492,0.8973528609704577,0.8975069538983144,0.8976576240610411,0.8973462941742976,0.8973870750458307,0.8977244895995863,0.8973972882069091,0.897395644773647,0.8971011794317065,0.8963527919558486,0.8971990862987465,0.8970331940035345,0.8971217115754101,0.8968438687150889,0.8973618991128932,0.8969210212251459,0.8969391570023729],\"type\":\"scatter\"},{\"mode\":\"lines\",\"name\":\"Best Value\",\"x\":[0,1,2,3,4,5,6,7,8,9,10,11,12,13,14,15,16,17,18,19,20,21,22,23,24,25,26,27,28,29,30,31,32,33,34,35,36,37,38,39,40,41,42,43,44,45,46,47,48,49,50,51,52,53,54,55,56,57,58,59,60,61,62,63,64,65,66,67,68,69,70,71,72,73,74,75,76,77,78,79,80,81,82,83,84,85,86,87,88,89,90,91,92,93,94,95,96,97,98,99],\"y\":[0.8956214804690127,0.8956214804690127,0.8960264670521884,0.8960264670521884,0.8960264670521884,0.8960264670521884,0.8960264670521884,0.8960264670521884,0.8960264670521884,0.8960264670521884,0.897026811618925,0.8970699067571251,0.8970699067571251,0.8970699067571251,0.8970699067571251,0.8970699067571251,0.8970699067571251,0.8970699067571251,0.8970699067571251,0.8970699067571251,0.8970699067571251,0.8970699067571251,0.8970699067571251,0.8970699067571251,0.8970699067571251,0.8970699067571251,0.8970699067571251,0.8970699067571251,0.8970699067571251,0.8970699067571251,0.8970699067571251,0.8970699067571251,0.8970699067571251,0.8970699067571251,0.8970699067571251,0.8970699067571251,0.8970699067571251,0.8970699067571251,0.8970699067571251,0.8970699067571251,0.8970699067571251,0.8970699067571251,0.8970699067571251,0.8970699067571251,0.8970699067571251,0.8970699067571251,0.8970699067571251,0.8970699067571251,0.8970699067571251,0.8970699067571251,0.8970699067571251,0.8970699067571251,0.8970699067571251,0.8970699067571251,0.8970699067571251,0.8970699067571251,0.8970699067571251,0.8970699067571251,0.8970699067571251,0.8970699067571251,0.8970699067571251,0.8970699067571251,0.8970699067571251,0.8970699067571251,0.8970699067571251,0.8970699067571251,0.8970699067571251,0.8970699067571251,0.8970699067571251,0.8970699067571251,0.8970699067571251,0.8970699067571251,0.8970699067571251,0.8970699067571251,0.897160949258164,0.897160949258164,0.8974336371969538,0.8974336371969538,0.8974336371969538,0.8974336371969538,0.8974336371969538,0.8975069538983144,0.8976576240610411,0.8976576240610411,0.8976576240610411,0.8976576240610411,0.8977244895995863,0.8977244895995863,0.8977244895995863,0.8977244895995863,0.8977244895995863,0.8977244895995863,0.8977244895995863,0.8977244895995863,0.8977244895995863,0.8977244895995863,0.8977244895995863,0.8977244895995863,0.8977244895995863,0.8977244895995863],\"type\":\"scatter\"},{\"marker\":{\"color\":\"#cccccc\"},\"mode\":\"markers\",\"name\":\"Infeasible Trial\",\"showlegend\":false,\"x\":[],\"y\":[],\"type\":\"scatter\"}],                        {\"title\":{\"text\":\"Optimization History Plot\"},\"xaxis\":{\"title\":{\"text\":\"Trial\"}},\"yaxis\":{\"title\":{\"text\":\"Objective Value\"}},\"template\":{\"data\":{\"histogram2dcontour\":[{\"type\":\"histogram2dcontour\",\"colorbar\":{\"outlinewidth\":0,\"ticks\":\"\"},\"colorscale\":[[0.0,\"#0d0887\"],[0.1111111111111111,\"#46039f\"],[0.2222222222222222,\"#7201a8\"],[0.3333333333333333,\"#9c179e\"],[0.4444444444444444,\"#bd3786\"],[0.5555555555555556,\"#d8576b\"],[0.6666666666666666,\"#ed7953\"],[0.7777777777777778,\"#fb9f3a\"],[0.8888888888888888,\"#fdca26\"],[1.0,\"#f0f921\"]]}],\"choropleth\":[{\"type\":\"choropleth\",\"colorbar\":{\"outlinewidth\":0,\"ticks\":\"\"}}],\"histogram2d\":[{\"type\":\"histogram2d\",\"colorbar\":{\"outlinewidth\":0,\"ticks\":\"\"},\"colorscale\":[[0.0,\"#0d0887\"],[0.1111111111111111,\"#46039f\"],[0.2222222222222222,\"#7201a8\"],[0.3333333333333333,\"#9c179e\"],[0.4444444444444444,\"#bd3786\"],[0.5555555555555556,\"#d8576b\"],[0.6666666666666666,\"#ed7953\"],[0.7777777777777778,\"#fb9f3a\"],[0.8888888888888888,\"#fdca26\"],[1.0,\"#f0f921\"]]}],\"heatmap\":[{\"type\":\"heatmap\",\"colorbar\":{\"outlinewidth\":0,\"ticks\":\"\"},\"colorscale\":[[0.0,\"#0d0887\"],[0.1111111111111111,\"#46039f\"],[0.2222222222222222,\"#7201a8\"],[0.3333333333333333,\"#9c179e\"],[0.4444444444444444,\"#bd3786\"],[0.5555555555555556,\"#d8576b\"],[0.6666666666666666,\"#ed7953\"],[0.7777777777777778,\"#fb9f3a\"],[0.8888888888888888,\"#fdca26\"],[1.0,\"#f0f921\"]]}],\"heatmapgl\":[{\"type\":\"heatmapgl\",\"colorbar\":{\"outlinewidth\":0,\"ticks\":\"\"},\"colorscale\":[[0.0,\"#0d0887\"],[0.1111111111111111,\"#46039f\"],[0.2222222222222222,\"#7201a8\"],[0.3333333333333333,\"#9c179e\"],[0.4444444444444444,\"#bd3786\"],[0.5555555555555556,\"#d8576b\"],[0.6666666666666666,\"#ed7953\"],[0.7777777777777778,\"#fb9f3a\"],[0.8888888888888888,\"#fdca26\"],[1.0,\"#f0f921\"]]}],\"contourcarpet\":[{\"type\":\"contourcarpet\",\"colorbar\":{\"outlinewidth\":0,\"ticks\":\"\"}}],\"contour\":[{\"type\":\"contour\",\"colorbar\":{\"outlinewidth\":0,\"ticks\":\"\"},\"colorscale\":[[0.0,\"#0d0887\"],[0.1111111111111111,\"#46039f\"],[0.2222222222222222,\"#7201a8\"],[0.3333333333333333,\"#9c179e\"],[0.4444444444444444,\"#bd3786\"],[0.5555555555555556,\"#d8576b\"],[0.6666666666666666,\"#ed7953\"],[0.7777777777777778,\"#fb9f3a\"],[0.8888888888888888,\"#fdca26\"],[1.0,\"#f0f921\"]]}],\"surface\":[{\"type\":\"surface\",\"colorbar\":{\"outlinewidth\":0,\"ticks\":\"\"},\"colorscale\":[[0.0,\"#0d0887\"],[0.1111111111111111,\"#46039f\"],[0.2222222222222222,\"#7201a8\"],[0.3333333333333333,\"#9c179e\"],[0.4444444444444444,\"#bd3786\"],[0.5555555555555556,\"#d8576b\"],[0.6666666666666666,\"#ed7953\"],[0.7777777777777778,\"#fb9f3a\"],[0.8888888888888888,\"#fdca26\"],[1.0,\"#f0f921\"]]}],\"mesh3d\":[{\"type\":\"mesh3d\",\"colorbar\":{\"outlinewidth\":0,\"ticks\":\"\"}}],\"scatter\":[{\"fillpattern\":{\"fillmode\":\"overlay\",\"size\":10,\"solidity\":0.2},\"type\":\"scatter\"}],\"parcoords\":[{\"type\":\"parcoords\",\"line\":{\"colorbar\":{\"outlinewidth\":0,\"ticks\":\"\"}}}],\"scatterpolargl\":[{\"type\":\"scatterpolargl\",\"marker\":{\"colorbar\":{\"outlinewidth\":0,\"ticks\":\"\"}}}],\"bar\":[{\"error_x\":{\"color\":\"#2a3f5f\"},\"error_y\":{\"color\":\"#2a3f5f\"},\"marker\":{\"line\":{\"color\":\"#E5ECF6\",\"width\":0.5},\"pattern\":{\"fillmode\":\"overlay\",\"size\":10,\"solidity\":0.2}},\"type\":\"bar\"}],\"scattergeo\":[{\"type\":\"scattergeo\",\"marker\":{\"colorbar\":{\"outlinewidth\":0,\"ticks\":\"\"}}}],\"scatterpolar\":[{\"type\":\"scatterpolar\",\"marker\":{\"colorbar\":{\"outlinewidth\":0,\"ticks\":\"\"}}}],\"histogram\":[{\"marker\":{\"pattern\":{\"fillmode\":\"overlay\",\"size\":10,\"solidity\":0.2}},\"type\":\"histogram\"}],\"scattergl\":[{\"type\":\"scattergl\",\"marker\":{\"colorbar\":{\"outlinewidth\":0,\"ticks\":\"\"}}}],\"scatter3d\":[{\"type\":\"scatter3d\",\"line\":{\"colorbar\":{\"outlinewidth\":0,\"ticks\":\"\"}},\"marker\":{\"colorbar\":{\"outlinewidth\":0,\"ticks\":\"\"}}}],\"scattermapbox\":[{\"type\":\"scattermapbox\",\"marker\":{\"colorbar\":{\"outlinewidth\":0,\"ticks\":\"\"}}}],\"scatterternary\":[{\"type\":\"scatterternary\",\"marker\":{\"colorbar\":{\"outlinewidth\":0,\"ticks\":\"\"}}}],\"scattercarpet\":[{\"type\":\"scattercarpet\",\"marker\":{\"colorbar\":{\"outlinewidth\":0,\"ticks\":\"\"}}}],\"carpet\":[{\"aaxis\":{\"endlinecolor\":\"#2a3f5f\",\"gridcolor\":\"white\",\"linecolor\":\"white\",\"minorgridcolor\":\"white\",\"startlinecolor\":\"#2a3f5f\"},\"baxis\":{\"endlinecolor\":\"#2a3f5f\",\"gridcolor\":\"white\",\"linecolor\":\"white\",\"minorgridcolor\":\"white\",\"startlinecolor\":\"#2a3f5f\"},\"type\":\"carpet\"}],\"table\":[{\"cells\":{\"fill\":{\"color\":\"#EBF0F8\"},\"line\":{\"color\":\"white\"}},\"header\":{\"fill\":{\"color\":\"#C8D4E3\"},\"line\":{\"color\":\"white\"}},\"type\":\"table\"}],\"barpolar\":[{\"marker\":{\"line\":{\"color\":\"#E5ECF6\",\"width\":0.5},\"pattern\":{\"fillmode\":\"overlay\",\"size\":10,\"solidity\":0.2}},\"type\":\"barpolar\"}],\"pie\":[{\"automargin\":true,\"type\":\"pie\"}]},\"layout\":{\"autotypenumbers\":\"strict\",\"colorway\":[\"#636efa\",\"#EF553B\",\"#00cc96\",\"#ab63fa\",\"#FFA15A\",\"#19d3f3\",\"#FF6692\",\"#B6E880\",\"#FF97FF\",\"#FECB52\"],\"font\":{\"color\":\"#2a3f5f\"},\"hovermode\":\"closest\",\"hoverlabel\":{\"align\":\"left\"},\"paper_bgcolor\":\"white\",\"plot_bgcolor\":\"#E5ECF6\",\"polar\":{\"bgcolor\":\"#E5ECF6\",\"angularaxis\":{\"gridcolor\":\"white\",\"linecolor\":\"white\",\"ticks\":\"\"},\"radialaxis\":{\"gridcolor\":\"white\",\"linecolor\":\"white\",\"ticks\":\"\"}},\"ternary\":{\"bgcolor\":\"#E5ECF6\",\"aaxis\":{\"gridcolor\":\"white\",\"linecolor\":\"white\",\"ticks\":\"\"},\"baxis\":{\"gridcolor\":\"white\",\"linecolor\":\"white\",\"ticks\":\"\"},\"caxis\":{\"gridcolor\":\"white\",\"linecolor\":\"white\",\"ticks\":\"\"}},\"coloraxis\":{\"colorbar\":{\"outlinewidth\":0,\"ticks\":\"\"}},\"colorscale\":{\"sequential\":[[0.0,\"#0d0887\"],[0.1111111111111111,\"#46039f\"],[0.2222222222222222,\"#7201a8\"],[0.3333333333333333,\"#9c179e\"],[0.4444444444444444,\"#bd3786\"],[0.5555555555555556,\"#d8576b\"],[0.6666666666666666,\"#ed7953\"],[0.7777777777777778,\"#fb9f3a\"],[0.8888888888888888,\"#fdca26\"],[1.0,\"#f0f921\"]],\"sequentialminus\":[[0.0,\"#0d0887\"],[0.1111111111111111,\"#46039f\"],[0.2222222222222222,\"#7201a8\"],[0.3333333333333333,\"#9c179e\"],[0.4444444444444444,\"#bd3786\"],[0.5555555555555556,\"#d8576b\"],[0.6666666666666666,\"#ed7953\"],[0.7777777777777778,\"#fb9f3a\"],[0.8888888888888888,\"#fdca26\"],[1.0,\"#f0f921\"]],\"diverging\":[[0,\"#8e0152\"],[0.1,\"#c51b7d\"],[0.2,\"#de77ae\"],[0.3,\"#f1b6da\"],[0.4,\"#fde0ef\"],[0.5,\"#f7f7f7\"],[0.6,\"#e6f5d0\"],[0.7,\"#b8e186\"],[0.8,\"#7fbc41\"],[0.9,\"#4d9221\"],[1,\"#276419\"]]},\"xaxis\":{\"gridcolor\":\"white\",\"linecolor\":\"white\",\"ticks\":\"\",\"title\":{\"standoff\":15},\"zerolinecolor\":\"white\",\"automargin\":true,\"zerolinewidth\":2},\"yaxis\":{\"gridcolor\":\"white\",\"linecolor\":\"white\",\"ticks\":\"\",\"title\":{\"standoff\":15},\"zerolinecolor\":\"white\",\"automargin\":true,\"zerolinewidth\":2},\"scene\":{\"xaxis\":{\"backgroundcolor\":\"#E5ECF6\",\"gridcolor\":\"white\",\"linecolor\":\"white\",\"showbackground\":true,\"ticks\":\"\",\"zerolinecolor\":\"white\",\"gridwidth\":2},\"yaxis\":{\"backgroundcolor\":\"#E5ECF6\",\"gridcolor\":\"white\",\"linecolor\":\"white\",\"showbackground\":true,\"ticks\":\"\",\"zerolinecolor\":\"white\",\"gridwidth\":2},\"zaxis\":{\"backgroundcolor\":\"#E5ECF6\",\"gridcolor\":\"white\",\"linecolor\":\"white\",\"showbackground\":true,\"ticks\":\"\",\"zerolinecolor\":\"white\",\"gridwidth\":2}},\"shapedefaults\":{\"line\":{\"color\":\"#2a3f5f\"}},\"annotationdefaults\":{\"arrowcolor\":\"#2a3f5f\",\"arrowhead\":0,\"arrowwidth\":1},\"geo\":{\"bgcolor\":\"white\",\"landcolor\":\"#E5ECF6\",\"subunitcolor\":\"white\",\"showland\":true,\"showlakes\":true,\"lakecolor\":\"white\"},\"title\":{\"x\":0.05},\"mapbox\":{\"style\":\"light\"}}}},                        {\"responsive\": true}                    )                };                            </script>        </div>"
      ],
      "text/plain": [
       "Figure({\n",
       "    'data': [{'mode': 'markers',\n",
       "              'name': 'Objective Value',\n",
       "              'type': 'scatter',\n",
       "              'x': [0, 1, 2, 6, 8, 10, 11, 12, 13, 14, 15, 16, 17, 20, 21, 22, 23,\n",
       "                    24, 25, 26, 27, 28, 29, 31, 32, 33, 34, 35, 36, 38, 39, 41, 42,\n",
       "                    43, 44, 45, 46, 47, 48, 49, 50, 51, 52, 53, 55, 56, 57, 59, 60,\n",
       "                    61, 62, 64, 65, 66, 67, 68, 69, 71, 72, 73, 74, 75, 76, 77, 78,\n",
       "                    79, 81, 82, 83, 85, 86, 87, 88, 89, 90, 91, 93, 94, 96, 97, 98,\n",
       "                    99],\n",
       "              'y': [0.8956214804690127, 0.8921250689569081, 0.8960264670521884,\n",
       "                    0.8945734852878259, 0.8942049843294889, 0.897026811618925,\n",
       "                    0.8970699067571251, 0.895881536985244, 0.8967617072884999,\n",
       "                    0.8956080526436709, 0.8954523564613792, 0.8963500029059794,\n",
       "                    0.8963630931730145, 0.8961081689511722, 0.8968878301632092,\n",
       "                    0.8966561494169075, 0.8965308286439798, 0.8958234184813719,\n",
       "                    0.8957653413819981, 0.8967700890148187, 0.8960755887931864,\n",
       "                    0.8953135916953391, 0.8959780379534065, 0.8969307524361191,\n",
       "                    0.8957051183126122, 0.8959432915061075, 0.8961912568373464,\n",
       "                    0.8957590417966745, 0.8963523657575552, 0.8960820714353899,\n",
       "                    0.8959603636641825, 0.8964290062625976, 0.8966228700704031,\n",
       "                    0.8968350230979207, 0.8966544796427002, 0.8959008341645087,\n",
       "                    0.8961476608520952, 0.8968009416066226, 0.8968628000447478,\n",
       "                    0.8956064155154845, 0.8956855788590882, 0.8966752590340444,\n",
       "                    0.8966220818982812, 0.8965977197556935, 0.8961311999422962,\n",
       "                    0.8964113509785383, 0.8965272434800508, 0.8963507271877522,\n",
       "                    0.8956681789023432, 0.8962576316353736, 0.8964207078111052,\n",
       "                    0.8968793048892266, 0.8963304045576391, 0.8966595023431819,\n",
       "                    0.8965260240186897, 0.8959059859671324, 0.8967871851274426,\n",
       "                    0.8968447804461245, 0.896918821856004, 0.8967971347912402,\n",
       "                    0.897160949258164, 0.8966920230938703, 0.8974336371969538,\n",
       "                    0.8972646396268775, 0.8974083908373492, 0.8973528609704577,\n",
       "                    0.8975069538983144, 0.8976576240610411, 0.8973462941742976,\n",
       "                    0.8973870750458307, 0.8977244895995863, 0.8973972882069091,\n",
       "                    0.897395644773647, 0.8971011794317065, 0.8963527919558486,\n",
       "                    0.8971990862987465, 0.8970331940035345, 0.8971217115754101,\n",
       "                    0.8968438687150889, 0.8973618991128932, 0.8969210212251459,\n",
       "                    0.8969391570023729]},\n",
       "             {'mode': 'lines',\n",
       "              'name': 'Best Value',\n",
       "              'type': 'scatter',\n",
       "              'x': [0, 1, 2, 3, 4, 5, 6, 7, 8, 9, 10, 11, 12, 13, 14, 15, 16, 17,\n",
       "                    18, 19, 20, 21, 22, 23, 24, 25, 26, 27, 28, 29, 30, 31, 32, 33,\n",
       "                    34, 35, 36, 37, 38, 39, 40, 41, 42, 43, 44, 45, 46, 47, 48, 49,\n",
       "                    50, 51, 52, 53, 54, 55, 56, 57, 58, 59, 60, 61, 62, 63, 64, 65,\n",
       "                    66, 67, 68, 69, 70, 71, 72, 73, 74, 75, 76, 77, 78, 79, 80, 81,\n",
       "                    82, 83, 84, 85, 86, 87, 88, 89, 90, 91, 92, 93, 94, 95, 96, 97,\n",
       "                    98, 99],\n",
       "              'y': [0.8956214804690127, 0.8956214804690127, 0.8960264670521884,\n",
       "                    0.8960264670521884, 0.8960264670521884, 0.8960264670521884,\n",
       "                    0.8960264670521884, 0.8960264670521884, 0.8960264670521884,\n",
       "                    0.8960264670521884, 0.897026811618925, 0.8970699067571251,\n",
       "                    0.8970699067571251, 0.8970699067571251, 0.8970699067571251,\n",
       "                    0.8970699067571251, 0.8970699067571251, 0.8970699067571251,\n",
       "                    0.8970699067571251, 0.8970699067571251, 0.8970699067571251,\n",
       "                    0.8970699067571251, 0.8970699067571251, 0.8970699067571251,\n",
       "                    0.8970699067571251, 0.8970699067571251, 0.8970699067571251,\n",
       "                    0.8970699067571251, 0.8970699067571251, 0.8970699067571251,\n",
       "                    0.8970699067571251, 0.8970699067571251, 0.8970699067571251,\n",
       "                    0.8970699067571251, 0.8970699067571251, 0.8970699067571251,\n",
       "                    0.8970699067571251, 0.8970699067571251, 0.8970699067571251,\n",
       "                    0.8970699067571251, 0.8970699067571251, 0.8970699067571251,\n",
       "                    0.8970699067571251, 0.8970699067571251, 0.8970699067571251,\n",
       "                    0.8970699067571251, 0.8970699067571251, 0.8970699067571251,\n",
       "                    0.8970699067571251, 0.8970699067571251, 0.8970699067571251,\n",
       "                    0.8970699067571251, 0.8970699067571251, 0.8970699067571251,\n",
       "                    0.8970699067571251, 0.8970699067571251, 0.8970699067571251,\n",
       "                    0.8970699067571251, 0.8970699067571251, 0.8970699067571251,\n",
       "                    0.8970699067571251, 0.8970699067571251, 0.8970699067571251,\n",
       "                    0.8970699067571251, 0.8970699067571251, 0.8970699067571251,\n",
       "                    0.8970699067571251, 0.8970699067571251, 0.8970699067571251,\n",
       "                    0.8970699067571251, 0.8970699067571251, 0.8970699067571251,\n",
       "                    0.8970699067571251, 0.8970699067571251, 0.897160949258164,\n",
       "                    0.897160949258164, 0.8974336371969538, 0.8974336371969538,\n",
       "                    0.8974336371969538, 0.8974336371969538, 0.8974336371969538,\n",
       "                    0.8975069538983144, 0.8976576240610411, 0.8976576240610411,\n",
       "                    0.8976576240610411, 0.8976576240610411, 0.8977244895995863,\n",
       "                    0.8977244895995863, 0.8977244895995863, 0.8977244895995863,\n",
       "                    0.8977244895995863, 0.8977244895995863, 0.8977244895995863,\n",
       "                    0.8977244895995863, 0.8977244895995863, 0.8977244895995863,\n",
       "                    0.8977244895995863, 0.8977244895995863, 0.8977244895995863,\n",
       "                    0.8977244895995863]},\n",
       "             {'marker': {'color': '#cccccc'},\n",
       "              'mode': 'markers',\n",
       "              'name': 'Infeasible Trial',\n",
       "              'showlegend': False,\n",
       "              'type': 'scatter',\n",
       "              'x': [],\n",
       "              'y': []}],\n",
       "    'layout': {'template': '...',\n",
       "               'title': {'text': 'Optimization History Plot'},\n",
       "               'xaxis': {'title': {'text': 'Trial'}},\n",
       "               'yaxis': {'title': {'text': 'Objective Value'}}}\n",
       "})"
      ]
     },
     "execution_count": 44,
     "metadata": {},
     "output_type": "execute_result"
    }
   ],
   "source": [
    "optuna.visualization.plot_optimization_history(study)"
   ]
  },
  {
   "cell_type": "code",
   "execution_count": 45,
   "metadata": {},
   "outputs": [
    {
     "ename": "ValueError",
     "evalue": "Mime type rendering requires nbformat>=4.2.0 but it is not installed",
     "output_type": "error",
     "traceback": [
      "\u001b[1;31m---------------------------------------------------------------------------\u001b[0m",
      "\u001b[1;31mValueError\u001b[0m                                Traceback (most recent call last)",
      "File \u001b[1;32mc:\\Users\\Adeniyi Babalola\\AppData\\Local\\Programs\\Python\\Python310\\lib\\site-packages\\IPython\\core\\formatters.py:921\u001b[0m, in \u001b[0;36mIPythonDisplayFormatter.__call__\u001b[1;34m(self, obj)\u001b[0m\n\u001b[0;32m    919\u001b[0m method \u001b[38;5;241m=\u001b[39m get_real_method(obj, \u001b[38;5;28mself\u001b[39m\u001b[38;5;241m.\u001b[39mprint_method)\n\u001b[0;32m    920\u001b[0m \u001b[38;5;28;01mif\u001b[39;00m method \u001b[38;5;129;01mis\u001b[39;00m \u001b[38;5;129;01mnot\u001b[39;00m \u001b[38;5;28;01mNone\u001b[39;00m:\n\u001b[1;32m--> 921\u001b[0m     \u001b[43mmethod\u001b[49m\u001b[43m(\u001b[49m\u001b[43m)\u001b[49m\n\u001b[0;32m    922\u001b[0m     \u001b[38;5;28;01mreturn\u001b[39;00m \u001b[38;5;28;01mTrue\u001b[39;00m\n",
      "File \u001b[1;32mc:\\Users\\Adeniyi Babalola\\AppData\\Local\\Programs\\Python\\Python310\\lib\\site-packages\\plotly\\basedatatypes.py:834\u001b[0m, in \u001b[0;36mBaseFigure._ipython_display_\u001b[1;34m(self)\u001b[0m\n\u001b[0;32m    831\u001b[0m \u001b[38;5;28;01mimport\u001b[39;00m \u001b[38;5;21;01mplotly\u001b[39;00m\u001b[38;5;21;01m.\u001b[39;00m\u001b[38;5;21;01mio\u001b[39;00m \u001b[38;5;28;01mas\u001b[39;00m \u001b[38;5;21;01mpio\u001b[39;00m\n\u001b[0;32m    833\u001b[0m \u001b[38;5;28;01mif\u001b[39;00m pio\u001b[38;5;241m.\u001b[39mrenderers\u001b[38;5;241m.\u001b[39mrender_on_display \u001b[38;5;129;01mand\u001b[39;00m pio\u001b[38;5;241m.\u001b[39mrenderers\u001b[38;5;241m.\u001b[39mdefault:\n\u001b[1;32m--> 834\u001b[0m     \u001b[43mpio\u001b[49m\u001b[38;5;241;43m.\u001b[39;49m\u001b[43mshow\u001b[49m\u001b[43m(\u001b[49m\u001b[38;5;28;43mself\u001b[39;49m\u001b[43m)\u001b[49m\n\u001b[0;32m    835\u001b[0m \u001b[38;5;28;01melse\u001b[39;00m:\n\u001b[0;32m    836\u001b[0m     \u001b[38;5;28mprint\u001b[39m(\u001b[38;5;28mrepr\u001b[39m(\u001b[38;5;28mself\u001b[39m))\n",
      "File \u001b[1;32mc:\\Users\\Adeniyi Babalola\\AppData\\Local\\Programs\\Python\\Python310\\lib\\site-packages\\plotly\\io\\_renderers.py:396\u001b[0m, in \u001b[0;36mshow\u001b[1;34m(fig, renderer, validate, **kwargs)\u001b[0m\n\u001b[0;32m    391\u001b[0m         \u001b[38;5;28;01mraise\u001b[39;00m \u001b[38;5;167;01mValueError\u001b[39;00m(\n\u001b[0;32m    392\u001b[0m             \u001b[38;5;124m\"\u001b[39m\u001b[38;5;124mMime type rendering requires ipython but it is not installed\u001b[39m\u001b[38;5;124m\"\u001b[39m\n\u001b[0;32m    393\u001b[0m         )\n\u001b[0;32m    395\u001b[0m     \u001b[38;5;28;01mif\u001b[39;00m \u001b[38;5;129;01mnot\u001b[39;00m nbformat \u001b[38;5;129;01mor\u001b[39;00m Version(nbformat\u001b[38;5;241m.\u001b[39m__version__) \u001b[38;5;241m<\u001b[39m Version(\u001b[38;5;124m\"\u001b[39m\u001b[38;5;124m4.2.0\u001b[39m\u001b[38;5;124m\"\u001b[39m):\n\u001b[1;32m--> 396\u001b[0m         \u001b[38;5;28;01mraise\u001b[39;00m \u001b[38;5;167;01mValueError\u001b[39;00m(\n\u001b[0;32m    397\u001b[0m             \u001b[38;5;124m\"\u001b[39m\u001b[38;5;124mMime type rendering requires nbformat>=4.2.0 but it is not installed\u001b[39m\u001b[38;5;124m\"\u001b[39m\n\u001b[0;32m    398\u001b[0m         )\n\u001b[0;32m    400\u001b[0m     ipython_display\u001b[38;5;241m.\u001b[39mdisplay(bundle, raw\u001b[38;5;241m=\u001b[39m\u001b[38;5;28;01mTrue\u001b[39;00m)\n\u001b[0;32m    402\u001b[0m \u001b[38;5;66;03m# external renderers\u001b[39;00m\n",
      "\u001b[1;31mValueError\u001b[0m: Mime type rendering requires nbformat>=4.2.0 but it is not installed"
     ]
    },
    {
     "data": {
      "application/vnd.plotly.v1+json": {
       "config": {
        "plotlyServerURL": "https://plot.ly"
       },
       "data": [
        {
         "cliponaxis": false,
         "hovertemplate": [
          "max_iter (IntDistribution): 0.0103208482345707<extra></extra>",
          "max_bins (IntDistribution): 0.016933899244705477<extra></extra>",
          "max_depth (IntDistribution): 0.021363942318281946<extra></extra>",
          "learning_rate (FloatDistribution): 0.04839390721890432<extra></extra>",
          "min_samples_leaf (IntDistribution): 0.05534383348503143<extra></extra>",
          "l2_regularization (FloatDistribution): 0.1969467294133998<extra></extra>",
          "max_leaf_nodes (IntDistribution): 0.6506968400851063<extra></extra>"
         ],
         "marker": {
          "color": "rgb(66,146,198)"
         },
         "orientation": "h",
         "text": [
          "0.01",
          "0.02",
          "0.02",
          "0.05",
          "0.06",
          "0.20",
          "0.65"
         ],
         "textposition": "outside",
         "type": "bar",
         "x": [
          0.0103208482345707,
          0.016933899244705477,
          0.021363942318281946,
          0.04839390721890432,
          0.05534383348503143,
          0.1969467294133998,
          0.6506968400851063
         ],
         "y": [
          "max_iter",
          "max_bins",
          "max_depth",
          "learning_rate",
          "min_samples_leaf",
          "l2_regularization",
          "max_leaf_nodes"
         ]
        }
       ],
       "layout": {
        "showlegend": false,
        "template": {
         "data": {
          "bar": [
           {
            "error_x": {
             "color": "#2a3f5f"
            },
            "error_y": {
             "color": "#2a3f5f"
            },
            "marker": {
             "line": {
              "color": "#E5ECF6",
              "width": 0.5
             },
             "pattern": {
              "fillmode": "overlay",
              "size": 10,
              "solidity": 0.2
             }
            },
            "type": "bar"
           }
          ],
          "barpolar": [
           {
            "marker": {
             "line": {
              "color": "#E5ECF6",
              "width": 0.5
             },
             "pattern": {
              "fillmode": "overlay",
              "size": 10,
              "solidity": 0.2
             }
            },
            "type": "barpolar"
           }
          ],
          "carpet": [
           {
            "aaxis": {
             "endlinecolor": "#2a3f5f",
             "gridcolor": "white",
             "linecolor": "white",
             "minorgridcolor": "white",
             "startlinecolor": "#2a3f5f"
            },
            "baxis": {
             "endlinecolor": "#2a3f5f",
             "gridcolor": "white",
             "linecolor": "white",
             "minorgridcolor": "white",
             "startlinecolor": "#2a3f5f"
            },
            "type": "carpet"
           }
          ],
          "choropleth": [
           {
            "colorbar": {
             "outlinewidth": 0,
             "ticks": ""
            },
            "type": "choropleth"
           }
          ],
          "contour": [
           {
            "colorbar": {
             "outlinewidth": 0,
             "ticks": ""
            },
            "colorscale": [
             [
              0,
              "#0d0887"
             ],
             [
              0.1111111111111111,
              "#46039f"
             ],
             [
              0.2222222222222222,
              "#7201a8"
             ],
             [
              0.3333333333333333,
              "#9c179e"
             ],
             [
              0.4444444444444444,
              "#bd3786"
             ],
             [
              0.5555555555555556,
              "#d8576b"
             ],
             [
              0.6666666666666666,
              "#ed7953"
             ],
             [
              0.7777777777777778,
              "#fb9f3a"
             ],
             [
              0.8888888888888888,
              "#fdca26"
             ],
             [
              1,
              "#f0f921"
             ]
            ],
            "type": "contour"
           }
          ],
          "contourcarpet": [
           {
            "colorbar": {
             "outlinewidth": 0,
             "ticks": ""
            },
            "type": "contourcarpet"
           }
          ],
          "heatmap": [
           {
            "colorbar": {
             "outlinewidth": 0,
             "ticks": ""
            },
            "colorscale": [
             [
              0,
              "#0d0887"
             ],
             [
              0.1111111111111111,
              "#46039f"
             ],
             [
              0.2222222222222222,
              "#7201a8"
             ],
             [
              0.3333333333333333,
              "#9c179e"
             ],
             [
              0.4444444444444444,
              "#bd3786"
             ],
             [
              0.5555555555555556,
              "#d8576b"
             ],
             [
              0.6666666666666666,
              "#ed7953"
             ],
             [
              0.7777777777777778,
              "#fb9f3a"
             ],
             [
              0.8888888888888888,
              "#fdca26"
             ],
             [
              1,
              "#f0f921"
             ]
            ],
            "type": "heatmap"
           }
          ],
          "heatmapgl": [
           {
            "colorbar": {
             "outlinewidth": 0,
             "ticks": ""
            },
            "colorscale": [
             [
              0,
              "#0d0887"
             ],
             [
              0.1111111111111111,
              "#46039f"
             ],
             [
              0.2222222222222222,
              "#7201a8"
             ],
             [
              0.3333333333333333,
              "#9c179e"
             ],
             [
              0.4444444444444444,
              "#bd3786"
             ],
             [
              0.5555555555555556,
              "#d8576b"
             ],
             [
              0.6666666666666666,
              "#ed7953"
             ],
             [
              0.7777777777777778,
              "#fb9f3a"
             ],
             [
              0.8888888888888888,
              "#fdca26"
             ],
             [
              1,
              "#f0f921"
             ]
            ],
            "type": "heatmapgl"
           }
          ],
          "histogram": [
           {
            "marker": {
             "pattern": {
              "fillmode": "overlay",
              "size": 10,
              "solidity": 0.2
             }
            },
            "type": "histogram"
           }
          ],
          "histogram2d": [
           {
            "colorbar": {
             "outlinewidth": 0,
             "ticks": ""
            },
            "colorscale": [
             [
              0,
              "#0d0887"
             ],
             [
              0.1111111111111111,
              "#46039f"
             ],
             [
              0.2222222222222222,
              "#7201a8"
             ],
             [
              0.3333333333333333,
              "#9c179e"
             ],
             [
              0.4444444444444444,
              "#bd3786"
             ],
             [
              0.5555555555555556,
              "#d8576b"
             ],
             [
              0.6666666666666666,
              "#ed7953"
             ],
             [
              0.7777777777777778,
              "#fb9f3a"
             ],
             [
              0.8888888888888888,
              "#fdca26"
             ],
             [
              1,
              "#f0f921"
             ]
            ],
            "type": "histogram2d"
           }
          ],
          "histogram2dcontour": [
           {
            "colorbar": {
             "outlinewidth": 0,
             "ticks": ""
            },
            "colorscale": [
             [
              0,
              "#0d0887"
             ],
             [
              0.1111111111111111,
              "#46039f"
             ],
             [
              0.2222222222222222,
              "#7201a8"
             ],
             [
              0.3333333333333333,
              "#9c179e"
             ],
             [
              0.4444444444444444,
              "#bd3786"
             ],
             [
              0.5555555555555556,
              "#d8576b"
             ],
             [
              0.6666666666666666,
              "#ed7953"
             ],
             [
              0.7777777777777778,
              "#fb9f3a"
             ],
             [
              0.8888888888888888,
              "#fdca26"
             ],
             [
              1,
              "#f0f921"
             ]
            ],
            "type": "histogram2dcontour"
           }
          ],
          "mesh3d": [
           {
            "colorbar": {
             "outlinewidth": 0,
             "ticks": ""
            },
            "type": "mesh3d"
           }
          ],
          "parcoords": [
           {
            "line": {
             "colorbar": {
              "outlinewidth": 0,
              "ticks": ""
             }
            },
            "type": "parcoords"
           }
          ],
          "pie": [
           {
            "automargin": true,
            "type": "pie"
           }
          ],
          "scatter": [
           {
            "fillpattern": {
             "fillmode": "overlay",
             "size": 10,
             "solidity": 0.2
            },
            "type": "scatter"
           }
          ],
          "scatter3d": [
           {
            "line": {
             "colorbar": {
              "outlinewidth": 0,
              "ticks": ""
             }
            },
            "marker": {
             "colorbar": {
              "outlinewidth": 0,
              "ticks": ""
             }
            },
            "type": "scatter3d"
           }
          ],
          "scattercarpet": [
           {
            "marker": {
             "colorbar": {
              "outlinewidth": 0,
              "ticks": ""
             }
            },
            "type": "scattercarpet"
           }
          ],
          "scattergeo": [
           {
            "marker": {
             "colorbar": {
              "outlinewidth": 0,
              "ticks": ""
             }
            },
            "type": "scattergeo"
           }
          ],
          "scattergl": [
           {
            "marker": {
             "colorbar": {
              "outlinewidth": 0,
              "ticks": ""
             }
            },
            "type": "scattergl"
           }
          ],
          "scattermapbox": [
           {
            "marker": {
             "colorbar": {
              "outlinewidth": 0,
              "ticks": ""
             }
            },
            "type": "scattermapbox"
           }
          ],
          "scatterpolar": [
           {
            "marker": {
             "colorbar": {
              "outlinewidth": 0,
              "ticks": ""
             }
            },
            "type": "scatterpolar"
           }
          ],
          "scatterpolargl": [
           {
            "marker": {
             "colorbar": {
              "outlinewidth": 0,
              "ticks": ""
             }
            },
            "type": "scatterpolargl"
           }
          ],
          "scatterternary": [
           {
            "marker": {
             "colorbar": {
              "outlinewidth": 0,
              "ticks": ""
             }
            },
            "type": "scatterternary"
           }
          ],
          "surface": [
           {
            "colorbar": {
             "outlinewidth": 0,
             "ticks": ""
            },
            "colorscale": [
             [
              0,
              "#0d0887"
             ],
             [
              0.1111111111111111,
              "#46039f"
             ],
             [
              0.2222222222222222,
              "#7201a8"
             ],
             [
              0.3333333333333333,
              "#9c179e"
             ],
             [
              0.4444444444444444,
              "#bd3786"
             ],
             [
              0.5555555555555556,
              "#d8576b"
             ],
             [
              0.6666666666666666,
              "#ed7953"
             ],
             [
              0.7777777777777778,
              "#fb9f3a"
             ],
             [
              0.8888888888888888,
              "#fdca26"
             ],
             [
              1,
              "#f0f921"
             ]
            ],
            "type": "surface"
           }
          ],
          "table": [
           {
            "cells": {
             "fill": {
              "color": "#EBF0F8"
             },
             "line": {
              "color": "white"
             }
            },
            "header": {
             "fill": {
              "color": "#C8D4E3"
             },
             "line": {
              "color": "white"
             }
            },
            "type": "table"
           }
          ]
         },
         "layout": {
          "annotationdefaults": {
           "arrowcolor": "#2a3f5f",
           "arrowhead": 0,
           "arrowwidth": 1
          },
          "autotypenumbers": "strict",
          "coloraxis": {
           "colorbar": {
            "outlinewidth": 0,
            "ticks": ""
           }
          },
          "colorscale": {
           "diverging": [
            [
             0,
             "#8e0152"
            ],
            [
             0.1,
             "#c51b7d"
            ],
            [
             0.2,
             "#de77ae"
            ],
            [
             0.3,
             "#f1b6da"
            ],
            [
             0.4,
             "#fde0ef"
            ],
            [
             0.5,
             "#f7f7f7"
            ],
            [
             0.6,
             "#e6f5d0"
            ],
            [
             0.7,
             "#b8e186"
            ],
            [
             0.8,
             "#7fbc41"
            ],
            [
             0.9,
             "#4d9221"
            ],
            [
             1,
             "#276419"
            ]
           ],
           "sequential": [
            [
             0,
             "#0d0887"
            ],
            [
             0.1111111111111111,
             "#46039f"
            ],
            [
             0.2222222222222222,
             "#7201a8"
            ],
            [
             0.3333333333333333,
             "#9c179e"
            ],
            [
             0.4444444444444444,
             "#bd3786"
            ],
            [
             0.5555555555555556,
             "#d8576b"
            ],
            [
             0.6666666666666666,
             "#ed7953"
            ],
            [
             0.7777777777777778,
             "#fb9f3a"
            ],
            [
             0.8888888888888888,
             "#fdca26"
            ],
            [
             1,
             "#f0f921"
            ]
           ],
           "sequentialminus": [
            [
             0,
             "#0d0887"
            ],
            [
             0.1111111111111111,
             "#46039f"
            ],
            [
             0.2222222222222222,
             "#7201a8"
            ],
            [
             0.3333333333333333,
             "#9c179e"
            ],
            [
             0.4444444444444444,
             "#bd3786"
            ],
            [
             0.5555555555555556,
             "#d8576b"
            ],
            [
             0.6666666666666666,
             "#ed7953"
            ],
            [
             0.7777777777777778,
             "#fb9f3a"
            ],
            [
             0.8888888888888888,
             "#fdca26"
            ],
            [
             1,
             "#f0f921"
            ]
           ]
          },
          "colorway": [
           "#636efa",
           "#EF553B",
           "#00cc96",
           "#ab63fa",
           "#FFA15A",
           "#19d3f3",
           "#FF6692",
           "#B6E880",
           "#FF97FF",
           "#FECB52"
          ],
          "font": {
           "color": "#2a3f5f"
          },
          "geo": {
           "bgcolor": "white",
           "lakecolor": "white",
           "landcolor": "#E5ECF6",
           "showlakes": true,
           "showland": true,
           "subunitcolor": "white"
          },
          "hoverlabel": {
           "align": "left"
          },
          "hovermode": "closest",
          "mapbox": {
           "style": "light"
          },
          "paper_bgcolor": "white",
          "plot_bgcolor": "#E5ECF6",
          "polar": {
           "angularaxis": {
            "gridcolor": "white",
            "linecolor": "white",
            "ticks": ""
           },
           "bgcolor": "#E5ECF6",
           "radialaxis": {
            "gridcolor": "white",
            "linecolor": "white",
            "ticks": ""
           }
          },
          "scene": {
           "xaxis": {
            "backgroundcolor": "#E5ECF6",
            "gridcolor": "white",
            "gridwidth": 2,
            "linecolor": "white",
            "showbackground": true,
            "ticks": "",
            "zerolinecolor": "white"
           },
           "yaxis": {
            "backgroundcolor": "#E5ECF6",
            "gridcolor": "white",
            "gridwidth": 2,
            "linecolor": "white",
            "showbackground": true,
            "ticks": "",
            "zerolinecolor": "white"
           },
           "zaxis": {
            "backgroundcolor": "#E5ECF6",
            "gridcolor": "white",
            "gridwidth": 2,
            "linecolor": "white",
            "showbackground": true,
            "ticks": "",
            "zerolinecolor": "white"
           }
          },
          "shapedefaults": {
           "line": {
            "color": "#2a3f5f"
           }
          },
          "ternary": {
           "aaxis": {
            "gridcolor": "white",
            "linecolor": "white",
            "ticks": ""
           },
           "baxis": {
            "gridcolor": "white",
            "linecolor": "white",
            "ticks": ""
           },
           "bgcolor": "#E5ECF6",
           "caxis": {
            "gridcolor": "white",
            "linecolor": "white",
            "ticks": ""
           }
          },
          "title": {
           "x": 0.05
          },
          "xaxis": {
           "automargin": true,
           "gridcolor": "white",
           "linecolor": "white",
           "ticks": "",
           "title": {
            "standoff": 15
           },
           "zerolinecolor": "white",
           "zerolinewidth": 2
          },
          "yaxis": {
           "automargin": true,
           "gridcolor": "white",
           "linecolor": "white",
           "ticks": "",
           "title": {
            "standoff": 15
           },
           "zerolinecolor": "white",
           "zerolinewidth": 2
          }
         }
        },
        "title": {
         "text": "Hyperparameter Importances"
        },
        "xaxis": {
         "title": {
          "text": "Importance for Objective Value"
         }
        },
        "yaxis": {
         "title": {
          "text": "Hyperparameter"
         }
        }
       }
      },
      "text/html": [
       "<div>                        <script type=\"text/javascript\">window.PlotlyConfig = {MathJaxConfig: 'local'};</script>\n",
       "        <script charset=\"utf-8\" src=\"https://cdn.plot.ly/plotly-2.20.0.min.js\"></script>                <div id=\"0b99b034-c794-417f-bfb9-1f30cb2ba000\" class=\"plotly-graph-div\" style=\"height:100%; width:100%;\"></div>            <script type=\"text/javascript\">                                    window.PLOTLYENV=window.PLOTLYENV || {};                                    if (document.getElementById(\"0b99b034-c794-417f-bfb9-1f30cb2ba000\")) {                    Plotly.newPlot(                        \"0b99b034-c794-417f-bfb9-1f30cb2ba000\",                        [{\"cliponaxis\":false,\"hovertemplate\":[\"max_iter (IntDistribution): 0.0103208482345707<extra></extra>\",\"max_bins (IntDistribution): 0.016933899244705477<extra></extra>\",\"max_depth (IntDistribution): 0.021363942318281946<extra></extra>\",\"learning_rate (FloatDistribution): 0.04839390721890432<extra></extra>\",\"min_samples_leaf (IntDistribution): 0.05534383348503143<extra></extra>\",\"l2_regularization (FloatDistribution): 0.1969467294133998<extra></extra>\",\"max_leaf_nodes (IntDistribution): 0.6506968400851063<extra></extra>\"],\"marker\":{\"color\":\"rgb(66,146,198)\"},\"orientation\":\"h\",\"text\":[\"0.01\",\"0.02\",\"0.02\",\"0.05\",\"0.06\",\"0.20\",\"0.65\"],\"textposition\":\"outside\",\"x\":[0.0103208482345707,0.016933899244705477,0.021363942318281946,0.04839390721890432,0.05534383348503143,0.1969467294133998,0.6506968400851063],\"y\":[\"max_iter\",\"max_bins\",\"max_depth\",\"learning_rate\",\"min_samples_leaf\",\"l2_regularization\",\"max_leaf_nodes\"],\"type\":\"bar\"}],                        {\"showlegend\":false,\"title\":{\"text\":\"Hyperparameter Importances\"},\"xaxis\":{\"title\":{\"text\":\"Importance for Objective Value\"}},\"yaxis\":{\"title\":{\"text\":\"Hyperparameter\"}},\"template\":{\"data\":{\"histogram2dcontour\":[{\"type\":\"histogram2dcontour\",\"colorbar\":{\"outlinewidth\":0,\"ticks\":\"\"},\"colorscale\":[[0.0,\"#0d0887\"],[0.1111111111111111,\"#46039f\"],[0.2222222222222222,\"#7201a8\"],[0.3333333333333333,\"#9c179e\"],[0.4444444444444444,\"#bd3786\"],[0.5555555555555556,\"#d8576b\"],[0.6666666666666666,\"#ed7953\"],[0.7777777777777778,\"#fb9f3a\"],[0.8888888888888888,\"#fdca26\"],[1.0,\"#f0f921\"]]}],\"choropleth\":[{\"type\":\"choropleth\",\"colorbar\":{\"outlinewidth\":0,\"ticks\":\"\"}}],\"histogram2d\":[{\"type\":\"histogram2d\",\"colorbar\":{\"outlinewidth\":0,\"ticks\":\"\"},\"colorscale\":[[0.0,\"#0d0887\"],[0.1111111111111111,\"#46039f\"],[0.2222222222222222,\"#7201a8\"],[0.3333333333333333,\"#9c179e\"],[0.4444444444444444,\"#bd3786\"],[0.5555555555555556,\"#d8576b\"],[0.6666666666666666,\"#ed7953\"],[0.7777777777777778,\"#fb9f3a\"],[0.8888888888888888,\"#fdca26\"],[1.0,\"#f0f921\"]]}],\"heatmap\":[{\"type\":\"heatmap\",\"colorbar\":{\"outlinewidth\":0,\"ticks\":\"\"},\"colorscale\":[[0.0,\"#0d0887\"],[0.1111111111111111,\"#46039f\"],[0.2222222222222222,\"#7201a8\"],[0.3333333333333333,\"#9c179e\"],[0.4444444444444444,\"#bd3786\"],[0.5555555555555556,\"#d8576b\"],[0.6666666666666666,\"#ed7953\"],[0.7777777777777778,\"#fb9f3a\"],[0.8888888888888888,\"#fdca26\"],[1.0,\"#f0f921\"]]}],\"heatmapgl\":[{\"type\":\"heatmapgl\",\"colorbar\":{\"outlinewidth\":0,\"ticks\":\"\"},\"colorscale\":[[0.0,\"#0d0887\"],[0.1111111111111111,\"#46039f\"],[0.2222222222222222,\"#7201a8\"],[0.3333333333333333,\"#9c179e\"],[0.4444444444444444,\"#bd3786\"],[0.5555555555555556,\"#d8576b\"],[0.6666666666666666,\"#ed7953\"],[0.7777777777777778,\"#fb9f3a\"],[0.8888888888888888,\"#fdca26\"],[1.0,\"#f0f921\"]]}],\"contourcarpet\":[{\"type\":\"contourcarpet\",\"colorbar\":{\"outlinewidth\":0,\"ticks\":\"\"}}],\"contour\":[{\"type\":\"contour\",\"colorbar\":{\"outlinewidth\":0,\"ticks\":\"\"},\"colorscale\":[[0.0,\"#0d0887\"],[0.1111111111111111,\"#46039f\"],[0.2222222222222222,\"#7201a8\"],[0.3333333333333333,\"#9c179e\"],[0.4444444444444444,\"#bd3786\"],[0.5555555555555556,\"#d8576b\"],[0.6666666666666666,\"#ed7953\"],[0.7777777777777778,\"#fb9f3a\"],[0.8888888888888888,\"#fdca26\"],[1.0,\"#f0f921\"]]}],\"surface\":[{\"type\":\"surface\",\"colorbar\":{\"outlinewidth\":0,\"ticks\":\"\"},\"colorscale\":[[0.0,\"#0d0887\"],[0.1111111111111111,\"#46039f\"],[0.2222222222222222,\"#7201a8\"],[0.3333333333333333,\"#9c179e\"],[0.4444444444444444,\"#bd3786\"],[0.5555555555555556,\"#d8576b\"],[0.6666666666666666,\"#ed7953\"],[0.7777777777777778,\"#fb9f3a\"],[0.8888888888888888,\"#fdca26\"],[1.0,\"#f0f921\"]]}],\"mesh3d\":[{\"type\":\"mesh3d\",\"colorbar\":{\"outlinewidth\":0,\"ticks\":\"\"}}],\"scatter\":[{\"fillpattern\":{\"fillmode\":\"overlay\",\"size\":10,\"solidity\":0.2},\"type\":\"scatter\"}],\"parcoords\":[{\"type\":\"parcoords\",\"line\":{\"colorbar\":{\"outlinewidth\":0,\"ticks\":\"\"}}}],\"scatterpolargl\":[{\"type\":\"scatterpolargl\",\"marker\":{\"colorbar\":{\"outlinewidth\":0,\"ticks\":\"\"}}}],\"bar\":[{\"error_x\":{\"color\":\"#2a3f5f\"},\"error_y\":{\"color\":\"#2a3f5f\"},\"marker\":{\"line\":{\"color\":\"#E5ECF6\",\"width\":0.5},\"pattern\":{\"fillmode\":\"overlay\",\"size\":10,\"solidity\":0.2}},\"type\":\"bar\"}],\"scattergeo\":[{\"type\":\"scattergeo\",\"marker\":{\"colorbar\":{\"outlinewidth\":0,\"ticks\":\"\"}}}],\"scatterpolar\":[{\"type\":\"scatterpolar\",\"marker\":{\"colorbar\":{\"outlinewidth\":0,\"ticks\":\"\"}}}],\"histogram\":[{\"marker\":{\"pattern\":{\"fillmode\":\"overlay\",\"size\":10,\"solidity\":0.2}},\"type\":\"histogram\"}],\"scattergl\":[{\"type\":\"scattergl\",\"marker\":{\"colorbar\":{\"outlinewidth\":0,\"ticks\":\"\"}}}],\"scatter3d\":[{\"type\":\"scatter3d\",\"line\":{\"colorbar\":{\"outlinewidth\":0,\"ticks\":\"\"}},\"marker\":{\"colorbar\":{\"outlinewidth\":0,\"ticks\":\"\"}}}],\"scattermapbox\":[{\"type\":\"scattermapbox\",\"marker\":{\"colorbar\":{\"outlinewidth\":0,\"ticks\":\"\"}}}],\"scatterternary\":[{\"type\":\"scatterternary\",\"marker\":{\"colorbar\":{\"outlinewidth\":0,\"ticks\":\"\"}}}],\"scattercarpet\":[{\"type\":\"scattercarpet\",\"marker\":{\"colorbar\":{\"outlinewidth\":0,\"ticks\":\"\"}}}],\"carpet\":[{\"aaxis\":{\"endlinecolor\":\"#2a3f5f\",\"gridcolor\":\"white\",\"linecolor\":\"white\",\"minorgridcolor\":\"white\",\"startlinecolor\":\"#2a3f5f\"},\"baxis\":{\"endlinecolor\":\"#2a3f5f\",\"gridcolor\":\"white\",\"linecolor\":\"white\",\"minorgridcolor\":\"white\",\"startlinecolor\":\"#2a3f5f\"},\"type\":\"carpet\"}],\"table\":[{\"cells\":{\"fill\":{\"color\":\"#EBF0F8\"},\"line\":{\"color\":\"white\"}},\"header\":{\"fill\":{\"color\":\"#C8D4E3\"},\"line\":{\"color\":\"white\"}},\"type\":\"table\"}],\"barpolar\":[{\"marker\":{\"line\":{\"color\":\"#E5ECF6\",\"width\":0.5},\"pattern\":{\"fillmode\":\"overlay\",\"size\":10,\"solidity\":0.2}},\"type\":\"barpolar\"}],\"pie\":[{\"automargin\":true,\"type\":\"pie\"}]},\"layout\":{\"autotypenumbers\":\"strict\",\"colorway\":[\"#636efa\",\"#EF553B\",\"#00cc96\",\"#ab63fa\",\"#FFA15A\",\"#19d3f3\",\"#FF6692\",\"#B6E880\",\"#FF97FF\",\"#FECB52\"],\"font\":{\"color\":\"#2a3f5f\"},\"hovermode\":\"closest\",\"hoverlabel\":{\"align\":\"left\"},\"paper_bgcolor\":\"white\",\"plot_bgcolor\":\"#E5ECF6\",\"polar\":{\"bgcolor\":\"#E5ECF6\",\"angularaxis\":{\"gridcolor\":\"white\",\"linecolor\":\"white\",\"ticks\":\"\"},\"radialaxis\":{\"gridcolor\":\"white\",\"linecolor\":\"white\",\"ticks\":\"\"}},\"ternary\":{\"bgcolor\":\"#E5ECF6\",\"aaxis\":{\"gridcolor\":\"white\",\"linecolor\":\"white\",\"ticks\":\"\"},\"baxis\":{\"gridcolor\":\"white\",\"linecolor\":\"white\",\"ticks\":\"\"},\"caxis\":{\"gridcolor\":\"white\",\"linecolor\":\"white\",\"ticks\":\"\"}},\"coloraxis\":{\"colorbar\":{\"outlinewidth\":0,\"ticks\":\"\"}},\"colorscale\":{\"sequential\":[[0.0,\"#0d0887\"],[0.1111111111111111,\"#46039f\"],[0.2222222222222222,\"#7201a8\"],[0.3333333333333333,\"#9c179e\"],[0.4444444444444444,\"#bd3786\"],[0.5555555555555556,\"#d8576b\"],[0.6666666666666666,\"#ed7953\"],[0.7777777777777778,\"#fb9f3a\"],[0.8888888888888888,\"#fdca26\"],[1.0,\"#f0f921\"]],\"sequentialminus\":[[0.0,\"#0d0887\"],[0.1111111111111111,\"#46039f\"],[0.2222222222222222,\"#7201a8\"],[0.3333333333333333,\"#9c179e\"],[0.4444444444444444,\"#bd3786\"],[0.5555555555555556,\"#d8576b\"],[0.6666666666666666,\"#ed7953\"],[0.7777777777777778,\"#fb9f3a\"],[0.8888888888888888,\"#fdca26\"],[1.0,\"#f0f921\"]],\"diverging\":[[0,\"#8e0152\"],[0.1,\"#c51b7d\"],[0.2,\"#de77ae\"],[0.3,\"#f1b6da\"],[0.4,\"#fde0ef\"],[0.5,\"#f7f7f7\"],[0.6,\"#e6f5d0\"],[0.7,\"#b8e186\"],[0.8,\"#7fbc41\"],[0.9,\"#4d9221\"],[1,\"#276419\"]]},\"xaxis\":{\"gridcolor\":\"white\",\"linecolor\":\"white\",\"ticks\":\"\",\"title\":{\"standoff\":15},\"zerolinecolor\":\"white\",\"automargin\":true,\"zerolinewidth\":2},\"yaxis\":{\"gridcolor\":\"white\",\"linecolor\":\"white\",\"ticks\":\"\",\"title\":{\"standoff\":15},\"zerolinecolor\":\"white\",\"automargin\":true,\"zerolinewidth\":2},\"scene\":{\"xaxis\":{\"backgroundcolor\":\"#E5ECF6\",\"gridcolor\":\"white\",\"linecolor\":\"white\",\"showbackground\":true,\"ticks\":\"\",\"zerolinecolor\":\"white\",\"gridwidth\":2},\"yaxis\":{\"backgroundcolor\":\"#E5ECF6\",\"gridcolor\":\"white\",\"linecolor\":\"white\",\"showbackground\":true,\"ticks\":\"\",\"zerolinecolor\":\"white\",\"gridwidth\":2},\"zaxis\":{\"backgroundcolor\":\"#E5ECF6\",\"gridcolor\":\"white\",\"linecolor\":\"white\",\"showbackground\":true,\"ticks\":\"\",\"zerolinecolor\":\"white\",\"gridwidth\":2}},\"shapedefaults\":{\"line\":{\"color\":\"#2a3f5f\"}},\"annotationdefaults\":{\"arrowcolor\":\"#2a3f5f\",\"arrowhead\":0,\"arrowwidth\":1},\"geo\":{\"bgcolor\":\"white\",\"landcolor\":\"#E5ECF6\",\"subunitcolor\":\"white\",\"showland\":true,\"showlakes\":true,\"lakecolor\":\"white\"},\"title\":{\"x\":0.05},\"mapbox\":{\"style\":\"light\"}}}},                        {\"responsive\": true}                    )                };                            </script>        </div>"
      ],
      "text/plain": [
       "Figure({\n",
       "    'data': [{'cliponaxis': False,\n",
       "              'hovertemplate': [max_iter (IntDistribution):\n",
       "                                0.0103208482345707<extra></extra>, max_bins\n",
       "                                (IntDistribution):\n",
       "                                0.016933899244705477<extra></extra>, max_depth\n",
       "                                (IntDistribution):\n",
       "                                0.021363942318281946<extra></extra>, learning_rate\n",
       "                                (FloatDistribution):\n",
       "                                0.04839390721890432<extra></extra>,\n",
       "                                min_samples_leaf (IntDistribution):\n",
       "                                0.05534383348503143<extra></extra>,\n",
       "                                l2_regularization (FloatDistribution):\n",
       "                                0.1969467294133998<extra></extra>, max_leaf_nodes\n",
       "                                (IntDistribution):\n",
       "                                0.6506968400851063<extra></extra>],\n",
       "              'marker': {'color': 'rgb(66,146,198)'},\n",
       "              'orientation': 'h',\n",
       "              'text': [0.01, 0.02, 0.02, 0.05, 0.06, 0.20, 0.65],\n",
       "              'textposition': 'outside',\n",
       "              'type': 'bar',\n",
       "              'x': [0.0103208482345707, 0.016933899244705477,\n",
       "                    0.021363942318281946, 0.04839390721890432, 0.05534383348503143,\n",
       "                    0.1969467294133998, 0.6506968400851063],\n",
       "              'y': [max_iter, max_bins, max_depth, learning_rate,\n",
       "                    min_samples_leaf, l2_regularization, max_leaf_nodes]}],\n",
       "    'layout': {'showlegend': False,\n",
       "               'template': '...',\n",
       "               'title': {'text': 'Hyperparameter Importances'},\n",
       "               'xaxis': {'title': {'text': 'Importance for Objective Value'}},\n",
       "               'yaxis': {'title': {'text': 'Hyperparameter'}}}\n",
       "})"
      ]
     },
     "execution_count": 45,
     "metadata": {},
     "output_type": "execute_result"
    }
   ],
   "source": [
    "optuna.visualization.plot_param_importances(study)"
   ]
  },
  {
   "cell_type": "code",
   "execution_count": 46,
   "metadata": {},
   "outputs": [
    {
     "ename": "ValueError",
     "evalue": "Mime type rendering requires nbformat>=4.2.0 but it is not installed",
     "output_type": "error",
     "traceback": [
      "\u001b[1;31m---------------------------------------------------------------------------\u001b[0m",
      "\u001b[1;31mValueError\u001b[0m                                Traceback (most recent call last)",
      "File \u001b[1;32mc:\\Users\\Adeniyi Babalola\\AppData\\Local\\Programs\\Python\\Python310\\lib\\site-packages\\IPython\\core\\formatters.py:921\u001b[0m, in \u001b[0;36mIPythonDisplayFormatter.__call__\u001b[1;34m(self, obj)\u001b[0m\n\u001b[0;32m    919\u001b[0m method \u001b[38;5;241m=\u001b[39m get_real_method(obj, \u001b[38;5;28mself\u001b[39m\u001b[38;5;241m.\u001b[39mprint_method)\n\u001b[0;32m    920\u001b[0m \u001b[38;5;28;01mif\u001b[39;00m method \u001b[38;5;129;01mis\u001b[39;00m \u001b[38;5;129;01mnot\u001b[39;00m \u001b[38;5;28;01mNone\u001b[39;00m:\n\u001b[1;32m--> 921\u001b[0m     \u001b[43mmethod\u001b[49m\u001b[43m(\u001b[49m\u001b[43m)\u001b[49m\n\u001b[0;32m    922\u001b[0m     \u001b[38;5;28;01mreturn\u001b[39;00m \u001b[38;5;28;01mTrue\u001b[39;00m\n",
      "File \u001b[1;32mc:\\Users\\Adeniyi Babalola\\AppData\\Local\\Programs\\Python\\Python310\\lib\\site-packages\\plotly\\basedatatypes.py:834\u001b[0m, in \u001b[0;36mBaseFigure._ipython_display_\u001b[1;34m(self)\u001b[0m\n\u001b[0;32m    831\u001b[0m \u001b[38;5;28;01mimport\u001b[39;00m \u001b[38;5;21;01mplotly\u001b[39;00m\u001b[38;5;21;01m.\u001b[39;00m\u001b[38;5;21;01mio\u001b[39;00m \u001b[38;5;28;01mas\u001b[39;00m \u001b[38;5;21;01mpio\u001b[39;00m\n\u001b[0;32m    833\u001b[0m \u001b[38;5;28;01mif\u001b[39;00m pio\u001b[38;5;241m.\u001b[39mrenderers\u001b[38;5;241m.\u001b[39mrender_on_display \u001b[38;5;129;01mand\u001b[39;00m pio\u001b[38;5;241m.\u001b[39mrenderers\u001b[38;5;241m.\u001b[39mdefault:\n\u001b[1;32m--> 834\u001b[0m     \u001b[43mpio\u001b[49m\u001b[38;5;241;43m.\u001b[39;49m\u001b[43mshow\u001b[49m\u001b[43m(\u001b[49m\u001b[38;5;28;43mself\u001b[39;49m\u001b[43m)\u001b[49m\n\u001b[0;32m    835\u001b[0m \u001b[38;5;28;01melse\u001b[39;00m:\n\u001b[0;32m    836\u001b[0m     \u001b[38;5;28mprint\u001b[39m(\u001b[38;5;28mrepr\u001b[39m(\u001b[38;5;28mself\u001b[39m))\n",
      "File \u001b[1;32mc:\\Users\\Adeniyi Babalola\\AppData\\Local\\Programs\\Python\\Python310\\lib\\site-packages\\plotly\\io\\_renderers.py:396\u001b[0m, in \u001b[0;36mshow\u001b[1;34m(fig, renderer, validate, **kwargs)\u001b[0m\n\u001b[0;32m    391\u001b[0m         \u001b[38;5;28;01mraise\u001b[39;00m \u001b[38;5;167;01mValueError\u001b[39;00m(\n\u001b[0;32m    392\u001b[0m             \u001b[38;5;124m\"\u001b[39m\u001b[38;5;124mMime type rendering requires ipython but it is not installed\u001b[39m\u001b[38;5;124m\"\u001b[39m\n\u001b[0;32m    393\u001b[0m         )\n\u001b[0;32m    395\u001b[0m     \u001b[38;5;28;01mif\u001b[39;00m \u001b[38;5;129;01mnot\u001b[39;00m nbformat \u001b[38;5;129;01mor\u001b[39;00m Version(nbformat\u001b[38;5;241m.\u001b[39m__version__) \u001b[38;5;241m<\u001b[39m Version(\u001b[38;5;124m\"\u001b[39m\u001b[38;5;124m4.2.0\u001b[39m\u001b[38;5;124m\"\u001b[39m):\n\u001b[1;32m--> 396\u001b[0m         \u001b[38;5;28;01mraise\u001b[39;00m \u001b[38;5;167;01mValueError\u001b[39;00m(\n\u001b[0;32m    397\u001b[0m             \u001b[38;5;124m\"\u001b[39m\u001b[38;5;124mMime type rendering requires nbformat>=4.2.0 but it is not installed\u001b[39m\u001b[38;5;124m\"\u001b[39m\n\u001b[0;32m    398\u001b[0m         )\n\u001b[0;32m    400\u001b[0m     ipython_display\u001b[38;5;241m.\u001b[39mdisplay(bundle, raw\u001b[38;5;241m=\u001b[39m\u001b[38;5;28;01mTrue\u001b[39;00m)\n\u001b[0;32m    402\u001b[0m \u001b[38;5;66;03m# external renderers\u001b[39;00m\n",
      "\u001b[1;31mValueError\u001b[0m: Mime type rendering requires nbformat>=4.2.0 but it is not installed"
     ]
    },
    {
     "data": {
      "application/vnd.plotly.v1+json": {
       "config": {
        "plotlyServerURL": "https://plot.ly"
       },
       "data": [
        {
         "marker": {
          "color": [
           0,
           1,
           2,
           6,
           8,
           10,
           11,
           12,
           13,
           14,
           15,
           16,
           17,
           20,
           21,
           22,
           23,
           24,
           25,
           26,
           27,
           28,
           29,
           31,
           32,
           33,
           34,
           35,
           36,
           38,
           39,
           41,
           42,
           43,
           44,
           45,
           46,
           47,
           48,
           49,
           50,
           51,
           52,
           53,
           55,
           56,
           57,
           59,
           60,
           61,
           62,
           64,
           65,
           66,
           67,
           68,
           69,
           71,
           72,
           73,
           74,
           75,
           76,
           77,
           78,
           79,
           81,
           82,
           83,
           85,
           86,
           87,
           88,
           89,
           90,
           91,
           93,
           94,
           96,
           97,
           98,
           99
          ],
          "colorbar": {
           "title": {
            "text": "Trial"
           },
           "x": 1,
           "xpad": 40
          },
          "colorscale": [
           [
            0,
            "rgb(247,251,255)"
           ],
           [
            0.125,
            "rgb(222,235,247)"
           ],
           [
            0.25,
            "rgb(198,219,239)"
           ],
           [
            0.375,
            "rgb(158,202,225)"
           ],
           [
            0.5,
            "rgb(107,174,214)"
           ],
           [
            0.625,
            "rgb(66,146,198)"
           ],
           [
            0.75,
            "rgb(33,113,181)"
           ],
           [
            0.875,
            "rgb(8,81,156)"
           ],
           [
            1,
            "rgb(8,48,107)"
           ]
          ],
          "line": {
           "color": "Grey",
           "width": 0.5
          },
          "showscale": true
         },
         "mode": "markers",
         "showlegend": false,
         "type": "scatter",
         "x": [
          0.865161119575739,
          0.875982614235826,
          0.7161018436816753,
          0.7855851819610684,
          0.9973460531420034,
          0.5640635247024228,
          0.5572936740053499,
          0.5435079244373889,
          0.5524906600643097,
          0.43517055278721317,
          0.5475932195410312,
          0.6263182434829128,
          0.6443346094709033,
          0.6375854167113038,
          0.5633863110845194,
          0.5956995455163308,
          0.49304271655883725,
          0.6694903453862167,
          0.5938126721553499,
          0.4655412697967445,
          0.5177116886918468,
          0.5799692202391563,
          0.5158008832069093,
          0.4623982028547648,
          0.44011398200485846,
          0.4688027733377465,
          0.5792617826754519,
          0.5304318173381163,
          0.48872148783348207,
          0.6930041175918311,
          0.5634151444027862,
          0.47160039819425437,
          0.5219590951892872,
          0.45644844193195433,
          0.40274035785174345,
          0.56604806370109,
          0.4347298032020788,
          0.5442077780135511,
          0.5123170511169008,
          0.504991747958205,
          0.5390027053373841,
          0.48468640823508213,
          0.5118373802038255,
          0.4579791944829458,
          0.5030315954235647,
          0.6014064224422447,
          0.5678520203269704,
          0.48210602877750286,
          0.6245966610812776,
          0.5464943598015924,
          0.5822474337378261,
          0.4984115414698609,
          0.4494081818927003,
          0.42415074744209674,
          0.4756919249739509,
          0.4949044727944665,
          0.5068205295368733,
          0.5549683822447192,
          0.5188611605374566,
          0.5601178884188925,
          0.5249617552956057,
          0.5234597277054962,
          0.5829542010921881,
          0.5819070418226433,
          0.5986839277266129,
          0.592870361863843,
          0.6027484279833132,
          0.5873773729968689,
          0.5857607315326634,
          0.6400810146360082,
          0.6496937198849339,
          0.646718071128513,
          0.6483647235647,
          0.6492523546668868,
          0.6590779096870938,
          0.6393955926605916,
          0.6055015437858473,
          0.6195977312019063,
          0.6595392956126553,
          0.6339463429836228,
          0.6829549789659567,
          0.6381654903238537
         ],
         "xaxis": "x",
         "y": [
          0.8956214804690127,
          0.8921250689569081,
          0.8960264670521884,
          0.8945734852878259,
          0.8942049843294889,
          0.897026811618925,
          0.8970699067571251,
          0.895881536985244,
          0.8967617072884999,
          0.8956080526436709,
          0.8954523564613792,
          0.8963500029059794,
          0.8963630931730145,
          0.8961081689511722,
          0.8968878301632092,
          0.8966561494169075,
          0.8965308286439798,
          0.8958234184813719,
          0.8957653413819981,
          0.8967700890148187,
          0.8960755887931864,
          0.8953135916953391,
          0.8959780379534065,
          0.8969307524361191,
          0.8957051183126122,
          0.8959432915061075,
          0.8961912568373464,
          0.8957590417966745,
          0.8963523657575552,
          0.8960820714353899,
          0.8959603636641825,
          0.8964290062625976,
          0.8966228700704031,
          0.8968350230979207,
          0.8966544796427002,
          0.8959008341645087,
          0.8961476608520952,
          0.8968009416066226,
          0.8968628000447478,
          0.8956064155154845,
          0.8956855788590882,
          0.8966752590340444,
          0.8966220818982812,
          0.8965977197556935,
          0.8961311999422962,
          0.8964113509785383,
          0.8965272434800508,
          0.8963507271877522,
          0.8956681789023432,
          0.8962576316353736,
          0.8964207078111052,
          0.8968793048892266,
          0.8963304045576391,
          0.8966595023431819,
          0.8965260240186897,
          0.8959059859671324,
          0.8967871851274426,
          0.8968447804461245,
          0.896918821856004,
          0.8967971347912402,
          0.897160949258164,
          0.8966920230938703,
          0.8974336371969538,
          0.8972646396268775,
          0.8974083908373492,
          0.8973528609704577,
          0.8975069538983144,
          0.8976576240610411,
          0.8973462941742976,
          0.8973870750458307,
          0.8977244895995863,
          0.8973972882069091,
          0.897395644773647,
          0.8971011794317065,
          0.8963527919558486,
          0.8971990862987465,
          0.8970331940035345,
          0.8971217115754101,
          0.8968438687150889,
          0.8973618991128932,
          0.8969210212251459,
          0.8969391570023729
         ],
         "yaxis": "y"
        },
        {
         "marker": {
          "color": [
           0,
           1,
           2,
           6,
           8,
           10,
           11,
           12,
           13,
           14,
           15,
           16,
           17,
           20,
           21,
           22,
           23,
           24,
           25,
           26,
           27,
           28,
           29,
           31,
           32,
           33,
           34,
           35,
           36,
           38,
           39,
           41,
           42,
           43,
           44,
           45,
           46,
           47,
           48,
           49,
           50,
           51,
           52,
           53,
           55,
           56,
           57,
           59,
           60,
           61,
           62,
           64,
           65,
           66,
           67,
           68,
           69,
           71,
           72,
           73,
           74,
           75,
           76,
           77,
           78,
           79,
           81,
           82,
           83,
           85,
           86,
           87,
           88,
           89,
           90,
           91,
           93,
           94,
           96,
           97,
           98,
           99
          ],
          "colorbar": {
           "title": {
            "text": "Trial"
           },
           "x": 1,
           "xpad": 40
          },
          "colorscale": [
           [
            0,
            "rgb(247,251,255)"
           ],
           [
            0.125,
            "rgb(222,235,247)"
           ],
           [
            0.25,
            "rgb(198,219,239)"
           ],
           [
            0.375,
            "rgb(158,202,225)"
           ],
           [
            0.5,
            "rgb(107,174,214)"
           ],
           [
            0.625,
            "rgb(66,146,198)"
           ],
           [
            0.75,
            "rgb(33,113,181)"
           ],
           [
            0.875,
            "rgb(8,81,156)"
           ],
           [
            1,
            "rgb(8,48,107)"
           ]
          ],
          "line": {
           "color": "Grey",
           "width": 0.5
          },
          "showscale": false
         },
         "mode": "markers",
         "showlegend": false,
         "type": "scatter",
         "x": [
          0.12521503862244876,
          0.09771538956558976,
          0.02379402641844969,
          0.043146329153552716,
          0.06618566005219409,
          0.0331528965013702,
          0.03359932047442103,
          0.06499075170707783,
          0.036790906993689386,
          0.0779279433022951,
          0.021509551862836984,
          0.05187022273220379,
          0.021441259604622752,
          0.05803693414566645,
          0.03493513926692644,
          0.03527639971995565,
          0.04967796390902403,
          0.02918439177018666,
          0.0143738472843572,
          0.03193080333196478,
          0.04389009599849103,
          0.010899728842050909,
          0.019719539584630217,
          0.031120177863760572,
          0.029428233738195163,
          0.013683508830996005,
          0.037020810175396275,
          0.024142809239805756,
          0.05125965646224879,
          0.028886349591778934,
          0.013187641008178153,
          0.03258297574150421,
          0.03468886885208676,
          0.02505024724318833,
          0.024925910763382096,
          0.006416087799582748,
          0.01792933115684019,
          0.00873605164285908,
          0.04076930937059847,
          0.04135259698911101,
          0.058641475781357255,
          0.0250359042334806,
          0.03866787136189545,
          0.04732475984305362,
          0.03829671697284871,
          0.026584418305940195,
          0.033411539274183215,
          0.05478890382517166,
          0.04575651996990049,
          0.007238644633192508,
          0.007727856207485978,
          0.02939281553485525,
          0.029609873969326475,
          0.038920072222457774,
          0.033555840307386224,
          0.02284179440989774,
          0.028227461521850742,
          0.016537053862658434,
          0.014833420541462836,
          0.013289101002367888,
          0.01708079104882631,
          0.02019418893097169,
          0.03230886784318135,
          0.030788157358408497,
          0.0360093586720861,
          0.011070380264567588,
          0.01225852923259915,
          0.01157733390664717,
          0.011296866870427734,
          0.010722109806039298,
          0.010334329050417028,
          0.010515355452917974,
          0.009561920904449434,
          0.011156971238759195,
          0.0050102842191517664,
          0.010062682245175121,
          0.01209926440144764,
          0.009662847288046107,
          0.015195810522629801,
          0.01981942701199306,
          0.01992915632009542,
          0.022609082856324257
         ],
         "xaxis": "x2",
         "y": [
          0.8956214804690127,
          0.8921250689569081,
          0.8960264670521884,
          0.8945734852878259,
          0.8942049843294889,
          0.897026811618925,
          0.8970699067571251,
          0.895881536985244,
          0.8967617072884999,
          0.8956080526436709,
          0.8954523564613792,
          0.8963500029059794,
          0.8963630931730145,
          0.8961081689511722,
          0.8968878301632092,
          0.8966561494169075,
          0.8965308286439798,
          0.8958234184813719,
          0.8957653413819981,
          0.8967700890148187,
          0.8960755887931864,
          0.8953135916953391,
          0.8959780379534065,
          0.8969307524361191,
          0.8957051183126122,
          0.8959432915061075,
          0.8961912568373464,
          0.8957590417966745,
          0.8963523657575552,
          0.8960820714353899,
          0.8959603636641825,
          0.8964290062625976,
          0.8966228700704031,
          0.8968350230979207,
          0.8966544796427002,
          0.8959008341645087,
          0.8961476608520952,
          0.8968009416066226,
          0.8968628000447478,
          0.8956064155154845,
          0.8956855788590882,
          0.8966752590340444,
          0.8966220818982812,
          0.8965977197556935,
          0.8961311999422962,
          0.8964113509785383,
          0.8965272434800508,
          0.8963507271877522,
          0.8956681789023432,
          0.8962576316353736,
          0.8964207078111052,
          0.8968793048892266,
          0.8963304045576391,
          0.8966595023431819,
          0.8965260240186897,
          0.8959059859671324,
          0.8967871851274426,
          0.8968447804461245,
          0.896918821856004,
          0.8967971347912402,
          0.897160949258164,
          0.8966920230938703,
          0.8974336371969538,
          0.8972646396268775,
          0.8974083908373492,
          0.8973528609704577,
          0.8975069538983144,
          0.8976576240610411,
          0.8973462941742976,
          0.8973870750458307,
          0.8977244895995863,
          0.8973972882069091,
          0.897395644773647,
          0.8971011794317065,
          0.8963527919558486,
          0.8971990862987465,
          0.8970331940035345,
          0.8971217115754101,
          0.8968438687150889,
          0.8973618991128932,
          0.8969210212251459,
          0.8969391570023729
         ],
         "yaxis": "y2"
        },
        {
         "marker": {
          "color": [
           0,
           1,
           2,
           6,
           8,
           10,
           11,
           12,
           13,
           14,
           15,
           16,
           17,
           20,
           21,
           22,
           23,
           24,
           25,
           26,
           27,
           28,
           29,
           31,
           32,
           33,
           34,
           35,
           36,
           38,
           39,
           41,
           42,
           43,
           44,
           45,
           46,
           47,
           48,
           49,
           50,
           51,
           52,
           53,
           55,
           56,
           57,
           59,
           60,
           61,
           62,
           64,
           65,
           66,
           67,
           68,
           69,
           71,
           72,
           73,
           74,
           75,
           76,
           77,
           78,
           79,
           81,
           82,
           83,
           85,
           86,
           87,
           88,
           89,
           90,
           91,
           93,
           94,
           96,
           97,
           98,
           99
          ],
          "colorbar": {
           "title": {
            "text": "Trial"
           },
           "x": 1,
           "xpad": 40
          },
          "colorscale": [
           [
            0,
            "rgb(247,251,255)"
           ],
           [
            0.125,
            "rgb(222,235,247)"
           ],
           [
            0.25,
            "rgb(198,219,239)"
           ],
           [
            0.375,
            "rgb(158,202,225)"
           ],
           [
            0.5,
            "rgb(107,174,214)"
           ],
           [
            0.625,
            "rgb(66,146,198)"
           ],
           [
            0.75,
            "rgb(33,113,181)"
           ],
           [
            0.875,
            "rgb(8,81,156)"
           ],
           [
            1,
            "rgb(8,48,107)"
           ]
          ],
          "line": {
           "color": "Grey",
           "width": 0.5
          },
          "showscale": false
         },
         "mode": "markers",
         "showlegend": false,
         "type": "scatter",
         "x": [
          113,
          149,
          254,
          119,
          238,
          210,
          210,
          211,
          201,
          196,
          187,
          218,
          175,
          216,
          202,
          202,
          188,
          227,
          165,
          208,
          189,
          138,
          243,
          210,
          223,
          208,
          196,
          227,
          184,
          199,
          169,
          207,
          219,
          205,
          229,
          180,
          196,
          194,
          202,
          219,
          234,
          206,
          214,
          203,
          189,
          223,
          192,
          201,
          247,
          195,
          183,
          204,
          204,
          222,
          212,
          233,
          208,
          192,
          199,
          198,
          190,
          185,
          189,
          188,
          175,
          158,
          138,
          133,
          123,
          121,
          118,
          118,
          117,
          112,
          135,
          113,
          122,
          144,
          102,
          130,
          128,
          143
         ],
         "xaxis": "x3",
         "y": [
          0.8956214804690127,
          0.8921250689569081,
          0.8960264670521884,
          0.8945734852878259,
          0.8942049843294889,
          0.897026811618925,
          0.8970699067571251,
          0.895881536985244,
          0.8967617072884999,
          0.8956080526436709,
          0.8954523564613792,
          0.8963500029059794,
          0.8963630931730145,
          0.8961081689511722,
          0.8968878301632092,
          0.8966561494169075,
          0.8965308286439798,
          0.8958234184813719,
          0.8957653413819981,
          0.8967700890148187,
          0.8960755887931864,
          0.8953135916953391,
          0.8959780379534065,
          0.8969307524361191,
          0.8957051183126122,
          0.8959432915061075,
          0.8961912568373464,
          0.8957590417966745,
          0.8963523657575552,
          0.8960820714353899,
          0.8959603636641825,
          0.8964290062625976,
          0.8966228700704031,
          0.8968350230979207,
          0.8966544796427002,
          0.8959008341645087,
          0.8961476608520952,
          0.8968009416066226,
          0.8968628000447478,
          0.8956064155154845,
          0.8956855788590882,
          0.8966752590340444,
          0.8966220818982812,
          0.8965977197556935,
          0.8961311999422962,
          0.8964113509785383,
          0.8965272434800508,
          0.8963507271877522,
          0.8956681789023432,
          0.8962576316353736,
          0.8964207078111052,
          0.8968793048892266,
          0.8963304045576391,
          0.8966595023431819,
          0.8965260240186897,
          0.8959059859671324,
          0.8967871851274426,
          0.8968447804461245,
          0.896918821856004,
          0.8967971347912402,
          0.897160949258164,
          0.8966920230938703,
          0.8974336371969538,
          0.8972646396268775,
          0.8974083908373492,
          0.8973528609704577,
          0.8975069538983144,
          0.8976576240610411,
          0.8973462941742976,
          0.8973870750458307,
          0.8977244895995863,
          0.8973972882069091,
          0.897395644773647,
          0.8971011794317065,
          0.8963527919558486,
          0.8971990862987465,
          0.8970331940035345,
          0.8971217115754101,
          0.8968438687150889,
          0.8973618991128932,
          0.8969210212251459,
          0.8969391570023729
         ],
         "yaxis": "y3"
        },
        {
         "marker": {
          "color": [
           0,
           1,
           2,
           6,
           8,
           10,
           11,
           12,
           13,
           14,
           15,
           16,
           17,
           20,
           21,
           22,
           23,
           24,
           25,
           26,
           27,
           28,
           29,
           31,
           32,
           33,
           34,
           35,
           36,
           38,
           39,
           41,
           42,
           43,
           44,
           45,
           46,
           47,
           48,
           49,
           50,
           51,
           52,
           53,
           55,
           56,
           57,
           59,
           60,
           61,
           62,
           64,
           65,
           66,
           67,
           68,
           69,
           71,
           72,
           73,
           74,
           75,
           76,
           77,
           78,
           79,
           81,
           82,
           83,
           85,
           86,
           87,
           88,
           89,
           90,
           91,
           93,
           94,
           96,
           97,
           98,
           99
          ],
          "colorbar": {
           "title": {
            "text": "Trial"
           },
           "x": 1,
           "xpad": 40
          },
          "colorscale": [
           [
            0,
            "rgb(247,251,255)"
           ],
           [
            0.125,
            "rgb(222,235,247)"
           ],
           [
            0.25,
            "rgb(198,219,239)"
           ],
           [
            0.375,
            "rgb(158,202,225)"
           ],
           [
            0.5,
            "rgb(107,174,214)"
           ],
           [
            0.625,
            "rgb(66,146,198)"
           ],
           [
            0.75,
            "rgb(33,113,181)"
           ],
           [
            0.875,
            "rgb(8,81,156)"
           ],
           [
            1,
            "rgb(8,48,107)"
           ]
          ],
          "line": {
           "color": "Grey",
           "width": 0.5
          },
          "showscale": false
         },
         "mode": "markers",
         "showlegend": false,
         "type": "scatter",
         "x": [
          6,
          28,
          32,
          12,
          35,
          59,
          64,
          59,
          63,
          54,
          53,
          64,
          48,
          51,
          64,
          59,
          64,
          58,
          43,
          61,
          51,
          57,
          37,
          61,
          2,
          61,
          55,
          48,
          61,
          26,
          51,
          61,
          60,
          57,
          56,
          53,
          17,
          58,
          54,
          62,
          54,
          64,
          57,
          32,
          59,
          62,
          54,
          24,
          47,
          58,
          56,
          52,
          53,
          49,
          62,
          38,
          43,
          58,
          60,
          59,
          60,
          60,
          63,
          63,
          63,
          62,
          61,
          62,
          63,
          63,
          63,
          63,
          64,
          62,
          64,
          63,
          64,
          56,
          60,
          58,
          57,
          58
         ],
         "xaxis": "x4",
         "y": [
          0.8956214804690127,
          0.8921250689569081,
          0.8960264670521884,
          0.8945734852878259,
          0.8942049843294889,
          0.897026811618925,
          0.8970699067571251,
          0.895881536985244,
          0.8967617072884999,
          0.8956080526436709,
          0.8954523564613792,
          0.8963500029059794,
          0.8963630931730145,
          0.8961081689511722,
          0.8968878301632092,
          0.8966561494169075,
          0.8965308286439798,
          0.8958234184813719,
          0.8957653413819981,
          0.8967700890148187,
          0.8960755887931864,
          0.8953135916953391,
          0.8959780379534065,
          0.8969307524361191,
          0.8957051183126122,
          0.8959432915061075,
          0.8961912568373464,
          0.8957590417966745,
          0.8963523657575552,
          0.8960820714353899,
          0.8959603636641825,
          0.8964290062625976,
          0.8966228700704031,
          0.8968350230979207,
          0.8966544796427002,
          0.8959008341645087,
          0.8961476608520952,
          0.8968009416066226,
          0.8968628000447478,
          0.8956064155154845,
          0.8956855788590882,
          0.8966752590340444,
          0.8966220818982812,
          0.8965977197556935,
          0.8961311999422962,
          0.8964113509785383,
          0.8965272434800508,
          0.8963507271877522,
          0.8956681789023432,
          0.8962576316353736,
          0.8964207078111052,
          0.8968793048892266,
          0.8963304045576391,
          0.8966595023431819,
          0.8965260240186897,
          0.8959059859671324,
          0.8967871851274426,
          0.8968447804461245,
          0.896918821856004,
          0.8967971347912402,
          0.897160949258164,
          0.8966920230938703,
          0.8974336371969538,
          0.8972646396268775,
          0.8974083908373492,
          0.8973528609704577,
          0.8975069538983144,
          0.8976576240610411,
          0.8973462941742976,
          0.8973870750458307,
          0.8977244895995863,
          0.8973972882069091,
          0.897395644773647,
          0.8971011794317065,
          0.8963527919558486,
          0.8971990862987465,
          0.8970331940035345,
          0.8971217115754101,
          0.8968438687150889,
          0.8973618991128932,
          0.8969210212251459,
          0.8969391570023729
         ],
         "yaxis": "y4"
        },
        {
         "marker": {
          "color": [
           0,
           1,
           2,
           6,
           8,
           10,
           11,
           12,
           13,
           14,
           15,
           16,
           17,
           20,
           21,
           22,
           23,
           24,
           25,
           26,
           27,
           28,
           29,
           31,
           32,
           33,
           34,
           35,
           36,
           38,
           39,
           41,
           42,
           43,
           44,
           45,
           46,
           47,
           48,
           49,
           50,
           51,
           52,
           53,
           55,
           56,
           57,
           59,
           60,
           61,
           62,
           64,
           65,
           66,
           67,
           68,
           69,
           71,
           72,
           73,
           74,
           75,
           76,
           77,
           78,
           79,
           81,
           82,
           83,
           85,
           86,
           87,
           88,
           89,
           90,
           91,
           93,
           94,
           96,
           97,
           98,
           99
          ],
          "colorbar": {
           "title": {
            "text": "Trial"
           },
           "x": 1,
           "xpad": 40
          },
          "colorscale": [
           [
            0,
            "rgb(247,251,255)"
           ],
           [
            0.125,
            "rgb(222,235,247)"
           ],
           [
            0.25,
            "rgb(198,219,239)"
           ],
           [
            0.375,
            "rgb(158,202,225)"
           ],
           [
            0.5,
            "rgb(107,174,214)"
           ],
           [
            0.625,
            "rgb(66,146,198)"
           ],
           [
            0.75,
            "rgb(33,113,181)"
           ],
           [
            0.875,
            "rgb(8,81,156)"
           ],
           [
            1,
            "rgb(8,48,107)"
           ]
          ],
          "line": {
           "color": "Grey",
           "width": 0.5
          },
          "showscale": false
         },
         "mode": "markers",
         "showlegend": false,
         "type": "scatter",
         "x": [
          397,
          107,
          247,
          380,
          253,
          322,
          293,
          470,
          307,
          332,
          498,
          200,
          325,
          216,
          312,
          350,
          274,
          438,
          354,
          273,
          231,
          150,
          311,
          271,
          298,
          258,
          406,
          170,
          330,
          283,
          370,
          268,
          246,
          312,
          340,
          313,
          391,
          298,
          240,
          191,
          237,
          255,
          216,
          325,
          311,
          340,
          271,
          211,
          322,
          302,
          300,
          347,
          352,
          409,
          365,
          260,
          246,
          295,
          336,
          337,
          282,
          323,
          347,
          349,
          362,
          377,
          395,
          390,
          395,
          428,
          450,
          465,
          470,
          465,
          461,
          487,
          417,
          439,
          430,
          390,
          451,
          385
         ],
         "xaxis": "x5",
         "y": [
          0.8956214804690127,
          0.8921250689569081,
          0.8960264670521884,
          0.8945734852878259,
          0.8942049843294889,
          0.897026811618925,
          0.8970699067571251,
          0.895881536985244,
          0.8967617072884999,
          0.8956080526436709,
          0.8954523564613792,
          0.8963500029059794,
          0.8963630931730145,
          0.8961081689511722,
          0.8968878301632092,
          0.8966561494169075,
          0.8965308286439798,
          0.8958234184813719,
          0.8957653413819981,
          0.8967700890148187,
          0.8960755887931864,
          0.8953135916953391,
          0.8959780379534065,
          0.8969307524361191,
          0.8957051183126122,
          0.8959432915061075,
          0.8961912568373464,
          0.8957590417966745,
          0.8963523657575552,
          0.8960820714353899,
          0.8959603636641825,
          0.8964290062625976,
          0.8966228700704031,
          0.8968350230979207,
          0.8966544796427002,
          0.8959008341645087,
          0.8961476608520952,
          0.8968009416066226,
          0.8968628000447478,
          0.8956064155154845,
          0.8956855788590882,
          0.8966752590340444,
          0.8966220818982812,
          0.8965977197556935,
          0.8961311999422962,
          0.8964113509785383,
          0.8965272434800508,
          0.8963507271877522,
          0.8956681789023432,
          0.8962576316353736,
          0.8964207078111052,
          0.8968793048892266,
          0.8963304045576391,
          0.8966595023431819,
          0.8965260240186897,
          0.8959059859671324,
          0.8967871851274426,
          0.8968447804461245,
          0.896918821856004,
          0.8967971347912402,
          0.897160949258164,
          0.8966920230938703,
          0.8974336371969538,
          0.8972646396268775,
          0.8974083908373492,
          0.8973528609704577,
          0.8975069538983144,
          0.8976576240610411,
          0.8973462941742976,
          0.8973870750458307,
          0.8977244895995863,
          0.8973972882069091,
          0.897395644773647,
          0.8971011794317065,
          0.8963527919558486,
          0.8971990862987465,
          0.8970331940035345,
          0.8971217115754101,
          0.8968438687150889,
          0.8973618991128932,
          0.8969210212251459,
          0.8969391570023729
         ],
         "yaxis": "y5"
        },
        {
         "marker": {
          "color": [
           0,
           1,
           2,
           6,
           8,
           10,
           11,
           12,
           13,
           14,
           15,
           16,
           17,
           20,
           21,
           22,
           23,
           24,
           25,
           26,
           27,
           28,
           29,
           31,
           32,
           33,
           34,
           35,
           36,
           38,
           39,
           41,
           42,
           43,
           44,
           45,
           46,
           47,
           48,
           49,
           50,
           51,
           52,
           53,
           55,
           56,
           57,
           59,
           60,
           61,
           62,
           64,
           65,
           66,
           67,
           68,
           69,
           71,
           72,
           73,
           74,
           75,
           76,
           77,
           78,
           79,
           81,
           82,
           83,
           85,
           86,
           87,
           88,
           89,
           90,
           91,
           93,
           94,
           96,
           97,
           98,
           99
          ],
          "colorbar": {
           "title": {
            "text": "Trial"
           },
           "x": 1,
           "xpad": 40
          },
          "colorscale": [
           [
            0,
            "rgb(247,251,255)"
           ],
           [
            0.125,
            "rgb(222,235,247)"
           ],
           [
            0.25,
            "rgb(198,219,239)"
           ],
           [
            0.375,
            "rgb(158,202,225)"
           ],
           [
            0.5,
            "rgb(107,174,214)"
           ],
           [
            0.625,
            "rgb(66,146,198)"
           ],
           [
            0.75,
            "rgb(33,113,181)"
           ],
           [
            0.875,
            "rgb(8,81,156)"
           ],
           [
            1,
            "rgb(8,48,107)"
           ]
          ],
          "line": {
           "color": "Grey",
           "width": 0.5
          },
          "showscale": false
         },
         "mode": "markers",
         "showlegend": false,
         "type": "scatter",
         "x": [
          49,
          92,
          41,
          88,
          67,
          22,
          20,
          23,
          22,
          29,
          52,
          20,
          32,
          32,
          24,
          28,
          20,
          45,
          60,
          27,
          35,
          25,
          47,
          26,
          32,
          41,
          26,
          40,
          20,
          29,
          37,
          25,
          28,
          24,
          22,
          23,
          39,
          31,
          24,
          45,
          35,
          25,
          23,
          20,
          31,
          29,
          23,
          26,
          37,
          30,
          20,
          24,
          26,
          22,
          24,
          28,
          22,
          31,
          28,
          27,
          30,
          35,
          20,
          20,
          20,
          21,
          20,
          21,
          21,
          20,
          20,
          22,
          22,
          26,
          22,
          22,
          25,
          22,
          24,
          27,
          27,
          23
         ],
         "xaxis": "x6",
         "y": [
          0.8956214804690127,
          0.8921250689569081,
          0.8960264670521884,
          0.8945734852878259,
          0.8942049843294889,
          0.897026811618925,
          0.8970699067571251,
          0.895881536985244,
          0.8967617072884999,
          0.8956080526436709,
          0.8954523564613792,
          0.8963500029059794,
          0.8963630931730145,
          0.8961081689511722,
          0.8968878301632092,
          0.8966561494169075,
          0.8965308286439798,
          0.8958234184813719,
          0.8957653413819981,
          0.8967700890148187,
          0.8960755887931864,
          0.8953135916953391,
          0.8959780379534065,
          0.8969307524361191,
          0.8957051183126122,
          0.8959432915061075,
          0.8961912568373464,
          0.8957590417966745,
          0.8963523657575552,
          0.8960820714353899,
          0.8959603636641825,
          0.8964290062625976,
          0.8966228700704031,
          0.8968350230979207,
          0.8966544796427002,
          0.8959008341645087,
          0.8961476608520952,
          0.8968009416066226,
          0.8968628000447478,
          0.8956064155154845,
          0.8956855788590882,
          0.8966752590340444,
          0.8966220818982812,
          0.8965977197556935,
          0.8961311999422962,
          0.8964113509785383,
          0.8965272434800508,
          0.8963507271877522,
          0.8956681789023432,
          0.8962576316353736,
          0.8964207078111052,
          0.8968793048892266,
          0.8963304045576391,
          0.8966595023431819,
          0.8965260240186897,
          0.8959059859671324,
          0.8967871851274426,
          0.8968447804461245,
          0.896918821856004,
          0.8967971347912402,
          0.897160949258164,
          0.8966920230938703,
          0.8974336371969538,
          0.8972646396268775,
          0.8974083908373492,
          0.8973528609704577,
          0.8975069538983144,
          0.8976576240610411,
          0.8973462941742976,
          0.8973870750458307,
          0.8977244895995863,
          0.8973972882069091,
          0.897395644773647,
          0.8971011794317065,
          0.8963527919558486,
          0.8971990862987465,
          0.8970331940035345,
          0.8971217115754101,
          0.8968438687150889,
          0.8973618991128932,
          0.8969210212251459,
          0.8969391570023729
         ],
         "yaxis": "y6"
        },
        {
         "marker": {
          "color": [
           0,
           1,
           2,
           6,
           8,
           10,
           11,
           12,
           13,
           14,
           15,
           16,
           17,
           20,
           21,
           22,
           23,
           24,
           25,
           26,
           27,
           28,
           29,
           31,
           32,
           33,
           34,
           35,
           36,
           38,
           39,
           41,
           42,
           43,
           44,
           45,
           46,
           47,
           48,
           49,
           50,
           51,
           52,
           53,
           55,
           56,
           57,
           59,
           60,
           61,
           62,
           64,
           65,
           66,
           67,
           68,
           69,
           71,
           72,
           73,
           74,
           75,
           76,
           77,
           78,
           79,
           81,
           82,
           83,
           85,
           86,
           87,
           88,
           89,
           90,
           91,
           93,
           94,
           96,
           97,
           98,
           99
          ],
          "colorbar": {
           "title": {
            "text": "Trial"
           },
           "x": 1,
           "xpad": 40
          },
          "colorscale": [
           [
            0,
            "rgb(247,251,255)"
           ],
           [
            0.125,
            "rgb(222,235,247)"
           ],
           [
            0.25,
            "rgb(198,219,239)"
           ],
           [
            0.375,
            "rgb(158,202,225)"
           ],
           [
            0.5,
            "rgb(107,174,214)"
           ],
           [
            0.625,
            "rgb(66,146,198)"
           ],
           [
            0.75,
            "rgb(33,113,181)"
           ],
           [
            0.875,
            "rgb(8,81,156)"
           ],
           [
            1,
            "rgb(8,48,107)"
           ]
          ],
          "line": {
           "color": "Grey",
           "width": 0.5
          },
          "showscale": false
         },
         "mode": "markers",
         "showlegend": false,
         "type": "scatter",
         "x": [
          62,
          26,
          26,
          64,
          74,
          41,
          44,
          44,
          47,
          42,
          36,
          10,
          56,
          85,
          50,
          54,
          36,
          42,
          32,
          57,
          49,
          74,
          60,
          59,
          40,
          48,
          31,
          53,
          61,
          68,
          74,
          60,
          56,
          57,
          65,
          38,
          70,
          81,
          50,
          44,
          52,
          48,
          58,
          51,
          43,
          29,
          20,
          45,
          54,
          100,
          90,
          94,
          96,
          35,
          40,
          10,
          33,
          90,
          89,
          92,
          87,
          86,
          95,
          95,
          87,
          86,
          87,
          84,
          87,
          77,
          87,
          78,
          79,
          77,
          80,
          83,
          88,
          71,
          83,
          76,
          78,
          72
         ],
         "xaxis": "x7",
         "y": [
          0.8956214804690127,
          0.8921250689569081,
          0.8960264670521884,
          0.8945734852878259,
          0.8942049843294889,
          0.897026811618925,
          0.8970699067571251,
          0.895881536985244,
          0.8967617072884999,
          0.8956080526436709,
          0.8954523564613792,
          0.8963500029059794,
          0.8963630931730145,
          0.8961081689511722,
          0.8968878301632092,
          0.8966561494169075,
          0.8965308286439798,
          0.8958234184813719,
          0.8957653413819981,
          0.8967700890148187,
          0.8960755887931864,
          0.8953135916953391,
          0.8959780379534065,
          0.8969307524361191,
          0.8957051183126122,
          0.8959432915061075,
          0.8961912568373464,
          0.8957590417966745,
          0.8963523657575552,
          0.8960820714353899,
          0.8959603636641825,
          0.8964290062625976,
          0.8966228700704031,
          0.8968350230979207,
          0.8966544796427002,
          0.8959008341645087,
          0.8961476608520952,
          0.8968009416066226,
          0.8968628000447478,
          0.8956064155154845,
          0.8956855788590882,
          0.8966752590340444,
          0.8966220818982812,
          0.8965977197556935,
          0.8961311999422962,
          0.8964113509785383,
          0.8965272434800508,
          0.8963507271877522,
          0.8956681789023432,
          0.8962576316353736,
          0.8964207078111052,
          0.8968793048892266,
          0.8963304045576391,
          0.8966595023431819,
          0.8965260240186897,
          0.8959059859671324,
          0.8967871851274426,
          0.8968447804461245,
          0.896918821856004,
          0.8967971347912402,
          0.897160949258164,
          0.8966920230938703,
          0.8974336371969538,
          0.8972646396268775,
          0.8974083908373492,
          0.8973528609704577,
          0.8975069538983144,
          0.8976576240610411,
          0.8973462941742976,
          0.8973870750458307,
          0.8977244895995863,
          0.8973972882069091,
          0.897395644773647,
          0.8971011794317065,
          0.8963527919558486,
          0.8971990862987465,
          0.8970331940035345,
          0.8971217115754101,
          0.8968438687150889,
          0.8973618991128932,
          0.8969210212251459,
          0.8969391570023729
         ],
         "yaxis": "y7"
        }
       ],
       "layout": {
        "template": {
         "data": {
          "bar": [
           {
            "error_x": {
             "color": "#2a3f5f"
            },
            "error_y": {
             "color": "#2a3f5f"
            },
            "marker": {
             "line": {
              "color": "#E5ECF6",
              "width": 0.5
             },
             "pattern": {
              "fillmode": "overlay",
              "size": 10,
              "solidity": 0.2
             }
            },
            "type": "bar"
           }
          ],
          "barpolar": [
           {
            "marker": {
             "line": {
              "color": "#E5ECF6",
              "width": 0.5
             },
             "pattern": {
              "fillmode": "overlay",
              "size": 10,
              "solidity": 0.2
             }
            },
            "type": "barpolar"
           }
          ],
          "carpet": [
           {
            "aaxis": {
             "endlinecolor": "#2a3f5f",
             "gridcolor": "white",
             "linecolor": "white",
             "minorgridcolor": "white",
             "startlinecolor": "#2a3f5f"
            },
            "baxis": {
             "endlinecolor": "#2a3f5f",
             "gridcolor": "white",
             "linecolor": "white",
             "minorgridcolor": "white",
             "startlinecolor": "#2a3f5f"
            },
            "type": "carpet"
           }
          ],
          "choropleth": [
           {
            "colorbar": {
             "outlinewidth": 0,
             "ticks": ""
            },
            "type": "choropleth"
           }
          ],
          "contour": [
           {
            "colorbar": {
             "outlinewidth": 0,
             "ticks": ""
            },
            "colorscale": [
             [
              0,
              "#0d0887"
             ],
             [
              0.1111111111111111,
              "#46039f"
             ],
             [
              0.2222222222222222,
              "#7201a8"
             ],
             [
              0.3333333333333333,
              "#9c179e"
             ],
             [
              0.4444444444444444,
              "#bd3786"
             ],
             [
              0.5555555555555556,
              "#d8576b"
             ],
             [
              0.6666666666666666,
              "#ed7953"
             ],
             [
              0.7777777777777778,
              "#fb9f3a"
             ],
             [
              0.8888888888888888,
              "#fdca26"
             ],
             [
              1,
              "#f0f921"
             ]
            ],
            "type": "contour"
           }
          ],
          "contourcarpet": [
           {
            "colorbar": {
             "outlinewidth": 0,
             "ticks": ""
            },
            "type": "contourcarpet"
           }
          ],
          "heatmap": [
           {
            "colorbar": {
             "outlinewidth": 0,
             "ticks": ""
            },
            "colorscale": [
             [
              0,
              "#0d0887"
             ],
             [
              0.1111111111111111,
              "#46039f"
             ],
             [
              0.2222222222222222,
              "#7201a8"
             ],
             [
              0.3333333333333333,
              "#9c179e"
             ],
             [
              0.4444444444444444,
              "#bd3786"
             ],
             [
              0.5555555555555556,
              "#d8576b"
             ],
             [
              0.6666666666666666,
              "#ed7953"
             ],
             [
              0.7777777777777778,
              "#fb9f3a"
             ],
             [
              0.8888888888888888,
              "#fdca26"
             ],
             [
              1,
              "#f0f921"
             ]
            ],
            "type": "heatmap"
           }
          ],
          "heatmapgl": [
           {
            "colorbar": {
             "outlinewidth": 0,
             "ticks": ""
            },
            "colorscale": [
             [
              0,
              "#0d0887"
             ],
             [
              0.1111111111111111,
              "#46039f"
             ],
             [
              0.2222222222222222,
              "#7201a8"
             ],
             [
              0.3333333333333333,
              "#9c179e"
             ],
             [
              0.4444444444444444,
              "#bd3786"
             ],
             [
              0.5555555555555556,
              "#d8576b"
             ],
             [
              0.6666666666666666,
              "#ed7953"
             ],
             [
              0.7777777777777778,
              "#fb9f3a"
             ],
             [
              0.8888888888888888,
              "#fdca26"
             ],
             [
              1,
              "#f0f921"
             ]
            ],
            "type": "heatmapgl"
           }
          ],
          "histogram": [
           {
            "marker": {
             "pattern": {
              "fillmode": "overlay",
              "size": 10,
              "solidity": 0.2
             }
            },
            "type": "histogram"
           }
          ],
          "histogram2d": [
           {
            "colorbar": {
             "outlinewidth": 0,
             "ticks": ""
            },
            "colorscale": [
             [
              0,
              "#0d0887"
             ],
             [
              0.1111111111111111,
              "#46039f"
             ],
             [
              0.2222222222222222,
              "#7201a8"
             ],
             [
              0.3333333333333333,
              "#9c179e"
             ],
             [
              0.4444444444444444,
              "#bd3786"
             ],
             [
              0.5555555555555556,
              "#d8576b"
             ],
             [
              0.6666666666666666,
              "#ed7953"
             ],
             [
              0.7777777777777778,
              "#fb9f3a"
             ],
             [
              0.8888888888888888,
              "#fdca26"
             ],
             [
              1,
              "#f0f921"
             ]
            ],
            "type": "histogram2d"
           }
          ],
          "histogram2dcontour": [
           {
            "colorbar": {
             "outlinewidth": 0,
             "ticks": ""
            },
            "colorscale": [
             [
              0,
              "#0d0887"
             ],
             [
              0.1111111111111111,
              "#46039f"
             ],
             [
              0.2222222222222222,
              "#7201a8"
             ],
             [
              0.3333333333333333,
              "#9c179e"
             ],
             [
              0.4444444444444444,
              "#bd3786"
             ],
             [
              0.5555555555555556,
              "#d8576b"
             ],
             [
              0.6666666666666666,
              "#ed7953"
             ],
             [
              0.7777777777777778,
              "#fb9f3a"
             ],
             [
              0.8888888888888888,
              "#fdca26"
             ],
             [
              1,
              "#f0f921"
             ]
            ],
            "type": "histogram2dcontour"
           }
          ],
          "mesh3d": [
           {
            "colorbar": {
             "outlinewidth": 0,
             "ticks": ""
            },
            "type": "mesh3d"
           }
          ],
          "parcoords": [
           {
            "line": {
             "colorbar": {
              "outlinewidth": 0,
              "ticks": ""
             }
            },
            "type": "parcoords"
           }
          ],
          "pie": [
           {
            "automargin": true,
            "type": "pie"
           }
          ],
          "scatter": [
           {
            "fillpattern": {
             "fillmode": "overlay",
             "size": 10,
             "solidity": 0.2
            },
            "type": "scatter"
           }
          ],
          "scatter3d": [
           {
            "line": {
             "colorbar": {
              "outlinewidth": 0,
              "ticks": ""
             }
            },
            "marker": {
             "colorbar": {
              "outlinewidth": 0,
              "ticks": ""
             }
            },
            "type": "scatter3d"
           }
          ],
          "scattercarpet": [
           {
            "marker": {
             "colorbar": {
              "outlinewidth": 0,
              "ticks": ""
             }
            },
            "type": "scattercarpet"
           }
          ],
          "scattergeo": [
           {
            "marker": {
             "colorbar": {
              "outlinewidth": 0,
              "ticks": ""
             }
            },
            "type": "scattergeo"
           }
          ],
          "scattergl": [
           {
            "marker": {
             "colorbar": {
              "outlinewidth": 0,
              "ticks": ""
             }
            },
            "type": "scattergl"
           }
          ],
          "scattermapbox": [
           {
            "marker": {
             "colorbar": {
              "outlinewidth": 0,
              "ticks": ""
             }
            },
            "type": "scattermapbox"
           }
          ],
          "scatterpolar": [
           {
            "marker": {
             "colorbar": {
              "outlinewidth": 0,
              "ticks": ""
             }
            },
            "type": "scatterpolar"
           }
          ],
          "scatterpolargl": [
           {
            "marker": {
             "colorbar": {
              "outlinewidth": 0,
              "ticks": ""
             }
            },
            "type": "scatterpolargl"
           }
          ],
          "scatterternary": [
           {
            "marker": {
             "colorbar": {
              "outlinewidth": 0,
              "ticks": ""
             }
            },
            "type": "scatterternary"
           }
          ],
          "surface": [
           {
            "colorbar": {
             "outlinewidth": 0,
             "ticks": ""
            },
            "colorscale": [
             [
              0,
              "#0d0887"
             ],
             [
              0.1111111111111111,
              "#46039f"
             ],
             [
              0.2222222222222222,
              "#7201a8"
             ],
             [
              0.3333333333333333,
              "#9c179e"
             ],
             [
              0.4444444444444444,
              "#bd3786"
             ],
             [
              0.5555555555555556,
              "#d8576b"
             ],
             [
              0.6666666666666666,
              "#ed7953"
             ],
             [
              0.7777777777777778,
              "#fb9f3a"
             ],
             [
              0.8888888888888888,
              "#fdca26"
             ],
             [
              1,
              "#f0f921"
             ]
            ],
            "type": "surface"
           }
          ],
          "table": [
           {
            "cells": {
             "fill": {
              "color": "#EBF0F8"
             },
             "line": {
              "color": "white"
             }
            },
            "header": {
             "fill": {
              "color": "#C8D4E3"
             },
             "line": {
              "color": "white"
             }
            },
            "type": "table"
           }
          ]
         },
         "layout": {
          "annotationdefaults": {
           "arrowcolor": "#2a3f5f",
           "arrowhead": 0,
           "arrowwidth": 1
          },
          "autotypenumbers": "strict",
          "coloraxis": {
           "colorbar": {
            "outlinewidth": 0,
            "ticks": ""
           }
          },
          "colorscale": {
           "diverging": [
            [
             0,
             "#8e0152"
            ],
            [
             0.1,
             "#c51b7d"
            ],
            [
             0.2,
             "#de77ae"
            ],
            [
             0.3,
             "#f1b6da"
            ],
            [
             0.4,
             "#fde0ef"
            ],
            [
             0.5,
             "#f7f7f7"
            ],
            [
             0.6,
             "#e6f5d0"
            ],
            [
             0.7,
             "#b8e186"
            ],
            [
             0.8,
             "#7fbc41"
            ],
            [
             0.9,
             "#4d9221"
            ],
            [
             1,
             "#276419"
            ]
           ],
           "sequential": [
            [
             0,
             "#0d0887"
            ],
            [
             0.1111111111111111,
             "#46039f"
            ],
            [
             0.2222222222222222,
             "#7201a8"
            ],
            [
             0.3333333333333333,
             "#9c179e"
            ],
            [
             0.4444444444444444,
             "#bd3786"
            ],
            [
             0.5555555555555556,
             "#d8576b"
            ],
            [
             0.6666666666666666,
             "#ed7953"
            ],
            [
             0.7777777777777778,
             "#fb9f3a"
            ],
            [
             0.8888888888888888,
             "#fdca26"
            ],
            [
             1,
             "#f0f921"
            ]
           ],
           "sequentialminus": [
            [
             0,
             "#0d0887"
            ],
            [
             0.1111111111111111,
             "#46039f"
            ],
            [
             0.2222222222222222,
             "#7201a8"
            ],
            [
             0.3333333333333333,
             "#9c179e"
            ],
            [
             0.4444444444444444,
             "#bd3786"
            ],
            [
             0.5555555555555556,
             "#d8576b"
            ],
            [
             0.6666666666666666,
             "#ed7953"
            ],
            [
             0.7777777777777778,
             "#fb9f3a"
            ],
            [
             0.8888888888888888,
             "#fdca26"
            ],
            [
             1,
             "#f0f921"
            ]
           ]
          },
          "colorway": [
           "#636efa",
           "#EF553B",
           "#00cc96",
           "#ab63fa",
           "#FFA15A",
           "#19d3f3",
           "#FF6692",
           "#B6E880",
           "#FF97FF",
           "#FECB52"
          ],
          "font": {
           "color": "#2a3f5f"
          },
          "geo": {
           "bgcolor": "white",
           "lakecolor": "white",
           "landcolor": "#E5ECF6",
           "showlakes": true,
           "showland": true,
           "subunitcolor": "white"
          },
          "hoverlabel": {
           "align": "left"
          },
          "hovermode": "closest",
          "mapbox": {
           "style": "light"
          },
          "paper_bgcolor": "white",
          "plot_bgcolor": "#E5ECF6",
          "polar": {
           "angularaxis": {
            "gridcolor": "white",
            "linecolor": "white",
            "ticks": ""
           },
           "bgcolor": "#E5ECF6",
           "radialaxis": {
            "gridcolor": "white",
            "linecolor": "white",
            "ticks": ""
           }
          },
          "scene": {
           "xaxis": {
            "backgroundcolor": "#E5ECF6",
            "gridcolor": "white",
            "gridwidth": 2,
            "linecolor": "white",
            "showbackground": true,
            "ticks": "",
            "zerolinecolor": "white"
           },
           "yaxis": {
            "backgroundcolor": "#E5ECF6",
            "gridcolor": "white",
            "gridwidth": 2,
            "linecolor": "white",
            "showbackground": true,
            "ticks": "",
            "zerolinecolor": "white"
           },
           "zaxis": {
            "backgroundcolor": "#E5ECF6",
            "gridcolor": "white",
            "gridwidth": 2,
            "linecolor": "white",
            "showbackground": true,
            "ticks": "",
            "zerolinecolor": "white"
           }
          },
          "shapedefaults": {
           "line": {
            "color": "#2a3f5f"
           }
          },
          "ternary": {
           "aaxis": {
            "gridcolor": "white",
            "linecolor": "white",
            "ticks": ""
           },
           "baxis": {
            "gridcolor": "white",
            "linecolor": "white",
            "ticks": ""
           },
           "bgcolor": "#E5ECF6",
           "caxis": {
            "gridcolor": "white",
            "linecolor": "white",
            "ticks": ""
           }
          },
          "title": {
           "x": 0.05
          },
          "xaxis": {
           "automargin": true,
           "gridcolor": "white",
           "linecolor": "white",
           "ticks": "",
           "title": {
            "standoff": 15
           },
           "zerolinecolor": "white",
           "zerolinewidth": 2
          },
          "yaxis": {
           "automargin": true,
           "gridcolor": "white",
           "linecolor": "white",
           "ticks": "",
           "title": {
            "standoff": 15
           },
           "zerolinecolor": "white",
           "zerolinewidth": 2
          }
         }
        },
        "title": {
         "text": "Slice Plot"
        },
        "width": 2100,
        "xaxis": {
         "anchor": "y",
         "domain": [
          0,
          0.1183673469387755
         ],
         "title": {
          "text": "l2_regularization"
         }
        },
        "xaxis2": {
         "anchor": "y2",
         "domain": [
          0.14693877551020407,
          0.26530612244897955
         ],
         "title": {
          "text": "learning_rate"
         }
        },
        "xaxis3": {
         "anchor": "y3",
         "domain": [
          0.29387755102040813,
          0.4122448979591836
         ],
         "title": {
          "text": "max_bins"
         }
        },
        "xaxis4": {
         "anchor": "y4",
         "domain": [
          0.4408163265306122,
          0.5591836734693877
         ],
         "title": {
          "text": "max_depth"
         }
        },
        "xaxis5": {
         "anchor": "y5",
         "domain": [
          0.5877551020408163,
          0.7061224489795918
         ],
         "title": {
          "text": "max_iter"
         }
        },
        "xaxis6": {
         "anchor": "y6",
         "domain": [
          0.7346938775510204,
          0.8530612244897959
         ],
         "title": {
          "text": "max_leaf_nodes"
         }
        },
        "xaxis7": {
         "anchor": "y7",
         "domain": [
          0.8816326530612244,
          0.9999999999999999
         ],
         "title": {
          "text": "min_samples_leaf"
         }
        },
        "yaxis": {
         "anchor": "x",
         "domain": [
          0,
          1
         ],
         "title": {
          "text": "Objective Value"
         }
        },
        "yaxis2": {
         "anchor": "x2",
         "domain": [
          0,
          1
         ],
         "matches": "y",
         "showticklabels": false
        },
        "yaxis3": {
         "anchor": "x3",
         "domain": [
          0,
          1
         ],
         "matches": "y",
         "showticklabels": false
        },
        "yaxis4": {
         "anchor": "x4",
         "domain": [
          0,
          1
         ],
         "matches": "y",
         "showticklabels": false
        },
        "yaxis5": {
         "anchor": "x5",
         "domain": [
          0,
          1
         ],
         "matches": "y",
         "showticklabels": false
        },
        "yaxis6": {
         "anchor": "x6",
         "domain": [
          0,
          1
         ],
         "matches": "y",
         "showticklabels": false
        },
        "yaxis7": {
         "anchor": "x7",
         "domain": [
          0,
          1
         ],
         "matches": "y",
         "showticklabels": false
        }
       }
      },
      "text/html": [
       "<div>                        <script type=\"text/javascript\">window.PlotlyConfig = {MathJaxConfig: 'local'};</script>\n",
       "        <script charset=\"utf-8\" src=\"https://cdn.plot.ly/plotly-2.20.0.min.js\"></script>                <div id=\"336708fb-19f6-412a-a417-1bd6f6895194\" class=\"plotly-graph-div\" style=\"height:100%; width:2100px;\"></div>            <script type=\"text/javascript\">                                    window.PLOTLYENV=window.PLOTLYENV || {};                                    if (document.getElementById(\"336708fb-19f6-412a-a417-1bd6f6895194\")) {                    Plotly.newPlot(                        \"336708fb-19f6-412a-a417-1bd6f6895194\",                        [{\"marker\":{\"color\":[0,1,2,6,8,10,11,12,13,14,15,16,17,20,21,22,23,24,25,26,27,28,29,31,32,33,34,35,36,38,39,41,42,43,44,45,46,47,48,49,50,51,52,53,55,56,57,59,60,61,62,64,65,66,67,68,69,71,72,73,74,75,76,77,78,79,81,82,83,85,86,87,88,89,90,91,93,94,96,97,98,99],\"colorbar\":{\"title\":{\"text\":\"Trial\"},\"x\":1.0,\"xpad\":40},\"colorscale\":[[0.0,\"rgb(247,251,255)\"],[0.125,\"rgb(222,235,247)\"],[0.25,\"rgb(198,219,239)\"],[0.375,\"rgb(158,202,225)\"],[0.5,\"rgb(107,174,214)\"],[0.625,\"rgb(66,146,198)\"],[0.75,\"rgb(33,113,181)\"],[0.875,\"rgb(8,81,156)\"],[1.0,\"rgb(8,48,107)\"]],\"line\":{\"color\":\"Grey\",\"width\":0.5},\"showscale\":true},\"mode\":\"markers\",\"showlegend\":false,\"x\":[0.865161119575739,0.875982614235826,0.7161018436816753,0.7855851819610684,0.9973460531420034,0.5640635247024228,0.5572936740053499,0.5435079244373889,0.5524906600643097,0.43517055278721317,0.5475932195410312,0.6263182434829128,0.6443346094709033,0.6375854167113038,0.5633863110845194,0.5956995455163308,0.49304271655883725,0.6694903453862167,0.5938126721553499,0.4655412697967445,0.5177116886918468,0.5799692202391563,0.5158008832069093,0.4623982028547648,0.44011398200485846,0.4688027733377465,0.5792617826754519,0.5304318173381163,0.48872148783348207,0.6930041175918311,0.5634151444027862,0.47160039819425437,0.5219590951892872,0.45644844193195433,0.40274035785174345,0.56604806370109,0.4347298032020788,0.5442077780135511,0.5123170511169008,0.504991747958205,0.5390027053373841,0.48468640823508213,0.5118373802038255,0.4579791944829458,0.5030315954235647,0.6014064224422447,0.5678520203269704,0.48210602877750286,0.6245966610812776,0.5464943598015924,0.5822474337378261,0.4984115414698609,0.4494081818927003,0.42415074744209674,0.4756919249739509,0.4949044727944665,0.5068205295368733,0.5549683822447192,0.5188611605374566,0.5601178884188925,0.5249617552956057,0.5234597277054962,0.5829542010921881,0.5819070418226433,0.5986839277266129,0.592870361863843,0.6027484279833132,0.5873773729968689,0.5857607315326634,0.6400810146360082,0.6496937198849339,0.646718071128513,0.6483647235647,0.6492523546668868,0.6590779096870938,0.6393955926605916,0.6055015437858473,0.6195977312019063,0.6595392956126553,0.6339463429836228,0.6829549789659567,0.6381654903238537],\"y\":[0.8956214804690127,0.8921250689569081,0.8960264670521884,0.8945734852878259,0.8942049843294889,0.897026811618925,0.8970699067571251,0.895881536985244,0.8967617072884999,0.8956080526436709,0.8954523564613792,0.8963500029059794,0.8963630931730145,0.8961081689511722,0.8968878301632092,0.8966561494169075,0.8965308286439798,0.8958234184813719,0.8957653413819981,0.8967700890148187,0.8960755887931864,0.8953135916953391,0.8959780379534065,0.8969307524361191,0.8957051183126122,0.8959432915061075,0.8961912568373464,0.8957590417966745,0.8963523657575552,0.8960820714353899,0.8959603636641825,0.8964290062625976,0.8966228700704031,0.8968350230979207,0.8966544796427002,0.8959008341645087,0.8961476608520952,0.8968009416066226,0.8968628000447478,0.8956064155154845,0.8956855788590882,0.8966752590340444,0.8966220818982812,0.8965977197556935,0.8961311999422962,0.8964113509785383,0.8965272434800508,0.8963507271877522,0.8956681789023432,0.8962576316353736,0.8964207078111052,0.8968793048892266,0.8963304045576391,0.8966595023431819,0.8965260240186897,0.8959059859671324,0.8967871851274426,0.8968447804461245,0.896918821856004,0.8967971347912402,0.897160949258164,0.8966920230938703,0.8974336371969538,0.8972646396268775,0.8974083908373492,0.8973528609704577,0.8975069538983144,0.8976576240610411,0.8973462941742976,0.8973870750458307,0.8977244895995863,0.8973972882069091,0.897395644773647,0.8971011794317065,0.8963527919558486,0.8971990862987465,0.8970331940035345,0.8971217115754101,0.8968438687150889,0.8973618991128932,0.8969210212251459,0.8969391570023729],\"type\":\"scatter\",\"xaxis\":\"x\",\"yaxis\":\"y\"},{\"marker\":{\"color\":[0,1,2,6,8,10,11,12,13,14,15,16,17,20,21,22,23,24,25,26,27,28,29,31,32,33,34,35,36,38,39,41,42,43,44,45,46,47,48,49,50,51,52,53,55,56,57,59,60,61,62,64,65,66,67,68,69,71,72,73,74,75,76,77,78,79,81,82,83,85,86,87,88,89,90,91,93,94,96,97,98,99],\"colorbar\":{\"title\":{\"text\":\"Trial\"},\"x\":1.0,\"xpad\":40},\"colorscale\":[[0.0,\"rgb(247,251,255)\"],[0.125,\"rgb(222,235,247)\"],[0.25,\"rgb(198,219,239)\"],[0.375,\"rgb(158,202,225)\"],[0.5,\"rgb(107,174,214)\"],[0.625,\"rgb(66,146,198)\"],[0.75,\"rgb(33,113,181)\"],[0.875,\"rgb(8,81,156)\"],[1.0,\"rgb(8,48,107)\"]],\"line\":{\"color\":\"Grey\",\"width\":0.5},\"showscale\":false},\"mode\":\"markers\",\"showlegend\":false,\"x\":[0.12521503862244876,0.09771538956558976,0.02379402641844969,0.043146329153552716,0.06618566005219409,0.0331528965013702,0.03359932047442103,0.06499075170707783,0.036790906993689386,0.0779279433022951,0.021509551862836984,0.05187022273220379,0.021441259604622752,0.05803693414566645,0.03493513926692644,0.03527639971995565,0.04967796390902403,0.02918439177018666,0.0143738472843572,0.03193080333196478,0.04389009599849103,0.010899728842050909,0.019719539584630217,0.031120177863760572,0.029428233738195163,0.013683508830996005,0.037020810175396275,0.024142809239805756,0.05125965646224879,0.028886349591778934,0.013187641008178153,0.03258297574150421,0.03468886885208676,0.02505024724318833,0.024925910763382096,0.006416087799582748,0.01792933115684019,0.00873605164285908,0.04076930937059847,0.04135259698911101,0.058641475781357255,0.0250359042334806,0.03866787136189545,0.04732475984305362,0.03829671697284871,0.026584418305940195,0.033411539274183215,0.05478890382517166,0.04575651996990049,0.007238644633192508,0.007727856207485978,0.02939281553485525,0.029609873969326475,0.038920072222457774,0.033555840307386224,0.02284179440989774,0.028227461521850742,0.016537053862658434,0.014833420541462836,0.013289101002367888,0.01708079104882631,0.02019418893097169,0.03230886784318135,0.030788157358408497,0.0360093586720861,0.011070380264567588,0.01225852923259915,0.01157733390664717,0.011296866870427734,0.010722109806039298,0.010334329050417028,0.010515355452917974,0.009561920904449434,0.011156971238759195,0.0050102842191517664,0.010062682245175121,0.01209926440144764,0.009662847288046107,0.015195810522629801,0.01981942701199306,0.01992915632009542,0.022609082856324257],\"y\":[0.8956214804690127,0.8921250689569081,0.8960264670521884,0.8945734852878259,0.8942049843294889,0.897026811618925,0.8970699067571251,0.895881536985244,0.8967617072884999,0.8956080526436709,0.8954523564613792,0.8963500029059794,0.8963630931730145,0.8961081689511722,0.8968878301632092,0.8966561494169075,0.8965308286439798,0.8958234184813719,0.8957653413819981,0.8967700890148187,0.8960755887931864,0.8953135916953391,0.8959780379534065,0.8969307524361191,0.8957051183126122,0.8959432915061075,0.8961912568373464,0.8957590417966745,0.8963523657575552,0.8960820714353899,0.8959603636641825,0.8964290062625976,0.8966228700704031,0.8968350230979207,0.8966544796427002,0.8959008341645087,0.8961476608520952,0.8968009416066226,0.8968628000447478,0.8956064155154845,0.8956855788590882,0.8966752590340444,0.8966220818982812,0.8965977197556935,0.8961311999422962,0.8964113509785383,0.8965272434800508,0.8963507271877522,0.8956681789023432,0.8962576316353736,0.8964207078111052,0.8968793048892266,0.8963304045576391,0.8966595023431819,0.8965260240186897,0.8959059859671324,0.8967871851274426,0.8968447804461245,0.896918821856004,0.8967971347912402,0.897160949258164,0.8966920230938703,0.8974336371969538,0.8972646396268775,0.8974083908373492,0.8973528609704577,0.8975069538983144,0.8976576240610411,0.8973462941742976,0.8973870750458307,0.8977244895995863,0.8973972882069091,0.897395644773647,0.8971011794317065,0.8963527919558486,0.8971990862987465,0.8970331940035345,0.8971217115754101,0.8968438687150889,0.8973618991128932,0.8969210212251459,0.8969391570023729],\"type\":\"scatter\",\"xaxis\":\"x2\",\"yaxis\":\"y2\"},{\"marker\":{\"color\":[0,1,2,6,8,10,11,12,13,14,15,16,17,20,21,22,23,24,25,26,27,28,29,31,32,33,34,35,36,38,39,41,42,43,44,45,46,47,48,49,50,51,52,53,55,56,57,59,60,61,62,64,65,66,67,68,69,71,72,73,74,75,76,77,78,79,81,82,83,85,86,87,88,89,90,91,93,94,96,97,98,99],\"colorbar\":{\"title\":{\"text\":\"Trial\"},\"x\":1.0,\"xpad\":40},\"colorscale\":[[0.0,\"rgb(247,251,255)\"],[0.125,\"rgb(222,235,247)\"],[0.25,\"rgb(198,219,239)\"],[0.375,\"rgb(158,202,225)\"],[0.5,\"rgb(107,174,214)\"],[0.625,\"rgb(66,146,198)\"],[0.75,\"rgb(33,113,181)\"],[0.875,\"rgb(8,81,156)\"],[1.0,\"rgb(8,48,107)\"]],\"line\":{\"color\":\"Grey\",\"width\":0.5},\"showscale\":false},\"mode\":\"markers\",\"showlegend\":false,\"x\":[113,149,254,119,238,210,210,211,201,196,187,218,175,216,202,202,188,227,165,208,189,138,243,210,223,208,196,227,184,199,169,207,219,205,229,180,196,194,202,219,234,206,214,203,189,223,192,201,247,195,183,204,204,222,212,233,208,192,199,198,190,185,189,188,175,158,138,133,123,121,118,118,117,112,135,113,122,144,102,130,128,143],\"y\":[0.8956214804690127,0.8921250689569081,0.8960264670521884,0.8945734852878259,0.8942049843294889,0.897026811618925,0.8970699067571251,0.895881536985244,0.8967617072884999,0.8956080526436709,0.8954523564613792,0.8963500029059794,0.8963630931730145,0.8961081689511722,0.8968878301632092,0.8966561494169075,0.8965308286439798,0.8958234184813719,0.8957653413819981,0.8967700890148187,0.8960755887931864,0.8953135916953391,0.8959780379534065,0.8969307524361191,0.8957051183126122,0.8959432915061075,0.8961912568373464,0.8957590417966745,0.8963523657575552,0.8960820714353899,0.8959603636641825,0.8964290062625976,0.8966228700704031,0.8968350230979207,0.8966544796427002,0.8959008341645087,0.8961476608520952,0.8968009416066226,0.8968628000447478,0.8956064155154845,0.8956855788590882,0.8966752590340444,0.8966220818982812,0.8965977197556935,0.8961311999422962,0.8964113509785383,0.8965272434800508,0.8963507271877522,0.8956681789023432,0.8962576316353736,0.8964207078111052,0.8968793048892266,0.8963304045576391,0.8966595023431819,0.8965260240186897,0.8959059859671324,0.8967871851274426,0.8968447804461245,0.896918821856004,0.8967971347912402,0.897160949258164,0.8966920230938703,0.8974336371969538,0.8972646396268775,0.8974083908373492,0.8973528609704577,0.8975069538983144,0.8976576240610411,0.8973462941742976,0.8973870750458307,0.8977244895995863,0.8973972882069091,0.897395644773647,0.8971011794317065,0.8963527919558486,0.8971990862987465,0.8970331940035345,0.8971217115754101,0.8968438687150889,0.8973618991128932,0.8969210212251459,0.8969391570023729],\"type\":\"scatter\",\"xaxis\":\"x3\",\"yaxis\":\"y3\"},{\"marker\":{\"color\":[0,1,2,6,8,10,11,12,13,14,15,16,17,20,21,22,23,24,25,26,27,28,29,31,32,33,34,35,36,38,39,41,42,43,44,45,46,47,48,49,50,51,52,53,55,56,57,59,60,61,62,64,65,66,67,68,69,71,72,73,74,75,76,77,78,79,81,82,83,85,86,87,88,89,90,91,93,94,96,97,98,99],\"colorbar\":{\"title\":{\"text\":\"Trial\"},\"x\":1.0,\"xpad\":40},\"colorscale\":[[0.0,\"rgb(247,251,255)\"],[0.125,\"rgb(222,235,247)\"],[0.25,\"rgb(198,219,239)\"],[0.375,\"rgb(158,202,225)\"],[0.5,\"rgb(107,174,214)\"],[0.625,\"rgb(66,146,198)\"],[0.75,\"rgb(33,113,181)\"],[0.875,\"rgb(8,81,156)\"],[1.0,\"rgb(8,48,107)\"]],\"line\":{\"color\":\"Grey\",\"width\":0.5},\"showscale\":false},\"mode\":\"markers\",\"showlegend\":false,\"x\":[6,28,32,12,35,59,64,59,63,54,53,64,48,51,64,59,64,58,43,61,51,57,37,61,2,61,55,48,61,26,51,61,60,57,56,53,17,58,54,62,54,64,57,32,59,62,54,24,47,58,56,52,53,49,62,38,43,58,60,59,60,60,63,63,63,62,61,62,63,63,63,63,64,62,64,63,64,56,60,58,57,58],\"y\":[0.8956214804690127,0.8921250689569081,0.8960264670521884,0.8945734852878259,0.8942049843294889,0.897026811618925,0.8970699067571251,0.895881536985244,0.8967617072884999,0.8956080526436709,0.8954523564613792,0.8963500029059794,0.8963630931730145,0.8961081689511722,0.8968878301632092,0.8966561494169075,0.8965308286439798,0.8958234184813719,0.8957653413819981,0.8967700890148187,0.8960755887931864,0.8953135916953391,0.8959780379534065,0.8969307524361191,0.8957051183126122,0.8959432915061075,0.8961912568373464,0.8957590417966745,0.8963523657575552,0.8960820714353899,0.8959603636641825,0.8964290062625976,0.8966228700704031,0.8968350230979207,0.8966544796427002,0.8959008341645087,0.8961476608520952,0.8968009416066226,0.8968628000447478,0.8956064155154845,0.8956855788590882,0.8966752590340444,0.8966220818982812,0.8965977197556935,0.8961311999422962,0.8964113509785383,0.8965272434800508,0.8963507271877522,0.8956681789023432,0.8962576316353736,0.8964207078111052,0.8968793048892266,0.8963304045576391,0.8966595023431819,0.8965260240186897,0.8959059859671324,0.8967871851274426,0.8968447804461245,0.896918821856004,0.8967971347912402,0.897160949258164,0.8966920230938703,0.8974336371969538,0.8972646396268775,0.8974083908373492,0.8973528609704577,0.8975069538983144,0.8976576240610411,0.8973462941742976,0.8973870750458307,0.8977244895995863,0.8973972882069091,0.897395644773647,0.8971011794317065,0.8963527919558486,0.8971990862987465,0.8970331940035345,0.8971217115754101,0.8968438687150889,0.8973618991128932,0.8969210212251459,0.8969391570023729],\"type\":\"scatter\",\"xaxis\":\"x4\",\"yaxis\":\"y4\"},{\"marker\":{\"color\":[0,1,2,6,8,10,11,12,13,14,15,16,17,20,21,22,23,24,25,26,27,28,29,31,32,33,34,35,36,38,39,41,42,43,44,45,46,47,48,49,50,51,52,53,55,56,57,59,60,61,62,64,65,66,67,68,69,71,72,73,74,75,76,77,78,79,81,82,83,85,86,87,88,89,90,91,93,94,96,97,98,99],\"colorbar\":{\"title\":{\"text\":\"Trial\"},\"x\":1.0,\"xpad\":40},\"colorscale\":[[0.0,\"rgb(247,251,255)\"],[0.125,\"rgb(222,235,247)\"],[0.25,\"rgb(198,219,239)\"],[0.375,\"rgb(158,202,225)\"],[0.5,\"rgb(107,174,214)\"],[0.625,\"rgb(66,146,198)\"],[0.75,\"rgb(33,113,181)\"],[0.875,\"rgb(8,81,156)\"],[1.0,\"rgb(8,48,107)\"]],\"line\":{\"color\":\"Grey\",\"width\":0.5},\"showscale\":false},\"mode\":\"markers\",\"showlegend\":false,\"x\":[397,107,247,380,253,322,293,470,307,332,498,200,325,216,312,350,274,438,354,273,231,150,311,271,298,258,406,170,330,283,370,268,246,312,340,313,391,298,240,191,237,255,216,325,311,340,271,211,322,302,300,347,352,409,365,260,246,295,336,337,282,323,347,349,362,377,395,390,395,428,450,465,470,465,461,487,417,439,430,390,451,385],\"y\":[0.8956214804690127,0.8921250689569081,0.8960264670521884,0.8945734852878259,0.8942049843294889,0.897026811618925,0.8970699067571251,0.895881536985244,0.8967617072884999,0.8956080526436709,0.8954523564613792,0.8963500029059794,0.8963630931730145,0.8961081689511722,0.8968878301632092,0.8966561494169075,0.8965308286439798,0.8958234184813719,0.8957653413819981,0.8967700890148187,0.8960755887931864,0.8953135916953391,0.8959780379534065,0.8969307524361191,0.8957051183126122,0.8959432915061075,0.8961912568373464,0.8957590417966745,0.8963523657575552,0.8960820714353899,0.8959603636641825,0.8964290062625976,0.8966228700704031,0.8968350230979207,0.8966544796427002,0.8959008341645087,0.8961476608520952,0.8968009416066226,0.8968628000447478,0.8956064155154845,0.8956855788590882,0.8966752590340444,0.8966220818982812,0.8965977197556935,0.8961311999422962,0.8964113509785383,0.8965272434800508,0.8963507271877522,0.8956681789023432,0.8962576316353736,0.8964207078111052,0.8968793048892266,0.8963304045576391,0.8966595023431819,0.8965260240186897,0.8959059859671324,0.8967871851274426,0.8968447804461245,0.896918821856004,0.8967971347912402,0.897160949258164,0.8966920230938703,0.8974336371969538,0.8972646396268775,0.8974083908373492,0.8973528609704577,0.8975069538983144,0.8976576240610411,0.8973462941742976,0.8973870750458307,0.8977244895995863,0.8973972882069091,0.897395644773647,0.8971011794317065,0.8963527919558486,0.8971990862987465,0.8970331940035345,0.8971217115754101,0.8968438687150889,0.8973618991128932,0.8969210212251459,0.8969391570023729],\"type\":\"scatter\",\"xaxis\":\"x5\",\"yaxis\":\"y5\"},{\"marker\":{\"color\":[0,1,2,6,8,10,11,12,13,14,15,16,17,20,21,22,23,24,25,26,27,28,29,31,32,33,34,35,36,38,39,41,42,43,44,45,46,47,48,49,50,51,52,53,55,56,57,59,60,61,62,64,65,66,67,68,69,71,72,73,74,75,76,77,78,79,81,82,83,85,86,87,88,89,90,91,93,94,96,97,98,99],\"colorbar\":{\"title\":{\"text\":\"Trial\"},\"x\":1.0,\"xpad\":40},\"colorscale\":[[0.0,\"rgb(247,251,255)\"],[0.125,\"rgb(222,235,247)\"],[0.25,\"rgb(198,219,239)\"],[0.375,\"rgb(158,202,225)\"],[0.5,\"rgb(107,174,214)\"],[0.625,\"rgb(66,146,198)\"],[0.75,\"rgb(33,113,181)\"],[0.875,\"rgb(8,81,156)\"],[1.0,\"rgb(8,48,107)\"]],\"line\":{\"color\":\"Grey\",\"width\":0.5},\"showscale\":false},\"mode\":\"markers\",\"showlegend\":false,\"x\":[49,92,41,88,67,22,20,23,22,29,52,20,32,32,24,28,20,45,60,27,35,25,47,26,32,41,26,40,20,29,37,25,28,24,22,23,39,31,24,45,35,25,23,20,31,29,23,26,37,30,20,24,26,22,24,28,22,31,28,27,30,35,20,20,20,21,20,21,21,20,20,22,22,26,22,22,25,22,24,27,27,23],\"y\":[0.8956214804690127,0.8921250689569081,0.8960264670521884,0.8945734852878259,0.8942049843294889,0.897026811618925,0.8970699067571251,0.895881536985244,0.8967617072884999,0.8956080526436709,0.8954523564613792,0.8963500029059794,0.8963630931730145,0.8961081689511722,0.8968878301632092,0.8966561494169075,0.8965308286439798,0.8958234184813719,0.8957653413819981,0.8967700890148187,0.8960755887931864,0.8953135916953391,0.8959780379534065,0.8969307524361191,0.8957051183126122,0.8959432915061075,0.8961912568373464,0.8957590417966745,0.8963523657575552,0.8960820714353899,0.8959603636641825,0.8964290062625976,0.8966228700704031,0.8968350230979207,0.8966544796427002,0.8959008341645087,0.8961476608520952,0.8968009416066226,0.8968628000447478,0.8956064155154845,0.8956855788590882,0.8966752590340444,0.8966220818982812,0.8965977197556935,0.8961311999422962,0.8964113509785383,0.8965272434800508,0.8963507271877522,0.8956681789023432,0.8962576316353736,0.8964207078111052,0.8968793048892266,0.8963304045576391,0.8966595023431819,0.8965260240186897,0.8959059859671324,0.8967871851274426,0.8968447804461245,0.896918821856004,0.8967971347912402,0.897160949258164,0.8966920230938703,0.8974336371969538,0.8972646396268775,0.8974083908373492,0.8973528609704577,0.8975069538983144,0.8976576240610411,0.8973462941742976,0.8973870750458307,0.8977244895995863,0.8973972882069091,0.897395644773647,0.8971011794317065,0.8963527919558486,0.8971990862987465,0.8970331940035345,0.8971217115754101,0.8968438687150889,0.8973618991128932,0.8969210212251459,0.8969391570023729],\"type\":\"scatter\",\"xaxis\":\"x6\",\"yaxis\":\"y6\"},{\"marker\":{\"color\":[0,1,2,6,8,10,11,12,13,14,15,16,17,20,21,22,23,24,25,26,27,28,29,31,32,33,34,35,36,38,39,41,42,43,44,45,46,47,48,49,50,51,52,53,55,56,57,59,60,61,62,64,65,66,67,68,69,71,72,73,74,75,76,77,78,79,81,82,83,85,86,87,88,89,90,91,93,94,96,97,98,99],\"colorbar\":{\"title\":{\"text\":\"Trial\"},\"x\":1.0,\"xpad\":40},\"colorscale\":[[0.0,\"rgb(247,251,255)\"],[0.125,\"rgb(222,235,247)\"],[0.25,\"rgb(198,219,239)\"],[0.375,\"rgb(158,202,225)\"],[0.5,\"rgb(107,174,214)\"],[0.625,\"rgb(66,146,198)\"],[0.75,\"rgb(33,113,181)\"],[0.875,\"rgb(8,81,156)\"],[1.0,\"rgb(8,48,107)\"]],\"line\":{\"color\":\"Grey\",\"width\":0.5},\"showscale\":false},\"mode\":\"markers\",\"showlegend\":false,\"x\":[62,26,26,64,74,41,44,44,47,42,36,10,56,85,50,54,36,42,32,57,49,74,60,59,40,48,31,53,61,68,74,60,56,57,65,38,70,81,50,44,52,48,58,51,43,29,20,45,54,100,90,94,96,35,40,10,33,90,89,92,87,86,95,95,87,86,87,84,87,77,87,78,79,77,80,83,88,71,83,76,78,72],\"y\":[0.8956214804690127,0.8921250689569081,0.8960264670521884,0.8945734852878259,0.8942049843294889,0.897026811618925,0.8970699067571251,0.895881536985244,0.8967617072884999,0.8956080526436709,0.8954523564613792,0.8963500029059794,0.8963630931730145,0.8961081689511722,0.8968878301632092,0.8966561494169075,0.8965308286439798,0.8958234184813719,0.8957653413819981,0.8967700890148187,0.8960755887931864,0.8953135916953391,0.8959780379534065,0.8969307524361191,0.8957051183126122,0.8959432915061075,0.8961912568373464,0.8957590417966745,0.8963523657575552,0.8960820714353899,0.8959603636641825,0.8964290062625976,0.8966228700704031,0.8968350230979207,0.8966544796427002,0.8959008341645087,0.8961476608520952,0.8968009416066226,0.8968628000447478,0.8956064155154845,0.8956855788590882,0.8966752590340444,0.8966220818982812,0.8965977197556935,0.8961311999422962,0.8964113509785383,0.8965272434800508,0.8963507271877522,0.8956681789023432,0.8962576316353736,0.8964207078111052,0.8968793048892266,0.8963304045576391,0.8966595023431819,0.8965260240186897,0.8959059859671324,0.8967871851274426,0.8968447804461245,0.896918821856004,0.8967971347912402,0.897160949258164,0.8966920230938703,0.8974336371969538,0.8972646396268775,0.8974083908373492,0.8973528609704577,0.8975069538983144,0.8976576240610411,0.8973462941742976,0.8973870750458307,0.8977244895995863,0.8973972882069091,0.897395644773647,0.8971011794317065,0.8963527919558486,0.8971990862987465,0.8970331940035345,0.8971217115754101,0.8968438687150889,0.8973618991128932,0.8969210212251459,0.8969391570023729],\"type\":\"scatter\",\"xaxis\":\"x7\",\"yaxis\":\"y7\"}],                        {\"template\":{\"data\":{\"histogram2dcontour\":[{\"type\":\"histogram2dcontour\",\"colorbar\":{\"outlinewidth\":0,\"ticks\":\"\"},\"colorscale\":[[0.0,\"#0d0887\"],[0.1111111111111111,\"#46039f\"],[0.2222222222222222,\"#7201a8\"],[0.3333333333333333,\"#9c179e\"],[0.4444444444444444,\"#bd3786\"],[0.5555555555555556,\"#d8576b\"],[0.6666666666666666,\"#ed7953\"],[0.7777777777777778,\"#fb9f3a\"],[0.8888888888888888,\"#fdca26\"],[1.0,\"#f0f921\"]]}],\"choropleth\":[{\"type\":\"choropleth\",\"colorbar\":{\"outlinewidth\":0,\"ticks\":\"\"}}],\"histogram2d\":[{\"type\":\"histogram2d\",\"colorbar\":{\"outlinewidth\":0,\"ticks\":\"\"},\"colorscale\":[[0.0,\"#0d0887\"],[0.1111111111111111,\"#46039f\"],[0.2222222222222222,\"#7201a8\"],[0.3333333333333333,\"#9c179e\"],[0.4444444444444444,\"#bd3786\"],[0.5555555555555556,\"#d8576b\"],[0.6666666666666666,\"#ed7953\"],[0.7777777777777778,\"#fb9f3a\"],[0.8888888888888888,\"#fdca26\"],[1.0,\"#f0f921\"]]}],\"heatmap\":[{\"type\":\"heatmap\",\"colorbar\":{\"outlinewidth\":0,\"ticks\":\"\"},\"colorscale\":[[0.0,\"#0d0887\"],[0.1111111111111111,\"#46039f\"],[0.2222222222222222,\"#7201a8\"],[0.3333333333333333,\"#9c179e\"],[0.4444444444444444,\"#bd3786\"],[0.5555555555555556,\"#d8576b\"],[0.6666666666666666,\"#ed7953\"],[0.7777777777777778,\"#fb9f3a\"],[0.8888888888888888,\"#fdca26\"],[1.0,\"#f0f921\"]]}],\"heatmapgl\":[{\"type\":\"heatmapgl\",\"colorbar\":{\"outlinewidth\":0,\"ticks\":\"\"},\"colorscale\":[[0.0,\"#0d0887\"],[0.1111111111111111,\"#46039f\"],[0.2222222222222222,\"#7201a8\"],[0.3333333333333333,\"#9c179e\"],[0.4444444444444444,\"#bd3786\"],[0.5555555555555556,\"#d8576b\"],[0.6666666666666666,\"#ed7953\"],[0.7777777777777778,\"#fb9f3a\"],[0.8888888888888888,\"#fdca26\"],[1.0,\"#f0f921\"]]}],\"contourcarpet\":[{\"type\":\"contourcarpet\",\"colorbar\":{\"outlinewidth\":0,\"ticks\":\"\"}}],\"contour\":[{\"type\":\"contour\",\"colorbar\":{\"outlinewidth\":0,\"ticks\":\"\"},\"colorscale\":[[0.0,\"#0d0887\"],[0.1111111111111111,\"#46039f\"],[0.2222222222222222,\"#7201a8\"],[0.3333333333333333,\"#9c179e\"],[0.4444444444444444,\"#bd3786\"],[0.5555555555555556,\"#d8576b\"],[0.6666666666666666,\"#ed7953\"],[0.7777777777777778,\"#fb9f3a\"],[0.8888888888888888,\"#fdca26\"],[1.0,\"#f0f921\"]]}],\"surface\":[{\"type\":\"surface\",\"colorbar\":{\"outlinewidth\":0,\"ticks\":\"\"},\"colorscale\":[[0.0,\"#0d0887\"],[0.1111111111111111,\"#46039f\"],[0.2222222222222222,\"#7201a8\"],[0.3333333333333333,\"#9c179e\"],[0.4444444444444444,\"#bd3786\"],[0.5555555555555556,\"#d8576b\"],[0.6666666666666666,\"#ed7953\"],[0.7777777777777778,\"#fb9f3a\"],[0.8888888888888888,\"#fdca26\"],[1.0,\"#f0f921\"]]}],\"mesh3d\":[{\"type\":\"mesh3d\",\"colorbar\":{\"outlinewidth\":0,\"ticks\":\"\"}}],\"scatter\":[{\"fillpattern\":{\"fillmode\":\"overlay\",\"size\":10,\"solidity\":0.2},\"type\":\"scatter\"}],\"parcoords\":[{\"type\":\"parcoords\",\"line\":{\"colorbar\":{\"outlinewidth\":0,\"ticks\":\"\"}}}],\"scatterpolargl\":[{\"type\":\"scatterpolargl\",\"marker\":{\"colorbar\":{\"outlinewidth\":0,\"ticks\":\"\"}}}],\"bar\":[{\"error_x\":{\"color\":\"#2a3f5f\"},\"error_y\":{\"color\":\"#2a3f5f\"},\"marker\":{\"line\":{\"color\":\"#E5ECF6\",\"width\":0.5},\"pattern\":{\"fillmode\":\"overlay\",\"size\":10,\"solidity\":0.2}},\"type\":\"bar\"}],\"scattergeo\":[{\"type\":\"scattergeo\",\"marker\":{\"colorbar\":{\"outlinewidth\":0,\"ticks\":\"\"}}}],\"scatterpolar\":[{\"type\":\"scatterpolar\",\"marker\":{\"colorbar\":{\"outlinewidth\":0,\"ticks\":\"\"}}}],\"histogram\":[{\"marker\":{\"pattern\":{\"fillmode\":\"overlay\",\"size\":10,\"solidity\":0.2}},\"type\":\"histogram\"}],\"scattergl\":[{\"type\":\"scattergl\",\"marker\":{\"colorbar\":{\"outlinewidth\":0,\"ticks\":\"\"}}}],\"scatter3d\":[{\"type\":\"scatter3d\",\"line\":{\"colorbar\":{\"outlinewidth\":0,\"ticks\":\"\"}},\"marker\":{\"colorbar\":{\"outlinewidth\":0,\"ticks\":\"\"}}}],\"scattermapbox\":[{\"type\":\"scattermapbox\",\"marker\":{\"colorbar\":{\"outlinewidth\":0,\"ticks\":\"\"}}}],\"scatterternary\":[{\"type\":\"scatterternary\",\"marker\":{\"colorbar\":{\"outlinewidth\":0,\"ticks\":\"\"}}}],\"scattercarpet\":[{\"type\":\"scattercarpet\",\"marker\":{\"colorbar\":{\"outlinewidth\":0,\"ticks\":\"\"}}}],\"carpet\":[{\"aaxis\":{\"endlinecolor\":\"#2a3f5f\",\"gridcolor\":\"white\",\"linecolor\":\"white\",\"minorgridcolor\":\"white\",\"startlinecolor\":\"#2a3f5f\"},\"baxis\":{\"endlinecolor\":\"#2a3f5f\",\"gridcolor\":\"white\",\"linecolor\":\"white\",\"minorgridcolor\":\"white\",\"startlinecolor\":\"#2a3f5f\"},\"type\":\"carpet\"}],\"table\":[{\"cells\":{\"fill\":{\"color\":\"#EBF0F8\"},\"line\":{\"color\":\"white\"}},\"header\":{\"fill\":{\"color\":\"#C8D4E3\"},\"line\":{\"color\":\"white\"}},\"type\":\"table\"}],\"barpolar\":[{\"marker\":{\"line\":{\"color\":\"#E5ECF6\",\"width\":0.5},\"pattern\":{\"fillmode\":\"overlay\",\"size\":10,\"solidity\":0.2}},\"type\":\"barpolar\"}],\"pie\":[{\"automargin\":true,\"type\":\"pie\"}]},\"layout\":{\"autotypenumbers\":\"strict\",\"colorway\":[\"#636efa\",\"#EF553B\",\"#00cc96\",\"#ab63fa\",\"#FFA15A\",\"#19d3f3\",\"#FF6692\",\"#B6E880\",\"#FF97FF\",\"#FECB52\"],\"font\":{\"color\":\"#2a3f5f\"},\"hovermode\":\"closest\",\"hoverlabel\":{\"align\":\"left\"},\"paper_bgcolor\":\"white\",\"plot_bgcolor\":\"#E5ECF6\",\"polar\":{\"bgcolor\":\"#E5ECF6\",\"angularaxis\":{\"gridcolor\":\"white\",\"linecolor\":\"white\",\"ticks\":\"\"},\"radialaxis\":{\"gridcolor\":\"white\",\"linecolor\":\"white\",\"ticks\":\"\"}},\"ternary\":{\"bgcolor\":\"#E5ECF6\",\"aaxis\":{\"gridcolor\":\"white\",\"linecolor\":\"white\",\"ticks\":\"\"},\"baxis\":{\"gridcolor\":\"white\",\"linecolor\":\"white\",\"ticks\":\"\"},\"caxis\":{\"gridcolor\":\"white\",\"linecolor\":\"white\",\"ticks\":\"\"}},\"coloraxis\":{\"colorbar\":{\"outlinewidth\":0,\"ticks\":\"\"}},\"colorscale\":{\"sequential\":[[0.0,\"#0d0887\"],[0.1111111111111111,\"#46039f\"],[0.2222222222222222,\"#7201a8\"],[0.3333333333333333,\"#9c179e\"],[0.4444444444444444,\"#bd3786\"],[0.5555555555555556,\"#d8576b\"],[0.6666666666666666,\"#ed7953\"],[0.7777777777777778,\"#fb9f3a\"],[0.8888888888888888,\"#fdca26\"],[1.0,\"#f0f921\"]],\"sequentialminus\":[[0.0,\"#0d0887\"],[0.1111111111111111,\"#46039f\"],[0.2222222222222222,\"#7201a8\"],[0.3333333333333333,\"#9c179e\"],[0.4444444444444444,\"#bd3786\"],[0.5555555555555556,\"#d8576b\"],[0.6666666666666666,\"#ed7953\"],[0.7777777777777778,\"#fb9f3a\"],[0.8888888888888888,\"#fdca26\"],[1.0,\"#f0f921\"]],\"diverging\":[[0,\"#8e0152\"],[0.1,\"#c51b7d\"],[0.2,\"#de77ae\"],[0.3,\"#f1b6da\"],[0.4,\"#fde0ef\"],[0.5,\"#f7f7f7\"],[0.6,\"#e6f5d0\"],[0.7,\"#b8e186\"],[0.8,\"#7fbc41\"],[0.9,\"#4d9221\"],[1,\"#276419\"]]},\"xaxis\":{\"gridcolor\":\"white\",\"linecolor\":\"white\",\"ticks\":\"\",\"title\":{\"standoff\":15},\"zerolinecolor\":\"white\",\"automargin\":true,\"zerolinewidth\":2},\"yaxis\":{\"gridcolor\":\"white\",\"linecolor\":\"white\",\"ticks\":\"\",\"title\":{\"standoff\":15},\"zerolinecolor\":\"white\",\"automargin\":true,\"zerolinewidth\":2},\"scene\":{\"xaxis\":{\"backgroundcolor\":\"#E5ECF6\",\"gridcolor\":\"white\",\"linecolor\":\"white\",\"showbackground\":true,\"ticks\":\"\",\"zerolinecolor\":\"white\",\"gridwidth\":2},\"yaxis\":{\"backgroundcolor\":\"#E5ECF6\",\"gridcolor\":\"white\",\"linecolor\":\"white\",\"showbackground\":true,\"ticks\":\"\",\"zerolinecolor\":\"white\",\"gridwidth\":2},\"zaxis\":{\"backgroundcolor\":\"#E5ECF6\",\"gridcolor\":\"white\",\"linecolor\":\"white\",\"showbackground\":true,\"ticks\":\"\",\"zerolinecolor\":\"white\",\"gridwidth\":2}},\"shapedefaults\":{\"line\":{\"color\":\"#2a3f5f\"}},\"annotationdefaults\":{\"arrowcolor\":\"#2a3f5f\",\"arrowhead\":0,\"arrowwidth\":1},\"geo\":{\"bgcolor\":\"white\",\"landcolor\":\"#E5ECF6\",\"subunitcolor\":\"white\",\"showland\":true,\"showlakes\":true,\"lakecolor\":\"white\"},\"title\":{\"x\":0.05},\"mapbox\":{\"style\":\"light\"}}},\"xaxis\":{\"anchor\":\"y\",\"domain\":[0.0,0.1183673469387755],\"title\":{\"text\":\"l2_regularization\"}},\"yaxis\":{\"anchor\":\"x\",\"domain\":[0.0,1.0],\"title\":{\"text\":\"Objective Value\"}},\"xaxis2\":{\"anchor\":\"y2\",\"domain\":[0.14693877551020407,0.26530612244897955],\"title\":{\"text\":\"learning_rate\"}},\"yaxis2\":{\"anchor\":\"x2\",\"domain\":[0.0,1.0],\"matches\":\"y\",\"showticklabels\":false},\"xaxis3\":{\"anchor\":\"y3\",\"domain\":[0.29387755102040813,0.4122448979591836],\"title\":{\"text\":\"max_bins\"}},\"yaxis3\":{\"anchor\":\"x3\",\"domain\":[0.0,1.0],\"matches\":\"y\",\"showticklabels\":false},\"xaxis4\":{\"anchor\":\"y4\",\"domain\":[0.4408163265306122,0.5591836734693877],\"title\":{\"text\":\"max_depth\"}},\"yaxis4\":{\"anchor\":\"x4\",\"domain\":[0.0,1.0],\"matches\":\"y\",\"showticklabels\":false},\"xaxis5\":{\"anchor\":\"y5\",\"domain\":[0.5877551020408163,0.7061224489795918],\"title\":{\"text\":\"max_iter\"}},\"yaxis5\":{\"anchor\":\"x5\",\"domain\":[0.0,1.0],\"matches\":\"y\",\"showticklabels\":false},\"xaxis6\":{\"anchor\":\"y6\",\"domain\":[0.7346938775510204,0.8530612244897959],\"title\":{\"text\":\"max_leaf_nodes\"}},\"yaxis6\":{\"anchor\":\"x6\",\"domain\":[0.0,1.0],\"matches\":\"y\",\"showticklabels\":false},\"xaxis7\":{\"anchor\":\"y7\",\"domain\":[0.8816326530612244,0.9999999999999999],\"title\":{\"text\":\"min_samples_leaf\"}},\"yaxis7\":{\"anchor\":\"x7\",\"domain\":[0.0,1.0],\"matches\":\"y\",\"showticklabels\":false},\"title\":{\"text\":\"Slice Plot\"},\"width\":2100},                        {\"responsive\": true}                    )                };                            </script>        </div>"
      ],
      "text/plain": [
       "Figure({\n",
       "    'data': [{'marker': {'color': [0, 1, 2, 6, 8, 10, 11, 12, 13, 14, 15, 16, 17,\n",
       "                                   20, 21, 22, 23, 24, 25, 26, 27, 28, 29, 31, 32,\n",
       "                                   33, 34, 35, 36, 38, 39, 41, 42, 43, 44, 45, 46,\n",
       "                                   47, 48, 49, 50, 51, 52, 53, 55, 56, 57, 59, 60,\n",
       "                                   61, 62, 64, 65, 66, 67, 68, 69, 71, 72, 73, 74,\n",
       "                                   75, 76, 77, 78, 79, 81, 82, 83, 85, 86, 87, 88,\n",
       "                                   89, 90, 91, 93, 94, 96, 97, 98, 99],\n",
       "                         'colorbar': {'title': {'text': 'Trial'}, 'x': 1.0, 'xpad': 40},\n",
       "                         'colorscale': [[0.0, 'rgb(247,251,255)'], [0.125,\n",
       "                                        'rgb(222,235,247)'], [0.25,\n",
       "                                        'rgb(198,219,239)'], [0.375,\n",
       "                                        'rgb(158,202,225)'], [0.5,\n",
       "                                        'rgb(107,174,214)'], [0.625,\n",
       "                                        'rgb(66,146,198)'], [0.75,\n",
       "                                        'rgb(33,113,181)'], [0.875,\n",
       "                                        'rgb(8,81,156)'], [1.0, 'rgb(8,48,107)']],\n",
       "                         'line': {'color': 'Grey', 'width': 0.5},\n",
       "                         'showscale': True},\n",
       "              'mode': 'markers',\n",
       "              'showlegend': False,\n",
       "              'type': 'scatter',\n",
       "              'x': [0.865161119575739, 0.875982614235826, 0.7161018436816753,\n",
       "                    0.7855851819610684, 0.9973460531420034, 0.5640635247024228,\n",
       "                    0.5572936740053499, 0.5435079244373889, 0.5524906600643097,\n",
       "                    0.43517055278721317, 0.5475932195410312, 0.6263182434829128,\n",
       "                    0.6443346094709033, 0.6375854167113038, 0.5633863110845194,\n",
       "                    0.5956995455163308, 0.49304271655883725, 0.6694903453862167,\n",
       "                    0.5938126721553499, 0.4655412697967445, 0.5177116886918468,\n",
       "                    0.5799692202391563, 0.5158008832069093, 0.4623982028547648,\n",
       "                    0.44011398200485846, 0.4688027733377465, 0.5792617826754519,\n",
       "                    0.5304318173381163, 0.48872148783348207, 0.6930041175918311,\n",
       "                    0.5634151444027862, 0.47160039819425437, 0.5219590951892872,\n",
       "                    0.45644844193195433, 0.40274035785174345, 0.56604806370109,\n",
       "                    0.4347298032020788, 0.5442077780135511, 0.5123170511169008,\n",
       "                    0.504991747958205, 0.5390027053373841, 0.48468640823508213,\n",
       "                    0.5118373802038255, 0.4579791944829458, 0.5030315954235647,\n",
       "                    0.6014064224422447, 0.5678520203269704, 0.48210602877750286,\n",
       "                    0.6245966610812776, 0.5464943598015924, 0.5822474337378261,\n",
       "                    0.4984115414698609, 0.4494081818927003, 0.42415074744209674,\n",
       "                    0.4756919249739509, 0.4949044727944665, 0.5068205295368733,\n",
       "                    0.5549683822447192, 0.5188611605374566, 0.5601178884188925,\n",
       "                    0.5249617552956057, 0.5234597277054962, 0.5829542010921881,\n",
       "                    0.5819070418226433, 0.5986839277266129, 0.592870361863843,\n",
       "                    0.6027484279833132, 0.5873773729968689, 0.5857607315326634,\n",
       "                    0.6400810146360082, 0.6496937198849339, 0.646718071128513,\n",
       "                    0.6483647235647, 0.6492523546668868, 0.6590779096870938,\n",
       "                    0.6393955926605916, 0.6055015437858473, 0.6195977312019063,\n",
       "                    0.6595392956126553, 0.6339463429836228, 0.6829549789659567,\n",
       "                    0.6381654903238537],\n",
       "              'xaxis': 'x',\n",
       "              'y': [0.8956214804690127, 0.8921250689569081, 0.8960264670521884,\n",
       "                    0.8945734852878259, 0.8942049843294889, 0.897026811618925,\n",
       "                    0.8970699067571251, 0.895881536985244, 0.8967617072884999,\n",
       "                    0.8956080526436709, 0.8954523564613792, 0.8963500029059794,\n",
       "                    0.8963630931730145, 0.8961081689511722, 0.8968878301632092,\n",
       "                    0.8966561494169075, 0.8965308286439798, 0.8958234184813719,\n",
       "                    0.8957653413819981, 0.8967700890148187, 0.8960755887931864,\n",
       "                    0.8953135916953391, 0.8959780379534065, 0.8969307524361191,\n",
       "                    0.8957051183126122, 0.8959432915061075, 0.8961912568373464,\n",
       "                    0.8957590417966745, 0.8963523657575552, 0.8960820714353899,\n",
       "                    0.8959603636641825, 0.8964290062625976, 0.8966228700704031,\n",
       "                    0.8968350230979207, 0.8966544796427002, 0.8959008341645087,\n",
       "                    0.8961476608520952, 0.8968009416066226, 0.8968628000447478,\n",
       "                    0.8956064155154845, 0.8956855788590882, 0.8966752590340444,\n",
       "                    0.8966220818982812, 0.8965977197556935, 0.8961311999422962,\n",
       "                    0.8964113509785383, 0.8965272434800508, 0.8963507271877522,\n",
       "                    0.8956681789023432, 0.8962576316353736, 0.8964207078111052,\n",
       "                    0.8968793048892266, 0.8963304045576391, 0.8966595023431819,\n",
       "                    0.8965260240186897, 0.8959059859671324, 0.8967871851274426,\n",
       "                    0.8968447804461245, 0.896918821856004, 0.8967971347912402,\n",
       "                    0.897160949258164, 0.8966920230938703, 0.8974336371969538,\n",
       "                    0.8972646396268775, 0.8974083908373492, 0.8973528609704577,\n",
       "                    0.8975069538983144, 0.8976576240610411, 0.8973462941742976,\n",
       "                    0.8973870750458307, 0.8977244895995863, 0.8973972882069091,\n",
       "                    0.897395644773647, 0.8971011794317065, 0.8963527919558486,\n",
       "                    0.8971990862987465, 0.8970331940035345, 0.8971217115754101,\n",
       "                    0.8968438687150889, 0.8973618991128932, 0.8969210212251459,\n",
       "                    0.8969391570023729],\n",
       "              'yaxis': 'y'},\n",
       "             {'marker': {'color': [0, 1, 2, 6, 8, 10, 11, 12, 13, 14, 15, 16, 17,\n",
       "                                   20, 21, 22, 23, 24, 25, 26, 27, 28, 29, 31, 32,\n",
       "                                   33, 34, 35, 36, 38, 39, 41, 42, 43, 44, 45, 46,\n",
       "                                   47, 48, 49, 50, 51, 52, 53, 55, 56, 57, 59, 60,\n",
       "                                   61, 62, 64, 65, 66, 67, 68, 69, 71, 72, 73, 74,\n",
       "                                   75, 76, 77, 78, 79, 81, 82, 83, 85, 86, 87, 88,\n",
       "                                   89, 90, 91, 93, 94, 96, 97, 98, 99],\n",
       "                         'colorbar': {'title': {'text': 'Trial'}, 'x': 1.0, 'xpad': 40},\n",
       "                         'colorscale': [[0.0, 'rgb(247,251,255)'], [0.125,\n",
       "                                        'rgb(222,235,247)'], [0.25,\n",
       "                                        'rgb(198,219,239)'], [0.375,\n",
       "                                        'rgb(158,202,225)'], [0.5,\n",
       "                                        'rgb(107,174,214)'], [0.625,\n",
       "                                        'rgb(66,146,198)'], [0.75,\n",
       "                                        'rgb(33,113,181)'], [0.875,\n",
       "                                        'rgb(8,81,156)'], [1.0, 'rgb(8,48,107)']],\n",
       "                         'line': {'color': 'Grey', 'width': 0.5},\n",
       "                         'showscale': False},\n",
       "              'mode': 'markers',\n",
       "              'showlegend': False,\n",
       "              'type': 'scatter',\n",
       "              'x': [0.12521503862244876, 0.09771538956558976, 0.02379402641844969,\n",
       "                    0.043146329153552716, 0.06618566005219409, 0.0331528965013702,\n",
       "                    0.03359932047442103, 0.06499075170707783, 0.036790906993689386,\n",
       "                    0.0779279433022951, 0.021509551862836984, 0.05187022273220379,\n",
       "                    0.021441259604622752, 0.05803693414566645, 0.03493513926692644,\n",
       "                    0.03527639971995565, 0.04967796390902403, 0.02918439177018666,\n",
       "                    0.0143738472843572, 0.03193080333196478, 0.04389009599849103,\n",
       "                    0.010899728842050909, 0.019719539584630217,\n",
       "                    0.031120177863760572, 0.029428233738195163,\n",
       "                    0.013683508830996005, 0.037020810175396275,\n",
       "                    0.024142809239805756, 0.05125965646224879,\n",
       "                    0.028886349591778934, 0.013187641008178153,\n",
       "                    0.03258297574150421, 0.03468886885208676, 0.02505024724318833,\n",
       "                    0.024925910763382096, 0.006416087799582748,\n",
       "                    0.01792933115684019, 0.00873605164285908, 0.04076930937059847,\n",
       "                    0.04135259698911101, 0.058641475781357255, 0.0250359042334806,\n",
       "                    0.03866787136189545, 0.04732475984305362, 0.03829671697284871,\n",
       "                    0.026584418305940195, 0.033411539274183215,\n",
       "                    0.05478890382517166, 0.04575651996990049, 0.007238644633192508,\n",
       "                    0.007727856207485978, 0.02939281553485525,\n",
       "                    0.029609873969326475, 0.038920072222457774,\n",
       "                    0.033555840307386224, 0.02284179440989774,\n",
       "                    0.028227461521850742, 0.016537053862658434,\n",
       "                    0.014833420541462836, 0.013289101002367888,\n",
       "                    0.01708079104882631, 0.02019418893097169, 0.03230886784318135,\n",
       "                    0.030788157358408497, 0.0360093586720861, 0.011070380264567588,\n",
       "                    0.01225852923259915, 0.01157733390664717, 0.011296866870427734,\n",
       "                    0.010722109806039298, 0.010334329050417028,\n",
       "                    0.010515355452917974, 0.009561920904449434,\n",
       "                    0.011156971238759195, 0.0050102842191517664,\n",
       "                    0.010062682245175121, 0.01209926440144764,\n",
       "                    0.009662847288046107, 0.015195810522629801,\n",
       "                    0.01981942701199306, 0.01992915632009542, 0.022609082856324257],\n",
       "              'xaxis': 'x2',\n",
       "              'y': [0.8956214804690127, 0.8921250689569081, 0.8960264670521884,\n",
       "                    0.8945734852878259, 0.8942049843294889, 0.897026811618925,\n",
       "                    0.8970699067571251, 0.895881536985244, 0.8967617072884999,\n",
       "                    0.8956080526436709, 0.8954523564613792, 0.8963500029059794,\n",
       "                    0.8963630931730145, 0.8961081689511722, 0.8968878301632092,\n",
       "                    0.8966561494169075, 0.8965308286439798, 0.8958234184813719,\n",
       "                    0.8957653413819981, 0.8967700890148187, 0.8960755887931864,\n",
       "                    0.8953135916953391, 0.8959780379534065, 0.8969307524361191,\n",
       "                    0.8957051183126122, 0.8959432915061075, 0.8961912568373464,\n",
       "                    0.8957590417966745, 0.8963523657575552, 0.8960820714353899,\n",
       "                    0.8959603636641825, 0.8964290062625976, 0.8966228700704031,\n",
       "                    0.8968350230979207, 0.8966544796427002, 0.8959008341645087,\n",
       "                    0.8961476608520952, 0.8968009416066226, 0.8968628000447478,\n",
       "                    0.8956064155154845, 0.8956855788590882, 0.8966752590340444,\n",
       "                    0.8966220818982812, 0.8965977197556935, 0.8961311999422962,\n",
       "                    0.8964113509785383, 0.8965272434800508, 0.8963507271877522,\n",
       "                    0.8956681789023432, 0.8962576316353736, 0.8964207078111052,\n",
       "                    0.8968793048892266, 0.8963304045576391, 0.8966595023431819,\n",
       "                    0.8965260240186897, 0.8959059859671324, 0.8967871851274426,\n",
       "                    0.8968447804461245, 0.896918821856004, 0.8967971347912402,\n",
       "                    0.897160949258164, 0.8966920230938703, 0.8974336371969538,\n",
       "                    0.8972646396268775, 0.8974083908373492, 0.8973528609704577,\n",
       "                    0.8975069538983144, 0.8976576240610411, 0.8973462941742976,\n",
       "                    0.8973870750458307, 0.8977244895995863, 0.8973972882069091,\n",
       "                    0.897395644773647, 0.8971011794317065, 0.8963527919558486,\n",
       "                    0.8971990862987465, 0.8970331940035345, 0.8971217115754101,\n",
       "                    0.8968438687150889, 0.8973618991128932, 0.8969210212251459,\n",
       "                    0.8969391570023729],\n",
       "              'yaxis': 'y2'},\n",
       "             {'marker': {'color': [0, 1, 2, 6, 8, 10, 11, 12, 13, 14, 15, 16, 17,\n",
       "                                   20, 21, 22, 23, 24, 25, 26, 27, 28, 29, 31, 32,\n",
       "                                   33, 34, 35, 36, 38, 39, 41, 42, 43, 44, 45, 46,\n",
       "                                   47, 48, 49, 50, 51, 52, 53, 55, 56, 57, 59, 60,\n",
       "                                   61, 62, 64, 65, 66, 67, 68, 69, 71, 72, 73, 74,\n",
       "                                   75, 76, 77, 78, 79, 81, 82, 83, 85, 86, 87, 88,\n",
       "                                   89, 90, 91, 93, 94, 96, 97, 98, 99],\n",
       "                         'colorbar': {'title': {'text': 'Trial'}, 'x': 1.0, 'xpad': 40},\n",
       "                         'colorscale': [[0.0, 'rgb(247,251,255)'], [0.125,\n",
       "                                        'rgb(222,235,247)'], [0.25,\n",
       "                                        'rgb(198,219,239)'], [0.375,\n",
       "                                        'rgb(158,202,225)'], [0.5,\n",
       "                                        'rgb(107,174,214)'], [0.625,\n",
       "                                        'rgb(66,146,198)'], [0.75,\n",
       "                                        'rgb(33,113,181)'], [0.875,\n",
       "                                        'rgb(8,81,156)'], [1.0, 'rgb(8,48,107)']],\n",
       "                         'line': {'color': 'Grey', 'width': 0.5},\n",
       "                         'showscale': False},\n",
       "              'mode': 'markers',\n",
       "              'showlegend': False,\n",
       "              'type': 'scatter',\n",
       "              'x': [113, 149, 254, 119, 238, 210, 210, 211, 201, 196, 187, 218,\n",
       "                    175, 216, 202, 202, 188, 227, 165, 208, 189, 138, 243, 210,\n",
       "                    223, 208, 196, 227, 184, 199, 169, 207, 219, 205, 229, 180,\n",
       "                    196, 194, 202, 219, 234, 206, 214, 203, 189, 223, 192, 201,\n",
       "                    247, 195, 183, 204, 204, 222, 212, 233, 208, 192, 199, 198,\n",
       "                    190, 185, 189, 188, 175, 158, 138, 133, 123, 121, 118, 118,\n",
       "                    117, 112, 135, 113, 122, 144, 102, 130, 128, 143],\n",
       "              'xaxis': 'x3',\n",
       "              'y': [0.8956214804690127, 0.8921250689569081, 0.8960264670521884,\n",
       "                    0.8945734852878259, 0.8942049843294889, 0.897026811618925,\n",
       "                    0.8970699067571251, 0.895881536985244, 0.8967617072884999,\n",
       "                    0.8956080526436709, 0.8954523564613792, 0.8963500029059794,\n",
       "                    0.8963630931730145, 0.8961081689511722, 0.8968878301632092,\n",
       "                    0.8966561494169075, 0.8965308286439798, 0.8958234184813719,\n",
       "                    0.8957653413819981, 0.8967700890148187, 0.8960755887931864,\n",
       "                    0.8953135916953391, 0.8959780379534065, 0.8969307524361191,\n",
       "                    0.8957051183126122, 0.8959432915061075, 0.8961912568373464,\n",
       "                    0.8957590417966745, 0.8963523657575552, 0.8960820714353899,\n",
       "                    0.8959603636641825, 0.8964290062625976, 0.8966228700704031,\n",
       "                    0.8968350230979207, 0.8966544796427002, 0.8959008341645087,\n",
       "                    0.8961476608520952, 0.8968009416066226, 0.8968628000447478,\n",
       "                    0.8956064155154845, 0.8956855788590882, 0.8966752590340444,\n",
       "                    0.8966220818982812, 0.8965977197556935, 0.8961311999422962,\n",
       "                    0.8964113509785383, 0.8965272434800508, 0.8963507271877522,\n",
       "                    0.8956681789023432, 0.8962576316353736, 0.8964207078111052,\n",
       "                    0.8968793048892266, 0.8963304045576391, 0.8966595023431819,\n",
       "                    0.8965260240186897, 0.8959059859671324, 0.8967871851274426,\n",
       "                    0.8968447804461245, 0.896918821856004, 0.8967971347912402,\n",
       "                    0.897160949258164, 0.8966920230938703, 0.8974336371969538,\n",
       "                    0.8972646396268775, 0.8974083908373492, 0.8973528609704577,\n",
       "                    0.8975069538983144, 0.8976576240610411, 0.8973462941742976,\n",
       "                    0.8973870750458307, 0.8977244895995863, 0.8973972882069091,\n",
       "                    0.897395644773647, 0.8971011794317065, 0.8963527919558486,\n",
       "                    0.8971990862987465, 0.8970331940035345, 0.8971217115754101,\n",
       "                    0.8968438687150889, 0.8973618991128932, 0.8969210212251459,\n",
       "                    0.8969391570023729],\n",
       "              'yaxis': 'y3'},\n",
       "             {'marker': {'color': [0, 1, 2, 6, 8, 10, 11, 12, 13, 14, 15, 16, 17,\n",
       "                                   20, 21, 22, 23, 24, 25, 26, 27, 28, 29, 31, 32,\n",
       "                                   33, 34, 35, 36, 38, 39, 41, 42, 43, 44, 45, 46,\n",
       "                                   47, 48, 49, 50, 51, 52, 53, 55, 56, 57, 59, 60,\n",
       "                                   61, 62, 64, 65, 66, 67, 68, 69, 71, 72, 73, 74,\n",
       "                                   75, 76, 77, 78, 79, 81, 82, 83, 85, 86, 87, 88,\n",
       "                                   89, 90, 91, 93, 94, 96, 97, 98, 99],\n",
       "                         'colorbar': {'title': {'text': 'Trial'}, 'x': 1.0, 'xpad': 40},\n",
       "                         'colorscale': [[0.0, 'rgb(247,251,255)'], [0.125,\n",
       "                                        'rgb(222,235,247)'], [0.25,\n",
       "                                        'rgb(198,219,239)'], [0.375,\n",
       "                                        'rgb(158,202,225)'], [0.5,\n",
       "                                        'rgb(107,174,214)'], [0.625,\n",
       "                                        'rgb(66,146,198)'], [0.75,\n",
       "                                        'rgb(33,113,181)'], [0.875,\n",
       "                                        'rgb(8,81,156)'], [1.0, 'rgb(8,48,107)']],\n",
       "                         'line': {'color': 'Grey', 'width': 0.5},\n",
       "                         'showscale': False},\n",
       "              'mode': 'markers',\n",
       "              'showlegend': False,\n",
       "              'type': 'scatter',\n",
       "              'x': [6, 28, 32, 12, 35, 59, 64, 59, 63, 54, 53, 64, 48, 51, 64, 59,\n",
       "                    64, 58, 43, 61, 51, 57, 37, 61, 2, 61, 55, 48, 61, 26, 51, 61,\n",
       "                    60, 57, 56, 53, 17, 58, 54, 62, 54, 64, 57, 32, 59, 62, 54, 24,\n",
       "                    47, 58, 56, 52, 53, 49, 62, 38, 43, 58, 60, 59, 60, 60, 63, 63,\n",
       "                    63, 62, 61, 62, 63, 63, 63, 63, 64, 62, 64, 63, 64, 56, 60, 58,\n",
       "                    57, 58],\n",
       "              'xaxis': 'x4',\n",
       "              'y': [0.8956214804690127, 0.8921250689569081, 0.8960264670521884,\n",
       "                    0.8945734852878259, 0.8942049843294889, 0.897026811618925,\n",
       "                    0.8970699067571251, 0.895881536985244, 0.8967617072884999,\n",
       "                    0.8956080526436709, 0.8954523564613792, 0.8963500029059794,\n",
       "                    0.8963630931730145, 0.8961081689511722, 0.8968878301632092,\n",
       "                    0.8966561494169075, 0.8965308286439798, 0.8958234184813719,\n",
       "                    0.8957653413819981, 0.8967700890148187, 0.8960755887931864,\n",
       "                    0.8953135916953391, 0.8959780379534065, 0.8969307524361191,\n",
       "                    0.8957051183126122, 0.8959432915061075, 0.8961912568373464,\n",
       "                    0.8957590417966745, 0.8963523657575552, 0.8960820714353899,\n",
       "                    0.8959603636641825, 0.8964290062625976, 0.8966228700704031,\n",
       "                    0.8968350230979207, 0.8966544796427002, 0.8959008341645087,\n",
       "                    0.8961476608520952, 0.8968009416066226, 0.8968628000447478,\n",
       "                    0.8956064155154845, 0.8956855788590882, 0.8966752590340444,\n",
       "                    0.8966220818982812, 0.8965977197556935, 0.8961311999422962,\n",
       "                    0.8964113509785383, 0.8965272434800508, 0.8963507271877522,\n",
       "                    0.8956681789023432, 0.8962576316353736, 0.8964207078111052,\n",
       "                    0.8968793048892266, 0.8963304045576391, 0.8966595023431819,\n",
       "                    0.8965260240186897, 0.8959059859671324, 0.8967871851274426,\n",
       "                    0.8968447804461245, 0.896918821856004, 0.8967971347912402,\n",
       "                    0.897160949258164, 0.8966920230938703, 0.8974336371969538,\n",
       "                    0.8972646396268775, 0.8974083908373492, 0.8973528609704577,\n",
       "                    0.8975069538983144, 0.8976576240610411, 0.8973462941742976,\n",
       "                    0.8973870750458307, 0.8977244895995863, 0.8973972882069091,\n",
       "                    0.897395644773647, 0.8971011794317065, 0.8963527919558486,\n",
       "                    0.8971990862987465, 0.8970331940035345, 0.8971217115754101,\n",
       "                    0.8968438687150889, 0.8973618991128932, 0.8969210212251459,\n",
       "                    0.8969391570023729],\n",
       "              'yaxis': 'y4'},\n",
       "             {'marker': {'color': [0, 1, 2, 6, 8, 10, 11, 12, 13, 14, 15, 16, 17,\n",
       "                                   20, 21, 22, 23, 24, 25, 26, 27, 28, 29, 31, 32,\n",
       "                                   33, 34, 35, 36, 38, 39, 41, 42, 43, 44, 45, 46,\n",
       "                                   47, 48, 49, 50, 51, 52, 53, 55, 56, 57, 59, 60,\n",
       "                                   61, 62, 64, 65, 66, 67, 68, 69, 71, 72, 73, 74,\n",
       "                                   75, 76, 77, 78, 79, 81, 82, 83, 85, 86, 87, 88,\n",
       "                                   89, 90, 91, 93, 94, 96, 97, 98, 99],\n",
       "                         'colorbar': {'title': {'text': 'Trial'}, 'x': 1.0, 'xpad': 40},\n",
       "                         'colorscale': [[0.0, 'rgb(247,251,255)'], [0.125,\n",
       "                                        'rgb(222,235,247)'], [0.25,\n",
       "                                        'rgb(198,219,239)'], [0.375,\n",
       "                                        'rgb(158,202,225)'], [0.5,\n",
       "                                        'rgb(107,174,214)'], [0.625,\n",
       "                                        'rgb(66,146,198)'], [0.75,\n",
       "                                        'rgb(33,113,181)'], [0.875,\n",
       "                                        'rgb(8,81,156)'], [1.0, 'rgb(8,48,107)']],\n",
       "                         'line': {'color': 'Grey', 'width': 0.5},\n",
       "                         'showscale': False},\n",
       "              'mode': 'markers',\n",
       "              'showlegend': False,\n",
       "              'type': 'scatter',\n",
       "              'x': [397, 107, 247, 380, 253, 322, 293, 470, 307, 332, 498, 200,\n",
       "                    325, 216, 312, 350, 274, 438, 354, 273, 231, 150, 311, 271,\n",
       "                    298, 258, 406, 170, 330, 283, 370, 268, 246, 312, 340, 313,\n",
       "                    391, 298, 240, 191, 237, 255, 216, 325, 311, 340, 271, 211,\n",
       "                    322, 302, 300, 347, 352, 409, 365, 260, 246, 295, 336, 337,\n",
       "                    282, 323, 347, 349, 362, 377, 395, 390, 395, 428, 450, 465,\n",
       "                    470, 465, 461, 487, 417, 439, 430, 390, 451, 385],\n",
       "              'xaxis': 'x5',\n",
       "              'y': [0.8956214804690127, 0.8921250689569081, 0.8960264670521884,\n",
       "                    0.8945734852878259, 0.8942049843294889, 0.897026811618925,\n",
       "                    0.8970699067571251, 0.895881536985244, 0.8967617072884999,\n",
       "                    0.8956080526436709, 0.8954523564613792, 0.8963500029059794,\n",
       "                    0.8963630931730145, 0.8961081689511722, 0.8968878301632092,\n",
       "                    0.8966561494169075, 0.8965308286439798, 0.8958234184813719,\n",
       "                    0.8957653413819981, 0.8967700890148187, 0.8960755887931864,\n",
       "                    0.8953135916953391, 0.8959780379534065, 0.8969307524361191,\n",
       "                    0.8957051183126122, 0.8959432915061075, 0.8961912568373464,\n",
       "                    0.8957590417966745, 0.8963523657575552, 0.8960820714353899,\n",
       "                    0.8959603636641825, 0.8964290062625976, 0.8966228700704031,\n",
       "                    0.8968350230979207, 0.8966544796427002, 0.8959008341645087,\n",
       "                    0.8961476608520952, 0.8968009416066226, 0.8968628000447478,\n",
       "                    0.8956064155154845, 0.8956855788590882, 0.8966752590340444,\n",
       "                    0.8966220818982812, 0.8965977197556935, 0.8961311999422962,\n",
       "                    0.8964113509785383, 0.8965272434800508, 0.8963507271877522,\n",
       "                    0.8956681789023432, 0.8962576316353736, 0.8964207078111052,\n",
       "                    0.8968793048892266, 0.8963304045576391, 0.8966595023431819,\n",
       "                    0.8965260240186897, 0.8959059859671324, 0.8967871851274426,\n",
       "                    0.8968447804461245, 0.896918821856004, 0.8967971347912402,\n",
       "                    0.897160949258164, 0.8966920230938703, 0.8974336371969538,\n",
       "                    0.8972646396268775, 0.8974083908373492, 0.8973528609704577,\n",
       "                    0.8975069538983144, 0.8976576240610411, 0.8973462941742976,\n",
       "                    0.8973870750458307, 0.8977244895995863, 0.8973972882069091,\n",
       "                    0.897395644773647, 0.8971011794317065, 0.8963527919558486,\n",
       "                    0.8971990862987465, 0.8970331940035345, 0.8971217115754101,\n",
       "                    0.8968438687150889, 0.8973618991128932, 0.8969210212251459,\n",
       "                    0.8969391570023729],\n",
       "              'yaxis': 'y5'},\n",
       "             {'marker': {'color': [0, 1, 2, 6, 8, 10, 11, 12, 13, 14, 15, 16, 17,\n",
       "                                   20, 21, 22, 23, 24, 25, 26, 27, 28, 29, 31, 32,\n",
       "                                   33, 34, 35, 36, 38, 39, 41, 42, 43, 44, 45, 46,\n",
       "                                   47, 48, 49, 50, 51, 52, 53, 55, 56, 57, 59, 60,\n",
       "                                   61, 62, 64, 65, 66, 67, 68, 69, 71, 72, 73, 74,\n",
       "                                   75, 76, 77, 78, 79, 81, 82, 83, 85, 86, 87, 88,\n",
       "                                   89, 90, 91, 93, 94, 96, 97, 98, 99],\n",
       "                         'colorbar': {'title': {'text': 'Trial'}, 'x': 1.0, 'xpad': 40},\n",
       "                         'colorscale': [[0.0, 'rgb(247,251,255)'], [0.125,\n",
       "                                        'rgb(222,235,247)'], [0.25,\n",
       "                                        'rgb(198,219,239)'], [0.375,\n",
       "                                        'rgb(158,202,225)'], [0.5,\n",
       "                                        'rgb(107,174,214)'], [0.625,\n",
       "                                        'rgb(66,146,198)'], [0.75,\n",
       "                                        'rgb(33,113,181)'], [0.875,\n",
       "                                        'rgb(8,81,156)'], [1.0, 'rgb(8,48,107)']],\n",
       "                         'line': {'color': 'Grey', 'width': 0.5},\n",
       "                         'showscale': False},\n",
       "              'mode': 'markers',\n",
       "              'showlegend': False,\n",
       "              'type': 'scatter',\n",
       "              'x': [49, 92, 41, 88, 67, 22, 20, 23, 22, 29, 52, 20, 32, 32, 24,\n",
       "                    28, 20, 45, 60, 27, 35, 25, 47, 26, 32, 41, 26, 40, 20, 29, 37,\n",
       "                    25, 28, 24, 22, 23, 39, 31, 24, 45, 35, 25, 23, 20, 31, 29, 23,\n",
       "                    26, 37, 30, 20, 24, 26, 22, 24, 28, 22, 31, 28, 27, 30, 35, 20,\n",
       "                    20, 20, 21, 20, 21, 21, 20, 20, 22, 22, 26, 22, 22, 25, 22, 24,\n",
       "                    27, 27, 23],\n",
       "              'xaxis': 'x6',\n",
       "              'y': [0.8956214804690127, 0.8921250689569081, 0.8960264670521884,\n",
       "                    0.8945734852878259, 0.8942049843294889, 0.897026811618925,\n",
       "                    0.8970699067571251, 0.895881536985244, 0.8967617072884999,\n",
       "                    0.8956080526436709, 0.8954523564613792, 0.8963500029059794,\n",
       "                    0.8963630931730145, 0.8961081689511722, 0.8968878301632092,\n",
       "                    0.8966561494169075, 0.8965308286439798, 0.8958234184813719,\n",
       "                    0.8957653413819981, 0.8967700890148187, 0.8960755887931864,\n",
       "                    0.8953135916953391, 0.8959780379534065, 0.8969307524361191,\n",
       "                    0.8957051183126122, 0.8959432915061075, 0.8961912568373464,\n",
       "                    0.8957590417966745, 0.8963523657575552, 0.8960820714353899,\n",
       "                    0.8959603636641825, 0.8964290062625976, 0.8966228700704031,\n",
       "                    0.8968350230979207, 0.8966544796427002, 0.8959008341645087,\n",
       "                    0.8961476608520952, 0.8968009416066226, 0.8968628000447478,\n",
       "                    0.8956064155154845, 0.8956855788590882, 0.8966752590340444,\n",
       "                    0.8966220818982812, 0.8965977197556935, 0.8961311999422962,\n",
       "                    0.8964113509785383, 0.8965272434800508, 0.8963507271877522,\n",
       "                    0.8956681789023432, 0.8962576316353736, 0.8964207078111052,\n",
       "                    0.8968793048892266, 0.8963304045576391, 0.8966595023431819,\n",
       "                    0.8965260240186897, 0.8959059859671324, 0.8967871851274426,\n",
       "                    0.8968447804461245, 0.896918821856004, 0.8967971347912402,\n",
       "                    0.897160949258164, 0.8966920230938703, 0.8974336371969538,\n",
       "                    0.8972646396268775, 0.8974083908373492, 0.8973528609704577,\n",
       "                    0.8975069538983144, 0.8976576240610411, 0.8973462941742976,\n",
       "                    0.8973870750458307, 0.8977244895995863, 0.8973972882069091,\n",
       "                    0.897395644773647, 0.8971011794317065, 0.8963527919558486,\n",
       "                    0.8971990862987465, 0.8970331940035345, 0.8971217115754101,\n",
       "                    0.8968438687150889, 0.8973618991128932, 0.8969210212251459,\n",
       "                    0.8969391570023729],\n",
       "              'yaxis': 'y6'},\n",
       "             {'marker': {'color': [0, 1, 2, 6, 8, 10, 11, 12, 13, 14, 15, 16, 17,\n",
       "                                   20, 21, 22, 23, 24, 25, 26, 27, 28, 29, 31, 32,\n",
       "                                   33, 34, 35, 36, 38, 39, 41, 42, 43, 44, 45, 46,\n",
       "                                   47, 48, 49, 50, 51, 52, 53, 55, 56, 57, 59, 60,\n",
       "                                   61, 62, 64, 65, 66, 67, 68, 69, 71, 72, 73, 74,\n",
       "                                   75, 76, 77, 78, 79, 81, 82, 83, 85, 86, 87, 88,\n",
       "                                   89, 90, 91, 93, 94, 96, 97, 98, 99],\n",
       "                         'colorbar': {'title': {'text': 'Trial'}, 'x': 1.0, 'xpad': 40},\n",
       "                         'colorscale': [[0.0, 'rgb(247,251,255)'], [0.125,\n",
       "                                        'rgb(222,235,247)'], [0.25,\n",
       "                                        'rgb(198,219,239)'], [0.375,\n",
       "                                        'rgb(158,202,225)'], [0.5,\n",
       "                                        'rgb(107,174,214)'], [0.625,\n",
       "                                        'rgb(66,146,198)'], [0.75,\n",
       "                                        'rgb(33,113,181)'], [0.875,\n",
       "                                        'rgb(8,81,156)'], [1.0, 'rgb(8,48,107)']],\n",
       "                         'line': {'color': 'Grey', 'width': 0.5},\n",
       "                         'showscale': False},\n",
       "              'mode': 'markers',\n",
       "              'showlegend': False,\n",
       "              'type': 'scatter',\n",
       "              'x': [62, 26, 26, 64, 74, 41, 44, 44, 47, 42, 36, 10, 56, 85, 50,\n",
       "                    54, 36, 42, 32, 57, 49, 74, 60, 59, 40, 48, 31, 53, 61, 68, 74,\n",
       "                    60, 56, 57, 65, 38, 70, 81, 50, 44, 52, 48, 58, 51, 43, 29, 20,\n",
       "                    45, 54, 100, 90, 94, 96, 35, 40, 10, 33, 90, 89, 92, 87, 86,\n",
       "                    95, 95, 87, 86, 87, 84, 87, 77, 87, 78, 79, 77, 80, 83, 88, 71,\n",
       "                    83, 76, 78, 72],\n",
       "              'xaxis': 'x7',\n",
       "              'y': [0.8956214804690127, 0.8921250689569081, 0.8960264670521884,\n",
       "                    0.8945734852878259, 0.8942049843294889, 0.897026811618925,\n",
       "                    0.8970699067571251, 0.895881536985244, 0.8967617072884999,\n",
       "                    0.8956080526436709, 0.8954523564613792, 0.8963500029059794,\n",
       "                    0.8963630931730145, 0.8961081689511722, 0.8968878301632092,\n",
       "                    0.8966561494169075, 0.8965308286439798, 0.8958234184813719,\n",
       "                    0.8957653413819981, 0.8967700890148187, 0.8960755887931864,\n",
       "                    0.8953135916953391, 0.8959780379534065, 0.8969307524361191,\n",
       "                    0.8957051183126122, 0.8959432915061075, 0.8961912568373464,\n",
       "                    0.8957590417966745, 0.8963523657575552, 0.8960820714353899,\n",
       "                    0.8959603636641825, 0.8964290062625976, 0.8966228700704031,\n",
       "                    0.8968350230979207, 0.8966544796427002, 0.8959008341645087,\n",
       "                    0.8961476608520952, 0.8968009416066226, 0.8968628000447478,\n",
       "                    0.8956064155154845, 0.8956855788590882, 0.8966752590340444,\n",
       "                    0.8966220818982812, 0.8965977197556935, 0.8961311999422962,\n",
       "                    0.8964113509785383, 0.8965272434800508, 0.8963507271877522,\n",
       "                    0.8956681789023432, 0.8962576316353736, 0.8964207078111052,\n",
       "                    0.8968793048892266, 0.8963304045576391, 0.8966595023431819,\n",
       "                    0.8965260240186897, 0.8959059859671324, 0.8967871851274426,\n",
       "                    0.8968447804461245, 0.896918821856004, 0.8967971347912402,\n",
       "                    0.897160949258164, 0.8966920230938703, 0.8974336371969538,\n",
       "                    0.8972646396268775, 0.8974083908373492, 0.8973528609704577,\n",
       "                    0.8975069538983144, 0.8976576240610411, 0.8973462941742976,\n",
       "                    0.8973870750458307, 0.8977244895995863, 0.8973972882069091,\n",
       "                    0.897395644773647, 0.8971011794317065, 0.8963527919558486,\n",
       "                    0.8971990862987465, 0.8970331940035345, 0.8971217115754101,\n",
       "                    0.8968438687150889, 0.8973618991128932, 0.8969210212251459,\n",
       "                    0.8969391570023729],\n",
       "              'yaxis': 'y7'}],\n",
       "    'layout': {'template': '...',\n",
       "               'title': {'text': 'Slice Plot'},\n",
       "               'width': 2100,\n",
       "               'xaxis': {'anchor': 'y', 'domain': [0.0, 0.1183673469387755], 'title': {'text': 'l2_regularization'}},\n",
       "               'xaxis2': {'anchor': 'y2',\n",
       "                          'domain': [0.14693877551020407, 0.26530612244897955],\n",
       "                          'title': {'text': 'learning_rate'}},\n",
       "               'xaxis3': {'anchor': 'y3',\n",
       "                          'domain': [0.29387755102040813, 0.4122448979591836],\n",
       "                          'title': {'text': 'max_bins'}},\n",
       "               'xaxis4': {'anchor': 'y4',\n",
       "                          'domain': [0.4408163265306122, 0.5591836734693877],\n",
       "                          'title': {'text': 'max_depth'}},\n",
       "               'xaxis5': {'anchor': 'y5',\n",
       "                          'domain': [0.5877551020408163, 0.7061224489795918],\n",
       "                          'title': {'text': 'max_iter'}},\n",
       "               'xaxis6': {'anchor': 'y6',\n",
       "                          'domain': [0.7346938775510204, 0.8530612244897959],\n",
       "                          'title': {'text': 'max_leaf_nodes'}},\n",
       "               'xaxis7': {'anchor': 'y7',\n",
       "                          'domain': [0.8816326530612244, 0.9999999999999999],\n",
       "                          'title': {'text': 'min_samples_leaf'}},\n",
       "               'yaxis': {'anchor': 'x', 'domain': [0.0, 1.0], 'title': {'text': 'Objective Value'}},\n",
       "               'yaxis2': {'anchor': 'x2', 'domain': [0.0, 1.0], 'matches': 'y', 'showticklabels': False},\n",
       "               'yaxis3': {'anchor': 'x3', 'domain': [0.0, 1.0], 'matches': 'y', 'showticklabels': False},\n",
       "               'yaxis4': {'anchor': 'x4', 'domain': [0.0, 1.0], 'matches': 'y', 'showticklabels': False},\n",
       "               'yaxis5': {'anchor': 'x5', 'domain': [0.0, 1.0], 'matches': 'y', 'showticklabels': False},\n",
       "               'yaxis6': {'anchor': 'x6', 'domain': [0.0, 1.0], 'matches': 'y', 'showticklabels': False},\n",
       "               'yaxis7': {'anchor': 'x7', 'domain': [0.0, 1.0], 'matches': 'y', 'showticklabels': False}}\n",
       "})"
      ]
     },
     "execution_count": 46,
     "metadata": {},
     "output_type": "execute_result"
    }
   ],
   "source": [
    "optuna.visualization.plot_slice(study)"
   ]
  },
  {
   "cell_type": "code",
   "execution_count": 47,
   "metadata": {},
   "outputs": [
    {
     "ename": "ValueError",
     "evalue": "Mime type rendering requires nbformat>=4.2.0 but it is not installed",
     "output_type": "error",
     "traceback": [
      "\u001b[1;31m---------------------------------------------------------------------------\u001b[0m",
      "\u001b[1;31mValueError\u001b[0m                                Traceback (most recent call last)",
      "File \u001b[1;32mc:\\Users\\Adeniyi Babalola\\AppData\\Local\\Programs\\Python\\Python310\\lib\\site-packages\\IPython\\core\\formatters.py:921\u001b[0m, in \u001b[0;36mIPythonDisplayFormatter.__call__\u001b[1;34m(self, obj)\u001b[0m\n\u001b[0;32m    919\u001b[0m method \u001b[38;5;241m=\u001b[39m get_real_method(obj, \u001b[38;5;28mself\u001b[39m\u001b[38;5;241m.\u001b[39mprint_method)\n\u001b[0;32m    920\u001b[0m \u001b[38;5;28;01mif\u001b[39;00m method \u001b[38;5;129;01mis\u001b[39;00m \u001b[38;5;129;01mnot\u001b[39;00m \u001b[38;5;28;01mNone\u001b[39;00m:\n\u001b[1;32m--> 921\u001b[0m     \u001b[43mmethod\u001b[49m\u001b[43m(\u001b[49m\u001b[43m)\u001b[49m\n\u001b[0;32m    922\u001b[0m     \u001b[38;5;28;01mreturn\u001b[39;00m \u001b[38;5;28;01mTrue\u001b[39;00m\n",
      "File \u001b[1;32mc:\\Users\\Adeniyi Babalola\\AppData\\Local\\Programs\\Python\\Python310\\lib\\site-packages\\plotly\\basedatatypes.py:834\u001b[0m, in \u001b[0;36mBaseFigure._ipython_display_\u001b[1;34m(self)\u001b[0m\n\u001b[0;32m    831\u001b[0m \u001b[38;5;28;01mimport\u001b[39;00m \u001b[38;5;21;01mplotly\u001b[39;00m\u001b[38;5;21;01m.\u001b[39;00m\u001b[38;5;21;01mio\u001b[39;00m \u001b[38;5;28;01mas\u001b[39;00m \u001b[38;5;21;01mpio\u001b[39;00m\n\u001b[0;32m    833\u001b[0m \u001b[38;5;28;01mif\u001b[39;00m pio\u001b[38;5;241m.\u001b[39mrenderers\u001b[38;5;241m.\u001b[39mrender_on_display \u001b[38;5;129;01mand\u001b[39;00m pio\u001b[38;5;241m.\u001b[39mrenderers\u001b[38;5;241m.\u001b[39mdefault:\n\u001b[1;32m--> 834\u001b[0m     \u001b[43mpio\u001b[49m\u001b[38;5;241;43m.\u001b[39;49m\u001b[43mshow\u001b[49m\u001b[43m(\u001b[49m\u001b[38;5;28;43mself\u001b[39;49m\u001b[43m)\u001b[49m\n\u001b[0;32m    835\u001b[0m \u001b[38;5;28;01melse\u001b[39;00m:\n\u001b[0;32m    836\u001b[0m     \u001b[38;5;28mprint\u001b[39m(\u001b[38;5;28mrepr\u001b[39m(\u001b[38;5;28mself\u001b[39m))\n",
      "File \u001b[1;32mc:\\Users\\Adeniyi Babalola\\AppData\\Local\\Programs\\Python\\Python310\\lib\\site-packages\\plotly\\io\\_renderers.py:396\u001b[0m, in \u001b[0;36mshow\u001b[1;34m(fig, renderer, validate, **kwargs)\u001b[0m\n\u001b[0;32m    391\u001b[0m         \u001b[38;5;28;01mraise\u001b[39;00m \u001b[38;5;167;01mValueError\u001b[39;00m(\n\u001b[0;32m    392\u001b[0m             \u001b[38;5;124m\"\u001b[39m\u001b[38;5;124mMime type rendering requires ipython but it is not installed\u001b[39m\u001b[38;5;124m\"\u001b[39m\n\u001b[0;32m    393\u001b[0m         )\n\u001b[0;32m    395\u001b[0m     \u001b[38;5;28;01mif\u001b[39;00m \u001b[38;5;129;01mnot\u001b[39;00m nbformat \u001b[38;5;129;01mor\u001b[39;00m Version(nbformat\u001b[38;5;241m.\u001b[39m__version__) \u001b[38;5;241m<\u001b[39m Version(\u001b[38;5;124m\"\u001b[39m\u001b[38;5;124m4.2.0\u001b[39m\u001b[38;5;124m\"\u001b[39m):\n\u001b[1;32m--> 396\u001b[0m         \u001b[38;5;28;01mraise\u001b[39;00m \u001b[38;5;167;01mValueError\u001b[39;00m(\n\u001b[0;32m    397\u001b[0m             \u001b[38;5;124m\"\u001b[39m\u001b[38;5;124mMime type rendering requires nbformat>=4.2.0 but it is not installed\u001b[39m\u001b[38;5;124m\"\u001b[39m\n\u001b[0;32m    398\u001b[0m         )\n\u001b[0;32m    400\u001b[0m     ipython_display\u001b[38;5;241m.\u001b[39mdisplay(bundle, raw\u001b[38;5;241m=\u001b[39m\u001b[38;5;28;01mTrue\u001b[39;00m)\n\u001b[0;32m    402\u001b[0m \u001b[38;5;66;03m# external renderers\u001b[39;00m\n",
      "\u001b[1;31mValueError\u001b[0m: Mime type rendering requires nbformat>=4.2.0 but it is not installed"
     ]
    },
    {
     "data": {
      "application/vnd.plotly.v1+json": {
       "config": {
        "plotlyServerURL": "https://plot.ly"
       },
       "data": [
        {
         "dimensions": [
          {
           "label": "Objective Value",
           "range": [
            0.8921250689569081,
            0.8977244895995863
           ],
           "values": [
            0.8956214804690127,
            0.8921250689569081,
            0.8960264670521884,
            0.8945734852878259,
            0.8942049843294889,
            0.897026811618925,
            0.8970699067571251,
            0.895881536985244,
            0.8967617072884999,
            0.8956080526436709,
            0.8954523564613792,
            0.8963500029059794,
            0.8963630931730145,
            0.8961081689511722,
            0.8968878301632092,
            0.8966561494169075,
            0.8965308286439798,
            0.8958234184813719,
            0.8957653413819981,
            0.8967700890148187,
            0.8960755887931864,
            0.8953135916953391,
            0.8959780379534065,
            0.8969307524361191,
            0.8957051183126122,
            0.8959432915061075,
            0.8961912568373464,
            0.8957590417966745,
            0.8963523657575552,
            0.8960820714353899,
            0.8959603636641825,
            0.8964290062625976,
            0.8966228700704031,
            0.8968350230979207,
            0.8966544796427002,
            0.8959008341645087,
            0.8961476608520952,
            0.8968009416066226,
            0.8968628000447478,
            0.8956064155154845,
            0.8956855788590882,
            0.8966752590340444,
            0.8966220818982812,
            0.8965977197556935,
            0.8961311999422962,
            0.8964113509785383,
            0.8965272434800508,
            0.8963507271877522,
            0.8956681789023432,
            0.8962576316353736,
            0.8964207078111052,
            0.8968793048892266,
            0.8963304045576391,
            0.8966595023431819,
            0.8965260240186897,
            0.8959059859671324,
            0.8967871851274426,
            0.8968447804461245,
            0.896918821856004,
            0.8967971347912402,
            0.897160949258164,
            0.8966920230938703,
            0.8974336371969538,
            0.8972646396268775,
            0.8974083908373492,
            0.8973528609704577,
            0.8975069538983144,
            0.8976576240610411,
            0.8973462941742976,
            0.8973870750458307,
            0.8977244895995863,
            0.8973972882069091,
            0.897395644773647,
            0.8971011794317065,
            0.8963527919558486,
            0.8971990862987465,
            0.8970331940035345,
            0.8971217115754101,
            0.8968438687150889,
            0.8973618991128932,
            0.8969210212251459,
            0.8969391570023729
           ]
          },
          {
           "label": "l2_regularization",
           "range": [
            0.40274035785174345,
            0.9973460531420034
           ],
           "values": [
            0.865161119575739,
            0.875982614235826,
            0.7161018436816753,
            0.7855851819610684,
            0.9973460531420034,
            0.5640635247024228,
            0.5572936740053499,
            0.5435079244373889,
            0.5524906600643097,
            0.43517055278721317,
            0.5475932195410312,
            0.6263182434829128,
            0.6443346094709033,
            0.6375854167113038,
            0.5633863110845194,
            0.5956995455163308,
            0.49304271655883725,
            0.6694903453862167,
            0.5938126721553499,
            0.4655412697967445,
            0.5177116886918468,
            0.5799692202391563,
            0.5158008832069093,
            0.4623982028547648,
            0.44011398200485846,
            0.4688027733377465,
            0.5792617826754519,
            0.5304318173381163,
            0.48872148783348207,
            0.6930041175918311,
            0.5634151444027862,
            0.47160039819425437,
            0.5219590951892872,
            0.45644844193195433,
            0.40274035785174345,
            0.56604806370109,
            0.4347298032020788,
            0.5442077780135511,
            0.5123170511169008,
            0.504991747958205,
            0.5390027053373841,
            0.48468640823508213,
            0.5118373802038255,
            0.4579791944829458,
            0.5030315954235647,
            0.6014064224422447,
            0.5678520203269704,
            0.48210602877750286,
            0.6245966610812776,
            0.5464943598015924,
            0.5822474337378261,
            0.4984115414698609,
            0.4494081818927003,
            0.42415074744209674,
            0.4756919249739509,
            0.4949044727944665,
            0.5068205295368733,
            0.5549683822447192,
            0.5188611605374566,
            0.5601178884188925,
            0.5249617552956057,
            0.5234597277054962,
            0.5829542010921881,
            0.5819070418226433,
            0.5986839277266129,
            0.592870361863843,
            0.6027484279833132,
            0.5873773729968689,
            0.5857607315326634,
            0.6400810146360082,
            0.6496937198849339,
            0.646718071128513,
            0.6483647235647,
            0.6492523546668868,
            0.6590779096870938,
            0.6393955926605916,
            0.6055015437858473,
            0.6195977312019063,
            0.6595392956126553,
            0.6339463429836228,
            0.6829549789659567,
            0.6381654903238537
           ]
          },
          {
           "label": "learning_rate",
           "range": [
            0.0050102842191517664,
            0.12521503862244876
           ],
           "values": [
            0.12521503862244876,
            0.09771538956558976,
            0.02379402641844969,
            0.043146329153552716,
            0.06618566005219409,
            0.0331528965013702,
            0.03359932047442103,
            0.06499075170707783,
            0.036790906993689386,
            0.0779279433022951,
            0.021509551862836984,
            0.05187022273220379,
            0.021441259604622752,
            0.05803693414566645,
            0.03493513926692644,
            0.03527639971995565,
            0.04967796390902403,
            0.02918439177018666,
            0.0143738472843572,
            0.03193080333196478,
            0.04389009599849103,
            0.010899728842050909,
            0.019719539584630217,
            0.031120177863760572,
            0.029428233738195163,
            0.013683508830996005,
            0.037020810175396275,
            0.024142809239805756,
            0.05125965646224879,
            0.028886349591778934,
            0.013187641008178153,
            0.03258297574150421,
            0.03468886885208676,
            0.02505024724318833,
            0.024925910763382096,
            0.006416087799582748,
            0.01792933115684019,
            0.00873605164285908,
            0.04076930937059847,
            0.04135259698911101,
            0.058641475781357255,
            0.0250359042334806,
            0.03866787136189545,
            0.04732475984305362,
            0.03829671697284871,
            0.026584418305940195,
            0.033411539274183215,
            0.05478890382517166,
            0.04575651996990049,
            0.007238644633192508,
            0.007727856207485978,
            0.02939281553485525,
            0.029609873969326475,
            0.038920072222457774,
            0.033555840307386224,
            0.02284179440989774,
            0.028227461521850742,
            0.016537053862658434,
            0.014833420541462836,
            0.013289101002367888,
            0.01708079104882631,
            0.02019418893097169,
            0.03230886784318135,
            0.030788157358408497,
            0.0360093586720861,
            0.011070380264567588,
            0.01225852923259915,
            0.01157733390664717,
            0.011296866870427734,
            0.010722109806039298,
            0.010334329050417028,
            0.010515355452917974,
            0.009561920904449434,
            0.011156971238759195,
            0.0050102842191517664,
            0.010062682245175121,
            0.01209926440144764,
            0.009662847288046107,
            0.015195810522629801,
            0.01981942701199306,
            0.01992915632009542,
            0.022609082856324257
           ]
          },
          {
           "label": "max_bins",
           "range": [
            102,
            254
           ],
           "values": [
            113,
            149,
            254,
            119,
            238,
            210,
            210,
            211,
            201,
            196,
            187,
            218,
            175,
            216,
            202,
            202,
            188,
            227,
            165,
            208,
            189,
            138,
            243,
            210,
            223,
            208,
            196,
            227,
            184,
            199,
            169,
            207,
            219,
            205,
            229,
            180,
            196,
            194,
            202,
            219,
            234,
            206,
            214,
            203,
            189,
            223,
            192,
            201,
            247,
            195,
            183,
            204,
            204,
            222,
            212,
            233,
            208,
            192,
            199,
            198,
            190,
            185,
            189,
            188,
            175,
            158,
            138,
            133,
            123,
            121,
            118,
            118,
            117,
            112,
            135,
            113,
            122,
            144,
            102,
            130,
            128,
            143
           ]
          },
          {
           "label": "max_depth",
           "range": [
            2,
            64
           ],
           "values": [
            6,
            28,
            32,
            12,
            35,
            59,
            64,
            59,
            63,
            54,
            53,
            64,
            48,
            51,
            64,
            59,
            64,
            58,
            43,
            61,
            51,
            57,
            37,
            61,
            2,
            61,
            55,
            48,
            61,
            26,
            51,
            61,
            60,
            57,
            56,
            53,
            17,
            58,
            54,
            62,
            54,
            64,
            57,
            32,
            59,
            62,
            54,
            24,
            47,
            58,
            56,
            52,
            53,
            49,
            62,
            38,
            43,
            58,
            60,
            59,
            60,
            60,
            63,
            63,
            63,
            62,
            61,
            62,
            63,
            63,
            63,
            63,
            64,
            62,
            64,
            63,
            64,
            56,
            60,
            58,
            57,
            58
           ]
          },
          {
           "label": "max_iter",
           "range": [
            107,
            498
           ],
           "values": [
            397,
            107,
            247,
            380,
            253,
            322,
            293,
            470,
            307,
            332,
            498,
            200,
            325,
            216,
            312,
            350,
            274,
            438,
            354,
            273,
            231,
            150,
            311,
            271,
            298,
            258,
            406,
            170,
            330,
            283,
            370,
            268,
            246,
            312,
            340,
            313,
            391,
            298,
            240,
            191,
            237,
            255,
            216,
            325,
            311,
            340,
            271,
            211,
            322,
            302,
            300,
            347,
            352,
            409,
            365,
            260,
            246,
            295,
            336,
            337,
            282,
            323,
            347,
            349,
            362,
            377,
            395,
            390,
            395,
            428,
            450,
            465,
            470,
            465,
            461,
            487,
            417,
            439,
            430,
            390,
            451,
            385
           ]
          },
          {
           "label": "max_leaf_nodes",
           "range": [
            20,
            92
           ],
           "values": [
            49,
            92,
            41,
            88,
            67,
            22,
            20,
            23,
            22,
            29,
            52,
            20,
            32,
            32,
            24,
            28,
            20,
            45,
            60,
            27,
            35,
            25,
            47,
            26,
            32,
            41,
            26,
            40,
            20,
            29,
            37,
            25,
            28,
            24,
            22,
            23,
            39,
            31,
            24,
            45,
            35,
            25,
            23,
            20,
            31,
            29,
            23,
            26,
            37,
            30,
            20,
            24,
            26,
            22,
            24,
            28,
            22,
            31,
            28,
            27,
            30,
            35,
            20,
            20,
            20,
            21,
            20,
            21,
            21,
            20,
            20,
            22,
            22,
            26,
            22,
            22,
            25,
            22,
            24,
            27,
            27,
            23
           ]
          },
          {
           "label": "min_samples_leaf",
           "range": [
            10,
            100
           ],
           "values": [
            62,
            26,
            26,
            64,
            74,
            41,
            44,
            44,
            47,
            42,
            36,
            10,
            56,
            85,
            50,
            54,
            36,
            42,
            32,
            57,
            49,
            74,
            60,
            59,
            40,
            48,
            31,
            53,
            61,
            68,
            74,
            60,
            56,
            57,
            65,
            38,
            70,
            81,
            50,
            44,
            52,
            48,
            58,
            51,
            43,
            29,
            20,
            45,
            54,
            100,
            90,
            94,
            96,
            35,
            40,
            10,
            33,
            90,
            89,
            92,
            87,
            86,
            95,
            95,
            87,
            86,
            87,
            84,
            87,
            77,
            87,
            78,
            79,
            77,
            80,
            83,
            88,
            71,
            83,
            76,
            78,
            72
           ]
          }
         ],
         "labelangle": 30,
         "labelside": "bottom",
         "line": {
          "color": [
           0.8956214804690127,
           0.8921250689569081,
           0.8960264670521884,
           0.8945734852878259,
           0.8942049843294889,
           0.897026811618925,
           0.8970699067571251,
           0.895881536985244,
           0.8967617072884999,
           0.8956080526436709,
           0.8954523564613792,
           0.8963500029059794,
           0.8963630931730145,
           0.8961081689511722,
           0.8968878301632092,
           0.8966561494169075,
           0.8965308286439798,
           0.8958234184813719,
           0.8957653413819981,
           0.8967700890148187,
           0.8960755887931864,
           0.8953135916953391,
           0.8959780379534065,
           0.8969307524361191,
           0.8957051183126122,
           0.8959432915061075,
           0.8961912568373464,
           0.8957590417966745,
           0.8963523657575552,
           0.8960820714353899,
           0.8959603636641825,
           0.8964290062625976,
           0.8966228700704031,
           0.8968350230979207,
           0.8966544796427002,
           0.8959008341645087,
           0.8961476608520952,
           0.8968009416066226,
           0.8968628000447478,
           0.8956064155154845,
           0.8956855788590882,
           0.8966752590340444,
           0.8966220818982812,
           0.8965977197556935,
           0.8961311999422962,
           0.8964113509785383,
           0.8965272434800508,
           0.8963507271877522,
           0.8956681789023432,
           0.8962576316353736,
           0.8964207078111052,
           0.8968793048892266,
           0.8963304045576391,
           0.8966595023431819,
           0.8965260240186897,
           0.8959059859671324,
           0.8967871851274426,
           0.8968447804461245,
           0.896918821856004,
           0.8967971347912402,
           0.897160949258164,
           0.8966920230938703,
           0.8974336371969538,
           0.8972646396268775,
           0.8974083908373492,
           0.8973528609704577,
           0.8975069538983144,
           0.8976576240610411,
           0.8973462941742976,
           0.8973870750458307,
           0.8977244895995863,
           0.8973972882069091,
           0.897395644773647,
           0.8971011794317065,
           0.8963527919558486,
           0.8971990862987465,
           0.8970331940035345,
           0.8971217115754101,
           0.8968438687150889,
           0.8973618991128932,
           0.8969210212251459,
           0.8969391570023729
          ],
          "colorbar": {
           "title": {
            "text": "Objective Value"
           }
          },
          "colorscale": [
           [
            0,
            "rgb(247,251,255)"
           ],
           [
            0.125,
            "rgb(222,235,247)"
           ],
           [
            0.25,
            "rgb(198,219,239)"
           ],
           [
            0.375,
            "rgb(158,202,225)"
           ],
           [
            0.5,
            "rgb(107,174,214)"
           ],
           [
            0.625,
            "rgb(66,146,198)"
           ],
           [
            0.75,
            "rgb(33,113,181)"
           ],
           [
            0.875,
            "rgb(8,81,156)"
           ],
           [
            1,
            "rgb(8,48,107)"
           ]
          ],
          "reversescale": false,
          "showscale": true
         },
         "type": "parcoords"
        }
       ],
       "layout": {
        "template": {
         "data": {
          "bar": [
           {
            "error_x": {
             "color": "#2a3f5f"
            },
            "error_y": {
             "color": "#2a3f5f"
            },
            "marker": {
             "line": {
              "color": "#E5ECF6",
              "width": 0.5
             },
             "pattern": {
              "fillmode": "overlay",
              "size": 10,
              "solidity": 0.2
             }
            },
            "type": "bar"
           }
          ],
          "barpolar": [
           {
            "marker": {
             "line": {
              "color": "#E5ECF6",
              "width": 0.5
             },
             "pattern": {
              "fillmode": "overlay",
              "size": 10,
              "solidity": 0.2
             }
            },
            "type": "barpolar"
           }
          ],
          "carpet": [
           {
            "aaxis": {
             "endlinecolor": "#2a3f5f",
             "gridcolor": "white",
             "linecolor": "white",
             "minorgridcolor": "white",
             "startlinecolor": "#2a3f5f"
            },
            "baxis": {
             "endlinecolor": "#2a3f5f",
             "gridcolor": "white",
             "linecolor": "white",
             "minorgridcolor": "white",
             "startlinecolor": "#2a3f5f"
            },
            "type": "carpet"
           }
          ],
          "choropleth": [
           {
            "colorbar": {
             "outlinewidth": 0,
             "ticks": ""
            },
            "type": "choropleth"
           }
          ],
          "contour": [
           {
            "colorbar": {
             "outlinewidth": 0,
             "ticks": ""
            },
            "colorscale": [
             [
              0,
              "#0d0887"
             ],
             [
              0.1111111111111111,
              "#46039f"
             ],
             [
              0.2222222222222222,
              "#7201a8"
             ],
             [
              0.3333333333333333,
              "#9c179e"
             ],
             [
              0.4444444444444444,
              "#bd3786"
             ],
             [
              0.5555555555555556,
              "#d8576b"
             ],
             [
              0.6666666666666666,
              "#ed7953"
             ],
             [
              0.7777777777777778,
              "#fb9f3a"
             ],
             [
              0.8888888888888888,
              "#fdca26"
             ],
             [
              1,
              "#f0f921"
             ]
            ],
            "type": "contour"
           }
          ],
          "contourcarpet": [
           {
            "colorbar": {
             "outlinewidth": 0,
             "ticks": ""
            },
            "type": "contourcarpet"
           }
          ],
          "heatmap": [
           {
            "colorbar": {
             "outlinewidth": 0,
             "ticks": ""
            },
            "colorscale": [
             [
              0,
              "#0d0887"
             ],
             [
              0.1111111111111111,
              "#46039f"
             ],
             [
              0.2222222222222222,
              "#7201a8"
             ],
             [
              0.3333333333333333,
              "#9c179e"
             ],
             [
              0.4444444444444444,
              "#bd3786"
             ],
             [
              0.5555555555555556,
              "#d8576b"
             ],
             [
              0.6666666666666666,
              "#ed7953"
             ],
             [
              0.7777777777777778,
              "#fb9f3a"
             ],
             [
              0.8888888888888888,
              "#fdca26"
             ],
             [
              1,
              "#f0f921"
             ]
            ],
            "type": "heatmap"
           }
          ],
          "heatmapgl": [
           {
            "colorbar": {
             "outlinewidth": 0,
             "ticks": ""
            },
            "colorscale": [
             [
              0,
              "#0d0887"
             ],
             [
              0.1111111111111111,
              "#46039f"
             ],
             [
              0.2222222222222222,
              "#7201a8"
             ],
             [
              0.3333333333333333,
              "#9c179e"
             ],
             [
              0.4444444444444444,
              "#bd3786"
             ],
             [
              0.5555555555555556,
              "#d8576b"
             ],
             [
              0.6666666666666666,
              "#ed7953"
             ],
             [
              0.7777777777777778,
              "#fb9f3a"
             ],
             [
              0.8888888888888888,
              "#fdca26"
             ],
             [
              1,
              "#f0f921"
             ]
            ],
            "type": "heatmapgl"
           }
          ],
          "histogram": [
           {
            "marker": {
             "pattern": {
              "fillmode": "overlay",
              "size": 10,
              "solidity": 0.2
             }
            },
            "type": "histogram"
           }
          ],
          "histogram2d": [
           {
            "colorbar": {
             "outlinewidth": 0,
             "ticks": ""
            },
            "colorscale": [
             [
              0,
              "#0d0887"
             ],
             [
              0.1111111111111111,
              "#46039f"
             ],
             [
              0.2222222222222222,
              "#7201a8"
             ],
             [
              0.3333333333333333,
              "#9c179e"
             ],
             [
              0.4444444444444444,
              "#bd3786"
             ],
             [
              0.5555555555555556,
              "#d8576b"
             ],
             [
              0.6666666666666666,
              "#ed7953"
             ],
             [
              0.7777777777777778,
              "#fb9f3a"
             ],
             [
              0.8888888888888888,
              "#fdca26"
             ],
             [
              1,
              "#f0f921"
             ]
            ],
            "type": "histogram2d"
           }
          ],
          "histogram2dcontour": [
           {
            "colorbar": {
             "outlinewidth": 0,
             "ticks": ""
            },
            "colorscale": [
             [
              0,
              "#0d0887"
             ],
             [
              0.1111111111111111,
              "#46039f"
             ],
             [
              0.2222222222222222,
              "#7201a8"
             ],
             [
              0.3333333333333333,
              "#9c179e"
             ],
             [
              0.4444444444444444,
              "#bd3786"
             ],
             [
              0.5555555555555556,
              "#d8576b"
             ],
             [
              0.6666666666666666,
              "#ed7953"
             ],
             [
              0.7777777777777778,
              "#fb9f3a"
             ],
             [
              0.8888888888888888,
              "#fdca26"
             ],
             [
              1,
              "#f0f921"
             ]
            ],
            "type": "histogram2dcontour"
           }
          ],
          "mesh3d": [
           {
            "colorbar": {
             "outlinewidth": 0,
             "ticks": ""
            },
            "type": "mesh3d"
           }
          ],
          "parcoords": [
           {
            "line": {
             "colorbar": {
              "outlinewidth": 0,
              "ticks": ""
             }
            },
            "type": "parcoords"
           }
          ],
          "pie": [
           {
            "automargin": true,
            "type": "pie"
           }
          ],
          "scatter": [
           {
            "fillpattern": {
             "fillmode": "overlay",
             "size": 10,
             "solidity": 0.2
            },
            "type": "scatter"
           }
          ],
          "scatter3d": [
           {
            "line": {
             "colorbar": {
              "outlinewidth": 0,
              "ticks": ""
             }
            },
            "marker": {
             "colorbar": {
              "outlinewidth": 0,
              "ticks": ""
             }
            },
            "type": "scatter3d"
           }
          ],
          "scattercarpet": [
           {
            "marker": {
             "colorbar": {
              "outlinewidth": 0,
              "ticks": ""
             }
            },
            "type": "scattercarpet"
           }
          ],
          "scattergeo": [
           {
            "marker": {
             "colorbar": {
              "outlinewidth": 0,
              "ticks": ""
             }
            },
            "type": "scattergeo"
           }
          ],
          "scattergl": [
           {
            "marker": {
             "colorbar": {
              "outlinewidth": 0,
              "ticks": ""
             }
            },
            "type": "scattergl"
           }
          ],
          "scattermapbox": [
           {
            "marker": {
             "colorbar": {
              "outlinewidth": 0,
              "ticks": ""
             }
            },
            "type": "scattermapbox"
           }
          ],
          "scatterpolar": [
           {
            "marker": {
             "colorbar": {
              "outlinewidth": 0,
              "ticks": ""
             }
            },
            "type": "scatterpolar"
           }
          ],
          "scatterpolargl": [
           {
            "marker": {
             "colorbar": {
              "outlinewidth": 0,
              "ticks": ""
             }
            },
            "type": "scatterpolargl"
           }
          ],
          "scatterternary": [
           {
            "marker": {
             "colorbar": {
              "outlinewidth": 0,
              "ticks": ""
             }
            },
            "type": "scatterternary"
           }
          ],
          "surface": [
           {
            "colorbar": {
             "outlinewidth": 0,
             "ticks": ""
            },
            "colorscale": [
             [
              0,
              "#0d0887"
             ],
             [
              0.1111111111111111,
              "#46039f"
             ],
             [
              0.2222222222222222,
              "#7201a8"
             ],
             [
              0.3333333333333333,
              "#9c179e"
             ],
             [
              0.4444444444444444,
              "#bd3786"
             ],
             [
              0.5555555555555556,
              "#d8576b"
             ],
             [
              0.6666666666666666,
              "#ed7953"
             ],
             [
              0.7777777777777778,
              "#fb9f3a"
             ],
             [
              0.8888888888888888,
              "#fdca26"
             ],
             [
              1,
              "#f0f921"
             ]
            ],
            "type": "surface"
           }
          ],
          "table": [
           {
            "cells": {
             "fill": {
              "color": "#EBF0F8"
             },
             "line": {
              "color": "white"
             }
            },
            "header": {
             "fill": {
              "color": "#C8D4E3"
             },
             "line": {
              "color": "white"
             }
            },
            "type": "table"
           }
          ]
         },
         "layout": {
          "annotationdefaults": {
           "arrowcolor": "#2a3f5f",
           "arrowhead": 0,
           "arrowwidth": 1
          },
          "autotypenumbers": "strict",
          "coloraxis": {
           "colorbar": {
            "outlinewidth": 0,
            "ticks": ""
           }
          },
          "colorscale": {
           "diverging": [
            [
             0,
             "#8e0152"
            ],
            [
             0.1,
             "#c51b7d"
            ],
            [
             0.2,
             "#de77ae"
            ],
            [
             0.3,
             "#f1b6da"
            ],
            [
             0.4,
             "#fde0ef"
            ],
            [
             0.5,
             "#f7f7f7"
            ],
            [
             0.6,
             "#e6f5d0"
            ],
            [
             0.7,
             "#b8e186"
            ],
            [
             0.8,
             "#7fbc41"
            ],
            [
             0.9,
             "#4d9221"
            ],
            [
             1,
             "#276419"
            ]
           ],
           "sequential": [
            [
             0,
             "#0d0887"
            ],
            [
             0.1111111111111111,
             "#46039f"
            ],
            [
             0.2222222222222222,
             "#7201a8"
            ],
            [
             0.3333333333333333,
             "#9c179e"
            ],
            [
             0.4444444444444444,
             "#bd3786"
            ],
            [
             0.5555555555555556,
             "#d8576b"
            ],
            [
             0.6666666666666666,
             "#ed7953"
            ],
            [
             0.7777777777777778,
             "#fb9f3a"
            ],
            [
             0.8888888888888888,
             "#fdca26"
            ],
            [
             1,
             "#f0f921"
            ]
           ],
           "sequentialminus": [
            [
             0,
             "#0d0887"
            ],
            [
             0.1111111111111111,
             "#46039f"
            ],
            [
             0.2222222222222222,
             "#7201a8"
            ],
            [
             0.3333333333333333,
             "#9c179e"
            ],
            [
             0.4444444444444444,
             "#bd3786"
            ],
            [
             0.5555555555555556,
             "#d8576b"
            ],
            [
             0.6666666666666666,
             "#ed7953"
            ],
            [
             0.7777777777777778,
             "#fb9f3a"
            ],
            [
             0.8888888888888888,
             "#fdca26"
            ],
            [
             1,
             "#f0f921"
            ]
           ]
          },
          "colorway": [
           "#636efa",
           "#EF553B",
           "#00cc96",
           "#ab63fa",
           "#FFA15A",
           "#19d3f3",
           "#FF6692",
           "#B6E880",
           "#FF97FF",
           "#FECB52"
          ],
          "font": {
           "color": "#2a3f5f"
          },
          "geo": {
           "bgcolor": "white",
           "lakecolor": "white",
           "landcolor": "#E5ECF6",
           "showlakes": true,
           "showland": true,
           "subunitcolor": "white"
          },
          "hoverlabel": {
           "align": "left"
          },
          "hovermode": "closest",
          "mapbox": {
           "style": "light"
          },
          "paper_bgcolor": "white",
          "plot_bgcolor": "#E5ECF6",
          "polar": {
           "angularaxis": {
            "gridcolor": "white",
            "linecolor": "white",
            "ticks": ""
           },
           "bgcolor": "#E5ECF6",
           "radialaxis": {
            "gridcolor": "white",
            "linecolor": "white",
            "ticks": ""
           }
          },
          "scene": {
           "xaxis": {
            "backgroundcolor": "#E5ECF6",
            "gridcolor": "white",
            "gridwidth": 2,
            "linecolor": "white",
            "showbackground": true,
            "ticks": "",
            "zerolinecolor": "white"
           },
           "yaxis": {
            "backgroundcolor": "#E5ECF6",
            "gridcolor": "white",
            "gridwidth": 2,
            "linecolor": "white",
            "showbackground": true,
            "ticks": "",
            "zerolinecolor": "white"
           },
           "zaxis": {
            "backgroundcolor": "#E5ECF6",
            "gridcolor": "white",
            "gridwidth": 2,
            "linecolor": "white",
            "showbackground": true,
            "ticks": "",
            "zerolinecolor": "white"
           }
          },
          "shapedefaults": {
           "line": {
            "color": "#2a3f5f"
           }
          },
          "ternary": {
           "aaxis": {
            "gridcolor": "white",
            "linecolor": "white",
            "ticks": ""
           },
           "baxis": {
            "gridcolor": "white",
            "linecolor": "white",
            "ticks": ""
           },
           "bgcolor": "#E5ECF6",
           "caxis": {
            "gridcolor": "white",
            "linecolor": "white",
            "ticks": ""
           }
          },
          "title": {
           "x": 0.05
          },
          "xaxis": {
           "automargin": true,
           "gridcolor": "white",
           "linecolor": "white",
           "ticks": "",
           "title": {
            "standoff": 15
           },
           "zerolinecolor": "white",
           "zerolinewidth": 2
          },
          "yaxis": {
           "automargin": true,
           "gridcolor": "white",
           "linecolor": "white",
           "ticks": "",
           "title": {
            "standoff": 15
           },
           "zerolinecolor": "white",
           "zerolinewidth": 2
          }
         }
        },
        "title": {
         "text": "Parallel Coordinate Plot"
        }
       }
      },
      "text/html": [
       "<div>                        <script type=\"text/javascript\">window.PlotlyConfig = {MathJaxConfig: 'local'};</script>\n",
       "        <script charset=\"utf-8\" src=\"https://cdn.plot.ly/plotly-2.20.0.min.js\"></script>                <div id=\"b6359d28-0bf8-43c0-8d98-647be8e30272\" class=\"plotly-graph-div\" style=\"height:100%; width:100%;\"></div>            <script type=\"text/javascript\">                                    window.PLOTLYENV=window.PLOTLYENV || {};                                    if (document.getElementById(\"b6359d28-0bf8-43c0-8d98-647be8e30272\")) {                    Plotly.newPlot(                        \"b6359d28-0bf8-43c0-8d98-647be8e30272\",                        [{\"dimensions\":[{\"label\":\"Objective Value\",\"range\":[0.8921250689569081,0.8977244895995863],\"values\":[0.8956214804690127,0.8921250689569081,0.8960264670521884,0.8945734852878259,0.8942049843294889,0.897026811618925,0.8970699067571251,0.895881536985244,0.8967617072884999,0.8956080526436709,0.8954523564613792,0.8963500029059794,0.8963630931730145,0.8961081689511722,0.8968878301632092,0.8966561494169075,0.8965308286439798,0.8958234184813719,0.8957653413819981,0.8967700890148187,0.8960755887931864,0.8953135916953391,0.8959780379534065,0.8969307524361191,0.8957051183126122,0.8959432915061075,0.8961912568373464,0.8957590417966745,0.8963523657575552,0.8960820714353899,0.8959603636641825,0.8964290062625976,0.8966228700704031,0.8968350230979207,0.8966544796427002,0.8959008341645087,0.8961476608520952,0.8968009416066226,0.8968628000447478,0.8956064155154845,0.8956855788590882,0.8966752590340444,0.8966220818982812,0.8965977197556935,0.8961311999422962,0.8964113509785383,0.8965272434800508,0.8963507271877522,0.8956681789023432,0.8962576316353736,0.8964207078111052,0.8968793048892266,0.8963304045576391,0.8966595023431819,0.8965260240186897,0.8959059859671324,0.8967871851274426,0.8968447804461245,0.896918821856004,0.8967971347912402,0.897160949258164,0.8966920230938703,0.8974336371969538,0.8972646396268775,0.8974083908373492,0.8973528609704577,0.8975069538983144,0.8976576240610411,0.8973462941742976,0.8973870750458307,0.8977244895995863,0.8973972882069091,0.897395644773647,0.8971011794317065,0.8963527919558486,0.8971990862987465,0.8970331940035345,0.8971217115754101,0.8968438687150889,0.8973618991128932,0.8969210212251459,0.8969391570023729]},{\"label\":\"l2_regularization\",\"range\":[0.40274035785174345,0.9973460531420034],\"values\":[0.865161119575739,0.875982614235826,0.7161018436816753,0.7855851819610684,0.9973460531420034,0.5640635247024228,0.5572936740053499,0.5435079244373889,0.5524906600643097,0.43517055278721317,0.5475932195410312,0.6263182434829128,0.6443346094709033,0.6375854167113038,0.5633863110845194,0.5956995455163308,0.49304271655883725,0.6694903453862167,0.5938126721553499,0.4655412697967445,0.5177116886918468,0.5799692202391563,0.5158008832069093,0.4623982028547648,0.44011398200485846,0.4688027733377465,0.5792617826754519,0.5304318173381163,0.48872148783348207,0.6930041175918311,0.5634151444027862,0.47160039819425437,0.5219590951892872,0.45644844193195433,0.40274035785174345,0.56604806370109,0.4347298032020788,0.5442077780135511,0.5123170511169008,0.504991747958205,0.5390027053373841,0.48468640823508213,0.5118373802038255,0.4579791944829458,0.5030315954235647,0.6014064224422447,0.5678520203269704,0.48210602877750286,0.6245966610812776,0.5464943598015924,0.5822474337378261,0.4984115414698609,0.4494081818927003,0.42415074744209674,0.4756919249739509,0.4949044727944665,0.5068205295368733,0.5549683822447192,0.5188611605374566,0.5601178884188925,0.5249617552956057,0.5234597277054962,0.5829542010921881,0.5819070418226433,0.5986839277266129,0.592870361863843,0.6027484279833132,0.5873773729968689,0.5857607315326634,0.6400810146360082,0.6496937198849339,0.646718071128513,0.6483647235647,0.6492523546668868,0.6590779096870938,0.6393955926605916,0.6055015437858473,0.6195977312019063,0.6595392956126553,0.6339463429836228,0.6829549789659567,0.6381654903238537]},{\"label\":\"learning_rate\",\"range\":[0.0050102842191517664,0.12521503862244876],\"values\":[0.12521503862244876,0.09771538956558976,0.02379402641844969,0.043146329153552716,0.06618566005219409,0.0331528965013702,0.03359932047442103,0.06499075170707783,0.036790906993689386,0.0779279433022951,0.021509551862836984,0.05187022273220379,0.021441259604622752,0.05803693414566645,0.03493513926692644,0.03527639971995565,0.04967796390902403,0.02918439177018666,0.0143738472843572,0.03193080333196478,0.04389009599849103,0.010899728842050909,0.019719539584630217,0.031120177863760572,0.029428233738195163,0.013683508830996005,0.037020810175396275,0.024142809239805756,0.05125965646224879,0.028886349591778934,0.013187641008178153,0.03258297574150421,0.03468886885208676,0.02505024724318833,0.024925910763382096,0.006416087799582748,0.01792933115684019,0.00873605164285908,0.04076930937059847,0.04135259698911101,0.058641475781357255,0.0250359042334806,0.03866787136189545,0.04732475984305362,0.03829671697284871,0.026584418305940195,0.033411539274183215,0.05478890382517166,0.04575651996990049,0.007238644633192508,0.007727856207485978,0.02939281553485525,0.029609873969326475,0.038920072222457774,0.033555840307386224,0.02284179440989774,0.028227461521850742,0.016537053862658434,0.014833420541462836,0.013289101002367888,0.01708079104882631,0.02019418893097169,0.03230886784318135,0.030788157358408497,0.0360093586720861,0.011070380264567588,0.01225852923259915,0.01157733390664717,0.011296866870427734,0.010722109806039298,0.010334329050417028,0.010515355452917974,0.009561920904449434,0.011156971238759195,0.0050102842191517664,0.010062682245175121,0.01209926440144764,0.009662847288046107,0.015195810522629801,0.01981942701199306,0.01992915632009542,0.022609082856324257]},{\"label\":\"max_bins\",\"range\":[102,254],\"values\":[113,149,254,119,238,210,210,211,201,196,187,218,175,216,202,202,188,227,165,208,189,138,243,210,223,208,196,227,184,199,169,207,219,205,229,180,196,194,202,219,234,206,214,203,189,223,192,201,247,195,183,204,204,222,212,233,208,192,199,198,190,185,189,188,175,158,138,133,123,121,118,118,117,112,135,113,122,144,102,130,128,143]},{\"label\":\"max_depth\",\"range\":[2,64],\"values\":[6,28,32,12,35,59,64,59,63,54,53,64,48,51,64,59,64,58,43,61,51,57,37,61,2,61,55,48,61,26,51,61,60,57,56,53,17,58,54,62,54,64,57,32,59,62,54,24,47,58,56,52,53,49,62,38,43,58,60,59,60,60,63,63,63,62,61,62,63,63,63,63,64,62,64,63,64,56,60,58,57,58]},{\"label\":\"max_iter\",\"range\":[107,498],\"values\":[397,107,247,380,253,322,293,470,307,332,498,200,325,216,312,350,274,438,354,273,231,150,311,271,298,258,406,170,330,283,370,268,246,312,340,313,391,298,240,191,237,255,216,325,311,340,271,211,322,302,300,347,352,409,365,260,246,295,336,337,282,323,347,349,362,377,395,390,395,428,450,465,470,465,461,487,417,439,430,390,451,385]},{\"label\":\"max_leaf_nodes\",\"range\":[20,92],\"values\":[49,92,41,88,67,22,20,23,22,29,52,20,32,32,24,28,20,45,60,27,35,25,47,26,32,41,26,40,20,29,37,25,28,24,22,23,39,31,24,45,35,25,23,20,31,29,23,26,37,30,20,24,26,22,24,28,22,31,28,27,30,35,20,20,20,21,20,21,21,20,20,22,22,26,22,22,25,22,24,27,27,23]},{\"label\":\"min_samples_leaf\",\"range\":[10,100],\"values\":[62,26,26,64,74,41,44,44,47,42,36,10,56,85,50,54,36,42,32,57,49,74,60,59,40,48,31,53,61,68,74,60,56,57,65,38,70,81,50,44,52,48,58,51,43,29,20,45,54,100,90,94,96,35,40,10,33,90,89,92,87,86,95,95,87,86,87,84,87,77,87,78,79,77,80,83,88,71,83,76,78,72]}],\"labelangle\":30,\"labelside\":\"bottom\",\"line\":{\"color\":[0.8956214804690127,0.8921250689569081,0.8960264670521884,0.8945734852878259,0.8942049843294889,0.897026811618925,0.8970699067571251,0.895881536985244,0.8967617072884999,0.8956080526436709,0.8954523564613792,0.8963500029059794,0.8963630931730145,0.8961081689511722,0.8968878301632092,0.8966561494169075,0.8965308286439798,0.8958234184813719,0.8957653413819981,0.8967700890148187,0.8960755887931864,0.8953135916953391,0.8959780379534065,0.8969307524361191,0.8957051183126122,0.8959432915061075,0.8961912568373464,0.8957590417966745,0.8963523657575552,0.8960820714353899,0.8959603636641825,0.8964290062625976,0.8966228700704031,0.8968350230979207,0.8966544796427002,0.8959008341645087,0.8961476608520952,0.8968009416066226,0.8968628000447478,0.8956064155154845,0.8956855788590882,0.8966752590340444,0.8966220818982812,0.8965977197556935,0.8961311999422962,0.8964113509785383,0.8965272434800508,0.8963507271877522,0.8956681789023432,0.8962576316353736,0.8964207078111052,0.8968793048892266,0.8963304045576391,0.8966595023431819,0.8965260240186897,0.8959059859671324,0.8967871851274426,0.8968447804461245,0.896918821856004,0.8967971347912402,0.897160949258164,0.8966920230938703,0.8974336371969538,0.8972646396268775,0.8974083908373492,0.8973528609704577,0.8975069538983144,0.8976576240610411,0.8973462941742976,0.8973870750458307,0.8977244895995863,0.8973972882069091,0.897395644773647,0.8971011794317065,0.8963527919558486,0.8971990862987465,0.8970331940035345,0.8971217115754101,0.8968438687150889,0.8973618991128932,0.8969210212251459,0.8969391570023729],\"colorbar\":{\"title\":{\"text\":\"Objective Value\"}},\"colorscale\":[[0.0,\"rgb(247,251,255)\"],[0.125,\"rgb(222,235,247)\"],[0.25,\"rgb(198,219,239)\"],[0.375,\"rgb(158,202,225)\"],[0.5,\"rgb(107,174,214)\"],[0.625,\"rgb(66,146,198)\"],[0.75,\"rgb(33,113,181)\"],[0.875,\"rgb(8,81,156)\"],[1.0,\"rgb(8,48,107)\"]],\"reversescale\":false,\"showscale\":true},\"type\":\"parcoords\"}],                        {\"title\":{\"text\":\"Parallel Coordinate Plot\"},\"template\":{\"data\":{\"histogram2dcontour\":[{\"type\":\"histogram2dcontour\",\"colorbar\":{\"outlinewidth\":0,\"ticks\":\"\"},\"colorscale\":[[0.0,\"#0d0887\"],[0.1111111111111111,\"#46039f\"],[0.2222222222222222,\"#7201a8\"],[0.3333333333333333,\"#9c179e\"],[0.4444444444444444,\"#bd3786\"],[0.5555555555555556,\"#d8576b\"],[0.6666666666666666,\"#ed7953\"],[0.7777777777777778,\"#fb9f3a\"],[0.8888888888888888,\"#fdca26\"],[1.0,\"#f0f921\"]]}],\"choropleth\":[{\"type\":\"choropleth\",\"colorbar\":{\"outlinewidth\":0,\"ticks\":\"\"}}],\"histogram2d\":[{\"type\":\"histogram2d\",\"colorbar\":{\"outlinewidth\":0,\"ticks\":\"\"},\"colorscale\":[[0.0,\"#0d0887\"],[0.1111111111111111,\"#46039f\"],[0.2222222222222222,\"#7201a8\"],[0.3333333333333333,\"#9c179e\"],[0.4444444444444444,\"#bd3786\"],[0.5555555555555556,\"#d8576b\"],[0.6666666666666666,\"#ed7953\"],[0.7777777777777778,\"#fb9f3a\"],[0.8888888888888888,\"#fdca26\"],[1.0,\"#f0f921\"]]}],\"heatmap\":[{\"type\":\"heatmap\",\"colorbar\":{\"outlinewidth\":0,\"ticks\":\"\"},\"colorscale\":[[0.0,\"#0d0887\"],[0.1111111111111111,\"#46039f\"],[0.2222222222222222,\"#7201a8\"],[0.3333333333333333,\"#9c179e\"],[0.4444444444444444,\"#bd3786\"],[0.5555555555555556,\"#d8576b\"],[0.6666666666666666,\"#ed7953\"],[0.7777777777777778,\"#fb9f3a\"],[0.8888888888888888,\"#fdca26\"],[1.0,\"#f0f921\"]]}],\"heatmapgl\":[{\"type\":\"heatmapgl\",\"colorbar\":{\"outlinewidth\":0,\"ticks\":\"\"},\"colorscale\":[[0.0,\"#0d0887\"],[0.1111111111111111,\"#46039f\"],[0.2222222222222222,\"#7201a8\"],[0.3333333333333333,\"#9c179e\"],[0.4444444444444444,\"#bd3786\"],[0.5555555555555556,\"#d8576b\"],[0.6666666666666666,\"#ed7953\"],[0.7777777777777778,\"#fb9f3a\"],[0.8888888888888888,\"#fdca26\"],[1.0,\"#f0f921\"]]}],\"contourcarpet\":[{\"type\":\"contourcarpet\",\"colorbar\":{\"outlinewidth\":0,\"ticks\":\"\"}}],\"contour\":[{\"type\":\"contour\",\"colorbar\":{\"outlinewidth\":0,\"ticks\":\"\"},\"colorscale\":[[0.0,\"#0d0887\"],[0.1111111111111111,\"#46039f\"],[0.2222222222222222,\"#7201a8\"],[0.3333333333333333,\"#9c179e\"],[0.4444444444444444,\"#bd3786\"],[0.5555555555555556,\"#d8576b\"],[0.6666666666666666,\"#ed7953\"],[0.7777777777777778,\"#fb9f3a\"],[0.8888888888888888,\"#fdca26\"],[1.0,\"#f0f921\"]]}],\"surface\":[{\"type\":\"surface\",\"colorbar\":{\"outlinewidth\":0,\"ticks\":\"\"},\"colorscale\":[[0.0,\"#0d0887\"],[0.1111111111111111,\"#46039f\"],[0.2222222222222222,\"#7201a8\"],[0.3333333333333333,\"#9c179e\"],[0.4444444444444444,\"#bd3786\"],[0.5555555555555556,\"#d8576b\"],[0.6666666666666666,\"#ed7953\"],[0.7777777777777778,\"#fb9f3a\"],[0.8888888888888888,\"#fdca26\"],[1.0,\"#f0f921\"]]}],\"mesh3d\":[{\"type\":\"mesh3d\",\"colorbar\":{\"outlinewidth\":0,\"ticks\":\"\"}}],\"scatter\":[{\"fillpattern\":{\"fillmode\":\"overlay\",\"size\":10,\"solidity\":0.2},\"type\":\"scatter\"}],\"parcoords\":[{\"type\":\"parcoords\",\"line\":{\"colorbar\":{\"outlinewidth\":0,\"ticks\":\"\"}}}],\"scatterpolargl\":[{\"type\":\"scatterpolargl\",\"marker\":{\"colorbar\":{\"outlinewidth\":0,\"ticks\":\"\"}}}],\"bar\":[{\"error_x\":{\"color\":\"#2a3f5f\"},\"error_y\":{\"color\":\"#2a3f5f\"},\"marker\":{\"line\":{\"color\":\"#E5ECF6\",\"width\":0.5},\"pattern\":{\"fillmode\":\"overlay\",\"size\":10,\"solidity\":0.2}},\"type\":\"bar\"}],\"scattergeo\":[{\"type\":\"scattergeo\",\"marker\":{\"colorbar\":{\"outlinewidth\":0,\"ticks\":\"\"}}}],\"scatterpolar\":[{\"type\":\"scatterpolar\",\"marker\":{\"colorbar\":{\"outlinewidth\":0,\"ticks\":\"\"}}}],\"histogram\":[{\"marker\":{\"pattern\":{\"fillmode\":\"overlay\",\"size\":10,\"solidity\":0.2}},\"type\":\"histogram\"}],\"scattergl\":[{\"type\":\"scattergl\",\"marker\":{\"colorbar\":{\"outlinewidth\":0,\"ticks\":\"\"}}}],\"scatter3d\":[{\"type\":\"scatter3d\",\"line\":{\"colorbar\":{\"outlinewidth\":0,\"ticks\":\"\"}},\"marker\":{\"colorbar\":{\"outlinewidth\":0,\"ticks\":\"\"}}}],\"scattermapbox\":[{\"type\":\"scattermapbox\",\"marker\":{\"colorbar\":{\"outlinewidth\":0,\"ticks\":\"\"}}}],\"scatterternary\":[{\"type\":\"scatterternary\",\"marker\":{\"colorbar\":{\"outlinewidth\":0,\"ticks\":\"\"}}}],\"scattercarpet\":[{\"type\":\"scattercarpet\",\"marker\":{\"colorbar\":{\"outlinewidth\":0,\"ticks\":\"\"}}}],\"carpet\":[{\"aaxis\":{\"endlinecolor\":\"#2a3f5f\",\"gridcolor\":\"white\",\"linecolor\":\"white\",\"minorgridcolor\":\"white\",\"startlinecolor\":\"#2a3f5f\"},\"baxis\":{\"endlinecolor\":\"#2a3f5f\",\"gridcolor\":\"white\",\"linecolor\":\"white\",\"minorgridcolor\":\"white\",\"startlinecolor\":\"#2a3f5f\"},\"type\":\"carpet\"}],\"table\":[{\"cells\":{\"fill\":{\"color\":\"#EBF0F8\"},\"line\":{\"color\":\"white\"}},\"header\":{\"fill\":{\"color\":\"#C8D4E3\"},\"line\":{\"color\":\"white\"}},\"type\":\"table\"}],\"barpolar\":[{\"marker\":{\"line\":{\"color\":\"#E5ECF6\",\"width\":0.5},\"pattern\":{\"fillmode\":\"overlay\",\"size\":10,\"solidity\":0.2}},\"type\":\"barpolar\"}],\"pie\":[{\"automargin\":true,\"type\":\"pie\"}]},\"layout\":{\"autotypenumbers\":\"strict\",\"colorway\":[\"#636efa\",\"#EF553B\",\"#00cc96\",\"#ab63fa\",\"#FFA15A\",\"#19d3f3\",\"#FF6692\",\"#B6E880\",\"#FF97FF\",\"#FECB52\"],\"font\":{\"color\":\"#2a3f5f\"},\"hovermode\":\"closest\",\"hoverlabel\":{\"align\":\"left\"},\"paper_bgcolor\":\"white\",\"plot_bgcolor\":\"#E5ECF6\",\"polar\":{\"bgcolor\":\"#E5ECF6\",\"angularaxis\":{\"gridcolor\":\"white\",\"linecolor\":\"white\",\"ticks\":\"\"},\"radialaxis\":{\"gridcolor\":\"white\",\"linecolor\":\"white\",\"ticks\":\"\"}},\"ternary\":{\"bgcolor\":\"#E5ECF6\",\"aaxis\":{\"gridcolor\":\"white\",\"linecolor\":\"white\",\"ticks\":\"\"},\"baxis\":{\"gridcolor\":\"white\",\"linecolor\":\"white\",\"ticks\":\"\"},\"caxis\":{\"gridcolor\":\"white\",\"linecolor\":\"white\",\"ticks\":\"\"}},\"coloraxis\":{\"colorbar\":{\"outlinewidth\":0,\"ticks\":\"\"}},\"colorscale\":{\"sequential\":[[0.0,\"#0d0887\"],[0.1111111111111111,\"#46039f\"],[0.2222222222222222,\"#7201a8\"],[0.3333333333333333,\"#9c179e\"],[0.4444444444444444,\"#bd3786\"],[0.5555555555555556,\"#d8576b\"],[0.6666666666666666,\"#ed7953\"],[0.7777777777777778,\"#fb9f3a\"],[0.8888888888888888,\"#fdca26\"],[1.0,\"#f0f921\"]],\"sequentialminus\":[[0.0,\"#0d0887\"],[0.1111111111111111,\"#46039f\"],[0.2222222222222222,\"#7201a8\"],[0.3333333333333333,\"#9c179e\"],[0.4444444444444444,\"#bd3786\"],[0.5555555555555556,\"#d8576b\"],[0.6666666666666666,\"#ed7953\"],[0.7777777777777778,\"#fb9f3a\"],[0.8888888888888888,\"#fdca26\"],[1.0,\"#f0f921\"]],\"diverging\":[[0,\"#8e0152\"],[0.1,\"#c51b7d\"],[0.2,\"#de77ae\"],[0.3,\"#f1b6da\"],[0.4,\"#fde0ef\"],[0.5,\"#f7f7f7\"],[0.6,\"#e6f5d0\"],[0.7,\"#b8e186\"],[0.8,\"#7fbc41\"],[0.9,\"#4d9221\"],[1,\"#276419\"]]},\"xaxis\":{\"gridcolor\":\"white\",\"linecolor\":\"white\",\"ticks\":\"\",\"title\":{\"standoff\":15},\"zerolinecolor\":\"white\",\"automargin\":true,\"zerolinewidth\":2},\"yaxis\":{\"gridcolor\":\"white\",\"linecolor\":\"white\",\"ticks\":\"\",\"title\":{\"standoff\":15},\"zerolinecolor\":\"white\",\"automargin\":true,\"zerolinewidth\":2},\"scene\":{\"xaxis\":{\"backgroundcolor\":\"#E5ECF6\",\"gridcolor\":\"white\",\"linecolor\":\"white\",\"showbackground\":true,\"ticks\":\"\",\"zerolinecolor\":\"white\",\"gridwidth\":2},\"yaxis\":{\"backgroundcolor\":\"#E5ECF6\",\"gridcolor\":\"white\",\"linecolor\":\"white\",\"showbackground\":true,\"ticks\":\"\",\"zerolinecolor\":\"white\",\"gridwidth\":2},\"zaxis\":{\"backgroundcolor\":\"#E5ECF6\",\"gridcolor\":\"white\",\"linecolor\":\"white\",\"showbackground\":true,\"ticks\":\"\",\"zerolinecolor\":\"white\",\"gridwidth\":2}},\"shapedefaults\":{\"line\":{\"color\":\"#2a3f5f\"}},\"annotationdefaults\":{\"arrowcolor\":\"#2a3f5f\",\"arrowhead\":0,\"arrowwidth\":1},\"geo\":{\"bgcolor\":\"white\",\"landcolor\":\"#E5ECF6\",\"subunitcolor\":\"white\",\"showland\":true,\"showlakes\":true,\"lakecolor\":\"white\"},\"title\":{\"x\":0.05},\"mapbox\":{\"style\":\"light\"}}}},                        {\"responsive\": true}                    )                };                            </script>        </div>"
      ],
      "text/plain": [
       "Figure({\n",
       "    'data': [{'dimensions': [{'label': 'Objective Value',\n",
       "                              'range': [0.8921250689569081, 0.8977244895995863],\n",
       "                              'values': [0.8956214804690127, 0.8921250689569081,\n",
       "                                         0.8960264670521884, 0.8945734852878259,\n",
       "                                         0.8942049843294889, 0.897026811618925,\n",
       "                                         0.8970699067571251, 0.895881536985244,\n",
       "                                         0.8967617072884999, 0.8956080526436709,\n",
       "                                         0.8954523564613792, 0.8963500029059794,\n",
       "                                         0.8963630931730145, 0.8961081689511722,\n",
       "                                         0.8968878301632092, 0.8966561494169075,\n",
       "                                         0.8965308286439798, 0.8958234184813719,\n",
       "                                         0.8957653413819981, 0.8967700890148187,\n",
       "                                         0.8960755887931864, 0.8953135916953391,\n",
       "                                         0.8959780379534065, 0.8969307524361191,\n",
       "                                         0.8957051183126122, 0.8959432915061075,\n",
       "                                         0.8961912568373464, 0.8957590417966745,\n",
       "                                         0.8963523657575552, 0.8960820714353899,\n",
       "                                         0.8959603636641825, 0.8964290062625976,\n",
       "                                         0.8966228700704031, 0.8968350230979207,\n",
       "                                         0.8966544796427002, 0.8959008341645087,\n",
       "                                         0.8961476608520952, 0.8968009416066226,\n",
       "                                         0.8968628000447478, 0.8956064155154845,\n",
       "                                         0.8956855788590882, 0.8966752590340444,\n",
       "                                         0.8966220818982812, 0.8965977197556935,\n",
       "                                         0.8961311999422962, 0.8964113509785383,\n",
       "                                         0.8965272434800508, 0.8963507271877522,\n",
       "                                         0.8956681789023432, 0.8962576316353736,\n",
       "                                         0.8964207078111052, 0.8968793048892266,\n",
       "                                         0.8963304045576391, 0.8966595023431819,\n",
       "                                         0.8965260240186897, 0.8959059859671324,\n",
       "                                         0.8967871851274426, 0.8968447804461245,\n",
       "                                         0.896918821856004, 0.8967971347912402,\n",
       "                                         0.897160949258164, 0.8966920230938703,\n",
       "                                         0.8974336371969538, 0.8972646396268775,\n",
       "                                         0.8974083908373492, 0.8973528609704577,\n",
       "                                         0.8975069538983144, 0.8976576240610411,\n",
       "                                         0.8973462941742976, 0.8973870750458307,\n",
       "                                         0.8977244895995863, 0.8973972882069091,\n",
       "                                         0.897395644773647, 0.8971011794317065,\n",
       "                                         0.8963527919558486, 0.8971990862987465,\n",
       "                                         0.8970331940035345, 0.8971217115754101,\n",
       "                                         0.8968438687150889, 0.8973618991128932,\n",
       "                                         0.8969210212251459, 0.8969391570023729]},\n",
       "                             {'label': 'l2_regularization',\n",
       "                              'range': [0.40274035785174345, 0.9973460531420034],\n",
       "                              'values': [0.865161119575739, 0.875982614235826,\n",
       "                                         0.7161018436816753, 0.7855851819610684,\n",
       "                                         0.9973460531420034, 0.5640635247024228,\n",
       "                                         0.5572936740053499, 0.5435079244373889,\n",
       "                                         0.5524906600643097, 0.43517055278721317,\n",
       "                                         0.5475932195410312, 0.6263182434829128,\n",
       "                                         0.6443346094709033, 0.6375854167113038,\n",
       "                                         0.5633863110845194, 0.5956995455163308,\n",
       "                                         0.49304271655883725, 0.6694903453862167,\n",
       "                                         0.5938126721553499, 0.4655412697967445,\n",
       "                                         0.5177116886918468, 0.5799692202391563,\n",
       "                                         0.5158008832069093, 0.4623982028547648,\n",
       "                                         0.44011398200485846, 0.4688027733377465,\n",
       "                                         0.5792617826754519, 0.5304318173381163,\n",
       "                                         0.48872148783348207, 0.6930041175918311,\n",
       "                                         0.5634151444027862, 0.47160039819425437,\n",
       "                                         0.5219590951892872, 0.45644844193195433,\n",
       "                                         0.40274035785174345, 0.56604806370109,\n",
       "                                         0.4347298032020788, 0.5442077780135511,\n",
       "                                         0.5123170511169008, 0.504991747958205,\n",
       "                                         0.5390027053373841, 0.48468640823508213,\n",
       "                                         0.5118373802038255, 0.4579791944829458,\n",
       "                                         0.5030315954235647, 0.6014064224422447,\n",
       "                                         0.5678520203269704, 0.48210602877750286,\n",
       "                                         0.6245966610812776, 0.5464943598015924,\n",
       "                                         0.5822474337378261, 0.4984115414698609,\n",
       "                                         0.4494081818927003, 0.42415074744209674,\n",
       "                                         0.4756919249739509, 0.4949044727944665,\n",
       "                                         0.5068205295368733, 0.5549683822447192,\n",
       "                                         0.5188611605374566, 0.5601178884188925,\n",
       "                                         0.5249617552956057, 0.5234597277054962,\n",
       "                                         0.5829542010921881, 0.5819070418226433,\n",
       "                                         0.5986839277266129, 0.592870361863843,\n",
       "                                         0.6027484279833132, 0.5873773729968689,\n",
       "                                         0.5857607315326634, 0.6400810146360082,\n",
       "                                         0.6496937198849339, 0.646718071128513,\n",
       "                                         0.6483647235647, 0.6492523546668868,\n",
       "                                         0.6590779096870938, 0.6393955926605916,\n",
       "                                         0.6055015437858473, 0.6195977312019063,\n",
       "                                         0.6595392956126553, 0.6339463429836228,\n",
       "                                         0.6829549789659567, 0.6381654903238537]},\n",
       "                             {'label': 'learning_rate',\n",
       "                              'range': [0.0050102842191517664,\n",
       "                                        0.12521503862244876],\n",
       "                              'values': [0.12521503862244876, 0.09771538956558976,\n",
       "                                         0.02379402641844969, 0.043146329153552716,\n",
       "                                         0.06618566005219409, 0.0331528965013702,\n",
       "                                         0.03359932047442103, 0.06499075170707783,\n",
       "                                         0.036790906993689386, 0.0779279433022951,\n",
       "                                         0.021509551862836984, 0.05187022273220379,\n",
       "                                         0.021441259604622752, 0.05803693414566645,\n",
       "                                         0.03493513926692644, 0.03527639971995565,\n",
       "                                         0.04967796390902403, 0.02918439177018666,\n",
       "                                         0.0143738472843572, 0.03193080333196478,\n",
       "                                         0.04389009599849103, 0.010899728842050909,\n",
       "                                         0.019719539584630217,\n",
       "                                         0.031120177863760572,\n",
       "                                         0.029428233738195163,\n",
       "                                         0.013683508830996005,\n",
       "                                         0.037020810175396275,\n",
       "                                         0.024142809239805756, 0.05125965646224879,\n",
       "                                         0.028886349591778934,\n",
       "                                         0.013187641008178153, 0.03258297574150421,\n",
       "                                         0.03468886885208676, 0.02505024724318833,\n",
       "                                         0.024925910763382096,\n",
       "                                         0.006416087799582748, 0.01792933115684019,\n",
       "                                         0.00873605164285908, 0.04076930937059847,\n",
       "                                         0.04135259698911101, 0.058641475781357255,\n",
       "                                         0.0250359042334806, 0.03866787136189545,\n",
       "                                         0.04732475984305362, 0.03829671697284871,\n",
       "                                         0.026584418305940195,\n",
       "                                         0.033411539274183215, 0.05478890382517166,\n",
       "                                         0.04575651996990049, 0.007238644633192508,\n",
       "                                         0.007727856207485978, 0.02939281553485525,\n",
       "                                         0.029609873969326475,\n",
       "                                         0.038920072222457774,\n",
       "                                         0.033555840307386224, 0.02284179440989774,\n",
       "                                         0.028227461521850742,\n",
       "                                         0.016537053862658434,\n",
       "                                         0.014833420541462836,\n",
       "                                         0.013289101002367888, 0.01708079104882631,\n",
       "                                         0.02019418893097169, 0.03230886784318135,\n",
       "                                         0.030788157358408497, 0.0360093586720861,\n",
       "                                         0.011070380264567588, 0.01225852923259915,\n",
       "                                         0.01157733390664717, 0.011296866870427734,\n",
       "                                         0.010722109806039298,\n",
       "                                         0.010334329050417028,\n",
       "                                         0.010515355452917974,\n",
       "                                         0.009561920904449434,\n",
       "                                         0.011156971238759195,\n",
       "                                         0.0050102842191517664,\n",
       "                                         0.010062682245175121, 0.01209926440144764,\n",
       "                                         0.009662847288046107,\n",
       "                                         0.015195810522629801, 0.01981942701199306,\n",
       "                                         0.01992915632009542, 0.022609082856324257]},\n",
       "                             {'label': 'max_bins',\n",
       "                              'range': [102, 254],\n",
       "                              'values': [113, 149, 254, 119, 238, 210, 210, 211,\n",
       "                                         201, 196, 187, 218, 175, 216, 202, 202,\n",
       "                                         188, 227, 165, 208, 189, 138, 243, 210,\n",
       "                                         223, 208, 196, 227, 184, 199, 169, 207,\n",
       "                                         219, 205, 229, 180, 196, 194, 202, 219,\n",
       "                                         234, 206, 214, 203, 189, 223, 192, 201,\n",
       "                                         247, 195, 183, 204, 204, 222, 212, 233,\n",
       "                                         208, 192, 199, 198, 190, 185, 189, 188,\n",
       "                                         175, 158, 138, 133, 123, 121, 118, 118,\n",
       "                                         117, 112, 135, 113, 122, 144, 102, 130,\n",
       "                                         128, 143]},\n",
       "                             {'label': 'max_depth',\n",
       "                              'range': [2, 64],\n",
       "                              'values': [6, 28, 32, 12, 35, 59, 64, 59, 63, 54,\n",
       "                                         53, 64, 48, 51, 64, 59, 64, 58, 43, 61,\n",
       "                                         51, 57, 37, 61, 2, 61, 55, 48, 61, 26, 51,\n",
       "                                         61, 60, 57, 56, 53, 17, 58, 54, 62, 54,\n",
       "                                         64, 57, 32, 59, 62, 54, 24, 47, 58, 56,\n",
       "                                         52, 53, 49, 62, 38, 43, 58, 60, 59, 60,\n",
       "                                         60, 63, 63, 63, 62, 61, 62, 63, 63, 63,\n",
       "                                         63, 64, 62, 64, 63, 64, 56, 60, 58, 57,\n",
       "                                         58]},\n",
       "                             {'label': 'max_iter',\n",
       "                              'range': [107, 498],\n",
       "                              'values': [397, 107, 247, 380, 253, 322, 293, 470,\n",
       "                                         307, 332, 498, 200, 325, 216, 312, 350,\n",
       "                                         274, 438, 354, 273, 231, 150, 311, 271,\n",
       "                                         298, 258, 406, 170, 330, 283, 370, 268,\n",
       "                                         246, 312, 340, 313, 391, 298, 240, 191,\n",
       "                                         237, 255, 216, 325, 311, 340, 271, 211,\n",
       "                                         322, 302, 300, 347, 352, 409, 365, 260,\n",
       "                                         246, 295, 336, 337, 282, 323, 347, 349,\n",
       "                                         362, 377, 395, 390, 395, 428, 450, 465,\n",
       "                                         470, 465, 461, 487, 417, 439, 430, 390,\n",
       "                                         451, 385]},\n",
       "                             {'label': 'max_leaf_nodes',\n",
       "                              'range': [20, 92],\n",
       "                              'values': [49, 92, 41, 88, 67, 22, 20, 23, 22, 29,\n",
       "                                         52, 20, 32, 32, 24, 28, 20, 45, 60, 27,\n",
       "                                         35, 25, 47, 26, 32, 41, 26, 40, 20, 29,\n",
       "                                         37, 25, 28, 24, 22, 23, 39, 31, 24, 45,\n",
       "                                         35, 25, 23, 20, 31, 29, 23, 26, 37, 30,\n",
       "                                         20, 24, 26, 22, 24, 28, 22, 31, 28, 27,\n",
       "                                         30, 35, 20, 20, 20, 21, 20, 21, 21, 20,\n",
       "                                         20, 22, 22, 26, 22, 22, 25, 22, 24, 27,\n",
       "                                         27, 23]},\n",
       "                             {'label': 'min_samples_leaf',\n",
       "                              'range': [10, 100],\n",
       "                              'values': [62, 26, 26, 64, 74, 41, 44, 44, 47, 42,\n",
       "                                         36, 10, 56, 85, 50, 54, 36, 42, 32, 57,\n",
       "                                         49, 74, 60, 59, 40, 48, 31, 53, 61, 68,\n",
       "                                         74, 60, 56, 57, 65, 38, 70, 81, 50, 44,\n",
       "                                         52, 48, 58, 51, 43, 29, 20, 45, 54, 100,\n",
       "                                         90, 94, 96, 35, 40, 10, 33, 90, 89, 92,\n",
       "                                         87, 86, 95, 95, 87, 86, 87, 84, 87, 77,\n",
       "                                         87, 78, 79, 77, 80, 83, 88, 71, 83, 76,\n",
       "                                         78, 72]}],\n",
       "              'labelangle': 30,\n",
       "              'labelside': 'bottom',\n",
       "              'line': {'color': [0.8956214804690127, 0.8921250689569081,\n",
       "                                 0.8960264670521884, 0.8945734852878259,\n",
       "                                 0.8942049843294889, 0.897026811618925,\n",
       "                                 0.8970699067571251, 0.895881536985244,\n",
       "                                 0.8967617072884999, 0.8956080526436709,\n",
       "                                 0.8954523564613792, 0.8963500029059794,\n",
       "                                 0.8963630931730145, 0.8961081689511722,\n",
       "                                 0.8968878301632092, 0.8966561494169075,\n",
       "                                 0.8965308286439798, 0.8958234184813719,\n",
       "                                 0.8957653413819981, 0.8967700890148187,\n",
       "                                 0.8960755887931864, 0.8953135916953391,\n",
       "                                 0.8959780379534065, 0.8969307524361191,\n",
       "                                 0.8957051183126122, 0.8959432915061075,\n",
       "                                 0.8961912568373464, 0.8957590417966745,\n",
       "                                 0.8963523657575552, 0.8960820714353899,\n",
       "                                 0.8959603636641825, 0.8964290062625976,\n",
       "                                 0.8966228700704031, 0.8968350230979207,\n",
       "                                 0.8966544796427002, 0.8959008341645087,\n",
       "                                 0.8961476608520952, 0.8968009416066226,\n",
       "                                 0.8968628000447478, 0.8956064155154845,\n",
       "                                 0.8956855788590882, 0.8966752590340444,\n",
       "                                 0.8966220818982812, 0.8965977197556935,\n",
       "                                 0.8961311999422962, 0.8964113509785383,\n",
       "                                 0.8965272434800508, 0.8963507271877522,\n",
       "                                 0.8956681789023432, 0.8962576316353736,\n",
       "                                 0.8964207078111052, 0.8968793048892266,\n",
       "                                 0.8963304045576391, 0.8966595023431819,\n",
       "                                 0.8965260240186897, 0.8959059859671324,\n",
       "                                 0.8967871851274426, 0.8968447804461245,\n",
       "                                 0.896918821856004, 0.8967971347912402,\n",
       "                                 0.897160949258164, 0.8966920230938703,\n",
       "                                 0.8974336371969538, 0.8972646396268775,\n",
       "                                 0.8974083908373492, 0.8973528609704577,\n",
       "                                 0.8975069538983144, 0.8976576240610411,\n",
       "                                 0.8973462941742976, 0.8973870750458307,\n",
       "                                 0.8977244895995863, 0.8973972882069091,\n",
       "                                 0.897395644773647, 0.8971011794317065,\n",
       "                                 0.8963527919558486, 0.8971990862987465,\n",
       "                                 0.8970331940035345, 0.8971217115754101,\n",
       "                                 0.8968438687150889, 0.8973618991128932,\n",
       "                                 0.8969210212251459, 0.8969391570023729],\n",
       "                       'colorbar': {'title': {'text': 'Objective Value'}},\n",
       "                       'colorscale': [[0.0, 'rgb(247,251,255)'], [0.125,\n",
       "                                      'rgb(222,235,247)'], [0.25,\n",
       "                                      'rgb(198,219,239)'], [0.375,\n",
       "                                      'rgb(158,202,225)'], [0.5,\n",
       "                                      'rgb(107,174,214)'], [0.625,\n",
       "                                      'rgb(66,146,198)'], [0.75,\n",
       "                                      'rgb(33,113,181)'], [0.875, 'rgb(8,81,156)'],\n",
       "                                      [1.0, 'rgb(8,48,107)']],\n",
       "                       'reversescale': False,\n",
       "                       'showscale': True},\n",
       "              'type': 'parcoords'}],\n",
       "    'layout': {'template': '...', 'title': {'text': 'Parallel Coordinate Plot'}}\n",
       "})"
      ]
     },
     "execution_count": 47,
     "metadata": {},
     "output_type": "execute_result"
    }
   ],
   "source": [
    "optuna.visualization.plot_parallel_coordinate(study)"
   ]
  },
  {
   "cell_type": "markdown",
   "metadata": {},
   "source": [
    "# Ensembling"
   ]
  },
  {
   "cell_type": "code",
   "execution_count": null,
   "metadata": {},
   "outputs": [],
   "source": [
    "%%time\n",
    "\n",
    "model1_results, model2_results, model3_results, model4_results, model5_results, model6_results, y_test_list = [], [], [], [], [], [], []\n",
    "\n",
    "\n",
    "for i, (train_index, test_index) in enumerate(sk10.split(X, y)):\n",
    "    X_train_lgbm, X_test_lgbm = X_lgbm.iloc[train_index], X_lgbm.iloc[test_index]\n",
    "    X_train_xgb, X_test_xgb = X_xgb.iloc[train_index], X_xgb.iloc[test_index]\n",
    "    X_train_rf, X_test_rf = X_rf.iloc[train_index], X_rf.iloc[test_index]\n",
    "    X_train_extrat, X_test_extrat = X_extrat.iloc[train_index], X_extrat.iloc[test_index]\n",
    "    X_train_hist, X_test_hist = X_hist.iloc[train_index], X_hist.iloc[test_index]\n",
    "    X_train_cat, X_test_cat = X_cat.iloc[train_index], X_cat.iloc[test_index]\n",
    "    y_train, y_test = y.iloc[train_index], y.iloc[test_index]\n",
    "\n",
    "    model1.fit(X_train_lgbm, y_train)\n",
    "    model1_results.append(model1.predict_proba(X_test_lgbm))\n",
    "\n",
    "    model2.fit(X_train_xgb, y_train)\n",
    "    model2_results.append(model2.predict_proba(X_test_xgb))\n",
    "\n",
    "    model3.fit(X_train_rf, y_train)\n",
    "    model3_results.append(model3.predict_proba(X_test_rf))\n",
    "\n",
    "    model4.fit(X_train_extrat, y_train)\n",
    "    model4_results.append(model4.predict_proba(X_test_extrat))\n",
    "\n",
    "    model5.fit(X_train_hist, y_train)\n",
    "    model5_results.append(model5.predict_proba(X_test_hist))\n",
    "\n",
    "    model6.fit(X_train_cat, y_train)\n",
    "    model6_results.append(model6.predict_proba(X_test_cat))\n",
    "\n",
    "    # y_test_list.append(y_test)\n",
    "\n",
    "    print(f'Done with fold {i+1}.')"
   ]
  },
  {
   "cell_type": "code",
   "execution_count": null,
   "metadata": {},
   "outputs": [],
   "source": [
    "%%time\n",
    "\n",
    "model1_weights, model2_weights, model3_weights, model4_weights, model5_weights, model6_weights, scores = [], [], [], [], [], [], []\n",
    "\n",
    "for i in tqdm(range(20000)):\n",
    "    weight_1 = np.random.random_sample(size=1)[0]\n",
    "    weight_2 = np.random.random_sample(size=1)[0]\n",
    "    weight_3 = np.random.random_sample(size=1)[0]\n",
    "    weight_4 = np.random.random_sample(size=1)[0]\n",
    "    weight_5 = np.random.random_sample(size=1)[0]\n",
    "    weight_6 = np.random.random_sample(size=1)[0]\n",
    "\n",
    "    model1_weights.append(weight_1)\n",
    "    model2_weights.append(weight_2)\n",
    "    model3_weights.append(weight_3)\n",
    "    model4_weights.append(weight_4)\n",
    "    model5_weights.append(weight_5)\n",
    "    model6_weights.append(weight_6)\n",
    "\n",
    "    scores_in = []\n",
    "\n",
    "    for j in range(n_splits):\n",
    "        weighted_pred = weight_1 * model1_results[j] + weight_2 * model2_results[j] + weight_3 * model3_results[j] + weight_4 * model4_results[j] + weight_5 * model5_results[j] + weight_6 * model6_results[j]\n",
    "        weighted_pred_normalized = weighted_pred / np.sum(weighted_pred, axis=1, keepdims=True)\n",
    "        scores_in.append(roc_auc_score(y_test_list[j], weighted_pred_normalized, multi_class='ovr'))\n",
    "        \n",
    "    scores.append(np.mean(scores_in))"
   ]
  },
  {
   "cell_type": "code",
   "execution_count": null,
   "metadata": {},
   "outputs": [],
   "source": [
    "results_df = pd.DataFrame()\n",
    "results_df['model_1'] = model1_weights\n",
    "results_df['model_2'] = model2_weights\n",
    "results_df['model_3'] = model3_weights\n",
    "results_df['model_4'] = model4_weights\n",
    "results_df['model_5'] = model5_weights\n",
    "results_df['model_6'] = model6_weights\n",
    "results_df['score'] = scores\n",
    "results_df = results_df.sort_values(by='score', ascending=False).reset_index(drop=True)\n",
    "results_df.head(10)"
   ]
  },
  {
   "cell_type": "markdown",
   "metadata": {},
   "source": [
    "# Get Submission (Random Weight Ensemble)"
   ]
  },
  {
   "cell_type": "code",
   "execution_count": null,
   "metadata": {},
   "outputs": [],
   "source": [
    "%%time\n",
    "\n",
    "model1_final = model1.fit(X_lgbm, y)\n",
    "model2_final = model2.fit(X_xgb, y)\n",
    "model3_final = model3.fit(X_rf, y)\n",
    "model4_final = model4.fit(X_extrat, y)\n",
    "model5_final = model5.fit(X_hist, y)\n",
    "model6_final = model6.fit(X_cat, y)"
   ]
  },
  {
   "cell_type": "code",
   "execution_count": null,
   "metadata": {},
   "outputs": [],
   "source": [
    "ensemble_pred = (\n",
    "                results_df['model_1'][0] * model1_final.predict_proba(test[model1_feats]) +\n",
    "                results_df['model_2'][0] * model2_final.predict_proba(test[model2_feats]) +\n",
    "                results_df['model_3'][0] * model3_final.predict_proba(test[model3_feats]) +\n",
    "                results_df['model_4'][0] * model4_final.predict_proba(test[model4_feats]) +\n",
    "                results_df['model_5'][0] * model5_final.predict_proba(test[model5_feats]) +\n",
    "                results_df['model_6'][0] * model6_final.predict_proba(test[model6_feats])\n",
    "                 )\n",
    "\n",
    "ensemble_df = pd.DataFrame(ensemble_pred)\n",
    "\n",
    "# If all models predict 0, instead of getting NaN, fill in 0\n",
    "ensemble_df = ensemble_df.div(ensemble_df.sum(axis=1), axis=0).fillna(0)\n",
    "ensemble_df.columns = label_encoder.classes_"
   ]
  },
  {
   "cell_type": "code",
   "execution_count": null,
   "metadata": {},
   "outputs": [],
   "source": [
    "ensemble_df.head()"
   ]
  },
  {
   "cell_type": "code",
   "execution_count": null,
   "metadata": {},
   "outputs": [],
   "source": [
    "submission = pd.read_csv('sample_submission.csv')\n",
    "submission_df = pd.concat([submission['id'], ensemble_df], axis=1)\n",
    "submission_df.head()"
   ]
  },
  {
   "cell_type": "code",
   "execution_count": null,
   "metadata": {},
   "outputs": [],
   "source": [
    "submission_df.to_csv('submission_ensemble_3fold_0.900483.csv', index=False)"
   ]
  },
  {
   "cell_type": "markdown",
   "metadata": {},
   "source": [
    "# Get submission (Stacking)"
   ]
  },
  {
   "cell_type": "code",
   "execution_count": null,
   "metadata": {},
   "outputs": [],
   "source": [
    "%%time\n",
    "\n",
    "from sklearn.ensemble import StackingClassifier\n",
    "from sklearn.model_selection import cross_val_score, train_test_split\n",
    "from sklearn.linear_model import LogisticRegression\n",
    "from sklearn.metrics import roc_auc_score\n",
    "from sklearn.preprocessing import label_binarize\n",
    "from sklearn.multiclass import OneVsRestClassifier\n",
    "import numpy as np\n",
    "\n",
    "\n",
    "roc_auc_scores = []\n",
    "\n",
    "# Define the base models\n",
    "base_models = [\n",
    "    ('model1', model1_final),\n",
    "    ('model2', model2_final),\n",
    "    ('model3', model3_final),\n",
    "    ('model4', model4_final),\n",
    "    ('model5', model5_final),\n",
    "    ('model6', model6_final)\n",
    "]\n",
    "\n",
    "# Initialize the Stacking Classifier with LogisticRegression as the final estimator\n",
    "final_estimator = LogisticRegression(max_iter=1000, multi_class='multinomial', solver='lbfgs')\n",
    "# final_estimator = LGBMClassifier(n_jobs=-1, random_state=5)\n",
    "# final_estimator = XGBClassifier(random_state=5)\n",
    "# final_estimator = RandomForestClassifier(random_state=5)\n",
    "# final_estimator = ExtraTreesClassifier(random_state=5)\n",
    "# final_estimator = HistGradientBoostingClassifier(random_state=5)\n",
    "# final_estimator = CatBoostClassifier(random_state=5, verbose=False, early_stopping_rounds=100)\n",
    "\n",
    "stacking_clf = StackingClassifier(estimators=base_models, final_estimator=final_estimator, passthrough=False, cv=3)\n",
    "\n",
    "for i, (train_index, test_index) in enumerate(sk10.split(X, y)):\n",
    "    X_train, X_test = X.iloc[train_index], X.iloc[test_index]\n",
    "    y_train, y_test = y.iloc[train_index], y.iloc[test_index]\n",
    "\n",
    "    stacking_clf.fit(X_train, y_train)\n",
    "    y_pred = stacking_clf.predict_proba(X_test)\n",
    "\n",
    "    # Assuming your classes are 0, 1, 2, etc., adjust as necessary\n",
    "    y_test_binarized = label_binarize(y_test, classes=np.unique(y))\n",
    "    roc_auc = roc_auc_score(y_test_binarized, y_pred, multi_class='ovr')\n",
    "\n",
    "    roc_auc_scores.append(roc_auc)\n",
    "\n",
    "    print(f'Done with fold {i+1}.')\n",
    "    \n",
    "print(f'The average stacking score is {np.mean(roc_auc_scores)}')"
   ]
  },
  {
   "cell_type": "markdown",
   "metadata": {},
   "source": [
    "- Logistic Reg - 0.886778\n",
    "- LGBM - 0.885863\n",
    "- XGB - 0.881636\n",
    "- RF - 0.883835\n",
    "- ET - 0.884523\n",
    "- Hist - 0.886572\n",
    "- Cat - 0.886183"
   ]
  },
  {
   "cell_type": "code",
   "execution_count": null,
   "metadata": {},
   "outputs": [],
   "source": [
    "# Predictions on unseen test data\n",
    "y_test_pred = stacking_clf.predict_proba(test)\n",
    "\n",
    "stacking_df = pd.DataFrame(y_test_pred)\n",
    "\n",
    "ensemble_df.head()"
   ]
  },
  {
   "cell_type": "code",
   "execution_count": null,
   "metadata": {},
   "outputs": [],
   "source": [
    "%%time\n",
    "\n",
    "model1_results, model2_results, model3_results, model4_results, model5_results, model6_results, y_test_list = [], [], [], [], [], [], []\n",
    "\n",
    "# # Placeholder for OOF predictions for each model\n",
    "# # Assuming you have a dataset with N samples\n",
    "# N = len(y)  # y_train is your target variable array\n",
    "# oof_preds1 = np.zeros((N, 1))\n",
    "# oof_preds2 = np.zeros((N, 1))\n",
    "# oof_preds3 = np.zeros((N, 1))\n",
    "# oof_preds4 = np.zeros((N, 1))\n",
    "# oof_preds5 = np.zeros((N, 1))\n",
    "# oof_preds6 = np.zeros((N, 1))\n",
    "\n",
    "# # Similarly, for test predictions, accumulate them over folds\n",
    "# # Assuming you have a test set with M samples\n",
    "# M = len(test)  # x_test needs to be defined by you\n",
    "# test_preds1 = np.zeros((M, 1))\n",
    "# test_preds2 = np.zeros((M, 1))\n",
    "# test_preds3 = np.zeros((M, 1))\n",
    "# test_preds4 = np.zeros((M, 1))\n",
    "# test_preds5 = np.zeros((M, 1))\n",
    "# test_preds6 = np.zeros((M, 1))\n",
    "\n",
    "target_length = len(y)\n",
    "no_classes = len(np.unique(y))\n",
    "test_length = len(test)\n",
    "\n",
    "# Initialize arrays for OOF and test predictions with dimensions for multiclass for each model\n",
    "lgbm_oof_preds = np.zeros((target_length, no_classes))\n",
    "lgbm_test_preds = np.zeros((test_length, no_classes))\n",
    "\n",
    "xgb_oof_preds = np.zeros((target_length, no_classes))\n",
    "xgb_test_preds = np.zeros((test_length, no_classes))\n",
    "\n",
    "rf_oof_preds = np.zeros((target_length, no_classes))\n",
    "rf_test_preds = np.zeros((test_length, no_classes))\n",
    "\n",
    "extrat_oof_preds = np.zeros((target_length, no_classes))\n",
    "extrat_test_preds = np.zeros((test_length, no_classes))\n",
    "\n",
    "hist_oof_preds = np.zeros((target_length, no_classes))\n",
    "hist_test_preds = np.zeros((test_length, no_classes))\n",
    "\n",
    "cat_oof_preds = np.zeros((target_length, no_classes))\n",
    "cat_test_preds = np.zeros((test_length, no_classes))\n",
    "\n",
    "X_lgbm = X[model1_feats]\n",
    "X_xgb = X[model2_feats]\n",
    "X_rf = X[model3_feats]\n",
    "X_extrat = X[model4_feats]\n",
    "X_hist = X[model5_feats]\n",
    "X_cat = X[model6_feats]\n"
   ]
  },
  {
   "cell_type": "code",
   "execution_count": null,
   "metadata": {},
   "outputs": [],
   "source": [
    "\n",
    "for i, (train_index, test_index) in enumerate(sk10.split(X, y)):\n",
    "\n",
    "    # Placeholder arrays for the fold's predicition\n",
    "    fold_oof_preds_lgbm = np.zeros((len(test_index), no_classes))\n",
    "    fold_test_preds_lgbm = np.zeros((test_length, no_classes))\n",
    "\n",
    "    fold_oof_preds_xgb = np.zeros((len(test_index), no_classes))\n",
    "    fold_test_preds_xgb = np.zeros((test_length, no_classes))\n",
    "\n",
    "    fold_oof_preds_rf = np.zeros((len(test_index), no_classes))\n",
    "    fold_test_preds_rf = np.zeros((test_length, no_classes))\n",
    "\n",
    "    fold_oof_preds_extrat = np.zeros((len(test_index), no_classes))\n",
    "    fold_test_preds_extrat = np.zeros((test_length, no_classes))\n",
    "\n",
    "    fold_oof_preds_hist = np.zeros((len(test_index), no_classes))\n",
    "    fold_test_preds_hist = np.zeros((test_length, no_classes))\n",
    "\n",
    "    fold_oof_preds_cat = np.zeros((len(test_index), no_classes))\n",
    "    fold_test_preds_cat = np.zeros((test_length, no_classes))\n",
    "\n",
    "    # Get each models train and test for X and y\n",
    "    X_train_lgbm, X_test_lgbm = X_lgbm.iloc[train_index], X_lgbm.iloc[test_index]\n",
    "    X_train_xgb, X_test_xgb = X_xgb.iloc[train_index], X_xgb.iloc[test_index]\n",
    "    X_train_rf, X_test_rf = X_rf.iloc[train_index], X_rf.iloc[test_index]\n",
    "    X_train_extrat, X_test_extrat = X_extrat.iloc[train_index], X_extrat.iloc[test_index]\n",
    "    X_train_hist, X_test_hist = X_hist.iloc[train_index], X_hist.iloc[test_index]\n",
    "    X_train_cat, X_test_cat = X_cat.iloc[train_index], X_cat.iloc[test_index]\n",
    "    y_train, y_test = y.iloc[train_index], y.iloc[test_index]\n",
    "\n",
    "    ########\n",
    "    # LGBM #\n",
    "    ########\n",
    "    model1.fit(X_train_lgbm, y_train)\n",
    "    fold_oof_preds_lgbm = model1.predict_proba(X_test_lgbm)\n",
    "\n",
    "    # Update the OOF prediction for this fold\n",
    "    lgbm_oof_preds[test_index] = fold_oof_preds_lgbm\n",
    "\n",
    "    # Predict on the test set and accumulate predictions\n",
    "    fold_test_preds_lgbm += model1.predict_proba(test.loc[:, model1_feats]) / sk10.n_splits\n",
    "\n",
    "    lgbm_test_preds += fold_test_preds_lgbm\n",
    "\n",
    "\n",
    "    ###########\n",
    "    # XGBOOST #\n",
    "    ###########\n",
    "    model2.fit(X_train_xgb, y_train)\n",
    "    fold_oof_preds_xgb = model2.predict_proba(X_test_xgb)\n",
    "\n",
    "    # Update the OOF prediction for this fold\n",
    "    xgb_oof_preds[test_index] = fold_oof_preds_xgb\n",
    "\n",
    "    # Predict on the test set and accumulate predictions\n",
    "    fold_test_preds_xgb += model2.predict_proba(test.loc[:, model2_feats]) / sk10.n_splits\n",
    "\n",
    "    xgb_test_preds += fold_test_preds_xgb\n",
    "\n",
    "\n",
    "    #################\n",
    "    # RANDOM FOREST #\n",
    "    #################\n",
    "    model3.fit(X_train_rf, y_train)\n",
    "    fold_oof_preds_rf = model3.predict_proba(X_test_rf)\n",
    "\n",
    "    # Update the OOF prediction for this fold\n",
    "    rf_oof_preds[test_index] = fold_oof_preds_rf\n",
    "\n",
    "    # Predict on the test set and accumulate predictions\n",
    "    fold_test_preds_rf += model3.predict_proba(test.loc[:, model3_feats]) / sk10.n_splits\n",
    "\n",
    "    rf_test_preds += fold_test_preds_rf\n",
    "\n",
    "    \n",
    "    ###############\n",
    "    # EXTRA TREES #\n",
    "    ###############\n",
    "    model4.fit(X_train_extrat, y_train)\n",
    "    fold_oof_preds_extrat = model4.predict_proba(X_test_extrat)\n",
    "\n",
    "    # Update the OOF prediction for this fold\n",
    "    extrat_oof_preds[test_index] = fold_oof_preds_extrat\n",
    "\n",
    "    # Predict on the test set and accumulate predictions\n",
    "    fold_test_preds_extrat += model4.predict_proba(test.loc[:, model4_feats]) / sk10.n_splits\n",
    "\n",
    "    extrat_test_preds += fold_test_preds_extrat\n",
    "\n",
    "\n",
    "    #################\n",
    "    # HIST GRADIENT #\n",
    "    #################\n",
    "    model5.fit(X_train_hist, y_train)\n",
    "    fold_oof_preds_hist = model5.predict_proba(X_test_hist)\n",
    "\n",
    "    # Update the OOF prediction for this fold\n",
    "    hist_oof_preds[test_index] = fold_oof_preds_hist\n",
    "\n",
    "    # Predict on the test set and accumulate predictions\n",
    "    fold_test_preds_hist += model5.predict_proba(test.loc[:, model5_feats]) / sk10.n_splits\n",
    "\n",
    "    hist_test_preds += fold_test_preds_hist\n",
    "\n",
    "\n",
    "    ############\n",
    "    # CATBOOST #\n",
    "    ############\n",
    "    model6.fit(X_train_cat, y_train)\n",
    "    fold_oof_preds_cat = model6.predict_proba(X_test_cat)\n",
    "\n",
    "    # Update the OOF prediction for this fold\n",
    "    cat_oof_preds[test_index] = fold_oof_preds_cat\n",
    "\n",
    "    # Predict on the test set and accumulate predictions\n",
    "    fold_test_preds_cat += model6.predict_proba(test.loc[:, model6_feats]) / sk10.n_splits\n",
    "\n",
    "    cat_test_preds += fold_test_preds_cat\n",
    "    # y_test_list.append(y_test)\n",
    "\n",
    "    print(f'Done with fold {i+1}.')"
   ]
  },
  {
   "cell_type": "code",
   "execution_count": null,
   "metadata": {},
   "outputs": [],
   "source": [
    "# roc_auc_scores = [roc_auc_score((y == class_id).astype(int), oof_preds[:, class_id], multi_class='ovr') for class_id in range(no_classes)]\n",
    "lgbm_roc_auc = roc_auc_score(y, lgbm_oof_preds, multi_class='ovr', average='macro')\n",
    "print(\"Average LGBM ROC AUC Score:\", lgbm_roc_auc)\n",
    "\n",
    "xgb_roc_auc = roc_auc_score(y, xgb_oof_preds, multi_class='ovr', average='macro')\n",
    "print(\"Average XGBoost ROC AUC Score:\", xgb_roc_auc)\n",
    "\n",
    "rf_roc_auc = roc_auc_score(y, rf_oof_preds, multi_class='ovr', average='macro')\n",
    "print(\"Average Random Forest ROC AUC Score:\", rf_roc_auc)\n",
    "\n",
    "extrat_roc_auc = roc_auc_score(y, extrat_oof_preds, multi_class='ovr', average='macro')\n",
    "print(\"Average Extra Trees ROC AUC Score:\", extrat_roc_auc)\n",
    "\n",
    "hist_roc_auc = roc_auc_score(y, hist_oof_preds, multi_class='ovr', average='macro')\n",
    "print(\"Average Hist Gradient ROC AUC Score:\", hist_roc_auc)\n",
    "\n",
    "cat_roc_auc = roc_auc_score(y, cat_oof_preds, multi_class='ovr', average='macro')\n",
    "print(\"Average CatBoost ROC AUC Score:\", cat_roc_auc)\n",
    "\n",
    "# 0.89369590207664\n",
    "# 0.00201442835387733\n",
    "# 0.886778 - StackingClassifier"
   ]
  },
  {
   "cell_type": "code",
   "execution_count": null,
   "metadata": {},
   "outputs": [],
   "source": [
    "from sklearn.linear_model import LogisticRegression\n",
    "\n",
    "# After running the fitting and prediction with the first level of machine learning models\n",
    "x_train = np.concatenate(( lgbm_oof_preds, xgb_oof_preds, rf_oof_preds, extrat_oof_preds, hist_oof_preds, cat_oof_preds), axis=1)\n",
    "test_stack = np.concatenate(( lgbm_test_preds, xgb_test_preds, rf_test_preds, extrat_test_preds, hist_test_preds, cat_test_preds), axis=1)\n",
    "\n",
    "# Assuming the second-level stacking is to be done with XGboost (pre-tuned). Yes! You can tune second-level stack\n",
    "\n",
    "stacking_estimator = LogisticRegression(max_iter=1000, multi_class='multinomial', solver='lbfgs')\n",
    "\n",
    "xgb = stacking_estimator.fit(x_train, y)\n",
    "final_predictions = xgb.predict_proba(test_stack)"
   ]
  },
  {
   "cell_type": "code",
   "execution_count": null,
   "metadata": {},
   "outputs": [],
   "source": [
    "oof_preds = np.zeros((x_train.shape[0], no_classes))\n",
    "test_preds = np.zeros(test_stack.shape[0])\n",
    "\n",
    "for i, (train_index, test_index) in enumerate(sk10.split(x_train, y)):\n",
    "    X_train, X_test = x_train[train_index], x_train[test_index]\n",
    "    y_train, y_test = y.iloc[train_index], y.iloc[test_index]\n",
    "\n",
    "    model2.fit(X_train, y_train)\n",
    "    y_pred = model2.predict_proba(X_test)\n",
    "\n",
    "    # Assign predictions for this fold to the appropriate indices in oof_preds\n",
    "    oof_preds[test_index, :] = y_pred\n",
    "    \n",
    "    print(f'Done with fold {i+1}.')\n",
    "\n",
    "# Calculate ROC AUC on the OOF predictions\n",
    "roc_auc = roc_auc_score(y, oof_preds, multi_class='ovr', average='macro')\n",
    "print(f'The stacking score is {roc_auc}')"
   ]
  },
  {
   "cell_type": "markdown",
   "metadata": {},
   "source": [
    "- Logistic Reg - 0.8883102077923056\n",
    "- LGBM - 0.8880225088607244\n",
    "- XGB - 0.8846028966376445\n",
    "- RF - \n",
    "- ET - \n",
    "- Hist - \n",
    "- Cat - "
   ]
  },
  {
   "cell_type": "code",
   "execution_count": null,
   "metadata": {},
   "outputs": [],
   "source": [
    "final_predictions_df = pd.DataFrame(final_predictions)\n",
    "final_predictions_df.columns = label_encoder.classes_"
   ]
  },
  {
   "cell_type": "code",
   "execution_count": null,
   "metadata": {},
   "outputs": [],
   "source": [
    "submission = pd.read_csv('sample_submission.csv')\n",
    "submission_df = pd.concat([submission['id'], final_predictions_df], axis=1)\n",
    "submission_df.head()"
   ]
  },
  {
   "cell_type": "code",
   "execution_count": null,
   "metadata": {},
   "outputs": [],
   "source": [
    "submission_df.to_csv('submission_stacking_3fold_0.88831.csv', index=False)"
   ]
  }
 ],
 "metadata": {
  "kernelspec": {
   "display_name": "Python 3",
   "language": "python",
   "name": "python3"
  },
  "language_info": {
   "codemirror_mode": {
    "name": "ipython",
    "version": 3
   },
   "file_extension": ".py",
   "mimetype": "text/x-python",
   "name": "python",
   "nbconvert_exporter": "python",
   "pygments_lexer": "ipython3",
   "version": "3.10.2"
  }
 },
 "nbformat": 4,
 "nbformat_minor": 2
}
