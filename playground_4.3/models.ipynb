{
 "cells": [
  {
   "cell_type": "code",
   "execution_count": 1,
   "metadata": {},
   "outputs": [],
   "source": [
    "import warnings\n",
    "warnings.filterwarnings('ignore')\n",
    "\n",
    "import pandas as pd\n",
    "import numpy as np\n",
    "import optuna\n",
    "import random\n",
    "from tqdm.notebook import tqdm\n",
    "\n",
    "from sklearn.metrics import make_scorer, roc_auc_score\n",
    "from sklearn.model_selection import StratifiedKFold, cross_validate\n",
    "from sklearn.feature_selection import RFECV, SelectKBest, f_classif\n",
    "from sklearn.ensemble import ExtraTreesClassifier, RandomForestClassifier, HistGradientBoostingClassifier\n",
    "from sklearn.preprocessing import LabelEncoder, label_binarize, StandardScaler\n",
    "from sklearn.pipeline import make_pipeline\n",
    "from sklearn.inspection import permutation_importance\n",
    "\n",
    "from mlxtend.feature_selection import SequentialFeatureSelector as SFS\n",
    "from concurrent.futures import ThreadPoolExecutor\n",
    "\n",
    "from lightgbm import LGBMClassifier\n",
    "from xgboost import XGBClassifier\n",
    "from catboost import CatBoostClassifier\n",
    "\n",
    "from pprint import pprint\n",
    "import os\n",
    "\n",
    "pd.set_option('display.max_columns', None)\n",
    "# pd.set_option('display.max_rows', None)\n",
    "\n",
    "experiment_name = 'multi-models_with_original_dataset'"
   ]
  },
  {
   "cell_type": "code",
   "execution_count": 2,
   "metadata": {},
   "outputs": [],
   "source": [
    "train = pd.read_csv('train.csv')\n",
    "original = pd.read_csv('Fault.csv', delimiter='\\t')\n",
    "test = pd.read_csv('test.csv')"
   ]
  },
  {
   "cell_type": "code",
   "execution_count": 3,
   "metadata": {},
   "outputs": [
    {
     "data": {
      "text/plain": [
       "((19219, 35), (1940, 34), (12814, 28))"
      ]
     },
     "execution_count": 3,
     "metadata": {},
     "output_type": "execute_result"
    }
   ],
   "source": [
    "train.shape, original.shape, test.shape"
   ]
  },
  {
   "cell_type": "code",
   "execution_count": 4,
   "metadata": {},
   "outputs": [
    {
     "data": {
      "text/html": [
       "<div>\n",
       "<style scoped>\n",
       "    .dataframe tbody tr th:only-of-type {\n",
       "        vertical-align: middle;\n",
       "    }\n",
       "\n",
       "    .dataframe tbody tr th {\n",
       "        vertical-align: top;\n",
       "    }\n",
       "\n",
       "    .dataframe thead th {\n",
       "        text-align: right;\n",
       "    }\n",
       "</style>\n",
       "<table border=\"1\" class=\"dataframe\">\n",
       "  <thead>\n",
       "    <tr style=\"text-align: right;\">\n",
       "      <th></th>\n",
       "      <th>X_Minimum</th>\n",
       "      <th>X_Maximum</th>\n",
       "      <th>Y_Minimum</th>\n",
       "      <th>Y_Maximum</th>\n",
       "      <th>Pixels_Areas</th>\n",
       "      <th>X_Perimeter</th>\n",
       "      <th>Y_Perimeter</th>\n",
       "      <th>Sum_of_Luminosity</th>\n",
       "      <th>Minimum_of_Luminosity</th>\n",
       "      <th>Maximum_of_Luminosity</th>\n",
       "      <th>Length_of_Conveyer</th>\n",
       "      <th>TypeOfSteel_A300</th>\n",
       "      <th>TypeOfSteel_A400</th>\n",
       "      <th>Steel_Plate_Thickness</th>\n",
       "      <th>Edges_Index</th>\n",
       "      <th>Empty_Index</th>\n",
       "      <th>Square_Index</th>\n",
       "      <th>Outside_X_Index</th>\n",
       "      <th>Edges_X_Index</th>\n",
       "      <th>Edges_Y_Index</th>\n",
       "      <th>Outside_Global_Index</th>\n",
       "      <th>LogOfAreas</th>\n",
       "      <th>Log_X_Index</th>\n",
       "      <th>Log_Y_Index</th>\n",
       "      <th>Orientation_Index</th>\n",
       "      <th>Luminosity_Index</th>\n",
       "      <th>SigmoidOfAreas</th>\n",
       "      <th>Pastry</th>\n",
       "      <th>Z_Scratch</th>\n",
       "      <th>K_Scatch</th>\n",
       "      <th>Stains</th>\n",
       "      <th>Dirtiness</th>\n",
       "      <th>Bumps</th>\n",
       "      <th>Other_Faults</th>\n",
       "    </tr>\n",
       "  </thead>\n",
       "  <tbody>\n",
       "    <tr>\n",
       "      <th>0</th>\n",
       "      <td>584</td>\n",
       "      <td>590</td>\n",
       "      <td>909972</td>\n",
       "      <td>909977</td>\n",
       "      <td>16</td>\n",
       "      <td>8</td>\n",
       "      <td>5</td>\n",
       "      <td>2274</td>\n",
       "      <td>113</td>\n",
       "      <td>140</td>\n",
       "      <td>1358</td>\n",
       "      <td>0</td>\n",
       "      <td>1</td>\n",
       "      <td>50</td>\n",
       "      <td>0.7393</td>\n",
       "      <td>0.4000</td>\n",
       "      <td>0.5000</td>\n",
       "      <td>0.0059</td>\n",
       "      <td>1.0000</td>\n",
       "      <td>1.0000</td>\n",
       "      <td>0.0</td>\n",
       "      <td>1.2041</td>\n",
       "      <td>0.9031</td>\n",
       "      <td>0.6990</td>\n",
       "      <td>-0.5000</td>\n",
       "      <td>-0.0104</td>\n",
       "      <td>0.1417</td>\n",
       "      <td>0</td>\n",
       "      <td>0</td>\n",
       "      <td>0</td>\n",
       "      <td>1</td>\n",
       "      <td>0</td>\n",
       "      <td>0</td>\n",
       "      <td>0</td>\n",
       "    </tr>\n",
       "    <tr>\n",
       "      <th>1</th>\n",
       "      <td>808</td>\n",
       "      <td>816</td>\n",
       "      <td>728350</td>\n",
       "      <td>728372</td>\n",
       "      <td>433</td>\n",
       "      <td>20</td>\n",
       "      <td>54</td>\n",
       "      <td>44478</td>\n",
       "      <td>70</td>\n",
       "      <td>111</td>\n",
       "      <td>1687</td>\n",
       "      <td>1</td>\n",
       "      <td>0</td>\n",
       "      <td>80</td>\n",
       "      <td>0.7772</td>\n",
       "      <td>0.2878</td>\n",
       "      <td>0.2581</td>\n",
       "      <td>0.0044</td>\n",
       "      <td>0.2500</td>\n",
       "      <td>1.0000</td>\n",
       "      <td>1.0</td>\n",
       "      <td>2.6365</td>\n",
       "      <td>0.7782</td>\n",
       "      <td>1.7324</td>\n",
       "      <td>0.7419</td>\n",
       "      <td>-0.2997</td>\n",
       "      <td>0.9491</td>\n",
       "      <td>0</td>\n",
       "      <td>0</td>\n",
       "      <td>0</td>\n",
       "      <td>0</td>\n",
       "      <td>0</td>\n",
       "      <td>0</td>\n",
       "      <td>1</td>\n",
       "    </tr>\n",
       "    <tr>\n",
       "      <th>2</th>\n",
       "      <td>39</td>\n",
       "      <td>192</td>\n",
       "      <td>2212076</td>\n",
       "      <td>2212144</td>\n",
       "      <td>11388</td>\n",
       "      <td>705</td>\n",
       "      <td>420</td>\n",
       "      <td>1311391</td>\n",
       "      <td>29</td>\n",
       "      <td>141</td>\n",
       "      <td>1400</td>\n",
       "      <td>0</td>\n",
       "      <td>1</td>\n",
       "      <td>40</td>\n",
       "      <td>0.0557</td>\n",
       "      <td>0.5282</td>\n",
       "      <td>0.9895</td>\n",
       "      <td>0.1077</td>\n",
       "      <td>0.2363</td>\n",
       "      <td>0.3857</td>\n",
       "      <td>0.0</td>\n",
       "      <td>4.0564</td>\n",
       "      <td>2.1790</td>\n",
       "      <td>2.2095</td>\n",
       "      <td>-0.0105</td>\n",
       "      <td>-0.0944</td>\n",
       "      <td>1.0000</td>\n",
       "      <td>0</td>\n",
       "      <td>0</td>\n",
       "      <td>1</td>\n",
       "      <td>0</td>\n",
       "      <td>0</td>\n",
       "      <td>0</td>\n",
       "      <td>0</td>\n",
       "    </tr>\n",
       "    <tr>\n",
       "      <th>3</th>\n",
       "      <td>781</td>\n",
       "      <td>789</td>\n",
       "      <td>3353146</td>\n",
       "      <td>3353173</td>\n",
       "      <td>210</td>\n",
       "      <td>16</td>\n",
       "      <td>29</td>\n",
       "      <td>3202</td>\n",
       "      <td>114</td>\n",
       "      <td>134</td>\n",
       "      <td>1387</td>\n",
       "      <td>0</td>\n",
       "      <td>1</td>\n",
       "      <td>40</td>\n",
       "      <td>0.7202</td>\n",
       "      <td>0.3333</td>\n",
       "      <td>0.3333</td>\n",
       "      <td>0.0044</td>\n",
       "      <td>0.3750</td>\n",
       "      <td>0.9310</td>\n",
       "      <td>1.0</td>\n",
       "      <td>2.3222</td>\n",
       "      <td>0.7782</td>\n",
       "      <td>1.4314</td>\n",
       "      <td>0.6667</td>\n",
       "      <td>-0.0402</td>\n",
       "      <td>0.4025</td>\n",
       "      <td>0</td>\n",
       "      <td>0</td>\n",
       "      <td>1</td>\n",
       "      <td>0</td>\n",
       "      <td>0</td>\n",
       "      <td>0</td>\n",
       "      <td>0</td>\n",
       "    </tr>\n",
       "    <tr>\n",
       "      <th>4</th>\n",
       "      <td>1540</td>\n",
       "      <td>1560</td>\n",
       "      <td>618457</td>\n",
       "      <td>618502</td>\n",
       "      <td>521</td>\n",
       "      <td>72</td>\n",
       "      <td>67</td>\n",
       "      <td>48231</td>\n",
       "      <td>82</td>\n",
       "      <td>111</td>\n",
       "      <td>1692</td>\n",
       "      <td>0</td>\n",
       "      <td>1</td>\n",
       "      <td>300</td>\n",
       "      <td>0.1211</td>\n",
       "      <td>0.5347</td>\n",
       "      <td>0.0842</td>\n",
       "      <td>0.0192</td>\n",
       "      <td>0.2105</td>\n",
       "      <td>0.9861</td>\n",
       "      <td>1.0</td>\n",
       "      <td>2.7694</td>\n",
       "      <td>1.4150</td>\n",
       "      <td>1.8808</td>\n",
       "      <td>0.9158</td>\n",
       "      <td>-0.2455</td>\n",
       "      <td>0.9998</td>\n",
       "      <td>0</td>\n",
       "      <td>0</td>\n",
       "      <td>0</td>\n",
       "      <td>0</td>\n",
       "      <td>0</td>\n",
       "      <td>0</td>\n",
       "      <td>1</td>\n",
       "    </tr>\n",
       "  </tbody>\n",
       "</table>\n",
       "</div>"
      ],
      "text/plain": [
       "   X_Minimum  X_Maximum  Y_Minimum  Y_Maximum  Pixels_Areas  X_Perimeter  \\\n",
       "0        584        590     909972     909977            16            8   \n",
       "1        808        816     728350     728372           433           20   \n",
       "2         39        192    2212076    2212144         11388          705   \n",
       "3        781        789    3353146    3353173           210           16   \n",
       "4       1540       1560     618457     618502           521           72   \n",
       "\n",
       "   Y_Perimeter  Sum_of_Luminosity  Minimum_of_Luminosity  \\\n",
       "0            5               2274                    113   \n",
       "1           54              44478                     70   \n",
       "2          420            1311391                     29   \n",
       "3           29               3202                    114   \n",
       "4           67              48231                     82   \n",
       "\n",
       "   Maximum_of_Luminosity  Length_of_Conveyer  TypeOfSteel_A300  \\\n",
       "0                    140                1358                 0   \n",
       "1                    111                1687                 1   \n",
       "2                    141                1400                 0   \n",
       "3                    134                1387                 0   \n",
       "4                    111                1692                 0   \n",
       "\n",
       "   TypeOfSteel_A400  Steel_Plate_Thickness  Edges_Index  Empty_Index  \\\n",
       "0                 1                     50       0.7393       0.4000   \n",
       "1                 0                     80       0.7772       0.2878   \n",
       "2                 1                     40       0.0557       0.5282   \n",
       "3                 1                     40       0.7202       0.3333   \n",
       "4                 1                    300       0.1211       0.5347   \n",
       "\n",
       "   Square_Index  Outside_X_Index  Edges_X_Index  Edges_Y_Index  \\\n",
       "0        0.5000           0.0059         1.0000         1.0000   \n",
       "1        0.2581           0.0044         0.2500         1.0000   \n",
       "2        0.9895           0.1077         0.2363         0.3857   \n",
       "3        0.3333           0.0044         0.3750         0.9310   \n",
       "4        0.0842           0.0192         0.2105         0.9861   \n",
       "\n",
       "   Outside_Global_Index  LogOfAreas  Log_X_Index  Log_Y_Index  \\\n",
       "0                   0.0      1.2041       0.9031       0.6990   \n",
       "1                   1.0      2.6365       0.7782       1.7324   \n",
       "2                   0.0      4.0564       2.1790       2.2095   \n",
       "3                   1.0      2.3222       0.7782       1.4314   \n",
       "4                   1.0      2.7694       1.4150       1.8808   \n",
       "\n",
       "   Orientation_Index  Luminosity_Index  SigmoidOfAreas  Pastry  Z_Scratch  \\\n",
       "0            -0.5000           -0.0104          0.1417       0          0   \n",
       "1             0.7419           -0.2997          0.9491       0          0   \n",
       "2            -0.0105           -0.0944          1.0000       0          0   \n",
       "3             0.6667           -0.0402          0.4025       0          0   \n",
       "4             0.9158           -0.2455          0.9998       0          0   \n",
       "\n",
       "   K_Scatch  Stains  Dirtiness  Bumps  Other_Faults  \n",
       "0         0       1          0      0             0  \n",
       "1         0       0          0      0             1  \n",
       "2         1       0          0      0             0  \n",
       "3         1       0          0      0             0  \n",
       "4         0       0          0      0             1  "
      ]
     },
     "execution_count": 4,
     "metadata": {},
     "output_type": "execute_result"
    }
   ],
   "source": [
    "# Remove id column and check the dataset\n",
    "train.drop('id', axis=1, inplace=True)\n",
    "train.head()"
   ]
  },
  {
   "cell_type": "code",
   "execution_count": 5,
   "metadata": {},
   "outputs": [
    {
     "data": {
      "text/html": [
       "<div>\n",
       "<style scoped>\n",
       "    .dataframe tbody tr th:only-of-type {\n",
       "        vertical-align: middle;\n",
       "    }\n",
       "\n",
       "    .dataframe tbody tr th {\n",
       "        vertical-align: top;\n",
       "    }\n",
       "\n",
       "    .dataframe thead th {\n",
       "        text-align: right;\n",
       "    }\n",
       "</style>\n",
       "<table border=\"1\" class=\"dataframe\">\n",
       "  <thead>\n",
       "    <tr style=\"text-align: right;\">\n",
       "      <th></th>\n",
       "      <th>id</th>\n",
       "      <th>X_Minimum</th>\n",
       "      <th>X_Maximum</th>\n",
       "      <th>Y_Minimum</th>\n",
       "      <th>Y_Maximum</th>\n",
       "      <th>Pixels_Areas</th>\n",
       "      <th>X_Perimeter</th>\n",
       "      <th>Y_Perimeter</th>\n",
       "      <th>Sum_of_Luminosity</th>\n",
       "      <th>Minimum_of_Luminosity</th>\n",
       "      <th>Maximum_of_Luminosity</th>\n",
       "      <th>Length_of_Conveyer</th>\n",
       "      <th>TypeOfSteel_A300</th>\n",
       "      <th>TypeOfSteel_A400</th>\n",
       "      <th>Steel_Plate_Thickness</th>\n",
       "      <th>Edges_Index</th>\n",
       "      <th>Empty_Index</th>\n",
       "      <th>Square_Index</th>\n",
       "      <th>Outside_X_Index</th>\n",
       "      <th>Edges_X_Index</th>\n",
       "      <th>Edges_Y_Index</th>\n",
       "      <th>Outside_Global_Index</th>\n",
       "      <th>LogOfAreas</th>\n",
       "      <th>Log_X_Index</th>\n",
       "      <th>Log_Y_Index</th>\n",
       "      <th>Orientation_Index</th>\n",
       "      <th>Luminosity_Index</th>\n",
       "      <th>SigmoidOfAreas</th>\n",
       "    </tr>\n",
       "  </thead>\n",
       "  <tbody>\n",
       "    <tr>\n",
       "      <th>0</th>\n",
       "      <td>19219</td>\n",
       "      <td>1015</td>\n",
       "      <td>1033</td>\n",
       "      <td>3826564</td>\n",
       "      <td>3826588</td>\n",
       "      <td>659</td>\n",
       "      <td>23</td>\n",
       "      <td>46</td>\n",
       "      <td>62357</td>\n",
       "      <td>67</td>\n",
       "      <td>127</td>\n",
       "      <td>1656</td>\n",
       "      <td>0</td>\n",
       "      <td>1</td>\n",
       "      <td>150</td>\n",
       "      <td>0.3877</td>\n",
       "      <td>0.4896</td>\n",
       "      <td>0.3273</td>\n",
       "      <td>0.0095</td>\n",
       "      <td>0.5652</td>\n",
       "      <td>1.0000</td>\n",
       "      <td>1.0</td>\n",
       "      <td>2.8410</td>\n",
       "      <td>1.1139</td>\n",
       "      <td>1.6628</td>\n",
       "      <td>0.6727</td>\n",
       "      <td>-0.2261</td>\n",
       "      <td>0.9172</td>\n",
       "    </tr>\n",
       "    <tr>\n",
       "      <th>1</th>\n",
       "      <td>19220</td>\n",
       "      <td>1257</td>\n",
       "      <td>1271</td>\n",
       "      <td>419960</td>\n",
       "      <td>419973</td>\n",
       "      <td>370</td>\n",
       "      <td>26</td>\n",
       "      <td>28</td>\n",
       "      <td>39293</td>\n",
       "      <td>92</td>\n",
       "      <td>132</td>\n",
       "      <td>1354</td>\n",
       "      <td>0</td>\n",
       "      <td>1</td>\n",
       "      <td>40</td>\n",
       "      <td>0.1629</td>\n",
       "      <td>0.4136</td>\n",
       "      <td>0.0938</td>\n",
       "      <td>0.0047</td>\n",
       "      <td>0.2414</td>\n",
       "      <td>1.0000</td>\n",
       "      <td>1.0</td>\n",
       "      <td>2.5682</td>\n",
       "      <td>0.9031</td>\n",
       "      <td>1.4472</td>\n",
       "      <td>0.9063</td>\n",
       "      <td>-0.1453</td>\n",
       "      <td>0.9104</td>\n",
       "    </tr>\n",
       "    <tr>\n",
       "      <th>2</th>\n",
       "      <td>19221</td>\n",
       "      <td>1358</td>\n",
       "      <td>1372</td>\n",
       "      <td>117715</td>\n",
       "      <td>117724</td>\n",
       "      <td>289</td>\n",
       "      <td>36</td>\n",
       "      <td>32</td>\n",
       "      <td>29386</td>\n",
       "      <td>101</td>\n",
       "      <td>134</td>\n",
       "      <td>1360</td>\n",
       "      <td>0</td>\n",
       "      <td>1</td>\n",
       "      <td>40</td>\n",
       "      <td>0.0609</td>\n",
       "      <td>0.6234</td>\n",
       "      <td>0.4762</td>\n",
       "      <td>0.0155</td>\n",
       "      <td>0.6000</td>\n",
       "      <td>0.7500</td>\n",
       "      <td>0.0</td>\n",
       "      <td>2.4609</td>\n",
       "      <td>1.3222</td>\n",
       "      <td>1.3222</td>\n",
       "      <td>-0.5238</td>\n",
       "      <td>-0.0435</td>\n",
       "      <td>0.6514</td>\n",
       "    </tr>\n",
       "    <tr>\n",
       "      <th>3</th>\n",
       "      <td>19222</td>\n",
       "      <td>158</td>\n",
       "      <td>168</td>\n",
       "      <td>232415</td>\n",
       "      <td>232440</td>\n",
       "      <td>80</td>\n",
       "      <td>10</td>\n",
       "      <td>11</td>\n",
       "      <td>8586</td>\n",
       "      <td>107</td>\n",
       "      <td>140</td>\n",
       "      <td>1690</td>\n",
       "      <td>1</td>\n",
       "      <td>0</td>\n",
       "      <td>100</td>\n",
       "      <td>0.4439</td>\n",
       "      <td>0.3333</td>\n",
       "      <td>0.8182</td>\n",
       "      <td>0.0037</td>\n",
       "      <td>0.8000</td>\n",
       "      <td>1.0000</td>\n",
       "      <td>1.0</td>\n",
       "      <td>1.9031</td>\n",
       "      <td>0.6990</td>\n",
       "      <td>1.0414</td>\n",
       "      <td>0.1818</td>\n",
       "      <td>-0.0738</td>\n",
       "      <td>0.2051</td>\n",
       "    </tr>\n",
       "    <tr>\n",
       "      <th>4</th>\n",
       "      <td>19223</td>\n",
       "      <td>559</td>\n",
       "      <td>592</td>\n",
       "      <td>544375</td>\n",
       "      <td>544389</td>\n",
       "      <td>140</td>\n",
       "      <td>19</td>\n",
       "      <td>15</td>\n",
       "      <td>15524</td>\n",
       "      <td>103</td>\n",
       "      <td>134</td>\n",
       "      <td>1688</td>\n",
       "      <td>1</td>\n",
       "      <td>0</td>\n",
       "      <td>60</td>\n",
       "      <td>0.8191</td>\n",
       "      <td>0.2619</td>\n",
       "      <td>0.4286</td>\n",
       "      <td>0.0158</td>\n",
       "      <td>0.8421</td>\n",
       "      <td>0.5333</td>\n",
       "      <td>0.0</td>\n",
       "      <td>2.1461</td>\n",
       "      <td>1.3222</td>\n",
       "      <td>1.1461</td>\n",
       "      <td>-0.5714</td>\n",
       "      <td>-0.0894</td>\n",
       "      <td>0.4170</td>\n",
       "    </tr>\n",
       "  </tbody>\n",
       "</table>\n",
       "</div>"
      ],
      "text/plain": [
       "      id  X_Minimum  X_Maximum  Y_Minimum  Y_Maximum  Pixels_Areas  \\\n",
       "0  19219       1015       1033    3826564    3826588           659   \n",
       "1  19220       1257       1271     419960     419973           370   \n",
       "2  19221       1358       1372     117715     117724           289   \n",
       "3  19222        158        168     232415     232440            80   \n",
       "4  19223        559        592     544375     544389           140   \n",
       "\n",
       "   X_Perimeter  Y_Perimeter  Sum_of_Luminosity  Minimum_of_Luminosity  \\\n",
       "0           23           46              62357                     67   \n",
       "1           26           28              39293                     92   \n",
       "2           36           32              29386                    101   \n",
       "3           10           11               8586                    107   \n",
       "4           19           15              15524                    103   \n",
       "\n",
       "   Maximum_of_Luminosity  Length_of_Conveyer  TypeOfSteel_A300  \\\n",
       "0                    127                1656                 0   \n",
       "1                    132                1354                 0   \n",
       "2                    134                1360                 0   \n",
       "3                    140                1690                 1   \n",
       "4                    134                1688                 1   \n",
       "\n",
       "   TypeOfSteel_A400  Steel_Plate_Thickness  Edges_Index  Empty_Index  \\\n",
       "0                 1                    150       0.3877       0.4896   \n",
       "1                 1                     40       0.1629       0.4136   \n",
       "2                 1                     40       0.0609       0.6234   \n",
       "3                 0                    100       0.4439       0.3333   \n",
       "4                 0                     60       0.8191       0.2619   \n",
       "\n",
       "   Square_Index  Outside_X_Index  Edges_X_Index  Edges_Y_Index  \\\n",
       "0        0.3273           0.0095         0.5652         1.0000   \n",
       "1        0.0938           0.0047         0.2414         1.0000   \n",
       "2        0.4762           0.0155         0.6000         0.7500   \n",
       "3        0.8182           0.0037         0.8000         1.0000   \n",
       "4        0.4286           0.0158         0.8421         0.5333   \n",
       "\n",
       "   Outside_Global_Index  LogOfAreas  Log_X_Index  Log_Y_Index  \\\n",
       "0                   1.0      2.8410       1.1139       1.6628   \n",
       "1                   1.0      2.5682       0.9031       1.4472   \n",
       "2                   0.0      2.4609       1.3222       1.3222   \n",
       "3                   1.0      1.9031       0.6990       1.0414   \n",
       "4                   0.0      2.1461       1.3222       1.1461   \n",
       "\n",
       "   Orientation_Index  Luminosity_Index  SigmoidOfAreas  \n",
       "0             0.6727           -0.2261          0.9172  \n",
       "1             0.9063           -0.1453          0.9104  \n",
       "2            -0.5238           -0.0435          0.6514  \n",
       "3             0.1818           -0.0738          0.2051  \n",
       "4            -0.5714           -0.0894          0.4170  "
      ]
     },
     "execution_count": 5,
     "metadata": {},
     "output_type": "execute_result"
    }
   ],
   "source": [
    "test.head()"
   ]
  },
  {
   "cell_type": "code",
   "execution_count": 6,
   "metadata": {},
   "outputs": [],
   "source": [
    "original_dataset_cols = list(train.columns)"
   ]
  },
  {
   "cell_type": "code",
   "execution_count": 7,
   "metadata": {},
   "outputs": [],
   "source": [
    "features_list = ['X_Minimum', 'X_Maximum', 'Y_Minimum', 'Y_Maximum', 'Pixels_Areas',\n",
    "                 'X_Perimeter', 'Y_Perimeter', 'Sum_of_Luminosity',\n",
    "                 'Minimum_of_Luminosity', 'Maximum_of_Luminosity', 'Length_of_Conveyer',\n",
    "                 'TypeOfSteel_A300', 'TypeOfSteel_A400', 'Steel_Plate_Thickness',\n",
    "                 'Edges_Index', 'Empty_Index', 'Square_Index', 'Outside_X_Index',\n",
    "                 'Edges_X_Index', 'Edges_Y_Index', 'Outside_Global_Index', 'LogOfAreas',\n",
    "                 'Log_X_Index', 'Log_Y_Index', 'Orientation_Index', 'Luminosity_Index',\n",
    "                 'SigmoidOfAreas']"
   ]
  },
  {
   "cell_type": "code",
   "execution_count": 8,
   "metadata": {},
   "outputs": [
    {
     "data": {
      "text/html": [
       "<div>\n",
       "<style scoped>\n",
       "    .dataframe tbody tr th:only-of-type {\n",
       "        vertical-align: middle;\n",
       "    }\n",
       "\n",
       "    .dataframe tbody tr th {\n",
       "        vertical-align: top;\n",
       "    }\n",
       "\n",
       "    .dataframe thead th {\n",
       "        text-align: right;\n",
       "    }\n",
       "</style>\n",
       "<table border=\"1\" class=\"dataframe\">\n",
       "  <thead>\n",
       "    <tr style=\"text-align: right;\">\n",
       "      <th></th>\n",
       "      <th>X_Minimum</th>\n",
       "      <th>X_Maximum</th>\n",
       "      <th>Y_Minimum</th>\n",
       "      <th>Y_Maximum</th>\n",
       "      <th>Pixels_Areas</th>\n",
       "      <th>X_Perimeter</th>\n",
       "      <th>Y_Perimeter</th>\n",
       "      <th>Sum_of_Luminosity</th>\n",
       "      <th>Minimum_of_Luminosity</th>\n",
       "      <th>Maximum_of_Luminosity</th>\n",
       "      <th>Length_of_Conveyer</th>\n",
       "      <th>TypeOfSteel_A300</th>\n",
       "      <th>TypeOfSteel_A400</th>\n",
       "      <th>Steel_Plate_Thickness</th>\n",
       "      <th>Edges_Index</th>\n",
       "      <th>Empty_Index</th>\n",
       "      <th>Square_Index</th>\n",
       "      <th>Outside_X_Index</th>\n",
       "      <th>Edges_X_Index</th>\n",
       "      <th>Edges_Y_Index</th>\n",
       "      <th>Outside_Global_Index</th>\n",
       "      <th>LogOfAreas</th>\n",
       "      <th>Log_X_Index</th>\n",
       "      <th>Log_Y_Index</th>\n",
       "      <th>Orientation_Index</th>\n",
       "      <th>Luminosity_Index</th>\n",
       "      <th>SigmoidOfAreas</th>\n",
       "      <th>Pastry</th>\n",
       "      <th>Z_Scratch</th>\n",
       "      <th>K_Scatch</th>\n",
       "      <th>Stains</th>\n",
       "      <th>Dirtiness</th>\n",
       "      <th>Bumps</th>\n",
       "      <th>Other_Faults</th>\n",
       "    </tr>\n",
       "  </thead>\n",
       "  <tbody>\n",
       "    <tr>\n",
       "      <th>0</th>\n",
       "      <td>645</td>\n",
       "      <td>651</td>\n",
       "      <td>2538079</td>\n",
       "      <td>2538108</td>\n",
       "      <td>108</td>\n",
       "      <td>10</td>\n",
       "      <td>30</td>\n",
       "      <td>11397</td>\n",
       "      <td>84</td>\n",
       "      <td>123</td>\n",
       "      <td>1687</td>\n",
       "      <td>1</td>\n",
       "      <td>0</td>\n",
       "      <td>80</td>\n",
       "      <td>0.7647</td>\n",
       "      <td>0.3793</td>\n",
       "      <td>0.2069</td>\n",
       "      <td>0.0036</td>\n",
       "      <td>0.6000</td>\n",
       "      <td>0.9667</td>\n",
       "      <td>1.0</td>\n",
       "      <td>2.0334</td>\n",
       "      <td>0.7782</td>\n",
       "      <td>1.4624</td>\n",
       "      <td>0.7931</td>\n",
       "      <td>-0.1756</td>\n",
       "      <td>0.2984</td>\n",
       "      <td>1</td>\n",
       "      <td>0</td>\n",
       "      <td>0</td>\n",
       "      <td>0</td>\n",
       "      <td>0</td>\n",
       "      <td>0</td>\n",
       "      <td>0</td>\n",
       "    </tr>\n",
       "    <tr>\n",
       "      <th>1</th>\n",
       "      <td>829</td>\n",
       "      <td>835</td>\n",
       "      <td>1553913</td>\n",
       "      <td>1553931</td>\n",
       "      <td>71</td>\n",
       "      <td>8</td>\n",
       "      <td>19</td>\n",
       "      <td>7972</td>\n",
       "      <td>99</td>\n",
       "      <td>125</td>\n",
       "      <td>1623</td>\n",
       "      <td>1</td>\n",
       "      <td>0</td>\n",
       "      <td>100</td>\n",
       "      <td>0.9710</td>\n",
       "      <td>0.3426</td>\n",
       "      <td>0.3333</td>\n",
       "      <td>0.0037</td>\n",
       "      <td>0.7500</td>\n",
       "      <td>0.9474</td>\n",
       "      <td>1.0</td>\n",
       "      <td>1.8513</td>\n",
       "      <td>0.7782</td>\n",
       "      <td>1.2553</td>\n",
       "      <td>0.6667</td>\n",
       "      <td>-0.1228</td>\n",
       "      <td>0.2150</td>\n",
       "      <td>1</td>\n",
       "      <td>0</td>\n",
       "      <td>0</td>\n",
       "      <td>0</td>\n",
       "      <td>0</td>\n",
       "      <td>0</td>\n",
       "      <td>0</td>\n",
       "    </tr>\n",
       "    <tr>\n",
       "      <th>2</th>\n",
       "      <td>853</td>\n",
       "      <td>860</td>\n",
       "      <td>369370</td>\n",
       "      <td>369415</td>\n",
       "      <td>176</td>\n",
       "      <td>13</td>\n",
       "      <td>45</td>\n",
       "      <td>18996</td>\n",
       "      <td>99</td>\n",
       "      <td>126</td>\n",
       "      <td>1353</td>\n",
       "      <td>0</td>\n",
       "      <td>1</td>\n",
       "      <td>290</td>\n",
       "      <td>0.7287</td>\n",
       "      <td>0.4413</td>\n",
       "      <td>0.1556</td>\n",
       "      <td>0.0052</td>\n",
       "      <td>0.5385</td>\n",
       "      <td>1.0000</td>\n",
       "      <td>1.0</td>\n",
       "      <td>2.2455</td>\n",
       "      <td>0.8451</td>\n",
       "      <td>1.6532</td>\n",
       "      <td>0.8444</td>\n",
       "      <td>-0.1568</td>\n",
       "      <td>0.5212</td>\n",
       "      <td>1</td>\n",
       "      <td>0</td>\n",
       "      <td>0</td>\n",
       "      <td>0</td>\n",
       "      <td>0</td>\n",
       "      <td>0</td>\n",
       "      <td>0</td>\n",
       "    </tr>\n",
       "    <tr>\n",
       "      <th>3</th>\n",
       "      <td>1289</td>\n",
       "      <td>1306</td>\n",
       "      <td>498078</td>\n",
       "      <td>498335</td>\n",
       "      <td>2409</td>\n",
       "      <td>60</td>\n",
       "      <td>260</td>\n",
       "      <td>246930</td>\n",
       "      <td>37</td>\n",
       "      <td>126</td>\n",
       "      <td>1353</td>\n",
       "      <td>0</td>\n",
       "      <td>1</td>\n",
       "      <td>185</td>\n",
       "      <td>0.0695</td>\n",
       "      <td>0.4486</td>\n",
       "      <td>0.0662</td>\n",
       "      <td>0.0126</td>\n",
       "      <td>0.2833</td>\n",
       "      <td>0.9885</td>\n",
       "      <td>1.0</td>\n",
       "      <td>3.3818</td>\n",
       "      <td>1.2305</td>\n",
       "      <td>2.4099</td>\n",
       "      <td>0.9338</td>\n",
       "      <td>-0.1992</td>\n",
       "      <td>1.0000</td>\n",
       "      <td>1</td>\n",
       "      <td>0</td>\n",
       "      <td>0</td>\n",
       "      <td>0</td>\n",
       "      <td>0</td>\n",
       "      <td>0</td>\n",
       "      <td>0</td>\n",
       "    </tr>\n",
       "    <tr>\n",
       "      <th>4</th>\n",
       "      <td>430</td>\n",
       "      <td>441</td>\n",
       "      <td>100250</td>\n",
       "      <td>100337</td>\n",
       "      <td>630</td>\n",
       "      <td>20</td>\n",
       "      <td>87</td>\n",
       "      <td>62357</td>\n",
       "      <td>64</td>\n",
       "      <td>127</td>\n",
       "      <td>1387</td>\n",
       "      <td>0</td>\n",
       "      <td>1</td>\n",
       "      <td>40</td>\n",
       "      <td>0.6200</td>\n",
       "      <td>0.3417</td>\n",
       "      <td>0.1264</td>\n",
       "      <td>0.0079</td>\n",
       "      <td>0.5500</td>\n",
       "      <td>1.0000</td>\n",
       "      <td>1.0</td>\n",
       "      <td>2.7993</td>\n",
       "      <td>1.0414</td>\n",
       "      <td>1.9395</td>\n",
       "      <td>0.8736</td>\n",
       "      <td>-0.2267</td>\n",
       "      <td>0.9874</td>\n",
       "      <td>1</td>\n",
       "      <td>0</td>\n",
       "      <td>0</td>\n",
       "      <td>0</td>\n",
       "      <td>0</td>\n",
       "      <td>0</td>\n",
       "      <td>0</td>\n",
       "    </tr>\n",
       "  </tbody>\n",
       "</table>\n",
       "</div>"
      ],
      "text/plain": [
       "   X_Minimum  X_Maximum  Y_Minimum  Y_Maximum  Pixels_Areas  X_Perimeter  \\\n",
       "0        645        651    2538079    2538108           108           10   \n",
       "1        829        835    1553913    1553931            71            8   \n",
       "2        853        860     369370     369415           176           13   \n",
       "3       1289       1306     498078     498335          2409           60   \n",
       "4        430        441     100250     100337           630           20   \n",
       "\n",
       "   Y_Perimeter  Sum_of_Luminosity  Minimum_of_Luminosity  \\\n",
       "0           30              11397                     84   \n",
       "1           19               7972                     99   \n",
       "2           45              18996                     99   \n",
       "3          260             246930                     37   \n",
       "4           87              62357                     64   \n",
       "\n",
       "   Maximum_of_Luminosity  Length_of_Conveyer  TypeOfSteel_A300  \\\n",
       "0                    123                1687                 1   \n",
       "1                    125                1623                 1   \n",
       "2                    126                1353                 0   \n",
       "3                    126                1353                 0   \n",
       "4                    127                1387                 0   \n",
       "\n",
       "   TypeOfSteel_A400  Steel_Plate_Thickness  Edges_Index  Empty_Index  \\\n",
       "0                 0                     80       0.7647       0.3793   \n",
       "1                 0                    100       0.9710       0.3426   \n",
       "2                 1                    290       0.7287       0.4413   \n",
       "3                 1                    185       0.0695       0.4486   \n",
       "4                 1                     40       0.6200       0.3417   \n",
       "\n",
       "   Square_Index  Outside_X_Index  Edges_X_Index  Edges_Y_Index  \\\n",
       "0        0.2069           0.0036         0.6000         0.9667   \n",
       "1        0.3333           0.0037         0.7500         0.9474   \n",
       "2        0.1556           0.0052         0.5385         1.0000   \n",
       "3        0.0662           0.0126         0.2833         0.9885   \n",
       "4        0.1264           0.0079         0.5500         1.0000   \n",
       "\n",
       "   Outside_Global_Index  LogOfAreas  Log_X_Index  Log_Y_Index  \\\n",
       "0                   1.0      2.0334       0.7782       1.4624   \n",
       "1                   1.0      1.8513       0.7782       1.2553   \n",
       "2                   1.0      2.2455       0.8451       1.6532   \n",
       "3                   1.0      3.3818       1.2305       2.4099   \n",
       "4                   1.0      2.7993       1.0414       1.9395   \n",
       "\n",
       "   Orientation_Index  Luminosity_Index  SigmoidOfAreas  Pastry  Z_Scratch  \\\n",
       "0             0.7931           -0.1756          0.2984       1          0   \n",
       "1             0.6667           -0.1228          0.2150       1          0   \n",
       "2             0.8444           -0.1568          0.5212       1          0   \n",
       "3             0.9338           -0.1992          1.0000       1          0   \n",
       "4             0.8736           -0.2267          0.9874       1          0   \n",
       "\n",
       "   K_Scatch  Stains  Dirtiness  Bumps  Other_Faults  \n",
       "0         0       0          0      0             0  \n",
       "1         0       0          0      0             0  \n",
       "2         0       0          0      0             0  \n",
       "3         0       0          0      0             0  \n",
       "4         0       0          0      0             0  "
      ]
     },
     "execution_count": 8,
     "metadata": {},
     "output_type": "execute_result"
    }
   ],
   "source": [
    "original.columns = original_dataset_cols\n",
    "original.head()"
   ]
  },
  {
   "cell_type": "code",
   "execution_count": 9,
   "metadata": {},
   "outputs": [],
   "source": [
    "# Concat the train and original dataset\n",
    "combined_df = pd.concat([train, original], axis=0).reset_index(drop=True)"
   ]
  },
  {
   "cell_type": "code",
   "execution_count": 10,
   "metadata": {},
   "outputs": [],
   "source": [
    "# Got function from https://www.kaggle.com/code/thomasmeiner/ps4e3-eda-feature-engineering-model\n",
    "\n",
    "def reformat_data(df: pd.DataFrame) -> pd.DataFrame:\n",
    "    target_cols = [\n",
    "        \"Pastry\", #4\n",
    "        \"Z_Scratch\", #6\n",
    "        \"K_Scatch\", #2\n",
    "        \"Stains\", #5\n",
    "        \"Dirtiness\", #1\n",
    "        \"Bumps\", #0\n",
    "        \"Other_Faults\", #3\n",
    "    ]\n",
    "    non_target_cols = df.drop(target_cols, axis=1).columns.to_list()\n",
    "    \n",
    "    binary_dfs = []\n",
    "    \n",
    "    for col in target_cols:\n",
    "        temp_df = df.loc[:, non_target_cols + [col]]\n",
    "        temp_df = temp_df.loc[temp_df[col] == 1].copy() # keep positives only\n",
    "        temp_df[col] = col # target value is class name now\n",
    "        temp_df = temp_df.rename(columns={col: \"target\"}) # make target col name uniform for final concat\n",
    "        binary_dfs.append(temp_df)\n",
    "        \n",
    "    reformatted_df = pd.concat(binary_dfs)\n",
    "    return reformatted_df"
   ]
  },
  {
   "cell_type": "code",
   "execution_count": 11,
   "metadata": {},
   "outputs": [],
   "source": [
    "# def reformat_data(df: pd.DataFrame) -> pd.DataFrame:\n",
    "#     target_cols = [\n",
    "#         \"Pastry\",\n",
    "#         \"Z_Scratch\",\n",
    "#         \"K_Scatch\",\n",
    "#         \"Stains\",\n",
    "#         \"Dirtiness\",\n",
    "#         \"Bumps\",\n",
    "#         \"Other_Faults\",\n",
    "#     ]\n",
    "#     non_target_cols = df.drop(target_cols, axis=1).columns.to_list()\n",
    "\n",
    "#     binary_dfs = []\n",
    "\n",
    "#     for col in target_cols:\n",
    "#         temp_df = df.loc[:, non_target_cols + [col]]\n",
    "#         temp_df = temp_df.loc[temp_df[col] == 1].copy() # sub sample to lowest class\n",
    "#         temp_df[col] = col # target value is class name now\n",
    "#         temp_df = temp_df.rename(columns={col: \"target\"}) # make target col name uniform for final concat\n",
    "#         binary_dfs.append(temp_df)\n",
    "\n",
    "#     # collect non_defect rows\n",
    "#     temp_df = df.loc[\n",
    "#         (df[\"Pastry\"] == 0) &\n",
    "#         (df[\"Z_Scratch\"] == 0) &\n",
    "#         (df[\"K_Scatch\"] == 0) &\n",
    "#         (df[\"Stains\"] == 0) &\n",
    "#         (df[\"Dirtiness\"] == 0) &\n",
    "#         (df[\"Bumps\"] == 0) &\n",
    "#         (df[\"Other_Faults\"] == 0)\n",
    "#     ]\n",
    "#     temp_df = temp_df.loc[: , non_target_cols]\n",
    "#     temp_df[\"target\"] = \"No defect\"\n",
    "#     binary_dfs.append(temp_df)\n",
    "\n",
    "#     reformatted_df = pd.concat(binary_dfs)\n",
    "#     return reformatted_df"
   ]
  },
  {
   "cell_type": "code",
   "execution_count": 12,
   "metadata": {},
   "outputs": [
    {
     "data": {
      "text/html": [
       "<div>\n",
       "<style scoped>\n",
       "    .dataframe tbody tr th:only-of-type {\n",
       "        vertical-align: middle;\n",
       "    }\n",
       "\n",
       "    .dataframe tbody tr th {\n",
       "        vertical-align: top;\n",
       "    }\n",
       "\n",
       "    .dataframe thead th {\n",
       "        text-align: right;\n",
       "    }\n",
       "</style>\n",
       "<table border=\"1\" class=\"dataframe\">\n",
       "  <thead>\n",
       "    <tr style=\"text-align: right;\">\n",
       "      <th></th>\n",
       "      <th>X_Minimum</th>\n",
       "      <th>X_Maximum</th>\n",
       "      <th>Y_Minimum</th>\n",
       "      <th>Y_Maximum</th>\n",
       "      <th>Pixels_Areas</th>\n",
       "      <th>X_Perimeter</th>\n",
       "      <th>Y_Perimeter</th>\n",
       "      <th>Sum_of_Luminosity</th>\n",
       "      <th>Minimum_of_Luminosity</th>\n",
       "      <th>Maximum_of_Luminosity</th>\n",
       "      <th>Length_of_Conveyer</th>\n",
       "      <th>TypeOfSteel_A300</th>\n",
       "      <th>TypeOfSteel_A400</th>\n",
       "      <th>Steel_Plate_Thickness</th>\n",
       "      <th>Edges_Index</th>\n",
       "      <th>Empty_Index</th>\n",
       "      <th>Square_Index</th>\n",
       "      <th>Outside_X_Index</th>\n",
       "      <th>Edges_X_Index</th>\n",
       "      <th>Edges_Y_Index</th>\n",
       "      <th>Outside_Global_Index</th>\n",
       "      <th>LogOfAreas</th>\n",
       "      <th>Log_X_Index</th>\n",
       "      <th>Log_Y_Index</th>\n",
       "      <th>Orientation_Index</th>\n",
       "      <th>Luminosity_Index</th>\n",
       "      <th>SigmoidOfAreas</th>\n",
       "      <th>target</th>\n",
       "    </tr>\n",
       "  </thead>\n",
       "  <tbody>\n",
       "    <tr>\n",
       "      <th>7</th>\n",
       "      <td>1673</td>\n",
       "      <td>1687</td>\n",
       "      <td>294065</td>\n",
       "      <td>294091</td>\n",
       "      <td>571</td>\n",
       "      <td>38</td>\n",
       "      <td>57</td>\n",
       "      <td>53142</td>\n",
       "      <td>77</td>\n",
       "      <td>110</td>\n",
       "      <td>1692</td>\n",
       "      <td>0</td>\n",
       "      <td>1</td>\n",
       "      <td>300</td>\n",
       "      <td>0.1491</td>\n",
       "      <td>0.4326</td>\n",
       "      <td>0.9643</td>\n",
       "      <td>0.0142</td>\n",
       "      <td>0.5686</td>\n",
       "      <td>0.7179</td>\n",
       "      <td>1.0</td>\n",
       "      <td>2.7528</td>\n",
       "      <td>1.3802</td>\n",
       "      <td>1.7559</td>\n",
       "      <td>0.0357</td>\n",
       "      <td>-0.2661</td>\n",
       "      <td>0.9408</td>\n",
       "      <td>Pastry</td>\n",
       "    </tr>\n",
       "    <tr>\n",
       "      <th>24</th>\n",
       "      <td>1538</td>\n",
       "      <td>1549</td>\n",
       "      <td>849219</td>\n",
       "      <td>849235</td>\n",
       "      <td>275</td>\n",
       "      <td>19</td>\n",
       "      <td>32</td>\n",
       "      <td>28986</td>\n",
       "      <td>71</td>\n",
       "      <td>117</td>\n",
       "      <td>1626</td>\n",
       "      <td>1</td>\n",
       "      <td>0</td>\n",
       "      <td>70</td>\n",
       "      <td>0.1494</td>\n",
       "      <td>0.3990</td>\n",
       "      <td>0.3750</td>\n",
       "      <td>0.0088</td>\n",
       "      <td>0.6316</td>\n",
       "      <td>1.0000</td>\n",
       "      <td>1.0</td>\n",
       "      <td>2.4393</td>\n",
       "      <td>1.0792</td>\n",
       "      <td>1.5051</td>\n",
       "      <td>0.6250</td>\n",
       "      <td>-0.2988</td>\n",
       "      <td>0.6330</td>\n",
       "      <td>Pastry</td>\n",
       "    </tr>\n",
       "    <tr>\n",
       "      <th>35</th>\n",
       "      <td>1310</td>\n",
       "      <td>1316</td>\n",
       "      <td>435871</td>\n",
       "      <td>435916</td>\n",
       "      <td>153</td>\n",
       "      <td>16</td>\n",
       "      <td>32</td>\n",
       "      <td>17101</td>\n",
       "      <td>104</td>\n",
       "      <td>132</td>\n",
       "      <td>1352</td>\n",
       "      <td>0</td>\n",
       "      <td>1</td>\n",
       "      <td>40</td>\n",
       "      <td>0.0532</td>\n",
       "      <td>0.3854</td>\n",
       "      <td>0.3333</td>\n",
       "      <td>0.0044</td>\n",
       "      <td>0.3750</td>\n",
       "      <td>0.9688</td>\n",
       "      <td>1.0</td>\n",
       "      <td>2.1847</td>\n",
       "      <td>0.7782</td>\n",
       "      <td>1.5051</td>\n",
       "      <td>0.6667</td>\n",
       "      <td>-0.0916</td>\n",
       "      <td>0.4025</td>\n",
       "      <td>Pastry</td>\n",
       "    </tr>\n",
       "    <tr>\n",
       "      <th>60</th>\n",
       "      <td>765</td>\n",
       "      <td>774</td>\n",
       "      <td>6571361</td>\n",
       "      <td>6571375</td>\n",
       "      <td>59</td>\n",
       "      <td>9</td>\n",
       "      <td>12</td>\n",
       "      <td>6682</td>\n",
       "      <td>77</td>\n",
       "      <td>133</td>\n",
       "      <td>1360</td>\n",
       "      <td>0</td>\n",
       "      <td>1</td>\n",
       "      <td>100</td>\n",
       "      <td>0.3613</td>\n",
       "      <td>0.3571</td>\n",
       "      <td>0.2800</td>\n",
       "      <td>0.0052</td>\n",
       "      <td>0.7778</td>\n",
       "      <td>1.0000</td>\n",
       "      <td>1.0</td>\n",
       "      <td>1.7708</td>\n",
       "      <td>0.8451</td>\n",
       "      <td>1.0792</td>\n",
       "      <td>0.7200</td>\n",
       "      <td>-0.1522</td>\n",
       "      <td>0.1892</td>\n",
       "      <td>Pastry</td>\n",
       "    </tr>\n",
       "    <tr>\n",
       "      <th>67</th>\n",
       "      <td>1677</td>\n",
       "      <td>1686</td>\n",
       "      <td>1319063</td>\n",
       "      <td>1319076</td>\n",
       "      <td>91</td>\n",
       "      <td>10</td>\n",
       "      <td>15</td>\n",
       "      <td>5608</td>\n",
       "      <td>57</td>\n",
       "      <td>95</td>\n",
       "      <td>1692</td>\n",
       "      <td>1</td>\n",
       "      <td>0</td>\n",
       "      <td>70</td>\n",
       "      <td>0.0024</td>\n",
       "      <td>0.3583</td>\n",
       "      <td>0.6667</td>\n",
       "      <td>0.0047</td>\n",
       "      <td>0.8000</td>\n",
       "      <td>1.0000</td>\n",
       "      <td>1.0</td>\n",
       "      <td>1.9590</td>\n",
       "      <td>0.9031</td>\n",
       "      <td>1.1761</td>\n",
       "      <td>0.3333</td>\n",
       "      <td>-0.3868</td>\n",
       "      <td>0.2660</td>\n",
       "      <td>Pastry</td>\n",
       "    </tr>\n",
       "  </tbody>\n",
       "</table>\n",
       "</div>"
      ],
      "text/plain": [
       "    X_Minimum  X_Maximum  Y_Minimum  Y_Maximum  Pixels_Areas  X_Perimeter  \\\n",
       "7        1673       1687     294065     294091           571           38   \n",
       "24       1538       1549     849219     849235           275           19   \n",
       "35       1310       1316     435871     435916           153           16   \n",
       "60        765        774    6571361    6571375            59            9   \n",
       "67       1677       1686    1319063    1319076            91           10   \n",
       "\n",
       "    Y_Perimeter  Sum_of_Luminosity  Minimum_of_Luminosity  \\\n",
       "7            57              53142                     77   \n",
       "24           32              28986                     71   \n",
       "35           32              17101                    104   \n",
       "60           12               6682                     77   \n",
       "67           15               5608                     57   \n",
       "\n",
       "    Maximum_of_Luminosity  Length_of_Conveyer  TypeOfSteel_A300  \\\n",
       "7                     110                1692                 0   \n",
       "24                    117                1626                 1   \n",
       "35                    132                1352                 0   \n",
       "60                    133                1360                 0   \n",
       "67                     95                1692                 1   \n",
       "\n",
       "    TypeOfSteel_A400  Steel_Plate_Thickness  Edges_Index  Empty_Index  \\\n",
       "7                  1                    300       0.1491       0.4326   \n",
       "24                 0                     70       0.1494       0.3990   \n",
       "35                 1                     40       0.0532       0.3854   \n",
       "60                 1                    100       0.3613       0.3571   \n",
       "67                 0                     70       0.0024       0.3583   \n",
       "\n",
       "    Square_Index  Outside_X_Index  Edges_X_Index  Edges_Y_Index  \\\n",
       "7         0.9643           0.0142         0.5686         0.7179   \n",
       "24        0.3750           0.0088         0.6316         1.0000   \n",
       "35        0.3333           0.0044         0.3750         0.9688   \n",
       "60        0.2800           0.0052         0.7778         1.0000   \n",
       "67        0.6667           0.0047         0.8000         1.0000   \n",
       "\n",
       "    Outside_Global_Index  LogOfAreas  Log_X_Index  Log_Y_Index  \\\n",
       "7                    1.0      2.7528       1.3802       1.7559   \n",
       "24                   1.0      2.4393       1.0792       1.5051   \n",
       "35                   1.0      2.1847       0.7782       1.5051   \n",
       "60                   1.0      1.7708       0.8451       1.0792   \n",
       "67                   1.0      1.9590       0.9031       1.1761   \n",
       "\n",
       "    Orientation_Index  Luminosity_Index  SigmoidOfAreas  target  \n",
       "7              0.0357           -0.2661          0.9408  Pastry  \n",
       "24             0.6250           -0.2988          0.6330  Pastry  \n",
       "35             0.6667           -0.0916          0.4025  Pastry  \n",
       "60             0.7200           -0.1522          0.1892  Pastry  \n",
       "67             0.3333           -0.3868          0.2660  Pastry  "
      ]
     },
     "execution_count": 12,
     "metadata": {},
     "output_type": "execute_result"
    }
   ],
   "source": [
    "combined_df = reformat_data(combined_df)\n",
    "combined_df.head()"
   ]
  },
  {
   "cell_type": "code",
   "execution_count": 13,
   "metadata": {},
   "outputs": [],
   "source": [
    "TARGET = 'target'"
   ]
  },
  {
   "cell_type": "code",
   "execution_count": 14,
   "metadata": {},
   "outputs": [
    {
     "data": {
      "text/html": [
       "<div>\n",
       "<style scoped>\n",
       "    .dataframe tbody tr th:only-of-type {\n",
       "        vertical-align: middle;\n",
       "    }\n",
       "\n",
       "    .dataframe tbody tr th {\n",
       "        vertical-align: top;\n",
       "    }\n",
       "\n",
       "    .dataframe thead th {\n",
       "        text-align: right;\n",
       "    }\n",
       "</style>\n",
       "<table border=\"1\" class=\"dataframe\">\n",
       "  <thead>\n",
       "    <tr style=\"text-align: right;\">\n",
       "      <th></th>\n",
       "      <th>X_Minimum</th>\n",
       "      <th>X_Maximum</th>\n",
       "      <th>Y_Minimum</th>\n",
       "      <th>Y_Maximum</th>\n",
       "      <th>Pixels_Areas</th>\n",
       "      <th>X_Perimeter</th>\n",
       "      <th>Y_Perimeter</th>\n",
       "      <th>Sum_of_Luminosity</th>\n",
       "      <th>Minimum_of_Luminosity</th>\n",
       "      <th>Maximum_of_Luminosity</th>\n",
       "      <th>Length_of_Conveyer</th>\n",
       "      <th>TypeOfSteel_A300</th>\n",
       "      <th>TypeOfSteel_A400</th>\n",
       "      <th>Steel_Plate_Thickness</th>\n",
       "      <th>Edges_Index</th>\n",
       "      <th>Empty_Index</th>\n",
       "      <th>Square_Index</th>\n",
       "      <th>Outside_X_Index</th>\n",
       "      <th>Edges_X_Index</th>\n",
       "      <th>Edges_Y_Index</th>\n",
       "      <th>Outside_Global_Index</th>\n",
       "      <th>LogOfAreas</th>\n",
       "      <th>Log_X_Index</th>\n",
       "      <th>Log_Y_Index</th>\n",
       "      <th>Orientation_Index</th>\n",
       "      <th>Luminosity_Index</th>\n",
       "      <th>SigmoidOfAreas</th>\n",
       "      <th>target</th>\n",
       "    </tr>\n",
       "  </thead>\n",
       "  <tbody>\n",
       "    <tr>\n",
       "      <th>7</th>\n",
       "      <td>1673</td>\n",
       "      <td>1687</td>\n",
       "      <td>294065</td>\n",
       "      <td>294091</td>\n",
       "      <td>571</td>\n",
       "      <td>38</td>\n",
       "      <td>57</td>\n",
       "      <td>53142</td>\n",
       "      <td>77</td>\n",
       "      <td>110</td>\n",
       "      <td>1692</td>\n",
       "      <td>0</td>\n",
       "      <td>1</td>\n",
       "      <td>300</td>\n",
       "      <td>0.1491</td>\n",
       "      <td>0.4326</td>\n",
       "      <td>0.9643</td>\n",
       "      <td>0.0142</td>\n",
       "      <td>0.5686</td>\n",
       "      <td>0.7179</td>\n",
       "      <td>1.0</td>\n",
       "      <td>2.7528</td>\n",
       "      <td>1.3802</td>\n",
       "      <td>1.7559</td>\n",
       "      <td>0.0357</td>\n",
       "      <td>-0.2661</td>\n",
       "      <td>0.9408</td>\n",
       "      <td>4</td>\n",
       "    </tr>\n",
       "    <tr>\n",
       "      <th>24</th>\n",
       "      <td>1538</td>\n",
       "      <td>1549</td>\n",
       "      <td>849219</td>\n",
       "      <td>849235</td>\n",
       "      <td>275</td>\n",
       "      <td>19</td>\n",
       "      <td>32</td>\n",
       "      <td>28986</td>\n",
       "      <td>71</td>\n",
       "      <td>117</td>\n",
       "      <td>1626</td>\n",
       "      <td>1</td>\n",
       "      <td>0</td>\n",
       "      <td>70</td>\n",
       "      <td>0.1494</td>\n",
       "      <td>0.3990</td>\n",
       "      <td>0.3750</td>\n",
       "      <td>0.0088</td>\n",
       "      <td>0.6316</td>\n",
       "      <td>1.0000</td>\n",
       "      <td>1.0</td>\n",
       "      <td>2.4393</td>\n",
       "      <td>1.0792</td>\n",
       "      <td>1.5051</td>\n",
       "      <td>0.6250</td>\n",
       "      <td>-0.2988</td>\n",
       "      <td>0.6330</td>\n",
       "      <td>4</td>\n",
       "    </tr>\n",
       "    <tr>\n",
       "      <th>35</th>\n",
       "      <td>1310</td>\n",
       "      <td>1316</td>\n",
       "      <td>435871</td>\n",
       "      <td>435916</td>\n",
       "      <td>153</td>\n",
       "      <td>16</td>\n",
       "      <td>32</td>\n",
       "      <td>17101</td>\n",
       "      <td>104</td>\n",
       "      <td>132</td>\n",
       "      <td>1352</td>\n",
       "      <td>0</td>\n",
       "      <td>1</td>\n",
       "      <td>40</td>\n",
       "      <td>0.0532</td>\n",
       "      <td>0.3854</td>\n",
       "      <td>0.3333</td>\n",
       "      <td>0.0044</td>\n",
       "      <td>0.3750</td>\n",
       "      <td>0.9688</td>\n",
       "      <td>1.0</td>\n",
       "      <td>2.1847</td>\n",
       "      <td>0.7782</td>\n",
       "      <td>1.5051</td>\n",
       "      <td>0.6667</td>\n",
       "      <td>-0.0916</td>\n",
       "      <td>0.4025</td>\n",
       "      <td>4</td>\n",
       "    </tr>\n",
       "    <tr>\n",
       "      <th>60</th>\n",
       "      <td>765</td>\n",
       "      <td>774</td>\n",
       "      <td>6571361</td>\n",
       "      <td>6571375</td>\n",
       "      <td>59</td>\n",
       "      <td>9</td>\n",
       "      <td>12</td>\n",
       "      <td>6682</td>\n",
       "      <td>77</td>\n",
       "      <td>133</td>\n",
       "      <td>1360</td>\n",
       "      <td>0</td>\n",
       "      <td>1</td>\n",
       "      <td>100</td>\n",
       "      <td>0.3613</td>\n",
       "      <td>0.3571</td>\n",
       "      <td>0.2800</td>\n",
       "      <td>0.0052</td>\n",
       "      <td>0.7778</td>\n",
       "      <td>1.0000</td>\n",
       "      <td>1.0</td>\n",
       "      <td>1.7708</td>\n",
       "      <td>0.8451</td>\n",
       "      <td>1.0792</td>\n",
       "      <td>0.7200</td>\n",
       "      <td>-0.1522</td>\n",
       "      <td>0.1892</td>\n",
       "      <td>4</td>\n",
       "    </tr>\n",
       "    <tr>\n",
       "      <th>67</th>\n",
       "      <td>1677</td>\n",
       "      <td>1686</td>\n",
       "      <td>1319063</td>\n",
       "      <td>1319076</td>\n",
       "      <td>91</td>\n",
       "      <td>10</td>\n",
       "      <td>15</td>\n",
       "      <td>5608</td>\n",
       "      <td>57</td>\n",
       "      <td>95</td>\n",
       "      <td>1692</td>\n",
       "      <td>1</td>\n",
       "      <td>0</td>\n",
       "      <td>70</td>\n",
       "      <td>0.0024</td>\n",
       "      <td>0.3583</td>\n",
       "      <td>0.6667</td>\n",
       "      <td>0.0047</td>\n",
       "      <td>0.8000</td>\n",
       "      <td>1.0000</td>\n",
       "      <td>1.0</td>\n",
       "      <td>1.9590</td>\n",
       "      <td>0.9031</td>\n",
       "      <td>1.1761</td>\n",
       "      <td>0.3333</td>\n",
       "      <td>-0.3868</td>\n",
       "      <td>0.2660</td>\n",
       "      <td>4</td>\n",
       "    </tr>\n",
       "  </tbody>\n",
       "</table>\n",
       "</div>"
      ],
      "text/plain": [
       "    X_Minimum  X_Maximum  Y_Minimum  Y_Maximum  Pixels_Areas  X_Perimeter  \\\n",
       "7        1673       1687     294065     294091           571           38   \n",
       "24       1538       1549     849219     849235           275           19   \n",
       "35       1310       1316     435871     435916           153           16   \n",
       "60        765        774    6571361    6571375            59            9   \n",
       "67       1677       1686    1319063    1319076            91           10   \n",
       "\n",
       "    Y_Perimeter  Sum_of_Luminosity  Minimum_of_Luminosity  \\\n",
       "7            57              53142                     77   \n",
       "24           32              28986                     71   \n",
       "35           32              17101                    104   \n",
       "60           12               6682                     77   \n",
       "67           15               5608                     57   \n",
       "\n",
       "    Maximum_of_Luminosity  Length_of_Conveyer  TypeOfSteel_A300  \\\n",
       "7                     110                1692                 0   \n",
       "24                    117                1626                 1   \n",
       "35                    132                1352                 0   \n",
       "60                    133                1360                 0   \n",
       "67                     95                1692                 1   \n",
       "\n",
       "    TypeOfSteel_A400  Steel_Plate_Thickness  Edges_Index  Empty_Index  \\\n",
       "7                  1                    300       0.1491       0.4326   \n",
       "24                 0                     70       0.1494       0.3990   \n",
       "35                 1                     40       0.0532       0.3854   \n",
       "60                 1                    100       0.3613       0.3571   \n",
       "67                 0                     70       0.0024       0.3583   \n",
       "\n",
       "    Square_Index  Outside_X_Index  Edges_X_Index  Edges_Y_Index  \\\n",
       "7         0.9643           0.0142         0.5686         0.7179   \n",
       "24        0.3750           0.0088         0.6316         1.0000   \n",
       "35        0.3333           0.0044         0.3750         0.9688   \n",
       "60        0.2800           0.0052         0.7778         1.0000   \n",
       "67        0.6667           0.0047         0.8000         1.0000   \n",
       "\n",
       "    Outside_Global_Index  LogOfAreas  Log_X_Index  Log_Y_Index  \\\n",
       "7                    1.0      2.7528       1.3802       1.7559   \n",
       "24                   1.0      2.4393       1.0792       1.5051   \n",
       "35                   1.0      2.1847       0.7782       1.5051   \n",
       "60                   1.0      1.7708       0.8451       1.0792   \n",
       "67                   1.0      1.9590       0.9031       1.1761   \n",
       "\n",
       "    Orientation_Index  Luminosity_Index  SigmoidOfAreas  target  \n",
       "7              0.0357           -0.2661          0.9408       4  \n",
       "24             0.6250           -0.2988          0.6330       4  \n",
       "35             0.6667           -0.0916          0.4025       4  \n",
       "60             0.7200           -0.1522          0.1892       4  \n",
       "67             0.3333           -0.3868          0.2660       4  "
      ]
     },
     "execution_count": 14,
     "metadata": {},
     "output_type": "execute_result"
    }
   ],
   "source": [
    "label_encoder = LabelEncoder()\n",
    "\n",
    "label_encoder.fit(combined_df[TARGET])\n",
    "\n",
    "combined_df[TARGET] = label_encoder.transform(combined_df[TARGET])\n",
    "\n",
    "combined_df.head()"
   ]
  },
  {
   "cell_type": "code",
   "execution_count": 15,
   "metadata": {},
   "outputs": [
    {
     "data": {
      "text/plain": [
       "((20362, 28), (12814, 28))"
      ]
     },
     "execution_count": 15,
     "metadata": {},
     "output_type": "execute_result"
    }
   ],
   "source": [
    "combined_df.shape, test.shape"
   ]
  },
  {
   "cell_type": "code",
   "execution_count": 16,
   "metadata": {},
   "outputs": [],
   "source": [
    "X = combined_df.drop([TARGET], axis=1)\n",
    "y = combined_df[TARGET]\n",
    "\n",
    "n_splits = 3\n",
    "sk10 = StratifiedKFold(n_splits=n_splits, shuffle=True, random_state=5)"
   ]
  },
  {
   "cell_type": "code",
   "execution_count": 24,
   "metadata": {},
   "outputs": [],
   "source": [
    "lgbm_params_1 = {'objective': 'multiclass', 'num_class': 7, 'n_jobs': -1, 'random_state': 5, 'class_weight': None, 'boosting': 'gbdt', 'colsample_bytree': 0.3732513300418112, 'learning_rate': 0.11407449915410499, 'max_depth': 41, 'min_child_samples': 46, 'min_child_weight': 5.402556610174332, 'min_split_gain': 0.7031617243606461, 'n_estimators': 168, 'num_leaves': 4, 'reg_alpha': 0.6688125857557925, 'reg_lambda': 0.3006431833867248, 'subsample': 0.7700917000679017}\n",
    "lgbm_params_2 = {'objective': 'multiclass', 'num_class': 7, 'n_jobs': -1, 'random_state': 5, 'class_weight': None, 'boosting': 'dart', 'colsample_bytree': 0.5772149549047157, 'learning_rate': 0.33002721528421214, 'max_depth': 28, 'min_child_samples': 23, 'min_child_weight': 7.99839845350044, 'min_split_gain': 0.9239893181066746, 'n_estimators': 699, 'num_leaves': 21, 'reg_alpha': 0.4760265812563772, 'reg_lambda': 0.15634739914542023, 'subsample': 0.4590800039755062}\n",
    "lgbm_params_3 = {'objective': 'multiclass', 'num_class': 7, 'n_jobs': -1, 'random_state': 5, 'class_weight': None, 'boosting': 'dart', 'colsample_bytree': 0.31193732162008925, 'learning_rate': 0.03107980185406725, 'max_depth': 58, 'min_child_samples': 26, 'min_child_weight': 0.9044244579504741, 'min_split_gain': 0.6988647291560484, 'n_estimators': 814, 'num_leaves': 10, 'reg_alpha': 0.8952949360981323, 'reg_lambda': 0.12911118443546726, 'subsample': 0.9423432553265046}\n",
    "lgbm_params_4 = {'objective': 'multiclass', 'num_class': 7, 'n_jobs': -1, 'random_state': 5, 'class_weight': None, 'boosting': 'dart', 'colsample_bytree': 0.35885033102300595, 'learning_rate': 0.21902422874173558, 'max_depth': 3, 'min_child_samples': 34, 'min_child_weight': 4.768878441321062, 'min_split_gain': 0.8804385788228134, 'n_estimators': 334, 'num_leaves': 19, 'reg_alpha': 0.9922927799932719, 'reg_lambda': 0.010366800790489683, 'subsample': 0.5713199333429264}"
   ]
  },
  {
   "cell_type": "code",
   "execution_count": 25,
   "metadata": {},
   "outputs": [],
   "source": [
    "models = [\n",
    "    LGBMClassifier(n_jobs=-1, random_state=5),\n",
    "    LGBMClassifier(**lgbm_params_1),\n",
    "    LGBMClassifier(**lgbm_params_2),\n",
    "    LGBMClassifier(**lgbm_params_3),\n",
    "    LGBMClassifier(**lgbm_params_4),\n",
    "    # XGBClassifier(random_state=5),\n",
    "    # RandomForestClassifier(random_state=5),\n",
    "    # ExtraTreesClassifier(random_state=5),\n",
    "    # HistGradientBoostingClassifier(random_state=5),\n",
    "    # CatBoostClassifier(random_state=5, verbose=False, early_stopping_rounds=100),\n",
    "    ]"
   ]
  },
  {
   "cell_type": "code",
   "execution_count": 26,
   "metadata": {},
   "outputs": [],
   "source": [
    "def evaluate_models_roc(models, X, y, important_features, cv_split, experiment_name):\n",
    "    MLA_compare = pd.DataFrame(columns=['MLA Name', \n",
    "                                        'MLA Parameters', \n",
    "                                        'MLA Train ROC AUC', \n",
    "                                        'MLA Test ROC AUC', \n",
    "                                        'MLA Test ROC AUC Std', \n",
    "                                        'MLA Time'])\n",
    "    \n",
    "    def evaluate_model(alg, idx):\n",
    "        MLA_name = alg.__class__.__name__\n",
    "        features = important_features.get(MLA_name, [])\n",
    "\n",
    "        # Check if the list of important features is empty\n",
    "        if len(features) == 0:\n",
    "            # If empty, return results with zero values\n",
    "            print(f'Skipping {MLA_name} due to no important features.')\n",
    "            return {\n",
    "                'MLA Name': MLA_name,\n",
    "                'MLA Parameters': str(alg.get_params()),\n",
    "                'MLA Train ROC': 0,\n",
    "                'MLA Test ROC': 0,\n",
    "                'MLA Test ROC Std': 0,\n",
    "                'MLA Time': \"0 min 0.00 sec\",\n",
    "            }\n",
    "        \n",
    "        cv_results = cross_validate(alg, \n",
    "                                    X[features], \n",
    "                                    y, cv=cv_split, \n",
    "                                    scoring='roc_auc_ovr', \n",
    "                                    return_train_score=True, \n",
    "                                    n_jobs=-1)\n",
    "\n",
    "        # Time formatting\n",
    "        mean_fit_time = cv_results['fit_time'].mean()\n",
    "        minutes, seconds = divmod(mean_fit_time, 60)\n",
    "\n",
    "        # Results population\n",
    "        result = {\n",
    "            'MLA Name': MLA_name,\n",
    "            'MLA Parameters': str(alg.get_params()),\n",
    "            'MLA Train ROC AUC': cv_results['train_score'].mean(),\n",
    "            'MLA Test ROC AUC': cv_results['test_score'].mean(),\n",
    "            'MLA Test ROC AUC Std': cv_results['test_score'].std(),\n",
    "            'MLA Time': f\"{int(minutes)} min {seconds:.2f} sec\",\n",
    "        }\n",
    "\n",
    "        print(f'Done with {MLA_name}.')\n",
    "        return result\n",
    "\n",
    "    results_list = []\n",
    "\n",
    "    with ThreadPoolExecutor(max_workers=10) as executor:\n",
    "        futures = [executor.submit(evaluate_model, alg, idx) for idx, alg in enumerate(models)]\n",
    "        for future in futures:\n",
    "            result = future.result()\n",
    "            results_list.append(result)\n",
    "\n",
    "    MLA_compare = pd.DataFrame(results_list)\n",
    "\n",
    "    MLA_compare.sort_values(by=['MLA Test ROC AUC'], ascending=False, inplace=True)\n",
    "    MLA_compare.to_csv(f'{experiment_name}_results.csv', index=False)\n",
    "\n",
    "    return MLA_compare"
   ]
  },
  {
   "cell_type": "code",
   "execution_count": 27,
   "metadata": {},
   "outputs": [],
   "source": [
    "baseline_features = {}\n",
    "\n",
    "for model in models:\n",
    "    model_name = model.__class__.__name__\n",
    "\n",
    "    baseline_features[model_name] = list(X_lgbm.columns)"
   ]
  },
  {
   "cell_type": "code",
   "execution_count": 28,
   "metadata": {},
   "outputs": [
    {
     "name": "stdout",
     "output_type": "stream",
     "text": [
      "Done with LGBMClassifier.\n",
      "Done with LGBMClassifier.\n",
      "Done with LGBMClassifier.\n",
      "Done with LGBMClassifier.\n",
      "Done with LGBMClassifier.\n",
      "CPU times: total: 46.9 ms\n",
      "Wall time: 3min 1s\n"
     ]
    },
    {
     "data": {
      "text/html": [
       "<div>\n",
       "<style scoped>\n",
       "    .dataframe tbody tr th:only-of-type {\n",
       "        vertical-align: middle;\n",
       "    }\n",
       "\n",
       "    .dataframe tbody tr th {\n",
       "        vertical-align: top;\n",
       "    }\n",
       "\n",
       "    .dataframe thead th {\n",
       "        text-align: right;\n",
       "    }\n",
       "</style>\n",
       "<table border=\"1\" class=\"dataframe\">\n",
       "  <thead>\n",
       "    <tr style=\"text-align: right;\">\n",
       "      <th></th>\n",
       "      <th>MLA Name</th>\n",
       "      <th>MLA Parameters</th>\n",
       "      <th>MLA Train ROC AUC</th>\n",
       "      <th>MLA Test ROC AUC</th>\n",
       "      <th>MLA Test ROC AUC Std</th>\n",
       "      <th>MLA Time</th>\n",
       "    </tr>\n",
       "  </thead>\n",
       "  <tbody>\n",
       "    <tr>\n",
       "      <th>3</th>\n",
       "      <td>LGBMClassifier</td>\n",
       "      <td>{'boosting_type': 'gbdt', 'class_weight': None...</td>\n",
       "      <td>0.933004</td>\n",
       "      <td>0.900265</td>\n",
       "      <td>0.002224</td>\n",
       "      <td>2 min 35.32 sec</td>\n",
       "    </tr>\n",
       "    <tr>\n",
       "      <th>4</th>\n",
       "      <td>LGBMClassifier</td>\n",
       "      <td>{'boosting_type': 'gbdt', 'class_weight': None...</td>\n",
       "      <td>0.934512</td>\n",
       "      <td>0.899455</td>\n",
       "      <td>0.002012</td>\n",
       "      <td>0 min 34.30 sec</td>\n",
       "    </tr>\n",
       "    <tr>\n",
       "      <th>2</th>\n",
       "      <td>LGBMClassifier</td>\n",
       "      <td>{'boosting_type': 'gbdt', 'class_weight': None...</td>\n",
       "      <td>0.958327</td>\n",
       "      <td>0.898667</td>\n",
       "      <td>0.001489</td>\n",
       "      <td>1 min 31.75 sec</td>\n",
       "    </tr>\n",
       "    <tr>\n",
       "      <th>1</th>\n",
       "      <td>LGBMClassifier</td>\n",
       "      <td>{'boosting_type': 'gbdt', 'class_weight': None...</td>\n",
       "      <td>0.921078</td>\n",
       "      <td>0.897596</td>\n",
       "      <td>0.001941</td>\n",
       "      <td>0 min 2.68 sec</td>\n",
       "    </tr>\n",
       "    <tr>\n",
       "      <th>0</th>\n",
       "      <td>LGBMClassifier</td>\n",
       "      <td>{'boosting_type': 'gbdt', 'class_weight': None...</td>\n",
       "      <td>0.988834</td>\n",
       "      <td>0.893696</td>\n",
       "      <td>0.002014</td>\n",
       "      <td>0 min 4.93 sec</td>\n",
       "    </tr>\n",
       "  </tbody>\n",
       "</table>\n",
       "</div>"
      ],
      "text/plain": [
       "         MLA Name                                     MLA Parameters  \\\n",
       "3  LGBMClassifier  {'boosting_type': 'gbdt', 'class_weight': None...   \n",
       "4  LGBMClassifier  {'boosting_type': 'gbdt', 'class_weight': None...   \n",
       "2  LGBMClassifier  {'boosting_type': 'gbdt', 'class_weight': None...   \n",
       "1  LGBMClassifier  {'boosting_type': 'gbdt', 'class_weight': None...   \n",
       "0  LGBMClassifier  {'boosting_type': 'gbdt', 'class_weight': None...   \n",
       "\n",
       "   MLA Train ROC AUC  MLA Test ROC AUC  MLA Test ROC AUC Std         MLA Time  \n",
       "3           0.933004          0.900265              0.002224  2 min 35.32 sec  \n",
       "4           0.934512          0.899455              0.002012  0 min 34.30 sec  \n",
       "2           0.958327          0.898667              0.001489  1 min 31.75 sec  \n",
       "1           0.921078          0.897596              0.001941   0 min 2.68 sec  \n",
       "0           0.988834          0.893696              0.002014   0 min 4.93 sec  "
      ]
     },
     "execution_count": 28,
     "metadata": {},
     "output_type": "execute_result"
    }
   ],
   "source": [
    "%%time\n",
    "\n",
    "baseline_models = evaluate_models_roc(models, X, y, baseline_features, sk10, f'{experiment_name}_lgbm')\n",
    "baseline_models"
   ]
  },
  {
   "cell_type": "code",
   "execution_count": null,
   "metadata": {},
   "outputs": [],
   "source": [
    "%%time\n",
    "\n",
    "baseline_models = evaluate_models_roc(models, X, y, baseline_features, sk10, f'{experiment_name}')\n",
    "baseline_models"
   ]
  },
  {
   "cell_type": "markdown",
   "metadata": {},
   "source": [
    "- Remove Correlated Features"
   ]
  },
  {
   "cell_type": "code",
   "execution_count": null,
   "metadata": {},
   "outputs": [],
   "source": [
    "# Remove correlated features (leaving just 1 of each pair)\n",
    "# Leave features highly correlated with the target\n",
    "df_no_corr = X.copy()\n",
    "correlation_matrix_spear = df_no_corr.corr(method='spearman').abs()\n",
    "\n",
    "# Select upper triangle of correlation matrix\n",
    "upper_spear = correlation_matrix_spear.where(np.triu(np.ones(correlation_matrix_spear.shape), k=1).astype(bool))\n",
    "\n",
    "# Find index of feature columns with correlation greater than a threshold (e.g., 0.9 in this case)\n",
    "to_drop_spear = [column for column in upper_spear.columns if any(upper_spear[column] >= 0.9)]\n",
    "\n",
    "# Drop features\n",
    "df_reduced_spear = df_no_corr.drop(to_drop_spear, axis=1)\n",
    "\n",
    "# Get list of low correlation features excluding TARGET\n",
    "low_corr_feats_spear = list(df_reduced_spear.columns)\n",
    "\n",
    "with open('low_corr_spear.txt', 'w') as f:\n",
    "    f.write(str(low_corr_feats_spear))\n",
    "    f.write('\\n')\n",
    "\n",
    "# Print the high correlation features effect\n",
    "# Both pre and post drop dfs contain the TARGET\n",
    "print(f\"Dropped {len(to_drop_spear)} highly correlated features.\\nOld Shape of the dataset was {df_no_corr.shape}\\nNew shape of the dataset is {df_reduced_spear.shape}\")"
   ]
  },
  {
   "cell_type": "code",
   "execution_count": null,
   "metadata": {},
   "outputs": [],
   "source": [
    "%%time\n",
    "\n",
    "no_corr_features = {}\n",
    "\n",
    "for model in models:\n",
    "    model_name = model.__class__.__name__\n",
    "\n",
    "    no_corr_features[model_name] = list(df_reduced_spear.columns)"
   ]
  },
  {
   "cell_type": "code",
   "execution_count": null,
   "metadata": {},
   "outputs": [],
   "source": [
    "%%time\n",
    "\n",
    "no_corr_models = evaluate_models_roc(models, df_reduced_spear, y, no_corr_features, sk10, f'{experiment_name}_corr')\n",
    "no_corr_models"
   ]
  },
  {
   "cell_type": "markdown",
   "metadata": {},
   "source": [
    "- Feature Importances"
   ]
  },
  {
   "cell_type": "code",
   "execution_count": null,
   "metadata": {},
   "outputs": [],
   "source": [
    "# feat_importance_features = {}\n",
    "\n",
    "# for model in models:\n",
    "#     model_name = model.__class__.__name__\n",
    "\n",
    "#     try:\n",
    "#         # Initialize array to store feature importances\n",
    "#         feature_importances = np.zeros(X.shape[1])\n",
    "\n",
    "#         # Loop through each fold and calculate the feature importances\n",
    "#         for train_index, test_index in sk10.split(X, y):\n",
    "#             X_train, X_test = X.iloc[train_index], X.iloc[test_index]\n",
    "#             y_train, y_test = y.iloc[train_index], y.iloc[test_index]\n",
    "\n",
    "#             model.fit(X_train, y_train)\n",
    "\n",
    "#             # Get the feature importances and them to the total\n",
    "#             feature_importances += model.feature_importances_\n",
    "\n",
    "#         feature_importances /= n_splits\n",
    "\n",
    "#         feature_importances_dict = dict(zip(X.columns, feature_importances))\n",
    "\n",
    "#         df = pd.DataFrame.from_dict(feature_importances_dict, orient='index')\n",
    "\n",
    "#         # Resetting index with a name for the column\n",
    "#         df = df.reset_index().rename(columns={'index': 'Feature', 0: 'Avg_Feat_Importance'})\n",
    "#         df.sort_values(by='Avg_Feat_Importance', ascending=False, inplace=True)\n",
    "\n",
    "#         # Save to CSV\n",
    "#         df.to_csv(f'{model_name}_feature_importances.csv')\n",
    "\n",
    "#         fi_threshold = 0\n",
    "\n",
    "#         fi_feats = df[df['Avg_Feat_Importance'] > fi_threshold]['Feature'].tolist()\n",
    "\n",
    "#         feat_importance_features[model_name] = fi_feats\n",
    "#         print(f'Done with {model_name}')\n",
    "\n",
    "#     except AttributeError:\n",
    "#         feat_importance_features[model_name] = list(X.columns)\n",
    "#         print(f'{model_name} does not have feature_importances_')"
   ]
  },
  {
   "cell_type": "code",
   "execution_count": null,
   "metadata": {},
   "outputs": [],
   "source": [
    "# with open('featimp_features.txt', mode='w') as f:\n",
    "#     pprint(feat_importance_features, stream=f)"
   ]
  },
  {
   "cell_type": "markdown",
   "metadata": {},
   "source": [
    "- Permutation Importance"
   ]
  },
  {
   "cell_type": "code",
   "execution_count": null,
   "metadata": {},
   "outputs": [],
   "source": [
    "# Generate a random feature for X\n",
    "np.random.seed(5)\n",
    "df_reduced_spear['random_control_feature'] = np.round(np.random.uniform(-2, 2, df_reduced_spear.shape[0]), 6)\n",
    "df_reduced_spear.shape"
   ]
  },
  {
   "cell_type": "code",
   "execution_count": null,
   "metadata": {},
   "outputs": [],
   "source": [
    "%%time\n",
    "\n",
    "perm_cv = StratifiedKFold(n_splits=5, shuffle=True, random_state=5)\n",
    "\n",
    "perm_importances = {model.__class__.__name__: [] for model in models}\n",
    "\n",
    "for i, (train_idx, test_idx) in enumerate(perm_cv.split(df_reduced_spear, y)):\n",
    "    X_train, X_test = df_reduced_spear.iloc[train_idx], df_reduced_spear.iloc[test_idx]\n",
    "    y_train, y_test = y.iloc[train_idx], y.iloc[test_idx]\n",
    "\n",
    "    for model in models:\n",
    "        model_name = model.__class__.__name__\n",
    "        model.fit(X_train, y_train)\n",
    "        # Calculate permutation importance\n",
    "        result = permutation_importance(model, X_test, y_test, n_repeats=5, random_state=5, n_jobs=-1, scoring='roc_auc_ovr')\n",
    "        perm_importances[model_name].append(result.importances_mean)\n",
    "        print(f'Done with {model_name}.')\n",
    "    \n",
    "    print(f'Done with Fold {i+1}', end='\\n\\n')"
   ]
  },
  {
   "cell_type": "code",
   "execution_count": null,
   "metadata": {},
   "outputs": [],
   "source": [
    "%%time\n",
    "\n",
    "# Average importances across folds and export to CSV\n",
    "for model_name, importances in perm_importances.items():\n",
    "    avg_importance = np.mean(importances, axis=0)\n",
    "    importance_df = pd.DataFrame({'Feature': df_reduced_spear.columns, 'Importance': avg_importance})\n",
    "    importance_df.sort_values(by='Importance', ascending=False, inplace=True)\n",
    "    # Export to CSV\n",
    "    importance_df.to_csv(f'.\\permutation_importances\\{model_name}_permutation_importance.csv', index=False)\n",
    "\n",
    "print('Done with Permuation Importances', end='\\n\\n')"
   ]
  },
  {
   "cell_type": "code",
   "execution_count": null,
   "metadata": {},
   "outputs": [],
   "source": [
    "directory = 'permutation_importances'\n",
    "\n",
    "# Initialize a dictionary for the features\n",
    "perm_important_features = {}\n",
    "\n",
    "for model in models:\n",
    "    model_name = model.__class__.__name__\n",
    "    csv_path = os.path.join(directory, f'{model_name}_permutation_importance.csv')\n",
    "    if os.path.exists(csv_path):\n",
    "        df = pd.read_csv(csv_path)\n",
    "\n",
    "        # Check for 'random_control_feature' and its importance\n",
    "        if 'random_control_feature' in df['Feature'].values:\n",
    "            random_feature_importance = df.loc[df['Feature'] == 'random_control_feature', 'Importance'].iloc[0]\n",
    "        else:\n",
    "            random_feature_importance = 0\n",
    "\n",
    "        # Determine the threshold\n",
    "        threshold = max(0, random_feature_importance)\n",
    "\n",
    "        # Filter features where importance is greater than 0\n",
    "        important_feats_filtered = df[df['Importance'] > threshold]['Feature'].tolist()\n",
    "\n",
    "        # Reorder important_feats based on the predefined features_list\n",
    "        important_feats_ordered = [feat for feat in features_list if feat in important_feats_filtered]\n",
    "\n",
    "        # Add to importance dictionary\n",
    "        perm_important_features[model_name] = important_feats_ordered\n",
    "\n",
    "    else:\n",
    "        print(f'CSV file for {model_name} not found.')\n",
    "\n",
    "print('Done getting important features dictionary')"
   ]
  },
  {
   "cell_type": "code",
   "execution_count": null,
   "metadata": {},
   "outputs": [],
   "source": [
    "with open('perm_important_features_lgbm.txt', mode='w') as f:\n",
    "    pprint(perm_important_features, stream=f)"
   ]
  },
  {
   "cell_type": "code",
   "execution_count": null,
   "metadata": {},
   "outputs": [],
   "source": [
    "%%time\n",
    "\n",
    "# Set seeds for reproducibility\n",
    "np.random.seed(42)\n",
    "random.seed(42)\n",
    "\n",
    "perm_importance_models = evaluate_models_roc(models, X, y, perm_important_features, sk10, f'{experiment_name}_permimp')\n",
    "perm_importance_models"
   ]
  },
  {
   "cell_type": "markdown",
   "metadata": {},
   "source": [
    "- SelectKBest with f_classif"
   ]
  },
  {
   "cell_type": "code",
   "execution_count": null,
   "metadata": {},
   "outputs": [],
   "source": [
    "best_features_list = []\n",
    "kbest_features = {}\n",
    "\n",
    "for model in models:\n",
    "    model_name = model.__class__.__name__\n",
    "\n",
    "    # Select whichever one had a better CV score generally\n",
    "    # Also, consider computational expense and accuracy balance\n",
    "    \n",
    "    features = perm_important_features[model_name]\n",
    "    # features = list(df_reduced_spear.columns)\n",
    "\n",
    "    # incase there is no feature that had importance, go to the next model\n",
    "    if len(features) == 0:\n",
    "        continue\n",
    "\t\n",
    "    X_kbest = X[features]\n",
    "    best_score = 0\n",
    "    best_k = 0\n",
    "    best_features = []\n",
    "\n",
    "    # Iterate over k from 1 to number of features\n",
    "    for k in range(1, len(features) + 1):\n",
    "        print(f'currently running {k} features on {model_name}')\n",
    "        # Apply SelectKBest\n",
    "        selector = SelectKBest(f_classif, k=k)\n",
    "        X_new = selector.fit_transform(X_kbest, y)\n",
    "\n",
    "        # Get the selected feature names\n",
    "        selected_features = X_kbest.columns[selector.get_support()]\n",
    "\n",
    "        # Evaluate the model\n",
    "        # model = LGBMClassifier(n_jobs=-1, random_state=5)\n",
    "        roc_auc_scores = cross_validate(model, X_new, y, cv=sk10, scoring='roc_auc_ovr', n_jobs=-1)\n",
    "        mean_roc_auc_scores = roc_auc_scores['test_score'].mean()\n",
    "\n",
    "        if mean_roc_auc_scores > best_score:\n",
    "            best_k = k\n",
    "            best_score = mean_roc_auc_scores\n",
    "            best_features = list(selected_features)\n",
    "\n",
    "    best_features_list.append({'k': best_k,\n",
    "                    'Selected Features': best_features,\n",
    "                    'ROC AUC Score': best_score,\n",
    "                    'Model Name': model_name})\n",
    "    \n",
    "    kbest_features[model_name] = best_features\n",
    "\n",
    "best_features_df = pd.DataFrame(best_features_list)\n",
    "\n",
    "best_features_df.sort_values(by='ROC AUC Score', ascending=False, inplace=True)"
   ]
  },
  {
   "cell_type": "code",
   "execution_count": null,
   "metadata": {},
   "outputs": [],
   "source": [
    "with open('kbest_features.txt', mode='w') as f:\n",
    "    pprint(kbest_features, stream=f)"
   ]
  },
  {
   "cell_type": "code",
   "execution_count": null,
   "metadata": {},
   "outputs": [],
   "source": [
    "best_features_df"
   ]
  },
  {
   "cell_type": "markdown",
   "metadata": {},
   "source": [
    "- RFECV"
   ]
  },
  {
   "cell_type": "code",
   "execution_count": null,
   "metadata": {},
   "outputs": [],
   "source": [
    "%%time\n",
    "\n",
    "# Initialize empty dictionary for RFECV features\n",
    "rfecv_features = {}\n",
    "\n",
    "for alg in models:\n",
    "    # set name\n",
    "    MLA_name = alg.__class__.__name__\n",
    "\t\t\n",
    "    features = perm_important_features[MLA_name]\n",
    "\n",
    "    # incase there is no feature that had importance, go to the next model\n",
    "    if len(features) == 0:\n",
    "        continue\n",
    "\t\n",
    "    X_rfecv = X[features]\n",
    "\n",
    "    try:\n",
    "        print(f'Starting with {MLA_name}')\n",
    "        # Create the RFECV object and rank each feature\n",
    "        selector = RFECV(alg, cv=sk10, step=1, scoring='roc_auc_ovr', verbose=2)\n",
    "        selector = selector.fit(X_rfecv, y)\n",
    "\n",
    "        selected_features = list(X_rfecv.columns[selector.support_])\n",
    "\n",
    "        # Reorder selected_features based on the predefined features_list\n",
    "        selected_features_ordered = [feat for feat in features_list if feat in selected_features]\n",
    "\n",
    "        rfecv_features[MLA_name] = selected_features_ordered\n",
    "\n",
    "        print(f'Done with {MLA_name}', end='\\n\\n')\n",
    "    \n",
    "    except ValueError:\n",
    "        # In case of an error, keep the original order but filtered by features_list\n",
    "        features_filtered = [feat for feat in features_list if feat in features]\n",
    "        rfecv_features[MLA_name] = features_filtered\n",
    "        print(f'{MLA_name} does not have coef_ or feature_importances_', end='\\n\\n')"
   ]
  },
  {
   "cell_type": "code",
   "execution_count": null,
   "metadata": {},
   "outputs": [],
   "source": [
    "with open('rfecv_features.txt', mode='w') as f:\n",
    "    pprint(rfecv_features, stream=f)"
   ]
  },
  {
   "cell_type": "code",
   "execution_count": null,
   "metadata": {},
   "outputs": [],
   "source": [
    "%%time\n",
    "\n",
    "# Set seeds for reproducibility\n",
    "np.random.seed(42)\n",
    "random.seed(42)\n",
    "\n",
    "rfecv_models = evaluate_models_roc(models, X, y, rfecv_features, sk10, f'{experiment_name}_rfecv')\n",
    "rfecv_models"
   ]
  },
  {
   "cell_type": "markdown",
   "metadata": {},
   "source": [
    "- SFS"
   ]
  },
  {
   "cell_type": "code",
   "execution_count": null,
   "metadata": {},
   "outputs": [],
   "source": [
    "%%time\n",
    "\n",
    "# Initialize empty dictionary for SFS features\n",
    "sfs_features = {}\n",
    "\n",
    "for alg in models:\n",
    "    # set name\n",
    "    MLA_name = alg.__class__.__name__\n",
    "\n",
    "    try:\n",
    "            \n",
    "        # features = kbest_features[MLA_name]\n",
    "        # features = feat_importance_features[MLA_name]\n",
    "        features = rfecv_features[MLA_name]\n",
    "\n",
    "        # incase there is no feature that had importance, go to the next model\n",
    "        if len(features) == 0:\n",
    "            continue\n",
    "        \n",
    "        X_sfs = X[features]\n",
    "\n",
    "        print(f'Running backward feature selection with {MLA_name}')\n",
    "\n",
    "        sfs = SFS(alg,\n",
    "            k_features='best',\n",
    "            forward=False,\n",
    "            floating=False,\n",
    "            scoring='roc_auc_ovr',\n",
    "            verbose=2,\n",
    "            n_jobs=-1,\n",
    "            cv=sk10)\n",
    "        \n",
    "        sfs = sfs.fit(X_sfs, y)\n",
    "\n",
    "        # Get the selected features index\n",
    "        selected_sfs_idx = list(sfs.k_feature_idx_)\n",
    "\n",
    "        # Get the feature names\n",
    "        selected_sfs_feats = X_sfs.columns[selected_sfs_idx]\n",
    "\n",
    "        selected_features = list(selected_sfs_feats)\n",
    "\n",
    "        # Reorder selected_features based on the predefined features_list\n",
    "        selected_features_ordered = [feat for feat in features_list if feat in selected_features]\n",
    "\n",
    "        sfs_features[MLA_name] = selected_features_ordered\n",
    "\n",
    "        print(f'Done with {MLA_name}', end='\\n\\n')\n",
    "\n",
    "    except KeyError:\n",
    "        print(f'{MLA_name} not in the dictionary.')"
   ]
  },
  {
   "cell_type": "code",
   "execution_count": null,
   "metadata": {},
   "outputs": [],
   "source": [
    "with open('sfs_features.txt', mode='w') as f:\n",
    "    pprint(sfs_features, stream=f)"
   ]
  },
  {
   "cell_type": "code",
   "execution_count": null,
   "metadata": {},
   "outputs": [],
   "source": [
    "%%time\n",
    "\n",
    "# Set seeds for reproducibility\n",
    "np.random.seed(42)\n",
    "random.seed(42)\n",
    "\n",
    "sfs_models = evaluate_models_roc(models, X, y, sfs_features, sk10, f'{experiment_name}_sfs')\n",
    "sfs_models"
   ]
  },
  {
   "cell_type": "code",
   "execution_count": null,
   "metadata": {},
   "outputs": [],
   "source": [
    "%%time\n",
    "\n",
    "# Set seeds for reproducibility\n",
    "np.random.seed(42)\n",
    "random.seed(42)\n",
    "\n",
    "feat_importance_models = evaluate_models_roc(models, X, y, feat_importance_features, sk10, f'{experiment_name}_featimp')\n",
    "feat_importance_models"
   ]
  },
  {
   "cell_type": "code",
   "execution_count": null,
   "metadata": {},
   "outputs": [],
   "source": [
    "%%time\n",
    "\n",
    "# Set seeds for reproducibility\n",
    "np.random.seed(42)\n",
    "random.seed(42)\n",
    "\n",
    "kbest_models = evaluate_models_roc(models, X, y, kbest_features, sk10, f'{experiment_name}_kbest')\n",
    "kbest_models"
   ]
  },
  {
   "cell_type": "markdown",
   "metadata": {},
   "source": [
    "### Post Model Features"
   ]
  },
  {
   "cell_type": "code",
   "execution_count": null,
   "metadata": {},
   "outputs": [],
   "source": [
    "model1 = LGBMClassifier(n_jobs=-1, random_state=5)\n",
    "model2 = XGBClassifier(random_state=5)\n",
    "model3 = RandomForestClassifier(random_state=5)\n",
    "model4 = ExtraTreesClassifier(random_state=5)\n",
    "model5 = HistGradientBoostingClassifier(random_state=5)\n",
    "model6 = CatBoostClassifier(random_state=5, verbose=False, early_stopping_rounds=100)"
   ]
  },
  {
   "cell_type": "markdown",
   "metadata": {},
   "source": [
    "- Features for Competition + Original dataset down to SFS for all models (Experiment Set 2)"
   ]
  },
  {
   "cell_type": "code",
   "execution_count": 17,
   "metadata": {},
   "outputs": [],
   "source": [
    "model1_feats = ['X_Minimum', 'Y_Minimum', 'Pixels_Areas', 'X_Perimeter', 'Minimum_of_Luminosity', 'Length_of_Conveyer', 'TypeOfSteel_A300', 'Steel_Plate_Thickness', 'Edges_Index', 'Empty_Index', 'Square_Index', 'Outside_X_Index', 'Edges_X_Index', 'Edges_Y_Index', 'Orientation_Index', 'Luminosity_Index']\n",
    "model2_feats = ['X_Minimum', 'Pixels_Areas', 'X_Perimeter', 'Minimum_of_Luminosity', 'Maximum_of_Luminosity', 'Length_of_Conveyer', 'TypeOfSteel_A300', 'Steel_Plate_Thickness', 'Edges_Index', 'Empty_Index', 'Outside_X_Index', 'Edges_Y_Index', 'Outside_Global_Index', 'Orientation_Index', 'Luminosity_Index']\n",
    "model3_feats = ['X_Minimum', 'Y_Minimum', 'Pixels_Areas', 'X_Perimeter', 'Minimum_of_Luminosity', 'Maximum_of_Luminosity', 'Length_of_Conveyer', 'TypeOfSteel_A300', 'Steel_Plate_Thickness', 'Edges_Index', 'Empty_Index', 'Outside_X_Index', 'Edges_Y_Index', 'Orientation_Index', 'Luminosity_Index']\n",
    "model4_feats = ['X_Minimum', 'Y_Minimum', 'Pixels_Areas', 'Minimum_of_Luminosity', 'Maximum_of_Luminosity', 'Length_of_Conveyer', 'TypeOfSteel_A300', 'Steel_Plate_Thickness', 'Edges_Index', 'Empty_Index', 'Outside_X_Index', 'Edges_Y_Index', 'Orientation_Index']\n",
    "model5_feats = ['X_Minimum', 'Y_Minimum', 'Pixels_Areas', 'Minimum_of_Luminosity', 'Length_of_Conveyer', 'TypeOfSteel_A300', 'Steel_Plate_Thickness', 'Edges_Index', 'Empty_Index', 'Square_Index', 'Outside_X_Index', 'Edges_Y_Index', 'Orientation_Index', 'Luminosity_Index']\n",
    "model6_feats = ['X_Minimum', 'Pixels_Areas', 'X_Perimeter', 'Minimum_of_Luminosity', 'Maximum_of_Luminosity', 'Length_of_Conveyer', 'TypeOfSteel_A300', 'Steel_Plate_Thickness', 'Edges_Index', 'Empty_Index', 'Outside_X_Index', 'Edges_Y_Index', 'Outside_Global_Index', 'Orientation_Index', 'Luminosity_Index']\n",
    "\n",
    "X_lgbm = X[model1_feats]\n",
    "X_xgb = X[model2_feats]\n",
    "X_rf = X[model3_feats]\n",
    "X_extrat = X[model4_feats]\n",
    "X_hist = X[model5_feats]\n",
    "X_cat = X[model6_feats]"
   ]
  },
  {
   "cell_type": "markdown",
   "metadata": {},
   "source": [
    "# Hyperparameter Tuning"
   ]
  },
  {
   "cell_type": "markdown",
   "metadata": {},
   "source": [
    "- LGBM"
   ]
  },
  {
   "cell_type": "code",
   "execution_count": 19,
   "metadata": {},
   "outputs": [
    {
     "name": "stderr",
     "output_type": "stream",
     "text": [
      "[I 2024-03-29 21:21:50,494] A new study created in memory with name: no-name-9b64a4b6-064b-4f78-818e-e20b760c702c\n",
      "[I 2024-03-29 21:22:17,010] Trial 0 finished with value: 0.8976615929369792 and parameters: {'boosting': 'dart', 'colsample_bytree': 0.5378419005311236, 'learning_rate': 0.19389439422812849, 'max_depth': 5, 'min_child_samples': 46, 'min_child_weight': 9.712332134025896, 'min_split_gain': 0.5086730611030881, 'n_estimators': 252, 'num_leaves': 36, 'reg_alpha': 0.5735842293464366, 'reg_lambda': 0.11437356348065236, 'subsample': 0.6211258812680587}. Best is trial 0 with value: 0.8976615929369792.\n",
      "[I 2024-03-29 21:23:06,391] Trial 1 finished with value: 0.8966261881554763 and parameters: {'boosting': 'dart', 'colsample_bytree': 0.7633258782246661, 'learning_rate': 0.45924154140117035, 'max_depth': 15, 'min_child_samples': 75, 'min_child_weight': 9.533023304028491, 'min_split_gain': 0.5840019466567259, 'n_estimators': 463, 'num_leaves': 50, 'reg_alpha': 0.5743634611942869, 'reg_lambda': 0.11051818217157083, 'subsample': 0.49422047366117405}. Best is trial 0 with value: 0.8976615929369792.\n",
      "[I 2024-03-29 21:24:34,995] Trial 2 finished with value: 0.8982214007928886 and parameters: {'boosting': 'dart', 'colsample_bytree': 0.6225986896922069, 'learning_rate': 0.4476008706853442, 'max_depth': 46, 'min_child_samples': 11, 'min_child_weight': 6.746427625701935, 'min_split_gain': 0.9245551782504706, 'n_estimators': 861, 'num_leaves': 87, 'reg_alpha': 0.7426580446771414, 'reg_lambda': 0.06790095374800148, 'subsample': 0.8379148446766773}. Best is trial 2 with value: 0.8982214007928886.\n",
      "[I 2024-03-29 21:26:35,159] Trial 3 finished with value: 0.8987174853477948 and parameters: {'boosting': 'dart', 'colsample_bytree': 0.7324522149754977, 'learning_rate': 0.13981934622951592, 'max_depth': 10, 'min_child_samples': 48, 'min_child_weight': 0.6236654874810934, 'min_split_gain': 0.9478690581585507, 'n_estimators': 642, 'num_leaves': 43, 'reg_alpha': 0.9446370161323757, 'reg_lambda': 0.07219186526287785, 'subsample': 0.44387396956238967}. Best is trial 3 with value: 0.8987174853477948.\n",
      "[I 2024-03-29 21:26:37,358] Trial 4 finished with value: 0.8818325066683194 and parameters: {'boosting': 'gbdt', 'colsample_bytree': 0.3669827139466058, 'learning_rate': 0.37207035933089583, 'max_depth': 19, 'min_child_samples': 61, 'min_child_weight': 2.1919343257410158, 'min_split_gain': 0.6721676772580896, 'n_estimators': 555, 'num_leaves': 126, 'reg_alpha': 0.7165061023129227, 'reg_lambda': 0.13687523100932564, 'subsample': 0.6261806755914899}. Best is trial 3 with value: 0.8987174853477948.\n",
      "[I 2024-03-29 21:28:24,059] Trial 5 finished with value: 0.897534023419957 and parameters: {'boosting': 'dart', 'colsample_bytree': 0.44187806666297097, 'learning_rate': 0.29121658214283697, 'max_depth': 30, 'min_child_samples': 51, 'min_child_weight': 2.1407526004092485, 'min_split_gain': 0.6452745803860633, 'n_estimators': 725, 'num_leaves': 124, 'reg_alpha': 0.40986424851226594, 'reg_lambda': 0.4363296060006035, 'subsample': 0.6147857641308284}. Best is trial 3 with value: 0.8987174853477948.\n",
      "[I 2024-03-29 21:29:15,461] Trial 6 finished with value: 0.8985774198661184 and parameters: {'boosting': 'dart', 'colsample_bytree': 0.4182180560187565, 'learning_rate': 0.4371242239384264, 'max_depth': 8, 'min_child_samples': 49, 'min_child_weight': 7.060386264543439, 'min_split_gain': 0.9116941448755507, 'n_estimators': 590, 'num_leaves': 30, 'reg_alpha': 0.90515334194296, 'reg_lambda': 0.04554516983519197, 'subsample': 0.6484974233209327}. Best is trial 3 with value: 0.8987174853477948.\n",
      "[I 2024-03-29 21:29:27,083] Trial 7 finished with value: 0.8986080097019102 and parameters: {'boosting': 'gbdt', 'colsample_bytree': 0.49103861352152534, 'learning_rate': 0.029303267515977036, 'max_depth': 25, 'min_child_samples': 19, 'min_child_weight': 0.40908264251314624, 'min_split_gain': 0.5306766521238373, 'n_estimators': 177, 'num_leaves': 81, 'reg_alpha': 0.8863926177734158, 'reg_lambda': 0.19815317905163377, 'subsample': 0.833078935363545}. Best is trial 3 with value: 0.8987174853477948.\n",
      "[I 2024-03-29 21:29:29,281] Trial 8 finished with value: 0.887159296855048 and parameters: {'boosting': 'gbdt', 'colsample_bytree': 0.4707365344868875, 'learning_rate': 0.35225663091386056, 'max_depth': 43, 'min_child_samples': 60, 'min_child_weight': 2.3909956071399527, 'min_split_gain': 0.9862463341635224, 'n_estimators': 299, 'num_leaves': 115, 'reg_alpha': 0.5801440597902469, 'reg_lambda': 0.07176155987511251, 'subsample': 0.9953892710941705}. Best is trial 3 with value: 0.8987174853477948.\n",
      "[I 2024-03-29 21:29:31,279] Trial 9 finished with value: 0.8936672005128031 and parameters: {'boosting': 'gbdt', 'colsample_bytree': 0.5614196201481262, 'learning_rate': 0.3915003819879576, 'max_depth': 48, 'min_child_samples': 31, 'min_child_weight': 1.1167043841253457, 'min_split_gain': 0.7793870451468459, 'n_estimators': 239, 'num_leaves': 4, 'reg_alpha': 0.49126362083778874, 'reg_lambda': 0.16041430704982373, 'subsample': 0.8615891105655572}. Best is trial 3 with value: 0.8987174853477948.\n",
      "[I 2024-03-29 21:30:28,892] Trial 10 finished with value: 0.8945230031784931 and parameters: {'boosting': 'dart', 'colsample_bytree': 0.2257682579940702, 'learning_rate': 0.1666069317054042, 'max_depth': 64, 'min_child_samples': 84, 'min_child_weight': 3.7783324577352184, 'min_split_gain': 0.8252712390558463, 'n_estimators': 877, 'num_leaves': 2, 'reg_alpha': 0.9930097583851182, 'reg_lambda': 0.0014627254269813927, 'subsample': 0.40333713278145095}. Best is trial 3 with value: 0.8987174853477948.\n",
      "[I 2024-03-29 21:30:38,100] Trial 11 finished with value: 0.8972879614422338 and parameters: {'boosting': 'gbdt', 'colsample_bytree': 0.7939115494329188, 'learning_rate': 0.027150646072599455, 'max_depth': 27, 'min_child_samples': 12, 'min_child_weight': 0.2741648257655216, 'min_split_gain': 0.7285642300509503, 'n_estimators': 133, 'num_leaves': 78, 'reg_alpha': 0.8562523795233219, 'reg_lambda': 0.2550300114562798, 'subsample': 0.7670268396139284}. Best is trial 3 with value: 0.8987174853477948.\n",
      "[I 2024-03-29 21:30:47,791] Trial 12 finished with value: 0.8984729423544763 and parameters: {'boosting': 'gbdt', 'colsample_bytree': 0.6544504900487966, 'learning_rate': 0.038123133769189035, 'max_depth': -1, 'min_child_samples': 28, 'min_child_weight': 0.23362483240516022, 'min_split_gain': 0.5163800238379865, 'n_estimators': 462, 'num_leaves': 63, 'reg_alpha': 0.9991756637855137, 'reg_lambda': 0.22970491341523516, 'subsample': 0.4999931561626756}. Best is trial 3 with value: 0.8987174853477948.\n",
      "[I 2024-03-29 21:30:52,536] Trial 13 finished with value: 0.8964949622316937 and parameters: {'boosting': 'gbdt', 'colsample_bytree': 0.6932086292443909, 'learning_rate': 0.09650817074143583, 'max_depth': 19, 'min_child_samples': 30, 'min_child_weight': 3.8485386398292163, 'min_split_gain': 0.8520905835455335, 'n_estimators': 705, 'num_leaves': 93, 'reg_alpha': 0.8321557332392471, 'reg_lambda': 0.21139730758120326, 'subsample': 0.7425442048193328}. Best is trial 3 with value: 0.8987174853477948.\n",
      "[I 2024-03-29 21:32:20,461] Trial 14 finished with value: 0.8911730286742633 and parameters: {'boosting': 'dart', 'colsample_bytree': 0.5798644088524469, 'learning_rate': 0.0006222148418612607, 'max_depth': 36, 'min_child_samples': 97, 'min_child_weight': 0.049716580312128444, 'min_split_gain': 0.722648789570837, 'n_estimators': 414, 'num_leaves': 103, 'reg_alpha': 0.9127447775991822, 'reg_lambda': 0.3034138106938993, 'subsample': 0.7143358680012887}. Best is trial 3 with value: 0.8987174853477948.\n",
      "[I 2024-03-29 21:32:24,567] Trial 15 finished with value: 0.8963732126328785 and parameters: {'boosting': 'gbdt', 'colsample_bytree': 0.7066902503737962, 'learning_rate': 0.10431601462261153, 'max_depth': 14, 'min_child_samples': 24, 'min_child_weight': 1.6824004663398835, 'min_split_gain': 0.5937436788218478, 'n_estimators': 998, 'num_leaves': 65, 'reg_alpha': 0.7912670914097004, 'reg_lambda': 0.0005932108084396037, 'subsample': 0.530883645689775}. Best is trial 3 with value: 0.8987174853477948.\n",
      "[I 2024-03-29 21:32:28,616] Trial 16 finished with value: 0.8965183888756728 and parameters: {'boosting': 'gbdt', 'colsample_bytree': 0.5175944912970876, 'learning_rate': 0.09798935645717084, 'max_depth': 26, 'min_child_samples': 39, 'min_child_weight': 2.983058649947171, 'min_split_gain': 0.7767532311139584, 'n_estimators': 698, 'num_leaves': 147, 'reg_alpha': 0.8959213478619301, 'reg_lambda': 0.1775422344966835, 'subsample': 0.4490070999197131}. Best is trial 3 with value: 0.8987174853477948.\n",
      "[I 2024-03-29 21:32:37,954] Trial 17 finished with value: 0.8975048015215599 and parameters: {'boosting': 'dart', 'colsample_bytree': 0.624564028373513, 'learning_rate': 0.22055022750758613, 'max_depth': 37, 'min_child_samples': 17, 'min_child_weight': 1.2312165717061063, 'min_split_gain': 0.6804629085265281, 'n_estimators': 131, 'num_leaves': 22, 'reg_alpha': 0.788488815637441, 'reg_lambda': 0.3054492390417288, 'subsample': 0.5631533070249285}. Best is trial 3 with value: 0.8987174853477948.\n",
      "[I 2024-03-29 21:32:40,285] Trial 18 finished with value: 0.8967278618775812 and parameters: {'boosting': 'gbdt', 'colsample_bytree': 0.7448936338617835, 'learning_rate': 0.15124344606778953, 'max_depth': 6, 'min_child_samples': 5, 'min_child_weight': 1.1140657876953957, 'min_split_gain': 0.9868202210928749, 'n_estimators': 344, 'num_leaves': 49, 'reg_alpha': 0.9479574645325319, 'reg_lambda': 0.1754157801332694, 'subsample': 0.42655445579907575}. Best is trial 3 with value: 0.8987174853477948.\n",
      "[I 2024-03-29 21:33:56,963] Trial 19 finished with value: 0.8980026926138566 and parameters: {'boosting': 'dart', 'colsample_bytree': 0.7145512719971647, 'learning_rate': 0.2621016108218236, 'max_depth': 22, 'min_child_samples': 68, 'min_child_weight': 3.6468525459148804, 'min_split_gain': 0.8295012700074839, 'n_estimators': 644, 'num_leaves': 67, 'reg_alpha': 0.8509290237343315, 'reg_lambda': 0.10953132131572077, 'subsample': 0.5808290030165913}. Best is trial 3 with value: 0.8987174853477948.\n",
      "[I 2024-03-29 21:34:02,342] Trial 20 finished with value: 0.8978076101347702 and parameters: {'boosting': 'gbdt', 'colsample_bytree': 0.5872491890757702, 'learning_rate': 0.0657466880434385, 'max_depth': 56, 'min_child_samples': 40, 'min_child_weight': 4.423779032991213, 'min_split_gain': 0.5590994924345425, 'n_estimators': 816, 'num_leaves': 43, 'reg_alpha': 0.9519485626720671, 'reg_lambda': 0.05956400595890412, 'subsample': 0.6819593402033362}. Best is trial 3 with value: 0.8987174853477948.\n",
      "[I 2024-03-29 21:34:44,785] Trial 21 finished with value: 0.8984902461330188 and parameters: {'boosting': 'dart', 'colsample_bytree': 0.4221382857234409, 'learning_rate': 0.49571488289872667, 'max_depth': 10, 'min_child_samples': 56, 'min_child_weight': 5.730670773916994, 'min_split_gain': 0.913429370062523, 'n_estimators': 585, 'num_leaves': 20, 'reg_alpha': 0.8968259716298066, 'reg_lambda': 0.048851484568817834, 'subsample': 0.4784883454449532}. Best is trial 3 with value: 0.8987174853477948.\n",
      "[I 2024-03-29 21:36:04,078] Trial 22 finished with value: 0.8987493979431006 and parameters: {'boosting': 'dart', 'colsample_bytree': 0.48484963119576613, 'learning_rate': 0.13622662850391595, 'max_depth': -1, 'min_child_samples': 42, 'min_child_weight': 5.4666671486815535, 'min_split_gain': 0.9080870625224224, 'n_estimators': 518, 'num_leaves': 30, 'reg_alpha': 0.9341516846636849, 'reg_lambda': 0.01977383586952872, 'subsample': 0.6685368528216983}. Best is trial 22 with value: 0.8987493979431006.\n",
      "[I 2024-03-29 21:37:19,041] Trial 23 finished with value: 0.8989047166905181 and parameters: {'boosting': 'dart', 'colsample_bytree': 0.48349464568217704, 'learning_rate': 0.1375252050729044, 'max_depth': 0, 'min_child_samples': 39, 'min_child_weight': 2.950196257861971, 'min_split_gain': 0.9513310084268437, 'n_estimators': 501, 'num_leaves': 55, 'reg_alpha': 0.9412684166978857, 'reg_lambda': 0.0023506708161049536, 'subsample': 0.5386484546240736}. Best is trial 23 with value: 0.8989047166905181.\n",
      "[I 2024-03-29 21:38:26,876] Trial 24 finished with value: 0.8987330900355062 and parameters: {'boosting': 'dart', 'colsample_bytree': 0.5156526723274495, 'learning_rate': 0.15467943351351277, 'max_depth': -1, 'min_child_samples': 40, 'min_child_weight': 2.860486573731021, 'min_split_gain': 0.9520669423491084, 'n_estimators': 480, 'num_leaves': 56, 'reg_alpha': 0.9438802417402412, 'reg_lambda': 0.027092557483141287, 'subsample': 0.5383737091095854}. Best is trial 23 with value: 0.8989047166905181.\n",
      "[I 2024-03-29 21:39:29,885] Trial 25 finished with value: 0.8991528029361504 and parameters: {'boosting': 'dart', 'colsample_bytree': 0.5145767935594828, 'learning_rate': 0.1923329726142723, 'max_depth': 0, 'min_child_samples': 40, 'min_child_weight': 3.2957480998415862, 'min_split_gain': 0.8700728530494674, 'n_estimators': 479, 'num_leaves': 62, 'reg_alpha': 0.9704291974896981, 'reg_lambda': 0.0017381095999524946, 'subsample': 0.5412615726293593}. Best is trial 25 with value: 0.8991528029361504.\n",
      "[I 2024-03-29 21:39:54,911] Trial 26 finished with value: 0.8990594591389892 and parameters: {'boosting': 'dart', 'colsample_bytree': 0.37629088828852225, 'learning_rate': 0.20666559602096782, 'max_depth': 2, 'min_child_samples': 36, 'min_child_weight': 5.3092071064587305, 'min_split_gain': 0.8523479620898352, 'n_estimators': 383, 'num_leaves': 18, 'reg_alpha': 0.9875374900160718, 'reg_lambda': 0.007794799642996427, 'subsample': 0.5903898690864483}. Best is trial 25 with value: 0.8991528029361504.\n",
      "[I 2024-03-29 21:40:20,158] Trial 27 finished with value: 0.8994552925247178 and parameters: {'boosting': 'dart', 'colsample_bytree': 0.35885033102300595, 'learning_rate': 0.21902422874173558, 'max_depth': 3, 'min_child_samples': 34, 'min_child_weight': 4.768878441321062, 'min_split_gain': 0.8804385788228134, 'n_estimators': 334, 'num_leaves': 19, 'reg_alpha': 0.9922927799932719, 'reg_lambda': 0.010366800790489683, 'subsample': 0.5713199333429264}. Best is trial 27 with value: 0.8994552925247178.\n",
      "[I 2024-03-29 21:40:56,637] Trial 28 finished with value: 0.8990467314070756 and parameters: {'boosting': 'dart', 'colsample_bytree': 0.34072199927957314, 'learning_rate': 0.22317939765972544, 'max_depth': 4, 'min_child_samples': 33, 'min_child_weight': 5.025595976566911, 'min_split_gain': 0.868363227663812, 'n_estimators': 384, 'num_leaves': 15, 'reg_alpha': 0.9864043175366682, 'reg_lambda': 0.09386861232518227, 'subsample': 0.5856004552782371}. Best is trial 27 with value: 0.8994552925247178.\n",
      "[I 2024-03-29 21:41:15,836] Trial 29 finished with value: 0.8988906659024906 and parameters: {'boosting': 'dart', 'colsample_bytree': 0.36872031177619546, 'learning_rate': 0.1956899275406601, 'max_depth': 4, 'min_child_samples': 21, 'min_child_weight': 4.612103534613179, 'min_split_gain': 0.8826793558673016, 'n_estimators': 249, 'num_leaves': 12, 'reg_alpha': 0.9835728724350394, 'reg_lambda': 0.03542968344413755, 'subsample': 0.6041995723921443}. Best is trial 27 with value: 0.8994552925247178.\n",
      "[I 2024-03-29 21:41:44,441] Trial 30 finished with value: 0.897815236995943 and parameters: {'boosting': 'dart', 'colsample_bytree': 0.2919845014898368, 'learning_rate': 0.2723108704039862, 'max_depth': 13, 'min_child_samples': 32, 'min_child_weight': 6.02154621605445, 'min_split_gain': 0.8262076969419603, 'n_estimators': 312, 'num_leaves': 37, 'reg_alpha': 0.648450021181294, 'reg_lambda': 0.13305109498878548, 'subsample': 0.6422764854026342}. Best is trial 27 with value: 0.8994552925247178.\n",
      "[I 2024-03-29 21:42:20,192] Trial 31 finished with value: 0.8991853884829194 and parameters: {'boosting': 'dart', 'colsample_bytree': 0.3499538399048444, 'learning_rate': 0.2180631216460072, 'max_depth': 4, 'min_child_samples': 34, 'min_child_weight': 4.913585377751683, 'min_split_gain': 0.874981948036766, 'n_estimators': 391, 'num_leaves': 17, 'reg_alpha': 0.9841445187575537, 'reg_lambda': 0.08908266123476247, 'subsample': 0.584169613626593}. Best is trial 27 with value: 0.8994552925247178.\n",
      "[I 2024-03-29 21:42:59,395] Trial 32 finished with value: 0.8992267700931317 and parameters: {'boosting': 'dart', 'colsample_bytree': 0.31879290379484265, 'learning_rate': 0.22822376379802833, 'max_depth': 4, 'min_child_samples': 24, 'min_child_weight': 4.455595555553924, 'min_split_gain': 0.8716112325358999, 'n_estimators': 418, 'num_leaves': 26, 'reg_alpha': 0.9971606394426918, 'reg_lambda': 0.08841442840490749, 'subsample': 0.5674708170478602}. Best is trial 27 with value: 0.8994552925247178.\n",
      "[I 2024-03-29 21:43:46,761] Trial 33 finished with value: 0.8987873851258157 and parameters: {'boosting': 'dart', 'colsample_bytree': 0.28225447659525515, 'learning_rate': 0.22903726124769525, 'max_depth': 9, 'min_child_samples': 24, 'min_child_weight': 4.441994518864866, 'min_split_gain': 0.8678668124637681, 'n_estimators': 436, 'num_leaves': 29, 'reg_alpha': 0.9982269876052932, 'reg_lambda': 0.08542705842861137, 'subsample': 0.5104256869165641}. Best is trial 27 with value: 0.8994552925247178.\n",
      "[I 2024-03-29 21:44:22,295] Trial 34 finished with value: 0.8993538022944699 and parameters: {'boosting': 'dart', 'colsample_bytree': 0.3133191434154407, 'learning_rate': 0.17375929988842234, 'max_depth': 5, 'min_child_samples': 45, 'min_child_weight': 6.388109299687041, 'min_split_gain': 0.8962168611735738, 'n_estimators': 346, 'num_leaves': 12, 'reg_alpha': 0.9585716697358162, 'reg_lambda': 0.10425149052029462, 'subsample': 0.5602648470223995}. Best is trial 27 with value: 0.8994552925247178.\n",
      "[I 2024-03-29 21:44:34,933] Trial 35 finished with value: 0.8994509041432636 and parameters: {'boosting': 'dart', 'colsample_bytree': 0.30458357396024127, 'learning_rate': 0.2452438352693344, 'max_depth': 18, 'min_child_samples': 47, 'min_child_weight': 7.510388082773024, 'min_split_gain': 0.8955023649991991, 'n_estimators': 200, 'num_leaves': 10, 'reg_alpha': 0.9262652849214809, 'reg_lambda': 0.10856303266805119, 'subsample': 0.5711303732615067}. Best is trial 27 with value: 0.8994552925247178.\n",
      "[I 2024-03-29 21:44:44,056] Trial 36 finished with value: 0.8983643378642565 and parameters: {'boosting': 'dart', 'colsample_bytree': 0.30468627594817455, 'learning_rate': 0.29370716642793004, 'max_depth': 18, 'min_child_samples': 55, 'min_child_weight': 7.832397211786538, 'min_split_gain': 0.9386704139826458, 'n_estimators': 175, 'num_leaves': 8, 'reg_alpha': 0.9208753272423289, 'reg_lambda': 0.11565101936008973, 'subsample': 0.485127609437098}. Best is trial 27 with value: 0.8994552925247178.\n",
      "[I 2024-03-29 21:45:10,449] Trial 37 finished with value: 0.8977933059445257 and parameters: {'boosting': 'dart', 'colsample_bytree': 0.24474884453675594, 'learning_rate': 0.2455194047102867, 'max_depth': 12, 'min_child_samples': 46, 'min_child_weight': 6.116516911590818, 'min_split_gain': 0.8888154977140437, 'n_estimators': 288, 'num_leaves': 38, 'reg_alpha': 0.8738562277682995, 'reg_lambda': 0.052141807634959195, 'subsample': 0.6189294198972598}. Best is trial 27 with value: 0.8994552925247178.\n",
      "[I 2024-03-29 21:45:27,955] Trial 38 finished with value: 0.8986760960320054 and parameters: {'boosting': 'dart', 'colsample_bytree': 0.20329391048162448, 'learning_rate': 0.18583939400966126, 'max_depth': 17, 'min_child_samples': 69, 'min_child_weight': 7.909705667388043, 'min_split_gain': 0.9076408674479064, 'n_estimators': 204, 'num_leaves': 27, 'reg_alpha': 0.9197842287077415, 'reg_lambda': 0.1314703390078077, 'subsample': 0.5538266932835475}. Best is trial 27 with value: 0.8994552925247178.\n",
      "[I 2024-03-29 21:45:53,143] Trial 39 finished with value: 0.8987868016493318 and parameters: {'boosting': 'dart', 'colsample_bytree': 0.26420570661301007, 'learning_rate': 0.2947288310781317, 'max_depth': 8, 'min_child_samples': 47, 'min_child_weight': 6.383688316066618, 'min_split_gain': 0.938071009108372, 'n_estimators': 355, 'num_leaves': 9, 'reg_alpha': 0.9478889261919075, 'reg_lambda': 0.07121714887472244, 'subsample': 0.6253685365052845}. Best is trial 27 with value: 0.8994552925247178.\n",
      "[I 2024-03-29 21:46:18,835] Trial 40 finished with value: 0.898630404652633 and parameters: {'boosting': 'dart', 'colsample_bytree': 0.30500110251681095, 'learning_rate': 0.24036716072805636, 'max_depth': 15, 'min_child_samples': 60, 'min_child_weight': 6.822353929564878, 'min_split_gain': 0.971946025568226, 'n_estimators': 292, 'num_leaves': 23, 'reg_alpha': 0.8768425311018467, 'reg_lambda': 0.03660899028508302, 'subsample': 0.5135737671733883}. Best is trial 27 with value: 0.8994552925247178.\n",
      "[I 2024-03-29 21:46:54,152] Trial 41 finished with value: 0.8990587991082966 and parameters: {'boosting': 'dart', 'colsample_bytree': 0.33598684594381467, 'learning_rate': 0.2615548315150538, 'max_depth': 4, 'min_child_samples': 46, 'min_child_weight': 4.96776860156024, 'min_split_gain': 0.8953961946013722, 'n_estimators': 412, 'num_leaves': 14, 'reg_alpha': 0.9665737419598004, 'reg_lambda': 0.10018122671768033, 'subsample': 0.5723885621747156}. Best is trial 27 with value: 0.8994552925247178.\n",
      "[I 2024-03-29 21:47:14,333] Trial 42 finished with value: 0.8977055486170856 and parameters: {'boosting': 'dart', 'colsample_bytree': 0.39520013201931314, 'learning_rate': 0.17851068113967566, 'max_depth': 7, 'min_child_samples': 52, 'min_child_weight': 5.550442106074862, 'min_split_gain': 0.9216845323458457, 'n_estimators': 340, 'num_leaves': 3, 'reg_alpha': 0.9662423181775547, 'reg_lambda': 0.08168056325516038, 'subsample': 0.5928810352216829}. Best is trial 27 with value: 0.8994552925247178.\n",
      "[I 2024-03-29 21:47:35,764] Trial 43 finished with value: 0.8982767957911012 and parameters: {'boosting': 'dart', 'colsample_bytree': 0.33032936476633834, 'learning_rate': 0.22023467379928907, 'max_depth': 11, 'min_child_samples': 27, 'min_child_weight': 6.537246202249208, 'min_split_gain': 0.8460525561035418, 'n_estimators': 233, 'num_leaves': 34, 'reg_alpha': 0.9102921014239225, 'reg_lambda': 0.14173213510557486, 'subsample': 0.6488389334436329}. Best is trial 27 with value: 0.8994552925247178.\n",
      "[I 2024-03-29 21:47:40,492] Trial 44 finished with value: 0.8990314105794522 and parameters: {'boosting': 'dart', 'colsample_bytree': 0.33775484324499977, 'learning_rate': 0.20565802118807636, 'max_depth': 21, 'min_child_samples': 15, 'min_child_weight': 7.322925610079759, 'min_split_gain': 0.8059801903568848, 'n_estimators': 108, 'num_leaves': 10, 'reg_alpha': 0.9685889514331126, 'reg_lambda': 0.1070052168739652, 'subsample': 0.5733805198071419}. Best is trial 27 with value: 0.8994552925247178.\n",
      "[I 2024-03-29 21:47:53,080] Trial 45 finished with value: 0.8988010009627124 and parameters: {'boosting': 'dart', 'colsample_bytree': 0.2693571841887973, 'learning_rate': 0.16886261936789215, 'max_depth': 4, 'min_child_samples': 36, 'min_child_weight': 8.84240124452796, 'min_split_gain': 0.8863653851761863, 'n_estimators': 194, 'num_leaves': 22, 'reg_alpha': 0.9337920285757986, 'reg_lambda': 0.06812516156406354, 'subsample': 0.6118402492974614}. Best is trial 27 with value: 0.8994552925247178.\n",
      "[I 2024-03-29 21:48:02,139] Trial 46 finished with value: 0.892342452316533 and parameters: {'boosting': 'dart', 'colsample_bytree': 0.44694054312219544, 'learning_rate': 0.2822556208250799, 'max_depth': 7, 'min_child_samples': 44, 'min_child_weight': 6.0429082884113186, 'min_split_gain': 0.9194108417359608, 'n_estimators': 276, 'num_leaves': 2, 'reg_alpha': 0.9959565031355933, 'reg_lambda': 0.04209048636575936, 'subsample': 0.47174494512811416}. Best is trial 27 with value: 0.8994552925247178.\n",
      "[I 2024-03-29 21:48:55,006] Trial 47 finished with value: 0.8985296658204617 and parameters: {'boosting': 'dart', 'colsample_bytree': 0.39636321320559254, 'learning_rate': 0.3166378245189322, 'max_depth': 15, 'min_child_samples': 26, 'min_child_weight': 4.830479911003167, 'min_split_gain': 0.8972616147335808, 'n_estimators': 539, 'num_leaves': 43, 'reg_alpha': 0.9639105898123103, 'reg_lambda': 0.09062663099129781, 'subsample': 0.5072073194835502}. Best is trial 27 with value: 0.8994552925247178.\n",
      "[I 2024-03-29 21:49:36,334] Trial 48 finished with value: 0.8985753202774126 and parameters: {'boosting': 'dart', 'colsample_bytree': 0.24545945640976963, 'learning_rate': 0.24522484941538744, 'max_depth': 23, 'min_child_samples': 35, 'min_child_weight': 4.127328017599583, 'min_split_gain': 0.9670874353700755, 'n_estimators': 447, 'num_leaves': 16, 'reg_alpha': 0.9190272145990579, 'reg_lambda': 0.1577596296178525, 'subsample': 0.552161113707136}. Best is trial 27 with value: 0.8994552925247178.\n",
      "[I 2024-03-29 21:50:25,554] Trial 49 finished with value: 0.8982469303360551 and parameters: {'boosting': 'dart', 'colsample_bytree': 0.3067218948920155, 'learning_rate': 0.2062682517722446, 'max_depth': 34, 'min_child_samples': 20, 'min_child_weight': 5.052902444369257, 'min_split_gain': 0.8007943471477896, 'n_estimators': 396, 'num_leaves': 26, 'reg_alpha': 0.8868755546830334, 'reg_lambda': 0.06083630702285618, 'subsample': 0.5276187257419002}. Best is trial 27 with value: 0.8994552925247178.\n"
     ]
    },
    {
     "name": "stdout",
     "output_type": "stream",
     "text": [
      "Number of finished trials: 50\n",
      "Best trial: {'boosting': 'dart', 'colsample_bytree': 0.35885033102300595, 'learning_rate': 0.21902422874173558, 'max_depth': 3, 'min_child_samples': 34, 'min_child_weight': 4.768878441321062, 'min_split_gain': 0.8804385788228134, 'n_estimators': 334, 'num_leaves': 19, 'reg_alpha': 0.9922927799932719, 'reg_lambda': 0.010366800790489683, 'subsample': 0.5713199333429264}\n"
     ]
    }
   ],
   "source": [
    "import optuna\n",
    "\n",
    "def objective(trial):\n",
    "    # class_weight_option = trial.suggest_categorical('class_weight', ['none', 'balanced', 'custom'])\n",
    "    # if class_weight_option == 'none':\n",
    "    #     class_weight = None\n",
    "    # elif class_weight_option == 'balanced':\n",
    "    #     class_weight = 'balanced'\n",
    "    # else:\n",
    "    #     # For multi-class, you could define a range or specific values to test\n",
    "    #     weight_for_class_0 = trial.suggest_float('weight_for_class_0', 0.1, 10.0)\n",
    "    #     weight_for_class_1 = trial.suggest_float('weight_for_class_1', 0.1, 10.0)\n",
    "    #     weight_for_class_2 = trial.suggest_float('weight_for_class_2', 0.1, 10.0)\n",
    "    #     weight_for_class_3 = trial.suggest_float('weight_for_class_3', 0.1, 10.0)\n",
    "    #     weight_for_class_4 = trial.suggest_float('weight_for_class_4', 0.1, 10.0)\n",
    "    #     weight_for_class_5 = trial.suggest_float('weight_for_class_5', 0.1, 10.0)\n",
    "    #     weight_for_class_6 = trial.suggest_float('weight_for_class_6', 0.1, 10.0)\n",
    "    #     class_weight = {0: weight_for_class_0, 1: weight_for_class_1, 2: weight_for_class_2, 3: weight_for_class_3, 4: weight_for_class_4, 5: weight_for_class_5, 6: weight_for_class_6}\n",
    "\n",
    "    param = {\n",
    "        'objective': 'multiclass',\n",
    "        'num_class': 7,\n",
    "        # 'boosting_type': trial.suggest_categorical('boosting', ['gbdt', 'dart', 'goss']),\n",
    "        'boosting_type': trial.suggest_categorical('boosting', ['gbdt', 'dart']), # Selected from observing the other tuning trials\n",
    "        # 'class_weight': class_weight,\n",
    "        'class_weight': None, # Selected from observing the other tuning trials\n",
    "        'colsample_bytree': trial.suggest_float('colsample_bytree', 0.2, 0.8),\n",
    "        'learning_rate': trial.suggest_float('learning_rate', 0.000001, 0.5),\n",
    "        'max_depth': trial.suggest_int('max_depth', -1, 64),\n",
    "        'min_child_samples': trial.suggest_int('min_child_samples', 5, 100),\n",
    "        'min_child_weight': trial.suggest_float('min_child_weight', 0.001, 10.0),\n",
    "        'min_split_gain': trial.suggest_float('min_split_gain', 0.5, 1.0),\n",
    "        'n_estimators': trial.suggest_int('n_estimators', 100, 1000),\n",
    "        'n_jobs': -1,\n",
    "        'num_leaves': trial.suggest_int('num_leaves', 2, 150),\n",
    "        'random_state': 5,\n",
    "        'reg_alpha': trial.suggest_float('reg_alpha', 0.4, 1.0),\n",
    "        'reg_lambda': trial.suggest_float('reg_lambda', 0.0, 0.5),\n",
    "        'subsample': trial.suggest_float('subsample', 0.4, 1.0),\n",
    "        }\n",
    "\n",
    "    roc_auc_scores = []\n",
    "    \n",
    "    for train_index, test_index in sk10.split(X_lgbm, y):\n",
    "        X_train, X_test = X_lgbm.iloc[train_index], X_lgbm.iloc[test_index]\n",
    "        y_train, y_test = y.iloc[train_index], y.iloc[test_index]\n",
    "\n",
    "        model = LGBMClassifier(**param)\n",
    "        model.fit(X_train, y_train, eval_set=[(X_test, y_test)], early_stopping_rounds=100, verbose=False)\n",
    "        preds = model.predict_proba(X_test)\n",
    "        roc_auc = roc_auc_score(y_test, preds, multi_class='ovr', average='macro')\n",
    "        roc_auc_scores.append(roc_auc)\n",
    "    \n",
    "    return np.mean(roc_auc_scores)\n",
    "\n",
    "# Using median pruner\n",
    "pruner = optuna.pruners.MedianPruner(n_startup_trials=5, n_warmup_steps=3, interval_steps=1)\n",
    "\n",
    "study = optuna.create_study(direction='maximize', pruner=pruner)\n",
    "study.optimize(objective, n_trials=50)\n",
    "\n",
    "print('Number of finished trials:', len(study.trials))\n",
    "print('Best trial:', study.best_trial.params)\n",
    "\n",
    "# 0.893695902"
   ]
  },
  {
   "cell_type": "code",
   "execution_count": 20,
   "metadata": {},
   "outputs": [
    {
     "ename": "ValueError",
     "evalue": "Mime type rendering requires nbformat>=4.2.0 but it is not installed",
     "output_type": "error",
     "traceback": [
      "\u001b[1;31m---------------------------------------------------------------------------\u001b[0m",
      "\u001b[1;31mValueError\u001b[0m                                Traceback (most recent call last)",
      "File \u001b[1;32mc:\\Users\\Adeniyi Babalola\\AppData\\Local\\Programs\\Python\\Python310\\lib\\site-packages\\IPython\\core\\formatters.py:921\u001b[0m, in \u001b[0;36mIPythonDisplayFormatter.__call__\u001b[1;34m(self, obj)\u001b[0m\n\u001b[0;32m    919\u001b[0m method \u001b[38;5;241m=\u001b[39m get_real_method(obj, \u001b[38;5;28mself\u001b[39m\u001b[38;5;241m.\u001b[39mprint_method)\n\u001b[0;32m    920\u001b[0m \u001b[38;5;28;01mif\u001b[39;00m method \u001b[38;5;129;01mis\u001b[39;00m \u001b[38;5;129;01mnot\u001b[39;00m \u001b[38;5;28;01mNone\u001b[39;00m:\n\u001b[1;32m--> 921\u001b[0m     \u001b[43mmethod\u001b[49m\u001b[43m(\u001b[49m\u001b[43m)\u001b[49m\n\u001b[0;32m    922\u001b[0m     \u001b[38;5;28;01mreturn\u001b[39;00m \u001b[38;5;28;01mTrue\u001b[39;00m\n",
      "File \u001b[1;32mc:\\Users\\Adeniyi Babalola\\AppData\\Local\\Programs\\Python\\Python310\\lib\\site-packages\\plotly\\basedatatypes.py:834\u001b[0m, in \u001b[0;36mBaseFigure._ipython_display_\u001b[1;34m(self)\u001b[0m\n\u001b[0;32m    831\u001b[0m \u001b[38;5;28;01mimport\u001b[39;00m \u001b[38;5;21;01mplotly\u001b[39;00m\u001b[38;5;21;01m.\u001b[39;00m\u001b[38;5;21;01mio\u001b[39;00m \u001b[38;5;28;01mas\u001b[39;00m \u001b[38;5;21;01mpio\u001b[39;00m\n\u001b[0;32m    833\u001b[0m \u001b[38;5;28;01mif\u001b[39;00m pio\u001b[38;5;241m.\u001b[39mrenderers\u001b[38;5;241m.\u001b[39mrender_on_display \u001b[38;5;129;01mand\u001b[39;00m pio\u001b[38;5;241m.\u001b[39mrenderers\u001b[38;5;241m.\u001b[39mdefault:\n\u001b[1;32m--> 834\u001b[0m     \u001b[43mpio\u001b[49m\u001b[38;5;241;43m.\u001b[39;49m\u001b[43mshow\u001b[49m\u001b[43m(\u001b[49m\u001b[38;5;28;43mself\u001b[39;49m\u001b[43m)\u001b[49m\n\u001b[0;32m    835\u001b[0m \u001b[38;5;28;01melse\u001b[39;00m:\n\u001b[0;32m    836\u001b[0m     \u001b[38;5;28mprint\u001b[39m(\u001b[38;5;28mrepr\u001b[39m(\u001b[38;5;28mself\u001b[39m))\n",
      "File \u001b[1;32mc:\\Users\\Adeniyi Babalola\\AppData\\Local\\Programs\\Python\\Python310\\lib\\site-packages\\plotly\\io\\_renderers.py:396\u001b[0m, in \u001b[0;36mshow\u001b[1;34m(fig, renderer, validate, **kwargs)\u001b[0m\n\u001b[0;32m    391\u001b[0m         \u001b[38;5;28;01mraise\u001b[39;00m \u001b[38;5;167;01mValueError\u001b[39;00m(\n\u001b[0;32m    392\u001b[0m             \u001b[38;5;124m\"\u001b[39m\u001b[38;5;124mMime type rendering requires ipython but it is not installed\u001b[39m\u001b[38;5;124m\"\u001b[39m\n\u001b[0;32m    393\u001b[0m         )\n\u001b[0;32m    395\u001b[0m     \u001b[38;5;28;01mif\u001b[39;00m \u001b[38;5;129;01mnot\u001b[39;00m nbformat \u001b[38;5;129;01mor\u001b[39;00m Version(nbformat\u001b[38;5;241m.\u001b[39m__version__) \u001b[38;5;241m<\u001b[39m Version(\u001b[38;5;124m\"\u001b[39m\u001b[38;5;124m4.2.0\u001b[39m\u001b[38;5;124m\"\u001b[39m):\n\u001b[1;32m--> 396\u001b[0m         \u001b[38;5;28;01mraise\u001b[39;00m \u001b[38;5;167;01mValueError\u001b[39;00m(\n\u001b[0;32m    397\u001b[0m             \u001b[38;5;124m\"\u001b[39m\u001b[38;5;124mMime type rendering requires nbformat>=4.2.0 but it is not installed\u001b[39m\u001b[38;5;124m\"\u001b[39m\n\u001b[0;32m    398\u001b[0m         )\n\u001b[0;32m    400\u001b[0m     ipython_display\u001b[38;5;241m.\u001b[39mdisplay(bundle, raw\u001b[38;5;241m=\u001b[39m\u001b[38;5;28;01mTrue\u001b[39;00m)\n\u001b[0;32m    402\u001b[0m \u001b[38;5;66;03m# external renderers\u001b[39;00m\n",
      "\u001b[1;31mValueError\u001b[0m: Mime type rendering requires nbformat>=4.2.0 but it is not installed"
     ]
    },
    {
     "data": {
      "application/vnd.plotly.v1+json": {
       "config": {
        "plotlyServerURL": "https://plot.ly"
       },
       "data": [
        {
         "mode": "markers",
         "name": "Objective Value",
         "type": "scatter",
         "x": [
          0,
          1,
          2,
          3,
          4,
          5,
          6,
          7,
          8,
          9,
          10,
          11,
          12,
          13,
          14,
          15,
          16,
          17,
          18,
          19,
          20,
          21,
          22,
          23,
          24,
          25,
          26,
          27,
          28,
          29,
          30,
          31,
          32,
          33,
          34,
          35,
          36,
          37,
          38,
          39,
          40,
          41,
          42,
          43,
          44,
          45,
          46,
          47,
          48,
          49
         ],
         "y": [
          0.8976615929369792,
          0.8966261881554763,
          0.8982214007928886,
          0.8987174853477948,
          0.8818325066683194,
          0.897534023419957,
          0.8985774198661184,
          0.8986080097019102,
          0.887159296855048,
          0.8936672005128031,
          0.8945230031784931,
          0.8972879614422338,
          0.8984729423544763,
          0.8964949622316937,
          0.8911730286742633,
          0.8963732126328785,
          0.8965183888756728,
          0.8975048015215599,
          0.8967278618775812,
          0.8980026926138566,
          0.8978076101347702,
          0.8984902461330188,
          0.8987493979431006,
          0.8989047166905181,
          0.8987330900355062,
          0.8991528029361504,
          0.8990594591389892,
          0.8994552925247178,
          0.8990467314070756,
          0.8988906659024906,
          0.897815236995943,
          0.8991853884829194,
          0.8992267700931317,
          0.8987873851258157,
          0.8993538022944699,
          0.8994509041432636,
          0.8983643378642565,
          0.8977933059445257,
          0.8986760960320054,
          0.8987868016493318,
          0.898630404652633,
          0.8990587991082966,
          0.8977055486170856,
          0.8982767957911012,
          0.8990314105794522,
          0.8988010009627124,
          0.892342452316533,
          0.8985296658204617,
          0.8985753202774126,
          0.8982469303360551
         ]
        },
        {
         "mode": "lines",
         "name": "Best Value",
         "type": "scatter",
         "x": [
          0,
          1,
          2,
          3,
          4,
          5,
          6,
          7,
          8,
          9,
          10,
          11,
          12,
          13,
          14,
          15,
          16,
          17,
          18,
          19,
          20,
          21,
          22,
          23,
          24,
          25,
          26,
          27,
          28,
          29,
          30,
          31,
          32,
          33,
          34,
          35,
          36,
          37,
          38,
          39,
          40,
          41,
          42,
          43,
          44,
          45,
          46,
          47,
          48,
          49
         ],
         "y": [
          0.8976615929369792,
          0.8976615929369792,
          0.8982214007928886,
          0.8987174853477948,
          0.8987174853477948,
          0.8987174853477948,
          0.8987174853477948,
          0.8987174853477948,
          0.8987174853477948,
          0.8987174853477948,
          0.8987174853477948,
          0.8987174853477948,
          0.8987174853477948,
          0.8987174853477948,
          0.8987174853477948,
          0.8987174853477948,
          0.8987174853477948,
          0.8987174853477948,
          0.8987174853477948,
          0.8987174853477948,
          0.8987174853477948,
          0.8987174853477948,
          0.8987493979431006,
          0.8989047166905181,
          0.8989047166905181,
          0.8991528029361504,
          0.8991528029361504,
          0.8994552925247178,
          0.8994552925247178,
          0.8994552925247178,
          0.8994552925247178,
          0.8994552925247178,
          0.8994552925247178,
          0.8994552925247178,
          0.8994552925247178,
          0.8994552925247178,
          0.8994552925247178,
          0.8994552925247178,
          0.8994552925247178,
          0.8994552925247178,
          0.8994552925247178,
          0.8994552925247178,
          0.8994552925247178,
          0.8994552925247178,
          0.8994552925247178,
          0.8994552925247178,
          0.8994552925247178,
          0.8994552925247178,
          0.8994552925247178,
          0.8994552925247178
         ]
        },
        {
         "marker": {
          "color": "#cccccc"
         },
         "mode": "markers",
         "name": "Infeasible Trial",
         "showlegend": false,
         "type": "scatter",
         "x": [],
         "y": []
        }
       ],
       "layout": {
        "template": {
         "data": {
          "bar": [
           {
            "error_x": {
             "color": "#2a3f5f"
            },
            "error_y": {
             "color": "#2a3f5f"
            },
            "marker": {
             "line": {
              "color": "#E5ECF6",
              "width": 0.5
             },
             "pattern": {
              "fillmode": "overlay",
              "size": 10,
              "solidity": 0.2
             }
            },
            "type": "bar"
           }
          ],
          "barpolar": [
           {
            "marker": {
             "line": {
              "color": "#E5ECF6",
              "width": 0.5
             },
             "pattern": {
              "fillmode": "overlay",
              "size": 10,
              "solidity": 0.2
             }
            },
            "type": "barpolar"
           }
          ],
          "carpet": [
           {
            "aaxis": {
             "endlinecolor": "#2a3f5f",
             "gridcolor": "white",
             "linecolor": "white",
             "minorgridcolor": "white",
             "startlinecolor": "#2a3f5f"
            },
            "baxis": {
             "endlinecolor": "#2a3f5f",
             "gridcolor": "white",
             "linecolor": "white",
             "minorgridcolor": "white",
             "startlinecolor": "#2a3f5f"
            },
            "type": "carpet"
           }
          ],
          "choropleth": [
           {
            "colorbar": {
             "outlinewidth": 0,
             "ticks": ""
            },
            "type": "choropleth"
           }
          ],
          "contour": [
           {
            "colorbar": {
             "outlinewidth": 0,
             "ticks": ""
            },
            "colorscale": [
             [
              0,
              "#0d0887"
             ],
             [
              0.1111111111111111,
              "#46039f"
             ],
             [
              0.2222222222222222,
              "#7201a8"
             ],
             [
              0.3333333333333333,
              "#9c179e"
             ],
             [
              0.4444444444444444,
              "#bd3786"
             ],
             [
              0.5555555555555556,
              "#d8576b"
             ],
             [
              0.6666666666666666,
              "#ed7953"
             ],
             [
              0.7777777777777778,
              "#fb9f3a"
             ],
             [
              0.8888888888888888,
              "#fdca26"
             ],
             [
              1,
              "#f0f921"
             ]
            ],
            "type": "contour"
           }
          ],
          "contourcarpet": [
           {
            "colorbar": {
             "outlinewidth": 0,
             "ticks": ""
            },
            "type": "contourcarpet"
           }
          ],
          "heatmap": [
           {
            "colorbar": {
             "outlinewidth": 0,
             "ticks": ""
            },
            "colorscale": [
             [
              0,
              "#0d0887"
             ],
             [
              0.1111111111111111,
              "#46039f"
             ],
             [
              0.2222222222222222,
              "#7201a8"
             ],
             [
              0.3333333333333333,
              "#9c179e"
             ],
             [
              0.4444444444444444,
              "#bd3786"
             ],
             [
              0.5555555555555556,
              "#d8576b"
             ],
             [
              0.6666666666666666,
              "#ed7953"
             ],
             [
              0.7777777777777778,
              "#fb9f3a"
             ],
             [
              0.8888888888888888,
              "#fdca26"
             ],
             [
              1,
              "#f0f921"
             ]
            ],
            "type": "heatmap"
           }
          ],
          "heatmapgl": [
           {
            "colorbar": {
             "outlinewidth": 0,
             "ticks": ""
            },
            "colorscale": [
             [
              0,
              "#0d0887"
             ],
             [
              0.1111111111111111,
              "#46039f"
             ],
             [
              0.2222222222222222,
              "#7201a8"
             ],
             [
              0.3333333333333333,
              "#9c179e"
             ],
             [
              0.4444444444444444,
              "#bd3786"
             ],
             [
              0.5555555555555556,
              "#d8576b"
             ],
             [
              0.6666666666666666,
              "#ed7953"
             ],
             [
              0.7777777777777778,
              "#fb9f3a"
             ],
             [
              0.8888888888888888,
              "#fdca26"
             ],
             [
              1,
              "#f0f921"
             ]
            ],
            "type": "heatmapgl"
           }
          ],
          "histogram": [
           {
            "marker": {
             "pattern": {
              "fillmode": "overlay",
              "size": 10,
              "solidity": 0.2
             }
            },
            "type": "histogram"
           }
          ],
          "histogram2d": [
           {
            "colorbar": {
             "outlinewidth": 0,
             "ticks": ""
            },
            "colorscale": [
             [
              0,
              "#0d0887"
             ],
             [
              0.1111111111111111,
              "#46039f"
             ],
             [
              0.2222222222222222,
              "#7201a8"
             ],
             [
              0.3333333333333333,
              "#9c179e"
             ],
             [
              0.4444444444444444,
              "#bd3786"
             ],
             [
              0.5555555555555556,
              "#d8576b"
             ],
             [
              0.6666666666666666,
              "#ed7953"
             ],
             [
              0.7777777777777778,
              "#fb9f3a"
             ],
             [
              0.8888888888888888,
              "#fdca26"
             ],
             [
              1,
              "#f0f921"
             ]
            ],
            "type": "histogram2d"
           }
          ],
          "histogram2dcontour": [
           {
            "colorbar": {
             "outlinewidth": 0,
             "ticks": ""
            },
            "colorscale": [
             [
              0,
              "#0d0887"
             ],
             [
              0.1111111111111111,
              "#46039f"
             ],
             [
              0.2222222222222222,
              "#7201a8"
             ],
             [
              0.3333333333333333,
              "#9c179e"
             ],
             [
              0.4444444444444444,
              "#bd3786"
             ],
             [
              0.5555555555555556,
              "#d8576b"
             ],
             [
              0.6666666666666666,
              "#ed7953"
             ],
             [
              0.7777777777777778,
              "#fb9f3a"
             ],
             [
              0.8888888888888888,
              "#fdca26"
             ],
             [
              1,
              "#f0f921"
             ]
            ],
            "type": "histogram2dcontour"
           }
          ],
          "mesh3d": [
           {
            "colorbar": {
             "outlinewidth": 0,
             "ticks": ""
            },
            "type": "mesh3d"
           }
          ],
          "parcoords": [
           {
            "line": {
             "colorbar": {
              "outlinewidth": 0,
              "ticks": ""
             }
            },
            "type": "parcoords"
           }
          ],
          "pie": [
           {
            "automargin": true,
            "type": "pie"
           }
          ],
          "scatter": [
           {
            "fillpattern": {
             "fillmode": "overlay",
             "size": 10,
             "solidity": 0.2
            },
            "type": "scatter"
           }
          ],
          "scatter3d": [
           {
            "line": {
             "colorbar": {
              "outlinewidth": 0,
              "ticks": ""
             }
            },
            "marker": {
             "colorbar": {
              "outlinewidth": 0,
              "ticks": ""
             }
            },
            "type": "scatter3d"
           }
          ],
          "scattercarpet": [
           {
            "marker": {
             "colorbar": {
              "outlinewidth": 0,
              "ticks": ""
             }
            },
            "type": "scattercarpet"
           }
          ],
          "scattergeo": [
           {
            "marker": {
             "colorbar": {
              "outlinewidth": 0,
              "ticks": ""
             }
            },
            "type": "scattergeo"
           }
          ],
          "scattergl": [
           {
            "marker": {
             "colorbar": {
              "outlinewidth": 0,
              "ticks": ""
             }
            },
            "type": "scattergl"
           }
          ],
          "scattermapbox": [
           {
            "marker": {
             "colorbar": {
              "outlinewidth": 0,
              "ticks": ""
             }
            },
            "type": "scattermapbox"
           }
          ],
          "scatterpolar": [
           {
            "marker": {
             "colorbar": {
              "outlinewidth": 0,
              "ticks": ""
             }
            },
            "type": "scatterpolar"
           }
          ],
          "scatterpolargl": [
           {
            "marker": {
             "colorbar": {
              "outlinewidth": 0,
              "ticks": ""
             }
            },
            "type": "scatterpolargl"
           }
          ],
          "scatterternary": [
           {
            "marker": {
             "colorbar": {
              "outlinewidth": 0,
              "ticks": ""
             }
            },
            "type": "scatterternary"
           }
          ],
          "surface": [
           {
            "colorbar": {
             "outlinewidth": 0,
             "ticks": ""
            },
            "colorscale": [
             [
              0,
              "#0d0887"
             ],
             [
              0.1111111111111111,
              "#46039f"
             ],
             [
              0.2222222222222222,
              "#7201a8"
             ],
             [
              0.3333333333333333,
              "#9c179e"
             ],
             [
              0.4444444444444444,
              "#bd3786"
             ],
             [
              0.5555555555555556,
              "#d8576b"
             ],
             [
              0.6666666666666666,
              "#ed7953"
             ],
             [
              0.7777777777777778,
              "#fb9f3a"
             ],
             [
              0.8888888888888888,
              "#fdca26"
             ],
             [
              1,
              "#f0f921"
             ]
            ],
            "type": "surface"
           }
          ],
          "table": [
           {
            "cells": {
             "fill": {
              "color": "#EBF0F8"
             },
             "line": {
              "color": "white"
             }
            },
            "header": {
             "fill": {
              "color": "#C8D4E3"
             },
             "line": {
              "color": "white"
             }
            },
            "type": "table"
           }
          ]
         },
         "layout": {
          "annotationdefaults": {
           "arrowcolor": "#2a3f5f",
           "arrowhead": 0,
           "arrowwidth": 1
          },
          "autotypenumbers": "strict",
          "coloraxis": {
           "colorbar": {
            "outlinewidth": 0,
            "ticks": ""
           }
          },
          "colorscale": {
           "diverging": [
            [
             0,
             "#8e0152"
            ],
            [
             0.1,
             "#c51b7d"
            ],
            [
             0.2,
             "#de77ae"
            ],
            [
             0.3,
             "#f1b6da"
            ],
            [
             0.4,
             "#fde0ef"
            ],
            [
             0.5,
             "#f7f7f7"
            ],
            [
             0.6,
             "#e6f5d0"
            ],
            [
             0.7,
             "#b8e186"
            ],
            [
             0.8,
             "#7fbc41"
            ],
            [
             0.9,
             "#4d9221"
            ],
            [
             1,
             "#276419"
            ]
           ],
           "sequential": [
            [
             0,
             "#0d0887"
            ],
            [
             0.1111111111111111,
             "#46039f"
            ],
            [
             0.2222222222222222,
             "#7201a8"
            ],
            [
             0.3333333333333333,
             "#9c179e"
            ],
            [
             0.4444444444444444,
             "#bd3786"
            ],
            [
             0.5555555555555556,
             "#d8576b"
            ],
            [
             0.6666666666666666,
             "#ed7953"
            ],
            [
             0.7777777777777778,
             "#fb9f3a"
            ],
            [
             0.8888888888888888,
             "#fdca26"
            ],
            [
             1,
             "#f0f921"
            ]
           ],
           "sequentialminus": [
            [
             0,
             "#0d0887"
            ],
            [
             0.1111111111111111,
             "#46039f"
            ],
            [
             0.2222222222222222,
             "#7201a8"
            ],
            [
             0.3333333333333333,
             "#9c179e"
            ],
            [
             0.4444444444444444,
             "#bd3786"
            ],
            [
             0.5555555555555556,
             "#d8576b"
            ],
            [
             0.6666666666666666,
             "#ed7953"
            ],
            [
             0.7777777777777778,
             "#fb9f3a"
            ],
            [
             0.8888888888888888,
             "#fdca26"
            ],
            [
             1,
             "#f0f921"
            ]
           ]
          },
          "colorway": [
           "#636efa",
           "#EF553B",
           "#00cc96",
           "#ab63fa",
           "#FFA15A",
           "#19d3f3",
           "#FF6692",
           "#B6E880",
           "#FF97FF",
           "#FECB52"
          ],
          "font": {
           "color": "#2a3f5f"
          },
          "geo": {
           "bgcolor": "white",
           "lakecolor": "white",
           "landcolor": "#E5ECF6",
           "showlakes": true,
           "showland": true,
           "subunitcolor": "white"
          },
          "hoverlabel": {
           "align": "left"
          },
          "hovermode": "closest",
          "mapbox": {
           "style": "light"
          },
          "paper_bgcolor": "white",
          "plot_bgcolor": "#E5ECF6",
          "polar": {
           "angularaxis": {
            "gridcolor": "white",
            "linecolor": "white",
            "ticks": ""
           },
           "bgcolor": "#E5ECF6",
           "radialaxis": {
            "gridcolor": "white",
            "linecolor": "white",
            "ticks": ""
           }
          },
          "scene": {
           "xaxis": {
            "backgroundcolor": "#E5ECF6",
            "gridcolor": "white",
            "gridwidth": 2,
            "linecolor": "white",
            "showbackground": true,
            "ticks": "",
            "zerolinecolor": "white"
           },
           "yaxis": {
            "backgroundcolor": "#E5ECF6",
            "gridcolor": "white",
            "gridwidth": 2,
            "linecolor": "white",
            "showbackground": true,
            "ticks": "",
            "zerolinecolor": "white"
           },
           "zaxis": {
            "backgroundcolor": "#E5ECF6",
            "gridcolor": "white",
            "gridwidth": 2,
            "linecolor": "white",
            "showbackground": true,
            "ticks": "",
            "zerolinecolor": "white"
           }
          },
          "shapedefaults": {
           "line": {
            "color": "#2a3f5f"
           }
          },
          "ternary": {
           "aaxis": {
            "gridcolor": "white",
            "linecolor": "white",
            "ticks": ""
           },
           "baxis": {
            "gridcolor": "white",
            "linecolor": "white",
            "ticks": ""
           },
           "bgcolor": "#E5ECF6",
           "caxis": {
            "gridcolor": "white",
            "linecolor": "white",
            "ticks": ""
           }
          },
          "title": {
           "x": 0.05
          },
          "xaxis": {
           "automargin": true,
           "gridcolor": "white",
           "linecolor": "white",
           "ticks": "",
           "title": {
            "standoff": 15
           },
           "zerolinecolor": "white",
           "zerolinewidth": 2
          },
          "yaxis": {
           "automargin": true,
           "gridcolor": "white",
           "linecolor": "white",
           "ticks": "",
           "title": {
            "standoff": 15
           },
           "zerolinecolor": "white",
           "zerolinewidth": 2
          }
         }
        },
        "title": {
         "text": "Optimization History Plot"
        },
        "xaxis": {
         "title": {
          "text": "Trial"
         }
        },
        "yaxis": {
         "title": {
          "text": "Objective Value"
         }
        }
       }
      },
      "text/html": [
       "<div>                        <script type=\"text/javascript\">window.PlotlyConfig = {MathJaxConfig: 'local'};</script>\n",
       "        <script charset=\"utf-8\" src=\"https://cdn.plot.ly/plotly-2.20.0.min.js\"></script>                <div id=\"bb37febe-66b5-4ab1-8101-ce445bafff52\" class=\"plotly-graph-div\" style=\"height:100%; width:100%;\"></div>            <script type=\"text/javascript\">                                    window.PLOTLYENV=window.PLOTLYENV || {};                                    if (document.getElementById(\"bb37febe-66b5-4ab1-8101-ce445bafff52\")) {                    Plotly.newPlot(                        \"bb37febe-66b5-4ab1-8101-ce445bafff52\",                        [{\"mode\":\"markers\",\"name\":\"Objective Value\",\"x\":[0,1,2,3,4,5,6,7,8,9,10,11,12,13,14,15,16,17,18,19,20,21,22,23,24,25,26,27,28,29,30,31,32,33,34,35,36,37,38,39,40,41,42,43,44,45,46,47,48,49],\"y\":[0.8976615929369792,0.8966261881554763,0.8982214007928886,0.8987174853477948,0.8818325066683194,0.897534023419957,0.8985774198661184,0.8986080097019102,0.887159296855048,0.8936672005128031,0.8945230031784931,0.8972879614422338,0.8984729423544763,0.8964949622316937,0.8911730286742633,0.8963732126328785,0.8965183888756728,0.8975048015215599,0.8967278618775812,0.8980026926138566,0.8978076101347702,0.8984902461330188,0.8987493979431006,0.8989047166905181,0.8987330900355062,0.8991528029361504,0.8990594591389892,0.8994552925247178,0.8990467314070756,0.8988906659024906,0.897815236995943,0.8991853884829194,0.8992267700931317,0.8987873851258157,0.8993538022944699,0.8994509041432636,0.8983643378642565,0.8977933059445257,0.8986760960320054,0.8987868016493318,0.898630404652633,0.8990587991082966,0.8977055486170856,0.8982767957911012,0.8990314105794522,0.8988010009627124,0.892342452316533,0.8985296658204617,0.8985753202774126,0.8982469303360551],\"type\":\"scatter\"},{\"mode\":\"lines\",\"name\":\"Best Value\",\"x\":[0,1,2,3,4,5,6,7,8,9,10,11,12,13,14,15,16,17,18,19,20,21,22,23,24,25,26,27,28,29,30,31,32,33,34,35,36,37,38,39,40,41,42,43,44,45,46,47,48,49],\"y\":[0.8976615929369792,0.8976615929369792,0.8982214007928886,0.8987174853477948,0.8987174853477948,0.8987174853477948,0.8987174853477948,0.8987174853477948,0.8987174853477948,0.8987174853477948,0.8987174853477948,0.8987174853477948,0.8987174853477948,0.8987174853477948,0.8987174853477948,0.8987174853477948,0.8987174853477948,0.8987174853477948,0.8987174853477948,0.8987174853477948,0.8987174853477948,0.8987174853477948,0.8987493979431006,0.8989047166905181,0.8989047166905181,0.8991528029361504,0.8991528029361504,0.8994552925247178,0.8994552925247178,0.8994552925247178,0.8994552925247178,0.8994552925247178,0.8994552925247178,0.8994552925247178,0.8994552925247178,0.8994552925247178,0.8994552925247178,0.8994552925247178,0.8994552925247178,0.8994552925247178,0.8994552925247178,0.8994552925247178,0.8994552925247178,0.8994552925247178,0.8994552925247178,0.8994552925247178,0.8994552925247178,0.8994552925247178,0.8994552925247178,0.8994552925247178],\"type\":\"scatter\"},{\"marker\":{\"color\":\"#cccccc\"},\"mode\":\"markers\",\"name\":\"Infeasible Trial\",\"showlegend\":false,\"x\":[],\"y\":[],\"type\":\"scatter\"}],                        {\"title\":{\"text\":\"Optimization History Plot\"},\"xaxis\":{\"title\":{\"text\":\"Trial\"}},\"yaxis\":{\"title\":{\"text\":\"Objective Value\"}},\"template\":{\"data\":{\"histogram2dcontour\":[{\"type\":\"histogram2dcontour\",\"colorbar\":{\"outlinewidth\":0,\"ticks\":\"\"},\"colorscale\":[[0.0,\"#0d0887\"],[0.1111111111111111,\"#46039f\"],[0.2222222222222222,\"#7201a8\"],[0.3333333333333333,\"#9c179e\"],[0.4444444444444444,\"#bd3786\"],[0.5555555555555556,\"#d8576b\"],[0.6666666666666666,\"#ed7953\"],[0.7777777777777778,\"#fb9f3a\"],[0.8888888888888888,\"#fdca26\"],[1.0,\"#f0f921\"]]}],\"choropleth\":[{\"type\":\"choropleth\",\"colorbar\":{\"outlinewidth\":0,\"ticks\":\"\"}}],\"histogram2d\":[{\"type\":\"histogram2d\",\"colorbar\":{\"outlinewidth\":0,\"ticks\":\"\"},\"colorscale\":[[0.0,\"#0d0887\"],[0.1111111111111111,\"#46039f\"],[0.2222222222222222,\"#7201a8\"],[0.3333333333333333,\"#9c179e\"],[0.4444444444444444,\"#bd3786\"],[0.5555555555555556,\"#d8576b\"],[0.6666666666666666,\"#ed7953\"],[0.7777777777777778,\"#fb9f3a\"],[0.8888888888888888,\"#fdca26\"],[1.0,\"#f0f921\"]]}],\"heatmap\":[{\"type\":\"heatmap\",\"colorbar\":{\"outlinewidth\":0,\"ticks\":\"\"},\"colorscale\":[[0.0,\"#0d0887\"],[0.1111111111111111,\"#46039f\"],[0.2222222222222222,\"#7201a8\"],[0.3333333333333333,\"#9c179e\"],[0.4444444444444444,\"#bd3786\"],[0.5555555555555556,\"#d8576b\"],[0.6666666666666666,\"#ed7953\"],[0.7777777777777778,\"#fb9f3a\"],[0.8888888888888888,\"#fdca26\"],[1.0,\"#f0f921\"]]}],\"heatmapgl\":[{\"type\":\"heatmapgl\",\"colorbar\":{\"outlinewidth\":0,\"ticks\":\"\"},\"colorscale\":[[0.0,\"#0d0887\"],[0.1111111111111111,\"#46039f\"],[0.2222222222222222,\"#7201a8\"],[0.3333333333333333,\"#9c179e\"],[0.4444444444444444,\"#bd3786\"],[0.5555555555555556,\"#d8576b\"],[0.6666666666666666,\"#ed7953\"],[0.7777777777777778,\"#fb9f3a\"],[0.8888888888888888,\"#fdca26\"],[1.0,\"#f0f921\"]]}],\"contourcarpet\":[{\"type\":\"contourcarpet\",\"colorbar\":{\"outlinewidth\":0,\"ticks\":\"\"}}],\"contour\":[{\"type\":\"contour\",\"colorbar\":{\"outlinewidth\":0,\"ticks\":\"\"},\"colorscale\":[[0.0,\"#0d0887\"],[0.1111111111111111,\"#46039f\"],[0.2222222222222222,\"#7201a8\"],[0.3333333333333333,\"#9c179e\"],[0.4444444444444444,\"#bd3786\"],[0.5555555555555556,\"#d8576b\"],[0.6666666666666666,\"#ed7953\"],[0.7777777777777778,\"#fb9f3a\"],[0.8888888888888888,\"#fdca26\"],[1.0,\"#f0f921\"]]}],\"surface\":[{\"type\":\"surface\",\"colorbar\":{\"outlinewidth\":0,\"ticks\":\"\"},\"colorscale\":[[0.0,\"#0d0887\"],[0.1111111111111111,\"#46039f\"],[0.2222222222222222,\"#7201a8\"],[0.3333333333333333,\"#9c179e\"],[0.4444444444444444,\"#bd3786\"],[0.5555555555555556,\"#d8576b\"],[0.6666666666666666,\"#ed7953\"],[0.7777777777777778,\"#fb9f3a\"],[0.8888888888888888,\"#fdca26\"],[1.0,\"#f0f921\"]]}],\"mesh3d\":[{\"type\":\"mesh3d\",\"colorbar\":{\"outlinewidth\":0,\"ticks\":\"\"}}],\"scatter\":[{\"fillpattern\":{\"fillmode\":\"overlay\",\"size\":10,\"solidity\":0.2},\"type\":\"scatter\"}],\"parcoords\":[{\"type\":\"parcoords\",\"line\":{\"colorbar\":{\"outlinewidth\":0,\"ticks\":\"\"}}}],\"scatterpolargl\":[{\"type\":\"scatterpolargl\",\"marker\":{\"colorbar\":{\"outlinewidth\":0,\"ticks\":\"\"}}}],\"bar\":[{\"error_x\":{\"color\":\"#2a3f5f\"},\"error_y\":{\"color\":\"#2a3f5f\"},\"marker\":{\"line\":{\"color\":\"#E5ECF6\",\"width\":0.5},\"pattern\":{\"fillmode\":\"overlay\",\"size\":10,\"solidity\":0.2}},\"type\":\"bar\"}],\"scattergeo\":[{\"type\":\"scattergeo\",\"marker\":{\"colorbar\":{\"outlinewidth\":0,\"ticks\":\"\"}}}],\"scatterpolar\":[{\"type\":\"scatterpolar\",\"marker\":{\"colorbar\":{\"outlinewidth\":0,\"ticks\":\"\"}}}],\"histogram\":[{\"marker\":{\"pattern\":{\"fillmode\":\"overlay\",\"size\":10,\"solidity\":0.2}},\"type\":\"histogram\"}],\"scattergl\":[{\"type\":\"scattergl\",\"marker\":{\"colorbar\":{\"outlinewidth\":0,\"ticks\":\"\"}}}],\"scatter3d\":[{\"type\":\"scatter3d\",\"line\":{\"colorbar\":{\"outlinewidth\":0,\"ticks\":\"\"}},\"marker\":{\"colorbar\":{\"outlinewidth\":0,\"ticks\":\"\"}}}],\"scattermapbox\":[{\"type\":\"scattermapbox\",\"marker\":{\"colorbar\":{\"outlinewidth\":0,\"ticks\":\"\"}}}],\"scatterternary\":[{\"type\":\"scatterternary\",\"marker\":{\"colorbar\":{\"outlinewidth\":0,\"ticks\":\"\"}}}],\"scattercarpet\":[{\"type\":\"scattercarpet\",\"marker\":{\"colorbar\":{\"outlinewidth\":0,\"ticks\":\"\"}}}],\"carpet\":[{\"aaxis\":{\"endlinecolor\":\"#2a3f5f\",\"gridcolor\":\"white\",\"linecolor\":\"white\",\"minorgridcolor\":\"white\",\"startlinecolor\":\"#2a3f5f\"},\"baxis\":{\"endlinecolor\":\"#2a3f5f\",\"gridcolor\":\"white\",\"linecolor\":\"white\",\"minorgridcolor\":\"white\",\"startlinecolor\":\"#2a3f5f\"},\"type\":\"carpet\"}],\"table\":[{\"cells\":{\"fill\":{\"color\":\"#EBF0F8\"},\"line\":{\"color\":\"white\"}},\"header\":{\"fill\":{\"color\":\"#C8D4E3\"},\"line\":{\"color\":\"white\"}},\"type\":\"table\"}],\"barpolar\":[{\"marker\":{\"line\":{\"color\":\"#E5ECF6\",\"width\":0.5},\"pattern\":{\"fillmode\":\"overlay\",\"size\":10,\"solidity\":0.2}},\"type\":\"barpolar\"}],\"pie\":[{\"automargin\":true,\"type\":\"pie\"}]},\"layout\":{\"autotypenumbers\":\"strict\",\"colorway\":[\"#636efa\",\"#EF553B\",\"#00cc96\",\"#ab63fa\",\"#FFA15A\",\"#19d3f3\",\"#FF6692\",\"#B6E880\",\"#FF97FF\",\"#FECB52\"],\"font\":{\"color\":\"#2a3f5f\"},\"hovermode\":\"closest\",\"hoverlabel\":{\"align\":\"left\"},\"paper_bgcolor\":\"white\",\"plot_bgcolor\":\"#E5ECF6\",\"polar\":{\"bgcolor\":\"#E5ECF6\",\"angularaxis\":{\"gridcolor\":\"white\",\"linecolor\":\"white\",\"ticks\":\"\"},\"radialaxis\":{\"gridcolor\":\"white\",\"linecolor\":\"white\",\"ticks\":\"\"}},\"ternary\":{\"bgcolor\":\"#E5ECF6\",\"aaxis\":{\"gridcolor\":\"white\",\"linecolor\":\"white\",\"ticks\":\"\"},\"baxis\":{\"gridcolor\":\"white\",\"linecolor\":\"white\",\"ticks\":\"\"},\"caxis\":{\"gridcolor\":\"white\",\"linecolor\":\"white\",\"ticks\":\"\"}},\"coloraxis\":{\"colorbar\":{\"outlinewidth\":0,\"ticks\":\"\"}},\"colorscale\":{\"sequential\":[[0.0,\"#0d0887\"],[0.1111111111111111,\"#46039f\"],[0.2222222222222222,\"#7201a8\"],[0.3333333333333333,\"#9c179e\"],[0.4444444444444444,\"#bd3786\"],[0.5555555555555556,\"#d8576b\"],[0.6666666666666666,\"#ed7953\"],[0.7777777777777778,\"#fb9f3a\"],[0.8888888888888888,\"#fdca26\"],[1.0,\"#f0f921\"]],\"sequentialminus\":[[0.0,\"#0d0887\"],[0.1111111111111111,\"#46039f\"],[0.2222222222222222,\"#7201a8\"],[0.3333333333333333,\"#9c179e\"],[0.4444444444444444,\"#bd3786\"],[0.5555555555555556,\"#d8576b\"],[0.6666666666666666,\"#ed7953\"],[0.7777777777777778,\"#fb9f3a\"],[0.8888888888888888,\"#fdca26\"],[1.0,\"#f0f921\"]],\"diverging\":[[0,\"#8e0152\"],[0.1,\"#c51b7d\"],[0.2,\"#de77ae\"],[0.3,\"#f1b6da\"],[0.4,\"#fde0ef\"],[0.5,\"#f7f7f7\"],[0.6,\"#e6f5d0\"],[0.7,\"#b8e186\"],[0.8,\"#7fbc41\"],[0.9,\"#4d9221\"],[1,\"#276419\"]]},\"xaxis\":{\"gridcolor\":\"white\",\"linecolor\":\"white\",\"ticks\":\"\",\"title\":{\"standoff\":15},\"zerolinecolor\":\"white\",\"automargin\":true,\"zerolinewidth\":2},\"yaxis\":{\"gridcolor\":\"white\",\"linecolor\":\"white\",\"ticks\":\"\",\"title\":{\"standoff\":15},\"zerolinecolor\":\"white\",\"automargin\":true,\"zerolinewidth\":2},\"scene\":{\"xaxis\":{\"backgroundcolor\":\"#E5ECF6\",\"gridcolor\":\"white\",\"linecolor\":\"white\",\"showbackground\":true,\"ticks\":\"\",\"zerolinecolor\":\"white\",\"gridwidth\":2},\"yaxis\":{\"backgroundcolor\":\"#E5ECF6\",\"gridcolor\":\"white\",\"linecolor\":\"white\",\"showbackground\":true,\"ticks\":\"\",\"zerolinecolor\":\"white\",\"gridwidth\":2},\"zaxis\":{\"backgroundcolor\":\"#E5ECF6\",\"gridcolor\":\"white\",\"linecolor\":\"white\",\"showbackground\":true,\"ticks\":\"\",\"zerolinecolor\":\"white\",\"gridwidth\":2}},\"shapedefaults\":{\"line\":{\"color\":\"#2a3f5f\"}},\"annotationdefaults\":{\"arrowcolor\":\"#2a3f5f\",\"arrowhead\":0,\"arrowwidth\":1},\"geo\":{\"bgcolor\":\"white\",\"landcolor\":\"#E5ECF6\",\"subunitcolor\":\"white\",\"showland\":true,\"showlakes\":true,\"lakecolor\":\"white\"},\"title\":{\"x\":0.05},\"mapbox\":{\"style\":\"light\"}}}},                        {\"responsive\": true}                    )                };                            </script>        </div>"
      ],
      "text/plain": [
       "Figure({\n",
       "    'data': [{'mode': 'markers',\n",
       "              'name': 'Objective Value',\n",
       "              'type': 'scatter',\n",
       "              'x': [0, 1, 2, 3, 4, 5, 6, 7, 8, 9, 10, 11, 12, 13, 14, 15, 16, 17,\n",
       "                    18, 19, 20, 21, 22, 23, 24, 25, 26, 27, 28, 29, 30, 31, 32, 33,\n",
       "                    34, 35, 36, 37, 38, 39, 40, 41, 42, 43, 44, 45, 46, 47, 48, 49],\n",
       "              'y': [0.8976615929369792, 0.8966261881554763, 0.8982214007928886,\n",
       "                    0.8987174853477948, 0.8818325066683194, 0.897534023419957,\n",
       "                    0.8985774198661184, 0.8986080097019102, 0.887159296855048,\n",
       "                    0.8936672005128031, 0.8945230031784931, 0.8972879614422338,\n",
       "                    0.8984729423544763, 0.8964949622316937, 0.8911730286742633,\n",
       "                    0.8963732126328785, 0.8965183888756728, 0.8975048015215599,\n",
       "                    0.8967278618775812, 0.8980026926138566, 0.8978076101347702,\n",
       "                    0.8984902461330188, 0.8987493979431006, 0.8989047166905181,\n",
       "                    0.8987330900355062, 0.8991528029361504, 0.8990594591389892,\n",
       "                    0.8994552925247178, 0.8990467314070756, 0.8988906659024906,\n",
       "                    0.897815236995943, 0.8991853884829194, 0.8992267700931317,\n",
       "                    0.8987873851258157, 0.8993538022944699, 0.8994509041432636,\n",
       "                    0.8983643378642565, 0.8977933059445257, 0.8986760960320054,\n",
       "                    0.8987868016493318, 0.898630404652633, 0.8990587991082966,\n",
       "                    0.8977055486170856, 0.8982767957911012, 0.8990314105794522,\n",
       "                    0.8988010009627124, 0.892342452316533, 0.8985296658204617,\n",
       "                    0.8985753202774126, 0.8982469303360551]},\n",
       "             {'mode': 'lines',\n",
       "              'name': 'Best Value',\n",
       "              'type': 'scatter',\n",
       "              'x': [0, 1, 2, 3, 4, 5, 6, 7, 8, 9, 10, 11, 12, 13, 14, 15, 16, 17,\n",
       "                    18, 19, 20, 21, 22, 23, 24, 25, 26, 27, 28, 29, 30, 31, 32, 33,\n",
       "                    34, 35, 36, 37, 38, 39, 40, 41, 42, 43, 44, 45, 46, 47, 48, 49],\n",
       "              'y': [0.8976615929369792, 0.8976615929369792, 0.8982214007928886,\n",
       "                    0.8987174853477948, 0.8987174853477948, 0.8987174853477948,\n",
       "                    0.8987174853477948, 0.8987174853477948, 0.8987174853477948,\n",
       "                    0.8987174853477948, 0.8987174853477948, 0.8987174853477948,\n",
       "                    0.8987174853477948, 0.8987174853477948, 0.8987174853477948,\n",
       "                    0.8987174853477948, 0.8987174853477948, 0.8987174853477948,\n",
       "                    0.8987174853477948, 0.8987174853477948, 0.8987174853477948,\n",
       "                    0.8987174853477948, 0.8987493979431006, 0.8989047166905181,\n",
       "                    0.8989047166905181, 0.8991528029361504, 0.8991528029361504,\n",
       "                    0.8994552925247178, 0.8994552925247178, 0.8994552925247178,\n",
       "                    0.8994552925247178, 0.8994552925247178, 0.8994552925247178,\n",
       "                    0.8994552925247178, 0.8994552925247178, 0.8994552925247178,\n",
       "                    0.8994552925247178, 0.8994552925247178, 0.8994552925247178,\n",
       "                    0.8994552925247178, 0.8994552925247178, 0.8994552925247178,\n",
       "                    0.8994552925247178, 0.8994552925247178, 0.8994552925247178,\n",
       "                    0.8994552925247178, 0.8994552925247178, 0.8994552925247178,\n",
       "                    0.8994552925247178, 0.8994552925247178]},\n",
       "             {'marker': {'color': '#cccccc'},\n",
       "              'mode': 'markers',\n",
       "              'name': 'Infeasible Trial',\n",
       "              'showlegend': False,\n",
       "              'type': 'scatter',\n",
       "              'x': [],\n",
       "              'y': []}],\n",
       "    'layout': {'template': '...',\n",
       "               'title': {'text': 'Optimization History Plot'},\n",
       "               'xaxis': {'title': {'text': 'Trial'}},\n",
       "               'yaxis': {'title': {'text': 'Objective Value'}}}\n",
       "})"
      ]
     },
     "execution_count": 20,
     "metadata": {},
     "output_type": "execute_result"
    }
   ],
   "source": [
    "optuna.visualization.plot_optimization_history(study)"
   ]
  },
  {
   "cell_type": "code",
   "execution_count": 21,
   "metadata": {},
   "outputs": [
    {
     "ename": "ValueError",
     "evalue": "Mime type rendering requires nbformat>=4.2.0 but it is not installed",
     "output_type": "error",
     "traceback": [
      "\u001b[1;31m---------------------------------------------------------------------------\u001b[0m",
      "\u001b[1;31mValueError\u001b[0m                                Traceback (most recent call last)",
      "File \u001b[1;32mc:\\Users\\Adeniyi Babalola\\AppData\\Local\\Programs\\Python\\Python310\\lib\\site-packages\\IPython\\core\\formatters.py:921\u001b[0m, in \u001b[0;36mIPythonDisplayFormatter.__call__\u001b[1;34m(self, obj)\u001b[0m\n\u001b[0;32m    919\u001b[0m method \u001b[38;5;241m=\u001b[39m get_real_method(obj, \u001b[38;5;28mself\u001b[39m\u001b[38;5;241m.\u001b[39mprint_method)\n\u001b[0;32m    920\u001b[0m \u001b[38;5;28;01mif\u001b[39;00m method \u001b[38;5;129;01mis\u001b[39;00m \u001b[38;5;129;01mnot\u001b[39;00m \u001b[38;5;28;01mNone\u001b[39;00m:\n\u001b[1;32m--> 921\u001b[0m     \u001b[43mmethod\u001b[49m\u001b[43m(\u001b[49m\u001b[43m)\u001b[49m\n\u001b[0;32m    922\u001b[0m     \u001b[38;5;28;01mreturn\u001b[39;00m \u001b[38;5;28;01mTrue\u001b[39;00m\n",
      "File \u001b[1;32mc:\\Users\\Adeniyi Babalola\\AppData\\Local\\Programs\\Python\\Python310\\lib\\site-packages\\plotly\\basedatatypes.py:834\u001b[0m, in \u001b[0;36mBaseFigure._ipython_display_\u001b[1;34m(self)\u001b[0m\n\u001b[0;32m    831\u001b[0m \u001b[38;5;28;01mimport\u001b[39;00m \u001b[38;5;21;01mplotly\u001b[39;00m\u001b[38;5;21;01m.\u001b[39;00m\u001b[38;5;21;01mio\u001b[39;00m \u001b[38;5;28;01mas\u001b[39;00m \u001b[38;5;21;01mpio\u001b[39;00m\n\u001b[0;32m    833\u001b[0m \u001b[38;5;28;01mif\u001b[39;00m pio\u001b[38;5;241m.\u001b[39mrenderers\u001b[38;5;241m.\u001b[39mrender_on_display \u001b[38;5;129;01mand\u001b[39;00m pio\u001b[38;5;241m.\u001b[39mrenderers\u001b[38;5;241m.\u001b[39mdefault:\n\u001b[1;32m--> 834\u001b[0m     \u001b[43mpio\u001b[49m\u001b[38;5;241;43m.\u001b[39;49m\u001b[43mshow\u001b[49m\u001b[43m(\u001b[49m\u001b[38;5;28;43mself\u001b[39;49m\u001b[43m)\u001b[49m\n\u001b[0;32m    835\u001b[0m \u001b[38;5;28;01melse\u001b[39;00m:\n\u001b[0;32m    836\u001b[0m     \u001b[38;5;28mprint\u001b[39m(\u001b[38;5;28mrepr\u001b[39m(\u001b[38;5;28mself\u001b[39m))\n",
      "File \u001b[1;32mc:\\Users\\Adeniyi Babalola\\AppData\\Local\\Programs\\Python\\Python310\\lib\\site-packages\\plotly\\io\\_renderers.py:396\u001b[0m, in \u001b[0;36mshow\u001b[1;34m(fig, renderer, validate, **kwargs)\u001b[0m\n\u001b[0;32m    391\u001b[0m         \u001b[38;5;28;01mraise\u001b[39;00m \u001b[38;5;167;01mValueError\u001b[39;00m(\n\u001b[0;32m    392\u001b[0m             \u001b[38;5;124m\"\u001b[39m\u001b[38;5;124mMime type rendering requires ipython but it is not installed\u001b[39m\u001b[38;5;124m\"\u001b[39m\n\u001b[0;32m    393\u001b[0m         )\n\u001b[0;32m    395\u001b[0m     \u001b[38;5;28;01mif\u001b[39;00m \u001b[38;5;129;01mnot\u001b[39;00m nbformat \u001b[38;5;129;01mor\u001b[39;00m Version(nbformat\u001b[38;5;241m.\u001b[39m__version__) \u001b[38;5;241m<\u001b[39m Version(\u001b[38;5;124m\"\u001b[39m\u001b[38;5;124m4.2.0\u001b[39m\u001b[38;5;124m\"\u001b[39m):\n\u001b[1;32m--> 396\u001b[0m         \u001b[38;5;28;01mraise\u001b[39;00m \u001b[38;5;167;01mValueError\u001b[39;00m(\n\u001b[0;32m    397\u001b[0m             \u001b[38;5;124m\"\u001b[39m\u001b[38;5;124mMime type rendering requires nbformat>=4.2.0 but it is not installed\u001b[39m\u001b[38;5;124m\"\u001b[39m\n\u001b[0;32m    398\u001b[0m         )\n\u001b[0;32m    400\u001b[0m     ipython_display\u001b[38;5;241m.\u001b[39mdisplay(bundle, raw\u001b[38;5;241m=\u001b[39m\u001b[38;5;28;01mTrue\u001b[39;00m)\n\u001b[0;32m    402\u001b[0m \u001b[38;5;66;03m# external renderers\u001b[39;00m\n",
      "\u001b[1;31mValueError\u001b[0m: Mime type rendering requires nbformat>=4.2.0 but it is not installed"
     ]
    },
    {
     "data": {
      "application/vnd.plotly.v1+json": {
       "config": {
        "plotlyServerURL": "https://plot.ly"
       },
       "data": [
        {
         "cliponaxis": false,
         "hovertemplate": [
          "min_child_weight (FloatDistribution): 0.00748841275447122<extra></extra>",
          "reg_lambda (FloatDistribution): 0.01268988383701764<extra></extra>",
          "n_estimators (IntDistribution): 0.01452443593923282<extra></extra>",
          "colsample_bytree (FloatDistribution): 0.02404486903492292<extra></extra>",
          "boosting (CategoricalDistribution): 0.02798994260126025<extra></extra>",
          "min_split_gain (FloatDistribution): 0.038018113689448366<extra></extra>",
          "learning_rate (FloatDistribution): 0.04929152250862044<extra></extra>",
          "max_depth (IntDistribution): 0.05695747990895083<extra></extra>",
          "reg_alpha (FloatDistribution): 0.06909579076321458<extra></extra>",
          "subsample (FloatDistribution): 0.09602904683181418<extra></extra>",
          "min_child_samples (IntDistribution): 0.1892149088520046<extra></extra>",
          "num_leaves (IntDistribution): 0.41465559327904195<extra></extra>"
         ],
         "marker": {
          "color": "rgb(66,146,198)"
         },
         "orientation": "h",
         "text": [
          "<0.01",
          "0.01",
          "0.01",
          "0.02",
          "0.03",
          "0.04",
          "0.05",
          "0.06",
          "0.07",
          "0.10",
          "0.19",
          "0.41"
         ],
         "textposition": "outside",
         "type": "bar",
         "x": [
          0.00748841275447122,
          0.01268988383701764,
          0.01452443593923282,
          0.02404486903492292,
          0.02798994260126025,
          0.038018113689448366,
          0.04929152250862044,
          0.05695747990895083,
          0.06909579076321458,
          0.09602904683181418,
          0.1892149088520046,
          0.41465559327904195
         ],
         "y": [
          "min_child_weight",
          "reg_lambda",
          "n_estimators",
          "colsample_bytree",
          "boosting",
          "min_split_gain",
          "learning_rate",
          "max_depth",
          "reg_alpha",
          "subsample",
          "min_child_samples",
          "num_leaves"
         ]
        }
       ],
       "layout": {
        "showlegend": false,
        "template": {
         "data": {
          "bar": [
           {
            "error_x": {
             "color": "#2a3f5f"
            },
            "error_y": {
             "color": "#2a3f5f"
            },
            "marker": {
             "line": {
              "color": "#E5ECF6",
              "width": 0.5
             },
             "pattern": {
              "fillmode": "overlay",
              "size": 10,
              "solidity": 0.2
             }
            },
            "type": "bar"
           }
          ],
          "barpolar": [
           {
            "marker": {
             "line": {
              "color": "#E5ECF6",
              "width": 0.5
             },
             "pattern": {
              "fillmode": "overlay",
              "size": 10,
              "solidity": 0.2
             }
            },
            "type": "barpolar"
           }
          ],
          "carpet": [
           {
            "aaxis": {
             "endlinecolor": "#2a3f5f",
             "gridcolor": "white",
             "linecolor": "white",
             "minorgridcolor": "white",
             "startlinecolor": "#2a3f5f"
            },
            "baxis": {
             "endlinecolor": "#2a3f5f",
             "gridcolor": "white",
             "linecolor": "white",
             "minorgridcolor": "white",
             "startlinecolor": "#2a3f5f"
            },
            "type": "carpet"
           }
          ],
          "choropleth": [
           {
            "colorbar": {
             "outlinewidth": 0,
             "ticks": ""
            },
            "type": "choropleth"
           }
          ],
          "contour": [
           {
            "colorbar": {
             "outlinewidth": 0,
             "ticks": ""
            },
            "colorscale": [
             [
              0,
              "#0d0887"
             ],
             [
              0.1111111111111111,
              "#46039f"
             ],
             [
              0.2222222222222222,
              "#7201a8"
             ],
             [
              0.3333333333333333,
              "#9c179e"
             ],
             [
              0.4444444444444444,
              "#bd3786"
             ],
             [
              0.5555555555555556,
              "#d8576b"
             ],
             [
              0.6666666666666666,
              "#ed7953"
             ],
             [
              0.7777777777777778,
              "#fb9f3a"
             ],
             [
              0.8888888888888888,
              "#fdca26"
             ],
             [
              1,
              "#f0f921"
             ]
            ],
            "type": "contour"
           }
          ],
          "contourcarpet": [
           {
            "colorbar": {
             "outlinewidth": 0,
             "ticks": ""
            },
            "type": "contourcarpet"
           }
          ],
          "heatmap": [
           {
            "colorbar": {
             "outlinewidth": 0,
             "ticks": ""
            },
            "colorscale": [
             [
              0,
              "#0d0887"
             ],
             [
              0.1111111111111111,
              "#46039f"
             ],
             [
              0.2222222222222222,
              "#7201a8"
             ],
             [
              0.3333333333333333,
              "#9c179e"
             ],
             [
              0.4444444444444444,
              "#bd3786"
             ],
             [
              0.5555555555555556,
              "#d8576b"
             ],
             [
              0.6666666666666666,
              "#ed7953"
             ],
             [
              0.7777777777777778,
              "#fb9f3a"
             ],
             [
              0.8888888888888888,
              "#fdca26"
             ],
             [
              1,
              "#f0f921"
             ]
            ],
            "type": "heatmap"
           }
          ],
          "heatmapgl": [
           {
            "colorbar": {
             "outlinewidth": 0,
             "ticks": ""
            },
            "colorscale": [
             [
              0,
              "#0d0887"
             ],
             [
              0.1111111111111111,
              "#46039f"
             ],
             [
              0.2222222222222222,
              "#7201a8"
             ],
             [
              0.3333333333333333,
              "#9c179e"
             ],
             [
              0.4444444444444444,
              "#bd3786"
             ],
             [
              0.5555555555555556,
              "#d8576b"
             ],
             [
              0.6666666666666666,
              "#ed7953"
             ],
             [
              0.7777777777777778,
              "#fb9f3a"
             ],
             [
              0.8888888888888888,
              "#fdca26"
             ],
             [
              1,
              "#f0f921"
             ]
            ],
            "type": "heatmapgl"
           }
          ],
          "histogram": [
           {
            "marker": {
             "pattern": {
              "fillmode": "overlay",
              "size": 10,
              "solidity": 0.2
             }
            },
            "type": "histogram"
           }
          ],
          "histogram2d": [
           {
            "colorbar": {
             "outlinewidth": 0,
             "ticks": ""
            },
            "colorscale": [
             [
              0,
              "#0d0887"
             ],
             [
              0.1111111111111111,
              "#46039f"
             ],
             [
              0.2222222222222222,
              "#7201a8"
             ],
             [
              0.3333333333333333,
              "#9c179e"
             ],
             [
              0.4444444444444444,
              "#bd3786"
             ],
             [
              0.5555555555555556,
              "#d8576b"
             ],
             [
              0.6666666666666666,
              "#ed7953"
             ],
             [
              0.7777777777777778,
              "#fb9f3a"
             ],
             [
              0.8888888888888888,
              "#fdca26"
             ],
             [
              1,
              "#f0f921"
             ]
            ],
            "type": "histogram2d"
           }
          ],
          "histogram2dcontour": [
           {
            "colorbar": {
             "outlinewidth": 0,
             "ticks": ""
            },
            "colorscale": [
             [
              0,
              "#0d0887"
             ],
             [
              0.1111111111111111,
              "#46039f"
             ],
             [
              0.2222222222222222,
              "#7201a8"
             ],
             [
              0.3333333333333333,
              "#9c179e"
             ],
             [
              0.4444444444444444,
              "#bd3786"
             ],
             [
              0.5555555555555556,
              "#d8576b"
             ],
             [
              0.6666666666666666,
              "#ed7953"
             ],
             [
              0.7777777777777778,
              "#fb9f3a"
             ],
             [
              0.8888888888888888,
              "#fdca26"
             ],
             [
              1,
              "#f0f921"
             ]
            ],
            "type": "histogram2dcontour"
           }
          ],
          "mesh3d": [
           {
            "colorbar": {
             "outlinewidth": 0,
             "ticks": ""
            },
            "type": "mesh3d"
           }
          ],
          "parcoords": [
           {
            "line": {
             "colorbar": {
              "outlinewidth": 0,
              "ticks": ""
             }
            },
            "type": "parcoords"
           }
          ],
          "pie": [
           {
            "automargin": true,
            "type": "pie"
           }
          ],
          "scatter": [
           {
            "fillpattern": {
             "fillmode": "overlay",
             "size": 10,
             "solidity": 0.2
            },
            "type": "scatter"
           }
          ],
          "scatter3d": [
           {
            "line": {
             "colorbar": {
              "outlinewidth": 0,
              "ticks": ""
             }
            },
            "marker": {
             "colorbar": {
              "outlinewidth": 0,
              "ticks": ""
             }
            },
            "type": "scatter3d"
           }
          ],
          "scattercarpet": [
           {
            "marker": {
             "colorbar": {
              "outlinewidth": 0,
              "ticks": ""
             }
            },
            "type": "scattercarpet"
           }
          ],
          "scattergeo": [
           {
            "marker": {
             "colorbar": {
              "outlinewidth": 0,
              "ticks": ""
             }
            },
            "type": "scattergeo"
           }
          ],
          "scattergl": [
           {
            "marker": {
             "colorbar": {
              "outlinewidth": 0,
              "ticks": ""
             }
            },
            "type": "scattergl"
           }
          ],
          "scattermapbox": [
           {
            "marker": {
             "colorbar": {
              "outlinewidth": 0,
              "ticks": ""
             }
            },
            "type": "scattermapbox"
           }
          ],
          "scatterpolar": [
           {
            "marker": {
             "colorbar": {
              "outlinewidth": 0,
              "ticks": ""
             }
            },
            "type": "scatterpolar"
           }
          ],
          "scatterpolargl": [
           {
            "marker": {
             "colorbar": {
              "outlinewidth": 0,
              "ticks": ""
             }
            },
            "type": "scatterpolargl"
           }
          ],
          "scatterternary": [
           {
            "marker": {
             "colorbar": {
              "outlinewidth": 0,
              "ticks": ""
             }
            },
            "type": "scatterternary"
           }
          ],
          "surface": [
           {
            "colorbar": {
             "outlinewidth": 0,
             "ticks": ""
            },
            "colorscale": [
             [
              0,
              "#0d0887"
             ],
             [
              0.1111111111111111,
              "#46039f"
             ],
             [
              0.2222222222222222,
              "#7201a8"
             ],
             [
              0.3333333333333333,
              "#9c179e"
             ],
             [
              0.4444444444444444,
              "#bd3786"
             ],
             [
              0.5555555555555556,
              "#d8576b"
             ],
             [
              0.6666666666666666,
              "#ed7953"
             ],
             [
              0.7777777777777778,
              "#fb9f3a"
             ],
             [
              0.8888888888888888,
              "#fdca26"
             ],
             [
              1,
              "#f0f921"
             ]
            ],
            "type": "surface"
           }
          ],
          "table": [
           {
            "cells": {
             "fill": {
              "color": "#EBF0F8"
             },
             "line": {
              "color": "white"
             }
            },
            "header": {
             "fill": {
              "color": "#C8D4E3"
             },
             "line": {
              "color": "white"
             }
            },
            "type": "table"
           }
          ]
         },
         "layout": {
          "annotationdefaults": {
           "arrowcolor": "#2a3f5f",
           "arrowhead": 0,
           "arrowwidth": 1
          },
          "autotypenumbers": "strict",
          "coloraxis": {
           "colorbar": {
            "outlinewidth": 0,
            "ticks": ""
           }
          },
          "colorscale": {
           "diverging": [
            [
             0,
             "#8e0152"
            ],
            [
             0.1,
             "#c51b7d"
            ],
            [
             0.2,
             "#de77ae"
            ],
            [
             0.3,
             "#f1b6da"
            ],
            [
             0.4,
             "#fde0ef"
            ],
            [
             0.5,
             "#f7f7f7"
            ],
            [
             0.6,
             "#e6f5d0"
            ],
            [
             0.7,
             "#b8e186"
            ],
            [
             0.8,
             "#7fbc41"
            ],
            [
             0.9,
             "#4d9221"
            ],
            [
             1,
             "#276419"
            ]
           ],
           "sequential": [
            [
             0,
             "#0d0887"
            ],
            [
             0.1111111111111111,
             "#46039f"
            ],
            [
             0.2222222222222222,
             "#7201a8"
            ],
            [
             0.3333333333333333,
             "#9c179e"
            ],
            [
             0.4444444444444444,
             "#bd3786"
            ],
            [
             0.5555555555555556,
             "#d8576b"
            ],
            [
             0.6666666666666666,
             "#ed7953"
            ],
            [
             0.7777777777777778,
             "#fb9f3a"
            ],
            [
             0.8888888888888888,
             "#fdca26"
            ],
            [
             1,
             "#f0f921"
            ]
           ],
           "sequentialminus": [
            [
             0,
             "#0d0887"
            ],
            [
             0.1111111111111111,
             "#46039f"
            ],
            [
             0.2222222222222222,
             "#7201a8"
            ],
            [
             0.3333333333333333,
             "#9c179e"
            ],
            [
             0.4444444444444444,
             "#bd3786"
            ],
            [
             0.5555555555555556,
             "#d8576b"
            ],
            [
             0.6666666666666666,
             "#ed7953"
            ],
            [
             0.7777777777777778,
             "#fb9f3a"
            ],
            [
             0.8888888888888888,
             "#fdca26"
            ],
            [
             1,
             "#f0f921"
            ]
           ]
          },
          "colorway": [
           "#636efa",
           "#EF553B",
           "#00cc96",
           "#ab63fa",
           "#FFA15A",
           "#19d3f3",
           "#FF6692",
           "#B6E880",
           "#FF97FF",
           "#FECB52"
          ],
          "font": {
           "color": "#2a3f5f"
          },
          "geo": {
           "bgcolor": "white",
           "lakecolor": "white",
           "landcolor": "#E5ECF6",
           "showlakes": true,
           "showland": true,
           "subunitcolor": "white"
          },
          "hoverlabel": {
           "align": "left"
          },
          "hovermode": "closest",
          "mapbox": {
           "style": "light"
          },
          "paper_bgcolor": "white",
          "plot_bgcolor": "#E5ECF6",
          "polar": {
           "angularaxis": {
            "gridcolor": "white",
            "linecolor": "white",
            "ticks": ""
           },
           "bgcolor": "#E5ECF6",
           "radialaxis": {
            "gridcolor": "white",
            "linecolor": "white",
            "ticks": ""
           }
          },
          "scene": {
           "xaxis": {
            "backgroundcolor": "#E5ECF6",
            "gridcolor": "white",
            "gridwidth": 2,
            "linecolor": "white",
            "showbackground": true,
            "ticks": "",
            "zerolinecolor": "white"
           },
           "yaxis": {
            "backgroundcolor": "#E5ECF6",
            "gridcolor": "white",
            "gridwidth": 2,
            "linecolor": "white",
            "showbackground": true,
            "ticks": "",
            "zerolinecolor": "white"
           },
           "zaxis": {
            "backgroundcolor": "#E5ECF6",
            "gridcolor": "white",
            "gridwidth": 2,
            "linecolor": "white",
            "showbackground": true,
            "ticks": "",
            "zerolinecolor": "white"
           }
          },
          "shapedefaults": {
           "line": {
            "color": "#2a3f5f"
           }
          },
          "ternary": {
           "aaxis": {
            "gridcolor": "white",
            "linecolor": "white",
            "ticks": ""
           },
           "baxis": {
            "gridcolor": "white",
            "linecolor": "white",
            "ticks": ""
           },
           "bgcolor": "#E5ECF6",
           "caxis": {
            "gridcolor": "white",
            "linecolor": "white",
            "ticks": ""
           }
          },
          "title": {
           "x": 0.05
          },
          "xaxis": {
           "automargin": true,
           "gridcolor": "white",
           "linecolor": "white",
           "ticks": "",
           "title": {
            "standoff": 15
           },
           "zerolinecolor": "white",
           "zerolinewidth": 2
          },
          "yaxis": {
           "automargin": true,
           "gridcolor": "white",
           "linecolor": "white",
           "ticks": "",
           "title": {
            "standoff": 15
           },
           "zerolinecolor": "white",
           "zerolinewidth": 2
          }
         }
        },
        "title": {
         "text": "Hyperparameter Importances"
        },
        "xaxis": {
         "title": {
          "text": "Importance for Objective Value"
         }
        },
        "yaxis": {
         "title": {
          "text": "Hyperparameter"
         }
        }
       }
      },
      "text/html": [
       "<div>                        <script type=\"text/javascript\">window.PlotlyConfig = {MathJaxConfig: 'local'};</script>\n",
       "        <script charset=\"utf-8\" src=\"https://cdn.plot.ly/plotly-2.20.0.min.js\"></script>                <div id=\"442a68b7-238e-49ad-acde-c3a99da92525\" class=\"plotly-graph-div\" style=\"height:100%; width:100%;\"></div>            <script type=\"text/javascript\">                                    window.PLOTLYENV=window.PLOTLYENV || {};                                    if (document.getElementById(\"442a68b7-238e-49ad-acde-c3a99da92525\")) {                    Plotly.newPlot(                        \"442a68b7-238e-49ad-acde-c3a99da92525\",                        [{\"cliponaxis\":false,\"hovertemplate\":[\"min_child_weight (FloatDistribution): 0.00748841275447122<extra></extra>\",\"reg_lambda (FloatDistribution): 0.01268988383701764<extra></extra>\",\"n_estimators (IntDistribution): 0.01452443593923282<extra></extra>\",\"colsample_bytree (FloatDistribution): 0.02404486903492292<extra></extra>\",\"boosting (CategoricalDistribution): 0.02798994260126025<extra></extra>\",\"min_split_gain (FloatDistribution): 0.038018113689448366<extra></extra>\",\"learning_rate (FloatDistribution): 0.04929152250862044<extra></extra>\",\"max_depth (IntDistribution): 0.05695747990895083<extra></extra>\",\"reg_alpha (FloatDistribution): 0.06909579076321458<extra></extra>\",\"subsample (FloatDistribution): 0.09602904683181418<extra></extra>\",\"min_child_samples (IntDistribution): 0.1892149088520046<extra></extra>\",\"num_leaves (IntDistribution): 0.41465559327904195<extra></extra>\"],\"marker\":{\"color\":\"rgb(66,146,198)\"},\"orientation\":\"h\",\"text\":[\"<0.01\",\"0.01\",\"0.01\",\"0.02\",\"0.03\",\"0.04\",\"0.05\",\"0.06\",\"0.07\",\"0.10\",\"0.19\",\"0.41\"],\"textposition\":\"outside\",\"x\":[0.00748841275447122,0.01268988383701764,0.01452443593923282,0.02404486903492292,0.02798994260126025,0.038018113689448366,0.04929152250862044,0.05695747990895083,0.06909579076321458,0.09602904683181418,0.1892149088520046,0.41465559327904195],\"y\":[\"min_child_weight\",\"reg_lambda\",\"n_estimators\",\"colsample_bytree\",\"boosting\",\"min_split_gain\",\"learning_rate\",\"max_depth\",\"reg_alpha\",\"subsample\",\"min_child_samples\",\"num_leaves\"],\"type\":\"bar\"}],                        {\"showlegend\":false,\"title\":{\"text\":\"Hyperparameter Importances\"},\"xaxis\":{\"title\":{\"text\":\"Importance for Objective Value\"}},\"yaxis\":{\"title\":{\"text\":\"Hyperparameter\"}},\"template\":{\"data\":{\"histogram2dcontour\":[{\"type\":\"histogram2dcontour\",\"colorbar\":{\"outlinewidth\":0,\"ticks\":\"\"},\"colorscale\":[[0.0,\"#0d0887\"],[0.1111111111111111,\"#46039f\"],[0.2222222222222222,\"#7201a8\"],[0.3333333333333333,\"#9c179e\"],[0.4444444444444444,\"#bd3786\"],[0.5555555555555556,\"#d8576b\"],[0.6666666666666666,\"#ed7953\"],[0.7777777777777778,\"#fb9f3a\"],[0.8888888888888888,\"#fdca26\"],[1.0,\"#f0f921\"]]}],\"choropleth\":[{\"type\":\"choropleth\",\"colorbar\":{\"outlinewidth\":0,\"ticks\":\"\"}}],\"histogram2d\":[{\"type\":\"histogram2d\",\"colorbar\":{\"outlinewidth\":0,\"ticks\":\"\"},\"colorscale\":[[0.0,\"#0d0887\"],[0.1111111111111111,\"#46039f\"],[0.2222222222222222,\"#7201a8\"],[0.3333333333333333,\"#9c179e\"],[0.4444444444444444,\"#bd3786\"],[0.5555555555555556,\"#d8576b\"],[0.6666666666666666,\"#ed7953\"],[0.7777777777777778,\"#fb9f3a\"],[0.8888888888888888,\"#fdca26\"],[1.0,\"#f0f921\"]]}],\"heatmap\":[{\"type\":\"heatmap\",\"colorbar\":{\"outlinewidth\":0,\"ticks\":\"\"},\"colorscale\":[[0.0,\"#0d0887\"],[0.1111111111111111,\"#46039f\"],[0.2222222222222222,\"#7201a8\"],[0.3333333333333333,\"#9c179e\"],[0.4444444444444444,\"#bd3786\"],[0.5555555555555556,\"#d8576b\"],[0.6666666666666666,\"#ed7953\"],[0.7777777777777778,\"#fb9f3a\"],[0.8888888888888888,\"#fdca26\"],[1.0,\"#f0f921\"]]}],\"heatmapgl\":[{\"type\":\"heatmapgl\",\"colorbar\":{\"outlinewidth\":0,\"ticks\":\"\"},\"colorscale\":[[0.0,\"#0d0887\"],[0.1111111111111111,\"#46039f\"],[0.2222222222222222,\"#7201a8\"],[0.3333333333333333,\"#9c179e\"],[0.4444444444444444,\"#bd3786\"],[0.5555555555555556,\"#d8576b\"],[0.6666666666666666,\"#ed7953\"],[0.7777777777777778,\"#fb9f3a\"],[0.8888888888888888,\"#fdca26\"],[1.0,\"#f0f921\"]]}],\"contourcarpet\":[{\"type\":\"contourcarpet\",\"colorbar\":{\"outlinewidth\":0,\"ticks\":\"\"}}],\"contour\":[{\"type\":\"contour\",\"colorbar\":{\"outlinewidth\":0,\"ticks\":\"\"},\"colorscale\":[[0.0,\"#0d0887\"],[0.1111111111111111,\"#46039f\"],[0.2222222222222222,\"#7201a8\"],[0.3333333333333333,\"#9c179e\"],[0.4444444444444444,\"#bd3786\"],[0.5555555555555556,\"#d8576b\"],[0.6666666666666666,\"#ed7953\"],[0.7777777777777778,\"#fb9f3a\"],[0.8888888888888888,\"#fdca26\"],[1.0,\"#f0f921\"]]}],\"surface\":[{\"type\":\"surface\",\"colorbar\":{\"outlinewidth\":0,\"ticks\":\"\"},\"colorscale\":[[0.0,\"#0d0887\"],[0.1111111111111111,\"#46039f\"],[0.2222222222222222,\"#7201a8\"],[0.3333333333333333,\"#9c179e\"],[0.4444444444444444,\"#bd3786\"],[0.5555555555555556,\"#d8576b\"],[0.6666666666666666,\"#ed7953\"],[0.7777777777777778,\"#fb9f3a\"],[0.8888888888888888,\"#fdca26\"],[1.0,\"#f0f921\"]]}],\"mesh3d\":[{\"type\":\"mesh3d\",\"colorbar\":{\"outlinewidth\":0,\"ticks\":\"\"}}],\"scatter\":[{\"fillpattern\":{\"fillmode\":\"overlay\",\"size\":10,\"solidity\":0.2},\"type\":\"scatter\"}],\"parcoords\":[{\"type\":\"parcoords\",\"line\":{\"colorbar\":{\"outlinewidth\":0,\"ticks\":\"\"}}}],\"scatterpolargl\":[{\"type\":\"scatterpolargl\",\"marker\":{\"colorbar\":{\"outlinewidth\":0,\"ticks\":\"\"}}}],\"bar\":[{\"error_x\":{\"color\":\"#2a3f5f\"},\"error_y\":{\"color\":\"#2a3f5f\"},\"marker\":{\"line\":{\"color\":\"#E5ECF6\",\"width\":0.5},\"pattern\":{\"fillmode\":\"overlay\",\"size\":10,\"solidity\":0.2}},\"type\":\"bar\"}],\"scattergeo\":[{\"type\":\"scattergeo\",\"marker\":{\"colorbar\":{\"outlinewidth\":0,\"ticks\":\"\"}}}],\"scatterpolar\":[{\"type\":\"scatterpolar\",\"marker\":{\"colorbar\":{\"outlinewidth\":0,\"ticks\":\"\"}}}],\"histogram\":[{\"marker\":{\"pattern\":{\"fillmode\":\"overlay\",\"size\":10,\"solidity\":0.2}},\"type\":\"histogram\"}],\"scattergl\":[{\"type\":\"scattergl\",\"marker\":{\"colorbar\":{\"outlinewidth\":0,\"ticks\":\"\"}}}],\"scatter3d\":[{\"type\":\"scatter3d\",\"line\":{\"colorbar\":{\"outlinewidth\":0,\"ticks\":\"\"}},\"marker\":{\"colorbar\":{\"outlinewidth\":0,\"ticks\":\"\"}}}],\"scattermapbox\":[{\"type\":\"scattermapbox\",\"marker\":{\"colorbar\":{\"outlinewidth\":0,\"ticks\":\"\"}}}],\"scatterternary\":[{\"type\":\"scatterternary\",\"marker\":{\"colorbar\":{\"outlinewidth\":0,\"ticks\":\"\"}}}],\"scattercarpet\":[{\"type\":\"scattercarpet\",\"marker\":{\"colorbar\":{\"outlinewidth\":0,\"ticks\":\"\"}}}],\"carpet\":[{\"aaxis\":{\"endlinecolor\":\"#2a3f5f\",\"gridcolor\":\"white\",\"linecolor\":\"white\",\"minorgridcolor\":\"white\",\"startlinecolor\":\"#2a3f5f\"},\"baxis\":{\"endlinecolor\":\"#2a3f5f\",\"gridcolor\":\"white\",\"linecolor\":\"white\",\"minorgridcolor\":\"white\",\"startlinecolor\":\"#2a3f5f\"},\"type\":\"carpet\"}],\"table\":[{\"cells\":{\"fill\":{\"color\":\"#EBF0F8\"},\"line\":{\"color\":\"white\"}},\"header\":{\"fill\":{\"color\":\"#C8D4E3\"},\"line\":{\"color\":\"white\"}},\"type\":\"table\"}],\"barpolar\":[{\"marker\":{\"line\":{\"color\":\"#E5ECF6\",\"width\":0.5},\"pattern\":{\"fillmode\":\"overlay\",\"size\":10,\"solidity\":0.2}},\"type\":\"barpolar\"}],\"pie\":[{\"automargin\":true,\"type\":\"pie\"}]},\"layout\":{\"autotypenumbers\":\"strict\",\"colorway\":[\"#636efa\",\"#EF553B\",\"#00cc96\",\"#ab63fa\",\"#FFA15A\",\"#19d3f3\",\"#FF6692\",\"#B6E880\",\"#FF97FF\",\"#FECB52\"],\"font\":{\"color\":\"#2a3f5f\"},\"hovermode\":\"closest\",\"hoverlabel\":{\"align\":\"left\"},\"paper_bgcolor\":\"white\",\"plot_bgcolor\":\"#E5ECF6\",\"polar\":{\"bgcolor\":\"#E5ECF6\",\"angularaxis\":{\"gridcolor\":\"white\",\"linecolor\":\"white\",\"ticks\":\"\"},\"radialaxis\":{\"gridcolor\":\"white\",\"linecolor\":\"white\",\"ticks\":\"\"}},\"ternary\":{\"bgcolor\":\"#E5ECF6\",\"aaxis\":{\"gridcolor\":\"white\",\"linecolor\":\"white\",\"ticks\":\"\"},\"baxis\":{\"gridcolor\":\"white\",\"linecolor\":\"white\",\"ticks\":\"\"},\"caxis\":{\"gridcolor\":\"white\",\"linecolor\":\"white\",\"ticks\":\"\"}},\"coloraxis\":{\"colorbar\":{\"outlinewidth\":0,\"ticks\":\"\"}},\"colorscale\":{\"sequential\":[[0.0,\"#0d0887\"],[0.1111111111111111,\"#46039f\"],[0.2222222222222222,\"#7201a8\"],[0.3333333333333333,\"#9c179e\"],[0.4444444444444444,\"#bd3786\"],[0.5555555555555556,\"#d8576b\"],[0.6666666666666666,\"#ed7953\"],[0.7777777777777778,\"#fb9f3a\"],[0.8888888888888888,\"#fdca26\"],[1.0,\"#f0f921\"]],\"sequentialminus\":[[0.0,\"#0d0887\"],[0.1111111111111111,\"#46039f\"],[0.2222222222222222,\"#7201a8\"],[0.3333333333333333,\"#9c179e\"],[0.4444444444444444,\"#bd3786\"],[0.5555555555555556,\"#d8576b\"],[0.6666666666666666,\"#ed7953\"],[0.7777777777777778,\"#fb9f3a\"],[0.8888888888888888,\"#fdca26\"],[1.0,\"#f0f921\"]],\"diverging\":[[0,\"#8e0152\"],[0.1,\"#c51b7d\"],[0.2,\"#de77ae\"],[0.3,\"#f1b6da\"],[0.4,\"#fde0ef\"],[0.5,\"#f7f7f7\"],[0.6,\"#e6f5d0\"],[0.7,\"#b8e186\"],[0.8,\"#7fbc41\"],[0.9,\"#4d9221\"],[1,\"#276419\"]]},\"xaxis\":{\"gridcolor\":\"white\",\"linecolor\":\"white\",\"ticks\":\"\",\"title\":{\"standoff\":15},\"zerolinecolor\":\"white\",\"automargin\":true,\"zerolinewidth\":2},\"yaxis\":{\"gridcolor\":\"white\",\"linecolor\":\"white\",\"ticks\":\"\",\"title\":{\"standoff\":15},\"zerolinecolor\":\"white\",\"automargin\":true,\"zerolinewidth\":2},\"scene\":{\"xaxis\":{\"backgroundcolor\":\"#E5ECF6\",\"gridcolor\":\"white\",\"linecolor\":\"white\",\"showbackground\":true,\"ticks\":\"\",\"zerolinecolor\":\"white\",\"gridwidth\":2},\"yaxis\":{\"backgroundcolor\":\"#E5ECF6\",\"gridcolor\":\"white\",\"linecolor\":\"white\",\"showbackground\":true,\"ticks\":\"\",\"zerolinecolor\":\"white\",\"gridwidth\":2},\"zaxis\":{\"backgroundcolor\":\"#E5ECF6\",\"gridcolor\":\"white\",\"linecolor\":\"white\",\"showbackground\":true,\"ticks\":\"\",\"zerolinecolor\":\"white\",\"gridwidth\":2}},\"shapedefaults\":{\"line\":{\"color\":\"#2a3f5f\"}},\"annotationdefaults\":{\"arrowcolor\":\"#2a3f5f\",\"arrowhead\":0,\"arrowwidth\":1},\"geo\":{\"bgcolor\":\"white\",\"landcolor\":\"#E5ECF6\",\"subunitcolor\":\"white\",\"showland\":true,\"showlakes\":true,\"lakecolor\":\"white\"},\"title\":{\"x\":0.05},\"mapbox\":{\"style\":\"light\"}}}},                        {\"responsive\": true}                    )                };                            </script>        </div>"
      ],
      "text/plain": [
       "Figure({\n",
       "    'data': [{'cliponaxis': False,\n",
       "              'hovertemplate': [min_child_weight (FloatDistribution):\n",
       "                                0.00748841275447122<extra></extra>, reg_lambda\n",
       "                                (FloatDistribution):\n",
       "                                0.01268988383701764<extra></extra>, n_estimators\n",
       "                                (IntDistribution):\n",
       "                                0.01452443593923282<extra></extra>,\n",
       "                                colsample_bytree (FloatDistribution):\n",
       "                                0.02404486903492292<extra></extra>, boosting\n",
       "                                (CategoricalDistribution):\n",
       "                                0.02798994260126025<extra></extra>, min_split_gain\n",
       "                                (FloatDistribution):\n",
       "                                0.038018113689448366<extra></extra>, learning_rate\n",
       "                                (FloatDistribution):\n",
       "                                0.04929152250862044<extra></extra>, max_depth\n",
       "                                (IntDistribution):\n",
       "                                0.05695747990895083<extra></extra>, reg_alpha\n",
       "                                (FloatDistribution):\n",
       "                                0.06909579076321458<extra></extra>, subsample\n",
       "                                (FloatDistribution):\n",
       "                                0.09602904683181418<extra></extra>,\n",
       "                                min_child_samples (IntDistribution):\n",
       "                                0.1892149088520046<extra></extra>, num_leaves\n",
       "                                (IntDistribution):\n",
       "                                0.41465559327904195<extra></extra>],\n",
       "              'marker': {'color': 'rgb(66,146,198)'},\n",
       "              'orientation': 'h',\n",
       "              'text': [<0.01, 0.01, 0.01, 0.02, 0.03, 0.04, 0.05, 0.06, 0.07,\n",
       "                       0.10, 0.19, 0.41],\n",
       "              'textposition': 'outside',\n",
       "              'type': 'bar',\n",
       "              'x': [0.00748841275447122, 0.01268988383701764, 0.01452443593923282,\n",
       "                    0.02404486903492292, 0.02798994260126025, 0.038018113689448366,\n",
       "                    0.04929152250862044, 0.05695747990895083, 0.06909579076321458,\n",
       "                    0.09602904683181418, 0.1892149088520046, 0.41465559327904195],\n",
       "              'y': [min_child_weight, reg_lambda, n_estimators, colsample_bytree,\n",
       "                    boosting, min_split_gain, learning_rate, max_depth, reg_alpha,\n",
       "                    subsample, min_child_samples, num_leaves]}],\n",
       "    'layout': {'showlegend': False,\n",
       "               'template': '...',\n",
       "               'title': {'text': 'Hyperparameter Importances'},\n",
       "               'xaxis': {'title': {'text': 'Importance for Objective Value'}},\n",
       "               'yaxis': {'title': {'text': 'Hyperparameter'}}}\n",
       "})"
      ]
     },
     "execution_count": 21,
     "metadata": {},
     "output_type": "execute_result"
    }
   ],
   "source": [
    "optuna.visualization.plot_param_importances(study)"
   ]
  },
  {
   "cell_type": "code",
   "execution_count": 22,
   "metadata": {},
   "outputs": [
    {
     "ename": "ValueError",
     "evalue": "Mime type rendering requires nbformat>=4.2.0 but it is not installed",
     "output_type": "error",
     "traceback": [
      "\u001b[1;31m---------------------------------------------------------------------------\u001b[0m",
      "\u001b[1;31mValueError\u001b[0m                                Traceback (most recent call last)",
      "File \u001b[1;32mc:\\Users\\Adeniyi Babalola\\AppData\\Local\\Programs\\Python\\Python310\\lib\\site-packages\\IPython\\core\\formatters.py:921\u001b[0m, in \u001b[0;36mIPythonDisplayFormatter.__call__\u001b[1;34m(self, obj)\u001b[0m\n\u001b[0;32m    919\u001b[0m method \u001b[38;5;241m=\u001b[39m get_real_method(obj, \u001b[38;5;28mself\u001b[39m\u001b[38;5;241m.\u001b[39mprint_method)\n\u001b[0;32m    920\u001b[0m \u001b[38;5;28;01mif\u001b[39;00m method \u001b[38;5;129;01mis\u001b[39;00m \u001b[38;5;129;01mnot\u001b[39;00m \u001b[38;5;28;01mNone\u001b[39;00m:\n\u001b[1;32m--> 921\u001b[0m     \u001b[43mmethod\u001b[49m\u001b[43m(\u001b[49m\u001b[43m)\u001b[49m\n\u001b[0;32m    922\u001b[0m     \u001b[38;5;28;01mreturn\u001b[39;00m \u001b[38;5;28;01mTrue\u001b[39;00m\n",
      "File \u001b[1;32mc:\\Users\\Adeniyi Babalola\\AppData\\Local\\Programs\\Python\\Python310\\lib\\site-packages\\plotly\\basedatatypes.py:834\u001b[0m, in \u001b[0;36mBaseFigure._ipython_display_\u001b[1;34m(self)\u001b[0m\n\u001b[0;32m    831\u001b[0m \u001b[38;5;28;01mimport\u001b[39;00m \u001b[38;5;21;01mplotly\u001b[39;00m\u001b[38;5;21;01m.\u001b[39;00m\u001b[38;5;21;01mio\u001b[39;00m \u001b[38;5;28;01mas\u001b[39;00m \u001b[38;5;21;01mpio\u001b[39;00m\n\u001b[0;32m    833\u001b[0m \u001b[38;5;28;01mif\u001b[39;00m pio\u001b[38;5;241m.\u001b[39mrenderers\u001b[38;5;241m.\u001b[39mrender_on_display \u001b[38;5;129;01mand\u001b[39;00m pio\u001b[38;5;241m.\u001b[39mrenderers\u001b[38;5;241m.\u001b[39mdefault:\n\u001b[1;32m--> 834\u001b[0m     \u001b[43mpio\u001b[49m\u001b[38;5;241;43m.\u001b[39;49m\u001b[43mshow\u001b[49m\u001b[43m(\u001b[49m\u001b[38;5;28;43mself\u001b[39;49m\u001b[43m)\u001b[49m\n\u001b[0;32m    835\u001b[0m \u001b[38;5;28;01melse\u001b[39;00m:\n\u001b[0;32m    836\u001b[0m     \u001b[38;5;28mprint\u001b[39m(\u001b[38;5;28mrepr\u001b[39m(\u001b[38;5;28mself\u001b[39m))\n",
      "File \u001b[1;32mc:\\Users\\Adeniyi Babalola\\AppData\\Local\\Programs\\Python\\Python310\\lib\\site-packages\\plotly\\io\\_renderers.py:396\u001b[0m, in \u001b[0;36mshow\u001b[1;34m(fig, renderer, validate, **kwargs)\u001b[0m\n\u001b[0;32m    391\u001b[0m         \u001b[38;5;28;01mraise\u001b[39;00m \u001b[38;5;167;01mValueError\u001b[39;00m(\n\u001b[0;32m    392\u001b[0m             \u001b[38;5;124m\"\u001b[39m\u001b[38;5;124mMime type rendering requires ipython but it is not installed\u001b[39m\u001b[38;5;124m\"\u001b[39m\n\u001b[0;32m    393\u001b[0m         )\n\u001b[0;32m    395\u001b[0m     \u001b[38;5;28;01mif\u001b[39;00m \u001b[38;5;129;01mnot\u001b[39;00m nbformat \u001b[38;5;129;01mor\u001b[39;00m Version(nbformat\u001b[38;5;241m.\u001b[39m__version__) \u001b[38;5;241m<\u001b[39m Version(\u001b[38;5;124m\"\u001b[39m\u001b[38;5;124m4.2.0\u001b[39m\u001b[38;5;124m\"\u001b[39m):\n\u001b[1;32m--> 396\u001b[0m         \u001b[38;5;28;01mraise\u001b[39;00m \u001b[38;5;167;01mValueError\u001b[39;00m(\n\u001b[0;32m    397\u001b[0m             \u001b[38;5;124m\"\u001b[39m\u001b[38;5;124mMime type rendering requires nbformat>=4.2.0 but it is not installed\u001b[39m\u001b[38;5;124m\"\u001b[39m\n\u001b[0;32m    398\u001b[0m         )\n\u001b[0;32m    400\u001b[0m     ipython_display\u001b[38;5;241m.\u001b[39mdisplay(bundle, raw\u001b[38;5;241m=\u001b[39m\u001b[38;5;28;01mTrue\u001b[39;00m)\n\u001b[0;32m    402\u001b[0m \u001b[38;5;66;03m# external renderers\u001b[39;00m\n",
      "\u001b[1;31mValueError\u001b[0m: Mime type rendering requires nbformat>=4.2.0 but it is not installed"
     ]
    },
    {
     "data": {
      "application/vnd.plotly.v1+json": {
       "config": {
        "plotlyServerURL": "https://plot.ly"
       },
       "data": [
        {
         "marker": {
          "color": [
           0,
           1,
           2,
           3,
           4,
           5,
           6,
           7,
           8,
           9,
           10,
           11,
           12,
           13,
           14,
           15,
           16,
           17,
           18,
           19,
           20,
           21,
           22,
           23,
           24,
           25,
           26,
           27,
           28,
           29,
           30,
           31,
           32,
           33,
           34,
           35,
           36,
           37,
           38,
           39,
           40,
           41,
           42,
           43,
           44,
           45,
           46,
           47,
           48,
           49
          ],
          "colorbar": {
           "title": {
            "text": "Trial"
           },
           "x": 1,
           "xpad": 40
          },
          "colorscale": [
           [
            0,
            "rgb(247,251,255)"
           ],
           [
            0.125,
            "rgb(222,235,247)"
           ],
           [
            0.25,
            "rgb(198,219,239)"
           ],
           [
            0.375,
            "rgb(158,202,225)"
           ],
           [
            0.5,
            "rgb(107,174,214)"
           ],
           [
            0.625,
            "rgb(66,146,198)"
           ],
           [
            0.75,
            "rgb(33,113,181)"
           ],
           [
            0.875,
            "rgb(8,81,156)"
           ],
           [
            1,
            "rgb(8,48,107)"
           ]
          ],
          "line": {
           "color": "Grey",
           "width": 0.5
          },
          "showscale": true
         },
         "mode": "markers",
         "showlegend": false,
         "type": "scatter",
         "x": [
          "dart",
          "dart",
          "dart",
          "dart",
          "gbdt",
          "dart",
          "dart",
          "gbdt",
          "gbdt",
          "gbdt",
          "dart",
          "gbdt",
          "gbdt",
          "gbdt",
          "dart",
          "gbdt",
          "gbdt",
          "dart",
          "gbdt",
          "dart",
          "gbdt",
          "dart",
          "dart",
          "dart",
          "dart",
          "dart",
          "dart",
          "dart",
          "dart",
          "dart",
          "dart",
          "dart",
          "dart",
          "dart",
          "dart",
          "dart",
          "dart",
          "dart",
          "dart",
          "dart",
          "dart",
          "dart",
          "dart",
          "dart",
          "dart",
          "dart",
          "dart",
          "dart",
          "dart",
          "dart"
         ],
         "xaxis": "x",
         "y": [
          0.8976615929369792,
          0.8966261881554763,
          0.8982214007928886,
          0.8987174853477948,
          0.8818325066683194,
          0.897534023419957,
          0.8985774198661184,
          0.8986080097019102,
          0.887159296855048,
          0.8936672005128031,
          0.8945230031784931,
          0.8972879614422338,
          0.8984729423544763,
          0.8964949622316937,
          0.8911730286742633,
          0.8963732126328785,
          0.8965183888756728,
          0.8975048015215599,
          0.8967278618775812,
          0.8980026926138566,
          0.8978076101347702,
          0.8984902461330188,
          0.8987493979431006,
          0.8989047166905181,
          0.8987330900355062,
          0.8991528029361504,
          0.8990594591389892,
          0.8994552925247178,
          0.8990467314070756,
          0.8988906659024906,
          0.897815236995943,
          0.8991853884829194,
          0.8992267700931317,
          0.8987873851258157,
          0.8993538022944699,
          0.8994509041432636,
          0.8983643378642565,
          0.8977933059445257,
          0.8986760960320054,
          0.8987868016493318,
          0.898630404652633,
          0.8990587991082966,
          0.8977055486170856,
          0.8982767957911012,
          0.8990314105794522,
          0.8988010009627124,
          0.892342452316533,
          0.8985296658204617,
          0.8985753202774126,
          0.8982469303360551
         ],
         "yaxis": "y"
        },
        {
         "marker": {
          "color": [
           0,
           1,
           2,
           3,
           4,
           5,
           6,
           7,
           8,
           9,
           10,
           11,
           12,
           13,
           14,
           15,
           16,
           17,
           18,
           19,
           20,
           21,
           22,
           23,
           24,
           25,
           26,
           27,
           28,
           29,
           30,
           31,
           32,
           33,
           34,
           35,
           36,
           37,
           38,
           39,
           40,
           41,
           42,
           43,
           44,
           45,
           46,
           47,
           48,
           49
          ],
          "colorbar": {
           "title": {
            "text": "Trial"
           },
           "x": 1,
           "xpad": 40
          },
          "colorscale": [
           [
            0,
            "rgb(247,251,255)"
           ],
           [
            0.125,
            "rgb(222,235,247)"
           ],
           [
            0.25,
            "rgb(198,219,239)"
           ],
           [
            0.375,
            "rgb(158,202,225)"
           ],
           [
            0.5,
            "rgb(107,174,214)"
           ],
           [
            0.625,
            "rgb(66,146,198)"
           ],
           [
            0.75,
            "rgb(33,113,181)"
           ],
           [
            0.875,
            "rgb(8,81,156)"
           ],
           [
            1,
            "rgb(8,48,107)"
           ]
          ],
          "line": {
           "color": "Grey",
           "width": 0.5
          },
          "showscale": false
         },
         "mode": "markers",
         "showlegend": false,
         "type": "scatter",
         "x": [
          0.5378419005311236,
          0.7633258782246661,
          0.6225986896922069,
          0.7324522149754977,
          0.3669827139466058,
          0.44187806666297097,
          0.4182180560187565,
          0.49103861352152534,
          0.4707365344868875,
          0.5614196201481262,
          0.2257682579940702,
          0.7939115494329188,
          0.6544504900487966,
          0.6932086292443909,
          0.5798644088524469,
          0.7066902503737962,
          0.5175944912970876,
          0.624564028373513,
          0.7448936338617835,
          0.7145512719971647,
          0.5872491890757702,
          0.4221382857234409,
          0.48484963119576613,
          0.48349464568217704,
          0.5156526723274495,
          0.5145767935594828,
          0.37629088828852225,
          0.35885033102300595,
          0.34072199927957314,
          0.36872031177619546,
          0.2919845014898368,
          0.3499538399048444,
          0.31879290379484265,
          0.28225447659525515,
          0.3133191434154407,
          0.30458357396024127,
          0.30468627594817455,
          0.24474884453675594,
          0.20329391048162448,
          0.26420570661301007,
          0.30500110251681095,
          0.33598684594381467,
          0.39520013201931314,
          0.33032936476633834,
          0.33775484324499977,
          0.2693571841887973,
          0.44694054312219544,
          0.39636321320559254,
          0.24545945640976963,
          0.3067218948920155
         ],
         "xaxis": "x2",
         "y": [
          0.8976615929369792,
          0.8966261881554763,
          0.8982214007928886,
          0.8987174853477948,
          0.8818325066683194,
          0.897534023419957,
          0.8985774198661184,
          0.8986080097019102,
          0.887159296855048,
          0.8936672005128031,
          0.8945230031784931,
          0.8972879614422338,
          0.8984729423544763,
          0.8964949622316937,
          0.8911730286742633,
          0.8963732126328785,
          0.8965183888756728,
          0.8975048015215599,
          0.8967278618775812,
          0.8980026926138566,
          0.8978076101347702,
          0.8984902461330188,
          0.8987493979431006,
          0.8989047166905181,
          0.8987330900355062,
          0.8991528029361504,
          0.8990594591389892,
          0.8994552925247178,
          0.8990467314070756,
          0.8988906659024906,
          0.897815236995943,
          0.8991853884829194,
          0.8992267700931317,
          0.8987873851258157,
          0.8993538022944699,
          0.8994509041432636,
          0.8983643378642565,
          0.8977933059445257,
          0.8986760960320054,
          0.8987868016493318,
          0.898630404652633,
          0.8990587991082966,
          0.8977055486170856,
          0.8982767957911012,
          0.8990314105794522,
          0.8988010009627124,
          0.892342452316533,
          0.8985296658204617,
          0.8985753202774126,
          0.8982469303360551
         ],
         "yaxis": "y2"
        },
        {
         "marker": {
          "color": [
           0,
           1,
           2,
           3,
           4,
           5,
           6,
           7,
           8,
           9,
           10,
           11,
           12,
           13,
           14,
           15,
           16,
           17,
           18,
           19,
           20,
           21,
           22,
           23,
           24,
           25,
           26,
           27,
           28,
           29,
           30,
           31,
           32,
           33,
           34,
           35,
           36,
           37,
           38,
           39,
           40,
           41,
           42,
           43,
           44,
           45,
           46,
           47,
           48,
           49
          ],
          "colorbar": {
           "title": {
            "text": "Trial"
           },
           "x": 1,
           "xpad": 40
          },
          "colorscale": [
           [
            0,
            "rgb(247,251,255)"
           ],
           [
            0.125,
            "rgb(222,235,247)"
           ],
           [
            0.25,
            "rgb(198,219,239)"
           ],
           [
            0.375,
            "rgb(158,202,225)"
           ],
           [
            0.5,
            "rgb(107,174,214)"
           ],
           [
            0.625,
            "rgb(66,146,198)"
           ],
           [
            0.75,
            "rgb(33,113,181)"
           ],
           [
            0.875,
            "rgb(8,81,156)"
           ],
           [
            1,
            "rgb(8,48,107)"
           ]
          ],
          "line": {
           "color": "Grey",
           "width": 0.5
          },
          "showscale": false
         },
         "mode": "markers",
         "showlegend": false,
         "type": "scatter",
         "x": [
          0.19389439422812849,
          0.45924154140117035,
          0.4476008706853442,
          0.13981934622951592,
          0.37207035933089583,
          0.29121658214283697,
          0.4371242239384264,
          0.029303267515977036,
          0.35225663091386056,
          0.3915003819879576,
          0.1666069317054042,
          0.027150646072599455,
          0.038123133769189035,
          0.09650817074143583,
          0.0006222148418612607,
          0.10431601462261153,
          0.09798935645717084,
          0.22055022750758613,
          0.15124344606778953,
          0.2621016108218236,
          0.0657466880434385,
          0.49571488289872667,
          0.13622662850391595,
          0.1375252050729044,
          0.15467943351351277,
          0.1923329726142723,
          0.20666559602096782,
          0.21902422874173558,
          0.22317939765972544,
          0.1956899275406601,
          0.2723108704039862,
          0.2180631216460072,
          0.22822376379802833,
          0.22903726124769525,
          0.17375929988842234,
          0.2452438352693344,
          0.29370716642793004,
          0.2455194047102867,
          0.18583939400966126,
          0.2947288310781317,
          0.24036716072805636,
          0.2615548315150538,
          0.17851068113967566,
          0.22023467379928907,
          0.20565802118807636,
          0.16886261936789215,
          0.2822556208250799,
          0.3166378245189322,
          0.24522484941538744,
          0.2062682517722446
         ],
         "xaxis": "x3",
         "y": [
          0.8976615929369792,
          0.8966261881554763,
          0.8982214007928886,
          0.8987174853477948,
          0.8818325066683194,
          0.897534023419957,
          0.8985774198661184,
          0.8986080097019102,
          0.887159296855048,
          0.8936672005128031,
          0.8945230031784931,
          0.8972879614422338,
          0.8984729423544763,
          0.8964949622316937,
          0.8911730286742633,
          0.8963732126328785,
          0.8965183888756728,
          0.8975048015215599,
          0.8967278618775812,
          0.8980026926138566,
          0.8978076101347702,
          0.8984902461330188,
          0.8987493979431006,
          0.8989047166905181,
          0.8987330900355062,
          0.8991528029361504,
          0.8990594591389892,
          0.8994552925247178,
          0.8990467314070756,
          0.8988906659024906,
          0.897815236995943,
          0.8991853884829194,
          0.8992267700931317,
          0.8987873851258157,
          0.8993538022944699,
          0.8994509041432636,
          0.8983643378642565,
          0.8977933059445257,
          0.8986760960320054,
          0.8987868016493318,
          0.898630404652633,
          0.8990587991082966,
          0.8977055486170856,
          0.8982767957911012,
          0.8990314105794522,
          0.8988010009627124,
          0.892342452316533,
          0.8985296658204617,
          0.8985753202774126,
          0.8982469303360551
         ],
         "yaxis": "y3"
        },
        {
         "marker": {
          "color": [
           0,
           1,
           2,
           3,
           4,
           5,
           6,
           7,
           8,
           9,
           10,
           11,
           12,
           13,
           14,
           15,
           16,
           17,
           18,
           19,
           20,
           21,
           22,
           23,
           24,
           25,
           26,
           27,
           28,
           29,
           30,
           31,
           32,
           33,
           34,
           35,
           36,
           37,
           38,
           39,
           40,
           41,
           42,
           43,
           44,
           45,
           46,
           47,
           48,
           49
          ],
          "colorbar": {
           "title": {
            "text": "Trial"
           },
           "x": 1,
           "xpad": 40
          },
          "colorscale": [
           [
            0,
            "rgb(247,251,255)"
           ],
           [
            0.125,
            "rgb(222,235,247)"
           ],
           [
            0.25,
            "rgb(198,219,239)"
           ],
           [
            0.375,
            "rgb(158,202,225)"
           ],
           [
            0.5,
            "rgb(107,174,214)"
           ],
           [
            0.625,
            "rgb(66,146,198)"
           ],
           [
            0.75,
            "rgb(33,113,181)"
           ],
           [
            0.875,
            "rgb(8,81,156)"
           ],
           [
            1,
            "rgb(8,48,107)"
           ]
          ],
          "line": {
           "color": "Grey",
           "width": 0.5
          },
          "showscale": false
         },
         "mode": "markers",
         "showlegend": false,
         "type": "scatter",
         "x": [
          5,
          15,
          46,
          10,
          19,
          30,
          8,
          25,
          43,
          48,
          64,
          27,
          -1,
          19,
          36,
          14,
          26,
          37,
          6,
          22,
          56,
          10,
          -1,
          0,
          -1,
          0,
          2,
          3,
          4,
          4,
          13,
          4,
          4,
          9,
          5,
          18,
          18,
          12,
          17,
          8,
          15,
          4,
          7,
          11,
          21,
          4,
          7,
          15,
          23,
          34
         ],
         "xaxis": "x4",
         "y": [
          0.8976615929369792,
          0.8966261881554763,
          0.8982214007928886,
          0.8987174853477948,
          0.8818325066683194,
          0.897534023419957,
          0.8985774198661184,
          0.8986080097019102,
          0.887159296855048,
          0.8936672005128031,
          0.8945230031784931,
          0.8972879614422338,
          0.8984729423544763,
          0.8964949622316937,
          0.8911730286742633,
          0.8963732126328785,
          0.8965183888756728,
          0.8975048015215599,
          0.8967278618775812,
          0.8980026926138566,
          0.8978076101347702,
          0.8984902461330188,
          0.8987493979431006,
          0.8989047166905181,
          0.8987330900355062,
          0.8991528029361504,
          0.8990594591389892,
          0.8994552925247178,
          0.8990467314070756,
          0.8988906659024906,
          0.897815236995943,
          0.8991853884829194,
          0.8992267700931317,
          0.8987873851258157,
          0.8993538022944699,
          0.8994509041432636,
          0.8983643378642565,
          0.8977933059445257,
          0.8986760960320054,
          0.8987868016493318,
          0.898630404652633,
          0.8990587991082966,
          0.8977055486170856,
          0.8982767957911012,
          0.8990314105794522,
          0.8988010009627124,
          0.892342452316533,
          0.8985296658204617,
          0.8985753202774126,
          0.8982469303360551
         ],
         "yaxis": "y4"
        },
        {
         "marker": {
          "color": [
           0,
           1,
           2,
           3,
           4,
           5,
           6,
           7,
           8,
           9,
           10,
           11,
           12,
           13,
           14,
           15,
           16,
           17,
           18,
           19,
           20,
           21,
           22,
           23,
           24,
           25,
           26,
           27,
           28,
           29,
           30,
           31,
           32,
           33,
           34,
           35,
           36,
           37,
           38,
           39,
           40,
           41,
           42,
           43,
           44,
           45,
           46,
           47,
           48,
           49
          ],
          "colorbar": {
           "title": {
            "text": "Trial"
           },
           "x": 1,
           "xpad": 40
          },
          "colorscale": [
           [
            0,
            "rgb(247,251,255)"
           ],
           [
            0.125,
            "rgb(222,235,247)"
           ],
           [
            0.25,
            "rgb(198,219,239)"
           ],
           [
            0.375,
            "rgb(158,202,225)"
           ],
           [
            0.5,
            "rgb(107,174,214)"
           ],
           [
            0.625,
            "rgb(66,146,198)"
           ],
           [
            0.75,
            "rgb(33,113,181)"
           ],
           [
            0.875,
            "rgb(8,81,156)"
           ],
           [
            1,
            "rgb(8,48,107)"
           ]
          ],
          "line": {
           "color": "Grey",
           "width": 0.5
          },
          "showscale": false
         },
         "mode": "markers",
         "showlegend": false,
         "type": "scatter",
         "x": [
          46,
          75,
          11,
          48,
          61,
          51,
          49,
          19,
          60,
          31,
          84,
          12,
          28,
          30,
          97,
          24,
          39,
          17,
          5,
          68,
          40,
          56,
          42,
          39,
          40,
          40,
          36,
          34,
          33,
          21,
          32,
          34,
          24,
          24,
          45,
          47,
          55,
          46,
          69,
          47,
          60,
          46,
          52,
          27,
          15,
          36,
          44,
          26,
          35,
          20
         ],
         "xaxis": "x5",
         "y": [
          0.8976615929369792,
          0.8966261881554763,
          0.8982214007928886,
          0.8987174853477948,
          0.8818325066683194,
          0.897534023419957,
          0.8985774198661184,
          0.8986080097019102,
          0.887159296855048,
          0.8936672005128031,
          0.8945230031784931,
          0.8972879614422338,
          0.8984729423544763,
          0.8964949622316937,
          0.8911730286742633,
          0.8963732126328785,
          0.8965183888756728,
          0.8975048015215599,
          0.8967278618775812,
          0.8980026926138566,
          0.8978076101347702,
          0.8984902461330188,
          0.8987493979431006,
          0.8989047166905181,
          0.8987330900355062,
          0.8991528029361504,
          0.8990594591389892,
          0.8994552925247178,
          0.8990467314070756,
          0.8988906659024906,
          0.897815236995943,
          0.8991853884829194,
          0.8992267700931317,
          0.8987873851258157,
          0.8993538022944699,
          0.8994509041432636,
          0.8983643378642565,
          0.8977933059445257,
          0.8986760960320054,
          0.8987868016493318,
          0.898630404652633,
          0.8990587991082966,
          0.8977055486170856,
          0.8982767957911012,
          0.8990314105794522,
          0.8988010009627124,
          0.892342452316533,
          0.8985296658204617,
          0.8985753202774126,
          0.8982469303360551
         ],
         "yaxis": "y5"
        },
        {
         "marker": {
          "color": [
           0,
           1,
           2,
           3,
           4,
           5,
           6,
           7,
           8,
           9,
           10,
           11,
           12,
           13,
           14,
           15,
           16,
           17,
           18,
           19,
           20,
           21,
           22,
           23,
           24,
           25,
           26,
           27,
           28,
           29,
           30,
           31,
           32,
           33,
           34,
           35,
           36,
           37,
           38,
           39,
           40,
           41,
           42,
           43,
           44,
           45,
           46,
           47,
           48,
           49
          ],
          "colorbar": {
           "title": {
            "text": "Trial"
           },
           "x": 1,
           "xpad": 40
          },
          "colorscale": [
           [
            0,
            "rgb(247,251,255)"
           ],
           [
            0.125,
            "rgb(222,235,247)"
           ],
           [
            0.25,
            "rgb(198,219,239)"
           ],
           [
            0.375,
            "rgb(158,202,225)"
           ],
           [
            0.5,
            "rgb(107,174,214)"
           ],
           [
            0.625,
            "rgb(66,146,198)"
           ],
           [
            0.75,
            "rgb(33,113,181)"
           ],
           [
            0.875,
            "rgb(8,81,156)"
           ],
           [
            1,
            "rgb(8,48,107)"
           ]
          ],
          "line": {
           "color": "Grey",
           "width": 0.5
          },
          "showscale": false
         },
         "mode": "markers",
         "showlegend": false,
         "type": "scatter",
         "x": [
          9.712332134025896,
          9.533023304028491,
          6.746427625701935,
          0.6236654874810934,
          2.1919343257410158,
          2.1407526004092485,
          7.060386264543439,
          0.40908264251314624,
          2.3909956071399527,
          1.1167043841253457,
          3.7783324577352184,
          0.2741648257655216,
          0.23362483240516022,
          3.8485386398292163,
          0.049716580312128444,
          1.6824004663398835,
          2.983058649947171,
          1.2312165717061063,
          1.1140657876953957,
          3.6468525459148804,
          4.423779032991213,
          5.730670773916994,
          5.4666671486815535,
          2.950196257861971,
          2.860486573731021,
          3.2957480998415862,
          5.3092071064587305,
          4.768878441321062,
          5.025595976566911,
          4.612103534613179,
          6.02154621605445,
          4.913585377751683,
          4.455595555553924,
          4.441994518864866,
          6.388109299687041,
          7.510388082773024,
          7.832397211786538,
          6.116516911590818,
          7.909705667388043,
          6.383688316066618,
          6.822353929564878,
          4.96776860156024,
          5.550442106074862,
          6.537246202249208,
          7.322925610079759,
          8.84240124452796,
          6.0429082884113186,
          4.830479911003167,
          4.127328017599583,
          5.052902444369257
         ],
         "xaxis": "x6",
         "y": [
          0.8976615929369792,
          0.8966261881554763,
          0.8982214007928886,
          0.8987174853477948,
          0.8818325066683194,
          0.897534023419957,
          0.8985774198661184,
          0.8986080097019102,
          0.887159296855048,
          0.8936672005128031,
          0.8945230031784931,
          0.8972879614422338,
          0.8984729423544763,
          0.8964949622316937,
          0.8911730286742633,
          0.8963732126328785,
          0.8965183888756728,
          0.8975048015215599,
          0.8967278618775812,
          0.8980026926138566,
          0.8978076101347702,
          0.8984902461330188,
          0.8987493979431006,
          0.8989047166905181,
          0.8987330900355062,
          0.8991528029361504,
          0.8990594591389892,
          0.8994552925247178,
          0.8990467314070756,
          0.8988906659024906,
          0.897815236995943,
          0.8991853884829194,
          0.8992267700931317,
          0.8987873851258157,
          0.8993538022944699,
          0.8994509041432636,
          0.8983643378642565,
          0.8977933059445257,
          0.8986760960320054,
          0.8987868016493318,
          0.898630404652633,
          0.8990587991082966,
          0.8977055486170856,
          0.8982767957911012,
          0.8990314105794522,
          0.8988010009627124,
          0.892342452316533,
          0.8985296658204617,
          0.8985753202774126,
          0.8982469303360551
         ],
         "yaxis": "y6"
        },
        {
         "marker": {
          "color": [
           0,
           1,
           2,
           3,
           4,
           5,
           6,
           7,
           8,
           9,
           10,
           11,
           12,
           13,
           14,
           15,
           16,
           17,
           18,
           19,
           20,
           21,
           22,
           23,
           24,
           25,
           26,
           27,
           28,
           29,
           30,
           31,
           32,
           33,
           34,
           35,
           36,
           37,
           38,
           39,
           40,
           41,
           42,
           43,
           44,
           45,
           46,
           47,
           48,
           49
          ],
          "colorbar": {
           "title": {
            "text": "Trial"
           },
           "x": 1,
           "xpad": 40
          },
          "colorscale": [
           [
            0,
            "rgb(247,251,255)"
           ],
           [
            0.125,
            "rgb(222,235,247)"
           ],
           [
            0.25,
            "rgb(198,219,239)"
           ],
           [
            0.375,
            "rgb(158,202,225)"
           ],
           [
            0.5,
            "rgb(107,174,214)"
           ],
           [
            0.625,
            "rgb(66,146,198)"
           ],
           [
            0.75,
            "rgb(33,113,181)"
           ],
           [
            0.875,
            "rgb(8,81,156)"
           ],
           [
            1,
            "rgb(8,48,107)"
           ]
          ],
          "line": {
           "color": "Grey",
           "width": 0.5
          },
          "showscale": false
         },
         "mode": "markers",
         "showlegend": false,
         "type": "scatter",
         "x": [
          0.5086730611030881,
          0.5840019466567259,
          0.9245551782504706,
          0.9478690581585507,
          0.6721676772580896,
          0.6452745803860633,
          0.9116941448755507,
          0.5306766521238373,
          0.9862463341635224,
          0.7793870451468459,
          0.8252712390558463,
          0.7285642300509503,
          0.5163800238379865,
          0.8520905835455335,
          0.722648789570837,
          0.5937436788218478,
          0.7767532311139584,
          0.6804629085265281,
          0.9868202210928749,
          0.8295012700074839,
          0.5590994924345425,
          0.913429370062523,
          0.9080870625224224,
          0.9513310084268437,
          0.9520669423491084,
          0.8700728530494674,
          0.8523479620898352,
          0.8804385788228134,
          0.868363227663812,
          0.8826793558673016,
          0.8262076969419603,
          0.874981948036766,
          0.8716112325358999,
          0.8678668124637681,
          0.8962168611735738,
          0.8955023649991991,
          0.9386704139826458,
          0.8888154977140437,
          0.9076408674479064,
          0.938071009108372,
          0.971946025568226,
          0.8953961946013722,
          0.9216845323458457,
          0.8460525561035418,
          0.8059801903568848,
          0.8863653851761863,
          0.9194108417359608,
          0.8972616147335808,
          0.9670874353700755,
          0.8007943471477896
         ],
         "xaxis": "x7",
         "y": [
          0.8976615929369792,
          0.8966261881554763,
          0.8982214007928886,
          0.8987174853477948,
          0.8818325066683194,
          0.897534023419957,
          0.8985774198661184,
          0.8986080097019102,
          0.887159296855048,
          0.8936672005128031,
          0.8945230031784931,
          0.8972879614422338,
          0.8984729423544763,
          0.8964949622316937,
          0.8911730286742633,
          0.8963732126328785,
          0.8965183888756728,
          0.8975048015215599,
          0.8967278618775812,
          0.8980026926138566,
          0.8978076101347702,
          0.8984902461330188,
          0.8987493979431006,
          0.8989047166905181,
          0.8987330900355062,
          0.8991528029361504,
          0.8990594591389892,
          0.8994552925247178,
          0.8990467314070756,
          0.8988906659024906,
          0.897815236995943,
          0.8991853884829194,
          0.8992267700931317,
          0.8987873851258157,
          0.8993538022944699,
          0.8994509041432636,
          0.8983643378642565,
          0.8977933059445257,
          0.8986760960320054,
          0.8987868016493318,
          0.898630404652633,
          0.8990587991082966,
          0.8977055486170856,
          0.8982767957911012,
          0.8990314105794522,
          0.8988010009627124,
          0.892342452316533,
          0.8985296658204617,
          0.8985753202774126,
          0.8982469303360551
         ],
         "yaxis": "y7"
        },
        {
         "marker": {
          "color": [
           0,
           1,
           2,
           3,
           4,
           5,
           6,
           7,
           8,
           9,
           10,
           11,
           12,
           13,
           14,
           15,
           16,
           17,
           18,
           19,
           20,
           21,
           22,
           23,
           24,
           25,
           26,
           27,
           28,
           29,
           30,
           31,
           32,
           33,
           34,
           35,
           36,
           37,
           38,
           39,
           40,
           41,
           42,
           43,
           44,
           45,
           46,
           47,
           48,
           49
          ],
          "colorbar": {
           "title": {
            "text": "Trial"
           },
           "x": 1,
           "xpad": 40
          },
          "colorscale": [
           [
            0,
            "rgb(247,251,255)"
           ],
           [
            0.125,
            "rgb(222,235,247)"
           ],
           [
            0.25,
            "rgb(198,219,239)"
           ],
           [
            0.375,
            "rgb(158,202,225)"
           ],
           [
            0.5,
            "rgb(107,174,214)"
           ],
           [
            0.625,
            "rgb(66,146,198)"
           ],
           [
            0.75,
            "rgb(33,113,181)"
           ],
           [
            0.875,
            "rgb(8,81,156)"
           ],
           [
            1,
            "rgb(8,48,107)"
           ]
          ],
          "line": {
           "color": "Grey",
           "width": 0.5
          },
          "showscale": false
         },
         "mode": "markers",
         "showlegend": false,
         "type": "scatter",
         "x": [
          252,
          463,
          861,
          642,
          555,
          725,
          590,
          177,
          299,
          239,
          877,
          133,
          462,
          705,
          414,
          998,
          698,
          131,
          344,
          644,
          816,
          585,
          518,
          501,
          480,
          479,
          383,
          334,
          384,
          249,
          312,
          391,
          418,
          436,
          346,
          200,
          175,
          288,
          204,
          355,
          292,
          412,
          340,
          233,
          108,
          194,
          276,
          539,
          447,
          396
         ],
         "xaxis": "x8",
         "y": [
          0.8976615929369792,
          0.8966261881554763,
          0.8982214007928886,
          0.8987174853477948,
          0.8818325066683194,
          0.897534023419957,
          0.8985774198661184,
          0.8986080097019102,
          0.887159296855048,
          0.8936672005128031,
          0.8945230031784931,
          0.8972879614422338,
          0.8984729423544763,
          0.8964949622316937,
          0.8911730286742633,
          0.8963732126328785,
          0.8965183888756728,
          0.8975048015215599,
          0.8967278618775812,
          0.8980026926138566,
          0.8978076101347702,
          0.8984902461330188,
          0.8987493979431006,
          0.8989047166905181,
          0.8987330900355062,
          0.8991528029361504,
          0.8990594591389892,
          0.8994552925247178,
          0.8990467314070756,
          0.8988906659024906,
          0.897815236995943,
          0.8991853884829194,
          0.8992267700931317,
          0.8987873851258157,
          0.8993538022944699,
          0.8994509041432636,
          0.8983643378642565,
          0.8977933059445257,
          0.8986760960320054,
          0.8987868016493318,
          0.898630404652633,
          0.8990587991082966,
          0.8977055486170856,
          0.8982767957911012,
          0.8990314105794522,
          0.8988010009627124,
          0.892342452316533,
          0.8985296658204617,
          0.8985753202774126,
          0.8982469303360551
         ],
         "yaxis": "y8"
        },
        {
         "marker": {
          "color": [
           0,
           1,
           2,
           3,
           4,
           5,
           6,
           7,
           8,
           9,
           10,
           11,
           12,
           13,
           14,
           15,
           16,
           17,
           18,
           19,
           20,
           21,
           22,
           23,
           24,
           25,
           26,
           27,
           28,
           29,
           30,
           31,
           32,
           33,
           34,
           35,
           36,
           37,
           38,
           39,
           40,
           41,
           42,
           43,
           44,
           45,
           46,
           47,
           48,
           49
          ],
          "colorbar": {
           "title": {
            "text": "Trial"
           },
           "x": 1,
           "xpad": 40
          },
          "colorscale": [
           [
            0,
            "rgb(247,251,255)"
           ],
           [
            0.125,
            "rgb(222,235,247)"
           ],
           [
            0.25,
            "rgb(198,219,239)"
           ],
           [
            0.375,
            "rgb(158,202,225)"
           ],
           [
            0.5,
            "rgb(107,174,214)"
           ],
           [
            0.625,
            "rgb(66,146,198)"
           ],
           [
            0.75,
            "rgb(33,113,181)"
           ],
           [
            0.875,
            "rgb(8,81,156)"
           ],
           [
            1,
            "rgb(8,48,107)"
           ]
          ],
          "line": {
           "color": "Grey",
           "width": 0.5
          },
          "showscale": false
         },
         "mode": "markers",
         "showlegend": false,
         "type": "scatter",
         "x": [
          36,
          50,
          87,
          43,
          126,
          124,
          30,
          81,
          115,
          4,
          2,
          78,
          63,
          93,
          103,
          65,
          147,
          22,
          49,
          67,
          43,
          20,
          30,
          55,
          56,
          62,
          18,
          19,
          15,
          12,
          37,
          17,
          26,
          29,
          12,
          10,
          8,
          38,
          27,
          9,
          23,
          14,
          3,
          34,
          10,
          22,
          2,
          43,
          16,
          26
         ],
         "xaxis": "x9",
         "y": [
          0.8976615929369792,
          0.8966261881554763,
          0.8982214007928886,
          0.8987174853477948,
          0.8818325066683194,
          0.897534023419957,
          0.8985774198661184,
          0.8986080097019102,
          0.887159296855048,
          0.8936672005128031,
          0.8945230031784931,
          0.8972879614422338,
          0.8984729423544763,
          0.8964949622316937,
          0.8911730286742633,
          0.8963732126328785,
          0.8965183888756728,
          0.8975048015215599,
          0.8967278618775812,
          0.8980026926138566,
          0.8978076101347702,
          0.8984902461330188,
          0.8987493979431006,
          0.8989047166905181,
          0.8987330900355062,
          0.8991528029361504,
          0.8990594591389892,
          0.8994552925247178,
          0.8990467314070756,
          0.8988906659024906,
          0.897815236995943,
          0.8991853884829194,
          0.8992267700931317,
          0.8987873851258157,
          0.8993538022944699,
          0.8994509041432636,
          0.8983643378642565,
          0.8977933059445257,
          0.8986760960320054,
          0.8987868016493318,
          0.898630404652633,
          0.8990587991082966,
          0.8977055486170856,
          0.8982767957911012,
          0.8990314105794522,
          0.8988010009627124,
          0.892342452316533,
          0.8985296658204617,
          0.8985753202774126,
          0.8982469303360551
         ],
         "yaxis": "y9"
        },
        {
         "marker": {
          "color": [
           0,
           1,
           2,
           3,
           4,
           5,
           6,
           7,
           8,
           9,
           10,
           11,
           12,
           13,
           14,
           15,
           16,
           17,
           18,
           19,
           20,
           21,
           22,
           23,
           24,
           25,
           26,
           27,
           28,
           29,
           30,
           31,
           32,
           33,
           34,
           35,
           36,
           37,
           38,
           39,
           40,
           41,
           42,
           43,
           44,
           45,
           46,
           47,
           48,
           49
          ],
          "colorbar": {
           "title": {
            "text": "Trial"
           },
           "x": 1,
           "xpad": 40
          },
          "colorscale": [
           [
            0,
            "rgb(247,251,255)"
           ],
           [
            0.125,
            "rgb(222,235,247)"
           ],
           [
            0.25,
            "rgb(198,219,239)"
           ],
           [
            0.375,
            "rgb(158,202,225)"
           ],
           [
            0.5,
            "rgb(107,174,214)"
           ],
           [
            0.625,
            "rgb(66,146,198)"
           ],
           [
            0.75,
            "rgb(33,113,181)"
           ],
           [
            0.875,
            "rgb(8,81,156)"
           ],
           [
            1,
            "rgb(8,48,107)"
           ]
          ],
          "line": {
           "color": "Grey",
           "width": 0.5
          },
          "showscale": false
         },
         "mode": "markers",
         "showlegend": false,
         "type": "scatter",
         "x": [
          0.5735842293464366,
          0.5743634611942869,
          0.7426580446771414,
          0.9446370161323757,
          0.7165061023129227,
          0.40986424851226594,
          0.90515334194296,
          0.8863926177734158,
          0.5801440597902469,
          0.49126362083778874,
          0.9930097583851182,
          0.8562523795233219,
          0.9991756637855137,
          0.8321557332392471,
          0.9127447775991822,
          0.7912670914097004,
          0.8959213478619301,
          0.788488815637441,
          0.9479574645325319,
          0.8509290237343315,
          0.9519485626720671,
          0.8968259716298066,
          0.9341516846636849,
          0.9412684166978857,
          0.9438802417402412,
          0.9704291974896981,
          0.9875374900160718,
          0.9922927799932719,
          0.9864043175366682,
          0.9835728724350394,
          0.648450021181294,
          0.9841445187575537,
          0.9971606394426918,
          0.9982269876052932,
          0.9585716697358162,
          0.9262652849214809,
          0.9208753272423289,
          0.8738562277682995,
          0.9197842287077415,
          0.9478889261919075,
          0.8768425311018467,
          0.9665737419598004,
          0.9662423181775547,
          0.9102921014239225,
          0.9685889514331126,
          0.9337920285757986,
          0.9959565031355933,
          0.9639105898123103,
          0.9190272145990579,
          0.8868755546830334
         ],
         "xaxis": "x10",
         "y": [
          0.8976615929369792,
          0.8966261881554763,
          0.8982214007928886,
          0.8987174853477948,
          0.8818325066683194,
          0.897534023419957,
          0.8985774198661184,
          0.8986080097019102,
          0.887159296855048,
          0.8936672005128031,
          0.8945230031784931,
          0.8972879614422338,
          0.8984729423544763,
          0.8964949622316937,
          0.8911730286742633,
          0.8963732126328785,
          0.8965183888756728,
          0.8975048015215599,
          0.8967278618775812,
          0.8980026926138566,
          0.8978076101347702,
          0.8984902461330188,
          0.8987493979431006,
          0.8989047166905181,
          0.8987330900355062,
          0.8991528029361504,
          0.8990594591389892,
          0.8994552925247178,
          0.8990467314070756,
          0.8988906659024906,
          0.897815236995943,
          0.8991853884829194,
          0.8992267700931317,
          0.8987873851258157,
          0.8993538022944699,
          0.8994509041432636,
          0.8983643378642565,
          0.8977933059445257,
          0.8986760960320054,
          0.8987868016493318,
          0.898630404652633,
          0.8990587991082966,
          0.8977055486170856,
          0.8982767957911012,
          0.8990314105794522,
          0.8988010009627124,
          0.892342452316533,
          0.8985296658204617,
          0.8985753202774126,
          0.8982469303360551
         ],
         "yaxis": "y10"
        },
        {
         "marker": {
          "color": [
           0,
           1,
           2,
           3,
           4,
           5,
           6,
           7,
           8,
           9,
           10,
           11,
           12,
           13,
           14,
           15,
           16,
           17,
           18,
           19,
           20,
           21,
           22,
           23,
           24,
           25,
           26,
           27,
           28,
           29,
           30,
           31,
           32,
           33,
           34,
           35,
           36,
           37,
           38,
           39,
           40,
           41,
           42,
           43,
           44,
           45,
           46,
           47,
           48,
           49
          ],
          "colorbar": {
           "title": {
            "text": "Trial"
           },
           "x": 1,
           "xpad": 40
          },
          "colorscale": [
           [
            0,
            "rgb(247,251,255)"
           ],
           [
            0.125,
            "rgb(222,235,247)"
           ],
           [
            0.25,
            "rgb(198,219,239)"
           ],
           [
            0.375,
            "rgb(158,202,225)"
           ],
           [
            0.5,
            "rgb(107,174,214)"
           ],
           [
            0.625,
            "rgb(66,146,198)"
           ],
           [
            0.75,
            "rgb(33,113,181)"
           ],
           [
            0.875,
            "rgb(8,81,156)"
           ],
           [
            1,
            "rgb(8,48,107)"
           ]
          ],
          "line": {
           "color": "Grey",
           "width": 0.5
          },
          "showscale": false
         },
         "mode": "markers",
         "showlegend": false,
         "type": "scatter",
         "x": [
          0.11437356348065236,
          0.11051818217157083,
          0.06790095374800148,
          0.07219186526287785,
          0.13687523100932564,
          0.4363296060006035,
          0.04554516983519197,
          0.19815317905163377,
          0.07176155987511251,
          0.16041430704982373,
          0.0014627254269813927,
          0.2550300114562798,
          0.22970491341523516,
          0.21139730758120326,
          0.3034138106938993,
          0.0005932108084396037,
          0.1775422344966835,
          0.3054492390417288,
          0.1754157801332694,
          0.10953132131572077,
          0.05956400595890412,
          0.048851484568817834,
          0.01977383586952872,
          0.0023506708161049536,
          0.027092557483141287,
          0.0017381095999524946,
          0.007794799642996427,
          0.010366800790489683,
          0.09386861232518227,
          0.03542968344413755,
          0.13305109498878548,
          0.08908266123476247,
          0.08841442840490749,
          0.08542705842861137,
          0.10425149052029462,
          0.10856303266805119,
          0.11565101936008973,
          0.052141807634959195,
          0.1314703390078077,
          0.07121714887472244,
          0.03660899028508302,
          0.10018122671768033,
          0.08168056325516038,
          0.14173213510557486,
          0.1070052168739652,
          0.06812516156406354,
          0.04209048636575936,
          0.09062663099129781,
          0.1577596296178525,
          0.06083630702285618
         ],
         "xaxis": "x11",
         "y": [
          0.8976615929369792,
          0.8966261881554763,
          0.8982214007928886,
          0.8987174853477948,
          0.8818325066683194,
          0.897534023419957,
          0.8985774198661184,
          0.8986080097019102,
          0.887159296855048,
          0.8936672005128031,
          0.8945230031784931,
          0.8972879614422338,
          0.8984729423544763,
          0.8964949622316937,
          0.8911730286742633,
          0.8963732126328785,
          0.8965183888756728,
          0.8975048015215599,
          0.8967278618775812,
          0.8980026926138566,
          0.8978076101347702,
          0.8984902461330188,
          0.8987493979431006,
          0.8989047166905181,
          0.8987330900355062,
          0.8991528029361504,
          0.8990594591389892,
          0.8994552925247178,
          0.8990467314070756,
          0.8988906659024906,
          0.897815236995943,
          0.8991853884829194,
          0.8992267700931317,
          0.8987873851258157,
          0.8993538022944699,
          0.8994509041432636,
          0.8983643378642565,
          0.8977933059445257,
          0.8986760960320054,
          0.8987868016493318,
          0.898630404652633,
          0.8990587991082966,
          0.8977055486170856,
          0.8982767957911012,
          0.8990314105794522,
          0.8988010009627124,
          0.892342452316533,
          0.8985296658204617,
          0.8985753202774126,
          0.8982469303360551
         ],
         "yaxis": "y11"
        },
        {
         "marker": {
          "color": [
           0,
           1,
           2,
           3,
           4,
           5,
           6,
           7,
           8,
           9,
           10,
           11,
           12,
           13,
           14,
           15,
           16,
           17,
           18,
           19,
           20,
           21,
           22,
           23,
           24,
           25,
           26,
           27,
           28,
           29,
           30,
           31,
           32,
           33,
           34,
           35,
           36,
           37,
           38,
           39,
           40,
           41,
           42,
           43,
           44,
           45,
           46,
           47,
           48,
           49
          ],
          "colorbar": {
           "title": {
            "text": "Trial"
           },
           "x": 1,
           "xpad": 40
          },
          "colorscale": [
           [
            0,
            "rgb(247,251,255)"
           ],
           [
            0.125,
            "rgb(222,235,247)"
           ],
           [
            0.25,
            "rgb(198,219,239)"
           ],
           [
            0.375,
            "rgb(158,202,225)"
           ],
           [
            0.5,
            "rgb(107,174,214)"
           ],
           [
            0.625,
            "rgb(66,146,198)"
           ],
           [
            0.75,
            "rgb(33,113,181)"
           ],
           [
            0.875,
            "rgb(8,81,156)"
           ],
           [
            1,
            "rgb(8,48,107)"
           ]
          ],
          "line": {
           "color": "Grey",
           "width": 0.5
          },
          "showscale": false
         },
         "mode": "markers",
         "showlegend": false,
         "type": "scatter",
         "x": [
          0.6211258812680587,
          0.49422047366117405,
          0.8379148446766773,
          0.44387396956238967,
          0.6261806755914899,
          0.6147857641308284,
          0.6484974233209327,
          0.833078935363545,
          0.9953892710941705,
          0.8615891105655572,
          0.40333713278145095,
          0.7670268396139284,
          0.4999931561626756,
          0.7425442048193328,
          0.7143358680012887,
          0.530883645689775,
          0.4490070999197131,
          0.5631533070249285,
          0.42655445579907575,
          0.5808290030165913,
          0.6819593402033362,
          0.4784883454449532,
          0.6685368528216983,
          0.5386484546240736,
          0.5383737091095854,
          0.5412615726293593,
          0.5903898690864483,
          0.5713199333429264,
          0.5856004552782371,
          0.6041995723921443,
          0.6422764854026342,
          0.584169613626593,
          0.5674708170478602,
          0.5104256869165641,
          0.5602648470223995,
          0.5711303732615067,
          0.485127609437098,
          0.6189294198972598,
          0.5538266932835475,
          0.6253685365052845,
          0.5135737671733883,
          0.5723885621747156,
          0.5928810352216829,
          0.6488389334436329,
          0.5733805198071419,
          0.6118402492974614,
          0.47174494512811416,
          0.5072073194835502,
          0.552161113707136,
          0.5276187257419002
         ],
         "xaxis": "x12",
         "y": [
          0.8976615929369792,
          0.8966261881554763,
          0.8982214007928886,
          0.8987174853477948,
          0.8818325066683194,
          0.897534023419957,
          0.8985774198661184,
          0.8986080097019102,
          0.887159296855048,
          0.8936672005128031,
          0.8945230031784931,
          0.8972879614422338,
          0.8984729423544763,
          0.8964949622316937,
          0.8911730286742633,
          0.8963732126328785,
          0.8965183888756728,
          0.8975048015215599,
          0.8967278618775812,
          0.8980026926138566,
          0.8978076101347702,
          0.8984902461330188,
          0.8987493979431006,
          0.8989047166905181,
          0.8987330900355062,
          0.8991528029361504,
          0.8990594591389892,
          0.8994552925247178,
          0.8990467314070756,
          0.8988906659024906,
          0.897815236995943,
          0.8991853884829194,
          0.8992267700931317,
          0.8987873851258157,
          0.8993538022944699,
          0.8994509041432636,
          0.8983643378642565,
          0.8977933059445257,
          0.8986760960320054,
          0.8987868016493318,
          0.898630404652633,
          0.8990587991082966,
          0.8977055486170856,
          0.8982767957911012,
          0.8990314105794522,
          0.8988010009627124,
          0.892342452316533,
          0.8985296658204617,
          0.8985753202774126,
          0.8982469303360551
         ],
         "yaxis": "y12"
        }
       ],
       "layout": {
        "template": {
         "data": {
          "bar": [
           {
            "error_x": {
             "color": "#2a3f5f"
            },
            "error_y": {
             "color": "#2a3f5f"
            },
            "marker": {
             "line": {
              "color": "#E5ECF6",
              "width": 0.5
             },
             "pattern": {
              "fillmode": "overlay",
              "size": 10,
              "solidity": 0.2
             }
            },
            "type": "bar"
           }
          ],
          "barpolar": [
           {
            "marker": {
             "line": {
              "color": "#E5ECF6",
              "width": 0.5
             },
             "pattern": {
              "fillmode": "overlay",
              "size": 10,
              "solidity": 0.2
             }
            },
            "type": "barpolar"
           }
          ],
          "carpet": [
           {
            "aaxis": {
             "endlinecolor": "#2a3f5f",
             "gridcolor": "white",
             "linecolor": "white",
             "minorgridcolor": "white",
             "startlinecolor": "#2a3f5f"
            },
            "baxis": {
             "endlinecolor": "#2a3f5f",
             "gridcolor": "white",
             "linecolor": "white",
             "minorgridcolor": "white",
             "startlinecolor": "#2a3f5f"
            },
            "type": "carpet"
           }
          ],
          "choropleth": [
           {
            "colorbar": {
             "outlinewidth": 0,
             "ticks": ""
            },
            "type": "choropleth"
           }
          ],
          "contour": [
           {
            "colorbar": {
             "outlinewidth": 0,
             "ticks": ""
            },
            "colorscale": [
             [
              0,
              "#0d0887"
             ],
             [
              0.1111111111111111,
              "#46039f"
             ],
             [
              0.2222222222222222,
              "#7201a8"
             ],
             [
              0.3333333333333333,
              "#9c179e"
             ],
             [
              0.4444444444444444,
              "#bd3786"
             ],
             [
              0.5555555555555556,
              "#d8576b"
             ],
             [
              0.6666666666666666,
              "#ed7953"
             ],
             [
              0.7777777777777778,
              "#fb9f3a"
             ],
             [
              0.8888888888888888,
              "#fdca26"
             ],
             [
              1,
              "#f0f921"
             ]
            ],
            "type": "contour"
           }
          ],
          "contourcarpet": [
           {
            "colorbar": {
             "outlinewidth": 0,
             "ticks": ""
            },
            "type": "contourcarpet"
           }
          ],
          "heatmap": [
           {
            "colorbar": {
             "outlinewidth": 0,
             "ticks": ""
            },
            "colorscale": [
             [
              0,
              "#0d0887"
             ],
             [
              0.1111111111111111,
              "#46039f"
             ],
             [
              0.2222222222222222,
              "#7201a8"
             ],
             [
              0.3333333333333333,
              "#9c179e"
             ],
             [
              0.4444444444444444,
              "#bd3786"
             ],
             [
              0.5555555555555556,
              "#d8576b"
             ],
             [
              0.6666666666666666,
              "#ed7953"
             ],
             [
              0.7777777777777778,
              "#fb9f3a"
             ],
             [
              0.8888888888888888,
              "#fdca26"
             ],
             [
              1,
              "#f0f921"
             ]
            ],
            "type": "heatmap"
           }
          ],
          "heatmapgl": [
           {
            "colorbar": {
             "outlinewidth": 0,
             "ticks": ""
            },
            "colorscale": [
             [
              0,
              "#0d0887"
             ],
             [
              0.1111111111111111,
              "#46039f"
             ],
             [
              0.2222222222222222,
              "#7201a8"
             ],
             [
              0.3333333333333333,
              "#9c179e"
             ],
             [
              0.4444444444444444,
              "#bd3786"
             ],
             [
              0.5555555555555556,
              "#d8576b"
             ],
             [
              0.6666666666666666,
              "#ed7953"
             ],
             [
              0.7777777777777778,
              "#fb9f3a"
             ],
             [
              0.8888888888888888,
              "#fdca26"
             ],
             [
              1,
              "#f0f921"
             ]
            ],
            "type": "heatmapgl"
           }
          ],
          "histogram": [
           {
            "marker": {
             "pattern": {
              "fillmode": "overlay",
              "size": 10,
              "solidity": 0.2
             }
            },
            "type": "histogram"
           }
          ],
          "histogram2d": [
           {
            "colorbar": {
             "outlinewidth": 0,
             "ticks": ""
            },
            "colorscale": [
             [
              0,
              "#0d0887"
             ],
             [
              0.1111111111111111,
              "#46039f"
             ],
             [
              0.2222222222222222,
              "#7201a8"
             ],
             [
              0.3333333333333333,
              "#9c179e"
             ],
             [
              0.4444444444444444,
              "#bd3786"
             ],
             [
              0.5555555555555556,
              "#d8576b"
             ],
             [
              0.6666666666666666,
              "#ed7953"
             ],
             [
              0.7777777777777778,
              "#fb9f3a"
             ],
             [
              0.8888888888888888,
              "#fdca26"
             ],
             [
              1,
              "#f0f921"
             ]
            ],
            "type": "histogram2d"
           }
          ],
          "histogram2dcontour": [
           {
            "colorbar": {
             "outlinewidth": 0,
             "ticks": ""
            },
            "colorscale": [
             [
              0,
              "#0d0887"
             ],
             [
              0.1111111111111111,
              "#46039f"
             ],
             [
              0.2222222222222222,
              "#7201a8"
             ],
             [
              0.3333333333333333,
              "#9c179e"
             ],
             [
              0.4444444444444444,
              "#bd3786"
             ],
             [
              0.5555555555555556,
              "#d8576b"
             ],
             [
              0.6666666666666666,
              "#ed7953"
             ],
             [
              0.7777777777777778,
              "#fb9f3a"
             ],
             [
              0.8888888888888888,
              "#fdca26"
             ],
             [
              1,
              "#f0f921"
             ]
            ],
            "type": "histogram2dcontour"
           }
          ],
          "mesh3d": [
           {
            "colorbar": {
             "outlinewidth": 0,
             "ticks": ""
            },
            "type": "mesh3d"
           }
          ],
          "parcoords": [
           {
            "line": {
             "colorbar": {
              "outlinewidth": 0,
              "ticks": ""
             }
            },
            "type": "parcoords"
           }
          ],
          "pie": [
           {
            "automargin": true,
            "type": "pie"
           }
          ],
          "scatter": [
           {
            "fillpattern": {
             "fillmode": "overlay",
             "size": 10,
             "solidity": 0.2
            },
            "type": "scatter"
           }
          ],
          "scatter3d": [
           {
            "line": {
             "colorbar": {
              "outlinewidth": 0,
              "ticks": ""
             }
            },
            "marker": {
             "colorbar": {
              "outlinewidth": 0,
              "ticks": ""
             }
            },
            "type": "scatter3d"
           }
          ],
          "scattercarpet": [
           {
            "marker": {
             "colorbar": {
              "outlinewidth": 0,
              "ticks": ""
             }
            },
            "type": "scattercarpet"
           }
          ],
          "scattergeo": [
           {
            "marker": {
             "colorbar": {
              "outlinewidth": 0,
              "ticks": ""
             }
            },
            "type": "scattergeo"
           }
          ],
          "scattergl": [
           {
            "marker": {
             "colorbar": {
              "outlinewidth": 0,
              "ticks": ""
             }
            },
            "type": "scattergl"
           }
          ],
          "scattermapbox": [
           {
            "marker": {
             "colorbar": {
              "outlinewidth": 0,
              "ticks": ""
             }
            },
            "type": "scattermapbox"
           }
          ],
          "scatterpolar": [
           {
            "marker": {
             "colorbar": {
              "outlinewidth": 0,
              "ticks": ""
             }
            },
            "type": "scatterpolar"
           }
          ],
          "scatterpolargl": [
           {
            "marker": {
             "colorbar": {
              "outlinewidth": 0,
              "ticks": ""
             }
            },
            "type": "scatterpolargl"
           }
          ],
          "scatterternary": [
           {
            "marker": {
             "colorbar": {
              "outlinewidth": 0,
              "ticks": ""
             }
            },
            "type": "scatterternary"
           }
          ],
          "surface": [
           {
            "colorbar": {
             "outlinewidth": 0,
             "ticks": ""
            },
            "colorscale": [
             [
              0,
              "#0d0887"
             ],
             [
              0.1111111111111111,
              "#46039f"
             ],
             [
              0.2222222222222222,
              "#7201a8"
             ],
             [
              0.3333333333333333,
              "#9c179e"
             ],
             [
              0.4444444444444444,
              "#bd3786"
             ],
             [
              0.5555555555555556,
              "#d8576b"
             ],
             [
              0.6666666666666666,
              "#ed7953"
             ],
             [
              0.7777777777777778,
              "#fb9f3a"
             ],
             [
              0.8888888888888888,
              "#fdca26"
             ],
             [
              1,
              "#f0f921"
             ]
            ],
            "type": "surface"
           }
          ],
          "table": [
           {
            "cells": {
             "fill": {
              "color": "#EBF0F8"
             },
             "line": {
              "color": "white"
             }
            },
            "header": {
             "fill": {
              "color": "#C8D4E3"
             },
             "line": {
              "color": "white"
             }
            },
            "type": "table"
           }
          ]
         },
         "layout": {
          "annotationdefaults": {
           "arrowcolor": "#2a3f5f",
           "arrowhead": 0,
           "arrowwidth": 1
          },
          "autotypenumbers": "strict",
          "coloraxis": {
           "colorbar": {
            "outlinewidth": 0,
            "ticks": ""
           }
          },
          "colorscale": {
           "diverging": [
            [
             0,
             "#8e0152"
            ],
            [
             0.1,
             "#c51b7d"
            ],
            [
             0.2,
             "#de77ae"
            ],
            [
             0.3,
             "#f1b6da"
            ],
            [
             0.4,
             "#fde0ef"
            ],
            [
             0.5,
             "#f7f7f7"
            ],
            [
             0.6,
             "#e6f5d0"
            ],
            [
             0.7,
             "#b8e186"
            ],
            [
             0.8,
             "#7fbc41"
            ],
            [
             0.9,
             "#4d9221"
            ],
            [
             1,
             "#276419"
            ]
           ],
           "sequential": [
            [
             0,
             "#0d0887"
            ],
            [
             0.1111111111111111,
             "#46039f"
            ],
            [
             0.2222222222222222,
             "#7201a8"
            ],
            [
             0.3333333333333333,
             "#9c179e"
            ],
            [
             0.4444444444444444,
             "#bd3786"
            ],
            [
             0.5555555555555556,
             "#d8576b"
            ],
            [
             0.6666666666666666,
             "#ed7953"
            ],
            [
             0.7777777777777778,
             "#fb9f3a"
            ],
            [
             0.8888888888888888,
             "#fdca26"
            ],
            [
             1,
             "#f0f921"
            ]
           ],
           "sequentialminus": [
            [
             0,
             "#0d0887"
            ],
            [
             0.1111111111111111,
             "#46039f"
            ],
            [
             0.2222222222222222,
             "#7201a8"
            ],
            [
             0.3333333333333333,
             "#9c179e"
            ],
            [
             0.4444444444444444,
             "#bd3786"
            ],
            [
             0.5555555555555556,
             "#d8576b"
            ],
            [
             0.6666666666666666,
             "#ed7953"
            ],
            [
             0.7777777777777778,
             "#fb9f3a"
            ],
            [
             0.8888888888888888,
             "#fdca26"
            ],
            [
             1,
             "#f0f921"
            ]
           ]
          },
          "colorway": [
           "#636efa",
           "#EF553B",
           "#00cc96",
           "#ab63fa",
           "#FFA15A",
           "#19d3f3",
           "#FF6692",
           "#B6E880",
           "#FF97FF",
           "#FECB52"
          ],
          "font": {
           "color": "#2a3f5f"
          },
          "geo": {
           "bgcolor": "white",
           "lakecolor": "white",
           "landcolor": "#E5ECF6",
           "showlakes": true,
           "showland": true,
           "subunitcolor": "white"
          },
          "hoverlabel": {
           "align": "left"
          },
          "hovermode": "closest",
          "mapbox": {
           "style": "light"
          },
          "paper_bgcolor": "white",
          "plot_bgcolor": "#E5ECF6",
          "polar": {
           "angularaxis": {
            "gridcolor": "white",
            "linecolor": "white",
            "ticks": ""
           },
           "bgcolor": "#E5ECF6",
           "radialaxis": {
            "gridcolor": "white",
            "linecolor": "white",
            "ticks": ""
           }
          },
          "scene": {
           "xaxis": {
            "backgroundcolor": "#E5ECF6",
            "gridcolor": "white",
            "gridwidth": 2,
            "linecolor": "white",
            "showbackground": true,
            "ticks": "",
            "zerolinecolor": "white"
           },
           "yaxis": {
            "backgroundcolor": "#E5ECF6",
            "gridcolor": "white",
            "gridwidth": 2,
            "linecolor": "white",
            "showbackground": true,
            "ticks": "",
            "zerolinecolor": "white"
           },
           "zaxis": {
            "backgroundcolor": "#E5ECF6",
            "gridcolor": "white",
            "gridwidth": 2,
            "linecolor": "white",
            "showbackground": true,
            "ticks": "",
            "zerolinecolor": "white"
           }
          },
          "shapedefaults": {
           "line": {
            "color": "#2a3f5f"
           }
          },
          "ternary": {
           "aaxis": {
            "gridcolor": "white",
            "linecolor": "white",
            "ticks": ""
           },
           "baxis": {
            "gridcolor": "white",
            "linecolor": "white",
            "ticks": ""
           },
           "bgcolor": "#E5ECF6",
           "caxis": {
            "gridcolor": "white",
            "linecolor": "white",
            "ticks": ""
           }
          },
          "title": {
           "x": 0.05
          },
          "xaxis": {
           "automargin": true,
           "gridcolor": "white",
           "linecolor": "white",
           "ticks": "",
           "title": {
            "standoff": 15
           },
           "zerolinecolor": "white",
           "zerolinewidth": 2
          },
          "yaxis": {
           "automargin": true,
           "gridcolor": "white",
           "linecolor": "white",
           "ticks": "",
           "title": {
            "standoff": 15
           },
           "zerolinecolor": "white",
           "zerolinewidth": 2
          }
         }
        },
        "title": {
         "text": "Slice Plot"
        },
        "width": 3600,
        "xaxis": {
         "anchor": "y",
         "categoryarray": [
          "gbdt",
          "dart"
         ],
         "categoryorder": "array",
         "domain": [
          0,
          0.06805555555555555
         ],
         "title": {
          "text": "boosting"
         },
         "type": "category"
        },
        "xaxis10": {
         "anchor": "y10",
         "domain": [
          0.7625,
          0.8305555555555555
         ],
         "title": {
          "text": "reg_alpha"
         }
        },
        "xaxis11": {
         "anchor": "y11",
         "domain": [
          0.8472222222222221,
          0.9152777777777776
         ],
         "title": {
          "text": "reg_lambda"
         }
        },
        "xaxis12": {
         "anchor": "y12",
         "domain": [
          0.9319444444444444,
          0.9999999999999999
         ],
         "title": {
          "text": "subsample"
         }
        },
        "xaxis2": {
         "anchor": "y2",
         "domain": [
          0.08472222222222221,
          0.15277777777777776
         ],
         "title": {
          "text": "colsample_bytree"
         }
        },
        "xaxis3": {
         "anchor": "y3",
         "domain": [
          0.16944444444444443,
          0.2375
         ],
         "title": {
          "text": "learning_rate"
         }
        },
        "xaxis4": {
         "anchor": "y4",
         "domain": [
          0.25416666666666665,
          0.3222222222222222
         ],
         "title": {
          "text": "max_depth"
         }
        },
        "xaxis5": {
         "anchor": "y5",
         "domain": [
          0.33888888888888885,
          0.4069444444444444
         ],
         "title": {
          "text": "min_child_samples"
         }
        },
        "xaxis6": {
         "anchor": "y6",
         "domain": [
          0.42361111111111105,
          0.4916666666666666
         ],
         "title": {
          "text": "min_child_weight"
         }
        },
        "xaxis7": {
         "anchor": "y7",
         "domain": [
          0.5083333333333333,
          0.5763888888888888
         ],
         "title": {
          "text": "min_split_gain"
         }
        },
        "xaxis8": {
         "anchor": "y8",
         "domain": [
          0.5930555555555554,
          0.661111111111111
         ],
         "title": {
          "text": "n_estimators"
         }
        },
        "xaxis9": {
         "anchor": "y9",
         "domain": [
          0.6777777777777777,
          0.7458333333333332
         ],
         "title": {
          "text": "num_leaves"
         }
        },
        "yaxis": {
         "anchor": "x",
         "domain": [
          0,
          1
         ],
         "title": {
          "text": "Objective Value"
         }
        },
        "yaxis10": {
         "anchor": "x10",
         "domain": [
          0,
          1
         ],
         "matches": "y",
         "showticklabels": false
        },
        "yaxis11": {
         "anchor": "x11",
         "domain": [
          0,
          1
         ],
         "matches": "y",
         "showticklabels": false
        },
        "yaxis12": {
         "anchor": "x12",
         "domain": [
          0,
          1
         ],
         "matches": "y",
         "showticklabels": false
        },
        "yaxis2": {
         "anchor": "x2",
         "domain": [
          0,
          1
         ],
         "matches": "y",
         "showticklabels": false
        },
        "yaxis3": {
         "anchor": "x3",
         "domain": [
          0,
          1
         ],
         "matches": "y",
         "showticklabels": false
        },
        "yaxis4": {
         "anchor": "x4",
         "domain": [
          0,
          1
         ],
         "matches": "y",
         "showticklabels": false
        },
        "yaxis5": {
         "anchor": "x5",
         "domain": [
          0,
          1
         ],
         "matches": "y",
         "showticklabels": false
        },
        "yaxis6": {
         "anchor": "x6",
         "domain": [
          0,
          1
         ],
         "matches": "y",
         "showticklabels": false
        },
        "yaxis7": {
         "anchor": "x7",
         "domain": [
          0,
          1
         ],
         "matches": "y",
         "showticklabels": false
        },
        "yaxis8": {
         "anchor": "x8",
         "domain": [
          0,
          1
         ],
         "matches": "y",
         "showticklabels": false
        },
        "yaxis9": {
         "anchor": "x9",
         "domain": [
          0,
          1
         ],
         "matches": "y",
         "showticklabels": false
        }
       }
      },
      "text/html": [
       "<div>                        <script type=\"text/javascript\">window.PlotlyConfig = {MathJaxConfig: 'local'};</script>\n",
       "        <script charset=\"utf-8\" src=\"https://cdn.plot.ly/plotly-2.20.0.min.js\"></script>                <div id=\"89eb9c77-0b72-4292-b2f8-f949ffd98e73\" class=\"plotly-graph-div\" style=\"height:100%; width:3600px;\"></div>            <script type=\"text/javascript\">                                    window.PLOTLYENV=window.PLOTLYENV || {};                                    if (document.getElementById(\"89eb9c77-0b72-4292-b2f8-f949ffd98e73\")) {                    Plotly.newPlot(                        \"89eb9c77-0b72-4292-b2f8-f949ffd98e73\",                        [{\"marker\":{\"color\":[0,1,2,3,4,5,6,7,8,9,10,11,12,13,14,15,16,17,18,19,20,21,22,23,24,25,26,27,28,29,30,31,32,33,34,35,36,37,38,39,40,41,42,43,44,45,46,47,48,49],\"colorbar\":{\"title\":{\"text\":\"Trial\"},\"x\":1.0,\"xpad\":40},\"colorscale\":[[0.0,\"rgb(247,251,255)\"],[0.125,\"rgb(222,235,247)\"],[0.25,\"rgb(198,219,239)\"],[0.375,\"rgb(158,202,225)\"],[0.5,\"rgb(107,174,214)\"],[0.625,\"rgb(66,146,198)\"],[0.75,\"rgb(33,113,181)\"],[0.875,\"rgb(8,81,156)\"],[1.0,\"rgb(8,48,107)\"]],\"line\":{\"color\":\"Grey\",\"width\":0.5},\"showscale\":true},\"mode\":\"markers\",\"showlegend\":false,\"x\":[\"dart\",\"dart\",\"dart\",\"dart\",\"gbdt\",\"dart\",\"dart\",\"gbdt\",\"gbdt\",\"gbdt\",\"dart\",\"gbdt\",\"gbdt\",\"gbdt\",\"dart\",\"gbdt\",\"gbdt\",\"dart\",\"gbdt\",\"dart\",\"gbdt\",\"dart\",\"dart\",\"dart\",\"dart\",\"dart\",\"dart\",\"dart\",\"dart\",\"dart\",\"dart\",\"dart\",\"dart\",\"dart\",\"dart\",\"dart\",\"dart\",\"dart\",\"dart\",\"dart\",\"dart\",\"dart\",\"dart\",\"dart\",\"dart\",\"dart\",\"dart\",\"dart\",\"dart\",\"dart\"],\"y\":[0.8976615929369792,0.8966261881554763,0.8982214007928886,0.8987174853477948,0.8818325066683194,0.897534023419957,0.8985774198661184,0.8986080097019102,0.887159296855048,0.8936672005128031,0.8945230031784931,0.8972879614422338,0.8984729423544763,0.8964949622316937,0.8911730286742633,0.8963732126328785,0.8965183888756728,0.8975048015215599,0.8967278618775812,0.8980026926138566,0.8978076101347702,0.8984902461330188,0.8987493979431006,0.8989047166905181,0.8987330900355062,0.8991528029361504,0.8990594591389892,0.8994552925247178,0.8990467314070756,0.8988906659024906,0.897815236995943,0.8991853884829194,0.8992267700931317,0.8987873851258157,0.8993538022944699,0.8994509041432636,0.8983643378642565,0.8977933059445257,0.8986760960320054,0.8987868016493318,0.898630404652633,0.8990587991082966,0.8977055486170856,0.8982767957911012,0.8990314105794522,0.8988010009627124,0.892342452316533,0.8985296658204617,0.8985753202774126,0.8982469303360551],\"type\":\"scatter\",\"xaxis\":\"x\",\"yaxis\":\"y\"},{\"marker\":{\"color\":[0,1,2,3,4,5,6,7,8,9,10,11,12,13,14,15,16,17,18,19,20,21,22,23,24,25,26,27,28,29,30,31,32,33,34,35,36,37,38,39,40,41,42,43,44,45,46,47,48,49],\"colorbar\":{\"title\":{\"text\":\"Trial\"},\"x\":1.0,\"xpad\":40},\"colorscale\":[[0.0,\"rgb(247,251,255)\"],[0.125,\"rgb(222,235,247)\"],[0.25,\"rgb(198,219,239)\"],[0.375,\"rgb(158,202,225)\"],[0.5,\"rgb(107,174,214)\"],[0.625,\"rgb(66,146,198)\"],[0.75,\"rgb(33,113,181)\"],[0.875,\"rgb(8,81,156)\"],[1.0,\"rgb(8,48,107)\"]],\"line\":{\"color\":\"Grey\",\"width\":0.5},\"showscale\":false},\"mode\":\"markers\",\"showlegend\":false,\"x\":[0.5378419005311236,0.7633258782246661,0.6225986896922069,0.7324522149754977,0.3669827139466058,0.44187806666297097,0.4182180560187565,0.49103861352152534,0.4707365344868875,0.5614196201481262,0.2257682579940702,0.7939115494329188,0.6544504900487966,0.6932086292443909,0.5798644088524469,0.7066902503737962,0.5175944912970876,0.624564028373513,0.7448936338617835,0.7145512719971647,0.5872491890757702,0.4221382857234409,0.48484963119576613,0.48349464568217704,0.5156526723274495,0.5145767935594828,0.37629088828852225,0.35885033102300595,0.34072199927957314,0.36872031177619546,0.2919845014898368,0.3499538399048444,0.31879290379484265,0.28225447659525515,0.3133191434154407,0.30458357396024127,0.30468627594817455,0.24474884453675594,0.20329391048162448,0.26420570661301007,0.30500110251681095,0.33598684594381467,0.39520013201931314,0.33032936476633834,0.33775484324499977,0.2693571841887973,0.44694054312219544,0.39636321320559254,0.24545945640976963,0.3067218948920155],\"y\":[0.8976615929369792,0.8966261881554763,0.8982214007928886,0.8987174853477948,0.8818325066683194,0.897534023419957,0.8985774198661184,0.8986080097019102,0.887159296855048,0.8936672005128031,0.8945230031784931,0.8972879614422338,0.8984729423544763,0.8964949622316937,0.8911730286742633,0.8963732126328785,0.8965183888756728,0.8975048015215599,0.8967278618775812,0.8980026926138566,0.8978076101347702,0.8984902461330188,0.8987493979431006,0.8989047166905181,0.8987330900355062,0.8991528029361504,0.8990594591389892,0.8994552925247178,0.8990467314070756,0.8988906659024906,0.897815236995943,0.8991853884829194,0.8992267700931317,0.8987873851258157,0.8993538022944699,0.8994509041432636,0.8983643378642565,0.8977933059445257,0.8986760960320054,0.8987868016493318,0.898630404652633,0.8990587991082966,0.8977055486170856,0.8982767957911012,0.8990314105794522,0.8988010009627124,0.892342452316533,0.8985296658204617,0.8985753202774126,0.8982469303360551],\"type\":\"scatter\",\"xaxis\":\"x2\",\"yaxis\":\"y2\"},{\"marker\":{\"color\":[0,1,2,3,4,5,6,7,8,9,10,11,12,13,14,15,16,17,18,19,20,21,22,23,24,25,26,27,28,29,30,31,32,33,34,35,36,37,38,39,40,41,42,43,44,45,46,47,48,49],\"colorbar\":{\"title\":{\"text\":\"Trial\"},\"x\":1.0,\"xpad\":40},\"colorscale\":[[0.0,\"rgb(247,251,255)\"],[0.125,\"rgb(222,235,247)\"],[0.25,\"rgb(198,219,239)\"],[0.375,\"rgb(158,202,225)\"],[0.5,\"rgb(107,174,214)\"],[0.625,\"rgb(66,146,198)\"],[0.75,\"rgb(33,113,181)\"],[0.875,\"rgb(8,81,156)\"],[1.0,\"rgb(8,48,107)\"]],\"line\":{\"color\":\"Grey\",\"width\":0.5},\"showscale\":false},\"mode\":\"markers\",\"showlegend\":false,\"x\":[0.19389439422812849,0.45924154140117035,0.4476008706853442,0.13981934622951592,0.37207035933089583,0.29121658214283697,0.4371242239384264,0.029303267515977036,0.35225663091386056,0.3915003819879576,0.1666069317054042,0.027150646072599455,0.038123133769189035,0.09650817074143583,0.0006222148418612607,0.10431601462261153,0.09798935645717084,0.22055022750758613,0.15124344606778953,0.2621016108218236,0.0657466880434385,0.49571488289872667,0.13622662850391595,0.1375252050729044,0.15467943351351277,0.1923329726142723,0.20666559602096782,0.21902422874173558,0.22317939765972544,0.1956899275406601,0.2723108704039862,0.2180631216460072,0.22822376379802833,0.22903726124769525,0.17375929988842234,0.2452438352693344,0.29370716642793004,0.2455194047102867,0.18583939400966126,0.2947288310781317,0.24036716072805636,0.2615548315150538,0.17851068113967566,0.22023467379928907,0.20565802118807636,0.16886261936789215,0.2822556208250799,0.3166378245189322,0.24522484941538744,0.2062682517722446],\"y\":[0.8976615929369792,0.8966261881554763,0.8982214007928886,0.8987174853477948,0.8818325066683194,0.897534023419957,0.8985774198661184,0.8986080097019102,0.887159296855048,0.8936672005128031,0.8945230031784931,0.8972879614422338,0.8984729423544763,0.8964949622316937,0.8911730286742633,0.8963732126328785,0.8965183888756728,0.8975048015215599,0.8967278618775812,0.8980026926138566,0.8978076101347702,0.8984902461330188,0.8987493979431006,0.8989047166905181,0.8987330900355062,0.8991528029361504,0.8990594591389892,0.8994552925247178,0.8990467314070756,0.8988906659024906,0.897815236995943,0.8991853884829194,0.8992267700931317,0.8987873851258157,0.8993538022944699,0.8994509041432636,0.8983643378642565,0.8977933059445257,0.8986760960320054,0.8987868016493318,0.898630404652633,0.8990587991082966,0.8977055486170856,0.8982767957911012,0.8990314105794522,0.8988010009627124,0.892342452316533,0.8985296658204617,0.8985753202774126,0.8982469303360551],\"type\":\"scatter\",\"xaxis\":\"x3\",\"yaxis\":\"y3\"},{\"marker\":{\"color\":[0,1,2,3,4,5,6,7,8,9,10,11,12,13,14,15,16,17,18,19,20,21,22,23,24,25,26,27,28,29,30,31,32,33,34,35,36,37,38,39,40,41,42,43,44,45,46,47,48,49],\"colorbar\":{\"title\":{\"text\":\"Trial\"},\"x\":1.0,\"xpad\":40},\"colorscale\":[[0.0,\"rgb(247,251,255)\"],[0.125,\"rgb(222,235,247)\"],[0.25,\"rgb(198,219,239)\"],[0.375,\"rgb(158,202,225)\"],[0.5,\"rgb(107,174,214)\"],[0.625,\"rgb(66,146,198)\"],[0.75,\"rgb(33,113,181)\"],[0.875,\"rgb(8,81,156)\"],[1.0,\"rgb(8,48,107)\"]],\"line\":{\"color\":\"Grey\",\"width\":0.5},\"showscale\":false},\"mode\":\"markers\",\"showlegend\":false,\"x\":[5,15,46,10,19,30,8,25,43,48,64,27,-1,19,36,14,26,37,6,22,56,10,-1,0,-1,0,2,3,4,4,13,4,4,9,5,18,18,12,17,8,15,4,7,11,21,4,7,15,23,34],\"y\":[0.8976615929369792,0.8966261881554763,0.8982214007928886,0.8987174853477948,0.8818325066683194,0.897534023419957,0.8985774198661184,0.8986080097019102,0.887159296855048,0.8936672005128031,0.8945230031784931,0.8972879614422338,0.8984729423544763,0.8964949622316937,0.8911730286742633,0.8963732126328785,0.8965183888756728,0.8975048015215599,0.8967278618775812,0.8980026926138566,0.8978076101347702,0.8984902461330188,0.8987493979431006,0.8989047166905181,0.8987330900355062,0.8991528029361504,0.8990594591389892,0.8994552925247178,0.8990467314070756,0.8988906659024906,0.897815236995943,0.8991853884829194,0.8992267700931317,0.8987873851258157,0.8993538022944699,0.8994509041432636,0.8983643378642565,0.8977933059445257,0.8986760960320054,0.8987868016493318,0.898630404652633,0.8990587991082966,0.8977055486170856,0.8982767957911012,0.8990314105794522,0.8988010009627124,0.892342452316533,0.8985296658204617,0.8985753202774126,0.8982469303360551],\"type\":\"scatter\",\"xaxis\":\"x4\",\"yaxis\":\"y4\"},{\"marker\":{\"color\":[0,1,2,3,4,5,6,7,8,9,10,11,12,13,14,15,16,17,18,19,20,21,22,23,24,25,26,27,28,29,30,31,32,33,34,35,36,37,38,39,40,41,42,43,44,45,46,47,48,49],\"colorbar\":{\"title\":{\"text\":\"Trial\"},\"x\":1.0,\"xpad\":40},\"colorscale\":[[0.0,\"rgb(247,251,255)\"],[0.125,\"rgb(222,235,247)\"],[0.25,\"rgb(198,219,239)\"],[0.375,\"rgb(158,202,225)\"],[0.5,\"rgb(107,174,214)\"],[0.625,\"rgb(66,146,198)\"],[0.75,\"rgb(33,113,181)\"],[0.875,\"rgb(8,81,156)\"],[1.0,\"rgb(8,48,107)\"]],\"line\":{\"color\":\"Grey\",\"width\":0.5},\"showscale\":false},\"mode\":\"markers\",\"showlegend\":false,\"x\":[46,75,11,48,61,51,49,19,60,31,84,12,28,30,97,24,39,17,5,68,40,56,42,39,40,40,36,34,33,21,32,34,24,24,45,47,55,46,69,47,60,46,52,27,15,36,44,26,35,20],\"y\":[0.8976615929369792,0.8966261881554763,0.8982214007928886,0.8987174853477948,0.8818325066683194,0.897534023419957,0.8985774198661184,0.8986080097019102,0.887159296855048,0.8936672005128031,0.8945230031784931,0.8972879614422338,0.8984729423544763,0.8964949622316937,0.8911730286742633,0.8963732126328785,0.8965183888756728,0.8975048015215599,0.8967278618775812,0.8980026926138566,0.8978076101347702,0.8984902461330188,0.8987493979431006,0.8989047166905181,0.8987330900355062,0.8991528029361504,0.8990594591389892,0.8994552925247178,0.8990467314070756,0.8988906659024906,0.897815236995943,0.8991853884829194,0.8992267700931317,0.8987873851258157,0.8993538022944699,0.8994509041432636,0.8983643378642565,0.8977933059445257,0.8986760960320054,0.8987868016493318,0.898630404652633,0.8990587991082966,0.8977055486170856,0.8982767957911012,0.8990314105794522,0.8988010009627124,0.892342452316533,0.8985296658204617,0.8985753202774126,0.8982469303360551],\"type\":\"scatter\",\"xaxis\":\"x5\",\"yaxis\":\"y5\"},{\"marker\":{\"color\":[0,1,2,3,4,5,6,7,8,9,10,11,12,13,14,15,16,17,18,19,20,21,22,23,24,25,26,27,28,29,30,31,32,33,34,35,36,37,38,39,40,41,42,43,44,45,46,47,48,49],\"colorbar\":{\"title\":{\"text\":\"Trial\"},\"x\":1.0,\"xpad\":40},\"colorscale\":[[0.0,\"rgb(247,251,255)\"],[0.125,\"rgb(222,235,247)\"],[0.25,\"rgb(198,219,239)\"],[0.375,\"rgb(158,202,225)\"],[0.5,\"rgb(107,174,214)\"],[0.625,\"rgb(66,146,198)\"],[0.75,\"rgb(33,113,181)\"],[0.875,\"rgb(8,81,156)\"],[1.0,\"rgb(8,48,107)\"]],\"line\":{\"color\":\"Grey\",\"width\":0.5},\"showscale\":false},\"mode\":\"markers\",\"showlegend\":false,\"x\":[9.712332134025896,9.533023304028491,6.746427625701935,0.6236654874810934,2.1919343257410158,2.1407526004092485,7.060386264543439,0.40908264251314624,2.3909956071399527,1.1167043841253457,3.7783324577352184,0.2741648257655216,0.23362483240516022,3.8485386398292163,0.049716580312128444,1.6824004663398835,2.983058649947171,1.2312165717061063,1.1140657876953957,3.6468525459148804,4.423779032991213,5.730670773916994,5.4666671486815535,2.950196257861971,2.860486573731021,3.2957480998415862,5.3092071064587305,4.768878441321062,5.025595976566911,4.612103534613179,6.02154621605445,4.913585377751683,4.455595555553924,4.441994518864866,6.388109299687041,7.510388082773024,7.832397211786538,6.116516911590818,7.909705667388043,6.383688316066618,6.822353929564878,4.96776860156024,5.550442106074862,6.537246202249208,7.322925610079759,8.84240124452796,6.0429082884113186,4.830479911003167,4.127328017599583,5.052902444369257],\"y\":[0.8976615929369792,0.8966261881554763,0.8982214007928886,0.8987174853477948,0.8818325066683194,0.897534023419957,0.8985774198661184,0.8986080097019102,0.887159296855048,0.8936672005128031,0.8945230031784931,0.8972879614422338,0.8984729423544763,0.8964949622316937,0.8911730286742633,0.8963732126328785,0.8965183888756728,0.8975048015215599,0.8967278618775812,0.8980026926138566,0.8978076101347702,0.8984902461330188,0.8987493979431006,0.8989047166905181,0.8987330900355062,0.8991528029361504,0.8990594591389892,0.8994552925247178,0.8990467314070756,0.8988906659024906,0.897815236995943,0.8991853884829194,0.8992267700931317,0.8987873851258157,0.8993538022944699,0.8994509041432636,0.8983643378642565,0.8977933059445257,0.8986760960320054,0.8987868016493318,0.898630404652633,0.8990587991082966,0.8977055486170856,0.8982767957911012,0.8990314105794522,0.8988010009627124,0.892342452316533,0.8985296658204617,0.8985753202774126,0.8982469303360551],\"type\":\"scatter\",\"xaxis\":\"x6\",\"yaxis\":\"y6\"},{\"marker\":{\"color\":[0,1,2,3,4,5,6,7,8,9,10,11,12,13,14,15,16,17,18,19,20,21,22,23,24,25,26,27,28,29,30,31,32,33,34,35,36,37,38,39,40,41,42,43,44,45,46,47,48,49],\"colorbar\":{\"title\":{\"text\":\"Trial\"},\"x\":1.0,\"xpad\":40},\"colorscale\":[[0.0,\"rgb(247,251,255)\"],[0.125,\"rgb(222,235,247)\"],[0.25,\"rgb(198,219,239)\"],[0.375,\"rgb(158,202,225)\"],[0.5,\"rgb(107,174,214)\"],[0.625,\"rgb(66,146,198)\"],[0.75,\"rgb(33,113,181)\"],[0.875,\"rgb(8,81,156)\"],[1.0,\"rgb(8,48,107)\"]],\"line\":{\"color\":\"Grey\",\"width\":0.5},\"showscale\":false},\"mode\":\"markers\",\"showlegend\":false,\"x\":[0.5086730611030881,0.5840019466567259,0.9245551782504706,0.9478690581585507,0.6721676772580896,0.6452745803860633,0.9116941448755507,0.5306766521238373,0.9862463341635224,0.7793870451468459,0.8252712390558463,0.7285642300509503,0.5163800238379865,0.8520905835455335,0.722648789570837,0.5937436788218478,0.7767532311139584,0.6804629085265281,0.9868202210928749,0.8295012700074839,0.5590994924345425,0.913429370062523,0.9080870625224224,0.9513310084268437,0.9520669423491084,0.8700728530494674,0.8523479620898352,0.8804385788228134,0.868363227663812,0.8826793558673016,0.8262076969419603,0.874981948036766,0.8716112325358999,0.8678668124637681,0.8962168611735738,0.8955023649991991,0.9386704139826458,0.8888154977140437,0.9076408674479064,0.938071009108372,0.971946025568226,0.8953961946013722,0.9216845323458457,0.8460525561035418,0.8059801903568848,0.8863653851761863,0.9194108417359608,0.8972616147335808,0.9670874353700755,0.8007943471477896],\"y\":[0.8976615929369792,0.8966261881554763,0.8982214007928886,0.8987174853477948,0.8818325066683194,0.897534023419957,0.8985774198661184,0.8986080097019102,0.887159296855048,0.8936672005128031,0.8945230031784931,0.8972879614422338,0.8984729423544763,0.8964949622316937,0.8911730286742633,0.8963732126328785,0.8965183888756728,0.8975048015215599,0.8967278618775812,0.8980026926138566,0.8978076101347702,0.8984902461330188,0.8987493979431006,0.8989047166905181,0.8987330900355062,0.8991528029361504,0.8990594591389892,0.8994552925247178,0.8990467314070756,0.8988906659024906,0.897815236995943,0.8991853884829194,0.8992267700931317,0.8987873851258157,0.8993538022944699,0.8994509041432636,0.8983643378642565,0.8977933059445257,0.8986760960320054,0.8987868016493318,0.898630404652633,0.8990587991082966,0.8977055486170856,0.8982767957911012,0.8990314105794522,0.8988010009627124,0.892342452316533,0.8985296658204617,0.8985753202774126,0.8982469303360551],\"type\":\"scatter\",\"xaxis\":\"x7\",\"yaxis\":\"y7\"},{\"marker\":{\"color\":[0,1,2,3,4,5,6,7,8,9,10,11,12,13,14,15,16,17,18,19,20,21,22,23,24,25,26,27,28,29,30,31,32,33,34,35,36,37,38,39,40,41,42,43,44,45,46,47,48,49],\"colorbar\":{\"title\":{\"text\":\"Trial\"},\"x\":1.0,\"xpad\":40},\"colorscale\":[[0.0,\"rgb(247,251,255)\"],[0.125,\"rgb(222,235,247)\"],[0.25,\"rgb(198,219,239)\"],[0.375,\"rgb(158,202,225)\"],[0.5,\"rgb(107,174,214)\"],[0.625,\"rgb(66,146,198)\"],[0.75,\"rgb(33,113,181)\"],[0.875,\"rgb(8,81,156)\"],[1.0,\"rgb(8,48,107)\"]],\"line\":{\"color\":\"Grey\",\"width\":0.5},\"showscale\":false},\"mode\":\"markers\",\"showlegend\":false,\"x\":[252,463,861,642,555,725,590,177,299,239,877,133,462,705,414,998,698,131,344,644,816,585,518,501,480,479,383,334,384,249,312,391,418,436,346,200,175,288,204,355,292,412,340,233,108,194,276,539,447,396],\"y\":[0.8976615929369792,0.8966261881554763,0.8982214007928886,0.8987174853477948,0.8818325066683194,0.897534023419957,0.8985774198661184,0.8986080097019102,0.887159296855048,0.8936672005128031,0.8945230031784931,0.8972879614422338,0.8984729423544763,0.8964949622316937,0.8911730286742633,0.8963732126328785,0.8965183888756728,0.8975048015215599,0.8967278618775812,0.8980026926138566,0.8978076101347702,0.8984902461330188,0.8987493979431006,0.8989047166905181,0.8987330900355062,0.8991528029361504,0.8990594591389892,0.8994552925247178,0.8990467314070756,0.8988906659024906,0.897815236995943,0.8991853884829194,0.8992267700931317,0.8987873851258157,0.8993538022944699,0.8994509041432636,0.8983643378642565,0.8977933059445257,0.8986760960320054,0.8987868016493318,0.898630404652633,0.8990587991082966,0.8977055486170856,0.8982767957911012,0.8990314105794522,0.8988010009627124,0.892342452316533,0.8985296658204617,0.8985753202774126,0.8982469303360551],\"type\":\"scatter\",\"xaxis\":\"x8\",\"yaxis\":\"y8\"},{\"marker\":{\"color\":[0,1,2,3,4,5,6,7,8,9,10,11,12,13,14,15,16,17,18,19,20,21,22,23,24,25,26,27,28,29,30,31,32,33,34,35,36,37,38,39,40,41,42,43,44,45,46,47,48,49],\"colorbar\":{\"title\":{\"text\":\"Trial\"},\"x\":1.0,\"xpad\":40},\"colorscale\":[[0.0,\"rgb(247,251,255)\"],[0.125,\"rgb(222,235,247)\"],[0.25,\"rgb(198,219,239)\"],[0.375,\"rgb(158,202,225)\"],[0.5,\"rgb(107,174,214)\"],[0.625,\"rgb(66,146,198)\"],[0.75,\"rgb(33,113,181)\"],[0.875,\"rgb(8,81,156)\"],[1.0,\"rgb(8,48,107)\"]],\"line\":{\"color\":\"Grey\",\"width\":0.5},\"showscale\":false},\"mode\":\"markers\",\"showlegend\":false,\"x\":[36,50,87,43,126,124,30,81,115,4,2,78,63,93,103,65,147,22,49,67,43,20,30,55,56,62,18,19,15,12,37,17,26,29,12,10,8,38,27,9,23,14,3,34,10,22,2,43,16,26],\"y\":[0.8976615929369792,0.8966261881554763,0.8982214007928886,0.8987174853477948,0.8818325066683194,0.897534023419957,0.8985774198661184,0.8986080097019102,0.887159296855048,0.8936672005128031,0.8945230031784931,0.8972879614422338,0.8984729423544763,0.8964949622316937,0.8911730286742633,0.8963732126328785,0.8965183888756728,0.8975048015215599,0.8967278618775812,0.8980026926138566,0.8978076101347702,0.8984902461330188,0.8987493979431006,0.8989047166905181,0.8987330900355062,0.8991528029361504,0.8990594591389892,0.8994552925247178,0.8990467314070756,0.8988906659024906,0.897815236995943,0.8991853884829194,0.8992267700931317,0.8987873851258157,0.8993538022944699,0.8994509041432636,0.8983643378642565,0.8977933059445257,0.8986760960320054,0.8987868016493318,0.898630404652633,0.8990587991082966,0.8977055486170856,0.8982767957911012,0.8990314105794522,0.8988010009627124,0.892342452316533,0.8985296658204617,0.8985753202774126,0.8982469303360551],\"type\":\"scatter\",\"xaxis\":\"x9\",\"yaxis\":\"y9\"},{\"marker\":{\"color\":[0,1,2,3,4,5,6,7,8,9,10,11,12,13,14,15,16,17,18,19,20,21,22,23,24,25,26,27,28,29,30,31,32,33,34,35,36,37,38,39,40,41,42,43,44,45,46,47,48,49],\"colorbar\":{\"title\":{\"text\":\"Trial\"},\"x\":1.0,\"xpad\":40},\"colorscale\":[[0.0,\"rgb(247,251,255)\"],[0.125,\"rgb(222,235,247)\"],[0.25,\"rgb(198,219,239)\"],[0.375,\"rgb(158,202,225)\"],[0.5,\"rgb(107,174,214)\"],[0.625,\"rgb(66,146,198)\"],[0.75,\"rgb(33,113,181)\"],[0.875,\"rgb(8,81,156)\"],[1.0,\"rgb(8,48,107)\"]],\"line\":{\"color\":\"Grey\",\"width\":0.5},\"showscale\":false},\"mode\":\"markers\",\"showlegend\":false,\"x\":[0.5735842293464366,0.5743634611942869,0.7426580446771414,0.9446370161323757,0.7165061023129227,0.40986424851226594,0.90515334194296,0.8863926177734158,0.5801440597902469,0.49126362083778874,0.9930097583851182,0.8562523795233219,0.9991756637855137,0.8321557332392471,0.9127447775991822,0.7912670914097004,0.8959213478619301,0.788488815637441,0.9479574645325319,0.8509290237343315,0.9519485626720671,0.8968259716298066,0.9341516846636849,0.9412684166978857,0.9438802417402412,0.9704291974896981,0.9875374900160718,0.9922927799932719,0.9864043175366682,0.9835728724350394,0.648450021181294,0.9841445187575537,0.9971606394426918,0.9982269876052932,0.9585716697358162,0.9262652849214809,0.9208753272423289,0.8738562277682995,0.9197842287077415,0.9478889261919075,0.8768425311018467,0.9665737419598004,0.9662423181775547,0.9102921014239225,0.9685889514331126,0.9337920285757986,0.9959565031355933,0.9639105898123103,0.9190272145990579,0.8868755546830334],\"y\":[0.8976615929369792,0.8966261881554763,0.8982214007928886,0.8987174853477948,0.8818325066683194,0.897534023419957,0.8985774198661184,0.8986080097019102,0.887159296855048,0.8936672005128031,0.8945230031784931,0.8972879614422338,0.8984729423544763,0.8964949622316937,0.8911730286742633,0.8963732126328785,0.8965183888756728,0.8975048015215599,0.8967278618775812,0.8980026926138566,0.8978076101347702,0.8984902461330188,0.8987493979431006,0.8989047166905181,0.8987330900355062,0.8991528029361504,0.8990594591389892,0.8994552925247178,0.8990467314070756,0.8988906659024906,0.897815236995943,0.8991853884829194,0.8992267700931317,0.8987873851258157,0.8993538022944699,0.8994509041432636,0.8983643378642565,0.8977933059445257,0.8986760960320054,0.8987868016493318,0.898630404652633,0.8990587991082966,0.8977055486170856,0.8982767957911012,0.8990314105794522,0.8988010009627124,0.892342452316533,0.8985296658204617,0.8985753202774126,0.8982469303360551],\"type\":\"scatter\",\"xaxis\":\"x10\",\"yaxis\":\"y10\"},{\"marker\":{\"color\":[0,1,2,3,4,5,6,7,8,9,10,11,12,13,14,15,16,17,18,19,20,21,22,23,24,25,26,27,28,29,30,31,32,33,34,35,36,37,38,39,40,41,42,43,44,45,46,47,48,49],\"colorbar\":{\"title\":{\"text\":\"Trial\"},\"x\":1.0,\"xpad\":40},\"colorscale\":[[0.0,\"rgb(247,251,255)\"],[0.125,\"rgb(222,235,247)\"],[0.25,\"rgb(198,219,239)\"],[0.375,\"rgb(158,202,225)\"],[0.5,\"rgb(107,174,214)\"],[0.625,\"rgb(66,146,198)\"],[0.75,\"rgb(33,113,181)\"],[0.875,\"rgb(8,81,156)\"],[1.0,\"rgb(8,48,107)\"]],\"line\":{\"color\":\"Grey\",\"width\":0.5},\"showscale\":false},\"mode\":\"markers\",\"showlegend\":false,\"x\":[0.11437356348065236,0.11051818217157083,0.06790095374800148,0.07219186526287785,0.13687523100932564,0.4363296060006035,0.04554516983519197,0.19815317905163377,0.07176155987511251,0.16041430704982373,0.0014627254269813927,0.2550300114562798,0.22970491341523516,0.21139730758120326,0.3034138106938993,0.0005932108084396037,0.1775422344966835,0.3054492390417288,0.1754157801332694,0.10953132131572077,0.05956400595890412,0.048851484568817834,0.01977383586952872,0.0023506708161049536,0.027092557483141287,0.0017381095999524946,0.007794799642996427,0.010366800790489683,0.09386861232518227,0.03542968344413755,0.13305109498878548,0.08908266123476247,0.08841442840490749,0.08542705842861137,0.10425149052029462,0.10856303266805119,0.11565101936008973,0.052141807634959195,0.1314703390078077,0.07121714887472244,0.03660899028508302,0.10018122671768033,0.08168056325516038,0.14173213510557486,0.1070052168739652,0.06812516156406354,0.04209048636575936,0.09062663099129781,0.1577596296178525,0.06083630702285618],\"y\":[0.8976615929369792,0.8966261881554763,0.8982214007928886,0.8987174853477948,0.8818325066683194,0.897534023419957,0.8985774198661184,0.8986080097019102,0.887159296855048,0.8936672005128031,0.8945230031784931,0.8972879614422338,0.8984729423544763,0.8964949622316937,0.8911730286742633,0.8963732126328785,0.8965183888756728,0.8975048015215599,0.8967278618775812,0.8980026926138566,0.8978076101347702,0.8984902461330188,0.8987493979431006,0.8989047166905181,0.8987330900355062,0.8991528029361504,0.8990594591389892,0.8994552925247178,0.8990467314070756,0.8988906659024906,0.897815236995943,0.8991853884829194,0.8992267700931317,0.8987873851258157,0.8993538022944699,0.8994509041432636,0.8983643378642565,0.8977933059445257,0.8986760960320054,0.8987868016493318,0.898630404652633,0.8990587991082966,0.8977055486170856,0.8982767957911012,0.8990314105794522,0.8988010009627124,0.892342452316533,0.8985296658204617,0.8985753202774126,0.8982469303360551],\"type\":\"scatter\",\"xaxis\":\"x11\",\"yaxis\":\"y11\"},{\"marker\":{\"color\":[0,1,2,3,4,5,6,7,8,9,10,11,12,13,14,15,16,17,18,19,20,21,22,23,24,25,26,27,28,29,30,31,32,33,34,35,36,37,38,39,40,41,42,43,44,45,46,47,48,49],\"colorbar\":{\"title\":{\"text\":\"Trial\"},\"x\":1.0,\"xpad\":40},\"colorscale\":[[0.0,\"rgb(247,251,255)\"],[0.125,\"rgb(222,235,247)\"],[0.25,\"rgb(198,219,239)\"],[0.375,\"rgb(158,202,225)\"],[0.5,\"rgb(107,174,214)\"],[0.625,\"rgb(66,146,198)\"],[0.75,\"rgb(33,113,181)\"],[0.875,\"rgb(8,81,156)\"],[1.0,\"rgb(8,48,107)\"]],\"line\":{\"color\":\"Grey\",\"width\":0.5},\"showscale\":false},\"mode\":\"markers\",\"showlegend\":false,\"x\":[0.6211258812680587,0.49422047366117405,0.8379148446766773,0.44387396956238967,0.6261806755914899,0.6147857641308284,0.6484974233209327,0.833078935363545,0.9953892710941705,0.8615891105655572,0.40333713278145095,0.7670268396139284,0.4999931561626756,0.7425442048193328,0.7143358680012887,0.530883645689775,0.4490070999197131,0.5631533070249285,0.42655445579907575,0.5808290030165913,0.6819593402033362,0.4784883454449532,0.6685368528216983,0.5386484546240736,0.5383737091095854,0.5412615726293593,0.5903898690864483,0.5713199333429264,0.5856004552782371,0.6041995723921443,0.6422764854026342,0.584169613626593,0.5674708170478602,0.5104256869165641,0.5602648470223995,0.5711303732615067,0.485127609437098,0.6189294198972598,0.5538266932835475,0.6253685365052845,0.5135737671733883,0.5723885621747156,0.5928810352216829,0.6488389334436329,0.5733805198071419,0.6118402492974614,0.47174494512811416,0.5072073194835502,0.552161113707136,0.5276187257419002],\"y\":[0.8976615929369792,0.8966261881554763,0.8982214007928886,0.8987174853477948,0.8818325066683194,0.897534023419957,0.8985774198661184,0.8986080097019102,0.887159296855048,0.8936672005128031,0.8945230031784931,0.8972879614422338,0.8984729423544763,0.8964949622316937,0.8911730286742633,0.8963732126328785,0.8965183888756728,0.8975048015215599,0.8967278618775812,0.8980026926138566,0.8978076101347702,0.8984902461330188,0.8987493979431006,0.8989047166905181,0.8987330900355062,0.8991528029361504,0.8990594591389892,0.8994552925247178,0.8990467314070756,0.8988906659024906,0.897815236995943,0.8991853884829194,0.8992267700931317,0.8987873851258157,0.8993538022944699,0.8994509041432636,0.8983643378642565,0.8977933059445257,0.8986760960320054,0.8987868016493318,0.898630404652633,0.8990587991082966,0.8977055486170856,0.8982767957911012,0.8990314105794522,0.8988010009627124,0.892342452316533,0.8985296658204617,0.8985753202774126,0.8982469303360551],\"type\":\"scatter\",\"xaxis\":\"x12\",\"yaxis\":\"y12\"}],                        {\"template\":{\"data\":{\"histogram2dcontour\":[{\"type\":\"histogram2dcontour\",\"colorbar\":{\"outlinewidth\":0,\"ticks\":\"\"},\"colorscale\":[[0.0,\"#0d0887\"],[0.1111111111111111,\"#46039f\"],[0.2222222222222222,\"#7201a8\"],[0.3333333333333333,\"#9c179e\"],[0.4444444444444444,\"#bd3786\"],[0.5555555555555556,\"#d8576b\"],[0.6666666666666666,\"#ed7953\"],[0.7777777777777778,\"#fb9f3a\"],[0.8888888888888888,\"#fdca26\"],[1.0,\"#f0f921\"]]}],\"choropleth\":[{\"type\":\"choropleth\",\"colorbar\":{\"outlinewidth\":0,\"ticks\":\"\"}}],\"histogram2d\":[{\"type\":\"histogram2d\",\"colorbar\":{\"outlinewidth\":0,\"ticks\":\"\"},\"colorscale\":[[0.0,\"#0d0887\"],[0.1111111111111111,\"#46039f\"],[0.2222222222222222,\"#7201a8\"],[0.3333333333333333,\"#9c179e\"],[0.4444444444444444,\"#bd3786\"],[0.5555555555555556,\"#d8576b\"],[0.6666666666666666,\"#ed7953\"],[0.7777777777777778,\"#fb9f3a\"],[0.8888888888888888,\"#fdca26\"],[1.0,\"#f0f921\"]]}],\"heatmap\":[{\"type\":\"heatmap\",\"colorbar\":{\"outlinewidth\":0,\"ticks\":\"\"},\"colorscale\":[[0.0,\"#0d0887\"],[0.1111111111111111,\"#46039f\"],[0.2222222222222222,\"#7201a8\"],[0.3333333333333333,\"#9c179e\"],[0.4444444444444444,\"#bd3786\"],[0.5555555555555556,\"#d8576b\"],[0.6666666666666666,\"#ed7953\"],[0.7777777777777778,\"#fb9f3a\"],[0.8888888888888888,\"#fdca26\"],[1.0,\"#f0f921\"]]}],\"heatmapgl\":[{\"type\":\"heatmapgl\",\"colorbar\":{\"outlinewidth\":0,\"ticks\":\"\"},\"colorscale\":[[0.0,\"#0d0887\"],[0.1111111111111111,\"#46039f\"],[0.2222222222222222,\"#7201a8\"],[0.3333333333333333,\"#9c179e\"],[0.4444444444444444,\"#bd3786\"],[0.5555555555555556,\"#d8576b\"],[0.6666666666666666,\"#ed7953\"],[0.7777777777777778,\"#fb9f3a\"],[0.8888888888888888,\"#fdca26\"],[1.0,\"#f0f921\"]]}],\"contourcarpet\":[{\"type\":\"contourcarpet\",\"colorbar\":{\"outlinewidth\":0,\"ticks\":\"\"}}],\"contour\":[{\"type\":\"contour\",\"colorbar\":{\"outlinewidth\":0,\"ticks\":\"\"},\"colorscale\":[[0.0,\"#0d0887\"],[0.1111111111111111,\"#46039f\"],[0.2222222222222222,\"#7201a8\"],[0.3333333333333333,\"#9c179e\"],[0.4444444444444444,\"#bd3786\"],[0.5555555555555556,\"#d8576b\"],[0.6666666666666666,\"#ed7953\"],[0.7777777777777778,\"#fb9f3a\"],[0.8888888888888888,\"#fdca26\"],[1.0,\"#f0f921\"]]}],\"surface\":[{\"type\":\"surface\",\"colorbar\":{\"outlinewidth\":0,\"ticks\":\"\"},\"colorscale\":[[0.0,\"#0d0887\"],[0.1111111111111111,\"#46039f\"],[0.2222222222222222,\"#7201a8\"],[0.3333333333333333,\"#9c179e\"],[0.4444444444444444,\"#bd3786\"],[0.5555555555555556,\"#d8576b\"],[0.6666666666666666,\"#ed7953\"],[0.7777777777777778,\"#fb9f3a\"],[0.8888888888888888,\"#fdca26\"],[1.0,\"#f0f921\"]]}],\"mesh3d\":[{\"type\":\"mesh3d\",\"colorbar\":{\"outlinewidth\":0,\"ticks\":\"\"}}],\"scatter\":[{\"fillpattern\":{\"fillmode\":\"overlay\",\"size\":10,\"solidity\":0.2},\"type\":\"scatter\"}],\"parcoords\":[{\"type\":\"parcoords\",\"line\":{\"colorbar\":{\"outlinewidth\":0,\"ticks\":\"\"}}}],\"scatterpolargl\":[{\"type\":\"scatterpolargl\",\"marker\":{\"colorbar\":{\"outlinewidth\":0,\"ticks\":\"\"}}}],\"bar\":[{\"error_x\":{\"color\":\"#2a3f5f\"},\"error_y\":{\"color\":\"#2a3f5f\"},\"marker\":{\"line\":{\"color\":\"#E5ECF6\",\"width\":0.5},\"pattern\":{\"fillmode\":\"overlay\",\"size\":10,\"solidity\":0.2}},\"type\":\"bar\"}],\"scattergeo\":[{\"type\":\"scattergeo\",\"marker\":{\"colorbar\":{\"outlinewidth\":0,\"ticks\":\"\"}}}],\"scatterpolar\":[{\"type\":\"scatterpolar\",\"marker\":{\"colorbar\":{\"outlinewidth\":0,\"ticks\":\"\"}}}],\"histogram\":[{\"marker\":{\"pattern\":{\"fillmode\":\"overlay\",\"size\":10,\"solidity\":0.2}},\"type\":\"histogram\"}],\"scattergl\":[{\"type\":\"scattergl\",\"marker\":{\"colorbar\":{\"outlinewidth\":0,\"ticks\":\"\"}}}],\"scatter3d\":[{\"type\":\"scatter3d\",\"line\":{\"colorbar\":{\"outlinewidth\":0,\"ticks\":\"\"}},\"marker\":{\"colorbar\":{\"outlinewidth\":0,\"ticks\":\"\"}}}],\"scattermapbox\":[{\"type\":\"scattermapbox\",\"marker\":{\"colorbar\":{\"outlinewidth\":0,\"ticks\":\"\"}}}],\"scatterternary\":[{\"type\":\"scatterternary\",\"marker\":{\"colorbar\":{\"outlinewidth\":0,\"ticks\":\"\"}}}],\"scattercarpet\":[{\"type\":\"scattercarpet\",\"marker\":{\"colorbar\":{\"outlinewidth\":0,\"ticks\":\"\"}}}],\"carpet\":[{\"aaxis\":{\"endlinecolor\":\"#2a3f5f\",\"gridcolor\":\"white\",\"linecolor\":\"white\",\"minorgridcolor\":\"white\",\"startlinecolor\":\"#2a3f5f\"},\"baxis\":{\"endlinecolor\":\"#2a3f5f\",\"gridcolor\":\"white\",\"linecolor\":\"white\",\"minorgridcolor\":\"white\",\"startlinecolor\":\"#2a3f5f\"},\"type\":\"carpet\"}],\"table\":[{\"cells\":{\"fill\":{\"color\":\"#EBF0F8\"},\"line\":{\"color\":\"white\"}},\"header\":{\"fill\":{\"color\":\"#C8D4E3\"},\"line\":{\"color\":\"white\"}},\"type\":\"table\"}],\"barpolar\":[{\"marker\":{\"line\":{\"color\":\"#E5ECF6\",\"width\":0.5},\"pattern\":{\"fillmode\":\"overlay\",\"size\":10,\"solidity\":0.2}},\"type\":\"barpolar\"}],\"pie\":[{\"automargin\":true,\"type\":\"pie\"}]},\"layout\":{\"autotypenumbers\":\"strict\",\"colorway\":[\"#636efa\",\"#EF553B\",\"#00cc96\",\"#ab63fa\",\"#FFA15A\",\"#19d3f3\",\"#FF6692\",\"#B6E880\",\"#FF97FF\",\"#FECB52\"],\"font\":{\"color\":\"#2a3f5f\"},\"hovermode\":\"closest\",\"hoverlabel\":{\"align\":\"left\"},\"paper_bgcolor\":\"white\",\"plot_bgcolor\":\"#E5ECF6\",\"polar\":{\"bgcolor\":\"#E5ECF6\",\"angularaxis\":{\"gridcolor\":\"white\",\"linecolor\":\"white\",\"ticks\":\"\"},\"radialaxis\":{\"gridcolor\":\"white\",\"linecolor\":\"white\",\"ticks\":\"\"}},\"ternary\":{\"bgcolor\":\"#E5ECF6\",\"aaxis\":{\"gridcolor\":\"white\",\"linecolor\":\"white\",\"ticks\":\"\"},\"baxis\":{\"gridcolor\":\"white\",\"linecolor\":\"white\",\"ticks\":\"\"},\"caxis\":{\"gridcolor\":\"white\",\"linecolor\":\"white\",\"ticks\":\"\"}},\"coloraxis\":{\"colorbar\":{\"outlinewidth\":0,\"ticks\":\"\"}},\"colorscale\":{\"sequential\":[[0.0,\"#0d0887\"],[0.1111111111111111,\"#46039f\"],[0.2222222222222222,\"#7201a8\"],[0.3333333333333333,\"#9c179e\"],[0.4444444444444444,\"#bd3786\"],[0.5555555555555556,\"#d8576b\"],[0.6666666666666666,\"#ed7953\"],[0.7777777777777778,\"#fb9f3a\"],[0.8888888888888888,\"#fdca26\"],[1.0,\"#f0f921\"]],\"sequentialminus\":[[0.0,\"#0d0887\"],[0.1111111111111111,\"#46039f\"],[0.2222222222222222,\"#7201a8\"],[0.3333333333333333,\"#9c179e\"],[0.4444444444444444,\"#bd3786\"],[0.5555555555555556,\"#d8576b\"],[0.6666666666666666,\"#ed7953\"],[0.7777777777777778,\"#fb9f3a\"],[0.8888888888888888,\"#fdca26\"],[1.0,\"#f0f921\"]],\"diverging\":[[0,\"#8e0152\"],[0.1,\"#c51b7d\"],[0.2,\"#de77ae\"],[0.3,\"#f1b6da\"],[0.4,\"#fde0ef\"],[0.5,\"#f7f7f7\"],[0.6,\"#e6f5d0\"],[0.7,\"#b8e186\"],[0.8,\"#7fbc41\"],[0.9,\"#4d9221\"],[1,\"#276419\"]]},\"xaxis\":{\"gridcolor\":\"white\",\"linecolor\":\"white\",\"ticks\":\"\",\"title\":{\"standoff\":15},\"zerolinecolor\":\"white\",\"automargin\":true,\"zerolinewidth\":2},\"yaxis\":{\"gridcolor\":\"white\",\"linecolor\":\"white\",\"ticks\":\"\",\"title\":{\"standoff\":15},\"zerolinecolor\":\"white\",\"automargin\":true,\"zerolinewidth\":2},\"scene\":{\"xaxis\":{\"backgroundcolor\":\"#E5ECF6\",\"gridcolor\":\"white\",\"linecolor\":\"white\",\"showbackground\":true,\"ticks\":\"\",\"zerolinecolor\":\"white\",\"gridwidth\":2},\"yaxis\":{\"backgroundcolor\":\"#E5ECF6\",\"gridcolor\":\"white\",\"linecolor\":\"white\",\"showbackground\":true,\"ticks\":\"\",\"zerolinecolor\":\"white\",\"gridwidth\":2},\"zaxis\":{\"backgroundcolor\":\"#E5ECF6\",\"gridcolor\":\"white\",\"linecolor\":\"white\",\"showbackground\":true,\"ticks\":\"\",\"zerolinecolor\":\"white\",\"gridwidth\":2}},\"shapedefaults\":{\"line\":{\"color\":\"#2a3f5f\"}},\"annotationdefaults\":{\"arrowcolor\":\"#2a3f5f\",\"arrowhead\":0,\"arrowwidth\":1},\"geo\":{\"bgcolor\":\"white\",\"landcolor\":\"#E5ECF6\",\"subunitcolor\":\"white\",\"showland\":true,\"showlakes\":true,\"lakecolor\":\"white\"},\"title\":{\"x\":0.05},\"mapbox\":{\"style\":\"light\"}}},\"xaxis\":{\"anchor\":\"y\",\"domain\":[0.0,0.06805555555555555],\"title\":{\"text\":\"boosting\"},\"type\":\"category\",\"categoryorder\":\"array\",\"categoryarray\":[\"gbdt\",\"dart\"]},\"yaxis\":{\"anchor\":\"x\",\"domain\":[0.0,1.0],\"title\":{\"text\":\"Objective Value\"}},\"xaxis2\":{\"anchor\":\"y2\",\"domain\":[0.08472222222222221,0.15277777777777776],\"title\":{\"text\":\"colsample_bytree\"}},\"yaxis2\":{\"anchor\":\"x2\",\"domain\":[0.0,1.0],\"matches\":\"y\",\"showticklabels\":false},\"xaxis3\":{\"anchor\":\"y3\",\"domain\":[0.16944444444444443,0.2375],\"title\":{\"text\":\"learning_rate\"}},\"yaxis3\":{\"anchor\":\"x3\",\"domain\":[0.0,1.0],\"matches\":\"y\",\"showticklabels\":false},\"xaxis4\":{\"anchor\":\"y4\",\"domain\":[0.25416666666666665,0.3222222222222222],\"title\":{\"text\":\"max_depth\"}},\"yaxis4\":{\"anchor\":\"x4\",\"domain\":[0.0,1.0],\"matches\":\"y\",\"showticklabels\":false},\"xaxis5\":{\"anchor\":\"y5\",\"domain\":[0.33888888888888885,0.4069444444444444],\"title\":{\"text\":\"min_child_samples\"}},\"yaxis5\":{\"anchor\":\"x5\",\"domain\":[0.0,1.0],\"matches\":\"y\",\"showticklabels\":false},\"xaxis6\":{\"anchor\":\"y6\",\"domain\":[0.42361111111111105,0.4916666666666666],\"title\":{\"text\":\"min_child_weight\"}},\"yaxis6\":{\"anchor\":\"x6\",\"domain\":[0.0,1.0],\"matches\":\"y\",\"showticklabels\":false},\"xaxis7\":{\"anchor\":\"y7\",\"domain\":[0.5083333333333333,0.5763888888888888],\"title\":{\"text\":\"min_split_gain\"}},\"yaxis7\":{\"anchor\":\"x7\",\"domain\":[0.0,1.0],\"matches\":\"y\",\"showticklabels\":false},\"xaxis8\":{\"anchor\":\"y8\",\"domain\":[0.5930555555555554,0.661111111111111],\"title\":{\"text\":\"n_estimators\"}},\"yaxis8\":{\"anchor\":\"x8\",\"domain\":[0.0,1.0],\"matches\":\"y\",\"showticklabels\":false},\"xaxis9\":{\"anchor\":\"y9\",\"domain\":[0.6777777777777777,0.7458333333333332],\"title\":{\"text\":\"num_leaves\"}},\"yaxis9\":{\"anchor\":\"x9\",\"domain\":[0.0,1.0],\"matches\":\"y\",\"showticklabels\":false},\"xaxis10\":{\"anchor\":\"y10\",\"domain\":[0.7625,0.8305555555555555],\"title\":{\"text\":\"reg_alpha\"}},\"yaxis10\":{\"anchor\":\"x10\",\"domain\":[0.0,1.0],\"matches\":\"y\",\"showticklabels\":false},\"xaxis11\":{\"anchor\":\"y11\",\"domain\":[0.8472222222222221,0.9152777777777776],\"title\":{\"text\":\"reg_lambda\"}},\"yaxis11\":{\"anchor\":\"x11\",\"domain\":[0.0,1.0],\"matches\":\"y\",\"showticklabels\":false},\"xaxis12\":{\"anchor\":\"y12\",\"domain\":[0.9319444444444444,0.9999999999999999],\"title\":{\"text\":\"subsample\"}},\"yaxis12\":{\"anchor\":\"x12\",\"domain\":[0.0,1.0],\"matches\":\"y\",\"showticklabels\":false},\"title\":{\"text\":\"Slice Plot\"},\"width\":3600},                        {\"responsive\": true}                    )                };                            </script>        </div>"
      ],
      "text/plain": [
       "Figure({\n",
       "    'data': [{'marker': {'color': [0, 1, 2, 3, 4, 5, 6, 7, 8, 9, 10, 11, 12, 13,\n",
       "                                   14, 15, 16, 17, 18, 19, 20, 21, 22, 23, 24, 25,\n",
       "                                   26, 27, 28, 29, 30, 31, 32, 33, 34, 35, 36, 37,\n",
       "                                   38, 39, 40, 41, 42, 43, 44, 45, 46, 47, 48, 49],\n",
       "                         'colorbar': {'title': {'text': 'Trial'}, 'x': 1.0, 'xpad': 40},\n",
       "                         'colorscale': [[0.0, 'rgb(247,251,255)'], [0.125,\n",
       "                                        'rgb(222,235,247)'], [0.25,\n",
       "                                        'rgb(198,219,239)'], [0.375,\n",
       "                                        'rgb(158,202,225)'], [0.5,\n",
       "                                        'rgb(107,174,214)'], [0.625,\n",
       "                                        'rgb(66,146,198)'], [0.75,\n",
       "                                        'rgb(33,113,181)'], [0.875,\n",
       "                                        'rgb(8,81,156)'], [1.0, 'rgb(8,48,107)']],\n",
       "                         'line': {'color': 'Grey', 'width': 0.5},\n",
       "                         'showscale': True},\n",
       "              'mode': 'markers',\n",
       "              'showlegend': False,\n",
       "              'type': 'scatter',\n",
       "              'x': [dart, dart, dart, dart, gbdt, dart, dart, gbdt, gbdt, gbdt,\n",
       "                    dart, gbdt, gbdt, gbdt, dart, gbdt, gbdt, dart, gbdt, dart,\n",
       "                    gbdt, dart, dart, dart, dart, dart, dart, dart, dart, dart,\n",
       "                    dart, dart, dart, dart, dart, dart, dart, dart, dart, dart,\n",
       "                    dart, dart, dart, dart, dart, dart, dart, dart, dart, dart],\n",
       "              'xaxis': 'x',\n",
       "              'y': [0.8976615929369792, 0.8966261881554763, 0.8982214007928886,\n",
       "                    0.8987174853477948, 0.8818325066683194, 0.897534023419957,\n",
       "                    0.8985774198661184, 0.8986080097019102, 0.887159296855048,\n",
       "                    0.8936672005128031, 0.8945230031784931, 0.8972879614422338,\n",
       "                    0.8984729423544763, 0.8964949622316937, 0.8911730286742633,\n",
       "                    0.8963732126328785, 0.8965183888756728, 0.8975048015215599,\n",
       "                    0.8967278618775812, 0.8980026926138566, 0.8978076101347702,\n",
       "                    0.8984902461330188, 0.8987493979431006, 0.8989047166905181,\n",
       "                    0.8987330900355062, 0.8991528029361504, 0.8990594591389892,\n",
       "                    0.8994552925247178, 0.8990467314070756, 0.8988906659024906,\n",
       "                    0.897815236995943, 0.8991853884829194, 0.8992267700931317,\n",
       "                    0.8987873851258157, 0.8993538022944699, 0.8994509041432636,\n",
       "                    0.8983643378642565, 0.8977933059445257, 0.8986760960320054,\n",
       "                    0.8987868016493318, 0.898630404652633, 0.8990587991082966,\n",
       "                    0.8977055486170856, 0.8982767957911012, 0.8990314105794522,\n",
       "                    0.8988010009627124, 0.892342452316533, 0.8985296658204617,\n",
       "                    0.8985753202774126, 0.8982469303360551],\n",
       "              'yaxis': 'y'},\n",
       "             {'marker': {'color': [0, 1, 2, 3, 4, 5, 6, 7, 8, 9, 10, 11, 12, 13,\n",
       "                                   14, 15, 16, 17, 18, 19, 20, 21, 22, 23, 24, 25,\n",
       "                                   26, 27, 28, 29, 30, 31, 32, 33, 34, 35, 36, 37,\n",
       "                                   38, 39, 40, 41, 42, 43, 44, 45, 46, 47, 48, 49],\n",
       "                         'colorbar': {'title': {'text': 'Trial'}, 'x': 1.0, 'xpad': 40},\n",
       "                         'colorscale': [[0.0, 'rgb(247,251,255)'], [0.125,\n",
       "                                        'rgb(222,235,247)'], [0.25,\n",
       "                                        'rgb(198,219,239)'], [0.375,\n",
       "                                        'rgb(158,202,225)'], [0.5,\n",
       "                                        'rgb(107,174,214)'], [0.625,\n",
       "                                        'rgb(66,146,198)'], [0.75,\n",
       "                                        'rgb(33,113,181)'], [0.875,\n",
       "                                        'rgb(8,81,156)'], [1.0, 'rgb(8,48,107)']],\n",
       "                         'line': {'color': 'Grey', 'width': 0.5},\n",
       "                         'showscale': False},\n",
       "              'mode': 'markers',\n",
       "              'showlegend': False,\n",
       "              'type': 'scatter',\n",
       "              'x': [0.5378419005311236, 0.7633258782246661, 0.6225986896922069,\n",
       "                    0.7324522149754977, 0.3669827139466058, 0.44187806666297097,\n",
       "                    0.4182180560187565, 0.49103861352152534, 0.4707365344868875,\n",
       "                    0.5614196201481262, 0.2257682579940702, 0.7939115494329188,\n",
       "                    0.6544504900487966, 0.6932086292443909, 0.5798644088524469,\n",
       "                    0.7066902503737962, 0.5175944912970876, 0.624564028373513,\n",
       "                    0.7448936338617835, 0.7145512719971647, 0.5872491890757702,\n",
       "                    0.4221382857234409, 0.48484963119576613, 0.48349464568217704,\n",
       "                    0.5156526723274495, 0.5145767935594828, 0.37629088828852225,\n",
       "                    0.35885033102300595, 0.34072199927957314, 0.36872031177619546,\n",
       "                    0.2919845014898368, 0.3499538399048444, 0.31879290379484265,\n",
       "                    0.28225447659525515, 0.3133191434154407, 0.30458357396024127,\n",
       "                    0.30468627594817455, 0.24474884453675594, 0.20329391048162448,\n",
       "                    0.26420570661301007, 0.30500110251681095, 0.33598684594381467,\n",
       "                    0.39520013201931314, 0.33032936476633834, 0.33775484324499977,\n",
       "                    0.2693571841887973, 0.44694054312219544, 0.39636321320559254,\n",
       "                    0.24545945640976963, 0.3067218948920155],\n",
       "              'xaxis': 'x2',\n",
       "              'y': [0.8976615929369792, 0.8966261881554763, 0.8982214007928886,\n",
       "                    0.8987174853477948, 0.8818325066683194, 0.897534023419957,\n",
       "                    0.8985774198661184, 0.8986080097019102, 0.887159296855048,\n",
       "                    0.8936672005128031, 0.8945230031784931, 0.8972879614422338,\n",
       "                    0.8984729423544763, 0.8964949622316937, 0.8911730286742633,\n",
       "                    0.8963732126328785, 0.8965183888756728, 0.8975048015215599,\n",
       "                    0.8967278618775812, 0.8980026926138566, 0.8978076101347702,\n",
       "                    0.8984902461330188, 0.8987493979431006, 0.8989047166905181,\n",
       "                    0.8987330900355062, 0.8991528029361504, 0.8990594591389892,\n",
       "                    0.8994552925247178, 0.8990467314070756, 0.8988906659024906,\n",
       "                    0.897815236995943, 0.8991853884829194, 0.8992267700931317,\n",
       "                    0.8987873851258157, 0.8993538022944699, 0.8994509041432636,\n",
       "                    0.8983643378642565, 0.8977933059445257, 0.8986760960320054,\n",
       "                    0.8987868016493318, 0.898630404652633, 0.8990587991082966,\n",
       "                    0.8977055486170856, 0.8982767957911012, 0.8990314105794522,\n",
       "                    0.8988010009627124, 0.892342452316533, 0.8985296658204617,\n",
       "                    0.8985753202774126, 0.8982469303360551],\n",
       "              'yaxis': 'y2'},\n",
       "             {'marker': {'color': [0, 1, 2, 3, 4, 5, 6, 7, 8, 9, 10, 11, 12, 13,\n",
       "                                   14, 15, 16, 17, 18, 19, 20, 21, 22, 23, 24, 25,\n",
       "                                   26, 27, 28, 29, 30, 31, 32, 33, 34, 35, 36, 37,\n",
       "                                   38, 39, 40, 41, 42, 43, 44, 45, 46, 47, 48, 49],\n",
       "                         'colorbar': {'title': {'text': 'Trial'}, 'x': 1.0, 'xpad': 40},\n",
       "                         'colorscale': [[0.0, 'rgb(247,251,255)'], [0.125,\n",
       "                                        'rgb(222,235,247)'], [0.25,\n",
       "                                        'rgb(198,219,239)'], [0.375,\n",
       "                                        'rgb(158,202,225)'], [0.5,\n",
       "                                        'rgb(107,174,214)'], [0.625,\n",
       "                                        'rgb(66,146,198)'], [0.75,\n",
       "                                        'rgb(33,113,181)'], [0.875,\n",
       "                                        'rgb(8,81,156)'], [1.0, 'rgb(8,48,107)']],\n",
       "                         'line': {'color': 'Grey', 'width': 0.5},\n",
       "                         'showscale': False},\n",
       "              'mode': 'markers',\n",
       "              'showlegend': False,\n",
       "              'type': 'scatter',\n",
       "              'x': [0.19389439422812849, 0.45924154140117035, 0.4476008706853442,\n",
       "                    0.13981934622951592, 0.37207035933089583, 0.29121658214283697,\n",
       "                    0.4371242239384264, 0.029303267515977036, 0.35225663091386056,\n",
       "                    0.3915003819879576, 0.1666069317054042, 0.027150646072599455,\n",
       "                    0.038123133769189035, 0.09650817074143583,\n",
       "                    0.0006222148418612607, 0.10431601462261153,\n",
       "                    0.09798935645717084, 0.22055022750758613, 0.15124344606778953,\n",
       "                    0.2621016108218236, 0.0657466880434385, 0.49571488289872667,\n",
       "                    0.13622662850391595, 0.1375252050729044, 0.15467943351351277,\n",
       "                    0.1923329726142723, 0.20666559602096782, 0.21902422874173558,\n",
       "                    0.22317939765972544, 0.1956899275406601, 0.2723108704039862,\n",
       "                    0.2180631216460072, 0.22822376379802833, 0.22903726124769525,\n",
       "                    0.17375929988842234, 0.2452438352693344, 0.29370716642793004,\n",
       "                    0.2455194047102867, 0.18583939400966126, 0.2947288310781317,\n",
       "                    0.24036716072805636, 0.2615548315150538, 0.17851068113967566,\n",
       "                    0.22023467379928907, 0.20565802118807636, 0.16886261936789215,\n",
       "                    0.2822556208250799, 0.3166378245189322, 0.24522484941538744,\n",
       "                    0.2062682517722446],\n",
       "              'xaxis': 'x3',\n",
       "              'y': [0.8976615929369792, 0.8966261881554763, 0.8982214007928886,\n",
       "                    0.8987174853477948, 0.8818325066683194, 0.897534023419957,\n",
       "                    0.8985774198661184, 0.8986080097019102, 0.887159296855048,\n",
       "                    0.8936672005128031, 0.8945230031784931, 0.8972879614422338,\n",
       "                    0.8984729423544763, 0.8964949622316937, 0.8911730286742633,\n",
       "                    0.8963732126328785, 0.8965183888756728, 0.8975048015215599,\n",
       "                    0.8967278618775812, 0.8980026926138566, 0.8978076101347702,\n",
       "                    0.8984902461330188, 0.8987493979431006, 0.8989047166905181,\n",
       "                    0.8987330900355062, 0.8991528029361504, 0.8990594591389892,\n",
       "                    0.8994552925247178, 0.8990467314070756, 0.8988906659024906,\n",
       "                    0.897815236995943, 0.8991853884829194, 0.8992267700931317,\n",
       "                    0.8987873851258157, 0.8993538022944699, 0.8994509041432636,\n",
       "                    0.8983643378642565, 0.8977933059445257, 0.8986760960320054,\n",
       "                    0.8987868016493318, 0.898630404652633, 0.8990587991082966,\n",
       "                    0.8977055486170856, 0.8982767957911012, 0.8990314105794522,\n",
       "                    0.8988010009627124, 0.892342452316533, 0.8985296658204617,\n",
       "                    0.8985753202774126, 0.8982469303360551],\n",
       "              'yaxis': 'y3'},\n",
       "             {'marker': {'color': [0, 1, 2, 3, 4, 5, 6, 7, 8, 9, 10, 11, 12, 13,\n",
       "                                   14, 15, 16, 17, 18, 19, 20, 21, 22, 23, 24, 25,\n",
       "                                   26, 27, 28, 29, 30, 31, 32, 33, 34, 35, 36, 37,\n",
       "                                   38, 39, 40, 41, 42, 43, 44, 45, 46, 47, 48, 49],\n",
       "                         'colorbar': {'title': {'text': 'Trial'}, 'x': 1.0, 'xpad': 40},\n",
       "                         'colorscale': [[0.0, 'rgb(247,251,255)'], [0.125,\n",
       "                                        'rgb(222,235,247)'], [0.25,\n",
       "                                        'rgb(198,219,239)'], [0.375,\n",
       "                                        'rgb(158,202,225)'], [0.5,\n",
       "                                        'rgb(107,174,214)'], [0.625,\n",
       "                                        'rgb(66,146,198)'], [0.75,\n",
       "                                        'rgb(33,113,181)'], [0.875,\n",
       "                                        'rgb(8,81,156)'], [1.0, 'rgb(8,48,107)']],\n",
       "                         'line': {'color': 'Grey', 'width': 0.5},\n",
       "                         'showscale': False},\n",
       "              'mode': 'markers',\n",
       "              'showlegend': False,\n",
       "              'type': 'scatter',\n",
       "              'x': [5, 15, 46, 10, 19, 30, 8, 25, 43, 48, 64, 27, -1, 19, 36, 14,\n",
       "                    26, 37, 6, 22, 56, 10, -1, 0, -1, 0, 2, 3, 4, 4, 13, 4, 4, 9,\n",
       "                    5, 18, 18, 12, 17, 8, 15, 4, 7, 11, 21, 4, 7, 15, 23, 34],\n",
       "              'xaxis': 'x4',\n",
       "              'y': [0.8976615929369792, 0.8966261881554763, 0.8982214007928886,\n",
       "                    0.8987174853477948, 0.8818325066683194, 0.897534023419957,\n",
       "                    0.8985774198661184, 0.8986080097019102, 0.887159296855048,\n",
       "                    0.8936672005128031, 0.8945230031784931, 0.8972879614422338,\n",
       "                    0.8984729423544763, 0.8964949622316937, 0.8911730286742633,\n",
       "                    0.8963732126328785, 0.8965183888756728, 0.8975048015215599,\n",
       "                    0.8967278618775812, 0.8980026926138566, 0.8978076101347702,\n",
       "                    0.8984902461330188, 0.8987493979431006, 0.8989047166905181,\n",
       "                    0.8987330900355062, 0.8991528029361504, 0.8990594591389892,\n",
       "                    0.8994552925247178, 0.8990467314070756, 0.8988906659024906,\n",
       "                    0.897815236995943, 0.8991853884829194, 0.8992267700931317,\n",
       "                    0.8987873851258157, 0.8993538022944699, 0.8994509041432636,\n",
       "                    0.8983643378642565, 0.8977933059445257, 0.8986760960320054,\n",
       "                    0.8987868016493318, 0.898630404652633, 0.8990587991082966,\n",
       "                    0.8977055486170856, 0.8982767957911012, 0.8990314105794522,\n",
       "                    0.8988010009627124, 0.892342452316533, 0.8985296658204617,\n",
       "                    0.8985753202774126, 0.8982469303360551],\n",
       "              'yaxis': 'y4'},\n",
       "             {'marker': {'color': [0, 1, 2, 3, 4, 5, 6, 7, 8, 9, 10, 11, 12, 13,\n",
       "                                   14, 15, 16, 17, 18, 19, 20, 21, 22, 23, 24, 25,\n",
       "                                   26, 27, 28, 29, 30, 31, 32, 33, 34, 35, 36, 37,\n",
       "                                   38, 39, 40, 41, 42, 43, 44, 45, 46, 47, 48, 49],\n",
       "                         'colorbar': {'title': {'text': 'Trial'}, 'x': 1.0, 'xpad': 40},\n",
       "                         'colorscale': [[0.0, 'rgb(247,251,255)'], [0.125,\n",
       "                                        'rgb(222,235,247)'], [0.25,\n",
       "                                        'rgb(198,219,239)'], [0.375,\n",
       "                                        'rgb(158,202,225)'], [0.5,\n",
       "                                        'rgb(107,174,214)'], [0.625,\n",
       "                                        'rgb(66,146,198)'], [0.75,\n",
       "                                        'rgb(33,113,181)'], [0.875,\n",
       "                                        'rgb(8,81,156)'], [1.0, 'rgb(8,48,107)']],\n",
       "                         'line': {'color': 'Grey', 'width': 0.5},\n",
       "                         'showscale': False},\n",
       "              'mode': 'markers',\n",
       "              'showlegend': False,\n",
       "              'type': 'scatter',\n",
       "              'x': [46, 75, 11, 48, 61, 51, 49, 19, 60, 31, 84, 12, 28, 30, 97,\n",
       "                    24, 39, 17, 5, 68, 40, 56, 42, 39, 40, 40, 36, 34, 33, 21, 32,\n",
       "                    34, 24, 24, 45, 47, 55, 46, 69, 47, 60, 46, 52, 27, 15, 36, 44,\n",
       "                    26, 35, 20],\n",
       "              'xaxis': 'x5',\n",
       "              'y': [0.8976615929369792, 0.8966261881554763, 0.8982214007928886,\n",
       "                    0.8987174853477948, 0.8818325066683194, 0.897534023419957,\n",
       "                    0.8985774198661184, 0.8986080097019102, 0.887159296855048,\n",
       "                    0.8936672005128031, 0.8945230031784931, 0.8972879614422338,\n",
       "                    0.8984729423544763, 0.8964949622316937, 0.8911730286742633,\n",
       "                    0.8963732126328785, 0.8965183888756728, 0.8975048015215599,\n",
       "                    0.8967278618775812, 0.8980026926138566, 0.8978076101347702,\n",
       "                    0.8984902461330188, 0.8987493979431006, 0.8989047166905181,\n",
       "                    0.8987330900355062, 0.8991528029361504, 0.8990594591389892,\n",
       "                    0.8994552925247178, 0.8990467314070756, 0.8988906659024906,\n",
       "                    0.897815236995943, 0.8991853884829194, 0.8992267700931317,\n",
       "                    0.8987873851258157, 0.8993538022944699, 0.8994509041432636,\n",
       "                    0.8983643378642565, 0.8977933059445257, 0.8986760960320054,\n",
       "                    0.8987868016493318, 0.898630404652633, 0.8990587991082966,\n",
       "                    0.8977055486170856, 0.8982767957911012, 0.8990314105794522,\n",
       "                    0.8988010009627124, 0.892342452316533, 0.8985296658204617,\n",
       "                    0.8985753202774126, 0.8982469303360551],\n",
       "              'yaxis': 'y5'},\n",
       "             {'marker': {'color': [0, 1, 2, 3, 4, 5, 6, 7, 8, 9, 10, 11, 12, 13,\n",
       "                                   14, 15, 16, 17, 18, 19, 20, 21, 22, 23, 24, 25,\n",
       "                                   26, 27, 28, 29, 30, 31, 32, 33, 34, 35, 36, 37,\n",
       "                                   38, 39, 40, 41, 42, 43, 44, 45, 46, 47, 48, 49],\n",
       "                         'colorbar': {'title': {'text': 'Trial'}, 'x': 1.0, 'xpad': 40},\n",
       "                         'colorscale': [[0.0, 'rgb(247,251,255)'], [0.125,\n",
       "                                        'rgb(222,235,247)'], [0.25,\n",
       "                                        'rgb(198,219,239)'], [0.375,\n",
       "                                        'rgb(158,202,225)'], [0.5,\n",
       "                                        'rgb(107,174,214)'], [0.625,\n",
       "                                        'rgb(66,146,198)'], [0.75,\n",
       "                                        'rgb(33,113,181)'], [0.875,\n",
       "                                        'rgb(8,81,156)'], [1.0, 'rgb(8,48,107)']],\n",
       "                         'line': {'color': 'Grey', 'width': 0.5},\n",
       "                         'showscale': False},\n",
       "              'mode': 'markers',\n",
       "              'showlegend': False,\n",
       "              'type': 'scatter',\n",
       "              'x': [9.712332134025896, 9.533023304028491, 6.746427625701935,\n",
       "                    0.6236654874810934, 2.1919343257410158, 2.1407526004092485,\n",
       "                    7.060386264543439, 0.40908264251314624, 2.3909956071399527,\n",
       "                    1.1167043841253457, 3.7783324577352184, 0.2741648257655216,\n",
       "                    0.23362483240516022, 3.8485386398292163, 0.049716580312128444,\n",
       "                    1.6824004663398835, 2.983058649947171, 1.2312165717061063,\n",
       "                    1.1140657876953957, 3.6468525459148804, 4.423779032991213,\n",
       "                    5.730670773916994, 5.4666671486815535, 2.950196257861971,\n",
       "                    2.860486573731021, 3.2957480998415862, 5.3092071064587305,\n",
       "                    4.768878441321062, 5.025595976566911, 4.612103534613179,\n",
       "                    6.02154621605445, 4.913585377751683, 4.455595555553924,\n",
       "                    4.441994518864866, 6.388109299687041, 7.510388082773024,\n",
       "                    7.832397211786538, 6.116516911590818, 7.909705667388043,\n",
       "                    6.383688316066618, 6.822353929564878, 4.96776860156024,\n",
       "                    5.550442106074862, 6.537246202249208, 7.322925610079759,\n",
       "                    8.84240124452796, 6.0429082884113186, 4.830479911003167,\n",
       "                    4.127328017599583, 5.052902444369257],\n",
       "              'xaxis': 'x6',\n",
       "              'y': [0.8976615929369792, 0.8966261881554763, 0.8982214007928886,\n",
       "                    0.8987174853477948, 0.8818325066683194, 0.897534023419957,\n",
       "                    0.8985774198661184, 0.8986080097019102, 0.887159296855048,\n",
       "                    0.8936672005128031, 0.8945230031784931, 0.8972879614422338,\n",
       "                    0.8984729423544763, 0.8964949622316937, 0.8911730286742633,\n",
       "                    0.8963732126328785, 0.8965183888756728, 0.8975048015215599,\n",
       "                    0.8967278618775812, 0.8980026926138566, 0.8978076101347702,\n",
       "                    0.8984902461330188, 0.8987493979431006, 0.8989047166905181,\n",
       "                    0.8987330900355062, 0.8991528029361504, 0.8990594591389892,\n",
       "                    0.8994552925247178, 0.8990467314070756, 0.8988906659024906,\n",
       "                    0.897815236995943, 0.8991853884829194, 0.8992267700931317,\n",
       "                    0.8987873851258157, 0.8993538022944699, 0.8994509041432636,\n",
       "                    0.8983643378642565, 0.8977933059445257, 0.8986760960320054,\n",
       "                    0.8987868016493318, 0.898630404652633, 0.8990587991082966,\n",
       "                    0.8977055486170856, 0.8982767957911012, 0.8990314105794522,\n",
       "                    0.8988010009627124, 0.892342452316533, 0.8985296658204617,\n",
       "                    0.8985753202774126, 0.8982469303360551],\n",
       "              'yaxis': 'y6'},\n",
       "             {'marker': {'color': [0, 1, 2, 3, 4, 5, 6, 7, 8, 9, 10, 11, 12, 13,\n",
       "                                   14, 15, 16, 17, 18, 19, 20, 21, 22, 23, 24, 25,\n",
       "                                   26, 27, 28, 29, 30, 31, 32, 33, 34, 35, 36, 37,\n",
       "                                   38, 39, 40, 41, 42, 43, 44, 45, 46, 47, 48, 49],\n",
       "                         'colorbar': {'title': {'text': 'Trial'}, 'x': 1.0, 'xpad': 40},\n",
       "                         'colorscale': [[0.0, 'rgb(247,251,255)'], [0.125,\n",
       "                                        'rgb(222,235,247)'], [0.25,\n",
       "                                        'rgb(198,219,239)'], [0.375,\n",
       "                                        'rgb(158,202,225)'], [0.5,\n",
       "                                        'rgb(107,174,214)'], [0.625,\n",
       "                                        'rgb(66,146,198)'], [0.75,\n",
       "                                        'rgb(33,113,181)'], [0.875,\n",
       "                                        'rgb(8,81,156)'], [1.0, 'rgb(8,48,107)']],\n",
       "                         'line': {'color': 'Grey', 'width': 0.5},\n",
       "                         'showscale': False},\n",
       "              'mode': 'markers',\n",
       "              'showlegend': False,\n",
       "              'type': 'scatter',\n",
       "              'x': [0.5086730611030881, 0.5840019466567259, 0.9245551782504706,\n",
       "                    0.9478690581585507, 0.6721676772580896, 0.6452745803860633,\n",
       "                    0.9116941448755507, 0.5306766521238373, 0.9862463341635224,\n",
       "                    0.7793870451468459, 0.8252712390558463, 0.7285642300509503,\n",
       "                    0.5163800238379865, 0.8520905835455335, 0.722648789570837,\n",
       "                    0.5937436788218478, 0.7767532311139584, 0.6804629085265281,\n",
       "                    0.9868202210928749, 0.8295012700074839, 0.5590994924345425,\n",
       "                    0.913429370062523, 0.9080870625224224, 0.9513310084268437,\n",
       "                    0.9520669423491084, 0.8700728530494674, 0.8523479620898352,\n",
       "                    0.8804385788228134, 0.868363227663812, 0.8826793558673016,\n",
       "                    0.8262076969419603, 0.874981948036766, 0.8716112325358999,\n",
       "                    0.8678668124637681, 0.8962168611735738, 0.8955023649991991,\n",
       "                    0.9386704139826458, 0.8888154977140437, 0.9076408674479064,\n",
       "                    0.938071009108372, 0.971946025568226, 0.8953961946013722,\n",
       "                    0.9216845323458457, 0.8460525561035418, 0.8059801903568848,\n",
       "                    0.8863653851761863, 0.9194108417359608, 0.8972616147335808,\n",
       "                    0.9670874353700755, 0.8007943471477896],\n",
       "              'xaxis': 'x7',\n",
       "              'y': [0.8976615929369792, 0.8966261881554763, 0.8982214007928886,\n",
       "                    0.8987174853477948, 0.8818325066683194, 0.897534023419957,\n",
       "                    0.8985774198661184, 0.8986080097019102, 0.887159296855048,\n",
       "                    0.8936672005128031, 0.8945230031784931, 0.8972879614422338,\n",
       "                    0.8984729423544763, 0.8964949622316937, 0.8911730286742633,\n",
       "                    0.8963732126328785, 0.8965183888756728, 0.8975048015215599,\n",
       "                    0.8967278618775812, 0.8980026926138566, 0.8978076101347702,\n",
       "                    0.8984902461330188, 0.8987493979431006, 0.8989047166905181,\n",
       "                    0.8987330900355062, 0.8991528029361504, 0.8990594591389892,\n",
       "                    0.8994552925247178, 0.8990467314070756, 0.8988906659024906,\n",
       "                    0.897815236995943, 0.8991853884829194, 0.8992267700931317,\n",
       "                    0.8987873851258157, 0.8993538022944699, 0.8994509041432636,\n",
       "                    0.8983643378642565, 0.8977933059445257, 0.8986760960320054,\n",
       "                    0.8987868016493318, 0.898630404652633, 0.8990587991082966,\n",
       "                    0.8977055486170856, 0.8982767957911012, 0.8990314105794522,\n",
       "                    0.8988010009627124, 0.892342452316533, 0.8985296658204617,\n",
       "                    0.8985753202774126, 0.8982469303360551],\n",
       "              'yaxis': 'y7'},\n",
       "             {'marker': {'color': [0, 1, 2, 3, 4, 5, 6, 7, 8, 9, 10, 11, 12, 13,\n",
       "                                   14, 15, 16, 17, 18, 19, 20, 21, 22, 23, 24, 25,\n",
       "                                   26, 27, 28, 29, 30, 31, 32, 33, 34, 35, 36, 37,\n",
       "                                   38, 39, 40, 41, 42, 43, 44, 45, 46, 47, 48, 49],\n",
       "                         'colorbar': {'title': {'text': 'Trial'}, 'x': 1.0, 'xpad': 40},\n",
       "                         'colorscale': [[0.0, 'rgb(247,251,255)'], [0.125,\n",
       "                                        'rgb(222,235,247)'], [0.25,\n",
       "                                        'rgb(198,219,239)'], [0.375,\n",
       "                                        'rgb(158,202,225)'], [0.5,\n",
       "                                        'rgb(107,174,214)'], [0.625,\n",
       "                                        'rgb(66,146,198)'], [0.75,\n",
       "                                        'rgb(33,113,181)'], [0.875,\n",
       "                                        'rgb(8,81,156)'], [1.0, 'rgb(8,48,107)']],\n",
       "                         'line': {'color': 'Grey', 'width': 0.5},\n",
       "                         'showscale': False},\n",
       "              'mode': 'markers',\n",
       "              'showlegend': False,\n",
       "              'type': 'scatter',\n",
       "              'x': [252, 463, 861, 642, 555, 725, 590, 177, 299, 239, 877, 133,\n",
       "                    462, 705, 414, 998, 698, 131, 344, 644, 816, 585, 518, 501,\n",
       "                    480, 479, 383, 334, 384, 249, 312, 391, 418, 436, 346, 200,\n",
       "                    175, 288, 204, 355, 292, 412, 340, 233, 108, 194, 276, 539,\n",
       "                    447, 396],\n",
       "              'xaxis': 'x8',\n",
       "              'y': [0.8976615929369792, 0.8966261881554763, 0.8982214007928886,\n",
       "                    0.8987174853477948, 0.8818325066683194, 0.897534023419957,\n",
       "                    0.8985774198661184, 0.8986080097019102, 0.887159296855048,\n",
       "                    0.8936672005128031, 0.8945230031784931, 0.8972879614422338,\n",
       "                    0.8984729423544763, 0.8964949622316937, 0.8911730286742633,\n",
       "                    0.8963732126328785, 0.8965183888756728, 0.8975048015215599,\n",
       "                    0.8967278618775812, 0.8980026926138566, 0.8978076101347702,\n",
       "                    0.8984902461330188, 0.8987493979431006, 0.8989047166905181,\n",
       "                    0.8987330900355062, 0.8991528029361504, 0.8990594591389892,\n",
       "                    0.8994552925247178, 0.8990467314070756, 0.8988906659024906,\n",
       "                    0.897815236995943, 0.8991853884829194, 0.8992267700931317,\n",
       "                    0.8987873851258157, 0.8993538022944699, 0.8994509041432636,\n",
       "                    0.8983643378642565, 0.8977933059445257, 0.8986760960320054,\n",
       "                    0.8987868016493318, 0.898630404652633, 0.8990587991082966,\n",
       "                    0.8977055486170856, 0.8982767957911012, 0.8990314105794522,\n",
       "                    0.8988010009627124, 0.892342452316533, 0.8985296658204617,\n",
       "                    0.8985753202774126, 0.8982469303360551],\n",
       "              'yaxis': 'y8'},\n",
       "             {'marker': {'color': [0, 1, 2, 3, 4, 5, 6, 7, 8, 9, 10, 11, 12, 13,\n",
       "                                   14, 15, 16, 17, 18, 19, 20, 21, 22, 23, 24, 25,\n",
       "                                   26, 27, 28, 29, 30, 31, 32, 33, 34, 35, 36, 37,\n",
       "                                   38, 39, 40, 41, 42, 43, 44, 45, 46, 47, 48, 49],\n",
       "                         'colorbar': {'title': {'text': 'Trial'}, 'x': 1.0, 'xpad': 40},\n",
       "                         'colorscale': [[0.0, 'rgb(247,251,255)'], [0.125,\n",
       "                                        'rgb(222,235,247)'], [0.25,\n",
       "                                        'rgb(198,219,239)'], [0.375,\n",
       "                                        'rgb(158,202,225)'], [0.5,\n",
       "                                        'rgb(107,174,214)'], [0.625,\n",
       "                                        'rgb(66,146,198)'], [0.75,\n",
       "                                        'rgb(33,113,181)'], [0.875,\n",
       "                                        'rgb(8,81,156)'], [1.0, 'rgb(8,48,107)']],\n",
       "                         'line': {'color': 'Grey', 'width': 0.5},\n",
       "                         'showscale': False},\n",
       "              'mode': 'markers',\n",
       "              'showlegend': False,\n",
       "              'type': 'scatter',\n",
       "              'x': [36, 50, 87, 43, 126, 124, 30, 81, 115, 4, 2, 78, 63, 93, 103,\n",
       "                    65, 147, 22, 49, 67, 43, 20, 30, 55, 56, 62, 18, 19, 15, 12,\n",
       "                    37, 17, 26, 29, 12, 10, 8, 38, 27, 9, 23, 14, 3, 34, 10, 22, 2,\n",
       "                    43, 16, 26],\n",
       "              'xaxis': 'x9',\n",
       "              'y': [0.8976615929369792, 0.8966261881554763, 0.8982214007928886,\n",
       "                    0.8987174853477948, 0.8818325066683194, 0.897534023419957,\n",
       "                    0.8985774198661184, 0.8986080097019102, 0.887159296855048,\n",
       "                    0.8936672005128031, 0.8945230031784931, 0.8972879614422338,\n",
       "                    0.8984729423544763, 0.8964949622316937, 0.8911730286742633,\n",
       "                    0.8963732126328785, 0.8965183888756728, 0.8975048015215599,\n",
       "                    0.8967278618775812, 0.8980026926138566, 0.8978076101347702,\n",
       "                    0.8984902461330188, 0.8987493979431006, 0.8989047166905181,\n",
       "                    0.8987330900355062, 0.8991528029361504, 0.8990594591389892,\n",
       "                    0.8994552925247178, 0.8990467314070756, 0.8988906659024906,\n",
       "                    0.897815236995943, 0.8991853884829194, 0.8992267700931317,\n",
       "                    0.8987873851258157, 0.8993538022944699, 0.8994509041432636,\n",
       "                    0.8983643378642565, 0.8977933059445257, 0.8986760960320054,\n",
       "                    0.8987868016493318, 0.898630404652633, 0.8990587991082966,\n",
       "                    0.8977055486170856, 0.8982767957911012, 0.8990314105794522,\n",
       "                    0.8988010009627124, 0.892342452316533, 0.8985296658204617,\n",
       "                    0.8985753202774126, 0.8982469303360551],\n",
       "              'yaxis': 'y9'},\n",
       "             {'marker': {'color': [0, 1, 2, 3, 4, 5, 6, 7, 8, 9, 10, 11, 12, 13,\n",
       "                                   14, 15, 16, 17, 18, 19, 20, 21, 22, 23, 24, 25,\n",
       "                                   26, 27, 28, 29, 30, 31, 32, 33, 34, 35, 36, 37,\n",
       "                                   38, 39, 40, 41, 42, 43, 44, 45, 46, 47, 48, 49],\n",
       "                         'colorbar': {'title': {'text': 'Trial'}, 'x': 1.0, 'xpad': 40},\n",
       "                         'colorscale': [[0.0, 'rgb(247,251,255)'], [0.125,\n",
       "                                        'rgb(222,235,247)'], [0.25,\n",
       "                                        'rgb(198,219,239)'], [0.375,\n",
       "                                        'rgb(158,202,225)'], [0.5,\n",
       "                                        'rgb(107,174,214)'], [0.625,\n",
       "                                        'rgb(66,146,198)'], [0.75,\n",
       "                                        'rgb(33,113,181)'], [0.875,\n",
       "                                        'rgb(8,81,156)'], [1.0, 'rgb(8,48,107)']],\n",
       "                         'line': {'color': 'Grey', 'width': 0.5},\n",
       "                         'showscale': False},\n",
       "              'mode': 'markers',\n",
       "              'showlegend': False,\n",
       "              'type': 'scatter',\n",
       "              'x': [0.5735842293464366, 0.5743634611942869, 0.7426580446771414,\n",
       "                    0.9446370161323757, 0.7165061023129227, 0.40986424851226594,\n",
       "                    0.90515334194296, 0.8863926177734158, 0.5801440597902469,\n",
       "                    0.49126362083778874, 0.9930097583851182, 0.8562523795233219,\n",
       "                    0.9991756637855137, 0.8321557332392471, 0.9127447775991822,\n",
       "                    0.7912670914097004, 0.8959213478619301, 0.788488815637441,\n",
       "                    0.9479574645325319, 0.8509290237343315, 0.9519485626720671,\n",
       "                    0.8968259716298066, 0.9341516846636849, 0.9412684166978857,\n",
       "                    0.9438802417402412, 0.9704291974896981, 0.9875374900160718,\n",
       "                    0.9922927799932719, 0.9864043175366682, 0.9835728724350394,\n",
       "                    0.648450021181294, 0.9841445187575537, 0.9971606394426918,\n",
       "                    0.9982269876052932, 0.9585716697358162, 0.9262652849214809,\n",
       "                    0.9208753272423289, 0.8738562277682995, 0.9197842287077415,\n",
       "                    0.9478889261919075, 0.8768425311018467, 0.9665737419598004,\n",
       "                    0.9662423181775547, 0.9102921014239225, 0.9685889514331126,\n",
       "                    0.9337920285757986, 0.9959565031355933, 0.9639105898123103,\n",
       "                    0.9190272145990579, 0.8868755546830334],\n",
       "              'xaxis': 'x10',\n",
       "              'y': [0.8976615929369792, 0.8966261881554763, 0.8982214007928886,\n",
       "                    0.8987174853477948, 0.8818325066683194, 0.897534023419957,\n",
       "                    0.8985774198661184, 0.8986080097019102, 0.887159296855048,\n",
       "                    0.8936672005128031, 0.8945230031784931, 0.8972879614422338,\n",
       "                    0.8984729423544763, 0.8964949622316937, 0.8911730286742633,\n",
       "                    0.8963732126328785, 0.8965183888756728, 0.8975048015215599,\n",
       "                    0.8967278618775812, 0.8980026926138566, 0.8978076101347702,\n",
       "                    0.8984902461330188, 0.8987493979431006, 0.8989047166905181,\n",
       "                    0.8987330900355062, 0.8991528029361504, 0.8990594591389892,\n",
       "                    0.8994552925247178, 0.8990467314070756, 0.8988906659024906,\n",
       "                    0.897815236995943, 0.8991853884829194, 0.8992267700931317,\n",
       "                    0.8987873851258157, 0.8993538022944699, 0.8994509041432636,\n",
       "                    0.8983643378642565, 0.8977933059445257, 0.8986760960320054,\n",
       "                    0.8987868016493318, 0.898630404652633, 0.8990587991082966,\n",
       "                    0.8977055486170856, 0.8982767957911012, 0.8990314105794522,\n",
       "                    0.8988010009627124, 0.892342452316533, 0.8985296658204617,\n",
       "                    0.8985753202774126, 0.8982469303360551],\n",
       "              'yaxis': 'y10'},\n",
       "             {'marker': {'color': [0, 1, 2, 3, 4, 5, 6, 7, 8, 9, 10, 11, 12, 13,\n",
       "                                   14, 15, 16, 17, 18, 19, 20, 21, 22, 23, 24, 25,\n",
       "                                   26, 27, 28, 29, 30, 31, 32, 33, 34, 35, 36, 37,\n",
       "                                   38, 39, 40, 41, 42, 43, 44, 45, 46, 47, 48, 49],\n",
       "                         'colorbar': {'title': {'text': 'Trial'}, 'x': 1.0, 'xpad': 40},\n",
       "                         'colorscale': [[0.0, 'rgb(247,251,255)'], [0.125,\n",
       "                                        'rgb(222,235,247)'], [0.25,\n",
       "                                        'rgb(198,219,239)'], [0.375,\n",
       "                                        'rgb(158,202,225)'], [0.5,\n",
       "                                        'rgb(107,174,214)'], [0.625,\n",
       "                                        'rgb(66,146,198)'], [0.75,\n",
       "                                        'rgb(33,113,181)'], [0.875,\n",
       "                                        'rgb(8,81,156)'], [1.0, 'rgb(8,48,107)']],\n",
       "                         'line': {'color': 'Grey', 'width': 0.5},\n",
       "                         'showscale': False},\n",
       "              'mode': 'markers',\n",
       "              'showlegend': False,\n",
       "              'type': 'scatter',\n",
       "              'x': [0.11437356348065236, 0.11051818217157083, 0.06790095374800148,\n",
       "                    0.07219186526287785, 0.13687523100932564, 0.4363296060006035,\n",
       "                    0.04554516983519197, 0.19815317905163377, 0.07176155987511251,\n",
       "                    0.16041430704982373, 0.0014627254269813927, 0.2550300114562798,\n",
       "                    0.22970491341523516, 0.21139730758120326, 0.3034138106938993,\n",
       "                    0.0005932108084396037, 0.1775422344966835, 0.3054492390417288,\n",
       "                    0.1754157801332694, 0.10953132131572077, 0.05956400595890412,\n",
       "                    0.048851484568817834, 0.01977383586952872,\n",
       "                    0.0023506708161049536, 0.027092557483141287,\n",
       "                    0.0017381095999524946, 0.007794799642996427,\n",
       "                    0.010366800790489683, 0.09386861232518227, 0.03542968344413755,\n",
       "                    0.13305109498878548, 0.08908266123476247, 0.08841442840490749,\n",
       "                    0.08542705842861137, 0.10425149052029462, 0.10856303266805119,\n",
       "                    0.11565101936008973, 0.052141807634959195, 0.1314703390078077,\n",
       "                    0.07121714887472244, 0.03660899028508302, 0.10018122671768033,\n",
       "                    0.08168056325516038, 0.14173213510557486, 0.1070052168739652,\n",
       "                    0.06812516156406354, 0.04209048636575936, 0.09062663099129781,\n",
       "                    0.1577596296178525, 0.06083630702285618],\n",
       "              'xaxis': 'x11',\n",
       "              'y': [0.8976615929369792, 0.8966261881554763, 0.8982214007928886,\n",
       "                    0.8987174853477948, 0.8818325066683194, 0.897534023419957,\n",
       "                    0.8985774198661184, 0.8986080097019102, 0.887159296855048,\n",
       "                    0.8936672005128031, 0.8945230031784931, 0.8972879614422338,\n",
       "                    0.8984729423544763, 0.8964949622316937, 0.8911730286742633,\n",
       "                    0.8963732126328785, 0.8965183888756728, 0.8975048015215599,\n",
       "                    0.8967278618775812, 0.8980026926138566, 0.8978076101347702,\n",
       "                    0.8984902461330188, 0.8987493979431006, 0.8989047166905181,\n",
       "                    0.8987330900355062, 0.8991528029361504, 0.8990594591389892,\n",
       "                    0.8994552925247178, 0.8990467314070756, 0.8988906659024906,\n",
       "                    0.897815236995943, 0.8991853884829194, 0.8992267700931317,\n",
       "                    0.8987873851258157, 0.8993538022944699, 0.8994509041432636,\n",
       "                    0.8983643378642565, 0.8977933059445257, 0.8986760960320054,\n",
       "                    0.8987868016493318, 0.898630404652633, 0.8990587991082966,\n",
       "                    0.8977055486170856, 0.8982767957911012, 0.8990314105794522,\n",
       "                    0.8988010009627124, 0.892342452316533, 0.8985296658204617,\n",
       "                    0.8985753202774126, 0.8982469303360551],\n",
       "              'yaxis': 'y11'},\n",
       "             {'marker': {'color': [0, 1, 2, 3, 4, 5, 6, 7, 8, 9, 10, 11, 12, 13,\n",
       "                                   14, 15, 16, 17, 18, 19, 20, 21, 22, 23, 24, 25,\n",
       "                                   26, 27, 28, 29, 30, 31, 32, 33, 34, 35, 36, 37,\n",
       "                                   38, 39, 40, 41, 42, 43, 44, 45, 46, 47, 48, 49],\n",
       "                         'colorbar': {'title': {'text': 'Trial'}, 'x': 1.0, 'xpad': 40},\n",
       "                         'colorscale': [[0.0, 'rgb(247,251,255)'], [0.125,\n",
       "                                        'rgb(222,235,247)'], [0.25,\n",
       "                                        'rgb(198,219,239)'], [0.375,\n",
       "                                        'rgb(158,202,225)'], [0.5,\n",
       "                                        'rgb(107,174,214)'], [0.625,\n",
       "                                        'rgb(66,146,198)'], [0.75,\n",
       "                                        'rgb(33,113,181)'], [0.875,\n",
       "                                        'rgb(8,81,156)'], [1.0, 'rgb(8,48,107)']],\n",
       "                         'line': {'color': 'Grey', 'width': 0.5},\n",
       "                         'showscale': False},\n",
       "              'mode': 'markers',\n",
       "              'showlegend': False,\n",
       "              'type': 'scatter',\n",
       "              'x': [0.6211258812680587, 0.49422047366117405, 0.8379148446766773,\n",
       "                    0.44387396956238967, 0.6261806755914899, 0.6147857641308284,\n",
       "                    0.6484974233209327, 0.833078935363545, 0.9953892710941705,\n",
       "                    0.8615891105655572, 0.40333713278145095, 0.7670268396139284,\n",
       "                    0.4999931561626756, 0.7425442048193328, 0.7143358680012887,\n",
       "                    0.530883645689775, 0.4490070999197131, 0.5631533070249285,\n",
       "                    0.42655445579907575, 0.5808290030165913, 0.6819593402033362,\n",
       "                    0.4784883454449532, 0.6685368528216983, 0.5386484546240736,\n",
       "                    0.5383737091095854, 0.5412615726293593, 0.5903898690864483,\n",
       "                    0.5713199333429264, 0.5856004552782371, 0.6041995723921443,\n",
       "                    0.6422764854026342, 0.584169613626593, 0.5674708170478602,\n",
       "                    0.5104256869165641, 0.5602648470223995, 0.5711303732615067,\n",
       "                    0.485127609437098, 0.6189294198972598, 0.5538266932835475,\n",
       "                    0.6253685365052845, 0.5135737671733883, 0.5723885621747156,\n",
       "                    0.5928810352216829, 0.6488389334436329, 0.5733805198071419,\n",
       "                    0.6118402492974614, 0.47174494512811416, 0.5072073194835502,\n",
       "                    0.552161113707136, 0.5276187257419002],\n",
       "              'xaxis': 'x12',\n",
       "              'y': [0.8976615929369792, 0.8966261881554763, 0.8982214007928886,\n",
       "                    0.8987174853477948, 0.8818325066683194, 0.897534023419957,\n",
       "                    0.8985774198661184, 0.8986080097019102, 0.887159296855048,\n",
       "                    0.8936672005128031, 0.8945230031784931, 0.8972879614422338,\n",
       "                    0.8984729423544763, 0.8964949622316937, 0.8911730286742633,\n",
       "                    0.8963732126328785, 0.8965183888756728, 0.8975048015215599,\n",
       "                    0.8967278618775812, 0.8980026926138566, 0.8978076101347702,\n",
       "                    0.8984902461330188, 0.8987493979431006, 0.8989047166905181,\n",
       "                    0.8987330900355062, 0.8991528029361504, 0.8990594591389892,\n",
       "                    0.8994552925247178, 0.8990467314070756, 0.8988906659024906,\n",
       "                    0.897815236995943, 0.8991853884829194, 0.8992267700931317,\n",
       "                    0.8987873851258157, 0.8993538022944699, 0.8994509041432636,\n",
       "                    0.8983643378642565, 0.8977933059445257, 0.8986760960320054,\n",
       "                    0.8987868016493318, 0.898630404652633, 0.8990587991082966,\n",
       "                    0.8977055486170856, 0.8982767957911012, 0.8990314105794522,\n",
       "                    0.8988010009627124, 0.892342452316533, 0.8985296658204617,\n",
       "                    0.8985753202774126, 0.8982469303360551],\n",
       "              'yaxis': 'y12'}],\n",
       "    'layout': {'template': '...',\n",
       "               'title': {'text': 'Slice Plot'},\n",
       "               'width': 3600,\n",
       "               'xaxis': {'anchor': 'y',\n",
       "                         'categoryarray': [gbdt, dart],\n",
       "                         'categoryorder': 'array',\n",
       "                         'domain': [0.0, 0.06805555555555555],\n",
       "                         'title': {'text': 'boosting'},\n",
       "                         'type': 'category'},\n",
       "               'xaxis10': {'anchor': 'y10', 'domain': [0.7625, 0.8305555555555555], 'title': {'text': 'reg_alpha'}},\n",
       "               'xaxis11': {'anchor': 'y11',\n",
       "                           'domain': [0.8472222222222221, 0.9152777777777776],\n",
       "                           'title': {'text': 'reg_lambda'}},\n",
       "               'xaxis12': {'anchor': 'y12',\n",
       "                           'domain': [0.9319444444444444, 0.9999999999999999],\n",
       "                           'title': {'text': 'subsample'}},\n",
       "               'xaxis2': {'anchor': 'y2',\n",
       "                          'domain': [0.08472222222222221, 0.15277777777777776],\n",
       "                          'title': {'text': 'colsample_bytree'}},\n",
       "               'xaxis3': {'anchor': 'y3', 'domain': [0.16944444444444443, 0.2375], 'title': {'text': 'learning_rate'}},\n",
       "               'xaxis4': {'anchor': 'y4',\n",
       "                          'domain': [0.25416666666666665, 0.3222222222222222],\n",
       "                          'title': {'text': 'max_depth'}},\n",
       "               'xaxis5': {'anchor': 'y5',\n",
       "                          'domain': [0.33888888888888885, 0.4069444444444444],\n",
       "                          'title': {'text': 'min_child_samples'}},\n",
       "               'xaxis6': {'anchor': 'y6',\n",
       "                          'domain': [0.42361111111111105, 0.4916666666666666],\n",
       "                          'title': {'text': 'min_child_weight'}},\n",
       "               'xaxis7': {'anchor': 'y7',\n",
       "                          'domain': [0.5083333333333333, 0.5763888888888888],\n",
       "                          'title': {'text': 'min_split_gain'}},\n",
       "               'xaxis8': {'anchor': 'y8',\n",
       "                          'domain': [0.5930555555555554, 0.661111111111111],\n",
       "                          'title': {'text': 'n_estimators'}},\n",
       "               'xaxis9': {'anchor': 'y9',\n",
       "                          'domain': [0.6777777777777777, 0.7458333333333332],\n",
       "                          'title': {'text': 'num_leaves'}},\n",
       "               'yaxis': {'anchor': 'x', 'domain': [0.0, 1.0], 'title': {'text': 'Objective Value'}},\n",
       "               'yaxis10': {'anchor': 'x10', 'domain': [0.0, 1.0], 'matches': 'y', 'showticklabels': False},\n",
       "               'yaxis11': {'anchor': 'x11', 'domain': [0.0, 1.0], 'matches': 'y', 'showticklabels': False},\n",
       "               'yaxis12': {'anchor': 'x12', 'domain': [0.0, 1.0], 'matches': 'y', 'showticklabels': False},\n",
       "               'yaxis2': {'anchor': 'x2', 'domain': [0.0, 1.0], 'matches': 'y', 'showticklabels': False},\n",
       "               'yaxis3': {'anchor': 'x3', 'domain': [0.0, 1.0], 'matches': 'y', 'showticklabels': False},\n",
       "               'yaxis4': {'anchor': 'x4', 'domain': [0.0, 1.0], 'matches': 'y', 'showticklabels': False},\n",
       "               'yaxis5': {'anchor': 'x5', 'domain': [0.0, 1.0], 'matches': 'y', 'showticklabels': False},\n",
       "               'yaxis6': {'anchor': 'x6', 'domain': [0.0, 1.0], 'matches': 'y', 'showticklabels': False},\n",
       "               'yaxis7': {'anchor': 'x7', 'domain': [0.0, 1.0], 'matches': 'y', 'showticklabels': False},\n",
       "               'yaxis8': {'anchor': 'x8', 'domain': [0.0, 1.0], 'matches': 'y', 'showticklabels': False},\n",
       "               'yaxis9': {'anchor': 'x9', 'domain': [0.0, 1.0], 'matches': 'y', 'showticklabels': False}}\n",
       "})"
      ]
     },
     "execution_count": 22,
     "metadata": {},
     "output_type": "execute_result"
    }
   ],
   "source": [
    "optuna.visualization.plot_slice(study)"
   ]
  },
  {
   "cell_type": "code",
   "execution_count": 23,
   "metadata": {},
   "outputs": [
    {
     "ename": "ValueError",
     "evalue": "Mime type rendering requires nbformat>=4.2.0 but it is not installed",
     "output_type": "error",
     "traceback": [
      "\u001b[1;31m---------------------------------------------------------------------------\u001b[0m",
      "\u001b[1;31mValueError\u001b[0m                                Traceback (most recent call last)",
      "File \u001b[1;32mc:\\Users\\Adeniyi Babalola\\AppData\\Local\\Programs\\Python\\Python310\\lib\\site-packages\\IPython\\core\\formatters.py:921\u001b[0m, in \u001b[0;36mIPythonDisplayFormatter.__call__\u001b[1;34m(self, obj)\u001b[0m\n\u001b[0;32m    919\u001b[0m method \u001b[38;5;241m=\u001b[39m get_real_method(obj, \u001b[38;5;28mself\u001b[39m\u001b[38;5;241m.\u001b[39mprint_method)\n\u001b[0;32m    920\u001b[0m \u001b[38;5;28;01mif\u001b[39;00m method \u001b[38;5;129;01mis\u001b[39;00m \u001b[38;5;129;01mnot\u001b[39;00m \u001b[38;5;28;01mNone\u001b[39;00m:\n\u001b[1;32m--> 921\u001b[0m     \u001b[43mmethod\u001b[49m\u001b[43m(\u001b[49m\u001b[43m)\u001b[49m\n\u001b[0;32m    922\u001b[0m     \u001b[38;5;28;01mreturn\u001b[39;00m \u001b[38;5;28;01mTrue\u001b[39;00m\n",
      "File \u001b[1;32mc:\\Users\\Adeniyi Babalola\\AppData\\Local\\Programs\\Python\\Python310\\lib\\site-packages\\plotly\\basedatatypes.py:834\u001b[0m, in \u001b[0;36mBaseFigure._ipython_display_\u001b[1;34m(self)\u001b[0m\n\u001b[0;32m    831\u001b[0m \u001b[38;5;28;01mimport\u001b[39;00m \u001b[38;5;21;01mplotly\u001b[39;00m\u001b[38;5;21;01m.\u001b[39;00m\u001b[38;5;21;01mio\u001b[39;00m \u001b[38;5;28;01mas\u001b[39;00m \u001b[38;5;21;01mpio\u001b[39;00m\n\u001b[0;32m    833\u001b[0m \u001b[38;5;28;01mif\u001b[39;00m pio\u001b[38;5;241m.\u001b[39mrenderers\u001b[38;5;241m.\u001b[39mrender_on_display \u001b[38;5;129;01mand\u001b[39;00m pio\u001b[38;5;241m.\u001b[39mrenderers\u001b[38;5;241m.\u001b[39mdefault:\n\u001b[1;32m--> 834\u001b[0m     \u001b[43mpio\u001b[49m\u001b[38;5;241;43m.\u001b[39;49m\u001b[43mshow\u001b[49m\u001b[43m(\u001b[49m\u001b[38;5;28;43mself\u001b[39;49m\u001b[43m)\u001b[49m\n\u001b[0;32m    835\u001b[0m \u001b[38;5;28;01melse\u001b[39;00m:\n\u001b[0;32m    836\u001b[0m     \u001b[38;5;28mprint\u001b[39m(\u001b[38;5;28mrepr\u001b[39m(\u001b[38;5;28mself\u001b[39m))\n",
      "File \u001b[1;32mc:\\Users\\Adeniyi Babalola\\AppData\\Local\\Programs\\Python\\Python310\\lib\\site-packages\\plotly\\io\\_renderers.py:396\u001b[0m, in \u001b[0;36mshow\u001b[1;34m(fig, renderer, validate, **kwargs)\u001b[0m\n\u001b[0;32m    391\u001b[0m         \u001b[38;5;28;01mraise\u001b[39;00m \u001b[38;5;167;01mValueError\u001b[39;00m(\n\u001b[0;32m    392\u001b[0m             \u001b[38;5;124m\"\u001b[39m\u001b[38;5;124mMime type rendering requires ipython but it is not installed\u001b[39m\u001b[38;5;124m\"\u001b[39m\n\u001b[0;32m    393\u001b[0m         )\n\u001b[0;32m    395\u001b[0m     \u001b[38;5;28;01mif\u001b[39;00m \u001b[38;5;129;01mnot\u001b[39;00m nbformat \u001b[38;5;129;01mor\u001b[39;00m Version(nbformat\u001b[38;5;241m.\u001b[39m__version__) \u001b[38;5;241m<\u001b[39m Version(\u001b[38;5;124m\"\u001b[39m\u001b[38;5;124m4.2.0\u001b[39m\u001b[38;5;124m\"\u001b[39m):\n\u001b[1;32m--> 396\u001b[0m         \u001b[38;5;28;01mraise\u001b[39;00m \u001b[38;5;167;01mValueError\u001b[39;00m(\n\u001b[0;32m    397\u001b[0m             \u001b[38;5;124m\"\u001b[39m\u001b[38;5;124mMime type rendering requires nbformat>=4.2.0 but it is not installed\u001b[39m\u001b[38;5;124m\"\u001b[39m\n\u001b[0;32m    398\u001b[0m         )\n\u001b[0;32m    400\u001b[0m     ipython_display\u001b[38;5;241m.\u001b[39mdisplay(bundle, raw\u001b[38;5;241m=\u001b[39m\u001b[38;5;28;01mTrue\u001b[39;00m)\n\u001b[0;32m    402\u001b[0m \u001b[38;5;66;03m# external renderers\u001b[39;00m\n",
      "\u001b[1;31mValueError\u001b[0m: Mime type rendering requires nbformat>=4.2.0 but it is not installed"
     ]
    },
    {
     "data": {
      "application/vnd.plotly.v1+json": {
       "config": {
        "plotlyServerURL": "https://plot.ly"
       },
       "data": [
        {
         "dimensions": [
          {
           "label": "Objective Value",
           "range": [
            0.8818325066683194,
            0.8994552925247178
           ],
           "values": [
            0.8976615929369792,
            0.8966261881554763,
            0.8982214007928886,
            0.8987174853477948,
            0.8818325066683194,
            0.897534023419957,
            0.8985774198661184,
            0.8986080097019102,
            0.887159296855048,
            0.8936672005128031,
            0.8945230031784931,
            0.8972879614422338,
            0.8984729423544763,
            0.8964949622316937,
            0.8911730286742633,
            0.8963732126328785,
            0.8965183888756728,
            0.8975048015215599,
            0.8967278618775812,
            0.8980026926138566,
            0.8978076101347702,
            0.8984902461330188,
            0.8987493979431006,
            0.8989047166905181,
            0.8987330900355062,
            0.8991528029361504,
            0.8990594591389892,
            0.8994552925247178,
            0.8990467314070756,
            0.8988906659024906,
            0.897815236995943,
            0.8991853884829194,
            0.8992267700931317,
            0.8987873851258157,
            0.8993538022944699,
            0.8994509041432636,
            0.8983643378642565,
            0.8977933059445257,
            0.8986760960320054,
            0.8987868016493318,
            0.898630404652633,
            0.8990587991082966,
            0.8977055486170856,
            0.8982767957911012,
            0.8990314105794522,
            0.8988010009627124,
            0.892342452316533,
            0.8985296658204617,
            0.8985753202774126,
            0.8982469303360551
           ]
          },
          {
           "label": "boosting",
           "range": [
            0,
            1
           ],
           "ticktext": [
            "dart",
            "gbdt"
           ],
           "tickvals": [
            0,
            1
           ],
           "values": [
            0,
            0,
            0,
            0,
            1,
            0,
            0,
            1,
            1,
            1,
            0,
            1,
            1,
            1,
            0,
            1,
            1,
            0,
            1,
            0,
            1,
            0,
            0,
            0,
            0,
            0,
            0,
            0,
            0,
            0,
            0,
            0,
            0,
            0,
            0,
            0,
            0,
            0,
            0,
            0,
            0,
            0,
            0,
            0,
            0,
            0,
            0,
            0,
            0,
            0
           ]
          },
          {
           "label": "colsample_bytree",
           "range": [
            0.20329391048162448,
            0.7939115494329188
           ],
           "values": [
            0.5378419005311236,
            0.7633258782246661,
            0.6225986896922069,
            0.7324522149754977,
            0.3669827139466058,
            0.44187806666297097,
            0.4182180560187565,
            0.49103861352152534,
            0.4707365344868875,
            0.5614196201481262,
            0.2257682579940702,
            0.7939115494329188,
            0.6544504900487966,
            0.6932086292443909,
            0.5798644088524469,
            0.7066902503737962,
            0.5175944912970876,
            0.624564028373513,
            0.7448936338617835,
            0.7145512719971647,
            0.5872491890757702,
            0.4221382857234409,
            0.48484963119576613,
            0.48349464568217704,
            0.5156526723274495,
            0.5145767935594828,
            0.37629088828852225,
            0.35885033102300595,
            0.34072199927957314,
            0.36872031177619546,
            0.2919845014898368,
            0.3499538399048444,
            0.31879290379484265,
            0.28225447659525515,
            0.3133191434154407,
            0.30458357396024127,
            0.30468627594817455,
            0.24474884453675594,
            0.20329391048162448,
            0.26420570661301007,
            0.30500110251681095,
            0.33598684594381467,
            0.39520013201931314,
            0.33032936476633834,
            0.33775484324499977,
            0.2693571841887973,
            0.44694054312219544,
            0.39636321320559254,
            0.24545945640976963,
            0.3067218948920155
           ]
          },
          {
           "label": "learning_rate",
           "range": [
            0.0006222148418612607,
            0.49571488289872667
           ],
           "values": [
            0.19389439422812849,
            0.45924154140117035,
            0.4476008706853442,
            0.13981934622951592,
            0.37207035933089583,
            0.29121658214283697,
            0.4371242239384264,
            0.029303267515977036,
            0.35225663091386056,
            0.3915003819879576,
            0.1666069317054042,
            0.027150646072599455,
            0.038123133769189035,
            0.09650817074143583,
            0.0006222148418612607,
            0.10431601462261153,
            0.09798935645717084,
            0.22055022750758613,
            0.15124344606778953,
            0.2621016108218236,
            0.0657466880434385,
            0.49571488289872667,
            0.13622662850391595,
            0.1375252050729044,
            0.15467943351351277,
            0.1923329726142723,
            0.20666559602096782,
            0.21902422874173558,
            0.22317939765972544,
            0.1956899275406601,
            0.2723108704039862,
            0.2180631216460072,
            0.22822376379802833,
            0.22903726124769525,
            0.17375929988842234,
            0.2452438352693344,
            0.29370716642793004,
            0.2455194047102867,
            0.18583939400966126,
            0.2947288310781317,
            0.24036716072805636,
            0.2615548315150538,
            0.17851068113967566,
            0.22023467379928907,
            0.20565802118807636,
            0.16886261936789215,
            0.2822556208250799,
            0.3166378245189322,
            0.24522484941538744,
            0.2062682517722446
           ]
          },
          {
           "label": "max_depth",
           "range": [
            -1,
            64
           ],
           "values": [
            5,
            15,
            46,
            10,
            19,
            30,
            8,
            25,
            43,
            48,
            64,
            27,
            -1,
            19,
            36,
            14,
            26,
            37,
            6,
            22,
            56,
            10,
            -1,
            0,
            -1,
            0,
            2,
            3,
            4,
            4,
            13,
            4,
            4,
            9,
            5,
            18,
            18,
            12,
            17,
            8,
            15,
            4,
            7,
            11,
            21,
            4,
            7,
            15,
            23,
            34
           ]
          },
          {
           "label": "min_child_samples",
           "range": [
            5,
            97
           ],
           "values": [
            46,
            75,
            11,
            48,
            61,
            51,
            49,
            19,
            60,
            31,
            84,
            12,
            28,
            30,
            97,
            24,
            39,
            17,
            5,
            68,
            40,
            56,
            42,
            39,
            40,
            40,
            36,
            34,
            33,
            21,
            32,
            34,
            24,
            24,
            45,
            47,
            55,
            46,
            69,
            47,
            60,
            46,
            52,
            27,
            15,
            36,
            44,
            26,
            35,
            20
           ]
          },
          {
           "label": "min_child_weight",
           "range": [
            0.049716580312128444,
            9.712332134025896
           ],
           "values": [
            9.712332134025896,
            9.533023304028491,
            6.746427625701935,
            0.6236654874810934,
            2.1919343257410158,
            2.1407526004092485,
            7.060386264543439,
            0.40908264251314624,
            2.3909956071399527,
            1.1167043841253457,
            3.7783324577352184,
            0.2741648257655216,
            0.23362483240516022,
            3.8485386398292163,
            0.049716580312128444,
            1.6824004663398835,
            2.983058649947171,
            1.2312165717061063,
            1.1140657876953957,
            3.6468525459148804,
            4.423779032991213,
            5.730670773916994,
            5.4666671486815535,
            2.950196257861971,
            2.860486573731021,
            3.2957480998415862,
            5.3092071064587305,
            4.768878441321062,
            5.025595976566911,
            4.612103534613179,
            6.02154621605445,
            4.913585377751683,
            4.455595555553924,
            4.441994518864866,
            6.388109299687041,
            7.510388082773024,
            7.832397211786538,
            6.116516911590818,
            7.909705667388043,
            6.383688316066618,
            6.822353929564878,
            4.96776860156024,
            5.550442106074862,
            6.537246202249208,
            7.322925610079759,
            8.84240124452796,
            6.0429082884113186,
            4.830479911003167,
            4.127328017599583,
            5.052902444369257
           ]
          },
          {
           "label": "min_split_gain",
           "range": [
            0.5086730611030881,
            0.9868202210928749
           ],
           "values": [
            0.5086730611030881,
            0.5840019466567259,
            0.9245551782504706,
            0.9478690581585507,
            0.6721676772580896,
            0.6452745803860633,
            0.9116941448755507,
            0.5306766521238373,
            0.9862463341635224,
            0.7793870451468459,
            0.8252712390558463,
            0.7285642300509503,
            0.5163800238379865,
            0.8520905835455335,
            0.722648789570837,
            0.5937436788218478,
            0.7767532311139584,
            0.6804629085265281,
            0.9868202210928749,
            0.8295012700074839,
            0.5590994924345425,
            0.913429370062523,
            0.9080870625224224,
            0.9513310084268437,
            0.9520669423491084,
            0.8700728530494674,
            0.8523479620898352,
            0.8804385788228134,
            0.868363227663812,
            0.8826793558673016,
            0.8262076969419603,
            0.874981948036766,
            0.8716112325358999,
            0.8678668124637681,
            0.8962168611735738,
            0.8955023649991991,
            0.9386704139826458,
            0.8888154977140437,
            0.9076408674479064,
            0.938071009108372,
            0.971946025568226,
            0.8953961946013722,
            0.9216845323458457,
            0.8460525561035418,
            0.8059801903568848,
            0.8863653851761863,
            0.9194108417359608,
            0.8972616147335808,
            0.9670874353700755,
            0.8007943471477896
           ]
          },
          {
           "label": "n_estimators",
           "range": [
            108,
            998
           ],
           "values": [
            252,
            463,
            861,
            642,
            555,
            725,
            590,
            177,
            299,
            239,
            877,
            133,
            462,
            705,
            414,
            998,
            698,
            131,
            344,
            644,
            816,
            585,
            518,
            501,
            480,
            479,
            383,
            334,
            384,
            249,
            312,
            391,
            418,
            436,
            346,
            200,
            175,
            288,
            204,
            355,
            292,
            412,
            340,
            233,
            108,
            194,
            276,
            539,
            447,
            396
           ]
          },
          {
           "label": "num_leaves",
           "range": [
            2,
            147
           ],
           "values": [
            36,
            50,
            87,
            43,
            126,
            124,
            30,
            81,
            115,
            4,
            2,
            78,
            63,
            93,
            103,
            65,
            147,
            22,
            49,
            67,
            43,
            20,
            30,
            55,
            56,
            62,
            18,
            19,
            15,
            12,
            37,
            17,
            26,
            29,
            12,
            10,
            8,
            38,
            27,
            9,
            23,
            14,
            3,
            34,
            10,
            22,
            2,
            43,
            16,
            26
           ]
          },
          {
           "label": "reg_alpha",
           "range": [
            0.40986424851226594,
            0.9991756637855137
           ],
           "values": [
            0.5735842293464366,
            0.5743634611942869,
            0.7426580446771414,
            0.9446370161323757,
            0.7165061023129227,
            0.40986424851226594,
            0.90515334194296,
            0.8863926177734158,
            0.5801440597902469,
            0.49126362083778874,
            0.9930097583851182,
            0.8562523795233219,
            0.9991756637855137,
            0.8321557332392471,
            0.9127447775991822,
            0.7912670914097004,
            0.8959213478619301,
            0.788488815637441,
            0.9479574645325319,
            0.8509290237343315,
            0.9519485626720671,
            0.8968259716298066,
            0.9341516846636849,
            0.9412684166978857,
            0.9438802417402412,
            0.9704291974896981,
            0.9875374900160718,
            0.9922927799932719,
            0.9864043175366682,
            0.9835728724350394,
            0.648450021181294,
            0.9841445187575537,
            0.9971606394426918,
            0.9982269876052932,
            0.9585716697358162,
            0.9262652849214809,
            0.9208753272423289,
            0.8738562277682995,
            0.9197842287077415,
            0.9478889261919075,
            0.8768425311018467,
            0.9665737419598004,
            0.9662423181775547,
            0.9102921014239225,
            0.9685889514331126,
            0.9337920285757986,
            0.9959565031355933,
            0.9639105898123103,
            0.9190272145990579,
            0.8868755546830334
           ]
          },
          {
           "label": "reg_lambda",
           "range": [
            0.0005932108084396037,
            0.4363296060006035
           ],
           "values": [
            0.11437356348065236,
            0.11051818217157083,
            0.06790095374800148,
            0.07219186526287785,
            0.13687523100932564,
            0.4363296060006035,
            0.04554516983519197,
            0.19815317905163377,
            0.07176155987511251,
            0.16041430704982373,
            0.0014627254269813927,
            0.2550300114562798,
            0.22970491341523516,
            0.21139730758120326,
            0.3034138106938993,
            0.0005932108084396037,
            0.1775422344966835,
            0.3054492390417288,
            0.1754157801332694,
            0.10953132131572077,
            0.05956400595890412,
            0.048851484568817834,
            0.01977383586952872,
            0.0023506708161049536,
            0.027092557483141287,
            0.0017381095999524946,
            0.007794799642996427,
            0.010366800790489683,
            0.09386861232518227,
            0.03542968344413755,
            0.13305109498878548,
            0.08908266123476247,
            0.08841442840490749,
            0.08542705842861137,
            0.10425149052029462,
            0.10856303266805119,
            0.11565101936008973,
            0.052141807634959195,
            0.1314703390078077,
            0.07121714887472244,
            0.03660899028508302,
            0.10018122671768033,
            0.08168056325516038,
            0.14173213510557486,
            0.1070052168739652,
            0.06812516156406354,
            0.04209048636575936,
            0.09062663099129781,
            0.1577596296178525,
            0.06083630702285618
           ]
          },
          {
           "label": "subsample",
           "range": [
            0.40333713278145095,
            0.9953892710941705
           ],
           "values": [
            0.6211258812680587,
            0.49422047366117405,
            0.8379148446766773,
            0.44387396956238967,
            0.6261806755914899,
            0.6147857641308284,
            0.6484974233209327,
            0.833078935363545,
            0.9953892710941705,
            0.8615891105655572,
            0.40333713278145095,
            0.7670268396139284,
            0.4999931561626756,
            0.7425442048193328,
            0.7143358680012887,
            0.530883645689775,
            0.4490070999197131,
            0.5631533070249285,
            0.42655445579907575,
            0.5808290030165913,
            0.6819593402033362,
            0.4784883454449532,
            0.6685368528216983,
            0.5386484546240736,
            0.5383737091095854,
            0.5412615726293593,
            0.5903898690864483,
            0.5713199333429264,
            0.5856004552782371,
            0.6041995723921443,
            0.6422764854026342,
            0.584169613626593,
            0.5674708170478602,
            0.5104256869165641,
            0.5602648470223995,
            0.5711303732615067,
            0.485127609437098,
            0.6189294198972598,
            0.5538266932835475,
            0.6253685365052845,
            0.5135737671733883,
            0.5723885621747156,
            0.5928810352216829,
            0.6488389334436329,
            0.5733805198071419,
            0.6118402492974614,
            0.47174494512811416,
            0.5072073194835502,
            0.552161113707136,
            0.5276187257419002
           ]
          }
         ],
         "labelangle": 30,
         "labelside": "bottom",
         "line": {
          "color": [
           0.8976615929369792,
           0.8966261881554763,
           0.8982214007928886,
           0.8987174853477948,
           0.8818325066683194,
           0.897534023419957,
           0.8985774198661184,
           0.8986080097019102,
           0.887159296855048,
           0.8936672005128031,
           0.8945230031784931,
           0.8972879614422338,
           0.8984729423544763,
           0.8964949622316937,
           0.8911730286742633,
           0.8963732126328785,
           0.8965183888756728,
           0.8975048015215599,
           0.8967278618775812,
           0.8980026926138566,
           0.8978076101347702,
           0.8984902461330188,
           0.8987493979431006,
           0.8989047166905181,
           0.8987330900355062,
           0.8991528029361504,
           0.8990594591389892,
           0.8994552925247178,
           0.8990467314070756,
           0.8988906659024906,
           0.897815236995943,
           0.8991853884829194,
           0.8992267700931317,
           0.8987873851258157,
           0.8993538022944699,
           0.8994509041432636,
           0.8983643378642565,
           0.8977933059445257,
           0.8986760960320054,
           0.8987868016493318,
           0.898630404652633,
           0.8990587991082966,
           0.8977055486170856,
           0.8982767957911012,
           0.8990314105794522,
           0.8988010009627124,
           0.892342452316533,
           0.8985296658204617,
           0.8985753202774126,
           0.8982469303360551
          ],
          "colorbar": {
           "title": {
            "text": "Objective Value"
           }
          },
          "colorscale": [
           [
            0,
            "rgb(247,251,255)"
           ],
           [
            0.125,
            "rgb(222,235,247)"
           ],
           [
            0.25,
            "rgb(198,219,239)"
           ],
           [
            0.375,
            "rgb(158,202,225)"
           ],
           [
            0.5,
            "rgb(107,174,214)"
           ],
           [
            0.625,
            "rgb(66,146,198)"
           ],
           [
            0.75,
            "rgb(33,113,181)"
           ],
           [
            0.875,
            "rgb(8,81,156)"
           ],
           [
            1,
            "rgb(8,48,107)"
           ]
          ],
          "reversescale": false,
          "showscale": true
         },
         "type": "parcoords"
        }
       ],
       "layout": {
        "template": {
         "data": {
          "bar": [
           {
            "error_x": {
             "color": "#2a3f5f"
            },
            "error_y": {
             "color": "#2a3f5f"
            },
            "marker": {
             "line": {
              "color": "#E5ECF6",
              "width": 0.5
             },
             "pattern": {
              "fillmode": "overlay",
              "size": 10,
              "solidity": 0.2
             }
            },
            "type": "bar"
           }
          ],
          "barpolar": [
           {
            "marker": {
             "line": {
              "color": "#E5ECF6",
              "width": 0.5
             },
             "pattern": {
              "fillmode": "overlay",
              "size": 10,
              "solidity": 0.2
             }
            },
            "type": "barpolar"
           }
          ],
          "carpet": [
           {
            "aaxis": {
             "endlinecolor": "#2a3f5f",
             "gridcolor": "white",
             "linecolor": "white",
             "minorgridcolor": "white",
             "startlinecolor": "#2a3f5f"
            },
            "baxis": {
             "endlinecolor": "#2a3f5f",
             "gridcolor": "white",
             "linecolor": "white",
             "minorgridcolor": "white",
             "startlinecolor": "#2a3f5f"
            },
            "type": "carpet"
           }
          ],
          "choropleth": [
           {
            "colorbar": {
             "outlinewidth": 0,
             "ticks": ""
            },
            "type": "choropleth"
           }
          ],
          "contour": [
           {
            "colorbar": {
             "outlinewidth": 0,
             "ticks": ""
            },
            "colorscale": [
             [
              0,
              "#0d0887"
             ],
             [
              0.1111111111111111,
              "#46039f"
             ],
             [
              0.2222222222222222,
              "#7201a8"
             ],
             [
              0.3333333333333333,
              "#9c179e"
             ],
             [
              0.4444444444444444,
              "#bd3786"
             ],
             [
              0.5555555555555556,
              "#d8576b"
             ],
             [
              0.6666666666666666,
              "#ed7953"
             ],
             [
              0.7777777777777778,
              "#fb9f3a"
             ],
             [
              0.8888888888888888,
              "#fdca26"
             ],
             [
              1,
              "#f0f921"
             ]
            ],
            "type": "contour"
           }
          ],
          "contourcarpet": [
           {
            "colorbar": {
             "outlinewidth": 0,
             "ticks": ""
            },
            "type": "contourcarpet"
           }
          ],
          "heatmap": [
           {
            "colorbar": {
             "outlinewidth": 0,
             "ticks": ""
            },
            "colorscale": [
             [
              0,
              "#0d0887"
             ],
             [
              0.1111111111111111,
              "#46039f"
             ],
             [
              0.2222222222222222,
              "#7201a8"
             ],
             [
              0.3333333333333333,
              "#9c179e"
             ],
             [
              0.4444444444444444,
              "#bd3786"
             ],
             [
              0.5555555555555556,
              "#d8576b"
             ],
             [
              0.6666666666666666,
              "#ed7953"
             ],
             [
              0.7777777777777778,
              "#fb9f3a"
             ],
             [
              0.8888888888888888,
              "#fdca26"
             ],
             [
              1,
              "#f0f921"
             ]
            ],
            "type": "heatmap"
           }
          ],
          "heatmapgl": [
           {
            "colorbar": {
             "outlinewidth": 0,
             "ticks": ""
            },
            "colorscale": [
             [
              0,
              "#0d0887"
             ],
             [
              0.1111111111111111,
              "#46039f"
             ],
             [
              0.2222222222222222,
              "#7201a8"
             ],
             [
              0.3333333333333333,
              "#9c179e"
             ],
             [
              0.4444444444444444,
              "#bd3786"
             ],
             [
              0.5555555555555556,
              "#d8576b"
             ],
             [
              0.6666666666666666,
              "#ed7953"
             ],
             [
              0.7777777777777778,
              "#fb9f3a"
             ],
             [
              0.8888888888888888,
              "#fdca26"
             ],
             [
              1,
              "#f0f921"
             ]
            ],
            "type": "heatmapgl"
           }
          ],
          "histogram": [
           {
            "marker": {
             "pattern": {
              "fillmode": "overlay",
              "size": 10,
              "solidity": 0.2
             }
            },
            "type": "histogram"
           }
          ],
          "histogram2d": [
           {
            "colorbar": {
             "outlinewidth": 0,
             "ticks": ""
            },
            "colorscale": [
             [
              0,
              "#0d0887"
             ],
             [
              0.1111111111111111,
              "#46039f"
             ],
             [
              0.2222222222222222,
              "#7201a8"
             ],
             [
              0.3333333333333333,
              "#9c179e"
             ],
             [
              0.4444444444444444,
              "#bd3786"
             ],
             [
              0.5555555555555556,
              "#d8576b"
             ],
             [
              0.6666666666666666,
              "#ed7953"
             ],
             [
              0.7777777777777778,
              "#fb9f3a"
             ],
             [
              0.8888888888888888,
              "#fdca26"
             ],
             [
              1,
              "#f0f921"
             ]
            ],
            "type": "histogram2d"
           }
          ],
          "histogram2dcontour": [
           {
            "colorbar": {
             "outlinewidth": 0,
             "ticks": ""
            },
            "colorscale": [
             [
              0,
              "#0d0887"
             ],
             [
              0.1111111111111111,
              "#46039f"
             ],
             [
              0.2222222222222222,
              "#7201a8"
             ],
             [
              0.3333333333333333,
              "#9c179e"
             ],
             [
              0.4444444444444444,
              "#bd3786"
             ],
             [
              0.5555555555555556,
              "#d8576b"
             ],
             [
              0.6666666666666666,
              "#ed7953"
             ],
             [
              0.7777777777777778,
              "#fb9f3a"
             ],
             [
              0.8888888888888888,
              "#fdca26"
             ],
             [
              1,
              "#f0f921"
             ]
            ],
            "type": "histogram2dcontour"
           }
          ],
          "mesh3d": [
           {
            "colorbar": {
             "outlinewidth": 0,
             "ticks": ""
            },
            "type": "mesh3d"
           }
          ],
          "parcoords": [
           {
            "line": {
             "colorbar": {
              "outlinewidth": 0,
              "ticks": ""
             }
            },
            "type": "parcoords"
           }
          ],
          "pie": [
           {
            "automargin": true,
            "type": "pie"
           }
          ],
          "scatter": [
           {
            "fillpattern": {
             "fillmode": "overlay",
             "size": 10,
             "solidity": 0.2
            },
            "type": "scatter"
           }
          ],
          "scatter3d": [
           {
            "line": {
             "colorbar": {
              "outlinewidth": 0,
              "ticks": ""
             }
            },
            "marker": {
             "colorbar": {
              "outlinewidth": 0,
              "ticks": ""
             }
            },
            "type": "scatter3d"
           }
          ],
          "scattercarpet": [
           {
            "marker": {
             "colorbar": {
              "outlinewidth": 0,
              "ticks": ""
             }
            },
            "type": "scattercarpet"
           }
          ],
          "scattergeo": [
           {
            "marker": {
             "colorbar": {
              "outlinewidth": 0,
              "ticks": ""
             }
            },
            "type": "scattergeo"
           }
          ],
          "scattergl": [
           {
            "marker": {
             "colorbar": {
              "outlinewidth": 0,
              "ticks": ""
             }
            },
            "type": "scattergl"
           }
          ],
          "scattermapbox": [
           {
            "marker": {
             "colorbar": {
              "outlinewidth": 0,
              "ticks": ""
             }
            },
            "type": "scattermapbox"
           }
          ],
          "scatterpolar": [
           {
            "marker": {
             "colorbar": {
              "outlinewidth": 0,
              "ticks": ""
             }
            },
            "type": "scatterpolar"
           }
          ],
          "scatterpolargl": [
           {
            "marker": {
             "colorbar": {
              "outlinewidth": 0,
              "ticks": ""
             }
            },
            "type": "scatterpolargl"
           }
          ],
          "scatterternary": [
           {
            "marker": {
             "colorbar": {
              "outlinewidth": 0,
              "ticks": ""
             }
            },
            "type": "scatterternary"
           }
          ],
          "surface": [
           {
            "colorbar": {
             "outlinewidth": 0,
             "ticks": ""
            },
            "colorscale": [
             [
              0,
              "#0d0887"
             ],
             [
              0.1111111111111111,
              "#46039f"
             ],
             [
              0.2222222222222222,
              "#7201a8"
             ],
             [
              0.3333333333333333,
              "#9c179e"
             ],
             [
              0.4444444444444444,
              "#bd3786"
             ],
             [
              0.5555555555555556,
              "#d8576b"
             ],
             [
              0.6666666666666666,
              "#ed7953"
             ],
             [
              0.7777777777777778,
              "#fb9f3a"
             ],
             [
              0.8888888888888888,
              "#fdca26"
             ],
             [
              1,
              "#f0f921"
             ]
            ],
            "type": "surface"
           }
          ],
          "table": [
           {
            "cells": {
             "fill": {
              "color": "#EBF0F8"
             },
             "line": {
              "color": "white"
             }
            },
            "header": {
             "fill": {
              "color": "#C8D4E3"
             },
             "line": {
              "color": "white"
             }
            },
            "type": "table"
           }
          ]
         },
         "layout": {
          "annotationdefaults": {
           "arrowcolor": "#2a3f5f",
           "arrowhead": 0,
           "arrowwidth": 1
          },
          "autotypenumbers": "strict",
          "coloraxis": {
           "colorbar": {
            "outlinewidth": 0,
            "ticks": ""
           }
          },
          "colorscale": {
           "diverging": [
            [
             0,
             "#8e0152"
            ],
            [
             0.1,
             "#c51b7d"
            ],
            [
             0.2,
             "#de77ae"
            ],
            [
             0.3,
             "#f1b6da"
            ],
            [
             0.4,
             "#fde0ef"
            ],
            [
             0.5,
             "#f7f7f7"
            ],
            [
             0.6,
             "#e6f5d0"
            ],
            [
             0.7,
             "#b8e186"
            ],
            [
             0.8,
             "#7fbc41"
            ],
            [
             0.9,
             "#4d9221"
            ],
            [
             1,
             "#276419"
            ]
           ],
           "sequential": [
            [
             0,
             "#0d0887"
            ],
            [
             0.1111111111111111,
             "#46039f"
            ],
            [
             0.2222222222222222,
             "#7201a8"
            ],
            [
             0.3333333333333333,
             "#9c179e"
            ],
            [
             0.4444444444444444,
             "#bd3786"
            ],
            [
             0.5555555555555556,
             "#d8576b"
            ],
            [
             0.6666666666666666,
             "#ed7953"
            ],
            [
             0.7777777777777778,
             "#fb9f3a"
            ],
            [
             0.8888888888888888,
             "#fdca26"
            ],
            [
             1,
             "#f0f921"
            ]
           ],
           "sequentialminus": [
            [
             0,
             "#0d0887"
            ],
            [
             0.1111111111111111,
             "#46039f"
            ],
            [
             0.2222222222222222,
             "#7201a8"
            ],
            [
             0.3333333333333333,
             "#9c179e"
            ],
            [
             0.4444444444444444,
             "#bd3786"
            ],
            [
             0.5555555555555556,
             "#d8576b"
            ],
            [
             0.6666666666666666,
             "#ed7953"
            ],
            [
             0.7777777777777778,
             "#fb9f3a"
            ],
            [
             0.8888888888888888,
             "#fdca26"
            ],
            [
             1,
             "#f0f921"
            ]
           ]
          },
          "colorway": [
           "#636efa",
           "#EF553B",
           "#00cc96",
           "#ab63fa",
           "#FFA15A",
           "#19d3f3",
           "#FF6692",
           "#B6E880",
           "#FF97FF",
           "#FECB52"
          ],
          "font": {
           "color": "#2a3f5f"
          },
          "geo": {
           "bgcolor": "white",
           "lakecolor": "white",
           "landcolor": "#E5ECF6",
           "showlakes": true,
           "showland": true,
           "subunitcolor": "white"
          },
          "hoverlabel": {
           "align": "left"
          },
          "hovermode": "closest",
          "mapbox": {
           "style": "light"
          },
          "paper_bgcolor": "white",
          "plot_bgcolor": "#E5ECF6",
          "polar": {
           "angularaxis": {
            "gridcolor": "white",
            "linecolor": "white",
            "ticks": ""
           },
           "bgcolor": "#E5ECF6",
           "radialaxis": {
            "gridcolor": "white",
            "linecolor": "white",
            "ticks": ""
           }
          },
          "scene": {
           "xaxis": {
            "backgroundcolor": "#E5ECF6",
            "gridcolor": "white",
            "gridwidth": 2,
            "linecolor": "white",
            "showbackground": true,
            "ticks": "",
            "zerolinecolor": "white"
           },
           "yaxis": {
            "backgroundcolor": "#E5ECF6",
            "gridcolor": "white",
            "gridwidth": 2,
            "linecolor": "white",
            "showbackground": true,
            "ticks": "",
            "zerolinecolor": "white"
           },
           "zaxis": {
            "backgroundcolor": "#E5ECF6",
            "gridcolor": "white",
            "gridwidth": 2,
            "linecolor": "white",
            "showbackground": true,
            "ticks": "",
            "zerolinecolor": "white"
           }
          },
          "shapedefaults": {
           "line": {
            "color": "#2a3f5f"
           }
          },
          "ternary": {
           "aaxis": {
            "gridcolor": "white",
            "linecolor": "white",
            "ticks": ""
           },
           "baxis": {
            "gridcolor": "white",
            "linecolor": "white",
            "ticks": ""
           },
           "bgcolor": "#E5ECF6",
           "caxis": {
            "gridcolor": "white",
            "linecolor": "white",
            "ticks": ""
           }
          },
          "title": {
           "x": 0.05
          },
          "xaxis": {
           "automargin": true,
           "gridcolor": "white",
           "linecolor": "white",
           "ticks": "",
           "title": {
            "standoff": 15
           },
           "zerolinecolor": "white",
           "zerolinewidth": 2
          },
          "yaxis": {
           "automargin": true,
           "gridcolor": "white",
           "linecolor": "white",
           "ticks": "",
           "title": {
            "standoff": 15
           },
           "zerolinecolor": "white",
           "zerolinewidth": 2
          }
         }
        },
        "title": {
         "text": "Parallel Coordinate Plot"
        }
       }
      },
      "text/html": [
       "<div>                        <script type=\"text/javascript\">window.PlotlyConfig = {MathJaxConfig: 'local'};</script>\n",
       "        <script charset=\"utf-8\" src=\"https://cdn.plot.ly/plotly-2.20.0.min.js\"></script>                <div id=\"92bf3e2a-038d-4e5b-a500-f499e310068a\" class=\"plotly-graph-div\" style=\"height:100%; width:100%;\"></div>            <script type=\"text/javascript\">                                    window.PLOTLYENV=window.PLOTLYENV || {};                                    if (document.getElementById(\"92bf3e2a-038d-4e5b-a500-f499e310068a\")) {                    Plotly.newPlot(                        \"92bf3e2a-038d-4e5b-a500-f499e310068a\",                        [{\"dimensions\":[{\"label\":\"Objective Value\",\"range\":[0.8818325066683194,0.8994552925247178],\"values\":[0.8976615929369792,0.8966261881554763,0.8982214007928886,0.8987174853477948,0.8818325066683194,0.897534023419957,0.8985774198661184,0.8986080097019102,0.887159296855048,0.8936672005128031,0.8945230031784931,0.8972879614422338,0.8984729423544763,0.8964949622316937,0.8911730286742633,0.8963732126328785,0.8965183888756728,0.8975048015215599,0.8967278618775812,0.8980026926138566,0.8978076101347702,0.8984902461330188,0.8987493979431006,0.8989047166905181,0.8987330900355062,0.8991528029361504,0.8990594591389892,0.8994552925247178,0.8990467314070756,0.8988906659024906,0.897815236995943,0.8991853884829194,0.8992267700931317,0.8987873851258157,0.8993538022944699,0.8994509041432636,0.8983643378642565,0.8977933059445257,0.8986760960320054,0.8987868016493318,0.898630404652633,0.8990587991082966,0.8977055486170856,0.8982767957911012,0.8990314105794522,0.8988010009627124,0.892342452316533,0.8985296658204617,0.8985753202774126,0.8982469303360551]},{\"label\":\"boosting\",\"range\":[0,1],\"ticktext\":[\"dart\",\"gbdt\"],\"tickvals\":[0,1],\"values\":[0,0,0,0,1,0,0,1,1,1,0,1,1,1,0,1,1,0,1,0,1,0,0,0,0,0,0,0,0,0,0,0,0,0,0,0,0,0,0,0,0,0,0,0,0,0,0,0,0,0]},{\"label\":\"colsample_bytree\",\"range\":[0.20329391048162448,0.7939115494329188],\"values\":[0.5378419005311236,0.7633258782246661,0.6225986896922069,0.7324522149754977,0.3669827139466058,0.44187806666297097,0.4182180560187565,0.49103861352152534,0.4707365344868875,0.5614196201481262,0.2257682579940702,0.7939115494329188,0.6544504900487966,0.6932086292443909,0.5798644088524469,0.7066902503737962,0.5175944912970876,0.624564028373513,0.7448936338617835,0.7145512719971647,0.5872491890757702,0.4221382857234409,0.48484963119576613,0.48349464568217704,0.5156526723274495,0.5145767935594828,0.37629088828852225,0.35885033102300595,0.34072199927957314,0.36872031177619546,0.2919845014898368,0.3499538399048444,0.31879290379484265,0.28225447659525515,0.3133191434154407,0.30458357396024127,0.30468627594817455,0.24474884453675594,0.20329391048162448,0.26420570661301007,0.30500110251681095,0.33598684594381467,0.39520013201931314,0.33032936476633834,0.33775484324499977,0.2693571841887973,0.44694054312219544,0.39636321320559254,0.24545945640976963,0.3067218948920155]},{\"label\":\"learning_rate\",\"range\":[0.0006222148418612607,0.49571488289872667],\"values\":[0.19389439422812849,0.45924154140117035,0.4476008706853442,0.13981934622951592,0.37207035933089583,0.29121658214283697,0.4371242239384264,0.029303267515977036,0.35225663091386056,0.3915003819879576,0.1666069317054042,0.027150646072599455,0.038123133769189035,0.09650817074143583,0.0006222148418612607,0.10431601462261153,0.09798935645717084,0.22055022750758613,0.15124344606778953,0.2621016108218236,0.0657466880434385,0.49571488289872667,0.13622662850391595,0.1375252050729044,0.15467943351351277,0.1923329726142723,0.20666559602096782,0.21902422874173558,0.22317939765972544,0.1956899275406601,0.2723108704039862,0.2180631216460072,0.22822376379802833,0.22903726124769525,0.17375929988842234,0.2452438352693344,0.29370716642793004,0.2455194047102867,0.18583939400966126,0.2947288310781317,0.24036716072805636,0.2615548315150538,0.17851068113967566,0.22023467379928907,0.20565802118807636,0.16886261936789215,0.2822556208250799,0.3166378245189322,0.24522484941538744,0.2062682517722446]},{\"label\":\"max_depth\",\"range\":[-1,64],\"values\":[5,15,46,10,19,30,8,25,43,48,64,27,-1,19,36,14,26,37,6,22,56,10,-1,0,-1,0,2,3,4,4,13,4,4,9,5,18,18,12,17,8,15,4,7,11,21,4,7,15,23,34]},{\"label\":\"min_child_samples\",\"range\":[5,97],\"values\":[46,75,11,48,61,51,49,19,60,31,84,12,28,30,97,24,39,17,5,68,40,56,42,39,40,40,36,34,33,21,32,34,24,24,45,47,55,46,69,47,60,46,52,27,15,36,44,26,35,20]},{\"label\":\"min_child_weight\",\"range\":[0.049716580312128444,9.712332134025896],\"values\":[9.712332134025896,9.533023304028491,6.746427625701935,0.6236654874810934,2.1919343257410158,2.1407526004092485,7.060386264543439,0.40908264251314624,2.3909956071399527,1.1167043841253457,3.7783324577352184,0.2741648257655216,0.23362483240516022,3.8485386398292163,0.049716580312128444,1.6824004663398835,2.983058649947171,1.2312165717061063,1.1140657876953957,3.6468525459148804,4.423779032991213,5.730670773916994,5.4666671486815535,2.950196257861971,2.860486573731021,3.2957480998415862,5.3092071064587305,4.768878441321062,5.025595976566911,4.612103534613179,6.02154621605445,4.913585377751683,4.455595555553924,4.441994518864866,6.388109299687041,7.510388082773024,7.832397211786538,6.116516911590818,7.909705667388043,6.383688316066618,6.822353929564878,4.96776860156024,5.550442106074862,6.537246202249208,7.322925610079759,8.84240124452796,6.0429082884113186,4.830479911003167,4.127328017599583,5.052902444369257]},{\"label\":\"min_split_gain\",\"range\":[0.5086730611030881,0.9868202210928749],\"values\":[0.5086730611030881,0.5840019466567259,0.9245551782504706,0.9478690581585507,0.6721676772580896,0.6452745803860633,0.9116941448755507,0.5306766521238373,0.9862463341635224,0.7793870451468459,0.8252712390558463,0.7285642300509503,0.5163800238379865,0.8520905835455335,0.722648789570837,0.5937436788218478,0.7767532311139584,0.6804629085265281,0.9868202210928749,0.8295012700074839,0.5590994924345425,0.913429370062523,0.9080870625224224,0.9513310084268437,0.9520669423491084,0.8700728530494674,0.8523479620898352,0.8804385788228134,0.868363227663812,0.8826793558673016,0.8262076969419603,0.874981948036766,0.8716112325358999,0.8678668124637681,0.8962168611735738,0.8955023649991991,0.9386704139826458,0.8888154977140437,0.9076408674479064,0.938071009108372,0.971946025568226,0.8953961946013722,0.9216845323458457,0.8460525561035418,0.8059801903568848,0.8863653851761863,0.9194108417359608,0.8972616147335808,0.9670874353700755,0.8007943471477896]},{\"label\":\"n_estimators\",\"range\":[108,998],\"values\":[252,463,861,642,555,725,590,177,299,239,877,133,462,705,414,998,698,131,344,644,816,585,518,501,480,479,383,334,384,249,312,391,418,436,346,200,175,288,204,355,292,412,340,233,108,194,276,539,447,396]},{\"label\":\"num_leaves\",\"range\":[2,147],\"values\":[36,50,87,43,126,124,30,81,115,4,2,78,63,93,103,65,147,22,49,67,43,20,30,55,56,62,18,19,15,12,37,17,26,29,12,10,8,38,27,9,23,14,3,34,10,22,2,43,16,26]},{\"label\":\"reg_alpha\",\"range\":[0.40986424851226594,0.9991756637855137],\"values\":[0.5735842293464366,0.5743634611942869,0.7426580446771414,0.9446370161323757,0.7165061023129227,0.40986424851226594,0.90515334194296,0.8863926177734158,0.5801440597902469,0.49126362083778874,0.9930097583851182,0.8562523795233219,0.9991756637855137,0.8321557332392471,0.9127447775991822,0.7912670914097004,0.8959213478619301,0.788488815637441,0.9479574645325319,0.8509290237343315,0.9519485626720671,0.8968259716298066,0.9341516846636849,0.9412684166978857,0.9438802417402412,0.9704291974896981,0.9875374900160718,0.9922927799932719,0.9864043175366682,0.9835728724350394,0.648450021181294,0.9841445187575537,0.9971606394426918,0.9982269876052932,0.9585716697358162,0.9262652849214809,0.9208753272423289,0.8738562277682995,0.9197842287077415,0.9478889261919075,0.8768425311018467,0.9665737419598004,0.9662423181775547,0.9102921014239225,0.9685889514331126,0.9337920285757986,0.9959565031355933,0.9639105898123103,0.9190272145990579,0.8868755546830334]},{\"label\":\"reg_lambda\",\"range\":[0.0005932108084396037,0.4363296060006035],\"values\":[0.11437356348065236,0.11051818217157083,0.06790095374800148,0.07219186526287785,0.13687523100932564,0.4363296060006035,0.04554516983519197,0.19815317905163377,0.07176155987511251,0.16041430704982373,0.0014627254269813927,0.2550300114562798,0.22970491341523516,0.21139730758120326,0.3034138106938993,0.0005932108084396037,0.1775422344966835,0.3054492390417288,0.1754157801332694,0.10953132131572077,0.05956400595890412,0.048851484568817834,0.01977383586952872,0.0023506708161049536,0.027092557483141287,0.0017381095999524946,0.007794799642996427,0.010366800790489683,0.09386861232518227,0.03542968344413755,0.13305109498878548,0.08908266123476247,0.08841442840490749,0.08542705842861137,0.10425149052029462,0.10856303266805119,0.11565101936008973,0.052141807634959195,0.1314703390078077,0.07121714887472244,0.03660899028508302,0.10018122671768033,0.08168056325516038,0.14173213510557486,0.1070052168739652,0.06812516156406354,0.04209048636575936,0.09062663099129781,0.1577596296178525,0.06083630702285618]},{\"label\":\"subsample\",\"range\":[0.40333713278145095,0.9953892710941705],\"values\":[0.6211258812680587,0.49422047366117405,0.8379148446766773,0.44387396956238967,0.6261806755914899,0.6147857641308284,0.6484974233209327,0.833078935363545,0.9953892710941705,0.8615891105655572,0.40333713278145095,0.7670268396139284,0.4999931561626756,0.7425442048193328,0.7143358680012887,0.530883645689775,0.4490070999197131,0.5631533070249285,0.42655445579907575,0.5808290030165913,0.6819593402033362,0.4784883454449532,0.6685368528216983,0.5386484546240736,0.5383737091095854,0.5412615726293593,0.5903898690864483,0.5713199333429264,0.5856004552782371,0.6041995723921443,0.6422764854026342,0.584169613626593,0.5674708170478602,0.5104256869165641,0.5602648470223995,0.5711303732615067,0.485127609437098,0.6189294198972598,0.5538266932835475,0.6253685365052845,0.5135737671733883,0.5723885621747156,0.5928810352216829,0.6488389334436329,0.5733805198071419,0.6118402492974614,0.47174494512811416,0.5072073194835502,0.552161113707136,0.5276187257419002]}],\"labelangle\":30,\"labelside\":\"bottom\",\"line\":{\"color\":[0.8976615929369792,0.8966261881554763,0.8982214007928886,0.8987174853477948,0.8818325066683194,0.897534023419957,0.8985774198661184,0.8986080097019102,0.887159296855048,0.8936672005128031,0.8945230031784931,0.8972879614422338,0.8984729423544763,0.8964949622316937,0.8911730286742633,0.8963732126328785,0.8965183888756728,0.8975048015215599,0.8967278618775812,0.8980026926138566,0.8978076101347702,0.8984902461330188,0.8987493979431006,0.8989047166905181,0.8987330900355062,0.8991528029361504,0.8990594591389892,0.8994552925247178,0.8990467314070756,0.8988906659024906,0.897815236995943,0.8991853884829194,0.8992267700931317,0.8987873851258157,0.8993538022944699,0.8994509041432636,0.8983643378642565,0.8977933059445257,0.8986760960320054,0.8987868016493318,0.898630404652633,0.8990587991082966,0.8977055486170856,0.8982767957911012,0.8990314105794522,0.8988010009627124,0.892342452316533,0.8985296658204617,0.8985753202774126,0.8982469303360551],\"colorbar\":{\"title\":{\"text\":\"Objective Value\"}},\"colorscale\":[[0.0,\"rgb(247,251,255)\"],[0.125,\"rgb(222,235,247)\"],[0.25,\"rgb(198,219,239)\"],[0.375,\"rgb(158,202,225)\"],[0.5,\"rgb(107,174,214)\"],[0.625,\"rgb(66,146,198)\"],[0.75,\"rgb(33,113,181)\"],[0.875,\"rgb(8,81,156)\"],[1.0,\"rgb(8,48,107)\"]],\"reversescale\":false,\"showscale\":true},\"type\":\"parcoords\"}],                        {\"title\":{\"text\":\"Parallel Coordinate Plot\"},\"template\":{\"data\":{\"histogram2dcontour\":[{\"type\":\"histogram2dcontour\",\"colorbar\":{\"outlinewidth\":0,\"ticks\":\"\"},\"colorscale\":[[0.0,\"#0d0887\"],[0.1111111111111111,\"#46039f\"],[0.2222222222222222,\"#7201a8\"],[0.3333333333333333,\"#9c179e\"],[0.4444444444444444,\"#bd3786\"],[0.5555555555555556,\"#d8576b\"],[0.6666666666666666,\"#ed7953\"],[0.7777777777777778,\"#fb9f3a\"],[0.8888888888888888,\"#fdca26\"],[1.0,\"#f0f921\"]]}],\"choropleth\":[{\"type\":\"choropleth\",\"colorbar\":{\"outlinewidth\":0,\"ticks\":\"\"}}],\"histogram2d\":[{\"type\":\"histogram2d\",\"colorbar\":{\"outlinewidth\":0,\"ticks\":\"\"},\"colorscale\":[[0.0,\"#0d0887\"],[0.1111111111111111,\"#46039f\"],[0.2222222222222222,\"#7201a8\"],[0.3333333333333333,\"#9c179e\"],[0.4444444444444444,\"#bd3786\"],[0.5555555555555556,\"#d8576b\"],[0.6666666666666666,\"#ed7953\"],[0.7777777777777778,\"#fb9f3a\"],[0.8888888888888888,\"#fdca26\"],[1.0,\"#f0f921\"]]}],\"heatmap\":[{\"type\":\"heatmap\",\"colorbar\":{\"outlinewidth\":0,\"ticks\":\"\"},\"colorscale\":[[0.0,\"#0d0887\"],[0.1111111111111111,\"#46039f\"],[0.2222222222222222,\"#7201a8\"],[0.3333333333333333,\"#9c179e\"],[0.4444444444444444,\"#bd3786\"],[0.5555555555555556,\"#d8576b\"],[0.6666666666666666,\"#ed7953\"],[0.7777777777777778,\"#fb9f3a\"],[0.8888888888888888,\"#fdca26\"],[1.0,\"#f0f921\"]]}],\"heatmapgl\":[{\"type\":\"heatmapgl\",\"colorbar\":{\"outlinewidth\":0,\"ticks\":\"\"},\"colorscale\":[[0.0,\"#0d0887\"],[0.1111111111111111,\"#46039f\"],[0.2222222222222222,\"#7201a8\"],[0.3333333333333333,\"#9c179e\"],[0.4444444444444444,\"#bd3786\"],[0.5555555555555556,\"#d8576b\"],[0.6666666666666666,\"#ed7953\"],[0.7777777777777778,\"#fb9f3a\"],[0.8888888888888888,\"#fdca26\"],[1.0,\"#f0f921\"]]}],\"contourcarpet\":[{\"type\":\"contourcarpet\",\"colorbar\":{\"outlinewidth\":0,\"ticks\":\"\"}}],\"contour\":[{\"type\":\"contour\",\"colorbar\":{\"outlinewidth\":0,\"ticks\":\"\"},\"colorscale\":[[0.0,\"#0d0887\"],[0.1111111111111111,\"#46039f\"],[0.2222222222222222,\"#7201a8\"],[0.3333333333333333,\"#9c179e\"],[0.4444444444444444,\"#bd3786\"],[0.5555555555555556,\"#d8576b\"],[0.6666666666666666,\"#ed7953\"],[0.7777777777777778,\"#fb9f3a\"],[0.8888888888888888,\"#fdca26\"],[1.0,\"#f0f921\"]]}],\"surface\":[{\"type\":\"surface\",\"colorbar\":{\"outlinewidth\":0,\"ticks\":\"\"},\"colorscale\":[[0.0,\"#0d0887\"],[0.1111111111111111,\"#46039f\"],[0.2222222222222222,\"#7201a8\"],[0.3333333333333333,\"#9c179e\"],[0.4444444444444444,\"#bd3786\"],[0.5555555555555556,\"#d8576b\"],[0.6666666666666666,\"#ed7953\"],[0.7777777777777778,\"#fb9f3a\"],[0.8888888888888888,\"#fdca26\"],[1.0,\"#f0f921\"]]}],\"mesh3d\":[{\"type\":\"mesh3d\",\"colorbar\":{\"outlinewidth\":0,\"ticks\":\"\"}}],\"scatter\":[{\"fillpattern\":{\"fillmode\":\"overlay\",\"size\":10,\"solidity\":0.2},\"type\":\"scatter\"}],\"parcoords\":[{\"type\":\"parcoords\",\"line\":{\"colorbar\":{\"outlinewidth\":0,\"ticks\":\"\"}}}],\"scatterpolargl\":[{\"type\":\"scatterpolargl\",\"marker\":{\"colorbar\":{\"outlinewidth\":0,\"ticks\":\"\"}}}],\"bar\":[{\"error_x\":{\"color\":\"#2a3f5f\"},\"error_y\":{\"color\":\"#2a3f5f\"},\"marker\":{\"line\":{\"color\":\"#E5ECF6\",\"width\":0.5},\"pattern\":{\"fillmode\":\"overlay\",\"size\":10,\"solidity\":0.2}},\"type\":\"bar\"}],\"scattergeo\":[{\"type\":\"scattergeo\",\"marker\":{\"colorbar\":{\"outlinewidth\":0,\"ticks\":\"\"}}}],\"scatterpolar\":[{\"type\":\"scatterpolar\",\"marker\":{\"colorbar\":{\"outlinewidth\":0,\"ticks\":\"\"}}}],\"histogram\":[{\"marker\":{\"pattern\":{\"fillmode\":\"overlay\",\"size\":10,\"solidity\":0.2}},\"type\":\"histogram\"}],\"scattergl\":[{\"type\":\"scattergl\",\"marker\":{\"colorbar\":{\"outlinewidth\":0,\"ticks\":\"\"}}}],\"scatter3d\":[{\"type\":\"scatter3d\",\"line\":{\"colorbar\":{\"outlinewidth\":0,\"ticks\":\"\"}},\"marker\":{\"colorbar\":{\"outlinewidth\":0,\"ticks\":\"\"}}}],\"scattermapbox\":[{\"type\":\"scattermapbox\",\"marker\":{\"colorbar\":{\"outlinewidth\":0,\"ticks\":\"\"}}}],\"scatterternary\":[{\"type\":\"scatterternary\",\"marker\":{\"colorbar\":{\"outlinewidth\":0,\"ticks\":\"\"}}}],\"scattercarpet\":[{\"type\":\"scattercarpet\",\"marker\":{\"colorbar\":{\"outlinewidth\":0,\"ticks\":\"\"}}}],\"carpet\":[{\"aaxis\":{\"endlinecolor\":\"#2a3f5f\",\"gridcolor\":\"white\",\"linecolor\":\"white\",\"minorgridcolor\":\"white\",\"startlinecolor\":\"#2a3f5f\"},\"baxis\":{\"endlinecolor\":\"#2a3f5f\",\"gridcolor\":\"white\",\"linecolor\":\"white\",\"minorgridcolor\":\"white\",\"startlinecolor\":\"#2a3f5f\"},\"type\":\"carpet\"}],\"table\":[{\"cells\":{\"fill\":{\"color\":\"#EBF0F8\"},\"line\":{\"color\":\"white\"}},\"header\":{\"fill\":{\"color\":\"#C8D4E3\"},\"line\":{\"color\":\"white\"}},\"type\":\"table\"}],\"barpolar\":[{\"marker\":{\"line\":{\"color\":\"#E5ECF6\",\"width\":0.5},\"pattern\":{\"fillmode\":\"overlay\",\"size\":10,\"solidity\":0.2}},\"type\":\"barpolar\"}],\"pie\":[{\"automargin\":true,\"type\":\"pie\"}]},\"layout\":{\"autotypenumbers\":\"strict\",\"colorway\":[\"#636efa\",\"#EF553B\",\"#00cc96\",\"#ab63fa\",\"#FFA15A\",\"#19d3f3\",\"#FF6692\",\"#B6E880\",\"#FF97FF\",\"#FECB52\"],\"font\":{\"color\":\"#2a3f5f\"},\"hovermode\":\"closest\",\"hoverlabel\":{\"align\":\"left\"},\"paper_bgcolor\":\"white\",\"plot_bgcolor\":\"#E5ECF6\",\"polar\":{\"bgcolor\":\"#E5ECF6\",\"angularaxis\":{\"gridcolor\":\"white\",\"linecolor\":\"white\",\"ticks\":\"\"},\"radialaxis\":{\"gridcolor\":\"white\",\"linecolor\":\"white\",\"ticks\":\"\"}},\"ternary\":{\"bgcolor\":\"#E5ECF6\",\"aaxis\":{\"gridcolor\":\"white\",\"linecolor\":\"white\",\"ticks\":\"\"},\"baxis\":{\"gridcolor\":\"white\",\"linecolor\":\"white\",\"ticks\":\"\"},\"caxis\":{\"gridcolor\":\"white\",\"linecolor\":\"white\",\"ticks\":\"\"}},\"coloraxis\":{\"colorbar\":{\"outlinewidth\":0,\"ticks\":\"\"}},\"colorscale\":{\"sequential\":[[0.0,\"#0d0887\"],[0.1111111111111111,\"#46039f\"],[0.2222222222222222,\"#7201a8\"],[0.3333333333333333,\"#9c179e\"],[0.4444444444444444,\"#bd3786\"],[0.5555555555555556,\"#d8576b\"],[0.6666666666666666,\"#ed7953\"],[0.7777777777777778,\"#fb9f3a\"],[0.8888888888888888,\"#fdca26\"],[1.0,\"#f0f921\"]],\"sequentialminus\":[[0.0,\"#0d0887\"],[0.1111111111111111,\"#46039f\"],[0.2222222222222222,\"#7201a8\"],[0.3333333333333333,\"#9c179e\"],[0.4444444444444444,\"#bd3786\"],[0.5555555555555556,\"#d8576b\"],[0.6666666666666666,\"#ed7953\"],[0.7777777777777778,\"#fb9f3a\"],[0.8888888888888888,\"#fdca26\"],[1.0,\"#f0f921\"]],\"diverging\":[[0,\"#8e0152\"],[0.1,\"#c51b7d\"],[0.2,\"#de77ae\"],[0.3,\"#f1b6da\"],[0.4,\"#fde0ef\"],[0.5,\"#f7f7f7\"],[0.6,\"#e6f5d0\"],[0.7,\"#b8e186\"],[0.8,\"#7fbc41\"],[0.9,\"#4d9221\"],[1,\"#276419\"]]},\"xaxis\":{\"gridcolor\":\"white\",\"linecolor\":\"white\",\"ticks\":\"\",\"title\":{\"standoff\":15},\"zerolinecolor\":\"white\",\"automargin\":true,\"zerolinewidth\":2},\"yaxis\":{\"gridcolor\":\"white\",\"linecolor\":\"white\",\"ticks\":\"\",\"title\":{\"standoff\":15},\"zerolinecolor\":\"white\",\"automargin\":true,\"zerolinewidth\":2},\"scene\":{\"xaxis\":{\"backgroundcolor\":\"#E5ECF6\",\"gridcolor\":\"white\",\"linecolor\":\"white\",\"showbackground\":true,\"ticks\":\"\",\"zerolinecolor\":\"white\",\"gridwidth\":2},\"yaxis\":{\"backgroundcolor\":\"#E5ECF6\",\"gridcolor\":\"white\",\"linecolor\":\"white\",\"showbackground\":true,\"ticks\":\"\",\"zerolinecolor\":\"white\",\"gridwidth\":2},\"zaxis\":{\"backgroundcolor\":\"#E5ECF6\",\"gridcolor\":\"white\",\"linecolor\":\"white\",\"showbackground\":true,\"ticks\":\"\",\"zerolinecolor\":\"white\",\"gridwidth\":2}},\"shapedefaults\":{\"line\":{\"color\":\"#2a3f5f\"}},\"annotationdefaults\":{\"arrowcolor\":\"#2a3f5f\",\"arrowhead\":0,\"arrowwidth\":1},\"geo\":{\"bgcolor\":\"white\",\"landcolor\":\"#E5ECF6\",\"subunitcolor\":\"white\",\"showland\":true,\"showlakes\":true,\"lakecolor\":\"white\"},\"title\":{\"x\":0.05},\"mapbox\":{\"style\":\"light\"}}}},                        {\"responsive\": true}                    )                };                            </script>        </div>"
      ],
      "text/plain": [
       "Figure({\n",
       "    'data': [{'dimensions': [{'label': 'Objective Value',\n",
       "                              'range': [0.8818325066683194, 0.8994552925247178],\n",
       "                              'values': [0.8976615929369792, 0.8966261881554763,\n",
       "                                         0.8982214007928886, 0.8987174853477948,\n",
       "                                         0.8818325066683194, 0.897534023419957,\n",
       "                                         0.8985774198661184, 0.8986080097019102,\n",
       "                                         0.887159296855048, 0.8936672005128031,\n",
       "                                         0.8945230031784931, 0.8972879614422338,\n",
       "                                         0.8984729423544763, 0.8964949622316937,\n",
       "                                         0.8911730286742633, 0.8963732126328785,\n",
       "                                         0.8965183888756728, 0.8975048015215599,\n",
       "                                         0.8967278618775812, 0.8980026926138566,\n",
       "                                         0.8978076101347702, 0.8984902461330188,\n",
       "                                         0.8987493979431006, 0.8989047166905181,\n",
       "                                         0.8987330900355062, 0.8991528029361504,\n",
       "                                         0.8990594591389892, 0.8994552925247178,\n",
       "                                         0.8990467314070756, 0.8988906659024906,\n",
       "                                         0.897815236995943, 0.8991853884829194,\n",
       "                                         0.8992267700931317, 0.8987873851258157,\n",
       "                                         0.8993538022944699, 0.8994509041432636,\n",
       "                                         0.8983643378642565, 0.8977933059445257,\n",
       "                                         0.8986760960320054, 0.8987868016493318,\n",
       "                                         0.898630404652633, 0.8990587991082966,\n",
       "                                         0.8977055486170856, 0.8982767957911012,\n",
       "                                         0.8990314105794522, 0.8988010009627124,\n",
       "                                         0.892342452316533, 0.8985296658204617,\n",
       "                                         0.8985753202774126, 0.8982469303360551]},\n",
       "                             {'label': 'boosting',\n",
       "                              'range': [0, 1],\n",
       "                              'ticktext': [dart, gbdt],\n",
       "                              'tickvals': [0, 1],\n",
       "                              'values': [0, 0, 0, 0, 1, 0, 0, 1, 1, 1, 0, 1, 1, 1,\n",
       "                                         0, 1, 1, 0, 1, 0, 1, 0, 0, 0, 0, 0, 0, 0,\n",
       "                                         0, 0, 0, 0, 0, 0, 0, 0, 0, 0, 0, 0, 0, 0,\n",
       "                                         0, 0, 0, 0, 0, 0, 0, 0]},\n",
       "                             {'label': 'colsample_bytree',\n",
       "                              'range': [0.20329391048162448, 0.7939115494329188],\n",
       "                              'values': [0.5378419005311236, 0.7633258782246661,\n",
       "                                         0.6225986896922069, 0.7324522149754977,\n",
       "                                         0.3669827139466058, 0.44187806666297097,\n",
       "                                         0.4182180560187565, 0.49103861352152534,\n",
       "                                         0.4707365344868875, 0.5614196201481262,\n",
       "                                         0.2257682579940702, 0.7939115494329188,\n",
       "                                         0.6544504900487966, 0.6932086292443909,\n",
       "                                         0.5798644088524469, 0.7066902503737962,\n",
       "                                         0.5175944912970876, 0.624564028373513,\n",
       "                                         0.7448936338617835, 0.7145512719971647,\n",
       "                                         0.5872491890757702, 0.4221382857234409,\n",
       "                                         0.48484963119576613, 0.48349464568217704,\n",
       "                                         0.5156526723274495, 0.5145767935594828,\n",
       "                                         0.37629088828852225, 0.35885033102300595,\n",
       "                                         0.34072199927957314, 0.36872031177619546,\n",
       "                                         0.2919845014898368, 0.3499538399048444,\n",
       "                                         0.31879290379484265, 0.28225447659525515,\n",
       "                                         0.3133191434154407, 0.30458357396024127,\n",
       "                                         0.30468627594817455, 0.24474884453675594,\n",
       "                                         0.20329391048162448, 0.26420570661301007,\n",
       "                                         0.30500110251681095, 0.33598684594381467,\n",
       "                                         0.39520013201931314, 0.33032936476633834,\n",
       "                                         0.33775484324499977, 0.2693571841887973,\n",
       "                                         0.44694054312219544, 0.39636321320559254,\n",
       "                                         0.24545945640976963, 0.3067218948920155]},\n",
       "                             {'label': 'learning_rate',\n",
       "                              'range': [0.0006222148418612607,\n",
       "                                        0.49571488289872667],\n",
       "                              'values': [0.19389439422812849, 0.45924154140117035,\n",
       "                                         0.4476008706853442, 0.13981934622951592,\n",
       "                                         0.37207035933089583, 0.29121658214283697,\n",
       "                                         0.4371242239384264, 0.029303267515977036,\n",
       "                                         0.35225663091386056, 0.3915003819879576,\n",
       "                                         0.1666069317054042, 0.027150646072599455,\n",
       "                                         0.038123133769189035, 0.09650817074143583,\n",
       "                                         0.0006222148418612607,\n",
       "                                         0.10431601462261153, 0.09798935645717084,\n",
       "                                         0.22055022750758613, 0.15124344606778953,\n",
       "                                         0.2621016108218236, 0.0657466880434385,\n",
       "                                         0.49571488289872667, 0.13622662850391595,\n",
       "                                         0.1375252050729044, 0.15467943351351277,\n",
       "                                         0.1923329726142723, 0.20666559602096782,\n",
       "                                         0.21902422874173558, 0.22317939765972544,\n",
       "                                         0.1956899275406601, 0.2723108704039862,\n",
       "                                         0.2180631216460072, 0.22822376379802833,\n",
       "                                         0.22903726124769525, 0.17375929988842234,\n",
       "                                         0.2452438352693344, 0.29370716642793004,\n",
       "                                         0.2455194047102867, 0.18583939400966126,\n",
       "                                         0.2947288310781317, 0.24036716072805636,\n",
       "                                         0.2615548315150538, 0.17851068113967566,\n",
       "                                         0.22023467379928907, 0.20565802118807636,\n",
       "                                         0.16886261936789215, 0.2822556208250799,\n",
       "                                         0.3166378245189322, 0.24522484941538744,\n",
       "                                         0.2062682517722446]},\n",
       "                             {'label': 'max_depth',\n",
       "                              'range': [-1, 64],\n",
       "                              'values': [5, 15, 46, 10, 19, 30, 8, 25, 43, 48, 64,\n",
       "                                         27, -1, 19, 36, 14, 26, 37, 6, 22, 56, 10,\n",
       "                                         -1, 0, -1, 0, 2, 3, 4, 4, 13, 4, 4, 9, 5,\n",
       "                                         18, 18, 12, 17, 8, 15, 4, 7, 11, 21, 4, 7,\n",
       "                                         15, 23, 34]},\n",
       "                             {'label': 'min_child_samples',\n",
       "                              'range': [5, 97],\n",
       "                              'values': [46, 75, 11, 48, 61, 51, 49, 19, 60, 31,\n",
       "                                         84, 12, 28, 30, 97, 24, 39, 17, 5, 68, 40,\n",
       "                                         56, 42, 39, 40, 40, 36, 34, 33, 21, 32,\n",
       "                                         34, 24, 24, 45, 47, 55, 46, 69, 47, 60,\n",
       "                                         46, 52, 27, 15, 36, 44, 26, 35, 20]},\n",
       "                             {'label': 'min_child_weight',\n",
       "                              'range': [0.049716580312128444, 9.712332134025896],\n",
       "                              'values': [9.712332134025896, 9.533023304028491,\n",
       "                                         6.746427625701935, 0.6236654874810934,\n",
       "                                         2.1919343257410158, 2.1407526004092485,\n",
       "                                         7.060386264543439, 0.40908264251314624,\n",
       "                                         2.3909956071399527, 1.1167043841253457,\n",
       "                                         3.7783324577352184, 0.2741648257655216,\n",
       "                                         0.23362483240516022, 3.8485386398292163,\n",
       "                                         0.049716580312128444, 1.6824004663398835,\n",
       "                                         2.983058649947171, 1.2312165717061063,\n",
       "                                         1.1140657876953957, 3.6468525459148804,\n",
       "                                         4.423779032991213, 5.730670773916994,\n",
       "                                         5.4666671486815535, 2.950196257861971,\n",
       "                                         2.860486573731021, 3.2957480998415862,\n",
       "                                         5.3092071064587305, 4.768878441321062,\n",
       "                                         5.025595976566911, 4.612103534613179,\n",
       "                                         6.02154621605445, 4.913585377751683,\n",
       "                                         4.455595555553924, 4.441994518864866,\n",
       "                                         6.388109299687041, 7.510388082773024,\n",
       "                                         7.832397211786538, 6.116516911590818,\n",
       "                                         7.909705667388043, 6.383688316066618,\n",
       "                                         6.822353929564878, 4.96776860156024,\n",
       "                                         5.550442106074862, 6.537246202249208,\n",
       "                                         7.322925610079759, 8.84240124452796,\n",
       "                                         6.0429082884113186, 4.830479911003167,\n",
       "                                         4.127328017599583, 5.052902444369257]},\n",
       "                             {'label': 'min_split_gain',\n",
       "                              'range': [0.5086730611030881, 0.9868202210928749],\n",
       "                              'values': [0.5086730611030881, 0.5840019466567259,\n",
       "                                         0.9245551782504706, 0.9478690581585507,\n",
       "                                         0.6721676772580896, 0.6452745803860633,\n",
       "                                         0.9116941448755507, 0.5306766521238373,\n",
       "                                         0.9862463341635224, 0.7793870451468459,\n",
       "                                         0.8252712390558463, 0.7285642300509503,\n",
       "                                         0.5163800238379865, 0.8520905835455335,\n",
       "                                         0.722648789570837, 0.5937436788218478,\n",
       "                                         0.7767532311139584, 0.6804629085265281,\n",
       "                                         0.9868202210928749, 0.8295012700074839,\n",
       "                                         0.5590994924345425, 0.913429370062523,\n",
       "                                         0.9080870625224224, 0.9513310084268437,\n",
       "                                         0.9520669423491084, 0.8700728530494674,\n",
       "                                         0.8523479620898352, 0.8804385788228134,\n",
       "                                         0.868363227663812, 0.8826793558673016,\n",
       "                                         0.8262076969419603, 0.874981948036766,\n",
       "                                         0.8716112325358999, 0.8678668124637681,\n",
       "                                         0.8962168611735738, 0.8955023649991991,\n",
       "                                         0.9386704139826458, 0.8888154977140437,\n",
       "                                         0.9076408674479064, 0.938071009108372,\n",
       "                                         0.971946025568226, 0.8953961946013722,\n",
       "                                         0.9216845323458457, 0.8460525561035418,\n",
       "                                         0.8059801903568848, 0.8863653851761863,\n",
       "                                         0.9194108417359608, 0.8972616147335808,\n",
       "                                         0.9670874353700755, 0.8007943471477896]},\n",
       "                             {'label': 'n_estimators',\n",
       "                              'range': [108, 998],\n",
       "                              'values': [252, 463, 861, 642, 555, 725, 590, 177,\n",
       "                                         299, 239, 877, 133, 462, 705, 414, 998,\n",
       "                                         698, 131, 344, 644, 816, 585, 518, 501,\n",
       "                                         480, 479, 383, 334, 384, 249, 312, 391,\n",
       "                                         418, 436, 346, 200, 175, 288, 204, 355,\n",
       "                                         292, 412, 340, 233, 108, 194, 276, 539,\n",
       "                                         447, 396]},\n",
       "                             {'label': 'num_leaves',\n",
       "                              'range': [2, 147],\n",
       "                              'values': [36, 50, 87, 43, 126, 124, 30, 81, 115, 4,\n",
       "                                         2, 78, 63, 93, 103, 65, 147, 22, 49, 67,\n",
       "                                         43, 20, 30, 55, 56, 62, 18, 19, 15, 12,\n",
       "                                         37, 17, 26, 29, 12, 10, 8, 38, 27, 9, 23,\n",
       "                                         14, 3, 34, 10, 22, 2, 43, 16, 26]},\n",
       "                             {'label': 'reg_alpha',\n",
       "                              'range': [0.40986424851226594, 0.9991756637855137],\n",
       "                              'values': [0.5735842293464366, 0.5743634611942869,\n",
       "                                         0.7426580446771414, 0.9446370161323757,\n",
       "                                         0.7165061023129227, 0.40986424851226594,\n",
       "                                         0.90515334194296, 0.8863926177734158,\n",
       "                                         0.5801440597902469, 0.49126362083778874,\n",
       "                                         0.9930097583851182, 0.8562523795233219,\n",
       "                                         0.9991756637855137, 0.8321557332392471,\n",
       "                                         0.9127447775991822, 0.7912670914097004,\n",
       "                                         0.8959213478619301, 0.788488815637441,\n",
       "                                         0.9479574645325319, 0.8509290237343315,\n",
       "                                         0.9519485626720671, 0.8968259716298066,\n",
       "                                         0.9341516846636849, 0.9412684166978857,\n",
       "                                         0.9438802417402412, 0.9704291974896981,\n",
       "                                         0.9875374900160718, 0.9922927799932719,\n",
       "                                         0.9864043175366682, 0.9835728724350394,\n",
       "                                         0.648450021181294, 0.9841445187575537,\n",
       "                                         0.9971606394426918, 0.9982269876052932,\n",
       "                                         0.9585716697358162, 0.9262652849214809,\n",
       "                                         0.9208753272423289, 0.8738562277682995,\n",
       "                                         0.9197842287077415, 0.9478889261919075,\n",
       "                                         0.8768425311018467, 0.9665737419598004,\n",
       "                                         0.9662423181775547, 0.9102921014239225,\n",
       "                                         0.9685889514331126, 0.9337920285757986,\n",
       "                                         0.9959565031355933, 0.9639105898123103,\n",
       "                                         0.9190272145990579, 0.8868755546830334]},\n",
       "                             {'label': 'reg_lambda',\n",
       "                              'range': [0.0005932108084396037, 0.4363296060006035],\n",
       "                              'values': [0.11437356348065236, 0.11051818217157083,\n",
       "                                         0.06790095374800148, 0.07219186526287785,\n",
       "                                         0.13687523100932564, 0.4363296060006035,\n",
       "                                         0.04554516983519197, 0.19815317905163377,\n",
       "                                         0.07176155987511251, 0.16041430704982373,\n",
       "                                         0.0014627254269813927, 0.2550300114562798,\n",
       "                                         0.22970491341523516, 0.21139730758120326,\n",
       "                                         0.3034138106938993, 0.0005932108084396037,\n",
       "                                         0.1775422344966835, 0.3054492390417288,\n",
       "                                         0.1754157801332694, 0.10953132131572077,\n",
       "                                         0.05956400595890412, 0.048851484568817834,\n",
       "                                         0.01977383586952872,\n",
       "                                         0.0023506708161049536,\n",
       "                                         0.027092557483141287,\n",
       "                                         0.0017381095999524946,\n",
       "                                         0.007794799642996427,\n",
       "                                         0.010366800790489683, 0.09386861232518227,\n",
       "                                         0.03542968344413755, 0.13305109498878548,\n",
       "                                         0.08908266123476247, 0.08841442840490749,\n",
       "                                         0.08542705842861137, 0.10425149052029462,\n",
       "                                         0.10856303266805119, 0.11565101936008973,\n",
       "                                         0.052141807634959195, 0.1314703390078077,\n",
       "                                         0.07121714887472244, 0.03660899028508302,\n",
       "                                         0.10018122671768033, 0.08168056325516038,\n",
       "                                         0.14173213510557486, 0.1070052168739652,\n",
       "                                         0.06812516156406354, 0.04209048636575936,\n",
       "                                         0.09062663099129781, 0.1577596296178525,\n",
       "                                         0.06083630702285618]},\n",
       "                             {'label': 'subsample',\n",
       "                              'range': [0.40333713278145095, 0.9953892710941705],\n",
       "                              'values': [0.6211258812680587, 0.49422047366117405,\n",
       "                                         0.8379148446766773, 0.44387396956238967,\n",
       "                                         0.6261806755914899, 0.6147857641308284,\n",
       "                                         0.6484974233209327, 0.833078935363545,\n",
       "                                         0.9953892710941705, 0.8615891105655572,\n",
       "                                         0.40333713278145095, 0.7670268396139284,\n",
       "                                         0.4999931561626756, 0.7425442048193328,\n",
       "                                         0.7143358680012887, 0.530883645689775,\n",
       "                                         0.4490070999197131, 0.5631533070249285,\n",
       "                                         0.42655445579907575, 0.5808290030165913,\n",
       "                                         0.6819593402033362, 0.4784883454449532,\n",
       "                                         0.6685368528216983, 0.5386484546240736,\n",
       "                                         0.5383737091095854, 0.5412615726293593,\n",
       "                                         0.5903898690864483, 0.5713199333429264,\n",
       "                                         0.5856004552782371, 0.6041995723921443,\n",
       "                                         0.6422764854026342, 0.584169613626593,\n",
       "                                         0.5674708170478602, 0.5104256869165641,\n",
       "                                         0.5602648470223995, 0.5711303732615067,\n",
       "                                         0.485127609437098, 0.6189294198972598,\n",
       "                                         0.5538266932835475, 0.6253685365052845,\n",
       "                                         0.5135737671733883, 0.5723885621747156,\n",
       "                                         0.5928810352216829, 0.6488389334436329,\n",
       "                                         0.5733805198071419, 0.6118402492974614,\n",
       "                                         0.47174494512811416, 0.5072073194835502,\n",
       "                                         0.552161113707136, 0.5276187257419002]}],\n",
       "              'labelangle': 30,\n",
       "              'labelside': 'bottom',\n",
       "              'line': {'color': [0.8976615929369792, 0.8966261881554763,\n",
       "                                 0.8982214007928886, 0.8987174853477948,\n",
       "                                 0.8818325066683194, 0.897534023419957,\n",
       "                                 0.8985774198661184, 0.8986080097019102,\n",
       "                                 0.887159296855048, 0.8936672005128031,\n",
       "                                 0.8945230031784931, 0.8972879614422338,\n",
       "                                 0.8984729423544763, 0.8964949622316937,\n",
       "                                 0.8911730286742633, 0.8963732126328785,\n",
       "                                 0.8965183888756728, 0.8975048015215599,\n",
       "                                 0.8967278618775812, 0.8980026926138566,\n",
       "                                 0.8978076101347702, 0.8984902461330188,\n",
       "                                 0.8987493979431006, 0.8989047166905181,\n",
       "                                 0.8987330900355062, 0.8991528029361504,\n",
       "                                 0.8990594591389892, 0.8994552925247178,\n",
       "                                 0.8990467314070756, 0.8988906659024906,\n",
       "                                 0.897815236995943, 0.8991853884829194,\n",
       "                                 0.8992267700931317, 0.8987873851258157,\n",
       "                                 0.8993538022944699, 0.8994509041432636,\n",
       "                                 0.8983643378642565, 0.8977933059445257,\n",
       "                                 0.8986760960320054, 0.8987868016493318,\n",
       "                                 0.898630404652633, 0.8990587991082966,\n",
       "                                 0.8977055486170856, 0.8982767957911012,\n",
       "                                 0.8990314105794522, 0.8988010009627124,\n",
       "                                 0.892342452316533, 0.8985296658204617,\n",
       "                                 0.8985753202774126, 0.8982469303360551],\n",
       "                       'colorbar': {'title': {'text': 'Objective Value'}},\n",
       "                       'colorscale': [[0.0, 'rgb(247,251,255)'], [0.125,\n",
       "                                      'rgb(222,235,247)'], [0.25,\n",
       "                                      'rgb(198,219,239)'], [0.375,\n",
       "                                      'rgb(158,202,225)'], [0.5,\n",
       "                                      'rgb(107,174,214)'], [0.625,\n",
       "                                      'rgb(66,146,198)'], [0.75,\n",
       "                                      'rgb(33,113,181)'], [0.875, 'rgb(8,81,156)'],\n",
       "                                      [1.0, 'rgb(8,48,107)']],\n",
       "                       'reversescale': False,\n",
       "                       'showscale': True},\n",
       "              'type': 'parcoords'}],\n",
       "    'layout': {'template': '...', 'title': {'text': 'Parallel Coordinate Plot'}}\n",
       "})"
      ]
     },
     "execution_count": 23,
     "metadata": {},
     "output_type": "execute_result"
    }
   ],
   "source": [
    "optuna.visualization.plot_parallel_coordinate(study)"
   ]
  },
  {
   "cell_type": "markdown",
   "metadata": {},
   "source": [
    "# Ensembling"
   ]
  },
  {
   "cell_type": "code",
   "execution_count": null,
   "metadata": {},
   "outputs": [],
   "source": [
    "%%time\n",
    "\n",
    "model1_results, model2_results, model3_results, model4_results, model5_results, model6_results, y_test_list = [], [], [], [], [], [], []\n",
    "\n",
    "\n",
    "for i, (train_index, test_index) in enumerate(sk10.split(X, y)):\n",
    "    X_train_lgbm, X_test_lgbm = X_lgbm.iloc[train_index], X_lgbm.iloc[test_index]\n",
    "    X_train_xgb, X_test_xgb = X_xgb.iloc[train_index], X_xgb.iloc[test_index]\n",
    "    X_train_rf, X_test_rf = X_rf.iloc[train_index], X_rf.iloc[test_index]\n",
    "    X_train_extrat, X_test_extrat = X_extrat.iloc[train_index], X_extrat.iloc[test_index]\n",
    "    X_train_hist, X_test_hist = X_hist.iloc[train_index], X_hist.iloc[test_index]\n",
    "    X_train_cat, X_test_cat = X_cat.iloc[train_index], X_cat.iloc[test_index]\n",
    "    y_train, y_test = y.iloc[train_index], y.iloc[test_index]\n",
    "\n",
    "    model1.fit(X_train_lgbm, y_train)\n",
    "    model1_results.append(model1.predict_proba(X_test_lgbm))\n",
    "\n",
    "    model2.fit(X_train_xgb, y_train)\n",
    "    model2_results.append(model2.predict_proba(X_test_xgb))\n",
    "\n",
    "    model3.fit(X_train_rf, y_train)\n",
    "    model3_results.append(model3.predict_proba(X_test_rf))\n",
    "\n",
    "    model4.fit(X_train_extrat, y_train)\n",
    "    model4_results.append(model4.predict_proba(X_test_extrat))\n",
    "\n",
    "    model5.fit(X_train_hist, y_train)\n",
    "    model5_results.append(model5.predict_proba(X_test_hist))\n",
    "\n",
    "    model6.fit(X_train_cat, y_train)\n",
    "    model6_results.append(model6.predict_proba(X_test_cat))\n",
    "\n",
    "    # y_test_list.append(y_test)\n",
    "\n",
    "    print(f'Done with fold {i+1}.')"
   ]
  },
  {
   "cell_type": "code",
   "execution_count": null,
   "metadata": {},
   "outputs": [],
   "source": [
    "%%time\n",
    "\n",
    "model1_weights, model2_weights, model3_weights, model4_weights, model5_weights, model6_weights, scores = [], [], [], [], [], [], []\n",
    "\n",
    "for i in tqdm(range(20000)):\n",
    "    weight_1 = np.random.random_sample(size=1)[0]\n",
    "    weight_2 = np.random.random_sample(size=1)[0]\n",
    "    weight_3 = np.random.random_sample(size=1)[0]\n",
    "    weight_4 = np.random.random_sample(size=1)[0]\n",
    "    weight_5 = np.random.random_sample(size=1)[0]\n",
    "    weight_6 = np.random.random_sample(size=1)[0]\n",
    "\n",
    "    model1_weights.append(weight_1)\n",
    "    model2_weights.append(weight_2)\n",
    "    model3_weights.append(weight_3)\n",
    "    model4_weights.append(weight_4)\n",
    "    model5_weights.append(weight_5)\n",
    "    model6_weights.append(weight_6)\n",
    "\n",
    "    scores_in = []\n",
    "\n",
    "    for j in range(n_splits):\n",
    "        weighted_pred = weight_1 * model1_results[j] + weight_2 * model2_results[j] + weight_3 * model3_results[j] + weight_4 * model4_results[j] + weight_5 * model5_results[j] + weight_6 * model6_results[j]\n",
    "        weighted_pred_normalized = weighted_pred / np.sum(weighted_pred, axis=1, keepdims=True)\n",
    "        scores_in.append(roc_auc_score(y_test_list[j], weighted_pred_normalized, multi_class='ovr'))\n",
    "        \n",
    "    scores.append(np.mean(scores_in))"
   ]
  },
  {
   "cell_type": "code",
   "execution_count": null,
   "metadata": {},
   "outputs": [],
   "source": [
    "results_df = pd.DataFrame()\n",
    "results_df['model_1'] = model1_weights\n",
    "results_df['model_2'] = model2_weights\n",
    "results_df['model_3'] = model3_weights\n",
    "results_df['model_4'] = model4_weights\n",
    "results_df['model_5'] = model5_weights\n",
    "results_df['model_6'] = model6_weights\n",
    "results_df['score'] = scores\n",
    "results_df = results_df.sort_values(by='score', ascending=False).reset_index(drop=True)\n",
    "results_df.head(10)"
   ]
  },
  {
   "cell_type": "markdown",
   "metadata": {},
   "source": [
    "# Get Submission (Random Weight Ensemble)"
   ]
  },
  {
   "cell_type": "code",
   "execution_count": null,
   "metadata": {},
   "outputs": [],
   "source": [
    "%%time\n",
    "\n",
    "model1_final = model1.fit(X_lgbm, y)\n",
    "model2_final = model2.fit(X_xgb, y)\n",
    "model3_final = model3.fit(X_rf, y)\n",
    "model4_final = model4.fit(X_extrat, y)\n",
    "model5_final = model5.fit(X_hist, y)\n",
    "model6_final = model6.fit(X_cat, y)"
   ]
  },
  {
   "cell_type": "code",
   "execution_count": null,
   "metadata": {},
   "outputs": [],
   "source": [
    "ensemble_pred = (\n",
    "                results_df['model_1'][0] * model1_final.predict_proba(test[model1_feats]) +\n",
    "                results_df['model_2'][0] * model2_final.predict_proba(test[model2_feats]) +\n",
    "                results_df['model_3'][0] * model3_final.predict_proba(test[model3_feats]) +\n",
    "                results_df['model_4'][0] * model4_final.predict_proba(test[model4_feats]) +\n",
    "                results_df['model_5'][0] * model5_final.predict_proba(test[model5_feats]) +\n",
    "                results_df['model_6'][0] * model6_final.predict_proba(test[model6_feats])\n",
    "                 )\n",
    "\n",
    "ensemble_df = pd.DataFrame(ensemble_pred)\n",
    "\n",
    "# If all models predict 0, instead of getting NaN, fill in 0\n",
    "ensemble_df = ensemble_df.div(ensemble_df.sum(axis=1), axis=0).fillna(0)\n",
    "ensemble_df.columns = label_encoder.classes_"
   ]
  },
  {
   "cell_type": "code",
   "execution_count": null,
   "metadata": {},
   "outputs": [],
   "source": [
    "ensemble_df.head()"
   ]
  },
  {
   "cell_type": "code",
   "execution_count": null,
   "metadata": {},
   "outputs": [],
   "source": [
    "submission = pd.read_csv('sample_submission.csv')\n",
    "submission_df = pd.concat([submission['id'], ensemble_df], axis=1)\n",
    "submission_df.head()"
   ]
  },
  {
   "cell_type": "code",
   "execution_count": null,
   "metadata": {},
   "outputs": [],
   "source": [
    "submission_df.to_csv('submission_ensemble_3fold_0.900483.csv', index=False)"
   ]
  },
  {
   "cell_type": "markdown",
   "metadata": {},
   "source": [
    "# Get submission (Stacking)"
   ]
  },
  {
   "cell_type": "code",
   "execution_count": null,
   "metadata": {},
   "outputs": [],
   "source": [
    "%%time\n",
    "\n",
    "from sklearn.ensemble import StackingClassifier\n",
    "from sklearn.model_selection import cross_val_score, train_test_split\n",
    "from sklearn.linear_model import LogisticRegression\n",
    "from sklearn.metrics import roc_auc_score\n",
    "from sklearn.preprocessing import label_binarize\n",
    "from sklearn.multiclass import OneVsRestClassifier\n",
    "import numpy as np\n",
    "\n",
    "\n",
    "roc_auc_scores = []\n",
    "\n",
    "# Define the base models\n",
    "base_models = [\n",
    "    ('model1', model1_final),\n",
    "    ('model2', model2_final),\n",
    "    ('model3', model3_final),\n",
    "    ('model4', model4_final),\n",
    "    ('model5', model5_final),\n",
    "    ('model6', model6_final)\n",
    "]\n",
    "\n",
    "# Initialize the Stacking Classifier with LogisticRegression as the final estimator\n",
    "final_estimator = LogisticRegression(max_iter=1000, multi_class='multinomial', solver='lbfgs')\n",
    "# final_estimator = LGBMClassifier(n_jobs=-1, random_state=5)\n",
    "# final_estimator = XGBClassifier(random_state=5)\n",
    "# final_estimator = RandomForestClassifier(random_state=5)\n",
    "# final_estimator = ExtraTreesClassifier(random_state=5)\n",
    "# final_estimator = HistGradientBoostingClassifier(random_state=5)\n",
    "# final_estimator = CatBoostClassifier(random_state=5, verbose=False, early_stopping_rounds=100)\n",
    "\n",
    "stacking_clf = StackingClassifier(estimators=base_models, final_estimator=final_estimator, passthrough=False, cv=3)\n",
    "\n",
    "for i, (train_index, test_index) in enumerate(sk10.split(X, y)):\n",
    "    X_train, X_test = X.iloc[train_index], X.iloc[test_index]\n",
    "    y_train, y_test = y.iloc[train_index], y.iloc[test_index]\n",
    "\n",
    "    stacking_clf.fit(X_train, y_train)\n",
    "    y_pred = stacking_clf.predict_proba(X_test)\n",
    "\n",
    "    # Assuming your classes are 0, 1, 2, etc., adjust as necessary\n",
    "    y_test_binarized = label_binarize(y_test, classes=np.unique(y))\n",
    "    roc_auc = roc_auc_score(y_test_binarized, y_pred, multi_class='ovr')\n",
    "\n",
    "    roc_auc_scores.append(roc_auc)\n",
    "\n",
    "    print(f'Done with fold {i+1}.')\n",
    "    \n",
    "print(f'The average stacking score is {np.mean(roc_auc_scores)}')"
   ]
  },
  {
   "cell_type": "markdown",
   "metadata": {},
   "source": [
    "- Logistic Reg - 0.886778\n",
    "- LGBM - 0.885863\n",
    "- XGB - 0.881636\n",
    "- RF - 0.883835\n",
    "- ET - 0.884523\n",
    "- Hist - 0.886572\n",
    "- Cat - 0.886183"
   ]
  },
  {
   "cell_type": "code",
   "execution_count": null,
   "metadata": {},
   "outputs": [],
   "source": [
    "# Predictions on unseen test data\n",
    "y_test_pred = stacking_clf.predict_proba(test)\n",
    "\n",
    "stacking_df = pd.DataFrame(y_test_pred)\n",
    "\n",
    "ensemble_df.head()"
   ]
  },
  {
   "cell_type": "code",
   "execution_count": null,
   "metadata": {},
   "outputs": [],
   "source": [
    "%%time\n",
    "\n",
    "model1_results, model2_results, model3_results, model4_results, model5_results, model6_results, y_test_list = [], [], [], [], [], [], []\n",
    "\n",
    "# # Placeholder for OOF predictions for each model\n",
    "# # Assuming you have a dataset with N samples\n",
    "# N = len(y)  # y_train is your target variable array\n",
    "# oof_preds1 = np.zeros((N, 1))\n",
    "# oof_preds2 = np.zeros((N, 1))\n",
    "# oof_preds3 = np.zeros((N, 1))\n",
    "# oof_preds4 = np.zeros((N, 1))\n",
    "# oof_preds5 = np.zeros((N, 1))\n",
    "# oof_preds6 = np.zeros((N, 1))\n",
    "\n",
    "# # Similarly, for test predictions, accumulate them over folds\n",
    "# # Assuming you have a test set with M samples\n",
    "# M = len(test)  # x_test needs to be defined by you\n",
    "# test_preds1 = np.zeros((M, 1))\n",
    "# test_preds2 = np.zeros((M, 1))\n",
    "# test_preds3 = np.zeros((M, 1))\n",
    "# test_preds4 = np.zeros((M, 1))\n",
    "# test_preds5 = np.zeros((M, 1))\n",
    "# test_preds6 = np.zeros((M, 1))\n",
    "\n",
    "target_length = len(y)\n",
    "no_classes = len(np.unique(y))\n",
    "test_length = len(test)\n",
    "\n",
    "# Initialize arrays for OOF and test predictions with dimensions for multiclass for each model\n",
    "lgbm_oof_preds = np.zeros((target_length, no_classes))\n",
    "lgbm_test_preds = np.zeros((test_length, no_classes))\n",
    "\n",
    "xgb_oof_preds = np.zeros((target_length, no_classes))\n",
    "xgb_test_preds = np.zeros((test_length, no_classes))\n",
    "\n",
    "rf_oof_preds = np.zeros((target_length, no_classes))\n",
    "rf_test_preds = np.zeros((test_length, no_classes))\n",
    "\n",
    "extrat_oof_preds = np.zeros((target_length, no_classes))\n",
    "extrat_test_preds = np.zeros((test_length, no_classes))\n",
    "\n",
    "hist_oof_preds = np.zeros((target_length, no_classes))\n",
    "hist_test_preds = np.zeros((test_length, no_classes))\n",
    "\n",
    "cat_oof_preds = np.zeros((target_length, no_classes))\n",
    "cat_test_preds = np.zeros((test_length, no_classes))\n",
    "\n",
    "X_lgbm = X[model1_feats]\n",
    "X_xgb = X[model2_feats]\n",
    "X_rf = X[model3_feats]\n",
    "X_extrat = X[model4_feats]\n",
    "X_hist = X[model5_feats]\n",
    "X_cat = X[model6_feats]\n"
   ]
  },
  {
   "cell_type": "code",
   "execution_count": null,
   "metadata": {},
   "outputs": [],
   "source": [
    "\n",
    "for i, (train_index, test_index) in enumerate(sk10.split(X, y)):\n",
    "\n",
    "    # Placeholder arrays for the fold's predicition\n",
    "    fold_oof_preds_lgbm = np.zeros((len(test_index), no_classes))\n",
    "    fold_test_preds_lgbm = np.zeros((test_length, no_classes))\n",
    "\n",
    "    fold_oof_preds_xgb = np.zeros((len(test_index), no_classes))\n",
    "    fold_test_preds_xgb = np.zeros((test_length, no_classes))\n",
    "\n",
    "    fold_oof_preds_rf = np.zeros((len(test_index), no_classes))\n",
    "    fold_test_preds_rf = np.zeros((test_length, no_classes))\n",
    "\n",
    "    fold_oof_preds_extrat = np.zeros((len(test_index), no_classes))\n",
    "    fold_test_preds_extrat = np.zeros((test_length, no_classes))\n",
    "\n",
    "    fold_oof_preds_hist = np.zeros((len(test_index), no_classes))\n",
    "    fold_test_preds_hist = np.zeros((test_length, no_classes))\n",
    "\n",
    "    fold_oof_preds_cat = np.zeros((len(test_index), no_classes))\n",
    "    fold_test_preds_cat = np.zeros((test_length, no_classes))\n",
    "\n",
    "    # Get each models train and test for X and y\n",
    "    X_train_lgbm, X_test_lgbm = X_lgbm.iloc[train_index], X_lgbm.iloc[test_index]\n",
    "    X_train_xgb, X_test_xgb = X_xgb.iloc[train_index], X_xgb.iloc[test_index]\n",
    "    X_train_rf, X_test_rf = X_rf.iloc[train_index], X_rf.iloc[test_index]\n",
    "    X_train_extrat, X_test_extrat = X_extrat.iloc[train_index], X_extrat.iloc[test_index]\n",
    "    X_train_hist, X_test_hist = X_hist.iloc[train_index], X_hist.iloc[test_index]\n",
    "    X_train_cat, X_test_cat = X_cat.iloc[train_index], X_cat.iloc[test_index]\n",
    "    y_train, y_test = y.iloc[train_index], y.iloc[test_index]\n",
    "\n",
    "    ########\n",
    "    # LGBM #\n",
    "    ########\n",
    "    model1.fit(X_train_lgbm, y_train)\n",
    "    fold_oof_preds_lgbm = model1.predict_proba(X_test_lgbm)\n",
    "\n",
    "    # Update the OOF prediction for this fold\n",
    "    lgbm_oof_preds[test_index] = fold_oof_preds_lgbm\n",
    "\n",
    "    # Predict on the test set and accumulate predictions\n",
    "    fold_test_preds_lgbm += model1.predict_proba(test.loc[:, model1_feats]) / sk10.n_splits\n",
    "\n",
    "    lgbm_test_preds += fold_test_preds_lgbm\n",
    "\n",
    "\n",
    "    ###########\n",
    "    # XGBOOST #\n",
    "    ###########\n",
    "    model2.fit(X_train_xgb, y_train)\n",
    "    fold_oof_preds_xgb = model2.predict_proba(X_test_xgb)\n",
    "\n",
    "    # Update the OOF prediction for this fold\n",
    "    xgb_oof_preds[test_index] = fold_oof_preds_xgb\n",
    "\n",
    "    # Predict on the test set and accumulate predictions\n",
    "    fold_test_preds_xgb += model2.predict_proba(test.loc[:, model2_feats]) / sk10.n_splits\n",
    "\n",
    "    xgb_test_preds += fold_test_preds_xgb\n",
    "\n",
    "\n",
    "    #################\n",
    "    # RANDOM FOREST #\n",
    "    #################\n",
    "    model3.fit(X_train_rf, y_train)\n",
    "    fold_oof_preds_rf = model3.predict_proba(X_test_rf)\n",
    "\n",
    "    # Update the OOF prediction for this fold\n",
    "    rf_oof_preds[test_index] = fold_oof_preds_rf\n",
    "\n",
    "    # Predict on the test set and accumulate predictions\n",
    "    fold_test_preds_rf += model3.predict_proba(test.loc[:, model3_feats]) / sk10.n_splits\n",
    "\n",
    "    rf_test_preds += fold_test_preds_rf\n",
    "\n",
    "    \n",
    "    ###############\n",
    "    # EXTRA TREES #\n",
    "    ###############\n",
    "    model4.fit(X_train_extrat, y_train)\n",
    "    fold_oof_preds_extrat = model4.predict_proba(X_test_extrat)\n",
    "\n",
    "    # Update the OOF prediction for this fold\n",
    "    extrat_oof_preds[test_index] = fold_oof_preds_extrat\n",
    "\n",
    "    # Predict on the test set and accumulate predictions\n",
    "    fold_test_preds_extrat += model4.predict_proba(test.loc[:, model4_feats]) / sk10.n_splits\n",
    "\n",
    "    extrat_test_preds += fold_test_preds_extrat\n",
    "\n",
    "\n",
    "    #################\n",
    "    # HIST GRADIENT #\n",
    "    #################\n",
    "    model5.fit(X_train_hist, y_train)\n",
    "    fold_oof_preds_hist = model5.predict_proba(X_test_hist)\n",
    "\n",
    "    # Update the OOF prediction for this fold\n",
    "    hist_oof_preds[test_index] = fold_oof_preds_hist\n",
    "\n",
    "    # Predict on the test set and accumulate predictions\n",
    "    fold_test_preds_hist += model5.predict_proba(test.loc[:, model5_feats]) / sk10.n_splits\n",
    "\n",
    "    hist_test_preds += fold_test_preds_hist\n",
    "\n",
    "\n",
    "    ############\n",
    "    # CATBOOST #\n",
    "    ############\n",
    "    model6.fit(X_train_cat, y_train)\n",
    "    fold_oof_preds_cat = model6.predict_proba(X_test_cat)\n",
    "\n",
    "    # Update the OOF prediction for this fold\n",
    "    cat_oof_preds[test_index] = fold_oof_preds_cat\n",
    "\n",
    "    # Predict on the test set and accumulate predictions\n",
    "    fold_test_preds_cat += model6.predict_proba(test.loc[:, model6_feats]) / sk10.n_splits\n",
    "\n",
    "    cat_test_preds += fold_test_preds_cat\n",
    "    # y_test_list.append(y_test)\n",
    "\n",
    "    print(f'Done with fold {i+1}.')"
   ]
  },
  {
   "cell_type": "code",
   "execution_count": null,
   "metadata": {},
   "outputs": [],
   "source": [
    "# roc_auc_scores = [roc_auc_score((y == class_id).astype(int), oof_preds[:, class_id], multi_class='ovr') for class_id in range(no_classes)]\n",
    "lgbm_roc_auc = roc_auc_score(y, lgbm_oof_preds, multi_class='ovr', average='macro')\n",
    "print(\"Average LGBM ROC AUC Score:\", lgbm_roc_auc)\n",
    "\n",
    "xgb_roc_auc = roc_auc_score(y, xgb_oof_preds, multi_class='ovr', average='macro')\n",
    "print(\"Average XGBoost ROC AUC Score:\", xgb_roc_auc)\n",
    "\n",
    "rf_roc_auc = roc_auc_score(y, rf_oof_preds, multi_class='ovr', average='macro')\n",
    "print(\"Average Random Forest ROC AUC Score:\", rf_roc_auc)\n",
    "\n",
    "extrat_roc_auc = roc_auc_score(y, extrat_oof_preds, multi_class='ovr', average='macro')\n",
    "print(\"Average Extra Trees ROC AUC Score:\", extrat_roc_auc)\n",
    "\n",
    "hist_roc_auc = roc_auc_score(y, hist_oof_preds, multi_class='ovr', average='macro')\n",
    "print(\"Average Hist Gradient ROC AUC Score:\", hist_roc_auc)\n",
    "\n",
    "cat_roc_auc = roc_auc_score(y, cat_oof_preds, multi_class='ovr', average='macro')\n",
    "print(\"Average CatBoost ROC AUC Score:\", cat_roc_auc)\n",
    "\n",
    "# 0.89369590207664\n",
    "# 0.00201442835387733\n",
    "# 0.886778 - StackingClassifier"
   ]
  },
  {
   "cell_type": "code",
   "execution_count": null,
   "metadata": {},
   "outputs": [],
   "source": [
    "from sklearn.linear_model import LogisticRegression\n",
    "\n",
    "# After running the fitting and prediction with the first level of machine learning models\n",
    "x_train = np.concatenate(( lgbm_oof_preds, xgb_oof_preds, rf_oof_preds, extrat_oof_preds, hist_oof_preds, cat_oof_preds), axis=1)\n",
    "test_stack = np.concatenate(( lgbm_test_preds, xgb_test_preds, rf_test_preds, extrat_test_preds, hist_test_preds, cat_test_preds), axis=1)\n",
    "\n",
    "# Assuming the second-level stacking is to be done with XGboost (pre-tuned). Yes! You can tune second-level stack\n",
    "\n",
    "stacking_estimator = LogisticRegression(max_iter=1000, multi_class='multinomial', solver='lbfgs')\n",
    "\n",
    "xgb = stacking_estimator.fit(x_train, y)\n",
    "final_predictions = xgb.predict_proba(test_stack)"
   ]
  },
  {
   "cell_type": "code",
   "execution_count": null,
   "metadata": {},
   "outputs": [],
   "source": [
    "oof_preds = np.zeros((x_train.shape[0], no_classes))\n",
    "test_preds = np.zeros(test_stack.shape[0])\n",
    "\n",
    "for i, (train_index, test_index) in enumerate(sk10.split(x_train, y)):\n",
    "    X_train, X_test = x_train[train_index], x_train[test_index]\n",
    "    y_train, y_test = y.iloc[train_index], y.iloc[test_index]\n",
    "\n",
    "    model2.fit(X_train, y_train)\n",
    "    y_pred = model2.predict_proba(X_test)\n",
    "\n",
    "    # Assign predictions for this fold to the appropriate indices in oof_preds\n",
    "    oof_preds[test_index, :] = y_pred\n",
    "    \n",
    "    print(f'Done with fold {i+1}.')\n",
    "\n",
    "# Calculate ROC AUC on the OOF predictions\n",
    "roc_auc = roc_auc_score(y, oof_preds, multi_class='ovr', average='macro')\n",
    "print(f'The stacking score is {roc_auc}')"
   ]
  },
  {
   "cell_type": "markdown",
   "metadata": {},
   "source": [
    "- Logistic Reg - 0.8883102077923056\n",
    "- LGBM - 0.8880225088607244\n",
    "- XGB - 0.8846028966376445\n",
    "- RF - \n",
    "- ET - \n",
    "- Hist - \n",
    "- Cat - "
   ]
  },
  {
   "cell_type": "code",
   "execution_count": null,
   "metadata": {},
   "outputs": [],
   "source": [
    "final_predictions_df = pd.DataFrame(final_predictions)\n",
    "final_predictions_df.columns = label_encoder.classes_"
   ]
  },
  {
   "cell_type": "code",
   "execution_count": null,
   "metadata": {},
   "outputs": [],
   "source": [
    "submission = pd.read_csv('sample_submission.csv')\n",
    "submission_df = pd.concat([submission['id'], final_predictions_df], axis=1)\n",
    "submission_df.head()"
   ]
  },
  {
   "cell_type": "code",
   "execution_count": null,
   "metadata": {},
   "outputs": [],
   "source": [
    "submission_df.to_csv('submission_stacking_3fold_0.88831.csv', index=False)"
   ]
  }
 ],
 "metadata": {
  "kernelspec": {
   "display_name": "Python 3",
   "language": "python",
   "name": "python3"
  },
  "language_info": {
   "codemirror_mode": {
    "name": "ipython",
    "version": 3
   },
   "file_extension": ".py",
   "mimetype": "text/x-python",
   "name": "python",
   "nbconvert_exporter": "python",
   "pygments_lexer": "ipython3",
   "version": "3.10.2"
  }
 },
 "nbformat": 4,
 "nbformat_minor": 2
}
